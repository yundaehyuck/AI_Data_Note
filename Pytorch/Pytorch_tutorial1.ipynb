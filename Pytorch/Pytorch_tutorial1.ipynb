{
  "nbformat": 4,
  "nbformat_minor": 0,
  "metadata": {
    "colab": {
      "provenance": []
    },
    "kernelspec": {
      "name": "python3",
      "display_name": "Python 3"
    },
    "language_info": {
      "name": "python"
    }
  },
  "cells": [
    {
      "cell_type": "markdown",
      "source": [
        "# create tensor\n",
        "\n",
        "numpy array를 받아서, torch.FloatTensor()로 float tensor로 바꿔줌"
      ],
      "metadata": {
        "id": "1sZBG27sY7kI"
      }
    },
    {
      "cell_type": "code",
      "execution_count": 1,
      "metadata": {
        "colab": {
          "base_uri": "https://localhost:8080/"
        },
        "id": "J7yA5j3VY2DU",
        "outputId": "f2d4715a-446a-41ca-eb9a-3a8d6dfba844"
      },
      "outputs": [
        {
          "output_type": "execute_result",
          "data": {
            "text/plain": [
              "array([[0, 1, 2, 3, 4],\n",
              "       [5, 6, 7, 8, 9]])"
            ]
          },
          "metadata": {},
          "execution_count": 1
        }
      ],
      "source": [
        "#numpy array 생성\n",
        "\n",
        "import numpy as np\n",
        "\n",
        "n_array = np.arange(10).reshape(2,5)\n",
        "n_array"
      ]
    },
    {
      "cell_type": "code",
      "source": [
        "#tensor 생성\n",
        "\n",
        "import torch #보통 별칭을 사용하지 않음\n",
        "\n",
        "tensor = torch.FloatTensor(n_array)\n",
        "tensor"
      ],
      "metadata": {
        "colab": {
          "base_uri": "https://localhost:8080/"
        },
        "id": "vDkH7xdVZMFW",
        "outputId": "b5734d67-8346-41de-a157-08459bd77bfb"
      },
      "execution_count": 2,
      "outputs": [
        {
          "output_type": "execute_result",
          "data": {
            "text/plain": [
              "tensor([[0., 1., 2., 3., 4.],\n",
              "        [5., 6., 7., 8., 9.]])"
            ]
          },
          "metadata": {},
          "execution_count": 2
        }
      ]
    },
    {
      "cell_type": "code",
      "source": [],
      "metadata": {
        "id": "tkmgRmYlZX_x"
      },
      "execution_count": null,
      "outputs": []
    },
    {
      "cell_type": "markdown",
      "source": [
        "# size()\n",
        "\n",
        "tensor의 shape를 나타냄"
      ],
      "metadata": {
        "id": "lSKqQnm3ZseQ"
      }
    },
    {
      "cell_type": "code",
      "source": [
        "n_array.size #numpy에서는 데이터의 수"
      ],
      "metadata": {
        "colab": {
          "base_uri": "https://localhost:8080/"
        },
        "id": "dzUsTcMwZufn",
        "outputId": "6d8397b0-7957-4855-f681-585fbcf29e0e"
      },
      "execution_count": 4,
      "outputs": [
        {
          "output_type": "execute_result",
          "data": {
            "text/plain": [
              "10"
            ]
          },
          "metadata": {},
          "execution_count": 4
        }
      ]
    },
    {
      "cell_type": "code",
      "source": [
        "tensor.size() #pytorch에서는 shape"
      ],
      "metadata": {
        "colab": {
          "base_uri": "https://localhost:8080/"
        },
        "id": "xunj_zDlZxx9",
        "outputId": "74b3f38b-51e9-47f0-e3bf-8422d151ff5c"
      },
      "execution_count": 5,
      "outputs": [
        {
          "output_type": "execute_result",
          "data": {
            "text/plain": [
              "torch.Size([2, 5])"
            ]
          },
          "metadata": {},
          "execution_count": 5
        }
      ]
    },
    {
      "cell_type": "code",
      "source": [
        "n_array.shape"
      ],
      "metadata": {
        "colab": {
          "base_uri": "https://localhost:8080/"
        },
        "id": "gvjHAyyrZ3Xr",
        "outputId": "b933c357-ca66-43ee-decc-9c7dbf1707fb"
      },
      "execution_count": 6,
      "outputs": [
        {
          "output_type": "execute_result",
          "data": {
            "text/plain": [
              "(2, 5)"
            ]
          },
          "metadata": {},
          "execution_count": 6
        }
      ]
    },
    {
      "cell_type": "code",
      "source": [
        "tensor.shape #pytorch에서 shape도 가능"
      ],
      "metadata": {
        "colab": {
          "base_uri": "https://localhost:8080/"
        },
        "id": "ikOgBzhgZ8wT",
        "outputId": "7010f6dd-d9e6-44f7-a5d6-9d25f2eff0fc"
      },
      "execution_count": 7,
      "outputs": [
        {
          "output_type": "execute_result",
          "data": {
            "text/plain": [
              "torch.Size([2, 5])"
            ]
          },
          "metadata": {},
          "execution_count": 7
        }
      ]
    },
    {
      "cell_type": "code",
      "source": [],
      "metadata": {
        "id": "7veOzTuvaG-y"
      },
      "execution_count": null,
      "outputs": []
    },
    {
      "cell_type": "markdown",
      "source": [
        "# dim\n",
        "\n",
        "numpy의 axis연산이 pytorch에서는 dim으로 이루어짐"
      ],
      "metadata": {
        "id": "McBgJ36GaXP7"
      }
    },
    {
      "cell_type": "code",
      "source": [
        "n1 = np.arange(10).reshape(5,2)\n",
        "n1"
      ],
      "metadata": {
        "colab": {
          "base_uri": "https://localhost:8080/"
        },
        "id": "8SFvxbpfaa1z",
        "outputId": "13727886-393d-4fd2-d7c1-c0359c63d109"
      },
      "execution_count": 8,
      "outputs": [
        {
          "output_type": "execute_result",
          "data": {
            "text/plain": [
              "array([[0, 1],\n",
              "       [2, 3],\n",
              "       [4, 5],\n",
              "       [6, 7],\n",
              "       [8, 9]])"
            ]
          },
          "metadata": {},
          "execution_count": 8
        }
      ]
    },
    {
      "cell_type": "code",
      "source": [
        "t1 = torch.FloatTensor(n1)\n",
        "t1"
      ],
      "metadata": {
        "colab": {
          "base_uri": "https://localhost:8080/"
        },
        "id": "2b_i7bHIaiZK",
        "outputId": "5c7d2852-96a1-41e3-f757-45a2760993aa"
      },
      "execution_count": 9,
      "outputs": [
        {
          "output_type": "execute_result",
          "data": {
            "text/plain": [
              "tensor([[0., 1.],\n",
              "        [2., 3.],\n",
              "        [4., 5.],\n",
              "        [6., 7.],\n",
              "        [8., 9.]])"
            ]
          },
          "metadata": {},
          "execution_count": 9
        }
      ]
    },
    {
      "cell_type": "code",
      "source": [
        "#각 열별 평균\n",
        "t1.mean(dim=0)"
      ],
      "metadata": {
        "colab": {
          "base_uri": "https://localhost:8080/"
        },
        "id": "F9l562A6alV9",
        "outputId": "3464eecd-41ae-47bf-d2b6-23caa5795359"
      },
      "execution_count": 10,
      "outputs": [
        {
          "output_type": "execute_result",
          "data": {
            "text/plain": [
              "tensor([4., 5.])"
            ]
          },
          "metadata": {},
          "execution_count": 10
        }
      ]
    },
    {
      "cell_type": "code",
      "source": [
        "#각 행별 평균\n",
        "t1.mean(dim=1)"
      ],
      "metadata": {
        "colab": {
          "base_uri": "https://localhost:8080/"
        },
        "id": "b4pjfbLvanJ3",
        "outputId": "38f49f37-168c-4b13-af95-d97e988b4814"
      },
      "execution_count": 11,
      "outputs": [
        {
          "output_type": "execute_result",
          "data": {
            "text/plain": [
              "tensor([0.5000, 2.5000, 4.5000, 6.5000, 8.5000])"
            ]
          },
          "metadata": {},
          "execution_count": 11
        }
      ]
    },
    {
      "cell_type": "code",
      "source": [],
      "metadata": {
        "id": "BPo9-qCzaoak"
      },
      "execution_count": null,
      "outputs": []
    },
    {
      "cell_type": "markdown",
      "source": [
        "# view\n",
        "\n",
        "numpy의 reshape 연산은 array의 shape를 바꿔주는데.. pytorch에서는 view가 이 역할을 함"
      ],
      "metadata": {
        "id": "F0j8rbysbLHD"
      }
    },
    {
      "cell_type": "code",
      "source": [
        "n1 = np.arange(10)\n",
        "n1"
      ],
      "metadata": {
        "colab": {
          "base_uri": "https://localhost:8080/"
        },
        "id": "5fa-riD4bOBM",
        "outputId": "c8e5f18a-d867-4434-d93b-fab395dc0521"
      },
      "execution_count": 13,
      "outputs": [
        {
          "output_type": "execute_result",
          "data": {
            "text/plain": [
              "array([0, 1, 2, 3, 4, 5, 6, 7, 8, 9])"
            ]
          },
          "metadata": {},
          "execution_count": 13
        }
      ]
    },
    {
      "cell_type": "code",
      "source": [
        "t1 = torch.FloatTensor(n1)\n",
        "t1"
      ],
      "metadata": {
        "colab": {
          "base_uri": "https://localhost:8080/"
        },
        "id": "YAKu8WQKbQ0F",
        "outputId": "28d025fd-6306-417d-efad-9bd72ca4c3b1"
      },
      "execution_count": 14,
      "outputs": [
        {
          "output_type": "execute_result",
          "data": {
            "text/plain": [
              "tensor([0., 1., 2., 3., 4., 5., 6., 7., 8., 9.])"
            ]
          },
          "metadata": {},
          "execution_count": 14
        }
      ]
    },
    {
      "cell_type": "code",
      "source": [
        "t1.size()"
      ],
      "metadata": {
        "colab": {
          "base_uri": "https://localhost:8080/"
        },
        "id": "PbMdX595bWMh",
        "outputId": "dab2e692-ffe0-4587-e75e-f06d46e9684e"
      },
      "execution_count": 20,
      "outputs": [
        {
          "output_type": "execute_result",
          "data": {
            "text/plain": [
              "torch.Size([10])"
            ]
          },
          "metadata": {},
          "execution_count": 20
        }
      ]
    },
    {
      "cell_type": "code",
      "source": [
        "#1번째 차원을 2로 하고..\n",
        "#0번째 차원을 -1로 함\n",
        "#-1로 하면, 적당한 값을 자동으로 잡아줌.\n",
        "\n",
        "#a * 2 = 10이 되어야 하니, -1에는 5가 들어감\n",
        "\n",
        "t1.view(-1,2)"
      ],
      "metadata": {
        "colab": {
          "base_uri": "https://localhost:8080/"
        },
        "id": "iqZjuTEJbTp_",
        "outputId": "35e88d3d-76e0-43a8-8d6c-1ec73c1bc8dd"
      },
      "execution_count": 15,
      "outputs": [
        {
          "output_type": "execute_result",
          "data": {
            "text/plain": [
              "tensor([[0., 1.],\n",
              "        [2., 3.],\n",
              "        [4., 5.],\n",
              "        [6., 7.],\n",
              "        [8., 9.]])"
            ]
          },
          "metadata": {},
          "execution_count": 15
        }
      ]
    },
    {
      "cell_type": "code",
      "source": [],
      "metadata": {
        "id": "wKzuJr-UbUxr"
      },
      "execution_count": null,
      "outputs": []
    },
    {
      "cell_type": "markdown",
      "source": [
        "# squeeze, unsqueeze\n",
        "\n",
        "squeeze()는 rank를 줄이고, unsqueeze()는 rank를 늘려줌"
      ],
      "metadata": {
        "id": "2ZQnnaKJb8wK"
      }
    },
    {
      "cell_type": "code",
      "source": [
        "t1"
      ],
      "metadata": {
        "colab": {
          "base_uri": "https://localhost:8080/"
        },
        "id": "JIMdKOsvcHYS",
        "outputId": "9ebbdc68-cdb2-4717-f120-d57ec0ee2e62"
      },
      "execution_count": 21,
      "outputs": [
        {
          "output_type": "execute_result",
          "data": {
            "text/plain": [
              "tensor([0., 1., 2., 3., 4., 5., 6., 7., 8., 9.])"
            ]
          },
          "metadata": {},
          "execution_count": 21
        }
      ]
    },
    {
      "cell_type": "code",
      "source": [
        "t1.shape"
      ],
      "metadata": {
        "colab": {
          "base_uri": "https://localhost:8080/"
        },
        "id": "CQ7onT6-cexu",
        "outputId": "a02bd0f4-8590-445b-d3a4-45230ab74eae"
      },
      "execution_count": 28,
      "outputs": [
        {
          "output_type": "execute_result",
          "data": {
            "text/plain": [
              "torch.Size([10])"
            ]
          },
          "metadata": {},
          "execution_count": 28
        }
      ]
    },
    {
      "cell_type": "markdown",
      "source": [
        "unsqueeze시키면, 차원이 늘어남"
      ],
      "metadata": {
        "id": "RD2mjQ5vdVIS"
      }
    },
    {
      "cell_type": "code",
      "source": [
        "t1.unsqueeze(dim=0)"
      ],
      "metadata": {
        "colab": {
          "base_uri": "https://localhost:8080/"
        },
        "id": "Q9-K-u0CcPlx",
        "outputId": "fa808087-41ee-457f-f3e7-e48c9f47ffed"
      },
      "execution_count": 27,
      "outputs": [
        {
          "output_type": "execute_result",
          "data": {
            "text/plain": [
              "tensor([[0., 1., 2., 3., 4., 5., 6., 7., 8., 9.]])"
            ]
          },
          "metadata": {},
          "execution_count": 27
        }
      ]
    },
    {
      "cell_type": "code",
      "source": [
        "t1.unsqueeze(dim=0).shape"
      ],
      "metadata": {
        "colab": {
          "base_uri": "https://localhost:8080/"
        },
        "id": "Mu3IKMxech-O",
        "outputId": "bc873e76-a748-474b-d99b-5d60291ea2a6"
      },
      "execution_count": 30,
      "outputs": [
        {
          "output_type": "execute_result",
          "data": {
            "text/plain": [
              "torch.Size([1, 10])"
            ]
          },
          "metadata": {},
          "execution_count": 30
        }
      ]
    },
    {
      "cell_type": "code",
      "source": [
        "t1.unsqueeze(dim=1)"
      ],
      "metadata": {
        "colab": {
          "base_uri": "https://localhost:8080/"
        },
        "id": "6GXFI7cNcRZ6",
        "outputId": "9ea1b36d-e6e2-4657-97f5-d282856dcca1"
      },
      "execution_count": 25,
      "outputs": [
        {
          "output_type": "execute_result",
          "data": {
            "text/plain": [
              "tensor([[0.],\n",
              "        [1.],\n",
              "        [2.],\n",
              "        [3.],\n",
              "        [4.],\n",
              "        [5.],\n",
              "        [6.],\n",
              "        [7.],\n",
              "        [8.],\n",
              "        [9.]])"
            ]
          },
          "metadata": {},
          "execution_count": 25
        }
      ]
    },
    {
      "cell_type": "code",
      "source": [
        "t1.unsqueeze(dim=1).shape"
      ],
      "metadata": {
        "colab": {
          "base_uri": "https://localhost:8080/"
        },
        "id": "myT107QYcVbG",
        "outputId": "4ab7be3a-ccc7-416d-c293-a1bdd544ebb0"
      },
      "execution_count": 31,
      "outputs": [
        {
          "output_type": "execute_result",
          "data": {
            "text/plain": [
              "torch.Size([10, 1])"
            ]
          },
          "metadata": {},
          "execution_count": 31
        }
      ]
    },
    {
      "cell_type": "markdown",
      "source": [
        "unsqueeze된 tensor를 squeeze하면, 차원이 감소"
      ],
      "metadata": {
        "id": "igE2qnVVdX_f"
      }
    },
    {
      "cell_type": "code",
      "source": [
        "t1.unsqueeze(dim=1).squeeze()"
      ],
      "metadata": {
        "colab": {
          "base_uri": "https://localhost:8080/"
        },
        "id": "0GYzbR4-clp5",
        "outputId": "9889540b-47c7-4b6c-c95a-ac75df375248"
      },
      "execution_count": 32,
      "outputs": [
        {
          "output_type": "execute_result",
          "data": {
            "text/plain": [
              "tensor([0., 1., 2., 3., 4., 5., 6., 7., 8., 9.])"
            ]
          },
          "metadata": {},
          "execution_count": 32
        }
      ]
    },
    {
      "cell_type": "code",
      "source": [
        "t1.unsqueeze(dim=0).squeeze()"
      ],
      "metadata": {
        "colab": {
          "base_uri": "https://localhost:8080/"
        },
        "id": "eXJLVLeMdF3g",
        "outputId": "9d03e92f-b6b8-43f0-8c5f-879609aed88e"
      },
      "execution_count": 33,
      "outputs": [
        {
          "output_type": "execute_result",
          "data": {
            "text/plain": [
              "tensor([0., 1., 2., 3., 4., 5., 6., 7., 8., 9.])"
            ]
          },
          "metadata": {},
          "execution_count": 33
        }
      ]
    },
    {
      "cell_type": "code",
      "source": [],
      "metadata": {
        "id": "-4f0_-TtdJMP"
      },
      "execution_count": null,
      "outputs": []
    },
    {
      "cell_type": "markdown",
      "source": [
        "# auto differentiation\n",
        "\n",
        "자동 미분을 지원함\n",
        "\n",
        "$z=2w^{2}+5$를 w로 미분하고, f'(2)를 구함"
      ],
      "metadata": {
        "id": "RdBwm3etdcF8"
      }
    },
    {
      "cell_type": "code",
      "source": [
        "#w에 대한 다른 변수의 미분을 구할려면, requires_grad=True로 해줘야함\n",
        "w = torch.tensor(2.0,requires_grad=True)\n",
        "\n",
        "y = w**2\n",
        "\n",
        "z = 2*y + 5"
      ],
      "metadata": {
        "id": "lDNe641RdgTq"
      },
      "execution_count": 34,
      "outputs": []
    },
    {
      "cell_type": "code",
      "source": [
        "#z를 w로 미분함\n",
        "\n",
        "z.backward()"
      ],
      "metadata": {
        "id": "6sf04P7NdsCD"
      },
      "execution_count": 35,
      "outputs": []
    },
    {
      "cell_type": "code",
      "source": [
        "w.grad"
      ],
      "metadata": {
        "colab": {
          "base_uri": "https://localhost:8080/"
        },
        "id": "2l2eWmMmdwA0",
        "outputId": "b1eaf0dc-86b6-4e24-a3a1-e6ac8157812a"
      },
      "execution_count": 36,
      "outputs": [
        {
          "output_type": "execute_result",
          "data": {
            "text/plain": [
              "tensor(8.)"
            ]
          },
          "metadata": {},
          "execution_count": 36
        }
      ]
    },
    {
      "cell_type": "code",
      "source": [],
      "metadata": {
        "id": "1buy4fbzdxES"
      },
      "execution_count": null,
      "outputs": []
    }
  ]
}
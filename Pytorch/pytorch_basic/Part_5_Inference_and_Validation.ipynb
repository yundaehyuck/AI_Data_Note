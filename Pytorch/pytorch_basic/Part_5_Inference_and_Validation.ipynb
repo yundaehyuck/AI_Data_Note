{
  "nbformat": 4,
  "nbformat_minor": 0,
  "metadata": {
    "colab": {
      "provenance": []
    },
    "kernelspec": {
      "name": "python3",
      "display_name": "Python 3"
    },
    "language_info": {
      "name": "python"
    },
    "widgets": {
      "application/vnd.jupyter.widget-state+json": {
        "b4bc0ffc56f843db871ed979152d41fc": {
          "model_module": "@jupyter-widgets/controls",
          "model_name": "HBoxModel",
          "model_module_version": "1.5.0",
          "state": {
            "_dom_classes": [],
            "_model_module": "@jupyter-widgets/controls",
            "_model_module_version": "1.5.0",
            "_model_name": "HBoxModel",
            "_view_count": null,
            "_view_module": "@jupyter-widgets/controls",
            "_view_module_version": "1.5.0",
            "_view_name": "HBoxView",
            "box_style": "",
            "children": [
              "IPY_MODEL_258cb34304154db196443452bafa2d63",
              "IPY_MODEL_580933aa6f6d4081aa570683eafbef91",
              "IPY_MODEL_13bd8540308745d0890c407401c01853"
            ],
            "layout": "IPY_MODEL_e6efb5aa8eb14ee0a5df79a21f2e102b"
          }
        },
        "258cb34304154db196443452bafa2d63": {
          "model_module": "@jupyter-widgets/controls",
          "model_name": "HTMLModel",
          "model_module_version": "1.5.0",
          "state": {
            "_dom_classes": [],
            "_model_module": "@jupyter-widgets/controls",
            "_model_module_version": "1.5.0",
            "_model_name": "HTMLModel",
            "_view_count": null,
            "_view_module": "@jupyter-widgets/controls",
            "_view_module_version": "1.5.0",
            "_view_name": "HTMLView",
            "description": "",
            "description_tooltip": null,
            "layout": "IPY_MODEL_3e2f4d31d14b41bd8275c9829e1b36cd",
            "placeholder": "​",
            "style": "IPY_MODEL_b22526bc683149fdb192d83622d69cac",
            "value": "100%"
          }
        },
        "580933aa6f6d4081aa570683eafbef91": {
          "model_module": "@jupyter-widgets/controls",
          "model_name": "FloatProgressModel",
          "model_module_version": "1.5.0",
          "state": {
            "_dom_classes": [],
            "_model_module": "@jupyter-widgets/controls",
            "_model_module_version": "1.5.0",
            "_model_name": "FloatProgressModel",
            "_view_count": null,
            "_view_module": "@jupyter-widgets/controls",
            "_view_module_version": "1.5.0",
            "_view_name": "ProgressView",
            "bar_style": "success",
            "description": "",
            "description_tooltip": null,
            "layout": "IPY_MODEL_58e2dd5b3e4247a09d33c7ff45f39011",
            "max": 30,
            "min": 0,
            "orientation": "horizontal",
            "style": "IPY_MODEL_206c5b29af2446a9a18ee31fcaec533f",
            "value": 30
          }
        },
        "13bd8540308745d0890c407401c01853": {
          "model_module": "@jupyter-widgets/controls",
          "model_name": "HTMLModel",
          "model_module_version": "1.5.0",
          "state": {
            "_dom_classes": [],
            "_model_module": "@jupyter-widgets/controls",
            "_model_module_version": "1.5.0",
            "_model_name": "HTMLModel",
            "_view_count": null,
            "_view_module": "@jupyter-widgets/controls",
            "_view_module_version": "1.5.0",
            "_view_name": "HTMLView",
            "description": "",
            "description_tooltip": null,
            "layout": "IPY_MODEL_6716cec741814774b5bd7b6ca9b03418",
            "placeholder": "​",
            "style": "IPY_MODEL_6b9c5fbbec5748daa5269c861f6d125d",
            "value": " 30/30 [11:35&lt;00:00, 23.49s/it]"
          }
        },
        "e6efb5aa8eb14ee0a5df79a21f2e102b": {
          "model_module": "@jupyter-widgets/base",
          "model_name": "LayoutModel",
          "model_module_version": "1.2.0",
          "state": {
            "_model_module": "@jupyter-widgets/base",
            "_model_module_version": "1.2.0",
            "_model_name": "LayoutModel",
            "_view_count": null,
            "_view_module": "@jupyter-widgets/base",
            "_view_module_version": "1.2.0",
            "_view_name": "LayoutView",
            "align_content": null,
            "align_items": null,
            "align_self": null,
            "border": null,
            "bottom": null,
            "display": null,
            "flex": null,
            "flex_flow": null,
            "grid_area": null,
            "grid_auto_columns": null,
            "grid_auto_flow": null,
            "grid_auto_rows": null,
            "grid_column": null,
            "grid_gap": null,
            "grid_row": null,
            "grid_template_areas": null,
            "grid_template_columns": null,
            "grid_template_rows": null,
            "height": null,
            "justify_content": null,
            "justify_items": null,
            "left": null,
            "margin": null,
            "max_height": null,
            "max_width": null,
            "min_height": null,
            "min_width": null,
            "object_fit": null,
            "object_position": null,
            "order": null,
            "overflow": null,
            "overflow_x": null,
            "overflow_y": null,
            "padding": null,
            "right": null,
            "top": null,
            "visibility": null,
            "width": null
          }
        },
        "3e2f4d31d14b41bd8275c9829e1b36cd": {
          "model_module": "@jupyter-widgets/base",
          "model_name": "LayoutModel",
          "model_module_version": "1.2.0",
          "state": {
            "_model_module": "@jupyter-widgets/base",
            "_model_module_version": "1.2.0",
            "_model_name": "LayoutModel",
            "_view_count": null,
            "_view_module": "@jupyter-widgets/base",
            "_view_module_version": "1.2.0",
            "_view_name": "LayoutView",
            "align_content": null,
            "align_items": null,
            "align_self": null,
            "border": null,
            "bottom": null,
            "display": null,
            "flex": null,
            "flex_flow": null,
            "grid_area": null,
            "grid_auto_columns": null,
            "grid_auto_flow": null,
            "grid_auto_rows": null,
            "grid_column": null,
            "grid_gap": null,
            "grid_row": null,
            "grid_template_areas": null,
            "grid_template_columns": null,
            "grid_template_rows": null,
            "height": null,
            "justify_content": null,
            "justify_items": null,
            "left": null,
            "margin": null,
            "max_height": null,
            "max_width": null,
            "min_height": null,
            "min_width": null,
            "object_fit": null,
            "object_position": null,
            "order": null,
            "overflow": null,
            "overflow_x": null,
            "overflow_y": null,
            "padding": null,
            "right": null,
            "top": null,
            "visibility": null,
            "width": null
          }
        },
        "b22526bc683149fdb192d83622d69cac": {
          "model_module": "@jupyter-widgets/controls",
          "model_name": "DescriptionStyleModel",
          "model_module_version": "1.5.0",
          "state": {
            "_model_module": "@jupyter-widgets/controls",
            "_model_module_version": "1.5.0",
            "_model_name": "DescriptionStyleModel",
            "_view_count": null,
            "_view_module": "@jupyter-widgets/base",
            "_view_module_version": "1.2.0",
            "_view_name": "StyleView",
            "description_width": ""
          }
        },
        "58e2dd5b3e4247a09d33c7ff45f39011": {
          "model_module": "@jupyter-widgets/base",
          "model_name": "LayoutModel",
          "model_module_version": "1.2.0",
          "state": {
            "_model_module": "@jupyter-widgets/base",
            "_model_module_version": "1.2.0",
            "_model_name": "LayoutModel",
            "_view_count": null,
            "_view_module": "@jupyter-widgets/base",
            "_view_module_version": "1.2.0",
            "_view_name": "LayoutView",
            "align_content": null,
            "align_items": null,
            "align_self": null,
            "border": null,
            "bottom": null,
            "display": null,
            "flex": null,
            "flex_flow": null,
            "grid_area": null,
            "grid_auto_columns": null,
            "grid_auto_flow": null,
            "grid_auto_rows": null,
            "grid_column": null,
            "grid_gap": null,
            "grid_row": null,
            "grid_template_areas": null,
            "grid_template_columns": null,
            "grid_template_rows": null,
            "height": null,
            "justify_content": null,
            "justify_items": null,
            "left": null,
            "margin": null,
            "max_height": null,
            "max_width": null,
            "min_height": null,
            "min_width": null,
            "object_fit": null,
            "object_position": null,
            "order": null,
            "overflow": null,
            "overflow_x": null,
            "overflow_y": null,
            "padding": null,
            "right": null,
            "top": null,
            "visibility": null,
            "width": null
          }
        },
        "206c5b29af2446a9a18ee31fcaec533f": {
          "model_module": "@jupyter-widgets/controls",
          "model_name": "ProgressStyleModel",
          "model_module_version": "1.5.0",
          "state": {
            "_model_module": "@jupyter-widgets/controls",
            "_model_module_version": "1.5.0",
            "_model_name": "ProgressStyleModel",
            "_view_count": null,
            "_view_module": "@jupyter-widgets/base",
            "_view_module_version": "1.2.0",
            "_view_name": "StyleView",
            "bar_color": null,
            "description_width": ""
          }
        },
        "6716cec741814774b5bd7b6ca9b03418": {
          "model_module": "@jupyter-widgets/base",
          "model_name": "LayoutModel",
          "model_module_version": "1.2.0",
          "state": {
            "_model_module": "@jupyter-widgets/base",
            "_model_module_version": "1.2.0",
            "_model_name": "LayoutModel",
            "_view_count": null,
            "_view_module": "@jupyter-widgets/base",
            "_view_module_version": "1.2.0",
            "_view_name": "LayoutView",
            "align_content": null,
            "align_items": null,
            "align_self": null,
            "border": null,
            "bottom": null,
            "display": null,
            "flex": null,
            "flex_flow": null,
            "grid_area": null,
            "grid_auto_columns": null,
            "grid_auto_flow": null,
            "grid_auto_rows": null,
            "grid_column": null,
            "grid_gap": null,
            "grid_row": null,
            "grid_template_areas": null,
            "grid_template_columns": null,
            "grid_template_rows": null,
            "height": null,
            "justify_content": null,
            "justify_items": null,
            "left": null,
            "margin": null,
            "max_height": null,
            "max_width": null,
            "min_height": null,
            "min_width": null,
            "object_fit": null,
            "object_position": null,
            "order": null,
            "overflow": null,
            "overflow_x": null,
            "overflow_y": null,
            "padding": null,
            "right": null,
            "top": null,
            "visibility": null,
            "width": null
          }
        },
        "6b9c5fbbec5748daa5269c861f6d125d": {
          "model_module": "@jupyter-widgets/controls",
          "model_name": "DescriptionStyleModel",
          "model_module_version": "1.5.0",
          "state": {
            "_model_module": "@jupyter-widgets/controls",
            "_model_module_version": "1.5.0",
            "_model_name": "DescriptionStyleModel",
            "_view_count": null,
            "_view_module": "@jupyter-widgets/base",
            "_view_module_version": "1.2.0",
            "_view_name": "StyleView",
            "description_width": ""
          }
        },
        "f166091a6b4146f891bc4fd3b4d2ba31": {
          "model_module": "@jupyter-widgets/controls",
          "model_name": "HBoxModel",
          "model_module_version": "1.5.0",
          "state": {
            "_dom_classes": [],
            "_model_module": "@jupyter-widgets/controls",
            "_model_module_version": "1.5.0",
            "_model_name": "HBoxModel",
            "_view_count": null,
            "_view_module": "@jupyter-widgets/controls",
            "_view_module_version": "1.5.0",
            "_view_name": "HBoxView",
            "box_style": "",
            "children": [
              "IPY_MODEL_3181eb60bffc49888fcd091339325163",
              "IPY_MODEL_c11021c32716408299bd8fafbb3542ba",
              "IPY_MODEL_32e3643f8b9f4c6c8f24cc34c694e29a"
            ],
            "layout": "IPY_MODEL_84e2ec1fb7114d898e10baec2916e08d"
          }
        },
        "3181eb60bffc49888fcd091339325163": {
          "model_module": "@jupyter-widgets/controls",
          "model_name": "HTMLModel",
          "model_module_version": "1.5.0",
          "state": {
            "_dom_classes": [],
            "_model_module": "@jupyter-widgets/controls",
            "_model_module_version": "1.5.0",
            "_model_name": "HTMLModel",
            "_view_count": null,
            "_view_module": "@jupyter-widgets/controls",
            "_view_module_version": "1.5.0",
            "_view_name": "HTMLView",
            "description": "",
            "description_tooltip": null,
            "layout": "IPY_MODEL_e5b5ef65ea2e46cab359b67cbf76f751",
            "placeholder": "​",
            "style": "IPY_MODEL_42be1b686e84493e8880c65e2d6d3659",
            "value": "100%"
          }
        },
        "c11021c32716408299bd8fafbb3542ba": {
          "model_module": "@jupyter-widgets/controls",
          "model_name": "FloatProgressModel",
          "model_module_version": "1.5.0",
          "state": {
            "_dom_classes": [],
            "_model_module": "@jupyter-widgets/controls",
            "_model_module_version": "1.5.0",
            "_model_name": "FloatProgressModel",
            "_view_count": null,
            "_view_module": "@jupyter-widgets/controls",
            "_view_module_version": "1.5.0",
            "_view_name": "ProgressView",
            "bar_style": "success",
            "description": "",
            "description_tooltip": null,
            "layout": "IPY_MODEL_793b3e01714b4ae5a7e34eabf77f8e2b",
            "max": 30,
            "min": 0,
            "orientation": "horizontal",
            "style": "IPY_MODEL_53425c4f66d049b9b40e51cd54e54181",
            "value": 30
          }
        },
        "32e3643f8b9f4c6c8f24cc34c694e29a": {
          "model_module": "@jupyter-widgets/controls",
          "model_name": "HTMLModel",
          "model_module_version": "1.5.0",
          "state": {
            "_dom_classes": [],
            "_model_module": "@jupyter-widgets/controls",
            "_model_module_version": "1.5.0",
            "_model_name": "HTMLModel",
            "_view_count": null,
            "_view_module": "@jupyter-widgets/controls",
            "_view_module_version": "1.5.0",
            "_view_name": "HTMLView",
            "description": "",
            "description_tooltip": null,
            "layout": "IPY_MODEL_4d27b29e12014ee691aea0dea84948fe",
            "placeholder": "​",
            "style": "IPY_MODEL_d34fda5aa7f4429097ff29107ffaf74b",
            "value": " 30/30 [11:58&lt;00:00, 24.87s/it]"
          }
        },
        "84e2ec1fb7114d898e10baec2916e08d": {
          "model_module": "@jupyter-widgets/base",
          "model_name": "LayoutModel",
          "model_module_version": "1.2.0",
          "state": {
            "_model_module": "@jupyter-widgets/base",
            "_model_module_version": "1.2.0",
            "_model_name": "LayoutModel",
            "_view_count": null,
            "_view_module": "@jupyter-widgets/base",
            "_view_module_version": "1.2.0",
            "_view_name": "LayoutView",
            "align_content": null,
            "align_items": null,
            "align_self": null,
            "border": null,
            "bottom": null,
            "display": null,
            "flex": null,
            "flex_flow": null,
            "grid_area": null,
            "grid_auto_columns": null,
            "grid_auto_flow": null,
            "grid_auto_rows": null,
            "grid_column": null,
            "grid_gap": null,
            "grid_row": null,
            "grid_template_areas": null,
            "grid_template_columns": null,
            "grid_template_rows": null,
            "height": null,
            "justify_content": null,
            "justify_items": null,
            "left": null,
            "margin": null,
            "max_height": null,
            "max_width": null,
            "min_height": null,
            "min_width": null,
            "object_fit": null,
            "object_position": null,
            "order": null,
            "overflow": null,
            "overflow_x": null,
            "overflow_y": null,
            "padding": null,
            "right": null,
            "top": null,
            "visibility": null,
            "width": null
          }
        },
        "e5b5ef65ea2e46cab359b67cbf76f751": {
          "model_module": "@jupyter-widgets/base",
          "model_name": "LayoutModel",
          "model_module_version": "1.2.0",
          "state": {
            "_model_module": "@jupyter-widgets/base",
            "_model_module_version": "1.2.0",
            "_model_name": "LayoutModel",
            "_view_count": null,
            "_view_module": "@jupyter-widgets/base",
            "_view_module_version": "1.2.0",
            "_view_name": "LayoutView",
            "align_content": null,
            "align_items": null,
            "align_self": null,
            "border": null,
            "bottom": null,
            "display": null,
            "flex": null,
            "flex_flow": null,
            "grid_area": null,
            "grid_auto_columns": null,
            "grid_auto_flow": null,
            "grid_auto_rows": null,
            "grid_column": null,
            "grid_gap": null,
            "grid_row": null,
            "grid_template_areas": null,
            "grid_template_columns": null,
            "grid_template_rows": null,
            "height": null,
            "justify_content": null,
            "justify_items": null,
            "left": null,
            "margin": null,
            "max_height": null,
            "max_width": null,
            "min_height": null,
            "min_width": null,
            "object_fit": null,
            "object_position": null,
            "order": null,
            "overflow": null,
            "overflow_x": null,
            "overflow_y": null,
            "padding": null,
            "right": null,
            "top": null,
            "visibility": null,
            "width": null
          }
        },
        "42be1b686e84493e8880c65e2d6d3659": {
          "model_module": "@jupyter-widgets/controls",
          "model_name": "DescriptionStyleModel",
          "model_module_version": "1.5.0",
          "state": {
            "_model_module": "@jupyter-widgets/controls",
            "_model_module_version": "1.5.0",
            "_model_name": "DescriptionStyleModel",
            "_view_count": null,
            "_view_module": "@jupyter-widgets/base",
            "_view_module_version": "1.2.0",
            "_view_name": "StyleView",
            "description_width": ""
          }
        },
        "793b3e01714b4ae5a7e34eabf77f8e2b": {
          "model_module": "@jupyter-widgets/base",
          "model_name": "LayoutModel",
          "model_module_version": "1.2.0",
          "state": {
            "_model_module": "@jupyter-widgets/base",
            "_model_module_version": "1.2.0",
            "_model_name": "LayoutModel",
            "_view_count": null,
            "_view_module": "@jupyter-widgets/base",
            "_view_module_version": "1.2.0",
            "_view_name": "LayoutView",
            "align_content": null,
            "align_items": null,
            "align_self": null,
            "border": null,
            "bottom": null,
            "display": null,
            "flex": null,
            "flex_flow": null,
            "grid_area": null,
            "grid_auto_columns": null,
            "grid_auto_flow": null,
            "grid_auto_rows": null,
            "grid_column": null,
            "grid_gap": null,
            "grid_row": null,
            "grid_template_areas": null,
            "grid_template_columns": null,
            "grid_template_rows": null,
            "height": null,
            "justify_content": null,
            "justify_items": null,
            "left": null,
            "margin": null,
            "max_height": null,
            "max_width": null,
            "min_height": null,
            "min_width": null,
            "object_fit": null,
            "object_position": null,
            "order": null,
            "overflow": null,
            "overflow_x": null,
            "overflow_y": null,
            "padding": null,
            "right": null,
            "top": null,
            "visibility": null,
            "width": null
          }
        },
        "53425c4f66d049b9b40e51cd54e54181": {
          "model_module": "@jupyter-widgets/controls",
          "model_name": "ProgressStyleModel",
          "model_module_version": "1.5.0",
          "state": {
            "_model_module": "@jupyter-widgets/controls",
            "_model_module_version": "1.5.0",
            "_model_name": "ProgressStyleModel",
            "_view_count": null,
            "_view_module": "@jupyter-widgets/base",
            "_view_module_version": "1.2.0",
            "_view_name": "StyleView",
            "bar_color": null,
            "description_width": ""
          }
        },
        "4d27b29e12014ee691aea0dea84948fe": {
          "model_module": "@jupyter-widgets/base",
          "model_name": "LayoutModel",
          "model_module_version": "1.2.0",
          "state": {
            "_model_module": "@jupyter-widgets/base",
            "_model_module_version": "1.2.0",
            "_model_name": "LayoutModel",
            "_view_count": null,
            "_view_module": "@jupyter-widgets/base",
            "_view_module_version": "1.2.0",
            "_view_name": "LayoutView",
            "align_content": null,
            "align_items": null,
            "align_self": null,
            "border": null,
            "bottom": null,
            "display": null,
            "flex": null,
            "flex_flow": null,
            "grid_area": null,
            "grid_auto_columns": null,
            "grid_auto_flow": null,
            "grid_auto_rows": null,
            "grid_column": null,
            "grid_gap": null,
            "grid_row": null,
            "grid_template_areas": null,
            "grid_template_columns": null,
            "grid_template_rows": null,
            "height": null,
            "justify_content": null,
            "justify_items": null,
            "left": null,
            "margin": null,
            "max_height": null,
            "max_width": null,
            "min_height": null,
            "min_width": null,
            "object_fit": null,
            "object_position": null,
            "order": null,
            "overflow": null,
            "overflow_x": null,
            "overflow_y": null,
            "padding": null,
            "right": null,
            "top": null,
            "visibility": null,
            "width": null
          }
        },
        "d34fda5aa7f4429097ff29107ffaf74b": {
          "model_module": "@jupyter-widgets/controls",
          "model_name": "DescriptionStyleModel",
          "model_module_version": "1.5.0",
          "state": {
            "_model_module": "@jupyter-widgets/controls",
            "_model_module_version": "1.5.0",
            "_model_name": "DescriptionStyleModel",
            "_view_count": null,
            "_view_module": "@jupyter-widgets/base",
            "_view_module_version": "1.2.0",
            "_view_name": "StyleView",
            "description_width": ""
          }
        }
      }
    }
  },
  "cells": [
    {
      "cell_type": "markdown",
      "source": [
        "# Inference and Validation\n",
        "\n",
        "Now that you have a trained network, you can use it for making predictions. This is typically called **inference**, a term borrowed from statistics. However, neural networks have a tendency to perform *too well* on the training data and aren't able to generalize to data that hasn't been seen before. This is called **overfitting** and it impairs inference performance. To test for overfitting while training, we measure the performance on data not in the training set called the **validation** set. We avoid overfitting through regularization such as dropout while monitoring the validation performance during training. In this notebook, I'll show you how to do this in PyTorch.\n",
        "\n",
        "As usual, let's start by loading the dataset through torchvision. You'll learn more about torchvision and loading data in a later part. This time we'll be taking advantage of the test set which you can get by setting `train=False` here:\n",
        "\n",
        "```python\n",
        "testset = datasets.FashionMNIST('~/.pytorch/F_MNIST_data/', download=True, train=False, transform=transform)\n",
        "```\n",
        "\n",
        "The test set contains images just like the training set. Typically you'll see 10-20% of the original dataset held out for testing and validation with the rest being used for training."
      ],
      "metadata": {
        "id": "cS-VJmSM9oQb"
      }
    },
    {
      "cell_type": "code",
      "execution_count": 1,
      "metadata": {
        "colab": {
          "base_uri": "https://localhost:8080/"
        },
        "id": "4_xM6vSr9iKY",
        "outputId": "cae8a609-3894-4208-fabf-b49b594c6274"
      },
      "outputs": [
        {
          "output_type": "stream",
          "name": "stdout",
          "text": [
            "Downloading http://fashion-mnist.s3-website.eu-central-1.amazonaws.com/train-images-idx3-ubyte.gz\n",
            "Downloading http://fashion-mnist.s3-website.eu-central-1.amazonaws.com/train-images-idx3-ubyte.gz to /root/.pytorch/F_MNIST_data/FashionMNIST/raw/train-images-idx3-ubyte.gz\n"
          ]
        },
        {
          "output_type": "stream",
          "name": "stderr",
          "text": [
            "100%|██████████| 26421880/26421880 [00:03<00:00, 8009923.23it/s] \n"
          ]
        },
        {
          "output_type": "stream",
          "name": "stdout",
          "text": [
            "Extracting /root/.pytorch/F_MNIST_data/FashionMNIST/raw/train-images-idx3-ubyte.gz to /root/.pytorch/F_MNIST_data/FashionMNIST/raw\n",
            "\n",
            "Downloading http://fashion-mnist.s3-website.eu-central-1.amazonaws.com/train-labels-idx1-ubyte.gz\n",
            "Downloading http://fashion-mnist.s3-website.eu-central-1.amazonaws.com/train-labels-idx1-ubyte.gz to /root/.pytorch/F_MNIST_data/FashionMNIST/raw/train-labels-idx1-ubyte.gz\n"
          ]
        },
        {
          "output_type": "stream",
          "name": "stderr",
          "text": [
            "100%|██████████| 29515/29515 [00:00<00:00, 136842.70it/s]\n"
          ]
        },
        {
          "output_type": "stream",
          "name": "stdout",
          "text": [
            "Extracting /root/.pytorch/F_MNIST_data/FashionMNIST/raw/train-labels-idx1-ubyte.gz to /root/.pytorch/F_MNIST_data/FashionMNIST/raw\n",
            "\n",
            "Downloading http://fashion-mnist.s3-website.eu-central-1.amazonaws.com/t10k-images-idx3-ubyte.gz\n",
            "Downloading http://fashion-mnist.s3-website.eu-central-1.amazonaws.com/t10k-images-idx3-ubyte.gz to /root/.pytorch/F_MNIST_data/FashionMNIST/raw/t10k-images-idx3-ubyte.gz\n"
          ]
        },
        {
          "output_type": "stream",
          "name": "stderr",
          "text": [
            "100%|██████████| 4422102/4422102 [00:01<00:00, 2529472.11it/s]\n"
          ]
        },
        {
          "output_type": "stream",
          "name": "stdout",
          "text": [
            "Extracting /root/.pytorch/F_MNIST_data/FashionMNIST/raw/t10k-images-idx3-ubyte.gz to /root/.pytorch/F_MNIST_data/FashionMNIST/raw\n",
            "\n",
            "Downloading http://fashion-mnist.s3-website.eu-central-1.amazonaws.com/t10k-labels-idx1-ubyte.gz\n",
            "Downloading http://fashion-mnist.s3-website.eu-central-1.amazonaws.com/t10k-labels-idx1-ubyte.gz to /root/.pytorch/F_MNIST_data/FashionMNIST/raw/t10k-labels-idx1-ubyte.gz\n"
          ]
        },
        {
          "output_type": "stream",
          "name": "stderr",
          "text": [
            "100%|██████████| 5148/5148 [00:00<00:00, 6276824.71it/s]"
          ]
        },
        {
          "output_type": "stream",
          "name": "stdout",
          "text": [
            "Extracting /root/.pytorch/F_MNIST_data/FashionMNIST/raw/t10k-labels-idx1-ubyte.gz to /root/.pytorch/F_MNIST_data/FashionMNIST/raw\n",
            "\n"
          ]
        },
        {
          "output_type": "stream",
          "name": "stderr",
          "text": [
            "\n"
          ]
        }
      ],
      "source": [
        "import torch\n",
        "from torchvision import datasets, transforms\n",
        "\n",
        "#define a transform to normalize the data\n",
        "transform = transforms.Compose([transforms.ToTensor(),\n",
        "                                transforms.Normalize((0.5,),(0.5,))])\n",
        "\n",
        "#download and load the training data\n",
        "trainset = datasets.FashionMNIST('~/.pytorch/F_MNIST_data/', download = True, train = True, transform = transform)\n",
        "trainloader = torch.utils.data.DataLoader(trainset, batch_size = 64, shuffle = True)\n",
        "\n",
        "#download and load the test data\n",
        "testset = datasets.FashionMNIST('~/.pytorch/F_MNIST_data/', download = True, train = False, transform = transform)\n",
        "testloader = torch.utils.data.DataLoader(testset, batch_size = 64, shuffle = True)"
      ]
    },
    {
      "cell_type": "code",
      "source": [],
      "metadata": {
        "id": "YR01QgoK_U7v"
      },
      "execution_count": null,
      "outputs": []
    },
    {
      "cell_type": "markdown",
      "source": [
        "Here I'll create a model like normal, using the same one from my solution for part 4."
      ],
      "metadata": {
        "id": "qPNdMDNr_g9y"
      }
    },
    {
      "cell_type": "code",
      "source": [
        "from torch import nn, optim\n",
        "import torch.nn.functional as F\n",
        "\n",
        "class Classifier(nn.Module):\n",
        "\n",
        "    def __init__(self):\n",
        "\n",
        "        super().__init__()\n",
        "\n",
        "        self.fc1 = nn.Linear(784,256)\n",
        "        self.fc2 = nn.Linear(256,128)\n",
        "        self.fc3 = nn.Linear(128,64)\n",
        "        self.fc4 = nn.Linear(64, 10)\n",
        "\n",
        "    def forward(self, x):\n",
        "        #make sure input tensor is flattened\n",
        "\n",
        "        x = x.view(x.shape[0], -1)\n",
        "\n",
        "        x = F.relu(self.fc1(x))\n",
        "        x = F.relu(self.fc2(x))\n",
        "        x = F.relu(self.fc3(x))\n",
        "        x = F.log_softmax(self.fc4(x), dim = 1)\n",
        "\n",
        "        return x\n"
      ],
      "metadata": {
        "id": "2LvcfrVD_hYa"
      },
      "execution_count": 2,
      "outputs": []
    },
    {
      "cell_type": "code",
      "source": [],
      "metadata": {
        "id": "jSMcu-SGAIHE"
      },
      "execution_count": null,
      "outputs": []
    },
    {
      "cell_type": "markdown",
      "source": [
        "The goal of validation is to measure the model's performance on data that isn't part of the training set. Performance here is up to the developer to define though. Typically this is just accuracy, the percentage of classes the network predicted correctly. Other options are [precision and recall](https://en.wikipedia.org/wiki/Precision_and_recall#Definition_(classification_context)) and top-5 error rate. We'll focus on accuracy here. First I'll do a forward pass with one batch from the test set."
      ],
      "metadata": {
        "id": "bLxb-czVALin"
      }
    },
    {
      "cell_type": "code",
      "source": [
        "model = Classifier()\n",
        "\n",
        "images, labels = next(iter(testloader))\n",
        "\n",
        "#get the class probabilities\n",
        "ps = torch.exp(model(images))\n",
        "\n",
        "#make sure the shape is appropriate, we should get 10 class probabilities for 64 examples\n",
        "print(ps.shape)"
      ],
      "metadata": {
        "colab": {
          "base_uri": "https://localhost:8080/"
        },
        "id": "DtOZD6GoAL48",
        "outputId": "85734d7c-06cd-4c77-84af-71852c05d88e"
      },
      "execution_count": 3,
      "outputs": [
        {
          "output_type": "stream",
          "name": "stdout",
          "text": [
            "torch.Size([64, 10])\n"
          ]
        }
      ]
    },
    {
      "cell_type": "markdown",
      "source": [
        "With the probabilities, we can get the most likely class using the `ps.topk` method. This returns the $k$ highest values. Since we just want the most likely class, we can use `ps.topk(1)`. This returns a tuple of the top-$k$ values and the top-$k$ indices. If the highest value is the fifth element, we'll get back 4 as the index."
      ],
      "metadata": {
        "id": "kbniRVZSAkgv"
      }
    },
    {
      "cell_type": "code",
      "source": [
        "top_p, top_class = ps.topk(1, dim = 1)\n",
        "\n",
        "#look at the most likely classes for the first 10 examples\n",
        "print(top_class[:10, :])"
      ],
      "metadata": {
        "colab": {
          "base_uri": "https://localhost:8080/"
        },
        "id": "zAYTEw0TAil1",
        "outputId": "d5686fee-19c0-4a0f-9864-b9c8a1d0bbe7"
      },
      "execution_count": 4,
      "outputs": [
        {
          "output_type": "stream",
          "name": "stdout",
          "text": [
            "tensor([[4],\n",
            "        [4],\n",
            "        [4],\n",
            "        [4],\n",
            "        [4],\n",
            "        [4],\n",
            "        [4],\n",
            "        [4],\n",
            "        [4],\n",
            "        [4]])\n"
          ]
        }
      ]
    },
    {
      "cell_type": "markdown",
      "source": [
        "Now we can check if the predicted classes match the labels. This is simple to do by equating `top_class` and `labels`, but we have to be careful of the shapes. Here `top_class` is a 2D tensor with shape `(64, 1)` while `labels` is 1D with shape `(64)`. To get the equality to work out the way we want, `top_class` and `labels` must have the same shape.\n",
        "\n",
        "If we do\n",
        "\n",
        "```python\n",
        "equals = top_class == labels\n",
        "```\n",
        "\n",
        "`equals` will have shape `(64, 64)`, try it yourself. What it's doing is comparing the one element in each row of `top_class` with each element in `labels` which returns 64 True/False boolean values for each row."
      ],
      "metadata": {
        "id": "h1feBeMnA2le"
      }
    },
    {
      "cell_type": "code",
      "source": [
        "equals = top_class == labels.view(*top_class.shape)"
      ],
      "metadata": {
        "id": "sAURR1UrAz2H"
      },
      "execution_count": 5,
      "outputs": []
    },
    {
      "cell_type": "code",
      "source": [
        "print(equals)"
      ],
      "metadata": {
        "id": "alJMwzEYBFgp"
      },
      "execution_count": null,
      "outputs": []
    },
    {
      "cell_type": "markdown",
      "source": [
        "Now we need to calculate the percentage of correct predictions. `equals` has binary values, either 0 or 1. This means that if we just sum up all the values and divide by the number of values, we get the percentage of correct predictions. This is the same operation as taking the mean, so we can get the accuracy with a call to `torch.mean`. If only it was that simple. If you try `torch.mean(equals)`, you'll get an error\n",
        "\n",
        "```\n",
        "RuntimeError: mean is not implemented for type torch.ByteTensor\n",
        "```\n",
        "\n",
        "This happens because `equals` has type `torch.ByteTensor` but `torch.mean` isn't implement for tensors with that type. So we'll need to convert `equals` to a float tensor. Note that when we take `torch.mean` it returns a scalar tensor, to get the actual value as a float we'll need to do `accuracy.item()`."
      ],
      "metadata": {
        "id": "IQ1487D4BKkV"
      }
    },
    {
      "cell_type": "code",
      "source": [
        "accuracy = torch.mean(equals.type(torch.FloatTensor))\n",
        "\n",
        "print(f'Accuracy: {accuracy.item()*100}%')"
      ],
      "metadata": {
        "colab": {
          "base_uri": "https://localhost:8080/"
        },
        "id": "I7yXC731BGZX",
        "outputId": "e23b66ed-c2fa-4469-a967-c3822525e8a7"
      },
      "execution_count": 7,
      "outputs": [
        {
          "output_type": "stream",
          "name": "stdout",
          "text": [
            "Accuracy: 10.9375%\n"
          ]
        }
      ]
    },
    {
      "cell_type": "markdown",
      "source": [
        "The network is untrained so it's making random guesses and we should see an accuracy around 10%. Now let's train our network and include our validation pass so we can measure how well the network is performing on the test set. Since we're not updating our parameters in the validation pass, we can speed up the  by turning off gradients using `torch.no_grad()`:\n",
        "\n",
        "```python\n",
        "# turn off gradients\n",
        "with torch.no_grad():\n",
        "    # validation pass here\n",
        "    for images, labels in testloader:\n",
        "        ...\n",
        "```\n",
        "\n",
        ">**Exercise:** Implement the validation loop below. You can largely copy and paste the code from above, but I suggest typing it in because writing it out yourself is essential for building the skill. In general you'll always learn more by typing it rather than copy-pasting."
      ],
      "metadata": {
        "id": "ZyrzAh69BkJS"
      }
    },
    {
      "cell_type": "code",
      "source": [
        "from tqdm.auto import tqdm"
      ],
      "metadata": {
        "id": "1EUAguJMCEDU"
      },
      "execution_count": 9,
      "outputs": []
    },
    {
      "cell_type": "code",
      "source": [
        "model = Classifier()\n",
        "\n",
        "criterion = nn.NLLLoss(reduction = 'sum')\n",
        "\n",
        "optimizer = optim.Adam(model.parameters(), lr = 0.003)"
      ],
      "metadata": {
        "id": "Obl1s1wlBhr6"
      },
      "execution_count": 8,
      "outputs": []
    },
    {
      "cell_type": "code",
      "source": [
        "epochs = 30\n",
        "\n",
        "train_losses, test_losses = [],[]\n",
        "\n",
        "for e in tqdm(range(epochs)):\n",
        "\n",
        "    tot_train_loss = 0\n",
        "    for images, labels in trainloader:\n",
        "        optimizer.zero_grad()\n",
        "\n",
        "        log_ps = model(images)\n",
        "        loss = criterion(log_ps, labels)\n",
        "\n",
        "        tot_train_loss += loss.item()\n",
        "\n",
        "        loss.backward()\n",
        "        optimizer.step()\n",
        "\n",
        "    else:\n",
        "        tot_test_loss = 0\n",
        "        test_correct = 0  # Number of correct predictions on the test set\n",
        "\n",
        "        # Turn off gradients for validation, saves memory and computations\n",
        "        with torch.no_grad():\n",
        "            for images, labels in testloader:\n",
        "                log_ps = model(images)\n",
        "                loss = criterion(log_ps, labels)\n",
        "                tot_test_loss += loss.item()\n",
        "\n",
        "                ps = torch.exp(log_ps)\n",
        "\n",
        "                top_p, top_class = ps.topk(1, dim=1)\n",
        "                equals = top_class == labels.view(*top_class.shape)\n",
        "                test_correct += equals.sum().item()\n",
        "\n",
        "        # Get mean loss to enable comparison between train and test sets\n",
        "        train_loss = tot_train_loss/len(trainloader.dataset)\n",
        "        test_loss = tot_test_loss/len(testloader.dataset)\n",
        "\n",
        "        #at completion of epoch\n",
        "        train_losses.append(train_loss)\n",
        "        test_losses.append(test_loss)\n",
        "\n",
        "        print(\"Epoch: {}/{}.. \".format(e+1, epochs),\n",
        "              \"Training Loss: {:.3f}..\".format(train_loss),\n",
        "              \"Test Loss: {:.3f}..\".format(test_loss),\n",
        "              \"Test Accuracy: {:.3f}\".format(test_correct / len(testloader.dataset)))"
      ],
      "metadata": {
        "colab": {
          "base_uri": "https://localhost:8080/",
          "height": 594,
          "referenced_widgets": [
            "b4bc0ffc56f843db871ed979152d41fc",
            "258cb34304154db196443452bafa2d63",
            "580933aa6f6d4081aa570683eafbef91",
            "13bd8540308745d0890c407401c01853",
            "e6efb5aa8eb14ee0a5df79a21f2e102b",
            "3e2f4d31d14b41bd8275c9829e1b36cd",
            "b22526bc683149fdb192d83622d69cac",
            "58e2dd5b3e4247a09d33c7ff45f39011",
            "206c5b29af2446a9a18ee31fcaec533f",
            "6716cec741814774b5bd7b6ca9b03418",
            "6b9c5fbbec5748daa5269c861f6d125d"
          ]
        },
        "id": "0xdJaD6kB6Mw",
        "outputId": "5ffd3faf-d71d-4bc9-f99e-27633166f2ee"
      },
      "execution_count": 10,
      "outputs": [
        {
          "output_type": "display_data",
          "data": {
            "text/plain": [
              "  0%|          | 0/30 [00:00<?, ?it/s]"
            ],
            "application/vnd.jupyter.widget-view+json": {
              "version_major": 2,
              "version_minor": 0,
              "model_id": "b4bc0ffc56f843db871ed979152d41fc"
            }
          },
          "metadata": {}
        },
        {
          "output_type": "stream",
          "name": "stdout",
          "text": [
            "Epoch: 1/30..  Training Loss: 0.514.. Test Loss: 0.452.. Test Accuracy: 0.835\n",
            "Epoch: 2/30..  Training Loss: 0.396.. Test Loss: 0.411.. Test Accuracy: 0.852\n",
            "Epoch: 3/30..  Training Loss: 0.359.. Test Loss: 0.410.. Test Accuracy: 0.859\n",
            "Epoch: 4/30..  Training Loss: 0.336.. Test Loss: 0.396.. Test Accuracy: 0.852\n",
            "Epoch: 5/30..  Training Loss: 0.318.. Test Loss: 0.374.. Test Accuracy: 0.865\n",
            "Epoch: 6/30..  Training Loss: 0.305.. Test Loss: 0.366.. Test Accuracy: 0.872\n",
            "Epoch: 7/30..  Training Loss: 0.292.. Test Loss: 0.387.. Test Accuracy: 0.868\n",
            "Epoch: 8/30..  Training Loss: 0.283.. Test Loss: 0.375.. Test Accuracy: 0.873\n",
            "Epoch: 9/30..  Training Loss: 0.277.. Test Loss: 0.359.. Test Accuracy: 0.874\n",
            "Epoch: 10/30..  Training Loss: 0.268.. Test Loss: 0.370.. Test Accuracy: 0.874\n",
            "Epoch: 11/30..  Training Loss: 0.265.. Test Loss: 0.377.. Test Accuracy: 0.872\n",
            "Epoch: 12/30..  Training Loss: 0.258.. Test Loss: 0.387.. Test Accuracy: 0.873\n",
            "Epoch: 13/30..  Training Loss: 0.250.. Test Loss: 0.383.. Test Accuracy: 0.875\n",
            "Epoch: 14/30..  Training Loss: 0.246.. Test Loss: 0.354.. Test Accuracy: 0.878\n",
            "Epoch: 15/30..  Training Loss: 0.239.. Test Loss: 0.377.. Test Accuracy: 0.878\n",
            "Epoch: 16/30..  Training Loss: 0.236.. Test Loss: 0.372.. Test Accuracy: 0.878\n",
            "Epoch: 17/30..  Training Loss: 0.227.. Test Loss: 0.370.. Test Accuracy: 0.879\n",
            "Epoch: 18/30..  Training Loss: 0.222.. Test Loss: 0.395.. Test Accuracy: 0.876\n",
            "Epoch: 19/30..  Training Loss: 0.224.. Test Loss: 0.418.. Test Accuracy: 0.877\n",
            "Epoch: 20/30..  Training Loss: 0.221.. Test Loss: 0.393.. Test Accuracy: 0.877\n",
            "Epoch: 21/30..  Training Loss: 0.212.. Test Loss: 0.401.. Test Accuracy: 0.878\n",
            "Epoch: 22/30..  Training Loss: 0.207.. Test Loss: 0.406.. Test Accuracy: 0.876\n",
            "Epoch: 23/30..  Training Loss: 0.212.. Test Loss: 0.409.. Test Accuracy: 0.878\n",
            "Epoch: 24/30..  Training Loss: 0.201.. Test Loss: 0.440.. Test Accuracy: 0.878\n",
            "Epoch: 25/30..  Training Loss: 0.198.. Test Loss: 0.399.. Test Accuracy: 0.877\n",
            "Epoch: 26/30..  Training Loss: 0.200.. Test Loss: 0.490.. Test Accuracy: 0.872\n",
            "Epoch: 27/30..  Training Loss: 0.197.. Test Loss: 0.419.. Test Accuracy: 0.879\n",
            "Epoch: 28/30..  Training Loss: 0.197.. Test Loss: 0.437.. Test Accuracy: 0.880\n",
            "Epoch: 29/30..  Training Loss: 0.189.. Test Loss: 0.416.. Test Accuracy: 0.881\n",
            "Epoch: 30/30..  Training Loss: 0.198.. Test Loss: 0.412.. Test Accuracy: 0.881\n"
          ]
        }
      ]
    },
    {
      "cell_type": "code",
      "source": [
        "%matplotlib inline\n",
        "%config InlineBackend.figure_format = 'retina'\n",
        "\n",
        "import matplotlib.pyplot as plt"
      ],
      "metadata": {
        "id": "bkHnaLm_DBsk"
      },
      "execution_count": 11,
      "outputs": []
    },
    {
      "cell_type": "code",
      "source": [
        "plt.plot(train_losses, label = 'Training loss')\n",
        "plt.plot(test_losses, label = 'Validation loss')\n",
        "plt.legend(frameon = False)"
      ],
      "metadata": {
        "colab": {
          "base_uri": "https://localhost:8080/",
          "height": 448
        },
        "id": "TNLHMwKtGTNh",
        "outputId": "aae6feae-3068-43e6-91ce-7b5e1f65894d"
      },
      "execution_count": 12,
      "outputs": [
        {
          "output_type": "execute_result",
          "data": {
            "text/plain": [
              "<matplotlib.legend.Legend at 0x7e0815d04e20>"
            ]
          },
          "metadata": {},
          "execution_count": 12
        },
        {
          "output_type": "display_data",
          "data": {
            "text/plain": [
              "<Figure size 640x480 with 1 Axes>"
            ],
            "image/png": "[encoded data removed]"
          },
          "metadata": {
            "image/png": {
              "width": 558,
              "height": 413
            }
          }
        }
      ]
    },
    {
      "cell_type": "code",
      "source": [],
      "metadata": {
        "id": "uGeq0Wl9GZyz"
      },
      "execution_count": null,
      "outputs": []
    },
    {
      "cell_type": "markdown",
      "source": [
        "## Overfitting\n",
        "\n",
        "If we look at the training and validation losses as we train the network, we can see a phenomenon known as overfitting.\n",
        "\n",
        "![image.png](data:image/png;base64,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)\n",
        "\n",
        "The network learns the training set better and better, resulting in lower training losses. However, it starts having problems generalizing to data outside the training set leading to the validation loss increasing. The ultimate goal of any deep learning model is to make predictions on new data, so we should strive to get the lowest validation loss possible. One option is to use the version of the model with the lowest validation loss, here the one around 8-10 training epochs. This strategy is called *early-stopping*. In practice, you'd save the model frequently as you're training then later choose the model with the lowest validation loss.\n",
        "\n",
        "The most common method to reduce overfitting (outside of early-stopping) is *dropout*, where we randomly drop input units. This forces the network to share information between weights, increasing it's ability to generalize to new data. Adding dropout in PyTorch is straightforward using the [`nn.Dropout`](https://pytorch.org/docs/stable/nn.html#torch.nn.Dropout) module.\n",
        "\n",
        "```python\n",
        "class Classifier(nn.Module):\n",
        "    def __init__(self):\n",
        "        super().__init__()\n",
        "        self.fc1 = nn.Linear(784, 256)\n",
        "        self.fc2 = nn.Linear(256, 128)\n",
        "        self.fc3 = nn.Linear(128, 64)\n",
        "        self.fc4 = nn.Linear(64, 10)\n",
        "        \n",
        "        # Dropout module with 0.2 drop probability\n",
        "        self.dropout = nn.Dropout(p=0.2)\n",
        "        \n",
        "    def forward(self, x):\n",
        "        # make sure input tensor is flattened\n",
        "        x = x.view(x.shape[0], -1)\n",
        "        \n",
        "        # Now with dropout\n",
        "        x = self.dropout(F.relu(self.fc1(x)))\n",
        "        x = self.dropout(F.relu(self.fc2(x)))\n",
        "        x = self.dropout(F.relu(self.fc3(x)))\n",
        "        \n",
        "        # output so no dropout here\n",
        "        x = F.log_softmax(self.fc4(x), dim=1)\n",
        "        \n",
        "        return x\n",
        "```\n",
        "\n",
        "During training we want to use dropout to prevent overfitting, but during inference we want to use the entire network. So, we need to turn off dropout during validation, testing, and whenever we're using the network to make predictions. To do this, you use `model.eval()`. This sets the model to evaluation mode where the dropout probability is 0. You can turn dropout back on by setting the model to train mode with `model.train()`. In general, the pattern for the validation loop will look like this, where you turn off gradients, set the model to evaluation mode, calculate the validation loss and metric, then set the model back to train mode.\n",
        "\n",
        "```python\n",
        "# turn off gradients\n",
        "with torch.no_grad():\n",
        "    \n",
        "    # set model to evaluation mode\n",
        "    model.eval()\n",
        "    \n",
        "    # validation pass here\n",
        "    for images, labels in testloader:\n",
        "        ...\n",
        "\n",
        "# set model back to train mode\n",
        "model.train()\n",
        "```"
      ],
      "metadata": {
        "id": "AOlijXwAGgHH"
      }
    },
    {
      "cell_type": "markdown",
      "source": [
        "> **Exercise:** Add dropout to your model and train it on Fashion-MNIST again. See if you can get a lower validation loss."
      ],
      "metadata": {
        "id": "9C6urkKhIV_s"
      }
    },
    {
      "cell_type": "code",
      "source": [
        "class Classifier(nn.Module):\n",
        "    def __init__(self):\n",
        "        super().__init__()\n",
        "        self.fc1 = nn.Linear(784, 256)\n",
        "        self.fc2 = nn.Linear(256,128)\n",
        "        self.fc3 = nn.Linear(128,64)\n",
        "        self.fc4 = nn.Linear(64,10)\n",
        "\n",
        "        #dropout module tiwh 0.2 drop probability\n",
        "        self.dropout = nn.Dropout(p = 0.2)\n",
        "\n",
        "    def forward(self, x):\n",
        "        #make sure input tensor is flattened\n",
        "        x = x.view(x.shape[0], -1)\n",
        "\n",
        "        #now with dropout\n",
        "        x = self.dropout(F.relu(self.fc1(x)))\n",
        "        x = self.dropout(F.relu(self.fc2(x)))\n",
        "        x = self.dropout(F.relu(self.fc3(x)))\n",
        "\n",
        "        #output so no dropout here\n",
        "        x = F.log_softmax(self.fc4(x), dim = 1)\n",
        "\n",
        "        return x"
      ],
      "metadata": {
        "id": "Rb9NAf-kGgYS"
      },
      "execution_count": 13,
      "outputs": []
    },
    {
      "cell_type": "code",
      "source": [
        "model = Classifier()\n",
        "criterion = nn.NLLLoss()\n",
        "optimizer = optim.Adam(model.parameters(), lr = 0.003)"
      ],
      "metadata": {
        "id": "bOUbEBGsI24M"
      },
      "execution_count": 14,
      "outputs": []
    },
    {
      "cell_type": "code",
      "source": [
        "epochs = 30\n",
        "steps = 0\n",
        "\n",
        "train_losses, test_losses = [], []\n",
        "\n",
        "for e in tqdm(range(epochs)):\n",
        "\n",
        "    running_loss = 0\n",
        "\n",
        "    model.train()\n",
        "\n",
        "    for images, labels in trainloader:\n",
        "\n",
        "        optimizer.zero_grad()\n",
        "\n",
        "        log_ps = model(images)\n",
        "\n",
        "        loss = criterion(log_ps, labels)\n",
        "\n",
        "        loss.backward()\n",
        "        optimizer.step()\n",
        "\n",
        "        running_loss += loss.item()\n",
        "    else:\n",
        "\n",
        "        test_loss = 0\n",
        "        accuracy = 0\n",
        "\n",
        "        #Turn off gradients for validation, saves memory and computations\n",
        "        with torch.no_grad():\n",
        "\n",
        "            model.eval()\n",
        "\n",
        "            for images, labels in testloader:\n",
        "\n",
        "                log_ps = model(images)\n",
        "                test_loss += criterion(log_ps, labels)\n",
        "\n",
        "                ps = torch.exp(log_ps)\n",
        "\n",
        "                top_p, top_class = ps.topk(1, dim = 1)\n",
        "\n",
        "                equals = top_class == labels.view(*top_class.shape)\n",
        "\n",
        "                accuracy += torch.mean(equals.type(torch.FloatTensor))\n",
        "\n",
        "        train_losses.append(running_loss/len(trainloader))\n",
        "        test_losses.append(test_loss/len(testloader))\n",
        "\n",
        "        print(\"Epoch: {}/{}..\".format(e+1,epochs),\n",
        "              \"Training Loss: {:.3f}..\".format(train_losses[-1]),\n",
        "              \"Test Loss: {:.3f}..\".format(test_losses[-1]),\n",
        "              \"Test Accuracy: {:.3f}\".format(accuracy/len(testloader)))\n"
      ],
      "metadata": {
        "colab": {
          "base_uri": "https://localhost:8080/",
          "height": 594,
          "referenced_widgets": [
            "f166091a6b4146f891bc4fd3b4d2ba31",
            "3181eb60bffc49888fcd091339325163",
            "c11021c32716408299bd8fafbb3542ba",
            "32e3643f8b9f4c6c8f24cc34c694e29a",
            "84e2ec1fb7114d898e10baec2916e08d",
            "e5b5ef65ea2e46cab359b67cbf76f751",
            "42be1b686e84493e8880c65e2d6d3659",
            "793b3e01714b4ae5a7e34eabf77f8e2b",
            "53425c4f66d049b9b40e51cd54e54181",
            "4d27b29e12014ee691aea0dea84948fe",
            "d34fda5aa7f4429097ff29107ffaf74b"
          ]
        },
        "id": "Tdo1IgkDI8gp",
        "outputId": "e9a446df-1879-4a99-8bd4-423230039d5c"
      },
      "execution_count": 15,
      "outputs": [
        {
          "output_type": "display_data",
          "data": {
            "text/plain": [
              "  0%|          | 0/30 [00:00<?, ?it/s]"
            ],
            "application/vnd.jupyter.widget-view+json": {
              "version_major": 2,
              "version_minor": 0,
              "model_id": "f166091a6b4146f891bc4fd3b4d2ba31"
            }
          },
          "metadata": {}
        },
        {
          "output_type": "stream",
          "name": "stdout",
          "text": [
            "Epoch: 1/30.. Training Loss: 0.605.. Test Loss: 0.510.. Test Accuracy: 0.817\n",
            "Epoch: 2/30.. Training Loss: 0.484.. Test Loss: 0.450.. Test Accuracy: 0.839\n",
            "Epoch: 3/30.. Training Loss: 0.445.. Test Loss: 0.420.. Test Accuracy: 0.849\n",
            "Epoch: 4/30.. Training Loss: 0.436.. Test Loss: 0.399.. Test Accuracy: 0.858\n",
            "Epoch: 5/30.. Training Loss: 0.425.. Test Loss: 0.412.. Test Accuracy: 0.845\n",
            "Epoch: 6/30.. Training Loss: 0.408.. Test Loss: 0.434.. Test Accuracy: 0.850\n",
            "Epoch: 7/30.. Training Loss: 0.404.. Test Loss: 0.396.. Test Accuracy: 0.863\n",
            "Epoch: 8/30.. Training Loss: 0.398.. Test Loss: 0.400.. Test Accuracy: 0.857\n",
            "Epoch: 9/30.. Training Loss: 0.401.. Test Loss: 0.383.. Test Accuracy: 0.863\n",
            "Epoch: 10/30.. Training Loss: 0.388.. Test Loss: 0.381.. Test Accuracy: 0.867\n",
            "Epoch: 11/30.. Training Loss: 0.382.. Test Loss: 0.383.. Test Accuracy: 0.866\n",
            "Epoch: 12/30.. Training Loss: 0.383.. Test Loss: 0.407.. Test Accuracy: 0.859\n",
            "Epoch: 13/30.. Training Loss: 0.382.. Test Loss: 0.383.. Test Accuracy: 0.868\n",
            "Epoch: 14/30.. Training Loss: 0.371.. Test Loss: 0.385.. Test Accuracy: 0.862\n",
            "Epoch: 15/30.. Training Loss: 0.375.. Test Loss: 0.385.. Test Accuracy: 0.866\n",
            "Epoch: 16/30.. Training Loss: 0.367.. Test Loss: 0.379.. Test Accuracy: 0.872\n",
            "Epoch: 17/30.. Training Loss: 0.364.. Test Loss: 0.380.. Test Accuracy: 0.866\n",
            "Epoch: 18/30.. Training Loss: 0.365.. Test Loss: 0.381.. Test Accuracy: 0.868\n",
            "Epoch: 19/30.. Training Loss: 0.360.. Test Loss: 0.374.. Test Accuracy: 0.873\n",
            "Epoch: 20/30.. Training Loss: 0.356.. Test Loss: 0.375.. Test Accuracy: 0.870\n",
            "Epoch: 21/30.. Training Loss: 0.354.. Test Loss: 0.368.. Test Accuracy: 0.873\n",
            "Epoch: 22/30.. Training Loss: 0.355.. Test Loss: 0.370.. Test Accuracy: 0.876\n",
            "Epoch: 23/30.. Training Loss: 0.354.. Test Loss: 0.394.. Test Accuracy: 0.869\n",
            "Epoch: 24/30.. Training Loss: 0.355.. Test Loss: 0.371.. Test Accuracy: 0.875\n",
            "Epoch: 25/30.. Training Loss: 0.343.. Test Loss: 0.372.. Test Accuracy: 0.873\n",
            "Epoch: 26/30.. Training Loss: 0.351.. Test Loss: 0.392.. Test Accuracy: 0.867\n",
            "Epoch: 27/30.. Training Loss: 0.342.. Test Loss: 0.384.. Test Accuracy: 0.871\n",
            "Epoch: 28/30.. Training Loss: 0.352.. Test Loss: 0.391.. Test Accuracy: 0.872\n",
            "Epoch: 29/30.. Training Loss: 0.345.. Test Loss: 0.372.. Test Accuracy: 0.877\n",
            "Epoch: 30/30.. Training Loss: 0.349.. Test Loss: 0.370.. Test Accuracy: 0.876\n"
          ]
        }
      ]
    },
    {
      "cell_type": "code",
      "source": [
        "%matplotlib inline\n",
        "%config InlineBackend.figure_format = 'retina'\n",
        "\n",
        "import matplotlib.pyplot as plt"
      ],
      "metadata": {
        "id": "J-mPi-hmJ8_l"
      },
      "execution_count": 17,
      "outputs": []
    },
    {
      "cell_type": "code",
      "source": [
        "plt.plot(train_losses, label = 'Training loss')\n",
        "plt.plot(test_losses, label = 'Validation loss')\n",
        "plt.legend(frameon = False)"
      ],
      "metadata": {
        "colab": {
          "base_uri": "https://localhost:8080/",
          "height": 448
        },
        "id": "R9axjohhM2n2",
        "outputId": "9b1907f5-b3d7-4bd4-f34e-69c698afc0c5"
      },
      "execution_count": 18,
      "outputs": [
        {
          "output_type": "execute_result",
          "data": {
            "text/plain": [
              "<matplotlib.legend.Legend at 0x7e0815e77d90>"
            ]
          },
          "metadata": {},
          "execution_count": 18
        },
        {
          "output_type": "display_data",
          "data": {
            "text/plain": [
              "<Figure size 640x480 with 1 Axes>"
            ],
            "image/png": "[encoded data removed]"
          },
          "metadata": {
            "image/png": {
              "width": 558,
              "height": 413
            }
          }
        }
      ]
    },
    {
      "cell_type": "code",
      "source": [],
      "metadata": {
        "id": "600nEu1nM-aF"
      },
      "execution_count": null,
      "outputs": []
    },
    {
      "cell_type": "markdown",
      "source": [
        "## Inference\n",
        "\n",
        "Now that the model is trained, we can use it for inference. We've done this before, but now we need to remember to set the model in inference mode with `model.eval()`. You'll also want to turn off autograd with the `torch.no_grad()` context."
      ],
      "metadata": {
        "id": "9Onur65_NB8A"
      }
    },
    {
      "cell_type": "code",
      "source": [
        "import numpy as np\n",
        "\n",
        "def view_classify(img, ps, version=\"MNIST\"):\n",
        "    ''' Function for viewing an image and it's predicted classes.\n",
        "    '''\n",
        "    ps = ps.data.numpy().squeeze()\n",
        "\n",
        "    fig, (ax1, ax2) = plt.subplots(figsize=(6,9), ncols=2)\n",
        "    ax1.imshow(img.resize_(1, 28, 28).numpy().squeeze())\n",
        "    ax1.axis('off')\n",
        "    ax2.barh(np.arange(10), ps)\n",
        "    ax2.set_aspect(0.1)\n",
        "    ax2.set_yticks(np.arange(10))\n",
        "    if version == \"MNIST\":\n",
        "        ax2.set_yticklabels(np.arange(10))\n",
        "    elif version == \"Fashion\":\n",
        "        ax2.set_yticklabels(['T-shirt/top',\n",
        "                            'Trouser',\n",
        "                            'Pullover',\n",
        "                            'Dress',\n",
        "                            'Coat',\n",
        "                            'Sandal',\n",
        "                            'Shirt',\n",
        "                            'Sneaker',\n",
        "                            'Bag',\n",
        "                            'Ankle Boot'], size='small');\n",
        "    ax2.set_title('Class Probability')\n",
        "    ax2.set_xlim(0, 1.1)\n",
        "\n",
        "    plt.tight_layout()"
      ],
      "metadata": {
        "id": "wHPJQEcqNCIX"
      },
      "execution_count": 19,
      "outputs": []
    },
    {
      "cell_type": "code",
      "source": [
        "#test network\n",
        "\n",
        "model.eval()\n",
        "\n",
        "dataiter = iter(testloader)\n",
        "images, labels = next(dataiter)\n",
        "\n",
        "img = images[0]\n",
        "\n",
        "#convert 2d images to 1d vector\n",
        "img = img.view(1,784)"
      ],
      "metadata": {
        "id": "3MwRgd5rNSWk"
      },
      "execution_count": 20,
      "outputs": []
    },
    {
      "cell_type": "code",
      "source": [
        "#calculate the class probabilities(softmax) for img\n",
        "\n",
        "with torch.no_grad():\n",
        "    output = model.forward(img)\n",
        "\n",
        "ps = torch.exp(output)"
      ],
      "metadata": {
        "id": "kY36LugENcs_"
      },
      "execution_count": 21,
      "outputs": []
    },
    {
      "cell_type": "code",
      "source": [
        "#plot the images and probabilities\n",
        "view_classify(img.view(1,28,28), ps, version='Fashion')"
      ],
      "metadata": {
        "colab": {
          "base_uri": "https://localhost:8080/",
          "height": 318
        },
        "id": "dorj4xfZNkg-",
        "outputId": "1e68f317-452a-4f47-9d78-d77361b2448f"
      },
      "execution_count": 22,
      "outputs": [
        {
          "output_type": "display_data",
          "data": {
            "text/plain": [
              "<Figure size 600x900 with 2 Axes>"
            ],
            "image/png": "[encoded data removed]"
          },
          "metadata": {
            "image/png": {
              "width": 589,
              "height": 301
            }
          }
        }
      ]
    },
    {
      "cell_type": "code",
      "source": [],
      "metadata": {
        "id": "_WzjZ2azNqno"
      },
      "execution_count": null,
      "outputs": []
    }
  ]
}
{
  "nbformat": 4,
  "nbformat_minor": 0,
  "metadata": {
    "colab": {
      "provenance": []
    },
    "kernelspec": {
      "name": "python3",
      "display_name": "Python 3"
    },
    "language_info": {
      "name": "python"
    }
  },
  "cells": [
    {
      "cell_type": "markdown",
      "source": [
        "\n",
        "# 모델 매개변수 최적화하기\n",
        "\n",
        "이제 모델과 데이터가 준비되었으니, 데이터에 매개변수를 최적화하여 모델을 학습하고, 검증하고, 테스트할 차례입니다.\n",
        "모델을 학습하는 과정은 반복적인 과정을 거칩니다; 각 반복 단계에서 모델은 출력을 추측하고,\n",
        "추측과 정답 사이의 오류(\\ *손실(loss)*\\ )를 계산하고, ([이전 장](autograd_tutorial.html)\\ 에서 본 것처럼)\n",
        "매개변수에 대한 오류의 도함수(derivative)를 수집한 뒤, 경사하강법을 사용하여 이 파라미터들을 **최적화(optimize)**\\ 합니다.\n",
        "이 과정에 대한 자세한 설명은 [3Blue1Brown의 역전파](https://www.youtube.com/watch?v=tIeHLnjs5U8)_ 영상을 참고하세요.\n",
        "\n",
        "## 기본(Pre-requisite) 코드\n",
        "이전 장인 [Dataset과 DataLoader](data_tutorial.html)\\ 와 [신경망 모델 구성하기](buildmodel_tutorial.html)\\ 에서\n",
        "코드를 가져왔습니다.\n"
      ],
      "metadata": {
        "id": "LYoK9DkVqytN"
      }
    },
    {
      "cell_type": "code",
      "execution_count": 1,
      "metadata": {
        "colab": {
          "base_uri": "https://localhost:8080/"
        },
        "id": "eovsJKaUqNdA",
        "outputId": "485f490c-4bb7-431b-9139-08837441e7f8"
      },
      "outputs": [
        {
          "output_type": "stream",
          "name": "stdout",
          "text": [
            "Downloading http://fashion-mnist.s3-website.eu-central-1.amazonaws.com/train-images-idx3-ubyte.gz\n",
            "Downloading http://fashion-mnist.s3-website.eu-central-1.amazonaws.com/train-images-idx3-ubyte.gz to data/FashionMNIST/raw/train-images-idx3-ubyte.gz\n"
          ]
        },
        {
          "output_type": "stream",
          "name": "stderr",
          "text": [
            "100%|██████████| 26421880/26421880 [00:02<00:00, 11733566.17it/s]\n"
          ]
        },
        {
          "output_type": "stream",
          "name": "stdout",
          "text": [
            "Extracting data/FashionMNIST/raw/train-images-idx3-ubyte.gz to data/FashionMNIST/raw\n",
            "\n",
            "Downloading http://fashion-mnist.s3-website.eu-central-1.amazonaws.com/train-labels-idx1-ubyte.gz\n",
            "Downloading http://fashion-mnist.s3-website.eu-central-1.amazonaws.com/train-labels-idx1-ubyte.gz to data/FashionMNIST/raw/train-labels-idx1-ubyte.gz\n"
          ]
        },
        {
          "output_type": "stream",
          "name": "stderr",
          "text": [
            "100%|██████████| 29515/29515 [00:00<00:00, 205465.62it/s]\n"
          ]
        },
        {
          "output_type": "stream",
          "name": "stdout",
          "text": [
            "Extracting data/FashionMNIST/raw/train-labels-idx1-ubyte.gz to data/FashionMNIST/raw\n",
            "\n",
            "Downloading http://fashion-mnist.s3-website.eu-central-1.amazonaws.com/t10k-images-idx3-ubyte.gz\n",
            "Downloading http://fashion-mnist.s3-website.eu-central-1.amazonaws.com/t10k-images-idx3-ubyte.gz to data/FashionMNIST/raw/t10k-images-idx3-ubyte.gz\n"
          ]
        },
        {
          "output_type": "stream",
          "name": "stderr",
          "text": [
            "100%|██████████| 4422102/4422102 [00:01<00:00, 3712577.53it/s]\n"
          ]
        },
        {
          "output_type": "stream",
          "name": "stdout",
          "text": [
            "Extracting data/FashionMNIST/raw/t10k-images-idx3-ubyte.gz to data/FashionMNIST/raw\n",
            "\n",
            "Downloading http://fashion-mnist.s3-website.eu-central-1.amazonaws.com/t10k-labels-idx1-ubyte.gz\n",
            "Downloading http://fashion-mnist.s3-website.eu-central-1.amazonaws.com/t10k-labels-idx1-ubyte.gz to data/FashionMNIST/raw/t10k-labels-idx1-ubyte.gz\n"
          ]
        },
        {
          "output_type": "stream",
          "name": "stderr",
          "text": [
            "100%|██████████| 5148/5148 [00:00<00:00, 2000025.66it/s]\n"
          ]
        },
        {
          "output_type": "stream",
          "name": "stdout",
          "text": [
            "Extracting data/FashionMNIST/raw/t10k-labels-idx1-ubyte.gz to data/FashionMNIST/raw\n",
            "\n"
          ]
        }
      ],
      "source": [
        "import torch\n",
        "from torch import nn\n",
        "from torch.utils.data import DataLoader\n",
        "from torchvision import datasets\n",
        "from torchvision.transforms import ToTensor\n",
        "\n",
        "training_data = datasets.FashionMNIST(\n",
        "    root = 'data',\n",
        "    train = True,\n",
        "    download = True,\n",
        "    transform = ToTensor()\n",
        ")\n",
        "\n",
        "test_data = datasets.FashionMNIST(\n",
        "    root = 'data',\n",
        "    train = False,\n",
        "    download = True,\n",
        "    transform = ToTensor()\n",
        ")"
      ]
    },
    {
      "cell_type": "code",
      "source": [
        "train_dataloader = DataLoader(training_data, batch_size = 64)\n",
        "test_dataloader = DataLoader(test_data, batch_size = 64)"
      ],
      "metadata": {
        "id": "kqe1Eo6trPJr"
      },
      "execution_count": 2,
      "outputs": []
    },
    {
      "cell_type": "code",
      "source": [
        "class NeuralNetwork(nn.Module):\n",
        "\n",
        "    def __init__(self):\n",
        "\n",
        "        super(NeuralNetwork, self).__init__()\n",
        "        self.flatten = nn.Flatten()\n",
        "        self.linear_relu_stack = nn.Sequential(\n",
        "            nn.Linear(28*28, 512),\n",
        "            nn.ReLU(),\n",
        "            nn.Linear(512, 512),\n",
        "            nn.ReLU(),\n",
        "            nn.Linear(512, 10),\n",
        "        )\n",
        "\n",
        "    def forward(self, x):\n",
        "        x = self.flatten(x)\n",
        "        logits = self.linear_relu_stack(x)\n",
        "\n",
        "        return logits"
      ],
      "metadata": {
        "id": "Gj7zs1o3rWzb"
      },
      "execution_count": 3,
      "outputs": []
    },
    {
      "cell_type": "code",
      "source": [
        "model = NeuralNetwork()"
      ],
      "metadata": {
        "id": "-PKuvVrdruDH"
      },
      "execution_count": 4,
      "outputs": []
    },
    {
      "cell_type": "code",
      "source": [],
      "metadata": {
        "id": "Mp635ZFWrvoK"
      },
      "execution_count": null,
      "outputs": []
    },
    {
      "cell_type": "markdown",
      "source": [
        "## 하이퍼파라미터(Hyperparameter)\n",
        "\n",
        "하이퍼파라미터(Hyperparameter)는 모델 최적화 과정을 제어할 수 있는 조절 가능한 매개변수입니다.\n",
        "서로 다른 하이퍼파라미터 값은 모델 학습과 수렴율(convergence rate)에 영향을 미칠 수 있습니다.\n",
        "(하이퍼파라미터 튜닝(tuning)에 대해 [더 알아보기](https://tutorials.pytorch.kr/beginner/hyperparameter_tuning_tutorial.html)_)\n",
        "\n",
        "학습 시에는 다음과 같은 하이퍼파라미터를 정의합니다:\n",
        " - **에폭(epoch) 수** - 데이터셋을 반복하는 횟수\n",
        " - **배치 크기(batch size)** - 매개변수가 갱신되기 전 신경망을 통해 전파된 데이터 샘플의 수\n",
        " - **학습률(learning rate)** - 각 배치/에폭에서 모델의 매개변수를 조절하는 비율. 값이 작을수록 학습 속도가 느려지고, 값이 크면 학습 중 예측할 수 없는 동작이 발생할 수 있습니다."
      ],
      "metadata": {
        "id": "ZnzKm-NPrxgy"
      }
    },
    {
      "cell_type": "code",
      "source": [
        "epochs = 5\n",
        "\n",
        "batch_size = 64\n",
        "\n",
        "learning_rate = 1e-3"
      ],
      "metadata": {
        "id": "67LUaHU8rxyb"
      },
      "execution_count": 5,
      "outputs": []
    },
    {
      "cell_type": "code",
      "source": [],
      "metadata": {
        "id": "2WIGe43sr4gi"
      },
      "execution_count": null,
      "outputs": []
    },
    {
      "cell_type": "markdown",
      "source": [
        "## 최적화 단계(Optimization Loop)\n",
        "\n",
        "하이퍼파라미터를 설정한 뒤에는 최적화 단계를 통해 모델을 학습하고 최적화할 수 있습니다.\n",
        "최적화 단계의 각 반복(iteration)을 **에폭**\\ 이라고 부릅니다.\n",
        "\n",
        "하나의 에폭은 다음 두 부분으로 구성됩니다:\n",
        " - **학습 단계(train loop)** - 학습용 데이터셋을 반복(iterate)하고 최적의 매개변수로 수렴합니다.\n",
        " - **검증/테스트 단계(validation/test loop)** - 모델 성능이 개선되고 있는지를 확인하기 위해 테스트 데이터셋을 반복(iterate)합니다.\n",
        "\n",
        "학습 단계(training loop)에서 일어나는 몇 가지 개념들을 간략히 살펴보겠습니다. 최적화 단계(optimization loop)를 보려면\n",
        "`full-impl-label` 부분으로 건너뛰시면 됩니다.\n",
        "\n",
        "### 손실 함수(loss function)\n",
        "\n",
        "학습용 데이터를 제공하면, 학습되지 않은 신경망은 정답을 제공하지 않을 확률이 높습니다. **손실 함수(loss function)**\\ 는\n",
        "획득한 결과와 실제 값 사이의 틀린 정도(degree of dissimilarity)를 측정하며, 학습 중에 이 값을 최소화하려고 합니다.\n",
        "주어진 데이터 샘플을 입력으로 계산한 예측과 정답(label)을 비교하여 손실(loss)을 계산합니다.\n",
        "\n",
        "일반적인 손실함수에는 회귀 문제(regression task)에 사용하는 [nn.MSELoss](https://pytorch.org/docs/stable/generated/torch.nn.MSELoss.html#torch.nn.MSELoss)\\ (평균 제곱 오차(MSE; Mean Square Error))나\n",
        "분류(classification)에 사용하는 [nn.NLLLoss](https://pytorch.org/docs/stable/generated/torch.nn.NLLLoss.html#torch.nn.NLLLoss) (음의 로그 우도(Negative Log Likelihood)),\n",
        "그리고 ``nn.LogSoftmax``\\ 와 ``nn.NLLLoss``\\ 를 합친 [nn.CrossEntropyLoss](https://pytorch.org/docs/stable/generated/torch.nn.CrossEntropyLoss.html#torch.nn.CrossEntropyLoss)\n",
        "등이 있습니다.\n",
        "\n",
        "모델의 출력 로짓(logit)을 ``nn.CrossEntropyLoss``\\ 에 전달하여 로짓(logit)을 정규화하고 예측 오류를 계산합니다."
      ],
      "metadata": {
        "id": "7ET_JbJjr8lO"
      }
    },
    {
      "cell_type": "code",
      "source": [
        "# 손실 함수를 초기화합니다.\n",
        "loss_fn = nn.CrossEntropyLoss()"
      ],
      "metadata": {
        "id": "lMdEKl7Nr82D"
      },
      "execution_count": 6,
      "outputs": []
    },
    {
      "cell_type": "code",
      "source": [],
      "metadata": {
        "id": "dADU5fj4sHPg"
      },
      "execution_count": null,
      "outputs": []
    },
    {
      "cell_type": "markdown",
      "source": [
        "### 옵티마이저(Optimizer)\n",
        "\n",
        "최적화는 각 학습 단계에서 모델의 오류를 줄이기 위해 모델 매개변수를 조정하는 과정입니다. **최적화 알고리즘**\\ 은 이 과정이 수행되는 방식(여기에서는 확률적 경사하강법(SGD; Stochastic Gradient Descent))을 정의합니다.\n",
        "모든 최적화 절차(logic)는 ``optimizer`` 객체에 캡슐화(encapsulate)됩니다. 여기서는 SGD 옵티마이저를 사용하고 있으며, PyTorch에는 ADAM이나 RMSProp과 같은 다른 종류의 모델과 데이터에서 더 잘 동작하는\n",
        "[다양한 옵티마이저](https://pytorch.org/docs/stable/optim.html)\\ 가 있습니다.\n",
        "\n",
        "학습하려는 모델의 매개변수와 학습률(learning rate) 하이퍼파라미터를 등록하여 옵티마이저를 초기화합니다.\n"
      ],
      "metadata": {
        "id": "kZc6U-lhsOs2"
      }
    },
    {
      "cell_type": "code",
      "source": [
        "optimizer = torch.optim.SGD(model.parameters(), lr = learning_rate)"
      ],
      "metadata": {
        "id": "xr4HGMvlsO46"
      },
      "execution_count": 7,
      "outputs": []
    },
    {
      "cell_type": "code",
      "source": [],
      "metadata": {
        "id": "If33iFlDsXXT"
      },
      "execution_count": null,
      "outputs": []
    },
    {
      "cell_type": "markdown",
      "source": [
        "학습 단계(loop)에서 최적화는 세단계로 이뤄집니다:\n",
        " * ``optimizer.zero_grad()``\\ 를 호출하여 모델 매개변수의 변화도를 재설정합니다. 기본적으로 변화도는 더해지기(add up) 때문에 중복 계산을 막기 위해 반복할 때마다 명시적으로 0으로 설정합니다.\n",
        " * ``loss.backwards()``\\ 를 호출하여 예측 손실(prediction loss)을 역전파합니다. PyTorch는 각 매개변수에 대한 손실의 변화도를 저장합니다.\n",
        " * 변화도를 계산한 뒤에는 ``optimizer.step()``\\ 을 호출하여 역전파 단계에서 수집된 변화도로 매개변수를 조정합니다."
      ],
      "metadata": {
        "id": "9N46dN-BsZYB"
      }
    },
    {
      "cell_type": "code",
      "source": [],
      "metadata": {
        "id": "YZBVNskDsZpQ"
      },
      "execution_count": null,
      "outputs": []
    },
    {
      "cell_type": "markdown",
      "source": [
        "\n",
        "## 전체 구현\n",
        "\n",
        "최적화 코드를 반복하여 수행하는 ``train_loop``\\ 와 테스트 데이터로 모델의 성능을 측정하는 ``test_loop``\\ 를 정의하였습니다.\n"
      ],
      "metadata": {
        "id": "UPl9nqzYsgV0"
      }
    },
    {
      "cell_type": "code",
      "source": [
        "def train_loop(dataloader, model, loss_fn, optimizer):\n",
        "\n",
        "    size = len(dataloader.dataset)\n",
        "\n",
        "    for batch,(X,y) in enumerate(dataloader):\n",
        "\n",
        "        # 예측(prediction)과 손실(loss)계산\n",
        "\n",
        "        pred = model(X)\n",
        "        loss = loss_fn(pred, y)\n",
        "\n",
        "        #역전파\n",
        "        optimizer.zero_grad()\n",
        "        loss.backward()\n",
        "        optimizer.step()\n",
        "\n",
        "        if batch % 100 == 0:\n",
        "\n",
        "            loss, current = loss.item(), (batch + 1) * len(X)\n",
        "            print(f'loss: {loss:>7f} [{current:>5d}/{size:>5d}]')"
      ],
      "metadata": {
        "id": "GqPOFRRjsgkg"
      },
      "execution_count": 8,
      "outputs": []
    },
    {
      "cell_type": "code",
      "source": [
        "def test_loop(dataloader, model, loss_fn):\n",
        "\n",
        "    size = len(dataloader.dataset)\n",
        "    num_batches = len(dataloader)\n",
        "    test_loss, correct = 0,0\n",
        "\n",
        "    with torch.no_grad():\n",
        "\n",
        "        for X,y in dataloader:\n",
        "\n",
        "            pred = model(X)\n",
        "            test_loss += loss_fn(pred,y).item()\n",
        "            correct += (pred.argmax(1) == y).type(torch.float).sum().item()\n",
        "\n",
        "    test_loss /= num_batches\n",
        "    correct /= size\n",
        "    print(f'Test error: \\n Accuracy: {(100*correct):>0.1f}%, Avg oss: {test_loss:>8f} \\n')"
      ],
      "metadata": {
        "id": "0HUVHhyrs7iC"
      },
      "execution_count": 9,
      "outputs": []
    },
    {
      "cell_type": "code",
      "source": [],
      "metadata": {
        "id": "FgTENqXJtXbv"
      },
      "execution_count": null,
      "outputs": []
    },
    {
      "cell_type": "markdown",
      "source": [
        "손실 함수와 옵티마이저를 초기화하고 ``train_loop``\\ 와 ``test_loop``\\ 에 전달합니다.\n",
        "모델의 성능 향상을 알아보기 위해 자유롭게 에폭(epoch) 수를 증가시켜 볼 수 있습니다.\n"
      ],
      "metadata": {
        "id": "YfQ2w3_5tZN8"
      }
    },
    {
      "cell_type": "code",
      "source": [
        "loss_fn = nn.CrossEntropyLoss()\n",
        "optimizer = torch.optim.SGD(model.parameters(), lr = learning_rate)\n",
        "\n",
        "epochs = 10\n",
        "\n",
        "for t in range(epochs):\n",
        "\n",
        "    print(f'Epoch: {t+1} \\n --------------------------------------------')\n",
        "    train_loop(train_dataloader, model, loss_fn, optimizer)\n",
        "    test_loop(test_dataloader, model, loss_fn)\n",
        "\n",
        "print('Done!')"
      ],
      "metadata": {
        "colab": {
          "base_uri": "https://localhost:8080/"
        },
        "id": "Frnj7w4etZaN",
        "outputId": "0b0a83b1-db9d-447b-998e-2ad6da1108ac"
      },
      "execution_count": 10,
      "outputs": [
        {
          "output_type": "stream",
          "name": "stdout",
          "text": [
            "Epoch: 1 \n",
            " --------------------------------------------\n",
            "loss: 2.314130 [   64/60000]\n",
            "loss: 2.306870 [ 6464/60000]\n",
            "loss: 2.282719 [12864/60000]\n",
            "loss: 2.272498 [19264/60000]\n",
            "loss: 2.264441 [25664/60000]\n",
            "loss: 2.241311 [32064/60000]\n",
            "loss: 2.234560 [38464/60000]\n",
            "loss: 2.209896 [44864/60000]\n",
            "loss: 2.199154 [51264/60000]\n",
            "loss: 2.170542 [57664/60000]\n",
            "Test error: \n",
            " Accuracy: 52.2%, Avg oss: 2.171434 \n",
            "\n",
            "Epoch: 2 \n",
            " --------------------------------------------\n",
            "loss: 2.178501 [   64/60000]\n",
            "loss: 2.175620 [ 6464/60000]\n",
            "loss: 2.120710 [12864/60000]\n",
            "loss: 2.130600 [19264/60000]\n",
            "loss: 2.093278 [25664/60000]\n",
            "loss: 2.039031 [32064/60000]\n",
            "loss: 2.049458 [38464/60000]\n",
            "loss: 1.986586 [44864/60000]\n",
            "loss: 1.987050 [51264/60000]\n",
            "loss: 1.916381 [57664/60000]\n",
            "Test error: \n",
            " Accuracy: 60.6%, Avg oss: 1.923317 \n",
            "\n",
            "Epoch: 3 \n",
            " --------------------------------------------\n",
            "loss: 1.953940 [   64/60000]\n",
            "loss: 1.931675 [ 6464/60000]\n",
            "loss: 1.822504 [12864/60000]\n",
            "loss: 1.850743 [19264/60000]\n",
            "loss: 1.753896 [25664/60000]\n",
            "loss: 1.703902 [32064/60000]\n",
            "loss: 1.709093 [38464/60000]\n",
            "loss: 1.624423 [44864/60000]\n",
            "loss: 1.647857 [51264/60000]\n",
            "loss: 1.535757 [57664/60000]\n",
            "Test error: \n",
            " Accuracy: 60.6%, Avg oss: 1.559400 \n",
            "\n",
            "Epoch: 4 \n",
            " --------------------------------------------\n",
            "loss: 1.629071 [   64/60000]\n",
            "loss: 1.594131 [ 6464/60000]\n",
            "loss: 1.444274 [12864/60000]\n",
            "loss: 1.503518 [19264/60000]\n",
            "loss: 1.392359 [25664/60000]\n",
            "loss: 1.386878 [32064/60000]\n",
            "loss: 1.392130 [38464/60000]\n",
            "loss: 1.320518 [44864/60000]\n",
            "loss: 1.355778 [51264/60000]\n",
            "loss: 1.255593 [57664/60000]\n",
            "Test error: \n",
            " Accuracy: 63.3%, Avg oss: 1.279129 \n",
            "\n",
            "Epoch: 5 \n",
            " --------------------------------------------\n",
            "loss: 1.358848 [   64/60000]\n",
            "loss: 1.342087 [ 6464/60000]\n",
            "loss: 1.171199 [12864/60000]\n",
            "loss: 1.269930 [19264/60000]\n",
            "loss: 1.151492 [25664/60000]\n",
            "loss: 1.175878 [32064/60000]\n",
            "loss: 1.194574 [38464/60000]\n",
            "loss: 1.129085 [44864/60000]\n",
            "loss: 1.168659 [51264/60000]\n",
            "loss: 1.089077 [57664/60000]\n",
            "Test error: \n",
            " Accuracy: 65.0%, Avg oss: 1.105093 \n",
            "\n",
            "Epoch: 6 \n",
            " --------------------------------------------\n",
            "loss: 1.176221 [   64/60000]\n",
            "loss: 1.182618 [ 6464/60000]\n",
            "loss: 0.995487 [12864/60000]\n",
            "loss: 1.126214 [19264/60000]\n",
            "loss: 1.004077 [25664/60000]\n",
            "loss: 1.036264 [32064/60000]\n",
            "loss: 1.071381 [38464/60000]\n",
            "loss: 1.007879 [44864/60000]\n",
            "loss: 1.048093 [51264/60000]\n",
            "loss: 0.983250 [57664/60000]\n",
            "Test error: \n",
            " Accuracy: 66.0%, Avg oss: 0.993699 \n",
            "\n",
            "Epoch: 7 \n",
            " --------------------------------------------\n",
            "loss: 1.051978 [   64/60000]\n",
            "loss: 1.079654 [ 6464/60000]\n",
            "loss: 0.876954 [12864/60000]\n",
            "loss: 1.031463 [19264/60000]\n",
            "loss: 0.911782 [25664/60000]\n",
            "loss: 0.938788 [32064/60000]\n",
            "loss: 0.990345 [38464/60000]\n",
            "loss: 0.929047 [44864/60000]\n",
            "loss: 0.965099 [51264/60000]\n",
            "loss: 0.911519 [57664/60000]\n",
            "Test error: \n",
            " Accuracy: 67.2%, Avg oss: 0.918083 \n",
            "\n",
            "Epoch: 8 \n",
            " --------------------------------------------\n",
            "loss: 0.961757 [   64/60000]\n",
            "loss: 1.008356 [ 6464/60000]\n",
            "loss: 0.792604 [12864/60000]\n",
            "loss: 0.964657 [19264/60000]\n",
            "loss: 0.850614 [25664/60000]\n",
            "loss: 0.867529 [32064/60000]\n",
            "loss: 0.933386 [38464/60000]\n",
            "loss: 0.876183 [44864/60000]\n",
            "loss: 0.905391 [51264/60000]\n",
            "loss: 0.859340 [57664/60000]\n",
            "Test error: \n",
            " Accuracy: 68.2%, Avg oss: 0.863826 \n",
            "\n",
            "Epoch: 9 \n",
            " --------------------------------------------\n",
            "loss: 0.893038 [   64/60000]\n",
            "loss: 0.955338 [ 6464/60000]\n",
            "loss: 0.729677 [12864/60000]\n",
            "loss: 0.914816 [19264/60000]\n",
            "loss: 0.806964 [25664/60000]\n",
            "loss: 0.813759 [32064/60000]\n",
            "loss: 0.890384 [38464/60000]\n",
            "loss: 0.839426 [44864/60000]\n",
            "loss: 0.860744 [51264/60000]\n",
            "loss: 0.819057 [57664/60000]\n",
            "Test error: \n",
            " Accuracy: 69.3%, Avg oss: 0.822803 \n",
            "\n",
            "Epoch: 10 \n",
            " --------------------------------------------\n",
            "loss: 0.838160 [   64/60000]\n",
            "loss: 0.913013 [ 6464/60000]\n",
            "loss: 0.680438 [12864/60000]\n",
            "loss: 0.876117 [19264/60000]\n",
            "loss: 0.773563 [25664/60000]\n",
            "loss: 0.772058 [32064/60000]\n",
            "loss: 0.855832 [38464/60000]\n",
            "loss: 0.812632 [44864/60000]\n",
            "loss: 0.825988 [51264/60000]\n",
            "loss: 0.786526 [57664/60000]\n",
            "Test error: \n",
            " Accuracy: 70.7%, Avg oss: 0.790282 \n",
            "\n",
            "Done!\n"
          ]
        }
      ]
    },
    {
      "cell_type": "code",
      "source": [],
      "metadata": {
        "id": "UlCPK1Y4tq74"
      },
      "execution_count": null,
      "outputs": []
    }
  ]
}
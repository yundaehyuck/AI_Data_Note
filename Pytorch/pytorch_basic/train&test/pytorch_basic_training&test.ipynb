{
  "nbformat": 4,
  "nbformat_minor": 0,
  "metadata": {
    "colab": {
      "provenance": []
    },
    "kernelspec": {
      "name": "python3",
      "display_name": "Python 3"
    },
    "language_info": {
      "name": "python"
    }
  },
  "cells": [
    {
      "cell_type": "code",
      "execution_count": 1,
      "metadata": {
        "id": "-Q6RKlLODPen"
      },
      "outputs": [],
      "source": [
        "#library\n",
        "\n",
        "import torch\n",
        "import torchvision.datasets as dsets\n",
        "import torchvision.transforms as transforms\n",
        "\n",
        "import matplotlib.pyplot as plt\n",
        "\n",
        "import random"
      ]
    },
    {
      "cell_type": "code",
      "source": [
        "#download mnist\n",
        "\n",
        "mnist_train = dsets.MNIST(root = 'MNIST_data/', train = True,\n",
        "                          transform = transforms.ToTensor(),\n",
        "                          download = True)\n",
        "\n",
        "mnist_test = dsets.MNIST(root = 'MNIST_data/', train = False,\n",
        "                         transform = transforms.ToTensor(),\n",
        "                         download = True)"
      ],
      "metadata": {
        "id": "np6wUA9NDcFL"
      },
      "execution_count": 59,
      "outputs": []
    },
    {
      "cell_type": "code",
      "source": [
        "#dataloader\n",
        "\n",
        "train_loader = torch.utils.data.DataLoader(mnist_train, batch_size = 32,\n",
        "                                           shuffle = True, drop_last = True)\n",
        "\n",
        "#왜 test를 shuffle을 true로 했었을까\n",
        "test_loader = torch.utils.data.DataLoader(mnist_test, batch_size = 32,\n",
        "                                          shuffle = True, drop_last = True)"
      ],
      "metadata": {
        "id": "kneSjg1xDwBG"
      },
      "execution_count": 3,
      "outputs": []
    },
    {
      "cell_type": "code",
      "source": [
        "#hyperparameter\n",
        "\n",
        "device = 'cuda' if torch.cuda.is_available() else 'cpu'\n",
        "\n",
        "random.seed(777)\n",
        "torch.manual_seed(777)\n",
        "\n",
        "if device == 'cuda':\n",
        "\n",
        "    torch.cuda.manual_seed_all(777)\n",
        "\n",
        "training_epochs = 15\n",
        "batch_size = 100"
      ],
      "metadata": {
        "id": "5a_gqM-YEB2U"
      },
      "execution_count": 4,
      "outputs": []
    },
    {
      "cell_type": "code",
      "source": [
        "#check data\n",
        "for x,y in train_loader:\n",
        "\n",
        "    x = x.view(-1,28*28).to(device)\n",
        "\n",
        "    print(x)\n",
        "    print(y)\n",
        "\n",
        "    break"
      ],
      "metadata": {
        "colab": {
          "base_uri": "https://localhost:8080/"
        },
        "id": "sE0rSb8cER39",
        "outputId": "509419a4-b62c-4cf0-e61f-fc3e7e95f626"
      },
      "execution_count": 5,
      "outputs": [
        {
          "output_type": "stream",
          "name": "stdout",
          "text": [
            "tensor([[0., 0., 0.,  ..., 0., 0., 0.],\n",
            "        [0., 0., 0.,  ..., 0., 0., 0.],\n",
            "        [0., 0., 0.,  ..., 0., 0., 0.],\n",
            "        ...,\n",
            "        [0., 0., 0.,  ..., 0., 0., 0.],\n",
            "        [0., 0., 0.,  ..., 0., 0., 0.],\n",
            "        [0., 0., 0.,  ..., 0., 0., 0.]])\n",
            "tensor([0, 7, 9, 2, 7, 3, 4, 4, 1, 6, 8, 6, 9, 0, 1, 4, 3, 0, 7, 1, 7, 6, 2, 5,\n",
            "        0, 2, 3, 7, 7, 5, 9, 8])\n"
          ]
        }
      ]
    },
    {
      "cell_type": "code",
      "source": [],
      "metadata": {
        "id": "03fgpSNFEZxr"
      },
      "execution_count": null,
      "outputs": []
    },
    {
      "cell_type": "markdown",
      "source": [
        "# simple linear layer"
      ],
      "metadata": {
        "id": "US67Eq0LFvaJ"
      }
    },
    {
      "cell_type": "code",
      "source": [
        "linear  = torch.nn.Linear(784, 10, bias=True).to(device)"
      ],
      "metadata": {
        "id": "TvklTh7gFwx2"
      },
      "execution_count": 6,
      "outputs": []
    },
    {
      "cell_type": "code",
      "source": [
        "criterion = torch.nn.CrossEntropyLoss().to(device)\n",
        "optimizer = torch.optim.SGD(linear.parameters(), lr = 0.1)"
      ],
      "metadata": {
        "id": "8Q5jcUsVF2PO"
      },
      "execution_count": 7,
      "outputs": []
    },
    {
      "cell_type": "code",
      "source": [
        "28*28"
      ],
      "metadata": {
        "colab": {
          "base_uri": "https://localhost:8080/"
        },
        "id": "BTERCzlLGJOH",
        "outputId": "f8da4785-3ccc-4530-daaa-f4a3bf647599"
      },
      "execution_count": 8,
      "outputs": [
        {
          "output_type": "execute_result",
          "data": {
            "text/plain": [
              "784"
            ]
          },
          "metadata": {},
          "execution_count": 8
        }
      ]
    },
    {
      "cell_type": "code",
      "source": [
        "#training\n",
        "\n",
        "for epoch in range(training_epochs):\n",
        "\n",
        "    avg_cost = 0\n",
        "    total_batch = len(train_loader)\n",
        "\n",
        "    for x,y in train_loader:\n",
        "\n",
        "        x = x.view(-1,784).to(device)\n",
        "        y = y.to(device)\n",
        "\n",
        "        optimizer.zero_grad()\n",
        "\n",
        "        hypothesis = linear(x)\n",
        "\n",
        "        cost = criterion(hypothesis, y)\n",
        "\n",
        "        cost.backward()\n",
        "\n",
        "        optimizer.step()\n",
        "\n",
        "        avg_cost += cost/total_batch\n",
        "\n",
        "    print('epoch:', '%04d' % (epoch + 1), 'cost = ', '{:.9f}'.format(avg_cost))\n",
        "print('Learning finished')"
      ],
      "metadata": {
        "colab": {
          "base_uri": "https://localhost:8080/"
        },
        "id": "x4kffreRF8x0",
        "outputId": "fefa05ba-5645-4d7f-cb70-9f1d8a6d9f4f"
      },
      "execution_count": 9,
      "outputs": [
        {
          "output_type": "stream",
          "name": "stdout",
          "text": [
            "epoch: 0001 cost =  0.414244622\n",
            "Learning finished\n",
            "epoch: 0002 cost =  0.313467234\n",
            "Learning finished\n",
            "epoch: 0003 cost =  0.296693176\n",
            "Learning finished\n",
            "epoch: 0004 cost =  0.287904441\n",
            "Learning finished\n",
            "epoch: 0005 cost =  0.281841040\n",
            "Learning finished\n",
            "epoch: 0006 cost =  0.277068824\n",
            "Learning finished\n",
            "epoch: 0007 cost =  0.274051607\n",
            "Learning finished\n",
            "epoch: 0008 cost =  0.270519525\n",
            "Learning finished\n",
            "epoch: 0009 cost =  0.269291908\n",
            "Learning finished\n",
            "epoch: 0010 cost =  0.267146975\n",
            "Learning finished\n",
            "epoch: 0011 cost =  0.265094757\n",
            "Learning finished\n",
            "epoch: 0012 cost =  0.263548583\n",
            "Learning finished\n",
            "epoch: 0013 cost =  0.262238026\n",
            "Learning finished\n",
            "epoch: 0014 cost =  0.261257648\n",
            "Learning finished\n",
            "epoch: 0015 cost =  0.259815484\n",
            "Learning finished\n"
          ]
        }
      ]
    },
    {
      "cell_type": "code",
      "source": [
        "#test\n",
        "\n",
        "with torch.no_grad():\n",
        "\n",
        "    x_test = mnist_test.test_data.view(-1,784).float().to(device)\n",
        "    y_test = mnist_test.test_labels.to(device)\n",
        "\n",
        "    prediction = linear(x_test)\n",
        "\n",
        "    correct_prediction = torch.argmax(prediction,1) == y_test\n",
        "\n",
        "    accuracy = correct_prediction.float().mean()\n",
        "\n",
        "    print('accuracy:', accuracy.item())\n",
        "\n",
        "    r = random.randint(0,len(mnist_test) - 1)\n",
        "\n",
        "    x_single_data = mnist_test.test_data[r:r+1].view(-1,784).float().to(device)\n",
        "    y_single_data = mnist_test.test_labels[r:r+1].to(device)\n",
        "\n",
        "    print('label:',y_single_data.item())\n",
        "\n",
        "    single_prediction = linear(x_single_data)\n",
        "\n",
        "    print('prediction:', torch.argmax(single_prediction,1).item())\n",
        "\n",
        "    plt.imshow(mnist_test.test_data[r:r+1].view(28,28),cmap = 'Greys',\n",
        "               interpolation = 'nearest')\n",
        "\n",
        "    plt.show()"
      ],
      "metadata": {
        "colab": {
          "base_uri": "https://localhost:8080/",
          "height": 557
        },
        "id": "_NQaLU7WGikH",
        "outputId": "337133e2-dabc-417d-ec29-219d9f220f72"
      },
      "execution_count": 11,
      "outputs": [
        {
          "output_type": "stream",
          "name": "stderr",
          "text": [
            "/usr/local/lib/python3.10/dist-packages/torchvision/datasets/mnist.py:80: UserWarning: test_data has been renamed data\n",
            "  warnings.warn(\"test_data has been renamed data\")\n",
            "/usr/local/lib/python3.10/dist-packages/torchvision/datasets/mnist.py:70: UserWarning: test_labels has been renamed targets\n",
            "  warnings.warn(\"test_labels has been renamed targets\")\n"
          ]
        },
        {
          "output_type": "stream",
          "name": "stdout",
          "text": [
            "accuracy: 0.8691999912261963\n",
            "label: 5\n",
            "prediction: 3\n"
          ]
        },
        {
          "output_type": "display_data",
          "data": {
            "text/plain": [
              "<Figure size 640x480 with 1 Axes>"
            ],
            "image/png": "[encoded data removed]"
          },
          "metadata": {}
        }
      ]
    },
    {
      "cell_type": "code",
      "source": [],
      "metadata": {
        "id": "bVybIQ4JH5qT"
      },
      "execution_count": null,
      "outputs": []
    },
    {
      "cell_type": "markdown",
      "source": [
        "#initialization weight"
      ],
      "metadata": {
        "id": "IjeTiVVzTHNB"
      }
    },
    {
      "cell_type": "code",
      "source": [
        "data_loader = torch.utils.data.DataLoader(dataset = mnist_train,\n",
        "                                          batch_size = batch_size,\n",
        "                                          shuffle = True,\n",
        "                                          drop_last = True)"
      ],
      "metadata": {
        "id": "42VAIkuPTKnd"
      },
      "execution_count": 60,
      "outputs": []
    },
    {
      "cell_type": "code",
      "source": [
        "learning_rate = 0.1\n",
        "training_epochs = 15\n",
        "batch_size = 100"
      ],
      "metadata": {
        "id": "2j9LKMs4Uh6T"
      },
      "execution_count": 67,
      "outputs": []
    },
    {
      "cell_type": "code",
      "source": [
        "#https://pytorch.org/docs/stable/nn.init.html\n",
        "#initialization weight tensor\n",
        "\n",
        "linear = torch.nn.Linear(784,10,bias=True).to(device)\n",
        "\n",
        "torch.nn.init.normal_(linear.weight)"
      ],
      "metadata": {
        "colab": {
          "base_uri": "https://localhost:8080/"
        },
        "id": "Nmd-73mzTfxO",
        "outputId": "79ce8108-d3e1-44c0-d5f2-0aeef028845e"
      },
      "execution_count": 68,
      "outputs": [
        {
          "output_type": "execute_result",
          "data": {
            "text/plain": [
              "Parameter containing:\n",
              "tensor([[ 1.7170, -0.4611, -0.4644,  ...,  0.3602,  0.7196,  1.1789],\n",
              "        [ 0.6419,  0.7655,  1.0943,  ...,  0.7149, -0.3398, -1.5012],\n",
              "        [-0.1543,  0.3125, -0.7556,  ..., -0.4268, -1.3576,  1.5279],\n",
              "        ...,\n",
              "        [-0.9331,  1.9624, -0.2979,  ..., -1.3436,  0.0636,  1.2000],\n",
              "        [-1.6933,  1.0500, -1.6246,  ..., -0.8243, -0.4997, -0.7973],\n",
              "        [ 0.2238, -0.2057, -0.8574,  ..., -0.7657, -0.2953,  0.0848]],\n",
              "       requires_grad=True)"
            ]
          },
          "metadata": {},
          "execution_count": 68
        }
      ]
    },
    {
      "cell_type": "code",
      "source": [
        "criterion = torch.nn.CrossEntropyLoss().to(device)\n",
        "optimizer = torch.optim.Adam(linear.parameters(), lr = learning_rate)"
      ],
      "metadata": {
        "id": "yyKjDmBEUWmP"
      },
      "execution_count": 69,
      "outputs": []
    },
    {
      "cell_type": "code",
      "source": [
        "total_batch = len(data_loader)\n",
        "\n",
        "for epoch in range(training_epochs):\n",
        "\n",
        "    avg_cost = 0\n",
        "\n",
        "    for x,y in data_loader:\n",
        "\n",
        "        x = x.view(-1,784).to(device)\n",
        "        y = y.to(device)\n",
        "\n",
        "        optimizer.zero_grad()\n",
        "\n",
        "        hypothesis = linear(x)\n",
        "\n",
        "        cost = criterion(hypothesis, y)\n",
        "\n",
        "        cost.backward()\n",
        "        optimizer.step()\n",
        "\n",
        "        avg_cost += cost/total_batch\n",
        "\n",
        "    print('epoch: ', '%04d' %(epoch+1), 'cost = ', '{:.9f}'.format(avg_cost))\n",
        "\n",
        "print('learning finished')"
      ],
      "metadata": {
        "colab": {
          "base_uri": "https://localhost:8080/"
        },
        "id": "kN9aqWICUm1P",
        "outputId": "9482d398-9d83-4576-ed2b-f8f2b4961b6c"
      },
      "execution_count": 70,
      "outputs": [
        {
          "output_type": "stream",
          "name": "stdout",
          "text": [
            "epoch:  0001 cost =  1.096136212\n",
            "epoch:  0002 cost =  1.005576730\n",
            "epoch:  0003 cost =  0.999088705\n",
            "epoch:  0004 cost =  1.072223544\n",
            "epoch:  0005 cost =  1.018894672\n",
            "epoch:  0006 cost =  1.011124969\n",
            "epoch:  0007 cost =  1.013777733\n",
            "epoch:  0008 cost =  1.012180567\n",
            "epoch:  0009 cost =  1.022216916\n",
            "epoch:  0010 cost =  1.027872682\n",
            "epoch:  0011 cost =  1.039777279\n",
            "epoch:  0012 cost =  1.056721330\n",
            "epoch:  0013 cost =  1.044611216\n",
            "epoch:  0014 cost =  1.011985064\n",
            "epoch:  0015 cost =  1.035102725\n",
            "learning finished\n"
          ]
        }
      ]
    },
    {
      "cell_type": "code",
      "source": [
        "with torch.no_grad():\n",
        "\n",
        "    x_test = mnist_test.test_data.view(-1,784).float().to(device)\n",
        "    y_test = mnist_test.test_labels.to(device)\n",
        "\n",
        "    prediction = linear(x_test)\n",
        "\n",
        "    correct_prediction = torch.argmax(prediction,1) == y_test\n",
        "\n",
        "    accuracy = correct_prediction.float().mean()\n",
        "\n",
        "    print('accuracy: ', accuracy.item())\n",
        "\n",
        "    r = random.randint(0,len(mnist_test)-1)\n",
        "    x_single_data = mnist_test.test_data[r:r+1].view(-1,784).float().to(device)\n",
        "    y_single_data = mnist_test.test_labels[r:r+1].to(device)\n",
        "\n",
        "    print('label:',y_single_data.item())\n",
        "    single_prediction = linear(x_single_data)\n",
        "    print('prediction: ', torch.argmax(single_prediction, 1).item())"
      ],
      "metadata": {
        "colab": {
          "base_uri": "https://localhost:8080/"
        },
        "id": "kxobgpCBVgYA",
        "outputId": "f6a74e1f-c019-4670-9ca6-47b4ef397a07"
      },
      "execution_count": 71,
      "outputs": [
        {
          "output_type": "stream",
          "name": "stdout",
          "text": [
            "accuracy:  0.7666000127792358\n",
            "label: 9\n",
            "prediction:  9\n"
          ]
        }
      ]
    },
    {
      "cell_type": "markdown",
      "source": [
        "#3-linear & relu model"
      ],
      "metadata": {
        "id": "n6bQi-x0Zq_v"
      }
    },
    {
      "cell_type": "code",
      "source": [
        "linear1 = torch.nn.Linear(784,256,bias=True)\n",
        "linear2 = torch.nn.Linear(256,256,bias=True)\n",
        "linear3 = torch.nn.Linear(256,10,bias=True)\n",
        "\n",
        "relu = torch.nn.ReLU()"
      ],
      "metadata": {
        "id": "7B7RdgTiZt8X"
      },
      "execution_count": 72,
      "outputs": []
    },
    {
      "cell_type": "code",
      "source": [
        "#initialization\n",
        "\n",
        "torch.nn.init.kaiming_normal_(linear1.weight)\n",
        "torch.nn.init.kaiming_normal_(linear2.weight)\n",
        "torch.nn.init.kaiming_normal_(linear3.weight)"
      ],
      "metadata": {
        "colab": {
          "base_uri": "https://localhost:8080/"
        },
        "id": "mqj6sriQZ8SS",
        "outputId": "1f977968-6dd6-4b0e-ab99-6fd403c4f41c"
      },
      "execution_count": 73,
      "outputs": [
        {
          "output_type": "execute_result",
          "data": {
            "text/plain": [
              "Parameter containing:\n",
              "tensor([[-7.3265e-02, -7.9363e-02, -6.3862e-02,  ...,  3.9543e-02,\n",
              "         -3.0793e-02, -7.4881e-02],\n",
              "        [-1.2454e-01,  1.3825e-04,  8.3205e-02,  ...,  1.0654e-01,\n",
              "         -8.0712e-02, -7.7189e-02],\n",
              "        [ 4.9453e-02, -7.7921e-02, -5.2248e-02,  ...,  3.6069e-02,\n",
              "          1.0350e-01, -7.3003e-02],\n",
              "        ...,\n",
              "        [ 1.7141e-01, -1.8280e-02,  3.7901e-02,  ..., -5.6384e-02,\n",
              "         -3.3262e-02, -5.6749e-02],\n",
              "        [ 9.2195e-02,  1.8266e-02, -6.5172e-02,  ..., -4.7341e-02,\n",
              "          3.7289e-02, -2.2094e-02],\n",
              "        [-8.6595e-02, -4.2982e-02,  5.5076e-02,  ...,  4.2883e-03,\n",
              "          6.5133e-03, -9.4379e-02]], requires_grad=True)"
            ]
          },
          "metadata": {},
          "execution_count": 73
        }
      ]
    },
    {
      "cell_type": "code",
      "source": [
        "model = torch.nn.Sequential(linear1, relu,\n",
        "                            linear2, relu,\n",
        "                            linear3).to(device)"
      ],
      "metadata": {
        "id": "rW678aK3aMIW"
      },
      "execution_count": 74,
      "outputs": []
    },
    {
      "cell_type": "code",
      "source": [
        "criterion = torch.nn.CrossEntropyLoss().to(device)\n",
        "optimizer = torch.optim.Adam(model.parameters(), lr = learning_rate)"
      ],
      "metadata": {
        "id": "rg3IhowcafvL"
      },
      "execution_count": 75,
      "outputs": []
    },
    {
      "cell_type": "code",
      "source": [
        "#training\n",
        "\n",
        "total_batch = len(data_loader)\n",
        "\n",
        "for epoch in range(training_epochs):\n",
        "\n",
        "    avg_cost = 0\n",
        "\n",
        "    for x,y in data_loader:\n",
        "\n",
        "        x = x.view(-1,784).to(device)\n",
        "        y = y.to(device)\n",
        "\n",
        "        optimizer.zero_grad()\n",
        "        hypothesis = model(x)\n",
        "\n",
        "        cost = criterion(hypothesis, y)\n",
        "\n",
        "        cost.backward()\n",
        "\n",
        "        optimizer.step()\n",
        "\n",
        "        avg_cost += cost/total_batch\n",
        "\n",
        "    print('epoch: ', '%04d' % (epoch + 1), 'cost = ','{:.9f}'.format(avg_cost))\n",
        "\n",
        "print('Learning finished')"
      ],
      "metadata": {
        "colab": {
          "base_uri": "https://localhost:8080/"
        },
        "id": "5qNiYQ5iamWY",
        "outputId": "97297d44-8e6a-4684-9204-78b6dca882e0"
      },
      "execution_count": 76,
      "outputs": [
        {
          "output_type": "stream",
          "name": "stdout",
          "text": [
            "epoch:  0001 cost =  2.239399910\n",
            "epoch:  0002 cost =  1.293326735\n",
            "epoch:  0003 cost =  1.272700429\n",
            "epoch:  0004 cost =  1.259608626\n",
            "epoch:  0005 cost =  1.464928746\n",
            "epoch:  0006 cost =  1.873375773\n",
            "epoch:  0007 cost =  1.854643106\n",
            "epoch:  0008 cost =  1.822690129\n",
            "epoch:  0009 cost =  2.015369654\n",
            "epoch:  0010 cost =  1.972246170\n",
            "epoch:  0011 cost =  1.817596912\n",
            "epoch:  0012 cost =  1.857749701\n",
            "epoch:  0013 cost =  1.858996034\n",
            "epoch:  0014 cost =  1.770847082\n",
            "epoch:  0015 cost =  1.717664242\n",
            "Learning finished\n"
          ]
        }
      ]
    },
    {
      "cell_type": "code",
      "source": [
        "with torch.no_grad():\n",
        "\n",
        "    x_test = mnist_test.test_data.view(-1,784).float().to(device)\n",
        "    y_test = mnist_test.test_labels.to(device)\n",
        "\n",
        "    prediction = model(x_test)\n",
        "\n",
        "    correct_prediction = torch.argmax(prediction, 1) == y_test\n",
        "\n",
        "    accuracy = correct_prediction.float().mean()\n",
        "\n",
        "    print('accuracy:', accuracy.item())\n",
        "\n",
        "    r = random.randint(0,len(mnist_test)-1)\n",
        "\n",
        "    x_single_data = mnist_test.test_data[r:r+1].view(-1,784).float().to(device)\n",
        "    y_single_data = mnist_test.test_labels[r:r+1].to(device)\n",
        "\n",
        "    print('label: ', y_single_data.item())\n",
        "    single_prediction = model(x_single_data)\n",
        "    print('Prediction: ', torch.argmax(single_prediction,1).item())"
      ],
      "metadata": {
        "colab": {
          "base_uri": "https://localhost:8080/"
        },
        "id": "1vQzq-7abDsa",
        "outputId": "7d2c91db-2279-4fd9-8416-1da602734c94"
      },
      "execution_count": 77,
      "outputs": [
        {
          "output_type": "stream",
          "name": "stdout",
          "text": [
            "accuracy: 0.2849999964237213\n",
            "label:  3\n",
            "Prediction:  5\n"
          ]
        },
        {
          "output_type": "stream",
          "name": "stderr",
          "text": [
            "/usr/local/lib/python3.10/dist-packages/torchvision/datasets/mnist.py:80: UserWarning: test_data has been renamed data\n",
            "  warnings.warn(\"test_data has been renamed data\")\n",
            "/usr/local/lib/python3.10/dist-packages/torchvision/datasets/mnist.py:70: UserWarning: test_labels has been renamed targets\n",
            "  warnings.warn(\"test_labels has been renamed targets\")\n"
          ]
        }
      ]
    },
    {
      "cell_type": "markdown",
      "source": [
        "# using sigmoid"
      ],
      "metadata": {
        "id": "un0z4zX2IPTQ"
      }
    },
    {
      "cell_type": "code",
      "source": [
        "x = torch.FloatTensor([[0,0],[0,1],[1,0],[1,1]]).to(device)\n",
        "y = torch.FloatTensor([[0],[1],[1],[0]]).to(device)"
      ],
      "metadata": {
        "id": "iYYyWf33IQLv"
      },
      "execution_count": 13,
      "outputs": []
    },
    {
      "cell_type": "code",
      "source": [
        "linear = torch.nn.Linear(2,1,bias=True)\n",
        "\n",
        "sigmoid = torch.nn.Sigmoid()\n",
        "\n",
        "model = torch.nn.Sequential(linear, sigmoid).to(device)"
      ],
      "metadata": {
        "id": "ZD38MfCZIYSR"
      },
      "execution_count": 16,
      "outputs": []
    },
    {
      "cell_type": "code",
      "source": [
        "#https://pytorch.org/docs/stable/generated/torch.nn.BCELoss.html\n",
        "#binary cross entropy loss\n",
        "\n",
        "criterion = torch.nn.BCELoss().to(device)\n",
        "optimizer = torch.optim.SGD(model.parameters(), lr = 1)"
      ],
      "metadata": {
        "id": "v4teOGDbJk1e"
      },
      "execution_count": 17,
      "outputs": []
    },
    {
      "cell_type": "code",
      "source": [
        "#training\n",
        "\n",
        "for step in range(1001):\n",
        "\n",
        "    optimizer.zero_grad()\n",
        "\n",
        "    hypothesis = model(x)\n",
        "\n",
        "    cost = criterion(hypothesis, y)\n",
        "\n",
        "    cost.backward()\n",
        "\n",
        "    optimizer.step()\n",
        "\n",
        "    if step % 100 == 0:\n",
        "\n",
        "        print(step, cost.item())"
      ],
      "metadata": {
        "colab": {
          "base_uri": "https://localhost:8080/"
        },
        "id": "DabVpX7IKbHK",
        "outputId": "9418f81b-8c6f-42cf-b07f-0543dce72436"
      },
      "execution_count": 18,
      "outputs": [
        {
          "output_type": "stream",
          "name": "stdout",
          "text": [
            "0 0.8707568049430847\n",
            "100 0.6931471824645996\n",
            "200 0.6931471824645996\n",
            "300 0.6931471824645996\n",
            "400 0.6931471824645996\n",
            "500 0.6931471824645996\n",
            "600 0.6931471824645996\n",
            "700 0.6931471824645996\n",
            "800 0.6931471824645996\n",
            "900 0.6931471824645996\n",
            "1000 0.6931471824645996\n"
          ]
        }
      ]
    },
    {
      "cell_type": "code",
      "source": [
        "#test\n",
        "\n",
        "with torch.no_grad():\n",
        "\n",
        "    hypothesis = model(x)\n",
        "\n",
        "    predicted = (hypothesis > 0.5).float()\n",
        "\n",
        "    accuracy = (predicted == y).float().mean()\n",
        "\n",
        "    print('\\nhypothesis: ', hypothesis.detach().cpu().numpy(), '\\ncorrect: ',\n",
        "          predicted.detach().cpu().numpy(), '\\naccuracy: ', accuracy.item())"
      ],
      "metadata": {
        "colab": {
          "base_uri": "https://localhost:8080/"
        },
        "id": "4UMytY_3KoMh",
        "outputId": "a15f551e-68cf-43b7-8a98-70da8493a960"
      },
      "execution_count": 19,
      "outputs": [
        {
          "output_type": "stream",
          "name": "stdout",
          "text": [
            "\n",
            "hypothesis:  [[0.5]\n",
            " [0.5]\n",
            " [0.5]\n",
            " [0.5]] \n",
            "correct:  [[0.]\n",
            " [0.]\n",
            " [0.]\n",
            " [0.]] \n",
            "accuracy:  0.5\n"
          ]
        }
      ]
    },
    {
      "cell_type": "code",
      "source": [],
      "metadata": {
        "id": "9H7q5OfyMBoE"
      },
      "execution_count": null,
      "outputs": []
    },
    {
      "cell_type": "markdown",
      "source": [
        "# naive two-linear model"
      ],
      "metadata": {
        "id": "5chOfwyZMSfF"
      }
    },
    {
      "cell_type": "code",
      "source": [
        "x = torch.FloatTensor([[0,0],[0,1],[1,0],[1,1]]).to(device)\n",
        "y = torch.FloatTensor([[0],[1],[1],[0]]).to(device)\n",
        "\n",
        "#x = torch.FloatTensor([[0,0],[0,1],[1,0],[1,1]]).to(device)\n",
        "#y = torch.FloatTensor([[0],[1],[1],[1]]).to(device)"
      ],
      "metadata": {
        "id": "4jCrHNR7PYbz"
      },
      "execution_count": 47,
      "outputs": []
    },
    {
      "cell_type": "code",
      "source": [
        "w1 = torch.Tensor(2,2).to(device)\n",
        "b1 = torch.Tensor(2).to(device)\n",
        "\n",
        "w2 = torch.Tensor(2,1).to(device)\n",
        "b2 = torch.Tensor(1).to(device)"
      ],
      "metadata": {
        "id": "x4E5Y771MUmr"
      },
      "execution_count": 48,
      "outputs": []
    },
    {
      "cell_type": "code",
      "source": [
        "def sigmoid(x):\n",
        "\n",
        "    return 1.0/(1.0+torch.exp(-x))\n",
        "\n",
        "#sigmoid derivative\n",
        "def sigmoid_prime(x):\n",
        "\n",
        "    return sigmoid(x) * (1 - sigmoid(x))"
      ],
      "metadata": {
        "id": "VmGbWAsXMeQb"
      },
      "execution_count": 49,
      "outputs": []
    },
    {
      "cell_type": "code",
      "source": [
        "#training\n",
        "\n",
        "for step in range(10001):\n",
        "\n",
        "    #linear > sigmoid > linear > sigmoid\n",
        "\n",
        "    l1 = torch.add(torch.matmul(x,w1),b1)\n",
        "    a1 = sigmoid(l1)\n",
        "\n",
        "    l2 = torch.add(torch.matmul(a1,w2),b2)\n",
        "    y_pred = sigmoid(l2)\n",
        "\n",
        "    #log cross entropy\n",
        "    cost = -torch.mean(y*torch.log(y_pred) + (1-y)*torch.log(1-y_pred))\n",
        "\n",
        "    #backpropagation\n",
        "    d_y_pred = (y_pred - y)/(y_pred*(1.0-y_pred)+1e-7)\n",
        "\n",
        "    d_l2 = d_y_pred * sigmoid_prime(l2)\n",
        "    d_b2 = d_l2\n",
        "    d_w2 = torch.matmul(torch.transpose(a1,0,1),d_b2)\n",
        "\n",
        "    d_a1 = torch.matmul(d_b2, torch.transpose(w2,0,1))\n",
        "    d_l1 = d_a1 * sigmoid_prime(l1)\n",
        "    d_b1 = d_l1\n",
        "    d_w1 = torch.matmul(torch.transpose(x,0,1), d_b1)\n",
        "\n",
        "    learning_rate = 0.1\n",
        "\n",
        "    #gradient descent\n",
        "    w1 = w1 - learning_rate * d_w1\n",
        "    b1 = b1 - learning_rate * torch.mean(d_b1, 0)\n",
        "    w2 = w2 - learning_rate * d_w2\n",
        "    b2 = b2 - learning_rate * torch.mean(d_b2, 0)\n",
        "\n",
        "    if step % 100 == 0:\n",
        "\n",
        "        print(step, cost.item())"
      ],
      "metadata": {
        "colab": {
          "base_uri": "https://localhost:8080/"
        },
        "id": "aHtYx9JNMm88",
        "outputId": "ad768579-7f27-430d-fe67-9b12e16f305e"
      },
      "execution_count": 50,
      "outputs": [
        {
          "output_type": "stream",
          "name": "stdout",
          "text": [
            "0 0.6931471824645996\n",
            "100 0.6931471824645996\n",
            "200 0.6931471824645996\n",
            "300 0.6931471824645996\n",
            "400 0.6931471824645996\n",
            "500 0.6931471824645996\n",
            "600 0.6931471824645996\n",
            "700 0.6931471824645996\n",
            "800 0.6931471824645996\n",
            "900 0.6931471824645996\n",
            "1000 0.6931471824645996\n",
            "1100 0.6931471824645996\n",
            "1200 0.6931471824645996\n",
            "1300 0.6931471824645996\n",
            "1400 0.6931471824645996\n",
            "1500 0.6931471824645996\n",
            "1600 0.6931471824645996\n",
            "1700 0.6931471824645996\n",
            "1800 0.6931471824645996\n",
            "1900 0.6931471824645996\n",
            "2000 0.6931471824645996\n",
            "2100 0.6931471824645996\n",
            "2200 0.6931471824645996\n",
            "2300 0.6931471824645996\n",
            "2400 0.6931471824645996\n",
            "2500 0.6931471824645996\n",
            "2600 0.6931471824645996\n",
            "2700 0.6931471824645996\n",
            "2800 0.6931471824645996\n",
            "2900 0.6931471824645996\n",
            "3000 0.6931471824645996\n",
            "3100 0.6931471824645996\n",
            "3200 0.6931471824645996\n",
            "3300 0.6931471824645996\n",
            "3400 0.6931471824645996\n",
            "3500 0.6931471824645996\n",
            "3600 0.6931471824645996\n",
            "3700 0.6931471824645996\n",
            "3800 0.6931471824645996\n",
            "3900 0.6931471824645996\n",
            "4000 0.6931471824645996\n",
            "4100 0.6931471824645996\n",
            "4200 0.6931471824645996\n",
            "4300 0.6931471824645996\n",
            "4400 0.6931471824645996\n",
            "4500 0.6931471824645996\n",
            "4600 0.6931471824645996\n",
            "4700 0.6931471824645996\n",
            "4800 0.6931471824645996\n",
            "4900 0.6931471824645996\n",
            "5000 0.6931471824645996\n",
            "5100 0.6931471824645996\n",
            "5200 0.6931471824645996\n",
            "5300 0.6931471824645996\n",
            "5400 0.6931471824645996\n",
            "5500 0.6931471824645996\n",
            "5600 0.6931471824645996\n",
            "5700 0.6931471824645996\n",
            "5800 0.6931471824645996\n",
            "5900 0.6931471824645996\n",
            "6000 0.6931471824645996\n",
            "6100 0.6931471824645996\n",
            "6200 0.6931471824645996\n",
            "6300 0.6931471824645996\n",
            "6400 0.6931471824645996\n",
            "6500 0.6931471824645996\n",
            "6600 0.6931471824645996\n",
            "6700 0.6931471824645996\n",
            "6800 0.6931471824645996\n",
            "6900 0.6931471824645996\n",
            "7000 0.6931471824645996\n",
            "7100 0.6931471824645996\n",
            "7200 0.6931471824645996\n",
            "7300 0.6931471824645996\n",
            "7400 0.6931471824645996\n",
            "7500 0.6931471824645996\n",
            "7600 0.6931471824645996\n",
            "7700 0.6931471824645996\n",
            "7800 0.6931471824645996\n",
            "7900 0.6931471824645996\n",
            "8000 0.6931471824645996\n",
            "8100 0.6931471824645996\n",
            "8200 0.6931471824645996\n",
            "8300 0.6931471824645996\n",
            "8400 0.6931471824645996\n",
            "8500 0.6931471824645996\n",
            "8600 0.6931471824645996\n",
            "8700 0.6931471824645996\n",
            "8800 0.6931471824645996\n",
            "8900 0.6931471824645996\n",
            "9000 0.6931471824645996\n",
            "9100 0.6931471824645996\n",
            "9200 0.6931471824645996\n",
            "9300 0.6931471824645996\n",
            "9400 0.6931471824645996\n",
            "9500 0.6931471824645996\n",
            "9600 0.6931471824645996\n",
            "9700 0.6931471824645996\n",
            "9800 0.6931471824645996\n",
            "9900 0.6931471824645996\n",
            "10000 0.6931471824645996\n"
          ]
        }
      ]
    },
    {
      "cell_type": "code",
      "source": [],
      "metadata": {
        "id": "EbBoav7mN5wh"
      },
      "execution_count": null,
      "outputs": []
    },
    {
      "cell_type": "markdown",
      "source": [
        "# two-linear model pytorch style"
      ],
      "metadata": {
        "id": "RkCtELuQOjFH"
      }
    },
    {
      "cell_type": "code",
      "source": [
        "linear1 = torch.nn.Linear(2,2,bias = True)\n",
        "linear2 = torch.nn.Linear(2,1,bias = True)\n",
        "\n",
        "sigmoid = torch.nn.Sigmoid()\n",
        "\n",
        "model = torch.nn.Sequential(linear1,sigmoid,linear2,sigmoid).to(device)"
      ],
      "metadata": {
        "id": "bCyY14YmOk75"
      },
      "execution_count": 51,
      "outputs": []
    },
    {
      "cell_type": "code",
      "source": [
        "criterion = torch.nn.BCELoss().to(device)\n",
        "optimizer = torch.optim.SGD(model.parameters(), lr = 1)"
      ],
      "metadata": {
        "id": "dvyr17NmOw1P"
      },
      "execution_count": 52,
      "outputs": []
    },
    {
      "cell_type": "code",
      "source": [
        "#training\n",
        "for step in range(10001):\n",
        "\n",
        "    optimizer.zero_grad()\n",
        "    hypothesis = model(x)\n",
        "\n",
        "    cost = criterion(hypothesis, y)\n",
        "\n",
        "    cost.backward()\n",
        "\n",
        "    optimizer.step()\n",
        "\n",
        "    if step % 100 == 0:\n",
        "\n",
        "        print(step, cost.item())"
      ],
      "metadata": {
        "colab": {
          "base_uri": "https://localhost:8080/"
        },
        "id": "00uqHC6KO3Cl",
        "outputId": "48687347-2503-4519-aa71-c45d5ecaf05a"
      },
      "execution_count": 53,
      "outputs": [
        {
          "output_type": "stream",
          "name": "stdout",
          "text": [
            "0 0.7032610774040222\n",
            "100 0.693228006362915\n",
            "200 0.6931173801422119\n",
            "300 0.693023145198822\n",
            "400 0.6928516626358032\n",
            "500 0.6924051642417908\n",
            "600 0.6907261610031128\n",
            "700 0.6789115071296692\n",
            "800 0.6005460023880005\n",
            "900 0.5141032934188843\n",
            "1000 0.4456329941749573\n",
            "1100 0.4059286117553711\n",
            "1200 0.2657047510147095\n",
            "1300 0.06546703726053238\n",
            "1400 0.038825396448373795\n",
            "1500 0.027686115354299545\n",
            "1600 0.021515965461730957\n",
            "1700 0.0175864789634943\n",
            "1800 0.014863139018416405\n",
            "1900 0.012864594347774982\n",
            "2000 0.011335871182382107\n",
            "2100 0.010129026137292385\n",
            "2200 0.009152362123131752\n",
            "2300 0.008345932699739933\n",
            "2400 0.0076689752750098705\n",
            "2500 0.007092662621289492\n",
            "2600 0.006596264895051718\n",
            "2700 0.006164221093058586\n",
            "2800 0.005784827750176191\n",
            "2900 0.005449115298688412\n",
            "3000 0.0051498813554644585\n",
            "3100 0.004881568718701601\n",
            "3200 0.004639631602913141\n",
            "3300 0.00442037358880043\n",
            "3400 0.004220758564770222\n",
            "3500 0.004038240294903517\n",
            "3600 0.0038707535713911057\n",
            "3700 0.003716558450832963\n",
            "3800 0.0035740346647799015\n",
            "3900 0.0034419684670865536\n",
            "4000 0.0033192704431712627\n",
            "4100 0.003204965265467763\n",
            "4200 0.0030982117168605328\n",
            "4300 0.002998296171426773\n",
            "4400 0.0029046142008155584\n",
            "4500 0.002816534601151943\n",
            "4600 0.0027336180210113525\n",
            "4700 0.0026554299984127283\n",
            "4800 0.0025815614499151707\n",
            "4900 0.002511597704142332\n",
            "5000 0.00244539650157094\n",
            "5100 0.0023825210519135\n",
            "5200 0.0023227862548083067\n",
            "5300 0.0022660105023533106\n",
            "5400 0.0022118824999779463\n",
            "5500 0.0021602711640298367\n",
            "5600 0.002110992558300495\n",
            "5700 0.002063917461782694\n",
            "5800 0.00201886217109859\n",
            "5900 0.0019757552072405815\n",
            "6000 0.0019344269530847669\n",
            "6100 0.0018947436474263668\n",
            "6200 0.0018566789804026484\n",
            "6300 0.001820120494812727\n",
            "6400 0.001784993102774024\n",
            "6500 0.0017511036712676287\n",
            "6600 0.0017185595352202654\n",
            "6700 0.0016871461411938071\n",
            "6800 0.0016568410210311413\n",
            "6900 0.001627658843062818\n",
            "7000 0.0015994058921933174\n",
            "7100 0.0015721563249826431\n",
            "7200 0.001545796520076692\n",
            "7300 0.0015203431248664856\n",
            "7400 0.0014956861268728971\n",
            "7500 0.001471819239668548\n",
            "7600 0.001448676222935319\n",
            "7700 0.0014262392651289701\n",
            "7800 0.0014045350253582\n",
            "7900 0.001383441500365734\n",
            "8000 0.0013629758032038808\n",
            "8100 0.0013431352563202381\n",
            "8200 0.0013238303363323212\n",
            "8300 0.0013050345005467534\n",
            "8400 0.0012868096819147468\n",
            "8500 0.001269069965928793\n",
            "8600 0.001251832116395235\n",
            "8700 0.0012350117322057486\n",
            "8800 0.0012186751700937748\n",
            "8900 0.001202752348035574\n",
            "9000 0.001187231857329607\n",
            "9100 0.0011721088085323572\n",
            "9200 0.0011573731899261475\n",
            "9300 0.0011429578298702836\n",
            "9400 0.0011289464309811592\n",
            "9500 0.0011152527295053005\n",
            "9600 0.001101891277357936\n",
            "9700 0.0010888200486078858\n",
            "9800 0.001076097832992673\n",
            "9900 0.001063656178303063\n",
            "10000 0.001051490311510861\n"
          ]
        }
      ]
    },
    {
      "cell_type": "code",
      "source": [
        "#test\n",
        "\n",
        "with torch.no_grad():\n",
        "\n",
        "    hypothesis = model(x)\n",
        "\n",
        "    predicted = (hypothesis > 0.5).float()\n",
        "\n",
        "    accuracy = (predicted == y).float().mean()\n",
        "\n",
        "    print('\\nhypothesis:', hypothesis.detach().cpu().numpy(),'\\ncorrect: ',\n",
        "          predicted.detach().cpu().numpy(), '\\naccuracy: ', accuracy.item())"
      ],
      "metadata": {
        "colab": {
          "base_uri": "https://localhost:8080/"
        },
        "id": "JKl12aW8PAf0",
        "outputId": "2b8ab020-828f-48ee-dcdd-79e9b623cc3e"
      },
      "execution_count": 54,
      "outputs": [
        {
          "output_type": "stream",
          "name": "stdout",
          "text": [
            "\n",
            "hypothesis: [[0.00123746]\n",
            " [0.9990564 ]\n",
            " [0.9990608 ]\n",
            " [0.00108296]] \n",
            "correct:  [[0.]\n",
            " [1.]\n",
            " [1.]\n",
            " [0.]] \n",
            "accuracy:  1.0\n"
          ]
        }
      ]
    },
    {
      "cell_type": "code",
      "source": [],
      "metadata": {
        "id": "IyJmR-hWRuaO"
      },
      "execution_count": null,
      "outputs": []
    },
    {
      "cell_type": "markdown",
      "source": [
        "#4-linear model"
      ],
      "metadata": {
        "id": "IvOqa2RoRyTo"
      }
    },
    {
      "cell_type": "code",
      "source": [
        "linear1 = torch.nn.Linear(2,10,bias = True)\n",
        "linear2 = torch.nn.Linear(10,10,bias = True)\n",
        "linear3 = torch.nn.Linear(10,10, bias = True)\n",
        "linear4 = torch.nn.Linear(10,1, bias = True)\n",
        "\n",
        "sigmoid = torch.nn.Sigmoid()\n",
        "\n",
        "model = torch.nn.Sequential(linear1, sigmoid, linear2, sigmoid, linear3, sigmoid, linear4, sigmoid).to(device)"
      ],
      "metadata": {
        "id": "dTj9JgtKRz6A"
      },
      "execution_count": 55,
      "outputs": []
    },
    {
      "cell_type": "code",
      "source": [
        "criterion = torch.nn.BCELoss().to(device)\n",
        "optimizer = torch.optim.SGD(model.parameters(), lr = 1)"
      ],
      "metadata": {
        "id": "qpPYP9nHSGcD"
      },
      "execution_count": 56,
      "outputs": []
    },
    {
      "cell_type": "code",
      "source": [
        "for step in range(10001):\n",
        "\n",
        "    optimizer.zero_grad()\n",
        "    hypothesis = model(x)\n",
        "\n",
        "    cost = criterion(hypothesis, y)\n",
        "\n",
        "    cost.backward()\n",
        "    optimizer.step()\n",
        "\n",
        "    if step % 100 == 0:\n",
        "\n",
        "        print(step, cost.item())"
      ],
      "metadata": {
        "colab": {
          "base_uri": "https://localhost:8080/"
        },
        "id": "Wc114O9MSNzG",
        "outputId": "19527310-d931-41da-b6bd-f31e2ffd78bd"
      },
      "execution_count": 57,
      "outputs": [
        {
          "output_type": "stream",
          "name": "stdout",
          "text": [
            "0 0.701490044593811\n",
            "100 0.6931374073028564\n",
            "200 0.6931344866752625\n",
            "300 0.6931315660476685\n",
            "400 0.6931284070014954\n",
            "500 0.6931250691413879\n",
            "600 0.6931213736534119\n",
            "700 0.6931174993515015\n",
            "800 0.6931133270263672\n",
            "900 0.6931085586547852\n",
            "1000 0.693103551864624\n",
            "1100 0.6930978894233704\n",
            "1200 0.6930914521217346\n",
            "1300 0.6930843591690063\n",
            "1400 0.6930761933326721\n",
            "1500 0.6930669546127319\n",
            "1600 0.693056046962738\n",
            "1700 0.6930435299873352\n",
            "1800 0.6930286288261414\n",
            "1900 0.6930109262466431\n",
            "2000 0.6929893493652344\n",
            "2100 0.6929628252983093\n",
            "2200 0.6929296255111694\n",
            "2300 0.6928869485855103\n",
            "2400 0.6928311586380005\n",
            "2500 0.692755401134491\n",
            "2600 0.6926487684249878\n",
            "2700 0.6924909949302673\n",
            "2800 0.6922415494918823\n",
            "2900 0.6918097734451294\n",
            "3000 0.69095379114151\n",
            "3100 0.6888408064842224\n",
            "3200 0.6809824705123901\n",
            "3300 0.6099147796630859\n",
            "3400 0.05874217674136162\n",
            "3500 0.012058902531862259\n",
            "3600 0.006094987038522959\n",
            "3700 0.003961959853768349\n",
            "3800 0.0028952735010534525\n",
            "3900 0.0022634263150393963\n",
            "4000 0.0018487435299903154\n",
            "4100 0.001557034207507968\n",
            "4200 0.0013415069552138448\n",
            "4300 0.0011761478381231427\n",
            "4400 0.001045498065650463\n",
            "4500 0.0009398668771609664\n",
            "4600 0.0008527746540494263\n",
            "4700 0.0007797937141731381\n",
            "4800 0.000717862683814019\n",
            "4900 0.0006646541878581047\n",
            "5000 0.0006184495869092643\n",
            "5100 0.0005780113860964775\n",
            "5200 0.0005423378897830844\n",
            "5300 0.0005106076132506132\n",
            "5400 0.0004822852788493037\n",
            "5500 0.0004567604628391564\n",
            "5600 0.0004337277787271887\n",
            "5700 0.0004128185973968357\n",
            "5800 0.00039372072205878794\n",
            "5900 0.00037629331927746534\n",
            "6000 0.00036025483859702945\n",
            "6100 0.0003454592078924179\n",
            "6200 0.00033178768353536725\n",
            "6300 0.00031916110310703516\n",
            "6400 0.00030735821928828955\n",
            "6500 0.0002964044688269496\n",
            "6600 0.00028616888448596\n",
            "6700 0.0002765557437669486\n",
            "6800 0.00026759240427054465\n",
            "6900 0.00025916038430295885\n",
            "7000 0.0002511753118596971\n",
            "7100 0.00024367362493649125\n",
            "7200 0.00023663602769374847\n",
            "7300 0.0002299247425980866\n",
            "7400 0.0002235846477560699\n",
            "7500 0.00021756993373855948\n",
            "7600 0.00021186756202951074\n",
            "7700 0.0002064364089164883\n",
            "7800 0.0002012663462664932\n",
            "7900 0.00019636304932646453\n",
            "8000 0.00019165659614372998\n",
            "8100 0.00018718310457188636\n",
            "8200 0.00018289306899532676\n",
            "8300 0.00017877659411169589\n",
            "8400 0.0001748433569446206\n",
            "8500 0.00017108772590290755\n",
            "8600 0.00016744420281611383\n",
            "8700 0.00016399886226281524\n",
            "8800 0.00016065602540038526\n",
            "8900 0.00015744254051242024\n",
            "9000 0.0001543542166473344\n",
            "9100 0.0001514178147772327\n",
            "9200 0.00014850984734948725\n",
            "9300 0.000145747369970195\n",
            "9400 0.00014309737889561802\n",
            "9500 0.00014052689948584884\n",
            "9600 0.00013803390902467072\n",
            "9700 0.00013561651576310396\n",
            "9800 0.0001333009422523901\n",
            "9900 0.00013108675193507224\n",
            "10000 0.00012891089136246592\n"
          ]
        }
      ]
    },
    {
      "cell_type": "code",
      "source": [
        "#test\n",
        "with torch.no_grad():\n",
        "\n",
        "    hypothesis = model(x)\n",
        "    predicted = (hypothesis > 0.5).float()\n",
        "    accuracy = (predicted == y).float().mean()\n",
        "\n",
        "    print('\\nhypothesis: ', hypothesis.detach().cpu().numpy(),\n",
        "          '\\ncorrect: ', predicted.detach().cpu().numpy(),\n",
        "          '\\naccuracy: ', accuracy.item())"
      ],
      "metadata": {
        "colab": {
          "base_uri": "https://localhost:8080/"
        },
        "id": "AItn_8MLSW0w",
        "outputId": "4e0b42ae-68ac-42ed-f3f2-a42e1c408722"
      },
      "execution_count": 58,
      "outputs": [
        {
          "output_type": "stream",
          "name": "stdout",
          "text": [
            "\n",
            "hypothesis:  [[1.3386732e-04]\n",
            " [9.9988079e-01]\n",
            " [9.9988949e-01]\n",
            " [1.5186005e-04]] \n",
            "correct:  [[0.]\n",
            " [1.]\n",
            " [1.]\n",
            " [0.]] \n",
            "accuracy:  1.0\n"
          ]
        }
      ]
    },
    {
      "cell_type": "code",
      "source": [],
      "metadata": {
        "id": "B64jLH5QSucV"
      },
      "execution_count": null,
      "outputs": []
    }
  ]
}
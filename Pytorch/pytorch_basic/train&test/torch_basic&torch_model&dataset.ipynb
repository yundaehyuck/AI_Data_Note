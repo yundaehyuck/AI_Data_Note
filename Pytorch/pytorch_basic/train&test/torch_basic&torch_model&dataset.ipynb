{
  "nbformat": 4,
  "nbformat_minor": 0,
  "metadata": {
    "colab": {
      "provenance": []
    },
    "kernelspec": {
      "name": "python3",
      "display_name": "Python 3"
    },
    "language_info": {
      "name": "python"
    }
  },
  "cells": [
    {
      "cell_type": "code",
      "execution_count": 78,
      "metadata": {
        "id": "yxjKzni2v4N8"
      },
      "outputs": [],
      "source": [
        "import numpy as np\n",
        "import torch\n",
        "from torch import optim\n",
        "import torch.nn as nn\n",
        "import torch.nn.functional as F\n",
        "from torch.utils.data import Dataset,DataLoader"
      ]
    },
    {
      "cell_type": "markdown",
      "source": [
        "# numpy array"
      ],
      "metadata": {
        "id": "BmgCa_cNwZQR"
      }
    },
    {
      "cell_type": "code",
      "source": [
        "t = np.array([0.,1.,2.,3.,4.,5.,6.])\n",
        "\n",
        "print(t)"
      ],
      "metadata": {
        "colab": {
          "base_uri": "https://localhost:8080/"
        },
        "id": "UlaM0KyqwXVz",
        "outputId": "e0442d6b-53e6-4a61-afd0-529b0cd182fc"
      },
      "execution_count": 2,
      "outputs": [
        {
          "output_type": "stream",
          "name": "stdout",
          "text": [
            "[0. 1. 2. 3. 4. 5. 6.]\n"
          ]
        }
      ]
    },
    {
      "cell_type": "code",
      "source": [
        "#rank, shape\n",
        "\n",
        "print('rank of t: ', t.ndim)\n",
        "print('shape of t: ', t.shape)"
      ],
      "metadata": {
        "colab": {
          "base_uri": "https://localhost:8080/"
        },
        "id": "Z4QsGwxvwdhc",
        "outputId": "2d37838c-5932-4680-ed96-bc6b485c0b60"
      },
      "execution_count": 3,
      "outputs": [
        {
          "output_type": "stream",
          "name": "stdout",
          "text": [
            "rank of t:  1\n",
            "shape of t:  (7,)\n"
          ]
        }
      ]
    },
    {
      "cell_type": "code",
      "source": [
        "#element, slicing\n",
        "\n",
        "print('t[0] t[1] t[-1] = ', t[0], t[1], t[-1])\n",
        "print('t[2:5] t[4:-1] = ', t[2:5], t[4:-1])\n",
        "print('t[:2] t[3:] = ', t[:2], t[3:])"
      ],
      "metadata": {
        "colab": {
          "base_uri": "https://localhost:8080/"
        },
        "id": "-8Mt7EVfwh9R",
        "outputId": "2dbffa13-9983-40c6-fa68-483680214518"
      },
      "execution_count": 4,
      "outputs": [
        {
          "output_type": "stream",
          "name": "stdout",
          "text": [
            "t[0] t[1] t[-1] =  0.0 1.0 6.0\n",
            "t[2:5] t[4:-1] =  [2. 3. 4.] [4. 5.]\n",
            "t[:2] t[3:] =  [0. 1.] [3. 4. 5. 6.]\n"
          ]
        }
      ]
    },
    {
      "cell_type": "code",
      "source": [
        "t = np.array([[1.,2.,3.], [4.,5.,6.], [7.,8.,9.], [10.,11.,12.]])\n",
        "\n",
        "print(t)"
      ],
      "metadata": {
        "colab": {
          "base_uri": "https://localhost:8080/"
        },
        "id": "LRKx8S_GwvqK",
        "outputId": "a8c51668-fa72-4aad-bac1-72c87f24a167"
      },
      "execution_count": 5,
      "outputs": [
        {
          "output_type": "stream",
          "name": "stdout",
          "text": [
            "[[ 1.  2.  3.]\n",
            " [ 4.  5.  6.]\n",
            " [ 7.  8.  9.]\n",
            " [10. 11. 12.]]\n"
          ]
        }
      ]
    },
    {
      "cell_type": "code",
      "source": [
        "print('rank of t:', t.ndim)\n",
        "print('shape of t: ', t.shape)"
      ],
      "metadata": {
        "colab": {
          "base_uri": "https://localhost:8080/"
        },
        "id": "CdL1XpqJw6aR",
        "outputId": "6fa83630-fc14-4909-d006-b98496d73836"
      },
      "execution_count": 6,
      "outputs": [
        {
          "output_type": "stream",
          "name": "stdout",
          "text": [
            "rank of t: 2\n",
            "shape of t:  (4, 3)\n"
          ]
        }
      ]
    },
    {
      "cell_type": "markdown",
      "source": [
        "# torch tensor"
      ],
      "metadata": {
        "id": "NpNx67uqxOQG"
      }
    },
    {
      "cell_type": "code",
      "source": [
        "t = torch.FloatTensor([0.,1.,2.,3.,4.,5.,6.])\n",
        "print(t)"
      ],
      "metadata": {
        "colab": {
          "base_uri": "https://localhost:8080/"
        },
        "id": "Wh7l0_ARxI3n",
        "outputId": "26530863-f4aa-47d8-b27b-0ba4a22dd636"
      },
      "execution_count": 7,
      "outputs": [
        {
          "output_type": "stream",
          "name": "stdout",
          "text": [
            "tensor([0., 1., 2., 3., 4., 5., 6.])\n"
          ]
        }
      ]
    },
    {
      "cell_type": "code",
      "source": [
        "print(t.dim())\n",
        "print(t.shape)\n",
        "print(t.size())\n",
        "print(t[0],t[1],t[-1])\n",
        "print(t[2:5], t[4:-1])\n",
        "print(t[:2], t[3:])"
      ],
      "metadata": {
        "colab": {
          "base_uri": "https://localhost:8080/"
        },
        "id": "lU2tVtoExVAF",
        "outputId": "b2cc1640-7563-49a8-8b67-e86bf5216b7d"
      },
      "execution_count": 8,
      "outputs": [
        {
          "output_type": "stream",
          "name": "stdout",
          "text": [
            "1\n",
            "torch.Size([7])\n",
            "torch.Size([7])\n",
            "tensor(0.) tensor(1.) tensor(6.)\n",
            "tensor([2., 3., 4.]) tensor([4., 5.])\n",
            "tensor([0., 1.]) tensor([3., 4., 5., 6.])\n"
          ]
        }
      ]
    },
    {
      "cell_type": "code",
      "source": [
        "t = torch.FloatTensor([[1.,2.,3.],\n",
        "                       [4.,5.,6.],\n",
        "                       [7.,8.,9.],\n",
        "                       [10.,11.,12.]])\n",
        "\n",
        "print(t)"
      ],
      "metadata": {
        "colab": {
          "base_uri": "https://localhost:8080/"
        },
        "id": "ffHVBvd6xcfD",
        "outputId": "43a6fc1d-fc2d-4f2e-91e5-290a8ab88ea3"
      },
      "execution_count": 9,
      "outputs": [
        {
          "output_type": "stream",
          "name": "stdout",
          "text": [
            "tensor([[ 1.,  2.,  3.],\n",
            "        [ 4.,  5.,  6.],\n",
            "        [ 7.,  8.,  9.],\n",
            "        [10., 11., 12.]])\n"
          ]
        }
      ]
    },
    {
      "cell_type": "code",
      "source": [
        "print(t.dim())\n",
        "print(t.size())\n",
        "print(t[:,1]) #1열\n",
        "print(t[:,1].size())\n",
        "print(t[:,:-1]) #0열,1열"
      ],
      "metadata": {
        "colab": {
          "base_uri": "https://localhost:8080/"
        },
        "id": "eiDgonhpxkst",
        "outputId": "87eecd9f-1652-4484-b2fe-c83422697234"
      },
      "execution_count": 10,
      "outputs": [
        {
          "output_type": "stream",
          "name": "stdout",
          "text": [
            "2\n",
            "torch.Size([4, 3])\n",
            "tensor([ 2.,  5.,  8., 11.])\n",
            "torch.Size([4])\n",
            "tensor([[ 1.,  2.],\n",
            "        [ 4.,  5.],\n",
            "        [ 7.,  8.],\n",
            "        [10., 11.]])\n"
          ]
        }
      ]
    },
    {
      "cell_type": "code",
      "source": [],
      "metadata": {
        "id": "HAsTIjR1xqCt"
      },
      "execution_count": null,
      "outputs": []
    },
    {
      "cell_type": "markdown",
      "source": [
        "# operation"
      ],
      "metadata": {
        "id": "f5O1gNhNyguI"
      }
    },
    {
      "cell_type": "code",
      "source": [
        "m1 = torch.FloatTensor([[3,3]])\n",
        "m2 = torch.FloatTensor([[2,2]])\n",
        "\n",
        "print(m1 + m2)"
      ],
      "metadata": {
        "colab": {
          "base_uri": "https://localhost:8080/"
        },
        "id": "q6_N-FfRyhnQ",
        "outputId": "2f793ae1-fb02-49b7-9243-0325766d8369"
      },
      "execution_count": 11,
      "outputs": [
        {
          "output_type": "stream",
          "name": "stdout",
          "text": [
            "tensor([[5., 5.]])\n"
          ]
        }
      ]
    },
    {
      "cell_type": "code",
      "source": [
        "#broadcasting\n",
        "\n",
        "m1 = torch.FloatTensor([[1,2]])\n",
        "m2 = torch.FloatTensor([3])\n",
        "\n",
        "print(m1.size())\n",
        "print(m1)\n",
        "print(m2.size())\n",
        "print(m2)\n",
        "\n",
        "print(m1 + m2)"
      ],
      "metadata": {
        "colab": {
          "base_uri": "https://localhost:8080/"
        },
        "id": "5K67PFaNymlz",
        "outputId": "f3959c9e-c4f8-4360-bc42-2534b6a77781"
      },
      "execution_count": 12,
      "outputs": [
        {
          "output_type": "stream",
          "name": "stdout",
          "text": [
            "torch.Size([1, 2])\n",
            "tensor([[1., 2.]])\n",
            "torch.Size([1])\n",
            "tensor([3.])\n",
            "tensor([[4., 5.]])\n"
          ]
        }
      ]
    },
    {
      "cell_type": "code",
      "source": [
        "m1 = torch.FloatTensor([[1,2]])\n",
        "m2 = torch.FloatTensor([[3],[4]])\n",
        "\n",
        "print(m1.size())\n",
        "print(m1)\n",
        "\n",
        "print(m2.size())\n",
        "print(m2)\n",
        "\n",
        "print(m1 + m2)"
      ],
      "metadata": {
        "colab": {
          "base_uri": "https://localhost:8080/"
        },
        "id": "v1H1XbHCyx5I",
        "outputId": "466893c2-65dc-4f02-ac93-2d16074b9243"
      },
      "execution_count": 13,
      "outputs": [
        {
          "output_type": "stream",
          "name": "stdout",
          "text": [
            "torch.Size([1, 2])\n",
            "tensor([[1., 2.]])\n",
            "torch.Size([2, 1])\n",
            "tensor([[3.],\n",
            "        [4.]])\n",
            "tensor([[4., 5.],\n",
            "        [5., 6.]])\n"
          ]
        }
      ]
    },
    {
      "cell_type": "code",
      "source": [
        "m1 = torch.FloatTensor([[1,2], [3,4]])\n",
        "m2 = torch.FloatTensor([[1],[2]])\n",
        "\n",
        "print(m1.shape)\n",
        "print(m1)\n",
        "print(m2.shape)\n",
        "print(m2)\n",
        "\n",
        "print(m1.matmul(m2)) #matrix product"
      ],
      "metadata": {
        "colab": {
          "base_uri": "https://localhost:8080/"
        },
        "id": "d12M9Wipy9dY",
        "outputId": "28580ccd-60f7-42ac-febd-4eed6071a603"
      },
      "execution_count": 14,
      "outputs": [
        {
          "output_type": "stream",
          "name": "stdout",
          "text": [
            "torch.Size([2, 2])\n",
            "tensor([[1., 2.],\n",
            "        [3., 4.]])\n",
            "torch.Size([2, 1])\n",
            "tensor([[1.],\n",
            "        [2.]])\n",
            "tensor([[ 5.],\n",
            "        [11.]])\n"
          ]
        }
      ]
    },
    {
      "cell_type": "code",
      "source": [
        "#element wise product\n",
        "\n",
        "print(m1 * m2)\n",
        "print(m1.mul(m2))"
      ],
      "metadata": {
        "colab": {
          "base_uri": "https://localhost:8080/"
        },
        "id": "0KYRfIs3zUrZ",
        "outputId": "ef346784-0f40-4ce9-fc79-07490c22449b"
      },
      "execution_count": 16,
      "outputs": [
        {
          "output_type": "stream",
          "name": "stdout",
          "text": [
            "tensor([[1., 2.],\n",
            "        [6., 8.]])\n",
            "tensor([[1., 2.],\n",
            "        [6., 8.]])\n"
          ]
        }
      ]
    },
    {
      "cell_type": "code",
      "source": [
        "t = torch.FloatTensor([1,2])\n",
        "print(t.mean())"
      ],
      "metadata": {
        "colab": {
          "base_uri": "https://localhost:8080/"
        },
        "id": "cMkkbliOzYIS",
        "outputId": "ccb1fa6d-b91f-4a30-b93a-b6f978877487"
      },
      "execution_count": 17,
      "outputs": [
        {
          "output_type": "stream",
          "name": "stdout",
          "text": [
            "tensor(1.5000)\n"
          ]
        }
      ]
    },
    {
      "cell_type": "code",
      "source": [
        "t = torch.LongTensor([1,2])\n",
        "\n",
        "try:\n",
        "\n",
        "    print(t.mean())\n",
        "\n",
        "except Exception as exc:\n",
        "\n",
        "    print(exc)"
      ],
      "metadata": {
        "colab": {
          "base_uri": "https://localhost:8080/"
        },
        "id": "-rKz0JtR3AmP",
        "outputId": "73a0fda9-92f6-46ec-c6c6-706b82b07cd7"
      },
      "execution_count": 18,
      "outputs": [
        {
          "output_type": "stream",
          "name": "stdout",
          "text": [
            "mean(): could not infer output dtype. Input dtype must be either a floating point or complex dtype. Got: Long\n"
          ]
        }
      ]
    },
    {
      "cell_type": "markdown",
      "source": [
        "# operation by dim"
      ],
      "metadata": {
        "id": "KLgXRG804pRq"
      }
    },
    {
      "cell_type": "code",
      "source": [
        "t = torch.FloatTensor([[1,2],[3,4]])\n",
        "print(t)"
      ],
      "metadata": {
        "colab": {
          "base_uri": "https://localhost:8080/"
        },
        "id": "2hb_28oP3KNO",
        "outputId": "8c6dadad-fdb7-407d-c80c-d4b3becdd5c1"
      },
      "execution_count": 19,
      "outputs": [
        {
          "output_type": "stream",
          "name": "stdout",
          "text": [
            "tensor([[1., 2.],\n",
            "        [3., 4.]])\n"
          ]
        }
      ]
    },
    {
      "cell_type": "code",
      "source": [
        "#mean\n",
        "print(t.mean())\n",
        "print(t.mean(dim = 0))\n",
        "print(t.mean(dim = 1))\n",
        "print(t.mean(dim = -1))"
      ],
      "metadata": {
        "colab": {
          "base_uri": "https://localhost:8080/"
        },
        "id": "kSEwvPDk4NGV",
        "outputId": "ad31f004-25e4-4953-9323-1706478ee26a"
      },
      "execution_count": 20,
      "outputs": [
        {
          "output_type": "stream",
          "name": "stdout",
          "text": [
            "tensor(2.5000)\n",
            "tensor([2., 3.])\n",
            "tensor([1.5000, 3.5000])\n",
            "tensor([1.5000, 3.5000])\n"
          ]
        }
      ]
    },
    {
      "cell_type": "code",
      "source": [
        "t = torch.FloatTensor([[1,2],[3,4]])\n",
        "print(t)"
      ],
      "metadata": {
        "colab": {
          "base_uri": "https://localhost:8080/"
        },
        "id": "wQUctAt84Vm5",
        "outputId": "575a8cae-a6fa-4f51-cdc4-4468855888d9"
      },
      "execution_count": 21,
      "outputs": [
        {
          "output_type": "stream",
          "name": "stdout",
          "text": [
            "tensor([[1., 2.],\n",
            "        [3., 4.]])\n"
          ]
        }
      ]
    },
    {
      "cell_type": "code",
      "source": [
        "#sum\n",
        "\n",
        "print(t.sum())\n",
        "print(t.sum(dim = 0))\n",
        "print(t.sum(dim = 1))\n",
        "print(t.sum(dim = -1))"
      ],
      "metadata": {
        "colab": {
          "base_uri": "https://localhost:8080/"
        },
        "id": "SOyF4C-B4ase",
        "outputId": "919cef55-d9e5-43d9-894c-7cef34672177"
      },
      "execution_count": 22,
      "outputs": [
        {
          "output_type": "stream",
          "name": "stdout",
          "text": [
            "tensor(10.)\n",
            "tensor([4., 6.])\n",
            "tensor([3., 7.])\n",
            "tensor([3., 7.])\n"
          ]
        }
      ]
    },
    {
      "cell_type": "code",
      "source": [
        "t = torch.FloatTensor([[1,2],[3,4]])\n",
        "print(t)"
      ],
      "metadata": {
        "colab": {
          "base_uri": "https://localhost:8080/"
        },
        "id": "W01m_H0L4vW2",
        "outputId": "8a86f963-9fc1-4c34-d0b3-31e5de27fe0a"
      },
      "execution_count": 23,
      "outputs": [
        {
          "output_type": "stream",
          "name": "stdout",
          "text": [
            "tensor([[1., 2.],\n",
            "        [3., 4.]])\n"
          ]
        }
      ]
    },
    {
      "cell_type": "code",
      "source": [
        "print(t.max())"
      ],
      "metadata": {
        "colab": {
          "base_uri": "https://localhost:8080/"
        },
        "id": "p7L5pqu-4y4L",
        "outputId": "c25471e1-e371-4f21-cfd3-c6879f20b0b0"
      },
      "execution_count": 24,
      "outputs": [
        {
          "output_type": "stream",
          "name": "stdout",
          "text": [
            "tensor(4.)\n"
          ]
        }
      ]
    },
    {
      "cell_type": "code",
      "source": [
        "#using dim, return value & index\n",
        "print(t.max(dim = 0)) #max by column"
      ],
      "metadata": {
        "colab": {
          "base_uri": "https://localhost:8080/"
        },
        "id": "0vCki6tG40J4",
        "outputId": "3e7c0d72-8c5e-4c0f-8511-b5e40d258068"
      },
      "execution_count": 25,
      "outputs": [
        {
          "output_type": "stream",
          "name": "stdout",
          "text": [
            "torch.return_types.max(\n",
            "values=tensor([3., 4.]),\n",
            "indices=tensor([1, 1]))\n"
          ]
        }
      ]
    },
    {
      "cell_type": "code",
      "source": [
        "print('max: ',t.max(dim = 0)[0])"
      ],
      "metadata": {
        "colab": {
          "base_uri": "https://localhost:8080/"
        },
        "id": "vFt8oQPy47p7",
        "outputId": "5a1faced-7c39-4d13-9ed9-8eefb23780cb"
      },
      "execution_count": 26,
      "outputs": [
        {
          "output_type": "stream",
          "name": "stdout",
          "text": [
            "max:  tensor([3., 4.])\n"
          ]
        }
      ]
    },
    {
      "cell_type": "code",
      "source": [
        "print('argmax: ', t.max(dim = 0)[1])"
      ],
      "metadata": {
        "colab": {
          "base_uri": "https://localhost:8080/"
        },
        "id": "WA4QV55W5EAC",
        "outputId": "da69ca55-ed4b-4e84-9ebf-18d1c4ce11ac"
      },
      "execution_count": 27,
      "outputs": [
        {
          "output_type": "stream",
          "name": "stdout",
          "text": [
            "argmax:  tensor([1, 1])\n"
          ]
        }
      ]
    },
    {
      "cell_type": "code",
      "source": [
        "print(t.max(dim = 1)) #max by row"
      ],
      "metadata": {
        "colab": {
          "base_uri": "https://localhost:8080/"
        },
        "id": "_Ju_10fo5GDu",
        "outputId": "94d865c1-58bf-412e-872b-8c7f99192e7b"
      },
      "execution_count": 28,
      "outputs": [
        {
          "output_type": "stream",
          "name": "stdout",
          "text": [
            "torch.return_types.max(\n",
            "values=tensor([2., 4.]),\n",
            "indices=tensor([1, 1]))\n"
          ]
        }
      ]
    },
    {
      "cell_type": "code",
      "source": [
        "print(t.max(dim = -1))"
      ],
      "metadata": {
        "colab": {
          "base_uri": "https://localhost:8080/"
        },
        "id": "knJeZynn5H4S",
        "outputId": "13492e7d-8f86-4dcf-8c53-ba29aeb18787"
      },
      "execution_count": 29,
      "outputs": [
        {
          "output_type": "stream",
          "name": "stdout",
          "text": [
            "torch.return_types.max(\n",
            "values=tensor([2., 4.]),\n",
            "indices=tensor([1, 1]))\n"
          ]
        }
      ]
    },
    {
      "cell_type": "code",
      "source": [
        "#numpy to tensor\n",
        "\n",
        "t = np.array([[[0,1,2],\n",
        "               [3,4,5]],\n",
        "              [[6,7,8],\n",
        "               [9,10,11]]])\n",
        "\n",
        "ft = torch.FloatTensor(t)\n",
        "print(ft.shape)"
      ],
      "metadata": {
        "colab": {
          "base_uri": "https://localhost:8080/"
        },
        "id": "xIz55dnO5O_W",
        "outputId": "d379e1ba-3fdf-4771-c1c9-fca9394c3e57"
      },
      "execution_count": 30,
      "outputs": [
        {
          "output_type": "stream",
          "name": "stdout",
          "text": [
            "torch.Size([2, 2, 3])\n"
          ]
        }
      ]
    },
    {
      "cell_type": "markdown",
      "source": [
        "#tensor manipulation"
      ],
      "metadata": {
        "id": "4dFqwOSf5vLN"
      }
    },
    {
      "cell_type": "code",
      "source": [
        "#view\n",
        "print(ft.view([-1,3]))\n",
        "print(ft.view([-1,3]).shape)"
      ],
      "metadata": {
        "colab": {
          "base_uri": "https://localhost:8080/"
        },
        "id": "w-HBOS-P5dfP",
        "outputId": "b8a60e34-06a6-4420-f267-16fa0d0fdaf6"
      },
      "execution_count": 31,
      "outputs": [
        {
          "output_type": "stream",
          "name": "stdout",
          "text": [
            "tensor([[ 0.,  1.,  2.],\n",
            "        [ 3.,  4.,  5.],\n",
            "        [ 6.,  7.,  8.],\n",
            "        [ 9., 10., 11.]])\n",
            "torch.Size([4, 3])\n"
          ]
        }
      ]
    },
    {
      "cell_type": "code",
      "source": [
        "print(ft.view([-1,1,3]))\n",
        "print(ft.view([-1,1,3]).shape)"
      ],
      "metadata": {
        "colab": {
          "base_uri": "https://localhost:8080/"
        },
        "id": "u3iLBwdj5j7h",
        "outputId": "6b3ba74f-ec53-4057-b5e5-64065531c7af"
      },
      "execution_count": 32,
      "outputs": [
        {
          "output_type": "stream",
          "name": "stdout",
          "text": [
            "tensor([[[ 0.,  1.,  2.]],\n",
            "\n",
            "        [[ 3.,  4.,  5.]],\n",
            "\n",
            "        [[ 6.,  7.,  8.]],\n",
            "\n",
            "        [[ 9., 10., 11.]]])\n",
            "torch.Size([4, 1, 3])\n"
          ]
        }
      ]
    },
    {
      "cell_type": "code",
      "source": [
        "ft = torch.FloatTensor([[0],[1],[2]])\n",
        "print(ft)\n",
        "print(ft.shape)"
      ],
      "metadata": {
        "colab": {
          "base_uri": "https://localhost:8080/"
        },
        "id": "PK-ccLrh5s7W",
        "outputId": "84042fc3-3c44-483e-f074-af9dd31bb422"
      },
      "execution_count": 33,
      "outputs": [
        {
          "output_type": "stream",
          "name": "stdout",
          "text": [
            "tensor([[0.],\n",
            "        [1.],\n",
            "        [2.]])\n",
            "torch.Size([3, 1])\n"
          ]
        }
      ]
    },
    {
      "cell_type": "code",
      "source": [
        "#squeeze dimension\n",
        "print(ft.squeeze())\n",
        "print(ft.squeeze().shape)"
      ],
      "metadata": {
        "colab": {
          "base_uri": "https://localhost:8080/"
        },
        "id": "9F8bNogf51Y0",
        "outputId": "a4d15052-ef6d-4fc3-c45c-dea7b8004fd2"
      },
      "execution_count": 34,
      "outputs": [
        {
          "output_type": "stream",
          "name": "stdout",
          "text": [
            "tensor([0., 1., 2.])\n",
            "torch.Size([3])\n"
          ]
        }
      ]
    },
    {
      "cell_type": "code",
      "source": [
        "ft = torch.Tensor([0,1,2])\n",
        "print(ft)\n",
        "print(ft.shape)"
      ],
      "metadata": {
        "colab": {
          "base_uri": "https://localhost:8080/"
        },
        "id": "__QuP5bo55St",
        "outputId": "bf2b2a67-3b36-4380-aeec-750887aee649"
      },
      "execution_count": 35,
      "outputs": [
        {
          "output_type": "stream",
          "name": "stdout",
          "text": [
            "tensor([0., 1., 2.])\n",
            "torch.Size([3])\n"
          ]
        }
      ]
    },
    {
      "cell_type": "code",
      "source": [
        "#unsqueeze dimension\n",
        "print(ft.unsqueeze(0)) #size = (3,) >>> dim = 0 >>> size = (1,3)\n",
        "print(ft.unsqueeze(0).shape)"
      ],
      "metadata": {
        "colab": {
          "base_uri": "https://localhost:8080/"
        },
        "id": "ahqmww3k5-Qu",
        "outputId": "97312f91-2c73-4c55-cd25-a50bb3bbc89b"
      },
      "execution_count": 36,
      "outputs": [
        {
          "output_type": "stream",
          "name": "stdout",
          "text": [
            "tensor([[0., 1., 2.]])\n",
            "torch.Size([1, 3])\n"
          ]
        }
      ]
    },
    {
      "cell_type": "code",
      "source": [
        "print(ft.view(1,-1))\n",
        "print(ft.view(1,-1).shape)"
      ],
      "metadata": {
        "colab": {
          "base_uri": "https://localhost:8080/"
        },
        "id": "SXdeqHrR6Prm",
        "outputId": "57a3fd2e-c547-4b64-8fc4-674a11b37fbc"
      },
      "execution_count": 37,
      "outputs": [
        {
          "output_type": "stream",
          "name": "stdout",
          "text": [
            "tensor([[0., 1., 2.]])\n",
            "torch.Size([1, 3])\n"
          ]
        }
      ]
    },
    {
      "cell_type": "code",
      "source": [
        "print(ft.unsqueeze(1)) #size = (3,) >>> dim = 1 >>> size =(3,1)\n",
        "print(ft.unsqueeze(1).shape)"
      ],
      "metadata": {
        "colab": {
          "base_uri": "https://localhost:8080/"
        },
        "id": "tZLCo3Rs6TLy",
        "outputId": "756c3d3f-d80c-4f52-d119-67f926ba9c14"
      },
      "execution_count": 38,
      "outputs": [
        {
          "output_type": "stream",
          "name": "stdout",
          "text": [
            "tensor([[0.],\n",
            "        [1.],\n",
            "        [2.]])\n",
            "torch.Size([3, 1])\n"
          ]
        }
      ]
    },
    {
      "cell_type": "code",
      "source": [
        "print(ft.unsqueeze(-1))\n",
        "print(ft.unsqueeze(-1).shape)"
      ],
      "metadata": {
        "colab": {
          "base_uri": "https://localhost:8080/"
        },
        "id": "KdeFCyZw6a-O",
        "outputId": "aee3dc46-f527-4478-fa5e-5e567cebe130"
      },
      "execution_count": 39,
      "outputs": [
        {
          "output_type": "stream",
          "name": "stdout",
          "text": [
            "tensor([[0.],\n",
            "        [1.],\n",
            "        [2.]])\n",
            "torch.Size([3, 1])\n"
          ]
        }
      ]
    },
    {
      "cell_type": "code",
      "source": [
        "lt = torch.LongTensor([1,2,3,4])\n",
        "print(lt)"
      ],
      "metadata": {
        "colab": {
          "base_uri": "https://localhost:8080/"
        },
        "id": "Jjy_FJKF6etK",
        "outputId": "f1f13e6b-af17-4050-eddf-a7faa8dbde65"
      },
      "execution_count": 40,
      "outputs": [
        {
          "output_type": "stream",
          "name": "stdout",
          "text": [
            "tensor([1, 2, 3, 4])\n"
          ]
        }
      ]
    },
    {
      "cell_type": "code",
      "source": [
        "#Long to float\n",
        "\n",
        "print(lt.float())"
      ],
      "metadata": {
        "colab": {
          "base_uri": "https://localhost:8080/"
        },
        "id": "WBSMP7DbFWsh",
        "outputId": "d33f598b-e850-4a29-9186-574f4e4e9e12"
      },
      "execution_count": 41,
      "outputs": [
        {
          "output_type": "stream",
          "name": "stdout",
          "text": [
            "tensor([1., 2., 3., 4.])\n"
          ]
        }
      ]
    },
    {
      "cell_type": "code",
      "source": [
        "#boolean tensor\n",
        "\n",
        "bt = torch.ByteTensor([True, False, False, True])\n",
        "print(bt)"
      ],
      "metadata": {
        "colab": {
          "base_uri": "https://localhost:8080/"
        },
        "id": "gNs8vtqsFaTU",
        "outputId": "7d1743ec-d1f1-44ff-f56c-eb8db463a4bd"
      },
      "execution_count": 42,
      "outputs": [
        {
          "output_type": "stream",
          "name": "stdout",
          "text": [
            "tensor([1, 0, 0, 1], dtype=torch.uint8)\n"
          ]
        }
      ]
    },
    {
      "cell_type": "code",
      "source": [
        "print(bt.long())\n",
        "print(bt.float())"
      ],
      "metadata": {
        "colab": {
          "base_uri": "https://localhost:8080/"
        },
        "id": "S9SHOy9QFgJM",
        "outputId": "bff22ee2-d5c0-4ed2-bb74-9bc2a5c86973"
      },
      "execution_count": 43,
      "outputs": [
        {
          "output_type": "stream",
          "name": "stdout",
          "text": [
            "tensor([1, 0, 0, 1])\n",
            "tensor([1., 0., 0., 1.])\n"
          ]
        }
      ]
    },
    {
      "cell_type": "markdown",
      "source": [
        "# concat & stack"
      ],
      "metadata": {
        "id": "7DeYiCWyFlbL"
      }
    },
    {
      "cell_type": "code",
      "source": [
        "x = torch.FloatTensor([[1,2],[3,4]])\n",
        "y = torch.FloatTensor([[5,6],[7,8]])"
      ],
      "metadata": {
        "id": "lPmV5Ga5Fi5R"
      },
      "execution_count": 44,
      "outputs": []
    },
    {
      "cell_type": "code",
      "source": [
        "print(x)\n",
        "print(y)"
      ],
      "metadata": {
        "colab": {
          "base_uri": "https://localhost:8080/"
        },
        "id": "awMC1vLkFr-y",
        "outputId": "39a45c01-1f3a-4a7c-f10b-b84ef089c594"
      },
      "execution_count": 45,
      "outputs": [
        {
          "output_type": "stream",
          "name": "stdout",
          "text": [
            "tensor([[1., 2.],\n",
            "        [3., 4.]])\n",
            "tensor([[5., 6.],\n",
            "        [7., 8.]])\n"
          ]
        }
      ]
    },
    {
      "cell_type": "code",
      "source": [
        "print(torch.cat([x,y],dim = 0))"
      ],
      "metadata": {
        "colab": {
          "base_uri": "https://localhost:8080/"
        },
        "id": "aA91roNeFtHl",
        "outputId": "3c603122-ed50-4164-cb4e-02bc5cb8087c"
      },
      "execution_count": 46,
      "outputs": [
        {
          "output_type": "stream",
          "name": "stdout",
          "text": [
            "tensor([[1., 2.],\n",
            "        [3., 4.],\n",
            "        [5., 6.],\n",
            "        [7., 8.]])\n"
          ]
        }
      ]
    },
    {
      "cell_type": "code",
      "source": [
        "print(torch.cat([x,y],dim = 1))"
      ],
      "metadata": {
        "colab": {
          "base_uri": "https://localhost:8080/"
        },
        "id": "0_Ow67c3FyjX",
        "outputId": "b841cd4c-bbf7-44af-a955-0c7a3c59100a"
      },
      "execution_count": 47,
      "outputs": [
        {
          "output_type": "stream",
          "name": "stdout",
          "text": [
            "tensor([[1., 2., 5., 6.],\n",
            "        [3., 4., 7., 8.]])\n"
          ]
        }
      ]
    },
    {
      "cell_type": "code",
      "source": [
        "x = torch.FloatTensor([1,4])\n",
        "y = torch.FloatTensor([2,5])\n",
        "z = torch.FloatTensor([3,6])"
      ],
      "metadata": {
        "id": "WvIJiOH5F0up"
      },
      "execution_count": 48,
      "outputs": []
    },
    {
      "cell_type": "code",
      "source": [
        "#stack은 랭크를 안늘리고 쌓아줌\n",
        "print(torch.stack([x,y,z]))\n",
        "print(torch.stack([x,y,z],dim = 1))"
      ],
      "metadata": {
        "colab": {
          "base_uri": "https://localhost:8080/"
        },
        "id": "hw6Zk0MtF6gy",
        "outputId": "25117616-88aa-4183-ff13-29925e48dbfa"
      },
      "execution_count": 49,
      "outputs": [
        {
          "output_type": "stream",
          "name": "stdout",
          "text": [
            "tensor([[1., 4.],\n",
            "        [2., 5.],\n",
            "        [3., 6.]])\n",
            "tensor([[1., 2., 3.],\n",
            "        [4., 5., 6.]])\n"
          ]
        }
      ]
    },
    {
      "cell_type": "code",
      "source": [
        "#cat은 rank를 늘려야함\n",
        "print(torch.cat([x.unsqueeze(0), y.unsqueeze(0), z.unsqueeze(0)], dim = 0))"
      ],
      "metadata": {
        "colab": {
          "base_uri": "https://localhost:8080/"
        },
        "id": "ug9vk74hF_4g",
        "outputId": "bf3463e1-6620-4694-ff3d-9f40e32ab3c0"
      },
      "execution_count": 50,
      "outputs": [
        {
          "output_type": "stream",
          "name": "stdout",
          "text": [
            "tensor([[1., 4.],\n",
            "        [2., 5.],\n",
            "        [3., 6.]])\n"
          ]
        }
      ]
    },
    {
      "cell_type": "markdown",
      "source": [
        "# ones_like, zeros_like"
      ],
      "metadata": {
        "id": "OpF-D75NGSPe"
      }
    },
    {
      "cell_type": "code",
      "source": [
        "x = torch.FloatTensor([[0,1,2],[2,1,0]])\n",
        "print(x)"
      ],
      "metadata": {
        "colab": {
          "base_uri": "https://localhost:8080/"
        },
        "id": "X7kYHmBeGNak",
        "outputId": "4d5762b7-beb0-4b14-93fd-b83ea097f19d"
      },
      "execution_count": 51,
      "outputs": [
        {
          "output_type": "stream",
          "name": "stdout",
          "text": [
            "tensor([[0., 1., 2.],\n",
            "        [2., 1., 0.]])\n"
          ]
        }
      ]
    },
    {
      "cell_type": "code",
      "source": [
        "#같은 디바이스 내에서 텐서를 선언?\n",
        "\n",
        "print(torch.ones_like(x))\n",
        "print(torch.zeros_like(x))"
      ],
      "metadata": {
        "colab": {
          "base_uri": "https://localhost:8080/"
        },
        "id": "YNHu2_XLGWqy",
        "outputId": "7a03d631-d799-4e48-9e11-785fba774ee6"
      },
      "execution_count": 52,
      "outputs": [
        {
          "output_type": "stream",
          "name": "stdout",
          "text": [
            "tensor([[1., 1., 1.],\n",
            "        [1., 1., 1.]])\n",
            "tensor([[0., 0., 0.],\n",
            "        [0., 0., 0.]])\n"
          ]
        }
      ]
    },
    {
      "cell_type": "markdown",
      "source": [
        "#원본을 변화시키는 연산"
      ],
      "metadata": {
        "id": "pG41fS--IGPj"
      }
    },
    {
      "cell_type": "code",
      "source": [
        "x = torch.FloatTensor([[1,2],[3,4]])\n",
        "print(x)"
      ],
      "metadata": {
        "colab": {
          "base_uri": "https://localhost:8080/"
        },
        "id": "rmiOq6WCGbtM",
        "outputId": "ebe3ff1d-b58a-49a7-be27-91e0ad348931"
      },
      "execution_count": 53,
      "outputs": [
        {
          "output_type": "stream",
          "name": "stdout",
          "text": [
            "tensor([[1., 2.],\n",
            "        [3., 4.]])\n"
          ]
        }
      ]
    },
    {
      "cell_type": "code",
      "source": [
        "print(x.mul(2.)) #원본을 변화시키지 않는다\n",
        "print(x)"
      ],
      "metadata": {
        "colab": {
          "base_uri": "https://localhost:8080/"
        },
        "id": "WoifYU3aIKlu",
        "outputId": "30c0fb22-7ae1-41c6-d04a-13df130e1adc"
      },
      "execution_count": 54,
      "outputs": [
        {
          "output_type": "stream",
          "name": "stdout",
          "text": [
            "tensor([[2., 4.],\n",
            "        [6., 8.]])\n",
            "tensor([[1., 2.],\n",
            "        [3., 4.]])\n"
          ]
        }
      ]
    },
    {
      "cell_type": "code",
      "source": [
        "print(x.mul_(2.)) #_을 쓰면 원본을 변화시킴\n",
        "print(x)"
      ],
      "metadata": {
        "colab": {
          "base_uri": "https://localhost:8080/"
        },
        "id": "YunCTyPlINvO",
        "outputId": "138f220f-bca6-4fc0-e5eb-530f780604dd"
      },
      "execution_count": 55,
      "outputs": [
        {
          "output_type": "stream",
          "name": "stdout",
          "text": [
            "tensor([[2., 4.],\n",
            "        [6., 8.]])\n",
            "tensor([[2., 4.],\n",
            "        [6., 8.]])\n"
          ]
        }
      ]
    },
    {
      "cell_type": "markdown",
      "source": [
        "#requires_grad make parameter tensor"
      ],
      "metadata": {
        "id": "39wGkOOMIVzD"
      }
    },
    {
      "cell_type": "code",
      "source": [
        "x_train = torch.FloatTensor([[1],[2],[3]])\n",
        "y_train = torch.FloatTensor([[2],[4],[6]])"
      ],
      "metadata": {
        "id": "mghYB0WBITfN"
      },
      "execution_count": 56,
      "outputs": []
    },
    {
      "cell_type": "code",
      "source": [
        "#requires_grad = True는 학습할 parameter임을 명시해줌\n",
        "#zeros는 0으로 초기화된 tensor\n",
        "\n",
        "W = torch.zeros(1,requires_grad = True)\n",
        "b = torch.zeros(1,requires_grad = True)"
      ],
      "metadata": {
        "id": "tPiD6bJ8IhlV"
      },
      "execution_count": 57,
      "outputs": []
    },
    {
      "cell_type": "code",
      "source": [
        "print(W)\n",
        "print(b)"
      ],
      "metadata": {
        "colab": {
          "base_uri": "https://localhost:8080/"
        },
        "id": "70l6pRjHIqv-",
        "outputId": "4b66faea-c494-4384-dc48-57a53b3e20ea"
      },
      "execution_count": 58,
      "outputs": [
        {
          "output_type": "stream",
          "name": "stdout",
          "text": [
            "tensor([0.], requires_grad=True)\n",
            "tensor([0.], requires_grad=True)\n"
          ]
        }
      ]
    },
    {
      "cell_type": "code",
      "source": [
        "#training\n",
        "\n",
        "optimizer = optim.SGD([W,b],lr = 0.01)\n",
        "\n",
        "epochs = 1000\n",
        "\n",
        "for epoch in range(1,epochs+1):\n",
        "\n",
        "    hypothesis = x_train*W + b\n",
        "\n",
        "    cost = torch.mean((hypothesis - y_train)**2)\n",
        "\n",
        "    optimizer.zero_grad()\n",
        "    cost.backward()\n",
        "    optimizer.step()"
      ],
      "metadata": {
        "id": "f_SyKo-xIsxz"
      },
      "execution_count": 60,
      "outputs": []
    },
    {
      "cell_type": "code",
      "source": [
        "print(W)\n",
        "print(b)"
      ],
      "metadata": {
        "colab": {
          "base_uri": "https://localhost:8080/"
        },
        "id": "fm5eT5lDL5ps",
        "outputId": "96e43100-c447-4a41-eb06-67d101b00642"
      },
      "execution_count": 62,
      "outputs": [
        {
          "output_type": "stream",
          "name": "stdout",
          "text": [
            "tensor([1.9708], requires_grad=True)\n",
            "tensor([0.0664], requires_grad=True)\n"
          ]
        }
      ]
    },
    {
      "cell_type": "code",
      "source": [
        "x_train = torch.FloatTensor([[1],[2],[3]])\n",
        "y_train = torch.FloatTensor([[1],[2],[3]])"
      ],
      "metadata": {
        "id": "z8T4_HvgL7Dr"
      },
      "execution_count": 63,
      "outputs": []
    },
    {
      "cell_type": "code",
      "source": [
        "W = torch.zeros(1)\n",
        "lr = 0.1"
      ],
      "metadata": {
        "id": "de54-O6jMFX9"
      },
      "execution_count": 64,
      "outputs": []
    },
    {
      "cell_type": "code",
      "source": [
        "epochs = 10\n",
        "\n",
        "for epoch in range(epochs+1):\n",
        "\n",
        "    hypothesis = x_train * W\n",
        "\n",
        "    cost = torch.mean((hypothesis - y_train)**2)\n",
        "    gradient = torch.sum((W*x_train - y_train)*x_train)\n",
        "\n",
        "    print('epoch {:4d}/{} W: {:.3f}, cost: {:.6f}'.format(\n",
        "        epoch, epochs, W.item(), cost.item()\n",
        "    ))\n",
        "\n",
        "    W = W - lr * gradient"
      ],
      "metadata": {
        "colab": {
          "base_uri": "https://localhost:8080/"
        },
        "id": "EYA8n89BMHUK",
        "outputId": "5b8153a3-d759-48db-936a-95c4b074ca54"
      },
      "execution_count": 65,
      "outputs": [
        {
          "output_type": "stream",
          "name": "stdout",
          "text": [
            "epoch    0/10 W: 0.000, cost: 4.666667\n",
            "epoch    1/10 W: 1.400, cost: 0.746666\n",
            "epoch    2/10 W: 0.840, cost: 0.119467\n",
            "epoch    3/10 W: 1.064, cost: 0.019115\n",
            "epoch    4/10 W: 0.974, cost: 0.003058\n",
            "epoch    5/10 W: 1.010, cost: 0.000489\n",
            "epoch    6/10 W: 0.996, cost: 0.000078\n",
            "epoch    7/10 W: 1.002, cost: 0.000013\n",
            "epoch    8/10 W: 0.999, cost: 0.000002\n",
            "epoch    9/10 W: 1.000, cost: 0.000000\n",
            "epoch   10/10 W: 1.000, cost: 0.000000\n"
          ]
        }
      ]
    },
    {
      "cell_type": "code",
      "source": [
        "W = torch.zeros(1, requires_grad = True)\n",
        "\n",
        "optimizer = optim.SGD([W], lr = 0.15)\n",
        "\n",
        "epochs = 20\n",
        "\n",
        "for epoch in range(epochs):\n",
        "\n",
        "    hypothesis = x_train * W\n",
        "\n",
        "    cost = torch.mean((hypothesis - y_train)**2)\n",
        "\n",
        "    print('epoch {:4d}/{} W: {:.3f}, cost: {:.6f}'.format(\n",
        "        epoch, epochs, W.item(), cost.item()\n",
        "    ))\n",
        "\n",
        "    #초기화\n",
        "    optimizer.zero_grad()\n",
        "\n",
        "    #미분\n",
        "    cost.backward()\n",
        "\n",
        "    #gradient descent\n",
        "    optimizer.step()"
      ],
      "metadata": {
        "colab": {
          "base_uri": "https://localhost:8080/"
        },
        "id": "UhXS4GRjMdfv",
        "outputId": "37f364e3-ad82-417d-d973-1167fccb55fc"
      },
      "execution_count": 66,
      "outputs": [
        {
          "output_type": "stream",
          "name": "stdout",
          "text": [
            "epoch    0/20 W: 0.000, cost: 4.666667\n",
            "epoch    1/20 W: 1.400, cost: 0.746667\n",
            "epoch    2/20 W: 0.840, cost: 0.119467\n",
            "epoch    3/20 W: 1.064, cost: 0.019115\n",
            "epoch    4/20 W: 0.974, cost: 0.003058\n",
            "epoch    5/20 W: 1.010, cost: 0.000489\n",
            "epoch    6/20 W: 0.996, cost: 0.000078\n",
            "epoch    7/20 W: 1.002, cost: 0.000013\n",
            "epoch    8/20 W: 0.999, cost: 0.000002\n",
            "epoch    9/20 W: 1.000, cost: 0.000000\n",
            "epoch   10/20 W: 1.000, cost: 0.000000\n",
            "epoch   11/20 W: 1.000, cost: 0.000000\n",
            "epoch   12/20 W: 1.000, cost: 0.000000\n",
            "epoch   13/20 W: 1.000, cost: 0.000000\n",
            "epoch   14/20 W: 1.000, cost: 0.000000\n",
            "epoch   15/20 W: 1.000, cost: 0.000000\n",
            "epoch   16/20 W: 1.000, cost: 0.000000\n",
            "epoch   17/20 W: 1.000, cost: 0.000000\n",
            "epoch   18/20 W: 1.000, cost: 0.000000\n",
            "epoch   19/20 W: 1.000, cost: 0.000000\n"
          ]
        }
      ]
    },
    {
      "cell_type": "code",
      "source": [
        "x_train = torch.FloatTensor([[73,80,75],\n",
        "                             [93,88,93],\n",
        "                             [89,91,90],\n",
        "                             [96,98,100],\n",
        "                             [73,66,70]])\n",
        "\n",
        "y_train = torch.FloatTensor([[152],[185],[180],[196],[142]])"
      ],
      "metadata": {
        "id": "UZN8EToSNdQS"
      },
      "execution_count": 67,
      "outputs": []
    },
    {
      "cell_type": "code",
      "source": [
        "W = torch.zeros((3,1), requires_grad = True)\n",
        "b = torch.zeros(1, requires_grad = True)"
      ],
      "metadata": {
        "id": "XwP4AtZkNuQb"
      },
      "execution_count": 68,
      "outputs": []
    },
    {
      "cell_type": "code",
      "source": [
        "optimizer = optim.SGD([W,b], lr = 1e-5)"
      ],
      "metadata": {
        "id": "BSDY-DoXNz6D"
      },
      "execution_count": 69,
      "outputs": []
    },
    {
      "cell_type": "code",
      "source": [
        "epochs = 20\n",
        "\n",
        "for epoch in range(epochs + 1):\n",
        "\n",
        "    hypothesis = x_train.matmul(W) + b\n",
        "\n",
        "    cost = torch.mean((hypothesis - y_train)**2)\n",
        "\n",
        "    optimizer.zero_grad()\n",
        "    cost.backward()\n",
        "    optimizer.step()\n",
        "\n",
        "    print('epoch {:4d}/{} hypothesis: {} cost: {:.6f}'.format(\n",
        "        epoch, epochs, hypothesis.squeeze().detach(), cost.item()\n",
        "    ))"
      ],
      "metadata": {
        "colab": {
          "base_uri": "https://localhost:8080/"
        },
        "id": "-A_JGUPDN2Ya",
        "outputId": "74bfbd2f-487e-485a-ef06-1d7024fe9c37"
      },
      "execution_count": 71,
      "outputs": [
        {
          "output_type": "stream",
          "name": "stdout",
          "text": [
            "epoch    0/20 hypothesis: tensor([0., 0., 0., 0., 0.]) cost: 29661.800781\n",
            "epoch    1/20 hypothesis: tensor([67.2578, 80.8397, 79.6523, 86.7394, 61.6605]) cost: 9298.520508\n",
            "epoch    2/20 hypothesis: tensor([104.9128, 126.0990, 124.2466, 135.3015,  96.1821]) cost: 2915.712402\n",
            "epoch    3/20 hypothesis: tensor([125.9942, 151.4381, 149.2133, 162.4896, 115.5097]) cost: 915.040527\n",
            "epoch    4/20 hypothesis: tensor([137.7967, 165.6247, 163.1911, 177.7112, 126.3307]) cost: 287.936096\n",
            "epoch    5/20 hypothesis: tensor([144.4044, 173.5674, 171.0168, 186.2332, 132.3891]) cost: 91.371063\n",
            "epoch    6/20 hypothesis: tensor([148.1035, 178.0143, 175.3980, 191.0042, 135.7812]) cost: 29.758249\n",
            "epoch    7/20 hypothesis: tensor([150.1744, 180.5042, 177.8509, 193.6753, 137.6805]) cost: 10.445267\n",
            "epoch    8/20 hypothesis: tensor([151.3336, 181.8983, 179.2240, 195.1707, 138.7440]) cost: 4.391237\n",
            "epoch    9/20 hypothesis: tensor([151.9824, 182.6789, 179.9928, 196.0079, 139.3396]) cost: 2.493121\n",
            "epoch   10/20 hypothesis: tensor([152.3454, 183.1161, 180.4231, 196.4765, 139.6732]) cost: 1.897688\n",
            "epoch   11/20 hypothesis: tensor([152.5485, 183.3609, 180.6640, 196.7389, 139.8602]) cost: 1.710552\n",
            "epoch   12/20 hypothesis: tensor([152.6620, 183.4982, 180.7988, 196.8857, 139.9651]) cost: 1.651416\n",
            "epoch   13/20 hypothesis: tensor([152.7253, 183.5752, 180.8742, 196.9678, 140.0240]) cost: 1.632369\n",
            "epoch   14/20 hypothesis: tensor([152.7606, 183.6184, 180.9164, 197.0138, 140.0571]) cost: 1.625924\n",
            "epoch   15/20 hypothesis: tensor([152.7802, 183.6427, 180.9399, 197.0395, 140.0759]) cost: 1.623420\n",
            "epoch   16/20 hypothesis: tensor([152.7909, 183.6565, 180.9530, 197.0538, 140.0865]) cost: 1.622152\n",
            "epoch   17/20 hypothesis: tensor([152.7968, 183.6643, 180.9603, 197.0618, 140.0927]) cost: 1.621262\n",
            "epoch   18/20 hypothesis: tensor([152.7999, 183.6688, 180.9644, 197.0661, 140.0963]) cost: 1.620501\n",
            "epoch   19/20 hypothesis: tensor([152.8014, 183.6715, 180.9665, 197.0686, 140.0985]) cost: 1.619757\n",
            "epoch   20/20 hypothesis: tensor([152.8020, 183.6731, 180.9677, 197.0699, 140.0999]) cost: 1.619046\n"
          ]
        }
      ]
    },
    {
      "cell_type": "code",
      "source": [],
      "metadata": {
        "id": "mYOKBH9ROGNG"
      },
      "execution_count": null,
      "outputs": []
    },
    {
      "cell_type": "markdown",
      "source": [
        "#torch model using nn.Module"
      ],
      "metadata": {
        "id": "DhPrh6yrOkFf"
      }
    },
    {
      "cell_type": "code",
      "source": [
        "class MultivariateLinearRegressionModel(nn.Module):\n",
        "\n",
        "    def __init__(self):\n",
        "\n",
        "        super().__init__()\n",
        "        self.linear = nn.Linear(3,1)\n",
        "\n",
        "    def forward(self, x):\n",
        "\n",
        "        return self.linear(x)\n",
        "\n",
        "model = MultivariateLinearRegressionModel()\n",
        "\n",
        "optimizer = optim.SGD(model.parameters(), lr = 1e-5)"
      ],
      "metadata": {
        "id": "zZdJ--SUOk6V"
      },
      "execution_count": 73,
      "outputs": []
    },
    {
      "cell_type": "code",
      "source": [
        "epochs = 20\n",
        "\n",
        "for epoch in range(epochs + 1):\n",
        "\n",
        "    hypothesis = model(x_train)\n",
        "\n",
        "    cost = F.mse_loss(hypothesis, y_train)\n",
        "\n",
        "    optimizer.zero_grad()\n",
        "    cost.backward()\n",
        "    optimizer.step()\n",
        "\n",
        "    print('epoch {:4d}/{} hypothesis: {} cost: {:.6f}'.format(\n",
        "        epoch, epochs, hypothesis.squeeze().detach(), cost.item()\n",
        "    ))"
      ],
      "metadata": {
        "colab": {
          "base_uri": "https://localhost:8080/"
        },
        "id": "SGIQs4WFO80A",
        "outputId": "cd5939c7-a3bb-4cf5-aeac-2e108925ee17"
      },
      "execution_count": 75,
      "outputs": [
        {
          "output_type": "stream",
          "name": "stdout",
          "text": [
            "epoch    0/20 hypothesis: tensor([31.5734, 39.8651, 38.3747, 41.0244, 31.4708]) cost: 18371.703125\n",
            "epoch    1/20 hypothesis: tensor([ 84.5069, 103.4873, 101.0627, 109.2900,  79.9986]) cost: 5758.706055\n",
            "epoch    2/20 hypothesis: tensor([114.1423, 139.1071, 136.1594, 147.5095, 107.1675]) cost: 1805.199829\n",
            "epoch    3/20 hypothesis: tensor([130.7341, 159.0493, 155.8087, 168.9071, 122.3784]) cost: 565.985596\n",
            "epoch    4/20 hypothesis: tensor([140.0232, 170.2142, 166.8096, 180.8868, 130.8945]) cost: 177.557724\n",
            "epoch    5/20 hypothesis: tensor([145.2238, 176.4651, 172.9686, 187.5939, 135.6624]) cost: 55.806019\n",
            "epoch    6/20 hypothesis: tensor([148.1353, 179.9648, 176.4168, 191.3489, 138.3318]) cost: 17.643421\n",
            "epoch    7/20 hypothesis: tensor([149.7654, 181.9241, 178.3473, 193.4511, 139.8263]) cost: 5.681575\n",
            "epoch    8/20 hypothesis: tensor([150.6779, 183.0211, 179.4281, 194.6281, 140.6631]) cost: 1.932061\n",
            "epoch    9/20 hypothesis: tensor([151.1888, 183.6353, 180.0332, 195.2870, 141.1316]) cost: 0.756782\n",
            "epoch   10/20 hypothesis: tensor([151.4748, 183.9792, 180.3720, 195.6560, 141.3939]) cost: 0.388377\n",
            "epoch   11/20 hypothesis: tensor([151.6349, 184.1718, 180.5616, 195.8625, 141.5408]) cost: 0.272903\n",
            "epoch   12/20 hypothesis: tensor([151.7245, 184.2796, 180.6678, 195.9781, 141.6231]) cost: 0.236675\n",
            "epoch   13/20 hypothesis: tensor([151.7746, 184.3400, 180.7272, 196.0428, 141.6692]) cost: 0.225302\n",
            "epoch   14/20 hypothesis: tensor([151.8026, 184.3738, 180.7605, 196.0791, 141.6950]) cost: 0.221725\n",
            "epoch   15/20 hypothesis: tensor([151.8182, 184.3928, 180.7791, 196.0993, 141.7095]) cost: 0.220582\n",
            "epoch   16/20 hypothesis: tensor([151.8270, 184.4035, 180.7895, 196.1107, 141.7177]) cost: 0.220206\n",
            "epoch   17/20 hypothesis: tensor([151.8318, 184.4094, 180.7953, 196.1170, 141.7223]) cost: 0.220070\n",
            "epoch   18/20 hypothesis: tensor([151.8345, 184.4128, 180.7985, 196.1206, 141.7249]) cost: 0.220018\n",
            "epoch   19/20 hypothesis: tensor([151.8360, 184.4147, 180.8004, 196.1225, 141.7264]) cost: 0.219980\n",
            "epoch   20/20 hypothesis: tensor([151.8367, 184.4158, 180.8013, 196.1236, 141.7272]) cost: 0.219949\n"
          ]
        }
      ]
    },
    {
      "cell_type": "code",
      "source": [],
      "metadata": {
        "id": "lUvqXQ8JPXoN"
      },
      "execution_count": null,
      "outputs": []
    },
    {
      "cell_type": "markdown",
      "source": [
        "# torch dataset using torch.utils.data.Dataset"
      ],
      "metadata": {
        "id": "G_wmQLIHPivW"
      }
    },
    {
      "cell_type": "code",
      "source": [
        "class CustomDataset(Dataset):\n",
        "\n",
        "    def __init__(self):\n",
        "\n",
        "        self.x_data = [[73, 80, 75],\n",
        "                       [93, 88, 93],\n",
        "                       [89, 91, 90],\n",
        "                       [96, 98, 100],\n",
        "                       [73, 66, 70]]\n",
        "\n",
        "        self.y_data = [[152], [185], [180], [196], [142]]\n",
        "\n",
        "    def __len__(self):\n",
        "\n",
        "        return len(self.x_data)\n",
        "\n",
        "    def __getitem__(self, idx):\n",
        "\n",
        "        x = torch.FloatTensor(self.x_data[idx])\n",
        "        y = torch.FloatTensor(self.y_data[idx])\n",
        "\n",
        "        return x,y\n",
        "\n",
        "dataset = CustomDataset()"
      ],
      "metadata": {
        "id": "UlpEjqr1PlIJ"
      },
      "execution_count": 77,
      "outputs": []
    },
    {
      "cell_type": "code",
      "source": [
        "dataloader = DataLoader(\n",
        "    dataset,\n",
        "    batch_size = 2,\n",
        "    shuffle = True\n",
        ")"
      ],
      "metadata": {
        "id": "J12o7R-XQdTE"
      },
      "execution_count": 79,
      "outputs": []
    },
    {
      "cell_type": "code",
      "source": [
        "epochs = 20\n",
        "\n",
        "for epoch in range(epochs + 1):\n",
        "\n",
        "    for batch_idx, samples in enumerate(dataloader):\n",
        "\n",
        "        x_train, y_train  = samples\n",
        "\n",
        "        prediction = model(x_train)\n",
        "\n",
        "        cost = F.mse_loss(prediction, y_train)\n",
        "\n",
        "        optimizer.zero_grad()\n",
        "        cost.backward()\n",
        "        optimizer.step()\n",
        "\n",
        "        print('epoch {:4d}/{} batch {}/{} cost: {:.6f}'.format(\n",
        "            epoch, epochs, batch_idx + 1, len(dataloader), cost.item()\n",
        "        ))"
      ],
      "metadata": {
        "colab": {
          "base_uri": "https://localhost:8080/"
        },
        "id": "YgGfkWBJQoMi",
        "outputId": "419f83ee-36ec-4f17-cc80-d7a5cf22d6c3"
      },
      "execution_count": 80,
      "outputs": [
        {
          "output_type": "stream",
          "name": "stdout",
          "text": [
            "epoch    0/20 batch 1/3 cost: 0.207312\n",
            "epoch    0/20 batch 2/3 cost: 0.056680\n",
            "epoch    0/20 batch 3/3 cost: 0.823586\n",
            "epoch    1/20 batch 1/3 cost: 0.250032\n",
            "epoch    1/20 batch 2/3 cost: 0.471759\n",
            "epoch    1/20 batch 3/3 cost: 0.042345\n",
            "epoch    2/20 batch 1/3 cost: 0.180257\n",
            "epoch    2/20 batch 2/3 cost: 0.582011\n",
            "epoch    2/20 batch 3/3 cost: 0.073183\n",
            "epoch    3/20 batch 1/3 cost: 0.184993\n",
            "epoch    3/20 batch 2/3 cost: 0.412829\n",
            "epoch    3/20 batch 3/3 cost: 0.122024\n",
            "epoch    4/20 batch 1/3 cost: 0.498531\n",
            "epoch    4/20 batch 2/3 cost: 0.063394\n",
            "epoch    4/20 batch 3/3 cost: 0.036055\n",
            "epoch    5/20 batch 1/3 cost: 0.022809\n",
            "epoch    5/20 batch 2/3 cost: 0.223392\n",
            "epoch    5/20 batch 3/3 cost: 0.967673\n",
            "epoch    6/20 batch 1/3 cost: 0.252709\n",
            "epoch    6/20 batch 2/3 cost: 0.442125\n",
            "epoch    6/20 batch 3/3 cost: 0.039095\n",
            "epoch    7/20 batch 1/3 cost: 0.153871\n",
            "epoch    7/20 batch 2/3 cost: 0.509555\n",
            "epoch    7/20 batch 3/3 cost: 0.010296\n",
            "epoch    8/20 batch 1/3 cost: 0.054676\n",
            "epoch    8/20 batch 2/3 cost: 0.319272\n",
            "epoch    8/20 batch 3/3 cost: 0.576873\n",
            "epoch    9/20 batch 1/3 cost: 0.006667\n",
            "epoch    9/20 batch 2/3 cost: 0.130309\n",
            "epoch    9/20 batch 3/3 cost: 1.027778\n",
            "epoch   10/20 batch 1/3 cost: 0.254126\n",
            "epoch   10/20 batch 2/3 cost: 0.499474\n",
            "epoch   10/20 batch 3/3 cost: 0.014169\n",
            "epoch   11/20 batch 1/3 cost: 0.262789\n",
            "epoch   11/20 batch 2/3 cost: 0.456165\n",
            "epoch   11/20 batch 3/3 cost: 0.002145\n",
            "epoch   12/20 batch 1/3 cost: 0.089328\n",
            "epoch   12/20 batch 2/3 cost: 0.347232\n",
            "epoch   12/20 batch 3/3 cost: 0.644113\n",
            "epoch   13/20 batch 1/3 cost: 0.050403\n",
            "epoch   13/20 batch 2/3 cost: 0.421984\n",
            "epoch   13/20 batch 3/3 cost: 0.444533\n",
            "epoch   14/20 batch 1/3 cost: 0.003937\n",
            "epoch   14/20 batch 2/3 cost: 0.631963\n",
            "epoch   14/20 batch 3/3 cost: 0.478528\n",
            "epoch   15/20 batch 1/3 cost: 0.603389\n",
            "epoch   15/20 batch 2/3 cost: 0.310235\n",
            "epoch   15/20 batch 3/3 cost: 0.004174\n",
            "epoch   16/20 batch 1/3 cost: 0.052310\n",
            "epoch   16/20 batch 2/3 cost: 0.520785\n",
            "epoch   16/20 batch 3/3 cost: 0.028101\n",
            "epoch   17/20 batch 1/3 cost: 0.025661\n",
            "epoch   17/20 batch 2/3 cost: 0.380539\n",
            "epoch   17/20 batch 3/3 cost: 0.493055\n",
            "epoch   18/20 batch 1/3 cost: 0.526974\n",
            "epoch   18/20 batch 2/3 cost: 0.046092\n",
            "epoch   18/20 batch 3/3 cost: 0.333999\n",
            "epoch   19/20 batch 1/3 cost: 0.044324\n",
            "epoch   19/20 batch 2/3 cost: 0.123238\n",
            "epoch   19/20 batch 3/3 cost: 1.024162\n",
            "epoch   20/20 batch 1/3 cost: 0.133503\n",
            "epoch   20/20 batch 2/3 cost: 0.258685\n",
            "epoch   20/20 batch 3/3 cost: 0.680620\n"
          ]
        }
      ]
    },
    {
      "cell_type": "code",
      "source": [],
      "metadata": {
        "id": "YPkeA8ynRAHZ"
      },
      "execution_count": null,
      "outputs": []
    },
    {
      "cell_type": "markdown",
      "source": [
        "# set seed to reproducibility"
      ],
      "metadata": {
        "id": "wiWz6mrWRGDb"
      }
    },
    {
      "cell_type": "code",
      "source": [
        "torch.manual_seed(1)"
      ],
      "metadata": {
        "colab": {
          "base_uri": "https://localhost:8080/"
        },
        "id": "Pl9hn6cnRcXs",
        "outputId": "b2f255c6-4fe1-4c3d-c018-697b245d4155"
      },
      "execution_count": 81,
      "outputs": [
        {
          "output_type": "execute_result",
          "data": {
            "text/plain": [
              "<torch._C.Generator at 0x7fb76e91cfd0>"
            ]
          },
          "metadata": {},
          "execution_count": 81
        }
      ]
    },
    {
      "cell_type": "code",
      "source": [
        "x_data = [[1,2], [2,3], [3,1], [4,3], [5,3], [6,2]]\n",
        "y_data = [[0], [0], [0], [1], [1], [1]]"
      ],
      "metadata": {
        "id": "mCNZWvbqRedH"
      },
      "execution_count": 82,
      "outputs": []
    },
    {
      "cell_type": "code",
      "source": [
        "x_train = torch.FloatTensor(x_data)\n",
        "y_train = torch.FloatTensor(y_data)"
      ],
      "metadata": {
        "id": "Xda7DSfQRlNs"
      },
      "execution_count": 83,
      "outputs": []
    },
    {
      "cell_type": "code",
      "source": [
        "print(x_train.shape)\n",
        "print(x_train)"
      ],
      "metadata": {
        "colab": {
          "base_uri": "https://localhost:8080/"
        },
        "id": "gZomKtEhRpVi",
        "outputId": "812f3797-f8c5-475e-8d9f-d042efe138c4"
      },
      "execution_count": 84,
      "outputs": [
        {
          "output_type": "stream",
          "name": "stdout",
          "text": [
            "torch.Size([6, 2])\n",
            "tensor([[1., 2.],\n",
            "        [2., 3.],\n",
            "        [3., 1.],\n",
            "        [4., 3.],\n",
            "        [5., 3.],\n",
            "        [6., 2.]])\n"
          ]
        }
      ]
    },
    {
      "cell_type": "code",
      "source": [
        "print(y_train.shape)\n",
        "print(y_train)"
      ],
      "metadata": {
        "colab": {
          "base_uri": "https://localhost:8080/"
        },
        "id": "vZPr4CdkRryt",
        "outputId": "578b8be4-2b6b-4889-fc20-16c0b0e41f9b"
      },
      "execution_count": 85,
      "outputs": [
        {
          "output_type": "stream",
          "name": "stdout",
          "text": [
            "torch.Size([6, 1])\n",
            "tensor([[0.],\n",
            "        [0.],\n",
            "        [0.],\n",
            "        [1.],\n",
            "        [1.],\n",
            "        [1.]])\n"
          ]
        }
      ]
    },
    {
      "cell_type": "code",
      "source": [
        "W = torch.zeros((2,1), requires_grad = True)\n",
        "b = torch.zeros(1, requires_grad = True)"
      ],
      "metadata": {
        "id": "qfzDbg6JRt_p"
      },
      "execution_count": 86,
      "outputs": []
    },
    {
      "cell_type": "code",
      "source": [
        "#naive hypothesis\n",
        "hypothesis = 1/(1+torch.exp(-(x_train.matmul(W)+b)))\n",
        "\n",
        "print(hypothesis)\n",
        "print(hypothesis.shape)"
      ],
      "metadata": {
        "colab": {
          "base_uri": "https://localhost:8080/"
        },
        "id": "xUOXfyeMRz9o",
        "outputId": "6c4eb263-0f29-473f-c79c-a07104d077ea"
      },
      "execution_count": 87,
      "outputs": [
        {
          "output_type": "stream",
          "name": "stdout",
          "text": [
            "tensor([[0.5000],\n",
            "        [0.5000],\n",
            "        [0.5000],\n",
            "        [0.5000],\n",
            "        [0.5000],\n",
            "        [0.5000]], grad_fn=<MulBackward0>)\n",
            "torch.Size([6, 1])\n"
          ]
        }
      ]
    },
    {
      "cell_type": "code",
      "source": [
        "#use sigmoid function\n",
        "\n",
        "hypothesis = torch.sigmoid(x_train.matmul(W)+b)\n",
        "\n",
        "print(hypothesis)\n",
        "print(hypothesis.shape)"
      ],
      "metadata": {
        "colab": {
          "base_uri": "https://localhost:8080/"
        },
        "id": "GFc4-4dxR9cK",
        "outputId": "3112d740-835d-4ced-dccb-e0ed59db74ef"
      },
      "execution_count": 88,
      "outputs": [
        {
          "output_type": "stream",
          "name": "stdout",
          "text": [
            "tensor([[0.5000],\n",
            "        [0.5000],\n",
            "        [0.5000],\n",
            "        [0.5000],\n",
            "        [0.5000],\n",
            "        [0.5000]], grad_fn=<SigmoidBackward0>)\n",
            "torch.Size([6, 1])\n"
          ]
        }
      ]
    },
    {
      "cell_type": "code",
      "source": [
        "#naive cross entropy\n",
        "\n",
        "losses = -(y_train*torch.log(hypothesis) + (1 - y_train)*torch.log(1 - hypothesis))\n",
        "\n",
        "print(losses)"
      ],
      "metadata": {
        "colab": {
          "base_uri": "https://localhost:8080/"
        },
        "id": "3aBJQwL_SDx6",
        "outputId": "fc3112e3-02c9-4fa4-90e9-0d33bdf407d3"
      },
      "execution_count": 89,
      "outputs": [
        {
          "output_type": "stream",
          "name": "stdout",
          "text": [
            "tensor([[0.6931],\n",
            "        [0.6931],\n",
            "        [0.6931],\n",
            "        [0.6931],\n",
            "        [0.6931],\n",
            "        [0.6931]], grad_fn=<NegBackward0>)\n"
          ]
        }
      ]
    },
    {
      "cell_type": "code",
      "source": [
        "cost = losses.mean()\n",
        "print(cost)"
      ],
      "metadata": {
        "colab": {
          "base_uri": "https://localhost:8080/"
        },
        "id": "EqCakMn5SNc8",
        "outputId": "217a5f31-8066-4fe0-c075-e137617a4693"
      },
      "execution_count": 90,
      "outputs": [
        {
          "output_type": "stream",
          "name": "stdout",
          "text": [
            "tensor(0.6931, grad_fn=<MeanBackward0>)\n"
          ]
        }
      ]
    },
    {
      "cell_type": "code",
      "source": [
        "#use cross entropy function\n",
        "\n",
        "F.binary_cross_entropy(hypothesis, y_train)"
      ],
      "metadata": {
        "colab": {
          "base_uri": "https://localhost:8080/"
        },
        "id": "3elRuHNBSPz5",
        "outputId": "8e99a18d-68c9-4afc-d735-b670d3b4fe25"
      },
      "execution_count": 91,
      "outputs": [
        {
          "output_type": "execute_result",
          "data": {
            "text/plain": [
              "tensor(0.6931, grad_fn=<BinaryCrossEntropyBackward0>)"
            ]
          },
          "metadata": {},
          "execution_count": 91
        }
      ]
    },
    {
      "cell_type": "code",
      "source": [
        "W = torch.zeros((2,1), requires_grad = True)\n",
        "b = torch.zeros(1, requires_grad = True)\n",
        "\n",
        "optimizer = optim.SGD([W,b], lr = 1)"
      ],
      "metadata": {
        "id": "kTmufLiHSUqD"
      },
      "execution_count": 92,
      "outputs": []
    },
    {
      "cell_type": "code",
      "source": [
        "#training\n",
        "\n",
        "epochs = 1000\n",
        "for epoch in range(epochs + 1):\n",
        "\n",
        "    hypothesis = torch.sigmoid(x_train.matmul(W) + b)\n",
        "    cost = F.binary_cross_entropy(hypothesis, y_train)\n",
        "\n",
        "    optimizer.zero_grad()\n",
        "    cost.backward()\n",
        "    optimizer.step()\n",
        "\n",
        "    if epoch % 100 == 0:\n",
        "\n",
        "        print('epoch {:4d}/{} cost: {:.6f}'.format(\n",
        "            epoch, epochs, cost.item()\n",
        "        ))"
      ],
      "metadata": {
        "colab": {
          "base_uri": "https://localhost:8080/"
        },
        "id": "degmCNfISd4E",
        "outputId": "a938f73a-6867-4abe-8220-e67922df9f50"
      },
      "execution_count": 93,
      "outputs": [
        {
          "output_type": "stream",
          "name": "stdout",
          "text": [
            "epoch    0/1000 cost: 0.693147\n",
            "epoch  100/1000 cost: 0.134722\n",
            "epoch  200/1000 cost: 0.080643\n",
            "epoch  300/1000 cost: 0.057900\n",
            "epoch  400/1000 cost: 0.045300\n",
            "epoch  500/1000 cost: 0.037261\n",
            "epoch  600/1000 cost: 0.031672\n",
            "epoch  700/1000 cost: 0.027556\n",
            "epoch  800/1000 cost: 0.024394\n",
            "epoch  900/1000 cost: 0.021888\n",
            "epoch 1000/1000 cost: 0.019852\n"
          ]
        }
      ]
    },
    {
      "cell_type": "code",
      "source": [
        "hypothesis = torch.sigmoid(x_train.matmul(W) + b)\n",
        "print(hypothesis[:5])"
      ],
      "metadata": {
        "colab": {
          "base_uri": "https://localhost:8080/"
        },
        "id": "EE14g16ySyXt",
        "outputId": "bdf28a88-6d8c-4101-99f5-a8707a50c01b"
      },
      "execution_count": 94,
      "outputs": [
        {
          "output_type": "stream",
          "name": "stdout",
          "text": [
            "tensor([[2.7648e-04],\n",
            "        [3.1608e-02],\n",
            "        [3.8977e-02],\n",
            "        [9.5622e-01],\n",
            "        [9.9823e-01]], grad_fn=<SliceBackward0>)\n"
          ]
        }
      ]
    },
    {
      "cell_type": "code",
      "source": [
        "prediction = hypothesis >= torch.FloatTensor([0.5])\n",
        "print(prediction[:5])"
      ],
      "metadata": {
        "colab": {
          "base_uri": "https://localhost:8080/"
        },
        "id": "eH9V1_o6S-eq",
        "outputId": "64704f7d-19b1-45a9-edc4-f9c46785e01c"
      },
      "execution_count": 95,
      "outputs": [
        {
          "output_type": "stream",
          "name": "stdout",
          "text": [
            "tensor([[False],\n",
            "        [False],\n",
            "        [False],\n",
            "        [ True],\n",
            "        [ True]])\n"
          ]
        }
      ]
    },
    {
      "cell_type": "code",
      "source": [
        "print(y_train[:5])"
      ],
      "metadata": {
        "colab": {
          "base_uri": "https://localhost:8080/"
        },
        "id": "rbBhdFUnTDBj",
        "outputId": "aae516fc-a86b-4e7e-fd28-4e59819eb893"
      },
      "execution_count": 96,
      "outputs": [
        {
          "output_type": "stream",
          "name": "stdout",
          "text": [
            "tensor([[0.],\n",
            "        [0.],\n",
            "        [0.],\n",
            "        [1.],\n",
            "        [1.]])\n"
          ]
        }
      ]
    },
    {
      "cell_type": "code",
      "source": [
        "correct_prediction = prediction.float() == y_train\n",
        "print(correct_prediction)"
      ],
      "metadata": {
        "colab": {
          "base_uri": "https://localhost:8080/"
        },
        "id": "MeTPNjISTFWE",
        "outputId": "38322b97-e60f-44be-ff0c-980ad9681a89"
      },
      "execution_count": 97,
      "outputs": [
        {
          "output_type": "stream",
          "name": "stdout",
          "text": [
            "tensor([[True],\n",
            "        [True],\n",
            "        [True],\n",
            "        [True],\n",
            "        [True],\n",
            "        [True]])\n"
          ]
        }
      ]
    },
    {
      "cell_type": "code",
      "source": [],
      "metadata": {
        "id": "yswQFR6QTJVF"
      },
      "execution_count": null,
      "outputs": []
    },
    {
      "cell_type": "markdown",
      "source": [
        "# binary classifier training using linear sigmoid"
      ],
      "metadata": {
        "id": "lBF4FnZETMRx"
      }
    },
    {
      "cell_type": "code",
      "source": [
        "class BinaryClassifier(nn.Module):\n",
        "\n",
        "    def __init__(self):\n",
        "\n",
        "        super().__init__()\n",
        "        self.linear = nn.Linear(2,1) #크기 조절 가능\n",
        "        self.sigmoid = nn.Sigmoid()\n",
        "\n",
        "    def forward(self, x):\n",
        "\n",
        "        return self.sigmoid(self.linear(x))"
      ],
      "metadata": {
        "id": "iG4Xtd8YTPG1"
      },
      "execution_count": 98,
      "outputs": []
    },
    {
      "cell_type": "code",
      "source": [
        "model = BinaryClassifier()"
      ],
      "metadata": {
        "id": "dUi4Pl8QTbYU"
      },
      "execution_count": 99,
      "outputs": []
    },
    {
      "cell_type": "code",
      "source": [
        "optimizer = optim.SGD(model.parameters(), lr = 1)"
      ],
      "metadata": {
        "id": "aXI2EzrxTe1w"
      },
      "execution_count": 100,
      "outputs": []
    },
    {
      "cell_type": "code",
      "source": [
        "epochs = 100\n",
        "\n",
        "for epoch in range(epochs + 1):\n",
        "\n",
        "    hypothesis = model(x_train)\n",
        "\n",
        "    cost = F.binary_cross_entropy(hypothesis, y_train)\n",
        "\n",
        "    optimizer.zero_grad()\n",
        "    cost.backward()\n",
        "    optimizer.step()\n",
        "\n",
        "    if epoch % 10 == 0:\n",
        "\n",
        "        prediction = hypothesis >= torch.FloatTensor([0.5])\n",
        "\n",
        "        correct_prediction = prediction.float() == y_train\n",
        "\n",
        "        accuracy = correct_prediction.sum().item()/len(correct_prediction)\n",
        "\n",
        "        print('epoch {:4d}/{} cost: {:.6f} accuracy {:2.2f}%'.format(\n",
        "            epoch, epochs, cost.item(), accuracy*100\n",
        "        ))"
      ],
      "metadata": {
        "colab": {
          "base_uri": "https://localhost:8080/"
        },
        "id": "RAIFaEGMThc6",
        "outputId": "b717066f-d821-41f0-faad-c3771cea7764"
      },
      "execution_count": 102,
      "outputs": [
        {
          "output_type": "stream",
          "name": "stdout",
          "text": [
            "epoch    0/100 cost: 0.527002 accuracy 83.33%\n",
            "epoch   10/100 cost: 0.994596 accuracy 66.67%\n",
            "epoch   20/100 cost: 0.570399 accuracy 83.33%\n",
            "epoch   30/100 cost: 0.473909 accuracy 83.33%\n",
            "epoch   40/100 cost: 0.388606 accuracy 83.33%\n",
            "epoch   50/100 cost: 0.307901 accuracy 83.33%\n",
            "epoch   60/100 cost: 0.235923 accuracy 83.33%\n",
            "epoch   70/100 cost: 0.182916 accuracy 100.00%\n",
            "epoch   80/100 cost: 0.155795 accuracy 100.00%\n",
            "epoch   90/100 cost: 0.143031 accuracy 100.00%\n",
            "epoch  100/100 cost: 0.133369 accuracy 100.00%\n"
          ]
        }
      ]
    },
    {
      "cell_type": "code",
      "source": [],
      "metadata": {
        "id": "hIb9TugNT8Nb"
      },
      "execution_count": null,
      "outputs": []
    },
    {
      "cell_type": "markdown",
      "source": [
        "# softmax function"
      ],
      "metadata": {
        "id": "TH4XoKUQVozx"
      }
    },
    {
      "cell_type": "code",
      "source": [
        "z = torch.FloatTensor([1,2,3])\n",
        "\n",
        "hypothesis = F.softmax(z, dim = 0)\n",
        "\n",
        "print(hypothesis)"
      ],
      "metadata": {
        "colab": {
          "base_uri": "https://localhost:8080/"
        },
        "id": "sJe8MrDVVqP9",
        "outputId": "f76df508-b300-4ed2-ecb1-1f60632636dd"
      },
      "execution_count": 103,
      "outputs": [
        {
          "output_type": "stream",
          "name": "stdout",
          "text": [
            "tensor([0.0900, 0.2447, 0.6652])\n"
          ]
        }
      ]
    },
    {
      "cell_type": "code",
      "source": [
        "hypothesis.sum()"
      ],
      "metadata": {
        "colab": {
          "base_uri": "https://localhost:8080/"
        },
        "id": "c0Cj40XzVvDI",
        "outputId": "bd47e8af-def0-487c-9ebd-ce9d208ddd12"
      },
      "execution_count": 104,
      "outputs": [
        {
          "output_type": "execute_result",
          "data": {
            "text/plain": [
              "tensor(1.)"
            ]
          },
          "metadata": {},
          "execution_count": 104
        }
      ]
    },
    {
      "cell_type": "code",
      "source": [
        "z = torch.rand(3,5, requires_grad = True)\n",
        "\n",
        "print(z)\n",
        "\n",
        "hypothesis = F.softmax(z, dim = 1)\n",
        "\n",
        "print(hypothesis)"
      ],
      "metadata": {
        "colab": {
          "base_uri": "https://localhost:8080/"
        },
        "id": "Uk2XelzaVxBX",
        "outputId": "05173436-b6a5-42b2-c381-619cfa32e2bf"
      },
      "execution_count": 107,
      "outputs": [
        {
          "output_type": "stream",
          "name": "stdout",
          "text": [
            "tensor([[0.1980, 0.4162, 0.2843, 0.3398, 0.5239],\n",
            "        [0.7981, 0.7718, 0.0112, 0.8100, 0.6397],\n",
            "        [0.9743, 0.8300, 0.0444, 0.0246, 0.2588]], requires_grad=True)\n",
            "tensor([[0.1703, 0.2118, 0.1857, 0.1963, 0.2359],\n",
            "        [0.2328, 0.2268, 0.1060, 0.2356, 0.1987],\n",
            "        [0.3189, 0.2760, 0.1258, 0.1234, 0.1559]], grad_fn=<SoftmaxBackward0>)\n"
          ]
        }
      ]
    },
    {
      "cell_type": "code",
      "source": [
        "y = torch.randint(5,(3,)).long()\n",
        "print(y)"
      ],
      "metadata": {
        "colab": {
          "base_uri": "https://localhost:8080/"
        },
        "id": "bXbTH2noV3yl",
        "outputId": "40481ea5-0ce6-449c-92a4-ad0a684fb90a"
      },
      "execution_count": 106,
      "outputs": [
        {
          "output_type": "stream",
          "name": "stdout",
          "text": [
            "tensor([2, 1, 0])\n"
          ]
        }
      ]
    },
    {
      "cell_type": "code",
      "source": [
        "y_one_hot = torch.zeros_like(hypothesis)\n",
        "\n",
        "y_one_hot.scatter_(1, y.unsqueeze(1), 1)"
      ],
      "metadata": {
        "colab": {
          "base_uri": "https://localhost:8080/"
        },
        "id": "X098YNiLV6_V",
        "outputId": "8e0f1d69-2126-4a71-a40a-01db087cfc57"
      },
      "execution_count": 108,
      "outputs": [
        {
          "output_type": "execute_result",
          "data": {
            "text/plain": [
              "tensor([[0., 0., 1., 0., 0.],\n",
              "        [0., 1., 0., 0., 0.],\n",
              "        [1., 0., 0., 0., 0.]])"
            ]
          },
          "metadata": {},
          "execution_count": 108
        }
      ]
    },
    {
      "cell_type": "code",
      "source": [
        "cost = (y_one_hot * -torch.log(hypothesis)).sum(dim = 1).mean()\n",
        "print(cost)"
      ],
      "metadata": {
        "colab": {
          "base_uri": "https://localhost:8080/"
        },
        "id": "zO7nrmGjWE_5",
        "outputId": "5ee50743-e866-4e68-a2fc-4f84ce80467b"
      },
      "execution_count": 109,
      "outputs": [
        {
          "output_type": "stream",
          "name": "stdout",
          "text": [
            "tensor(1.4368, grad_fn=<MeanBackward0>)\n"
          ]
        }
      ]
    },
    {
      "cell_type": "code",
      "source": [
        "F.log_softmax(z, dim = 1)"
      ],
      "metadata": {
        "colab": {
          "base_uri": "https://localhost:8080/"
        },
        "id": "ofpop90XWKaR",
        "outputId": "4aceb7c8-c60f-4b16-a301-12640eed1b77"
      },
      "execution_count": 110,
      "outputs": [
        {
          "output_type": "execute_result",
          "data": {
            "text/plain": [
              "tensor([[-1.7701, -1.5519, -1.6838, -1.6284, -1.4442],\n",
              "        [-1.4574, -1.4837, -2.2442, -1.4455, -1.6158],\n",
              "        [-1.1430, -1.2872, -2.0728, -2.0927, -1.8584]],\n",
              "       grad_fn=<LogSoftmaxBackward0>)"
            ]
          },
          "metadata": {},
          "execution_count": 110
        }
      ]
    },
    {
      "cell_type": "code",
      "source": [
        "#https://pytorch.org/docs/stable/generated/torch.nn.functional.nll_loss.html\n",
        "#https://velog.io/@skyhelper/CrossEntorpyLoss-NLLLoss-%EB%AC%B4%EC%97%87%EC%9D%B4-%EB%8B%A4%EB%A5%B8%EA%B0%80\n",
        "F.nll_loss(F.log_softmax(z, dim = 1),y)"
      ],
      "metadata": {
        "colab": {
          "base_uri": "https://localhost:8080/"
        },
        "id": "IoyHYG-YWNKp",
        "outputId": "d9c2b0aa-fec4-449b-a0b6-190d09cc6503"
      },
      "execution_count": 111,
      "outputs": [
        {
          "output_type": "execute_result",
          "data": {
            "text/plain": [
              "tensor(1.4368, grad_fn=<NllLossBackward0>)"
            ]
          },
          "metadata": {},
          "execution_count": 111
        }
      ]
    },
    {
      "cell_type": "code",
      "source": [
        "F.cross_entropy(z,y)"
      ],
      "metadata": {
        "colab": {
          "base_uri": "https://localhost:8080/"
        },
        "id": "fAcgFfgFWQiw",
        "outputId": "7dd0d35d-21c4-45f6-f94a-a7dac2e19b3b"
      },
      "execution_count": 112,
      "outputs": [
        {
          "output_type": "execute_result",
          "data": {
            "text/plain": [
              "tensor(1.4368, grad_fn=<NllLossBackward0>)"
            ]
          },
          "metadata": {},
          "execution_count": 112
        }
      ]
    },
    {
      "cell_type": "code",
      "source": [
        "x_train = [[1,2,1,1],\n",
        "           [2,1,3,2],\n",
        "           [3,1,3,4],\n",
        "           [4,1,5,5],\n",
        "           [1,7,5,5],\n",
        "           [1,2,5,6],\n",
        "           [1,6,6,6],\n",
        "           [1,7,7,7]]\n",
        "\n",
        "y_train = [2,2,2,1,1,1,0,0]\n",
        "\n",
        "x_train = torch.FloatTensor(x_train)\n",
        "y_train = torch.LongTensor(y_train)"
      ],
      "metadata": {
        "id": "wymmOC6rWoTu"
      },
      "execution_count": 113,
      "outputs": []
    },
    {
      "cell_type": "code",
      "source": [
        "W = torch.zeros([4,3], requires_grad = True)\n",
        "b = torch.zeros(1, requires_grad = True)"
      ],
      "metadata": {
        "id": "27Q2Vqn1W11d"
      },
      "execution_count": 114,
      "outputs": []
    },
    {
      "cell_type": "code",
      "source": [
        "optimizer = optim.SGD([W,b], lr = 0.1)"
      ],
      "metadata": {
        "id": "3-5dyB0-W7tp"
      },
      "execution_count": 115,
      "outputs": []
    },
    {
      "cell_type": "code",
      "source": [
        "#naive cross entropy\n",
        "\n",
        "epochs = 1000\n",
        "\n",
        "for epoch in range(epochs + 1):\n",
        "\n",
        "    hypothesis = F.softmax(x_train.matmul(W) + b, dim = 1)\n",
        "\n",
        "    y_one_hot = torch.zeros_like(hypothesis)\n",
        "    y_one_hot.scatter_(1, y_train.unsqueeze(1), 1)\n",
        "\n",
        "    cost = (y_one_hot* -torch.log(F.softmax(hypothesis, dim = 1))).sum(dim = 1).mean()\n",
        "\n",
        "    optimizer.zero_grad()\n",
        "    cost.backward()\n",
        "    optimizer.step()\n",
        "\n",
        "    if epoch % 100 == 0:\n",
        "\n",
        "        print('epoch {:4d}/{} cost: {:.6f}'.format(\n",
        "            epoch, epochs, cost.item()\n",
        "        ))"
      ],
      "metadata": {
        "colab": {
          "base_uri": "https://localhost:8080/"
        },
        "id": "oRsmjg8JW_vv",
        "outputId": "1baea085-843a-4d98-e914-f1ca31f4f748"
      },
      "execution_count": 116,
      "outputs": [
        {
          "output_type": "stream",
          "name": "stdout",
          "text": [
            "epoch    0/1000 cost: 1.098612\n",
            "epoch  100/1000 cost: 0.901535\n",
            "epoch  200/1000 cost: 0.839114\n",
            "epoch  300/1000 cost: 0.807826\n",
            "epoch  400/1000 cost: 0.788472\n",
            "epoch  500/1000 cost: 0.774822\n",
            "epoch  600/1000 cost: 0.764449\n",
            "epoch  700/1000 cost: 0.756191\n",
            "epoch  800/1000 cost: 0.749398\n",
            "epoch  900/1000 cost: 0.743671\n",
            "epoch 1000/1000 cost: 0.738749\n"
          ]
        }
      ]
    },
    {
      "cell_type": "code",
      "source": [
        "W = torch.zeros((4,3), requires_grad = True)\n",
        "b = torch.zeros(1, requires_grad = True)"
      ],
      "metadata": {
        "id": "OsEbAN7JXYPG"
      },
      "execution_count": 117,
      "outputs": []
    },
    {
      "cell_type": "code",
      "source": [
        "optimizer = optim.SGD([W,b], lr = 0.1)"
      ],
      "metadata": {
        "id": "IZxuKRZRXdcy"
      },
      "execution_count": 118,
      "outputs": []
    },
    {
      "cell_type": "code",
      "source": [
        "#torch cross entropy\n",
        "\n",
        "epochs = 1000\n",
        "for epoch in range(epochs + 1):\n",
        "\n",
        "    z = x_train.matmul(W) + b\n",
        "    cost = F.cross_entropy(z, y_train)\n",
        "\n",
        "    optimizer.zero_grad()\n",
        "    cost.backward()\n",
        "    optimizer.step()\n",
        "\n",
        "    if epoch % 100 == 0:\n",
        "\n",
        "        print('epoch {:4d}/{} cost:{:.6f}'.format(\n",
        "            epoch, epochs, cost.item()\n",
        "        ))"
      ],
      "metadata": {
        "colab": {
          "base_uri": "https://localhost:8080/"
        },
        "id": "fH_e_cWnXfdX",
        "outputId": "99d7a2fd-c76d-464c-80d9-5a620cc2984b"
      },
      "execution_count": 119,
      "outputs": [
        {
          "output_type": "stream",
          "name": "stdout",
          "text": [
            "epoch    0/1000 cost:1.098612\n",
            "epoch  100/1000 cost:0.761050\n",
            "epoch  200/1000 cost:0.689991\n",
            "epoch  300/1000 cost:0.643229\n",
            "epoch  400/1000 cost:0.604117\n",
            "epoch  500/1000 cost:0.568256\n",
            "epoch  600/1000 cost:0.533922\n",
            "epoch  700/1000 cost:0.500291\n",
            "epoch  800/1000 cost:0.466908\n",
            "epoch  900/1000 cost:0.433507\n",
            "epoch 1000/1000 cost:0.399962\n"
          ]
        }
      ]
    },
    {
      "cell_type": "code",
      "source": [
        "class SoftmaxClassifierModel(nn.Module):\n",
        "\n",
        "    def __init__(self):\n",
        "\n",
        "        super().__init__()\n",
        "        self.linear = nn.Linear(4,3)\n",
        "\n",
        "    def forward(self, x):\n",
        "\n",
        "        return self.linear(x)\n",
        "\n",
        "model = SoftmaxClassifierModel()"
      ],
      "metadata": {
        "id": "7uA9vrBPXzgg"
      },
      "execution_count": 120,
      "outputs": []
    },
    {
      "cell_type": "code",
      "source": [
        "optimizer = optim.SGD(model.parameters(), lr = 0.1)"
      ],
      "metadata": {
        "id": "KSyeH-kUYpaq"
      },
      "execution_count": 121,
      "outputs": []
    },
    {
      "cell_type": "code",
      "source": [
        "epochs = 1000\n",
        "for epoch in range(epochs + 1):\n",
        "\n",
        "    prediction = model(x_train)\n",
        "\n",
        "    cost = F.cross_entropy(prediction, y_train)\n",
        "\n",
        "    optimizer.zero_grad()\n",
        "    cost.backward()\n",
        "    optimizer.step()\n",
        "\n",
        "    if epoch % 100 == 0:\n",
        "\n",
        "        print('epoch {:4d}/{} cost:{:.6f}'.format(\n",
        "            epoch, epochs, cost.item()\n",
        "        ))"
      ],
      "metadata": {
        "colab": {
          "base_uri": "https://localhost:8080/"
        },
        "id": "dz-Y8E0wYuCw",
        "outputId": "2129e8ea-bb0f-43e6-8ec7-8cd2fbd93f0c"
      },
      "execution_count": 122,
      "outputs": [
        {
          "output_type": "stream",
          "name": "stdout",
          "text": [
            "epoch    0/1000 cost:1.777960\n",
            "epoch  100/1000 cost:0.654127\n",
            "epoch  200/1000 cost:0.561501\n",
            "epoch  300/1000 cost:0.505037\n",
            "epoch  400/1000 cost:0.460010\n",
            "epoch  500/1000 cost:0.420253\n",
            "epoch  600/1000 cost:0.383131\n",
            "epoch  700/1000 cost:0.347032\n",
            "epoch  800/1000 cost:0.310780\n",
            "epoch  900/1000 cost:0.274060\n",
            "epoch 1000/1000 cost:0.244281\n"
          ]
        }
      ]
    },
    {
      "cell_type": "markdown",
      "source": [
        "#train & test"
      ],
      "metadata": {
        "id": "rLdPX_ZNZpA5"
      }
    },
    {
      "cell_type": "code",
      "source": [
        "x_train = torch.FloatTensor([[1,2,1],\n",
        "                             [1,3,2],\n",
        "                             [1,3,4],\n",
        "                             [1,5,5],\n",
        "                             [1,7,5],\n",
        "                             [1,2,5],\n",
        "                             [1,6,6],\n",
        "                             [1,7,7]])\n",
        "\n",
        "#이게 long tensor여야 한다??\n",
        "y_train = torch.LongTensor([2,2,2,1,1,1,0,0])"
      ],
      "metadata": {
        "id": "3TYLh59wY8HM"
      },
      "execution_count": 123,
      "outputs": []
    },
    {
      "cell_type": "code",
      "source": [
        "x_test = torch.FloatTensor([[2,1,1],[3,1,2], [3,3,4]])\n",
        "y_test = torch.LongTensor([2,2,2])"
      ],
      "metadata": {
        "id": "d6-YaIKBZOPS"
      },
      "execution_count": 124,
      "outputs": []
    },
    {
      "cell_type": "code",
      "source": [
        "class SoftmaxClassifierModel(nn.Module):\n",
        "\n",
        "    def __init__(self):\n",
        "\n",
        "        super().__init__()\n",
        "        self.linear = nn.Linear(3,3)\n",
        "\n",
        "    def forward(self, x):\n",
        "\n",
        "        return self.linear(x)\n",
        "\n",
        "model = SoftmaxClassifierModel()"
      ],
      "metadata": {
        "id": "yzNHQu67ZWmm"
      },
      "execution_count": 125,
      "outputs": []
    },
    {
      "cell_type": "code",
      "source": [
        "optimizer = optim.SGD(model.parameters(), lr = 0.1)"
      ],
      "metadata": {
        "id": "s4FOXvRNZiNT"
      },
      "execution_count": 126,
      "outputs": []
    },
    {
      "cell_type": "code",
      "source": [
        "def train(model, optimizer, x_train, y_train):\n",
        "\n",
        "    epochs = 20\n",
        "\n",
        "    for epoch in range(epochs):\n",
        "\n",
        "        prediction = model(x_train)\n",
        "\n",
        "        cost = F.cross_entropy(prediction, y_train)\n",
        "\n",
        "        optimizer.zero_grad()\n",
        "        cost.backward()\n",
        "        optimizer.step()\n",
        "\n",
        "        print('epoch {:4d}/{} cost: {:.6f}'.format(\n",
        "            epoch, epochs, cost.item()\n",
        "        ))"
      ],
      "metadata": {
        "id": "VaL0obTsZkuO"
      },
      "execution_count": 127,
      "outputs": []
    },
    {
      "cell_type": "code",
      "source": [
        "def test(model, optimizer, x_test, y_test):\n",
        "\n",
        "    prediction = model(x_test)\n",
        "\n",
        "    predicted_classes = prediction.max(1)[1]\n",
        "\n",
        "    correct_count = (predicted_classes == y_test).sum().item()\n",
        "\n",
        "    cost = F.cross_entropy(prediction, y_test)\n",
        "\n",
        "    print('accuracy: {} % cost: {:.6f}'.format(\n",
        "        correct_count/len(y_test)*100, cost.item()\n",
        "    ))"
      ],
      "metadata": {
        "id": "bUDnFn7EZ41w"
      },
      "execution_count": 128,
      "outputs": []
    },
    {
      "cell_type": "code",
      "source": [
        "train(model, optimizer, x_train, y_train)"
      ],
      "metadata": {
        "colab": {
          "base_uri": "https://localhost:8080/"
        },
        "id": "fDIBenIHaMc6",
        "outputId": "da983a83-97cc-478c-cc37-b00af389ebb0"
      },
      "execution_count": 129,
      "outputs": [
        {
          "output_type": "stream",
          "name": "stdout",
          "text": [
            "epoch    0/20 cost: 1.628863\n",
            "epoch    1/20 cost: 1.113791\n",
            "epoch    2/20 cost: 1.077432\n",
            "epoch    3/20 cost: 1.065552\n",
            "epoch    4/20 cost: 1.055705\n",
            "epoch    5/20 cost: 1.046451\n",
            "epoch    6/20 cost: 1.037633\n",
            "epoch    7/20 cost: 1.029140\n",
            "epoch    8/20 cost: 1.020929\n",
            "epoch    9/20 cost: 1.012959\n",
            "epoch   10/20 cost: 1.005209\n",
            "epoch   11/20 cost: 0.997662\n",
            "epoch   12/20 cost: 0.990306\n",
            "epoch   13/20 cost: 0.983131\n",
            "epoch   14/20 cost: 0.976129\n",
            "epoch   15/20 cost: 0.969294\n",
            "epoch   16/20 cost: 0.962621\n",
            "epoch   17/20 cost: 0.956103\n",
            "epoch   18/20 cost: 0.949736\n",
            "epoch   19/20 cost: 0.943515\n"
          ]
        }
      ]
    },
    {
      "cell_type": "code",
      "source": [
        "test(model, optimizer, x_test, y_test)"
      ],
      "metadata": {
        "colab": {
          "base_uri": "https://localhost:8080/"
        },
        "id": "12Hb5bSlaOic",
        "outputId": "6f381443-ccb4-4d74-9007-e2f86b9fa19c"
      },
      "execution_count": 130,
      "outputs": [
        {
          "output_type": "stream",
          "name": "stdout",
          "text": [
            "accuracy: 0.0 % cost: 1.673393\n"
          ]
        }
      ]
    },
    {
      "cell_type": "code",
      "source": [
        "model = SoftmaxClassifierModel()\n",
        "optimizer = optim.SGD(model.parameters(), lr = 1e5)"
      ],
      "metadata": {
        "id": "Ve7LLgqTaQ__"
      },
      "execution_count": 131,
      "outputs": []
    },
    {
      "cell_type": "code",
      "source": [
        "train(model, optimizer, x_train, y_train)"
      ],
      "metadata": {
        "colab": {
          "base_uri": "https://localhost:8080/"
        },
        "id": "_bH1hMEyaqqU",
        "outputId": "897eb9dd-3439-4855-bb1f-8302e6c7fe14"
      },
      "execution_count": 132,
      "outputs": [
        {
          "output_type": "stream",
          "name": "stdout",
          "text": [
            "epoch    0/20 cost: 1.997079\n",
            "epoch    1/20 cost: 951884.000000\n",
            "epoch    2/20 cost: 2179194.750000\n",
            "epoch    3/20 cost: 515946.468750\n",
            "epoch    4/20 cost: 1365132.250000\n",
            "epoch    5/20 cost: 1513232.000000\n",
            "epoch    6/20 cost: 1205009.000000\n",
            "epoch    7/20 cost: 1487007.250000\n",
            "epoch    8/20 cost: 769071.437500\n",
            "epoch    9/20 cost: 1030419.562500\n",
            "epoch   10/20 cost: 1608882.250000\n",
            "epoch   11/20 cost: 1458134.000000\n",
            "epoch   12/20 cost: 794819.750000\n",
            "epoch   13/20 cost: 1053115.625000\n",
            "epoch   14/20 cost: 1263232.000000\n",
            "epoch   15/20 cost: 885444.812500\n",
            "epoch   16/20 cost: 1869071.500000\n",
            "epoch   17/20 cost: 181076.343750\n",
            "epoch   18/20 cost: 1018740.625000\n",
            "epoch   19/20 cost: 969481.937500\n"
          ]
        }
      ]
    },
    {
      "cell_type": "code",
      "source": [
        "model = SoftmaxClassifierModel()\n",
        "optimizer = optim.SGD(model.parameters(), lr = 1e-10)"
      ],
      "metadata": {
        "id": "BIkMQj6Baspu"
      },
      "execution_count": 133,
      "outputs": []
    },
    {
      "cell_type": "code",
      "source": [
        "train(model, optimizer, x_train,y_train)"
      ],
      "metadata": {
        "colab": {
          "base_uri": "https://localhost:8080/"
        },
        "id": "eskIVbYSax0B",
        "outputId": "1e3edb26-4197-4001-954b-addf02938662"
      },
      "execution_count": 134,
      "outputs": [
        {
          "output_type": "stream",
          "name": "stdout",
          "text": [
            "epoch    0/20 cost: 2.766672\n",
            "epoch    1/20 cost: 2.766672\n",
            "epoch    2/20 cost: 2.766672\n",
            "epoch    3/20 cost: 2.766672\n",
            "epoch    4/20 cost: 2.766672\n",
            "epoch    5/20 cost: 2.766672\n",
            "epoch    6/20 cost: 2.766672\n",
            "epoch    7/20 cost: 2.766672\n",
            "epoch    8/20 cost: 2.766672\n",
            "epoch    9/20 cost: 2.766672\n",
            "epoch   10/20 cost: 2.766672\n",
            "epoch   11/20 cost: 2.766672\n",
            "epoch   12/20 cost: 2.766672\n",
            "epoch   13/20 cost: 2.766672\n",
            "epoch   14/20 cost: 2.766672\n",
            "epoch   15/20 cost: 2.766672\n",
            "epoch   16/20 cost: 2.766672\n",
            "epoch   17/20 cost: 2.766672\n",
            "epoch   18/20 cost: 2.766672\n",
            "epoch   19/20 cost: 2.766672\n"
          ]
        }
      ]
    },
    {
      "cell_type": "code",
      "source": [],
      "metadata": {
        "id": "pQZXWV62a0Fy"
      },
      "execution_count": null,
      "outputs": []
    },
    {
      "cell_type": "markdown",
      "source": [
        "# normalization"
      ],
      "metadata": {
        "id": "FzirE_oVbE5t"
      }
    },
    {
      "cell_type": "code",
      "source": [
        "x_train = torch.FloatTensor([[73,80,75],\n",
        "                             [93,88,93],\n",
        "                             [89,91,90],\n",
        "                             [96,98,100],\n",
        "                             [73,66,70]])\n",
        "\n",
        "y_train = torch.FloatTensor([[152],[185],[180],[196],[142]])"
      ],
      "metadata": {
        "id": "do-L7zNqbF3x"
      },
      "execution_count": 135,
      "outputs": []
    },
    {
      "cell_type": "code",
      "source": [
        "mu = x_train.mean(dim = 0)\n",
        "\n",
        "print(mu)"
      ],
      "metadata": {
        "colab": {
          "base_uri": "https://localhost:8080/"
        },
        "id": "JfU0Q-BFbSPu",
        "outputId": "6afae9db-ba59-4838-e3d8-e4b052ddddc1"
      },
      "execution_count": 136,
      "outputs": [
        {
          "output_type": "stream",
          "name": "stdout",
          "text": [
            "tensor([84.8000, 84.6000, 85.6000])\n"
          ]
        }
      ]
    },
    {
      "cell_type": "code",
      "source": [
        "sigma = x_train.std(dim = 0)\n",
        "print(sigma)"
      ],
      "metadata": {
        "colab": {
          "base_uri": "https://localhost:8080/"
        },
        "id": "anucJ60CbUzj",
        "outputId": "6cde8328-d144-4ad9-dae3-74316ff6bb6a"
      },
      "execution_count": 138,
      "outputs": [
        {
          "output_type": "stream",
          "name": "stdout",
          "text": [
            "tensor([11.0544, 12.2393, 12.6214])\n"
          ]
        }
      ]
    },
    {
      "cell_type": "code",
      "source": [
        "norm_x_train = (x_train - mu)/sigma"
      ],
      "metadata": {
        "id": "eH0KM7S8bWMl"
      },
      "execution_count": 139,
      "outputs": []
    },
    {
      "cell_type": "code",
      "source": [
        "print(norm_x_train)"
      ],
      "metadata": {
        "colab": {
          "base_uri": "https://localhost:8080/"
        },
        "id": "3L5zMjvqbaCy",
        "outputId": "fadc529e-f0ac-4809-c863-d82ef9c6d38a"
      },
      "execution_count": 140,
      "outputs": [
        {
          "output_type": "stream",
          "name": "stdout",
          "text": [
            "tensor([[-1.0674, -0.3758, -0.8398],\n",
            "        [ 0.7418,  0.2778,  0.5863],\n",
            "        [ 0.3799,  0.5229,  0.3486],\n",
            "        [ 1.0132,  1.0948,  1.1409],\n",
            "        [-1.0674, -1.5197, -1.2360]])\n"
          ]
        }
      ]
    },
    {
      "cell_type": "code",
      "source": [
        "class MultivariateLinearRegressionModel(nn.Module):\n",
        "\n",
        "    def __init__(self):\n",
        "\n",
        "        super().__init__()\n",
        "        self.linear = nn.Linear(3,1)\n",
        "\n",
        "    def forward(self,x):\n",
        "\n",
        "        return self.linear(x)"
      ],
      "metadata": {
        "id": "k6mfYeSObb2Q"
      },
      "execution_count": 142,
      "outputs": []
    },
    {
      "cell_type": "code",
      "source": [
        "model = MultivariateLinearRegressionModel()\n",
        "\n",
        "optimizer = optim.SGD(model.parameters(), lr = 1e-1)"
      ],
      "metadata": {
        "id": "GfFLBfoRbgVb"
      },
      "execution_count": 143,
      "outputs": []
    },
    {
      "cell_type": "code",
      "source": [
        "def train(model, optimizer, x_train, y_train):\n",
        "\n",
        "    epochs = 20\n",
        "\n",
        "    for epoch in range(epochs):\n",
        "\n",
        "        prediction = model(x_train)\n",
        "\n",
        "        cost = F.mse_loss(prediction, y_train)\n",
        "\n",
        "        optimizer.zero_grad()\n",
        "        cost.backward()\n",
        "        optimizer.step()\n",
        "\n",
        "        print('epoch {:4d}/{} cost: {:.6f}'.format(\n",
        "            epoch, epochs, cost.item()\n",
        "        ))"
      ],
      "metadata": {
        "id": "pMuRWbInbq8Z"
      },
      "execution_count": 144,
      "outputs": []
    },
    {
      "cell_type": "code",
      "source": [
        "train(model, optimizer, norm_x_train, y_train)"
      ],
      "metadata": {
        "colab": {
          "base_uri": "https://localhost:8080/"
        },
        "id": "y8tXWvL9b5xC",
        "outputId": "98a16a26-fddb-496e-918e-c5b8c10456b7"
      },
      "execution_count": 145,
      "outputs": [
        {
          "output_type": "stream",
          "name": "stdout",
          "text": [
            "epoch    0/20 cost: 29574.599609\n",
            "epoch    1/20 cost: 18789.699219\n",
            "epoch    2/20 cost: 11985.388672\n",
            "epoch    3/20 cost: 7659.157715\n",
            "epoch    4/20 cost: 4898.668945\n",
            "epoch    5/20 cost: 3134.367676\n",
            "epoch    6/20 cost: 2005.911133\n",
            "epoch    7/20 cost: 1283.897583\n",
            "epoch    8/20 cost: 821.862427\n",
            "epoch    9/20 cost: 526.171387\n",
            "epoch   10/20 cost: 336.928650\n",
            "epoch   11/20 cost: 215.809128\n",
            "epoch   12/20 cost: 138.288208\n",
            "epoch   13/20 cost: 88.669762\n",
            "epoch   14/20 cost: 56.909168\n",
            "epoch   15/20 cost: 36.577866\n",
            "epoch   16/20 cost: 23.561457\n",
            "epoch   17/20 cost: 15.226631\n",
            "epoch   18/20 cost: 9.888277\n",
            "epoch   19/20 cost: 6.467782\n"
          ]
        }
      ]
    },
    {
      "cell_type": "code",
      "source": [
        "train(model, optimizer, x_train, y_train)"
      ],
      "metadata": {
        "colab": {
          "base_uri": "https://localhost:8080/"
        },
        "id": "b0o0CTEUb8Gk",
        "outputId": "bc2863f4-eeb7-4647-8fa5-a5bba894100f"
      },
      "execution_count": 146,
      "outputs": [
        {
          "output_type": "stream",
          "name": "stdout",
          "text": [
            "epoch    0/20 cost: 3990187.250000\n",
            "epoch    1/20 cost: 77254491111424.000000\n",
            "epoch    2/20 cost: 1495896652666455982080.000000\n",
            "epoch    3/20 cost: 28965388040134986626616000512.000000\n",
            "epoch    4/20 cost: 560863570271672329540262620787900416.000000\n",
            "epoch    5/20 cost: inf\n",
            "epoch    6/20 cost: inf\n",
            "epoch    7/20 cost: inf\n",
            "epoch    8/20 cost: inf\n",
            "epoch    9/20 cost: inf\n",
            "epoch   10/20 cost: inf\n",
            "epoch   11/20 cost: inf\n",
            "epoch   12/20 cost: nan\n",
            "epoch   13/20 cost: nan\n",
            "epoch   14/20 cost: nan\n",
            "epoch   15/20 cost: nan\n",
            "epoch   16/20 cost: nan\n",
            "epoch   17/20 cost: nan\n",
            "epoch   18/20 cost: nan\n",
            "epoch   19/20 cost: nan\n"
          ]
        }
      ]
    },
    {
      "cell_type": "code",
      "source": [],
      "metadata": {
        "id": "vDtGJTcjb-ua"
      },
      "execution_count": null,
      "outputs": []
    }
  ]
}
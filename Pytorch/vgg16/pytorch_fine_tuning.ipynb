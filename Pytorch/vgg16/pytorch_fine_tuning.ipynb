{
  "nbformat": 4,
  "nbformat_minor": 0,
  "metadata": {
    "colab": {
      "provenance": []
    },
    "kernelspec": {
      "name": "python3",
      "display_name": "Python 3"
    },
    "language_info": {
      "name": "python"
    },
    "accelerator": "GPU",
    "gpuClass": "standard",
    "widgets": {
      "application/vnd.jupyter.widget-state+json": {
        "cc53c3ff49964f388935fb3b655d2fd3": {
          "model_module": "@jupyter-widgets/controls",
          "model_name": "HBoxModel",
          "model_module_version": "1.5.0",
          "state": {
            "_dom_classes": [],
            "_model_module": "@jupyter-widgets/controls",
            "_model_module_version": "1.5.0",
            "_model_name": "HBoxModel",
            "_view_count": null,
            "_view_module": "@jupyter-widgets/controls",
            "_view_module_version": "1.5.0",
            "_view_name": "HBoxView",
            "box_style": "",
            "children": [
              "IPY_MODEL_9ef9333738584e209fa53bcc85214edf",
              "IPY_MODEL_1b81fc58132549d994213b19b3ca8cb5",
              "IPY_MODEL_47f2316bc568442080548d8340e44d30"
            ],
            "layout": "IPY_MODEL_8f83eb8d334749e1bff9ab5f3c108456"
          }
        },
        "9ef9333738584e209fa53bcc85214edf": {
          "model_module": "@jupyter-widgets/controls",
          "model_name": "HTMLModel",
          "model_module_version": "1.5.0",
          "state": {
            "_dom_classes": [],
            "_model_module": "@jupyter-widgets/controls",
            "_model_module_version": "1.5.0",
            "_model_name": "HTMLModel",
            "_view_count": null,
            "_view_module": "@jupyter-widgets/controls",
            "_view_module_version": "1.5.0",
            "_view_name": "HTMLView",
            "description": "",
            "description_tooltip": null,
            "layout": "IPY_MODEL_b695c40e76824b158fdcedb6e7a8d5ac",
            "placeholder": "​",
            "style": "IPY_MODEL_4f98446680c24a8d85d5b1ed6ac8240a",
            "value": "100%"
          }
        },
        "1b81fc58132549d994213b19b3ca8cb5": {
          "model_module": "@jupyter-widgets/controls",
          "model_name": "FloatProgressModel",
          "model_module_version": "1.5.0",
          "state": {
            "_dom_classes": [],
            "_model_module": "@jupyter-widgets/controls",
            "_model_module_version": "1.5.0",
            "_model_name": "FloatProgressModel",
            "_view_count": null,
            "_view_module": "@jupyter-widgets/controls",
            "_view_module_version": "1.5.0",
            "_view_name": "ProgressView",
            "bar_style": "success",
            "description": "",
            "description_tooltip": null,
            "layout": "IPY_MODEL_3970e1e39bbb4e7d9321e7f8355fec34",
            "max": 553433881,
            "min": 0,
            "orientation": "horizontal",
            "style": "IPY_MODEL_b898bc8376b04f16a2eddcdd81e8c8c8",
            "value": 553433881
          }
        },
        "47f2316bc568442080548d8340e44d30": {
          "model_module": "@jupyter-widgets/controls",
          "model_name": "HTMLModel",
          "model_module_version": "1.5.0",
          "state": {
            "_dom_classes": [],
            "_model_module": "@jupyter-widgets/controls",
            "_model_module_version": "1.5.0",
            "_model_name": "HTMLModel",
            "_view_count": null,
            "_view_module": "@jupyter-widgets/controls",
            "_view_module_version": "1.5.0",
            "_view_name": "HTMLView",
            "description": "",
            "description_tooltip": null,
            "layout": "IPY_MODEL_fcf3cded57db4c218a84c4ec4e593915",
            "placeholder": "​",
            "style": "IPY_MODEL_020cf865f8784a9384100424c82c5f0b",
            "value": " 528M/528M [00:02&lt;00:00, 249MB/s]"
          }
        },
        "8f83eb8d334749e1bff9ab5f3c108456": {
          "model_module": "@jupyter-widgets/base",
          "model_name": "LayoutModel",
          "model_module_version": "1.2.0",
          "state": {
            "_model_module": "@jupyter-widgets/base",
            "_model_module_version": "1.2.0",
            "_model_name": "LayoutModel",
            "_view_count": null,
            "_view_module": "@jupyter-widgets/base",
            "_view_module_version": "1.2.0",
            "_view_name": "LayoutView",
            "align_content": null,
            "align_items": null,
            "align_self": null,
            "border": null,
            "bottom": null,
            "display": null,
            "flex": null,
            "flex_flow": null,
            "grid_area": null,
            "grid_auto_columns": null,
            "grid_auto_flow": null,
            "grid_auto_rows": null,
            "grid_column": null,
            "grid_gap": null,
            "grid_row": null,
            "grid_template_areas": null,
            "grid_template_columns": null,
            "grid_template_rows": null,
            "height": null,
            "justify_content": null,
            "justify_items": null,
            "left": null,
            "margin": null,
            "max_height": null,
            "max_width": null,
            "min_height": null,
            "min_width": null,
            "object_fit": null,
            "object_position": null,
            "order": null,
            "overflow": null,
            "overflow_x": null,
            "overflow_y": null,
            "padding": null,
            "right": null,
            "top": null,
            "visibility": null,
            "width": null
          }
        },
        "b695c40e76824b158fdcedb6e7a8d5ac": {
          "model_module": "@jupyter-widgets/base",
          "model_name": "LayoutModel",
          "model_module_version": "1.2.0",
          "state": {
            "_model_module": "@jupyter-widgets/base",
            "_model_module_version": "1.2.0",
            "_model_name": "LayoutModel",
            "_view_count": null,
            "_view_module": "@jupyter-widgets/base",
            "_view_module_version": "1.2.0",
            "_view_name": "LayoutView",
            "align_content": null,
            "align_items": null,
            "align_self": null,
            "border": null,
            "bottom": null,
            "display": null,
            "flex": null,
            "flex_flow": null,
            "grid_area": null,
            "grid_auto_columns": null,
            "grid_auto_flow": null,
            "grid_auto_rows": null,
            "grid_column": null,
            "grid_gap": null,
            "grid_row": null,
            "grid_template_areas": null,
            "grid_template_columns": null,
            "grid_template_rows": null,
            "height": null,
            "justify_content": null,
            "justify_items": null,
            "left": null,
            "margin": null,
            "max_height": null,
            "max_width": null,
            "min_height": null,
            "min_width": null,
            "object_fit": null,
            "object_position": null,
            "order": null,
            "overflow": null,
            "overflow_x": null,
            "overflow_y": null,
            "padding": null,
            "right": null,
            "top": null,
            "visibility": null,
            "width": null
          }
        },
        "4f98446680c24a8d85d5b1ed6ac8240a": {
          "model_module": "@jupyter-widgets/controls",
          "model_name": "DescriptionStyleModel",
          "model_module_version": "1.5.0",
          "state": {
            "_model_module": "@jupyter-widgets/controls",
            "_model_module_version": "1.5.0",
            "_model_name": "DescriptionStyleModel",
            "_view_count": null,
            "_view_module": "@jupyter-widgets/base",
            "_view_module_version": "1.2.0",
            "_view_name": "StyleView",
            "description_width": ""
          }
        },
        "3970e1e39bbb4e7d9321e7f8355fec34": {
          "model_module": "@jupyter-widgets/base",
          "model_name": "LayoutModel",
          "model_module_version": "1.2.0",
          "state": {
            "_model_module": "@jupyter-widgets/base",
            "_model_module_version": "1.2.0",
            "_model_name": "LayoutModel",
            "_view_count": null,
            "_view_module": "@jupyter-widgets/base",
            "_view_module_version": "1.2.0",
            "_view_name": "LayoutView",
            "align_content": null,
            "align_items": null,
            "align_self": null,
            "border": null,
            "bottom": null,
            "display": null,
            "flex": null,
            "flex_flow": null,
            "grid_area": null,
            "grid_auto_columns": null,
            "grid_auto_flow": null,
            "grid_auto_rows": null,
            "grid_column": null,
            "grid_gap": null,
            "grid_row": null,
            "grid_template_areas": null,
            "grid_template_columns": null,
            "grid_template_rows": null,
            "height": null,
            "justify_content": null,
            "justify_items": null,
            "left": null,
            "margin": null,
            "max_height": null,
            "max_width": null,
            "min_height": null,
            "min_width": null,
            "object_fit": null,
            "object_position": null,
            "order": null,
            "overflow": null,
            "overflow_x": null,
            "overflow_y": null,
            "padding": null,
            "right": null,
            "top": null,
            "visibility": null,
            "width": null
          }
        },
        "b898bc8376b04f16a2eddcdd81e8c8c8": {
          "model_module": "@jupyter-widgets/controls",
          "model_name": "ProgressStyleModel",
          "model_module_version": "1.5.0",
          "state": {
            "_model_module": "@jupyter-widgets/controls",
            "_model_module_version": "1.5.0",
            "_model_name": "ProgressStyleModel",
            "_view_count": null,
            "_view_module": "@jupyter-widgets/base",
            "_view_module_version": "1.2.0",
            "_view_name": "StyleView",
            "bar_color": null,
            "description_width": ""
          }
        },
        "fcf3cded57db4c218a84c4ec4e593915": {
          "model_module": "@jupyter-widgets/base",
          "model_name": "LayoutModel",
          "model_module_version": "1.2.0",
          "state": {
            "_model_module": "@jupyter-widgets/base",
            "_model_module_version": "1.2.0",
            "_model_name": "LayoutModel",
            "_view_count": null,
            "_view_module": "@jupyter-widgets/base",
            "_view_module_version": "1.2.0",
            "_view_name": "LayoutView",
            "align_content": null,
            "align_items": null,
            "align_self": null,
            "border": null,
            "bottom": null,
            "display": null,
            "flex": null,
            "flex_flow": null,
            "grid_area": null,
            "grid_auto_columns": null,
            "grid_auto_flow": null,
            "grid_auto_rows": null,
            "grid_column": null,
            "grid_gap": null,
            "grid_row": null,
            "grid_template_areas": null,
            "grid_template_columns": null,
            "grid_template_rows": null,
            "height": null,
            "justify_content": null,
            "justify_items": null,
            "left": null,
            "margin": null,
            "max_height": null,
            "max_width": null,
            "min_height": null,
            "min_width": null,
            "object_fit": null,
            "object_position": null,
            "order": null,
            "overflow": null,
            "overflow_x": null,
            "overflow_y": null,
            "padding": null,
            "right": null,
            "top": null,
            "visibility": null,
            "width": null
          }
        },
        "020cf865f8784a9384100424c82c5f0b": {
          "model_module": "@jupyter-widgets/controls",
          "model_name": "DescriptionStyleModel",
          "model_module_version": "1.5.0",
          "state": {
            "_model_module": "@jupyter-widgets/controls",
            "_model_module_version": "1.5.0",
            "_model_name": "DescriptionStyleModel",
            "_view_count": null,
            "_view_module": "@jupyter-widgets/base",
            "_view_module_version": "1.2.0",
            "_view_name": "StyleView",
            "description_width": ""
          }
        }
      }
    }
  },
  "cells": [
    {
      "cell_type": "markdown",
      "source": [
        "# 데이터 준비"
      ],
      "metadata": {
        "id": "JApQZ44_BaNC"
      }
    },
    {
      "cell_type": "code",
      "execution_count": 1,
      "metadata": {
        "id": "H1StUSi_5Koq"
      },
      "outputs": [],
      "source": [
        "import os\n",
        "import urllib.request\n",
        "import zipfile\n",
        "\n",
        "#data 폴더가 존재하지 않는 경우.. 만든다\n",
        "\n",
        "data_dir = './data/'\n",
        "\n",
        "if not os.path.exists(data_dir):\n",
        "    \n",
        "    os.mkdir(data_dir)"
      ]
    },
    {
      "cell_type": "code",
      "source": [
        "#imageNet의 class index 다운\n",
        "#keras 제공\n",
        "\n",
        "url = 'https://s3.amazonaws.com/deep-learning-models/image-models/imagenet_class_index.json'\n",
        "\n",
        "save_path = os.path.join(data_dir,'imagenet_class_index.json')\n",
        "\n",
        "if not os.path.exists(save_path):\n",
        "    \n",
        "    urllib.request.urlretrieve(url,save_path)"
      ],
      "metadata": {
        "id": "0ME9C64xBEAF"
      },
      "execution_count": 2,
      "outputs": []
    },
    {
      "cell_type": "code",
      "source": [
        "#pytorch 튜토리얼 제공\n",
        "#개미와 벌의 이미지 데이터\n",
        "\n",
        "url = \"https://download.pytorch.org/tutorial/hymenoptera_data.zip\"\n",
        "save_path = os.path.join(data_dir, \"hymenoptera_data.zip\")\n",
        "\n",
        "if not os.path.exists(save_path):\n",
        "    \n",
        "    urllib.request.urlretrieve(url,save_path)\n",
        "\n",
        "    #zip파일 읽기\n",
        "    zip = zipfile.ZipFile(save_path)\n",
        "    zip.extractall(data_dir) #zip을 압축해제\n",
        "    zip.close() #zip파일을 닫느다.\n",
        "\n",
        "    #zip파일 삭제\n",
        "    os.remove(save_path)"
      ],
      "metadata": {
        "id": "BYkk4XUaBFfL"
      },
      "execution_count": 3,
      "outputs": []
    },
    {
      "cell_type": "code",
      "source": [],
      "metadata": {
        "id": "y2DpLf2YBbxi"
      },
      "execution_count": null,
      "outputs": []
    },
    {
      "cell_type": "markdown",
      "source": [
        "# 1. import package"
      ],
      "metadata": {
        "id": "fr_Ds7qkBb-X"
      }
    },
    {
      "cell_type": "code",
      "source": [
        "#패키지 import\n",
        "import glob\n",
        "\n",
        "import os.path as osp\n",
        "\n",
        "import numpy as np\n",
        "import random\n",
        "from PIL import Image\n",
        "\n",
        "import torch\n",
        "import torch.nn as nn\n",
        "import torch.optim as optim\n",
        "import torch.utils.data as data\n",
        "\n",
        "from torchvision import models,transforms\n",
        "\n",
        "from tqdm import tqdm"
      ],
      "metadata": {
        "id": "8hI_m-xvBdT3"
      },
      "execution_count": 9,
      "outputs": []
    },
    {
      "cell_type": "code",
      "source": [
        "#난수 설정\n",
        "torch.manual_seed(1234)\n",
        "np.random.seed(1234)\n",
        "random.seed(1234)"
      ],
      "metadata": {
        "id": "WK1bZ7ZkBqbl"
      },
      "execution_count": 5,
      "outputs": []
    },
    {
      "cell_type": "code",
      "source": [],
      "metadata": {
        "id": "GVnW2s4NCBsD"
      },
      "execution_count": null,
      "outputs": []
    },
    {
      "cell_type": "markdown",
      "source": [
        "#2. dataset, dataloader"
      ],
      "metadata": {
        "id": "kWFrC4FTCB3R"
      }
    },
    {
      "cell_type": "markdown",
      "source": [
        "이전에 작성했던, 필요한 클래스 작성"
      ],
      "metadata": {
        "id": "lVKuG72JEBZj"
      }
    },
    {
      "cell_type": "code",
      "source": [
        "#입력이미지의 전처리 클래스\n",
        "#훈련시와 추론시 처리가 다르다\n",
        "\n",
        "class ImageTransform():\n",
        "    \n",
        "    \"\"\"\n",
        "    이미지 전처리 클래스, 훈련시, 검증시 동작이 다르다\n",
        "    이미지 크기를 리사이즈하고, 색상을 표준화\n",
        "\n",
        "    훈련시에는 RandomResizedCrop과 RandomHorizontalFlip으로 데이터 확장\n",
        "\n",
        "    attributes\n",
        "    ----------------\n",
        "    resize: int\n",
        "        리사이즈 대상 이미지의 크기\n",
        "    \n",
        "    mean: (R,G,B)\n",
        "        각 색상 채널의 평균값\n",
        "    \n",
        "    std: (R,G,B)\n",
        "        각 색상 채널의 표준편차\n",
        "    \n",
        "    \"\"\"\n",
        "\n",
        "    def __init__(self, resize, mean, std):\n",
        "        \n",
        "        self.data_transform = {\n",
        "            'train': transforms.Compose([\n",
        "                transforms.RandomResizedCrop(\n",
        "                    resize,scale = (0.5,1.0) #데이터 확장\n",
        "                ),\n",
        "                transforms.RandomHorizontalFlip(), #데이터 확장\n",
        "                transforms.ToTensor(), #텐서 변환\n",
        "                transforms.Normalize(mean,std) #표준화\n",
        "            ]),\n",
        "            'val': transforms.Compose([\n",
        "                transforms.Resize(resize), #리사이즈\n",
        "                transforms.CenterCrop(resize), #이미지 중앙을 resize\n",
        "                transforms.ToTensor(), #텐서로 변환\n",
        "                transforms.Normalize(mean,std) #표준화\n",
        "            ])\n",
        "        }\n",
        "    \n",
        "    def __call__(self, img, phase='train'):\n",
        "        \n",
        "        \"\"\"\n",
        "        Parameters\n",
        "        ------------\n",
        "        phase: 'train' or 'val'\n",
        "            전처리 모드를 지정\n",
        "        \"\"\"\n",
        "\n",
        "        return self.data_transform[phase](img)"
      ],
      "metadata": {
        "id": "kjcO_rfkCMq9"
      },
      "execution_count": 10,
      "outputs": []
    },
    {
      "cell_type": "code",
      "source": [
        "#개미와 벌이 담긴 이미지 파일 경로 리스트 작성하기\n",
        "def make_datapath_list(phase='train'):\n",
        "    \n",
        "    \"\"\"\n",
        "    데이터의 경로를 저장한 리스트를 작성한다.\n",
        "\n",
        "    parameters\n",
        "    ----------------\n",
        "    phase: 'train' or 'val'\n",
        "        훈련 데이터 또는 검증 데이터를 지정\n",
        "    \n",
        "    Returns\n",
        "    ---------------\n",
        "    path_list: list\n",
        "        데이터 경로를 저장한 리스트\n",
        "    \n",
        "    \"\"\"\n",
        "\n",
        "    rootpath = './data/hymenoptera_data/'\n",
        "    target_path = osp.join(rootpath+phase+'/**/*.jpg')\n",
        "    print(target_path)\n",
        "\n",
        "    path_list = []#여기에 저장\n",
        "\n",
        "    #glob을 이용하여 하위 디렉토리의 파일 경로 가져오기\n",
        "\n",
        "    for path in glob.glob(target_path):\n",
        "        \n",
        "        path_list.append(path)\n",
        "    \n",
        "    return path_list"
      ],
      "metadata": {
        "id": "hF4pVFW-D_Ko"
      },
      "execution_count": 11,
      "outputs": []
    },
    {
      "cell_type": "code",
      "source": [
        "#개미와 벌 이미지에 대한 dataset\n",
        "\n",
        "class HymenopteraDataset(data.Dataset):\n",
        "    \n",
        "    \"\"\"\n",
        "    개미와 벌 이미지의 dataset class\n",
        "    Pytorch의 dataset 클래스를 상속\n",
        "\n",
        "    attributes\n",
        "    -------------\n",
        "    file_list: 리스트\n",
        "        이미지 경로를 저장한 리스트\n",
        "    \n",
        "    transform: object\n",
        "        전처리 클래스의 인스턴스\n",
        "    \n",
        "    phase: 'train' or 'test'\n",
        "        학습인지 훈련인지를 결정\n",
        "    \n",
        "    \"\"\"\n",
        "\n",
        "    def __init__(self, file_list, transform=None, phase='train'):\n",
        "        \n",
        "        self.file_list = file_list #파일 경로 리스트\n",
        "        self.transform = transform #전처리 클래스의 인스턴스\n",
        "        self.phase = phase #train or val 지정\n",
        "    \n",
        "    def __len__(self):\n",
        "        \n",
        "        \"\"\"이미지 개수를 반환\"\"\"\n",
        "        return len(self.file_list)\n",
        "    \n",
        "    def __getitem__(self,index):\n",
        "        \n",
        "        \"\"\"\n",
        "        전처리한 이미지의 tensor 형식 데이터, 라벨 취득\n",
        "        \"\"\"\n",
        "\n",
        "        #index번째 이미지 가져오기\n",
        "        img_path = self.file_list[index]\n",
        "        img = Image.open(img_path) #[높이][너비][색]\n",
        "\n",
        "        #이미지 전처리\n",
        "        img_transformed = self.transform(\n",
        "            img, self.phase) #torch.Size([3,244,244])\n",
        "        \n",
        "        #이미지 라벨을 파일 이름에서 추출\n",
        "        if self.phase == 'train':\n",
        "            \n",
        "            label = img_path[30:34]\n",
        "        \n",
        "        elif self.phase == 'val':\n",
        "            \n",
        "            label = img_path[28:32]\n",
        "        \n",
        "        #라벨을 숫자로\n",
        "        if label == 'ants':\n",
        "            \n",
        "            label = 0\n",
        "        \n",
        "        elif label == 'bees':\n",
        "            \n",
        "            label = 1\n",
        "        \n",
        "        return img_transformed, label"
      ],
      "metadata": {
        "id": "Ju0gpt0hE306"
      },
      "execution_count": 13,
      "outputs": []
    },
    {
      "cell_type": "code",
      "source": [
        "#개미와 벌 이미지 파일 경로 리스트\n",
        "train_list = make_datapath_list(phase='train')\n",
        "val_list = make_datapath_list(phase='val')\n",
        "\n",
        "#dataset\n",
        "size = 224\n",
        "mean = (0.485,0.456,0.406)\n",
        "std = (0.229,0.224,0.225)\n",
        "\n",
        "train_dataset = HymenopteraDataset(\n",
        "    file_list = train_list, transform = ImageTransform(size,mean,std), phase='train'\n",
        ")\n",
        "val_dataset = HymenopteraDataset(\n",
        "    file_list = val_list, transform = ImageTransform(size,mean,std), phase='val'\n",
        ")\n",
        "\n",
        "#dataloader\n",
        "\n",
        "batch_size = 32\n",
        "\n",
        "train_dataloader = data.DataLoader(\n",
        "    train_dataset,batch_size=batch_size, shuffle = True\n",
        ")\n",
        "val_dataloader = data.DataLoader(\n",
        "    val_dataset, batch_size = batch_size, shuffle = False\n",
        ")\n",
        "\n",
        "#사전 객체에 정리\n",
        "dataloaders_dict = {'train':train_dataloader, 'val':val_dataloader}"
      ],
      "metadata": {
        "colab": {
          "base_uri": "https://localhost:8080/"
        },
        "id": "6O0HENACGpoY",
        "outputId": "61224b9c-cf65-4d42-f796-866cbf8a3ed6"
      },
      "execution_count": 14,
      "outputs": [
        {
          "output_type": "stream",
          "name": "stdout",
          "text": [
            "./data/hymenoptera_data/train/**/*.jpg\n",
            "./data/hymenoptera_data/val/**/*.jpg\n"
          ]
        }
      ]
    },
    {
      "cell_type": "code",
      "source": [],
      "metadata": {
        "id": "fRC9iVmUIbfQ"
      },
      "execution_count": null,
      "outputs": []
    },
    {
      "cell_type": "markdown",
      "source": [
        "# 3. 모델 작성"
      ],
      "metadata": {
        "id": "wwbxGWD7Ia48"
      }
    },
    {
      "cell_type": "code",
      "source": [
        "#학습된 vgg-16 모델 로드\n",
        "\n",
        "#vgg-16모델 인스턴스 생성\n",
        "use_pretrained=True #사전학습된 모델 사용\n",
        "net = models.vgg16(pretrained=use_pretrained)\n",
        "\n",
        "#vgg16 마지막 출력층의 출력 유닛을 개미,벌 2개로\n",
        "net.classifier[6] = nn.Linear(in_features=4096, out_features=2)\n",
        "\n",
        "#훈련 모드로 설정하기\n",
        "net.train()\n",
        "\n",
        "print('네트워크 설정 완료: 학습된 가중치를 로드하고 훈련 모드로 설정했다')"
      ],
      "metadata": {
        "colab": {
          "base_uri": "https://localhost:8080/",
          "height": 177,
          "referenced_widgets": [
            "cc53c3ff49964f388935fb3b655d2fd3",
            "9ef9333738584e209fa53bcc85214edf",
            "1b81fc58132549d994213b19b3ca8cb5",
            "47f2316bc568442080548d8340e44d30",
            "8f83eb8d334749e1bff9ab5f3c108456",
            "b695c40e76824b158fdcedb6e7a8d5ac",
            "4f98446680c24a8d85d5b1ed6ac8240a",
            "3970e1e39bbb4e7d9321e7f8355fec34",
            "b898bc8376b04f16a2eddcdd81e8c8c8",
            "fcf3cded57db4c218a84c4ec4e593915",
            "020cf865f8784a9384100424c82c5f0b"
          ]
        },
        "id": "AsZlhC2eIdRQ",
        "outputId": "02e76e1d-6341-42ae-c87d-3d118d496ae4"
      },
      "execution_count": 15,
      "outputs": [
        {
          "output_type": "stream",
          "name": "stderr",
          "text": [
            "/usr/local/lib/python3.8/dist-packages/torchvision/models/_utils.py:208: UserWarning: The parameter 'pretrained' is deprecated since 0.13 and may be removed in the future, please use 'weights' instead.\n",
            "  warnings.warn(\n",
            "/usr/local/lib/python3.8/dist-packages/torchvision/models/_utils.py:223: UserWarning: Arguments other than a weight enum or `None` for 'weights' are deprecated since 0.13 and may be removed in the future. The current behavior is equivalent to passing `weights=VGG16_Weights.IMAGENET1K_V1`. You can also use `weights=VGG16_Weights.DEFAULT` to get the most up-to-date weights.\n",
            "  warnings.warn(msg)\n",
            "Downloading: \"https://download.pytorch.org/models/vgg16-397923af.pth\" to /root/.cache/torch/hub/checkpoints/vgg16-397923af.pth\n"
          ]
        },
        {
          "output_type": "display_data",
          "data": {
            "text/plain": [
              "  0%|          | 0.00/528M [00:00<?, ?B/s]"
            ],
            "application/vnd.jupyter.widget-view+json": {
              "version_major": 2,
              "version_minor": 0,
              "model_id": "cc53c3ff49964f388935fb3b655d2fd3"
            }
          },
          "metadata": {}
        },
        {
          "output_type": "stream",
          "name": "stdout",
          "text": [
            "네트워크 설정 완료: 학습된 가중치를 로드하고 훈련 모드로 설정했다\n"
          ]
        }
      ]
    },
    {
      "cell_type": "code",
      "source": [],
      "metadata": {
        "id": "sGCzZ9rAI3rR"
      },
      "execution_count": null,
      "outputs": []
    },
    {
      "cell_type": "markdown",
      "source": [
        "# 4. 손실함수 정의"
      ],
      "metadata": {
        "id": "KinZ68FZJKt2"
      }
    },
    {
      "cell_type": "code",
      "source": [
        "criterion = nn.CrossEntropyLoss()"
      ],
      "metadata": {
        "id": "yH-VW1yuJMAZ"
      },
      "execution_count": 16,
      "outputs": []
    },
    {
      "cell_type": "code",
      "source": [],
      "metadata": {
        "id": "gt7xQcP8JOnE"
      },
      "execution_count": null,
      "outputs": []
    },
    {
      "cell_type": "markdown",
      "source": [
        "# 5. 최적화 방법 설정"
      ],
      "metadata": {
        "id": "bM_eZofQJQ1i"
      }
    },
    {
      "cell_type": "markdown",
      "source": [
        "모든 층의 파라미터를 학습할 수 있도록 optimizer 설정"
      ],
      "metadata": {
        "id": "P6Nxnv7oJTee"
      }
    },
    {
      "cell_type": "code",
      "source": [
        "#fine tuning으로 학습할 가중치를 params_to_update 변수의 1~3에 저장\n",
        "\n",
        "params_to_update_1 = []\n",
        "params_to_update_2 = []\n",
        "params_to_update_3 = []\n",
        "\n",
        "#학습시킬 층의 파라미터 명\n",
        "update_param_names_1 = ['features']\n",
        "update_param_names_2 = ['classifier.0.weight', 'classifier.0.bias','classifier.3.weight','classifier.3.bias']\n",
        "update_param_names_3 = ['classifier.6.weight','classifier.6.bias']\n",
        "\n",
        "\n",
        "#파라미터를 각 리스트에 저장\n",
        "\n",
        "for name,param in net.named_parameters():\n",
        "    \n",
        "    if update_param_names_1[0] in name:\n",
        "        \n",
        "        param.requires_grad = True\n",
        "        params_to_update_1.append(param)\n",
        "        print(\"params_to_update_1에 저장: \",name)\n",
        "\n",
        "    elif name in update_param_names_2:\n",
        "        \n",
        "        param.requires_grad = True\n",
        "        params_to_update_2.append(param)\n",
        "        print(\"params_to_update_2에 저장: \",name)\n",
        "    \n",
        "    elif name in update_param_names_3:\n",
        "        \n",
        "        param.requires_grad = True\n",
        "        params_to_update_3.append(param)\n",
        "        print(\"params_to_update_3에 저장: \",name)\n",
        "    \n",
        "    else:\n",
        "        \n",
        "        param.requires_grad = False\n",
        "        print(\"gradient 계산없음. 학습하지 않음: \",name)\n",
        "\n"
      ],
      "metadata": {
        "colab": {
          "base_uri": "https://localhost:8080/"
        },
        "id": "UBkvFqFGJSLR",
        "outputId": "7a9ce284-aecc-464b-9cdd-d372323118c7"
      },
      "execution_count": 17,
      "outputs": [
        {
          "output_type": "stream",
          "name": "stdout",
          "text": [
            "params_to_update_1에 저장:  features.0.weight\n",
            "params_to_update_1에 저장:  features.0.bias\n",
            "params_to_update_1에 저장:  features.2.weight\n",
            "params_to_update_1에 저장:  features.2.bias\n",
            "params_to_update_1에 저장:  features.5.weight\n",
            "params_to_update_1에 저장:  features.5.bias\n",
            "params_to_update_1에 저장:  features.7.weight\n",
            "params_to_update_1에 저장:  features.7.bias\n",
            "params_to_update_1에 저장:  features.10.weight\n",
            "params_to_update_1에 저장:  features.10.bias\n",
            "params_to_update_1에 저장:  features.12.weight\n",
            "params_to_update_1에 저장:  features.12.bias\n",
            "params_to_update_1에 저장:  features.14.weight\n",
            "params_to_update_1에 저장:  features.14.bias\n",
            "params_to_update_1에 저장:  features.17.weight\n",
            "params_to_update_1에 저장:  features.17.bias\n",
            "params_to_update_1에 저장:  features.19.weight\n",
            "params_to_update_1에 저장:  features.19.bias\n",
            "params_to_update_1에 저장:  features.21.weight\n",
            "params_to_update_1에 저장:  features.21.bias\n",
            "params_to_update_1에 저장:  features.24.weight\n",
            "params_to_update_1에 저장:  features.24.bias\n",
            "params_to_update_1에 저장:  features.26.weight\n",
            "params_to_update_1에 저장:  features.26.bias\n",
            "params_to_update_1에 저장:  features.28.weight\n",
            "params_to_update_1에 저장:  features.28.bias\n",
            "params_to_update_2에 저장:  classifier.0.weight\n",
            "params_to_update_2에 저장:  classifier.0.bias\n",
            "params_to_update_2에 저장:  classifier.3.weight\n",
            "params_to_update_2에 저장:  classifier.3.bias\n",
            "params_to_update_3에 저장:  classifier.6.weight\n",
            "params_to_update_3에 저장:  classifier.6.bias\n"
          ]
        }
      ]
    },
    {
      "cell_type": "code",
      "source": [
        "#층마다 다른 learning rate를 적용시키는 최적화 기법\n",
        "\n",
        "optimizer = optim.SGD([\n",
        "    {'params': params_to_update_1, 'lr':1e-4},\n",
        "    {'params': params_to_update_2, 'lr':5e-4},\n",
        "    {'params': params_to_update_3, 'lr':1e-3},\n",
        "],momentum=0.9)"
      ],
      "metadata": {
        "id": "VRRo6qz5LCMX"
      },
      "execution_count": 18,
      "outputs": []
    },
    {
      "cell_type": "code",
      "source": [],
      "metadata": {
        "id": "tcMP_i3pLYiD"
      },
      "execution_count": null,
      "outputs": []
    },
    {
      "cell_type": "markdown",
      "source": [
        "# 6. 학습하기"
      ],
      "metadata": {
        "id": "u6TmB5zbMltK"
      }
    },
    {
      "cell_type": "code",
      "source": [
        "#모델을 학습시키는 함수 작성\n",
        "def train_model(net, dataloaders_dict, criterion, optimizer, num_epochs):\n",
        "    \n",
        "    #초기 설정\n",
        "    #gpu 사용가능한지 확인\n",
        "    device = torch.device('cuda:0' if torch.cuda.is_available() else 'cpu')\n",
        "    print('사용 장치: ',device)\n",
        "\n",
        "    #네트워크를 gpu에\n",
        "    net.to(device)\n",
        "\n",
        "    #네트워크가 어느 정도 고정되면, forward, loss에 대한 gpu 계산을 가속화시킴\n",
        "    torch.backends.cudnn.benchmark = True\n",
        "\n",
        "    #훈련\n",
        "    for epoch in range(num_epochs):\n",
        "        \n",
        "        print('Epoch {}/{}'.format(epoch+1, num_epochs))\n",
        "        print('---------------')\n",
        "\n",
        "        #epoch별 훈련, 검증\n",
        "        for phase in ['train','val']:\n",
        "            \n",
        "            if phase == 'train':\n",
        "                \n",
        "                net.train() #모델을 훈련모드로\n",
        "            \n",
        "            else:\n",
        "                \n",
        "                net.eval() #모델을 검증모드로\n",
        "            \n",
        "            epoch_loss = 0.0 #epoch 손실 합\n",
        "            epoch_corrects = 0 #epoch 정답 수\n",
        "\n",
        "            #미학습시의 검증 성능을 확인하기 위해 epoch=0의 훈련 생략\n",
        "            if (epoch == 0 and phase == 'train'):\n",
        "                \n",
        "                continue\n",
        "            \n",
        "            #dataloader에서 미니 배치를 꺼내 반복\n",
        "            for inputs, labels in tqdm(dataloaders_dict[phase]):\n",
        "                \n",
        "                #gpu가 사용가능하다면.. gpu에 데이터 보내기\n",
        "                inputs = inputs.to(device)\n",
        "                labels = labels.to(device)\n",
        "\n",
        "                #optimizer를 초기화\n",
        "                optimizer.zero_grad()\n",
        "\n",
        "                #forward계산\n",
        "\n",
        "                with torch.set_grad_enabled(phase=='train'):\n",
        "                    \n",
        "                    outputs = net(inputs)\n",
        "                    loss = criterion(outputs, labels)#손실 계산\n",
        "                    _,preds = torch.max(outputs,1) #라벨 예측\n",
        "\n",
        "                    #훈련시에 역전파\n",
        "                    if phase == 'train':\n",
        "                        \n",
        "                        loss.backward()\n",
        "                        optimizer.step()\n",
        "                    \n",
        "                    #결과 계산\n",
        "                    epoch_loss += loss.item()*inputs.size(0) #loss 합계 갱신\n",
        "\n",
        "                    #정답 수의 합계 갱신\n",
        "                    epoch_corrects += torch.sum(preds == labels.data)\n",
        "            \n",
        "            #epoch별 loss와 정답률\n",
        "            epoch_loss = epoch_loss / len(dataloaders_dict[phase].dataset)\n",
        "            epoch_acc = epoch_corrects.double()/len(dataloaders_dict[phase].dataset)\n",
        "\n",
        "            print('{} Loss: {:.4f} Acc: {:.4f}'.format(\n",
        "                phase,epoch_loss,epoch_acc\n",
        "            ))\n"
      ],
      "metadata": {
        "id": "Y8ydeO4HMnlS"
      },
      "execution_count": 21,
      "outputs": []
    },
    {
      "cell_type": "code",
      "source": [
        "#학습 및 검증\n",
        "num_epochs = 2\n",
        "train_model(net, dataloaders_dict, criterion, optimizer, num_epochs = num_epochs)"
      ],
      "metadata": {
        "colab": {
          "base_uri": "https://localhost:8080/"
        },
        "id": "r0tGFHFnOx5H",
        "outputId": "67e43cdc-ec3b-4667-98ad-4ae99245a363"
      },
      "execution_count": 22,
      "outputs": [
        {
          "output_type": "stream",
          "name": "stdout",
          "text": [
            "사용 장치:  cuda:0\n",
            "Epoch 1/2\n",
            "---------------\n"
          ]
        },
        {
          "output_type": "stream",
          "name": "stderr",
          "text": [
            "100%|██████████| 5/5 [00:10<00:00,  2.12s/it]\n"
          ]
        },
        {
          "output_type": "stream",
          "name": "stdout",
          "text": [
            "val Loss: 0.7704 Acc: 0.4444\n",
            "Epoch 2/2\n",
            "---------------\n"
          ]
        },
        {
          "output_type": "stream",
          "name": "stderr",
          "text": [
            "100%|██████████| 8/8 [00:10<00:00,  1.31s/it]\n"
          ]
        },
        {
          "output_type": "stream",
          "name": "stdout",
          "text": [
            "train Loss: 0.5387 Acc: 0.7078\n"
          ]
        },
        {
          "output_type": "stream",
          "name": "stderr",
          "text": [
            "100%|██████████| 5/5 [00:01<00:00,  2.66it/s]"
          ]
        },
        {
          "output_type": "stream",
          "name": "stdout",
          "text": [
            "val Loss: 0.1663 Acc: 0.9608\n"
          ]
        },
        {
          "output_type": "stream",
          "name": "stderr",
          "text": [
            "\n"
          ]
        }
      ]
    },
    {
      "cell_type": "code",
      "source": [],
      "metadata": {
        "id": "-d6kH6YhPEK2"
      },
      "execution_count": null,
      "outputs": []
    },
    {
      "cell_type": "markdown",
      "source": [
        "# 7. 모델 저장, 로드"
      ],
      "metadata": {
        "id": "nDuS3OOzQaTz"
      }
    },
    {
      "cell_type": "code",
      "source": [
        "#pytorch model parameter 저장\n",
        "\n",
        "save_path = './weights_fine_tuning.pth'\n",
        "torch.save(net.state_dict(), save_path)"
      ],
      "metadata": {
        "id": "-ZfwdwwuQaBE"
      },
      "execution_count": 23,
      "outputs": []
    },
    {
      "cell_type": "code",
      "source": [
        "#pytorch network parameter load\n",
        "\n",
        "load_path = './weights_fine_tuning.pth'\n",
        "load_weights = torch.load(load_path)\n",
        "\n",
        "#net은 로드할려는 모델과 동일한 구성의 모델이어야함\n",
        "net.load_state_dict(load_weights)"
      ],
      "metadata": {
        "colab": {
          "base_uri": "https://localhost:8080/"
        },
        "id": "okAi9moMQlxS",
        "outputId": "84726568-6c8c-4532-c82a-ab5ae7b915a7"
      },
      "execution_count": 24,
      "outputs": [
        {
          "output_type": "execute_result",
          "data": {
            "text/plain": [
              "<All keys matched successfully>"
            ]
          },
          "metadata": {},
          "execution_count": 24
        }
      ]
    },
    {
      "cell_type": "code",
      "source": [
        "#만약 gpu상에 저장된 가중치를 cpu에 로드하고 싶다면\n",
        "\n",
        "load_weights = torch.load(load_path, map_location = {'cuda:0':'cpu'})\n",
        "net.load_state_dict(load_weights)"
      ],
      "metadata": {
        "colab": {
          "base_uri": "https://localhost:8080/"
        },
        "id": "0mwKPcgcRLg-",
        "outputId": "118fae63-21af-4840-e75f-08d4bdb7194b"
      },
      "execution_count": 25,
      "outputs": [
        {
          "output_type": "execute_result",
          "data": {
            "text/plain": [
              "<All keys matched successfully>"
            ]
          },
          "metadata": {},
          "execution_count": 25
        }
      ]
    },
    {
      "cell_type": "code",
      "source": [],
      "metadata": {
        "id": "QsHTnctrRUhR"
      },
      "execution_count": null,
      "outputs": []
    }
  ]
}
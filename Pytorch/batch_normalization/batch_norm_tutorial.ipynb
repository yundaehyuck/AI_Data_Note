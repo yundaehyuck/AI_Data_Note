{
  "nbformat": 4,
  "nbformat_minor": 0,
  "metadata": {
    "colab": {
      "provenance": []
    },
    "kernelspec": {
      "name": "python3",
      "display_name": "Python 3"
    },
    "language_info": {
      "name": "python"
    }
  },
  "cells": [
    {
      "cell_type": "markdown",
      "source": [
        "# Batch Normalization\n",
        "\n",
        "Batch normalization was introduced in Sergey Ioffe's and Christian Szegedy's 2015 paper [Batch Normalization: Accelerating Deep Network Training by Reducing Internal Covariate Shift](https://arxiv.org/pdf/1502.03167.pdf). The idea is that, instead of just normalizing the inputs to the network, we normalize the inputs to _layers within_ the network.\n",
        "> It's called **batch** normalization because during training, we normalize each layer's inputs by using the mean and variance of the values in the current *batch*."
      ],
      "metadata": {
        "id": "d9nyHqDV8GcP"
      }
    },
    {
      "cell_type": "code",
      "execution_count": null,
      "metadata": {
        "id": "k0r-Tvwx8Ahu"
      },
      "outputs": [],
      "source": []
    },
    {
      "cell_type": "markdown",
      "source": [
        "## Batch Normalization in PyTorch<a id=\"implementation_1\"></a>\n",
        "\n",
        "This section of the notebook shows you one way to add batch normalization to a neural network built in PyTorch.\n",
        "\n",
        "The following cells import the packages we need in the notebook and load the MNIST dataset to use in our experiments."
      ],
      "metadata": {
        "id": "2UvZs6KD8elq"
      }
    },
    {
      "cell_type": "code",
      "source": [
        "%matplotlib inline\n",
        "\n",
        "import numpy as np\n",
        "import torch\n",
        "import matplotlib.pyplot as plt"
      ],
      "metadata": {
        "id": "0VoIeqAh8e4_"
      },
      "execution_count": 1,
      "outputs": []
    },
    {
      "cell_type": "code",
      "source": [
        "from torchvision import datasets\n",
        "import torchvision.transforms as transforms\n",
        "\n",
        "#number of subprocesses to use for data loading\n",
        "num_workers = 0\n",
        "\n",
        "#how many samples per batch to load\n",
        "batch_size = 64\n",
        "\n",
        "#convert data to torch.FloatTensor\n",
        "transform = transforms.ToTensor()\n",
        "\n",
        "#get the training and test datasets\n",
        "train_data = datasets.MNIST(root = 'data', train = True,\n",
        "                            download = True, transform = transform)\n",
        "\n",
        "test_data = datasets.MNIST(root = 'data', train = False,\n",
        "                           download = True, transform = transform)\n",
        "\n",
        "#prepare data loaders\n",
        "train_loader = torch.utils.data.DataLoader(train_data, batch_size = batch_size,\n",
        "                                           num_workers = num_workers)\n",
        "\n",
        "test_loader = torch.utils.data.DataLoader(test_data, batch_size = batch_size,\n",
        "                                          num_workers = num_workers)"
      ],
      "metadata": {
        "colab": {
          "base_uri": "https://localhost:8080/"
        },
        "id": "7XS2b-D78oW0",
        "outputId": "62c76f7d-1493-49a5-cae8-1c01516d0693"
      },
      "execution_count": 2,
      "outputs": [
        {
          "output_type": "stream",
          "name": "stdout",
          "text": [
            "Downloading http://yann.lecun.com/exdb/mnist/train-images-idx3-ubyte.gz\n",
            "Downloading http://yann.lecun.com/exdb/mnist/train-images-idx3-ubyte.gz to data/MNIST/raw/train-images-idx3-ubyte.gz\n"
          ]
        },
        {
          "output_type": "stream",
          "name": "stderr",
          "text": [
            "100%|██████████| 9912422/9912422 [00:00<00:00, 92517732.71it/s]\n"
          ]
        },
        {
          "output_type": "stream",
          "name": "stdout",
          "text": [
            "Extracting data/MNIST/raw/train-images-idx3-ubyte.gz to data/MNIST/raw\n",
            "\n",
            "Downloading http://yann.lecun.com/exdb/mnist/train-labels-idx1-ubyte.gz\n",
            "Downloading http://yann.lecun.com/exdb/mnist/train-labels-idx1-ubyte.gz to data/MNIST/raw/train-labels-idx1-ubyte.gz\n"
          ]
        },
        {
          "output_type": "stream",
          "name": "stderr",
          "text": [
            "100%|██████████| 28881/28881 [00:00<00:00, 67635786.61it/s]\n"
          ]
        },
        {
          "output_type": "stream",
          "name": "stdout",
          "text": [
            "Extracting data/MNIST/raw/train-labels-idx1-ubyte.gz to data/MNIST/raw\n",
            "\n",
            "Downloading http://yann.lecun.com/exdb/mnist/t10k-images-idx3-ubyte.gz\n",
            "Downloading http://yann.lecun.com/exdb/mnist/t10k-images-idx3-ubyte.gz to data/MNIST/raw/t10k-images-idx3-ubyte.gz\n"
          ]
        },
        {
          "output_type": "stream",
          "name": "stderr",
          "text": [
            "100%|██████████| 1648877/1648877 [00:00<00:00, 29560144.45it/s]\n"
          ]
        },
        {
          "output_type": "stream",
          "name": "stdout",
          "text": [
            "Extracting data/MNIST/raw/t10k-images-idx3-ubyte.gz to data/MNIST/raw\n",
            "\n",
            "Downloading http://yann.lecun.com/exdb/mnist/t10k-labels-idx1-ubyte.gz\n",
            "Downloading http://yann.lecun.com/exdb/mnist/t10k-labels-idx1-ubyte.gz to data/MNIST/raw/t10k-labels-idx1-ubyte.gz\n"
          ]
        },
        {
          "output_type": "stream",
          "name": "stderr",
          "text": [
            "100%|██████████| 4542/4542 [00:00<00:00, 5264031.16it/s]\n"
          ]
        },
        {
          "output_type": "stream",
          "name": "stdout",
          "text": [
            "Extracting data/MNIST/raw/t10k-labels-idx1-ubyte.gz to data/MNIST/raw\n",
            "\n"
          ]
        }
      ]
    },
    {
      "cell_type": "code",
      "source": [],
      "metadata": {
        "id": "aCNAx4JM9ZZj"
      },
      "execution_count": null,
      "outputs": []
    },
    {
      "cell_type": "markdown",
      "source": [
        "### Visualize the data"
      ],
      "metadata": {
        "id": "rVz9X2-B97HL"
      }
    },
    {
      "cell_type": "code",
      "source": [
        "# obtain one batch of training images\n",
        "dataiter = iter(train_loader)\n",
        "images, labels = next(dataiter)\n",
        "images = images.numpy()\n",
        "\n",
        "#get one image from the batch\n",
        "img = np.squeeze(images[0])\n",
        "\n",
        "fig = plt.figure(figsize = (3,3))\n",
        "ax = fig.add_subplot(111)\n",
        "ax.imshow(img, cmap = 'gray')"
      ],
      "metadata": {
        "colab": {
          "base_uri": "https://localhost:8080/",
          "height": 311
        },
        "id": "hhcyzrXW97X4",
        "outputId": "1190e092-00bd-430d-dea5-1a81c133e15a"
      },
      "execution_count": 4,
      "outputs": [
        {
          "output_type": "execute_result",
          "data": {
            "text/plain": [
              "<matplotlib.image.AxesImage at 0x7e0945ca81c0>"
            ]
          },
          "metadata": {},
          "execution_count": 4
        },
        {
          "output_type": "display_data",
          "data": {
            "text/plain": [
              "<Figure size 300x300 with 1 Axes>"
            ],
            "image/png": "[encoded data removed]"
          },
          "metadata": {}
        }
      ]
    },
    {
      "cell_type": "code",
      "source": [],
      "metadata": {
        "id": "HReEWHqV-O2j"
      },
      "execution_count": null,
      "outputs": []
    },
    {
      "cell_type": "markdown",
      "source": [
        "## Neural network classes for testing\n",
        "\n",
        "The following class, `NeuralNet`, allows us to create identical neural networks **with and without batch normalization** to compare. The code is heavily documented, but there is also some additional discussion later. You do not need to read through it all before going through the rest of the notebook, but the comments within the code blocks may answer some of your questions.\n",
        "\n",
        "*About the code:*\n",
        ">We are defining a simple MLP for classification; this design choice was made to support the discussion related to batch normalization and not to get the best classification accuracy.\n",
        "\n",
        "### (Important) Model Details\n",
        "\n",
        "There are quite a few comments in the code, so those should answer most of your questions. However, let's take a look at the most important lines.\n",
        "\n",
        "We add batch normalization to layers inside the `__init__` function. Here are some important points about that code:\n",
        "1. Layers with batch normalization do **not** include a bias term.\n",
        "2. We use PyTorch's [BatchNorm1d](https://pytorch.org/docs/stable/nn.html#batchnorm1d) function to handle the math. This is the function you use to operate on linear layer outputs; you'll use [BatchNorm2d](https://pytorch.org/docs/stable/nn.html#batchnorm2d) for 2D outputs like filtered images from convolutional layers.\n",
        "3. We add the batch normalization layer **before** calling the activation function."
      ],
      "metadata": {
        "id": "10B_Fld3-T18"
      }
    },
    {
      "cell_type": "code",
      "source": [
        "import torch.nn as nn\n",
        "import torch.nn.functional as F\n",
        "\n",
        "class NeuralNet(nn.Module):\n",
        "\n",
        "    def __init__(self, use_batch_norm, input_size = 784, hidden_dim = 256, output_size = 10):\n",
        "\n",
        "        \"\"\"\n",
        "        Creates a PyTorch net using the given parameters.\n",
        "\n",
        "        :param use_batch_norm: bool\n",
        "            Pass True to create a network that uses batch normalization; False otherwise\n",
        "            Note: this network will not use batch normalization on layers that do not have an\n",
        "            activation function.\n",
        "        \"\"\"\n",
        "        super(NeuralNet, self).__init__() #init super\n",
        "\n",
        "        #default layer sizes\n",
        "        self.input_size = input_size #(28*28 images)\n",
        "        self.hidden_dim = hidden_dim\n",
        "        self.output_size = output_size #(number of classes)\n",
        "\n",
        "        #keep track of whether or not this network uses batch normalization\n",
        "        self.use_batch_norm = use_batch_norm\n",
        "\n",
        "        # define hidden linear layers, with optional batch norm on their outputs\n",
        "        # layers with batch_norm applied have no bias term\n",
        "\n",
        "        if use_batch_norm:\n",
        "\n",
        "            self.fc1 = nn.Linear(input_size, hidden_dim*2, bias = False)\n",
        "            self.batch_norm1 = nn.BatchNorm1d(hidden_dim*2)\n",
        "\n",
        "        else:\n",
        "\n",
        "            self.fc1 = nn.Linear(input_size, hidden_dim*2)\n",
        "\n",
        "        # define *second* hidden linear layers, with optional batch norm on their outputs\n",
        "        if use_batch_norm:\n",
        "\n",
        "            self.fc2 = nn.Linear(hidden_dim*2, hidden_dim, bias = False)\n",
        "            self.batch_norm2 = nn.BatchNorm1d(hidden_dim)\n",
        "\n",
        "        else:\n",
        "\n",
        "            self.fc2 = nn.Linear(hidden_dim*2, hidden_dim)\n",
        "\n",
        "        ## third and final, fully-connected layer\n",
        "        self.fc3 = nn.Linear(hidden_dim, output_size)\n",
        "\n",
        "    def forward(self, x):\n",
        "\n",
        "        #flatten image\n",
        "        x = x.view(-1, 28*28)\n",
        "\n",
        "        # all hidden layers + optional batch norm + relu activation\n",
        "        x = self.fc1(x)\n",
        "\n",
        "        if self.use_batch_norm:\n",
        "\n",
        "            x = self.batch_norm1(x)\n",
        "\n",
        "        x = F.relu(x)\n",
        "\n",
        "        #second layer\n",
        "        x = self.fc2(x)\n",
        "        if self.use_batch_norm:\n",
        "\n",
        "            x = self.batch_norm2(x)\n",
        "\n",
        "        x = F.relu(x)\n",
        "\n",
        "        #third layer, no batch norm or activation\n",
        "        x = self.fc3(x)\n",
        "\n",
        "        return x\n"
      ],
      "metadata": {
        "id": "JHAxAj_2-UDk"
      },
      "execution_count": 5,
      "outputs": []
    },
    {
      "cell_type": "markdown",
      "source": [
        "### Create two different models for testing\n",
        "\n",
        "* `net_batchnorm` is a linear classification model **with** batch normalization applied to the output of its hidden layers\n",
        "* `net_no_norm` is a plain MLP, without batch normalization\n",
        "\n",
        "Besides the normalization layers, everthing about these models is the same."
      ],
      "metadata": {
        "id": "r0_KikL0APk_"
      }
    },
    {
      "cell_type": "code",
      "source": [
        "net_batchnorm = NeuralNet(use_batch_norm = True)\n",
        "net_no_norm = NeuralNet(use_batch_norm = False)\n",
        "\n",
        "print(net_batchnorm)\n",
        "print()\n",
        "print(net_no_norm)"
      ],
      "metadata": {
        "colab": {
          "base_uri": "https://localhost:8080/"
        },
        "id": "TNPS9kz2ANga",
        "outputId": "29833dea-d0b7-49f5-f998-5941f77cf6bd"
      },
      "execution_count": 6,
      "outputs": [
        {
          "output_type": "stream",
          "name": "stdout",
          "text": [
            "NeuralNet(\n",
            "  (fc1): Linear(in_features=784, out_features=512, bias=False)\n",
            "  (batch_norm1): BatchNorm1d(512, eps=1e-05, momentum=0.1, affine=True, track_running_stats=True)\n",
            "  (fc2): Linear(in_features=512, out_features=256, bias=False)\n",
            "  (batch_norm2): BatchNorm1d(256, eps=1e-05, momentum=0.1, affine=True, track_running_stats=True)\n",
            "  (fc3): Linear(in_features=256, out_features=10, bias=True)\n",
            ")\n",
            "\n",
            "NeuralNet(\n",
            "  (fc1): Linear(in_features=784, out_features=512, bias=True)\n",
            "  (fc2): Linear(in_features=512, out_features=256, bias=True)\n",
            "  (fc3): Linear(in_features=256, out_features=10, bias=True)\n",
            ")\n"
          ]
        }
      ]
    },
    {
      "cell_type": "code",
      "source": [],
      "metadata": {
        "id": "WCBO7hDtAbRh"
      },
      "execution_count": null,
      "outputs": []
    },
    {
      "cell_type": "markdown",
      "source": [
        "---\n",
        "## Training\n",
        "\n",
        "The below `train` function will take in a model and some number of epochs. We'll use cross entropy loss and stochastic gradient descent for optimization. This function returns the losses, recorded after each epoch, so that we can display and compare the behavior of different models.\n",
        "\n",
        "#### `.train()` mode\n",
        "Note that we tell our model whether or not it should be in training mode, `model.train()`. This is an important step because batch normalization has different behavior during training on a batch or testing/evaluating on a larger dataset."
      ],
      "metadata": {
        "id": "2dog-acEAdVD"
      }
    },
    {
      "cell_type": "code",
      "source": [
        "def train(model, n_epochs = 10):\n",
        "\n",
        "    #number of epochs to train the model\n",
        "    n_epochs = n_epochs\n",
        "    #track losses\n",
        "    losses = []\n",
        "\n",
        "    #optimization strategy\n",
        "     # specify loss function (categorical cross-entropy)\n",
        "\n",
        "    criterion = nn.CrossEntropyLoss()\n",
        "\n",
        "    # specify optimizer (stochastic gradient descent) and learning rate = 0.01\n",
        "    optimizer = torch.optim.SGD(model.parameters(), lr = 0.01)\n",
        "\n",
        "    # set the model to training mode\n",
        "    model.train()\n",
        "\n",
        "    for epoch in range(1, n_epochs+1):\n",
        "\n",
        "        # monitor training loss\n",
        "        train_loss = 0.0\n",
        "\n",
        "        ###################\n",
        "        # train the model #\n",
        "        ###################\n",
        "        batch_count = 0\n",
        "        for batch_idx, (data,target) in enumerate(train_loader):\n",
        "\n",
        "            # clear the gradients of all optimized variables\n",
        "            optimizer.zero_grad()\n",
        "\n",
        "            # forward pass: compute predicted outputs by passing inputs to the model\n",
        "            output = model(data)\n",
        "\n",
        "            # calculate the loss\n",
        "            loss = criterion(output,target)\n",
        "\n",
        "            # backward pass: compute gradient of the loss with respect to model parameters\n",
        "            loss.backward()\n",
        "\n",
        "            # perform a single optimization step (parameter update)\n",
        "            optimizer.step()\n",
        "\n",
        "            # update average training loss\n",
        "            train_loss += loss.item() # add up avg batch loss\n",
        "            batch_count += 1\n",
        "\n",
        "        # print training statistics\n",
        "        losses.append(train_loss/batch_count)\n",
        "        print('Epoch: {} \\tTraining Loss: {:.6f}'.format(\n",
        "            epoch,\n",
        "            train_loss/batch_count\n",
        "        ))\n",
        "\n",
        "    #return all recorded batch losses\n",
        "    return losses"
      ],
      "metadata": {
        "id": "t9ZJ6fZXAdgy"
      },
      "execution_count": 7,
      "outputs": []
    },
    {
      "cell_type": "markdown",
      "source": [
        "### Comparing Models\n",
        "\n",
        "In the below cells, we train our two different models and compare their trainining loss over time."
      ],
      "metadata": {
        "id": "7zi1-te8By55"
      }
    },
    {
      "cell_type": "code",
      "source": [
        "#batchnorm model losses\n",
        "#this may take some time to train\n",
        "losses_batchnorm = train(net_batchnorm)"
      ],
      "metadata": {
        "colab": {
          "base_uri": "https://localhost:8080/"
        },
        "id": "5-AwHZ_7BwvW",
        "outputId": "c2698b5d-4ddf-4037-a6c8-5c1f69d9ee40"
      },
      "execution_count": 8,
      "outputs": [
        {
          "output_type": "stream",
          "name": "stdout",
          "text": [
            "Epoch: 1 \tTraining Loss: 0.393118\n",
            "Epoch: 2 \tTraining Loss: 0.164492\n",
            "Epoch: 3 \tTraining Loss: 0.113875\n",
            "Epoch: 4 \tTraining Loss: 0.084518\n",
            "Epoch: 5 \tTraining Loss: 0.064554\n",
            "Epoch: 6 \tTraining Loss: 0.049928\n",
            "Epoch: 7 \tTraining Loss: 0.038891\n",
            "Epoch: 8 \tTraining Loss: 0.030383\n",
            "Epoch: 9 \tTraining Loss: 0.023926\n",
            "Epoch: 10 \tTraining Loss: 0.019011\n"
          ]
        }
      ]
    },
    {
      "cell_type": "code",
      "source": [
        "#no norm model losses\n",
        "#you should already start to see a difference in training losses\n",
        "losses_no_norm = train(net_no_norm)"
      ],
      "metadata": {
        "colab": {
          "base_uri": "https://localhost:8080/"
        },
        "id": "M8WnyEp1B44x",
        "outputId": "2df21e6a-86d2-4c0a-ce1c-6f94fe9e1df8"
      },
      "execution_count": 9,
      "outputs": [
        {
          "output_type": "stream",
          "name": "stdout",
          "text": [
            "Epoch: 1 \tTraining Loss: 1.604499\n",
            "Epoch: 2 \tTraining Loss: 0.513944\n",
            "Epoch: 3 \tTraining Loss: 0.376826\n",
            "Epoch: 4 \tTraining Loss: 0.330324\n",
            "Epoch: 5 \tTraining Loss: 0.301851\n",
            "Epoch: 6 \tTraining Loss: 0.280123\n",
            "Epoch: 7 \tTraining Loss: 0.261790\n",
            "Epoch: 8 \tTraining Loss: 0.245544\n",
            "Epoch: 9 \tTraining Loss: 0.230806\n",
            "Epoch: 10 \tTraining Loss: 0.217331\n"
          ]
        }
      ]
    },
    {
      "cell_type": "code",
      "source": [
        "#compare\n",
        "fig,ax = plt.subplots(figsize = (12,8))\n",
        "\n",
        "#losses_batchnorm = np.array(losses_batchnorm)\n",
        "#losses_no_norm = np.array(losses_no_norm)\n",
        "\n",
        "plt.plot(losses_batchnorm, label = 'Using batchnorm', alpha = 0.5)\n",
        "plt.plot(losses_no_norm, label = 'No norm', alpha = 0.5)\n",
        "\n",
        "plt.title('Training Losses')\n",
        "plt.legend()"
      ],
      "metadata": {
        "colab": {
          "base_uri": "https://localhost:8080/",
          "height": 717
        },
        "id": "VVyqbP2TCDWP",
        "outputId": "d13e8e7b-65e7-4aec-8dfe-d78ba7b1f6b2"
      },
      "execution_count": 10,
      "outputs": [
        {
          "output_type": "execute_result",
          "data": {
            "text/plain": [
              "<matplotlib.legend.Legend at 0x7e0945e977c0>"
            ]
          },
          "metadata": {},
          "execution_count": 10
        },
        {
          "output_type": "display_data",
          "data": {
            "text/plain": [
              "<Figure size 1200x800 with 1 Axes>"
            ],
            "image/png": "[encoded data removed]"
          },
          "metadata": {}
        }
      ]
    },
    {
      "cell_type": "markdown",
      "source": [
        "---\n",
        "## Testing\n",
        "\n",
        "You should see that the model with batch normalization, starts off with a lower training loss and, over ten epochs of training, gets to a training loss that is noticeably lower than our model without normalization.\n",
        "\n",
        "Next, let's see how both these models perform on our test data! Below, we have a function `test` that takes in a model and a parameter `train` (True or False) which indicates whether the model should be in training or evaulation mode. This is for comparison purposes, later. This function will calculate some test statistics including the overall test accuracy of a passed in model."
      ],
      "metadata": {
        "id": "wJggARifCW4-"
      }
    },
    {
      "cell_type": "code",
      "source": [
        "def test(model, train):\n",
        "\n",
        "    # initialize vars to monitor test loss and accuracy\n",
        "    class_correct = list(0 for i in range(10))\n",
        "    class_total = list(0 for i in range(10))\n",
        "    test_loss = 0.0\n",
        "\n",
        "    # set model to train or evaluation mode\n",
        "    # just to see the difference in behavior\n",
        "    if(train == True):\n",
        "\n",
        "        model.train()\n",
        "\n",
        "    else:\n",
        "\n",
        "        model.eval()\n",
        "\n",
        "    #loss criterion\n",
        "    criterion = nn.CrossEntropyLoss()\n",
        "\n",
        "    with torch.no_grad():\n",
        "\n",
        "        for batch_idx, (data,target) in enumerate(test_loader):\n",
        "\n",
        "            batch_size = data.size(0)\n",
        "\n",
        "            # forward pass: compute predicted outputs by passing inputs to the model\n",
        "\n",
        "            output = model(data)\n",
        "\n",
        "            # calculate the loss\n",
        "\n",
        "            loss = criterion(output, target)\n",
        "\n",
        "            # update average test loss\n",
        "            test_loss += loss.item()*batch_size\n",
        "\n",
        "            # convert output probabilities to predicted class\n",
        "            _, pred = torch.max(output, 1)\n",
        "\n",
        "            # compare predictions to true label\n",
        "            correct = np.squeeze(pred.eq(target.data.view_as(pred)))\n",
        "\n",
        "            # calculate test accuracy for each object class\n",
        "            for i in range(batch_size):\n",
        "\n",
        "                label = target.data[i]\n",
        "                class_correct[label] += correct[i].item()\n",
        "                class_total[label] += 1\n",
        "\n",
        "\n",
        "    print('Test Loss: {:.6f}\\n'.format(test_loss/len(test_loader.dataset)))\n",
        "\n",
        "    for i in range(10):\n",
        "\n",
        "        if class_total[i] > 0:\n",
        "\n",
        "            print('Test Accuracy of %5s: %2d%% (%2d/%2d)' % (\n",
        "                str(i), 100*class_correct[i] / class_total[i],\n",
        "                np.sum(class_correct[i]), np.sum(class_total[i])\n",
        "            ))\n",
        "\n",
        "        else:\n",
        "\n",
        "            print('Test Accuracy of %5s: N/A (no training examples)' % (classes[i]))\n",
        "\n",
        "    print('\\nTest Accuracy (Overall): %2d%% (%2d/%2d)' % (\n",
        "        100. * np.sum(class_correct)/np.sum(class_total),\n",
        "        np.sum(class_correct), np.sum(class_total)\n",
        "    ))\n"
      ],
      "metadata": {
        "id": "u490iFyZCXMr"
      },
      "execution_count": 12,
      "outputs": []
    },
    {
      "cell_type": "code",
      "source": [],
      "metadata": {
        "id": "1PqxUkKWESN0"
      },
      "execution_count": null,
      "outputs": []
    },
    {
      "cell_type": "markdown",
      "source": [
        "### Training and Evaluation Mode\n",
        "\n",
        "Setting a model to evaluation mode is important for models with batch normalization layers!\n",
        "\n",
        ">* Training mode means that the batch normalization layers will use **batch** statistics to calculate the batch norm.\n",
        "* Evaluation mode, on the other hand, uses the estimated **population** mean and variance from the entire training set, which should give us increased performance on this test data!"
      ],
      "metadata": {
        "id": "gnmtS4uTEUAQ"
      }
    },
    {
      "cell_type": "code",
      "source": [
        "#test batchnorm case, in trainmode\n",
        "test(net_batchnorm, train = True)"
      ],
      "metadata": {
        "colab": {
          "base_uri": "https://localhost:8080/"
        },
        "id": "3Pjzw7P3EURH",
        "outputId": "74b1889d-ea86-41b3-c623-cc6128e9660f"
      },
      "execution_count": 13,
      "outputs": [
        {
          "output_type": "stream",
          "name": "stdout",
          "text": [
            "Test Loss: 0.082019\n",
            "\n",
            "Test Accuracy of     0: 98% (968/980)\n",
            "Test Accuracy of     1: 99% (1126/1135)\n",
            "Test Accuracy of     2: 97% (1006/1032)\n",
            "Test Accuracy of     3: 97% (984/1010)\n",
            "Test Accuracy of     4: 97% (956/982)\n",
            "Test Accuracy of     5: 97% (871/892)\n",
            "Test Accuracy of     6: 97% (935/958)\n",
            "Test Accuracy of     7: 97% (998/1028)\n",
            "Test Accuracy of     8: 96% (942/974)\n",
            "Test Accuracy of     9: 96% (969/1009)\n",
            "\n",
            "Test Accuracy (Overall): 97% (9755/10000)\n"
          ]
        }
      ]
    },
    {
      "cell_type": "code",
      "source": [
        "#test batchnorm case, in evalueation mode\n",
        "\n",
        "test(net_batchnorm, train = False)"
      ],
      "metadata": {
        "colab": {
          "base_uri": "https://localhost:8080/"
        },
        "id": "wg89jpP1EmL5",
        "outputId": "8ce80f1d-8064-4648-aa82-3076ad364817"
      },
      "execution_count": 14,
      "outputs": [
        {
          "output_type": "stream",
          "name": "stdout",
          "text": [
            "Test Loss: 0.070906\n",
            "\n",
            "Test Accuracy of     0: 98% (969/980)\n",
            "Test Accuracy of     1: 99% (1126/1135)\n",
            "Test Accuracy of     2: 97% (1008/1032)\n",
            "Test Accuracy of     3: 97% (989/1010)\n",
            "Test Accuracy of     4: 97% (957/982)\n",
            "Test Accuracy of     5: 98% (877/892)\n",
            "Test Accuracy of     6: 98% (939/958)\n",
            "Test Accuracy of     7: 96% (997/1028)\n",
            "Test Accuracy of     8: 96% (942/974)\n",
            "Test Accuracy of     9: 97% (985/1009)\n",
            "\n",
            "Test Accuracy (Overall): 97% (9789/10000)\n"
          ]
        }
      ]
    },
    {
      "cell_type": "code",
      "source": [
        "#for posterity, test no norm case in eval mode\n",
        "test(net_no_norm, train = False)"
      ],
      "metadata": {
        "colab": {
          "base_uri": "https://localhost:8080/"
        },
        "id": "ppqn-vv2Eq5E",
        "outputId": "4e4ebffb-21bf-4302-fdfe-69e9b06364b0"
      },
      "execution_count": 15,
      "outputs": [
        {
          "output_type": "stream",
          "name": "stdout",
          "text": [
            "Test Loss: 0.210122\n",
            "\n",
            "Test Accuracy of     0: 98% (966/980)\n",
            "Test Accuracy of     1: 97% (1112/1135)\n",
            "Test Accuracy of     2: 91% (944/1032)\n",
            "Test Accuracy of     3: 92% (938/1010)\n",
            "Test Accuracy of     4: 93% (919/982)\n",
            "Test Accuracy of     5: 92% (827/892)\n",
            "Test Accuracy of     6: 94% (908/958)\n",
            "Test Accuracy of     7: 92% (955/1028)\n",
            "Test Accuracy of     8: 90% (877/974)\n",
            "Test Accuracy of     9: 93% (942/1009)\n",
            "\n",
            "Test Accuracy (Overall): 93% (9388/10000)\n"
          ]
        }
      ]
    },
    {
      "cell_type": "code",
      "source": [],
      "metadata": {
        "id": "lqJ5fudBEzTt"
      },
      "execution_count": null,
      "outputs": []
    },
    {
      "cell_type": "markdown",
      "source": [
        "### Which model has the highest accuracy?\n",
        "\n",
        "You should see a small improvement when comparing the batch norm model's accuracy in training and evaluation mode; **evaluation mode** should give a small improvement!\n",
        "\n",
        "You should also see that the model that uses batch norm layers shows a marked improvement in overall accuracy when compared with the no-normalization model."
      ],
      "metadata": {
        "id": "cnDTBCCME2ei"
      }
    },
    {
      "cell_type": "markdown",
      "source": [
        "---\n",
        "# Considerations for other network types\n",
        "\n",
        "This notebook demonstrates batch normalization in a standard neural network with fully connected layers. You can also use batch normalization in other types of networks, but there are some special considerations.\n",
        "\n",
        "### ConvNets\n",
        "\n",
        "Convolution layers consist of multiple feature maps. (Remember, the depth of a convolutional layer refers to its number of feature maps.) And the weights for each feature map are shared across all the inputs that feed into the layer. Because of these differences, batch normalizing convolutional layers requires batch/population mean and variance per feature map rather than per node in the layer.\n",
        "\n",
        "> To apply batch normalization on the outputs of convolutional layers, we use [BatchNorm2d](https://pytorch.org/docs/stable/nn.html#batchnorm2d)\n",
        "\n",
        "\n",
        "### RNNs\n",
        "\n",
        "Batch normalization can work with recurrent neural networks, too, as shown in the 2016 paper [Recurrent Batch Normalization](https://arxiv.org/abs/1603.09025). It's a bit more work to implement, but basically involves calculating the means and variances per time step instead of per layer. You can find an example where someone implemented recurrent batch normalization in PyTorch, in [this GitHub repo](https://github.com/jihunchoi/recurrent-batch-normalization-pytorch)."
      ],
      "metadata": {
        "id": "ReBV-Dn0E8x-"
      }
    },
    {
      "cell_type": "code",
      "source": [],
      "metadata": {
        "id": "Ak3elzbrE2wV"
      },
      "execution_count": null,
      "outputs": []
    }
  ]
}
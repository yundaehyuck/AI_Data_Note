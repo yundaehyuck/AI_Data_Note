{
  "nbformat": 4,
  "nbformat_minor": 0,
  "metadata": {
    "colab": {
      "provenance": []
    },
    "kernelspec": {
      "name": "python3",
      "display_name": "Python 3"
    },
    "language_info": {
      "name": "python"
    }
  },
  "cells": [
    {
      "cell_type": "markdown",
      "source": [
        "# 1. numpy로 tensor 만들기"
      ],
      "metadata": {
        "id": "c70fBnTIlp1W"
      }
    },
    {
      "cell_type": "markdown",
      "source": [
        "1-1) 1차원 텐서"
      ],
      "metadata": {
        "id": "ndg2uotplvsO"
      }
    },
    {
      "cell_type": "code",
      "execution_count": 1,
      "metadata": {
        "id": "kU49JAVrllps"
      },
      "outputs": [],
      "source": [
        "import numpy as np"
      ]
    },
    {
      "cell_type": "code",
      "source": [
        "#list를 생성해 np.array로 1차원 array로 변환\n",
        "t = np.array([0.,1.,2.,3.,4.,5.,6.])\n",
        "\n",
        "print(t)"
      ],
      "metadata": {
        "colab": {
          "base_uri": "https://localhost:8080/"
        },
        "id": "9_bpgxAtlyBv",
        "outputId": "ba665cc4-4e96-456e-c1d0-8d2e5b6cd335"
      },
      "execution_count": 2,
      "outputs": [
        {
          "output_type": "stream",
          "name": "stdout",
          "text": [
            "[0. 1. 2. 3. 4. 5. 6.]\n"
          ]
        }
      ]
    },
    {
      "cell_type": "code",
      "source": [
        "#차원과 크기\n",
        "\n",
        "print(\"Rank of t:\", t.ndim)\n",
        "print(\"Shape of t:\", t.shape)"
      ],
      "metadata": {
        "colab": {
          "base_uri": "https://localhost:8080/"
        },
        "id": "2rXdbaoPmA5T",
        "outputId": "de207461-ce4d-4060-b768-95ed39a013c3"
      },
      "execution_count": 3,
      "outputs": [
        {
          "output_type": "stream",
          "name": "stdout",
          "text": [
            "Rank of t: 1\n",
            "Shape of t: (7,)\n"
          ]
        }
      ]
    },
    {
      "cell_type": "markdown",
      "source": [
        "1-2) 원소 접근(인덱싱)"
      ],
      "metadata": {
        "id": "ACmZI5jymumK"
      }
    },
    {
      "cell_type": "code",
      "source": [
        "print('t[0] t[1], t[-1] = ', t[0], t[1], t[-1]) #인덱스를 통한 원소 접근"
      ],
      "metadata": {
        "colab": {
          "base_uri": "https://localhost:8080/"
        },
        "id": "1JyQKGF6mJgh",
        "outputId": "07bda9ce-f138-4c21-ca24-99f7a81f775a"
      },
      "execution_count": 4,
      "outputs": [
        {
          "output_type": "stream",
          "name": "stdout",
          "text": [
            "t[0] t[1], t[-1] =  0.0 1.0 6.0\n"
          ]
        }
      ]
    },
    {
      "cell_type": "code",
      "source": [],
      "metadata": {
        "id": "BBZVHbQLm4Ma"
      },
      "execution_count": 4,
      "outputs": []
    },
    {
      "cell_type": "markdown",
      "source": [
        "1-3) 슬라이싱"
      ],
      "metadata": {
        "id": "jTJ4mxTvngwi"
      }
    },
    {
      "cell_type": "code",
      "source": [
        "print('t[2:5] t[4:-1] = ', t[2:5], t[4:-1]) #[시작번호: 끝번호]로 범위 지정"
      ],
      "metadata": {
        "colab": {
          "base_uri": "https://localhost:8080/"
        },
        "id": "ntVCmxF1niKJ",
        "outputId": "9e2c6596-4252-4838-c263-c1b402c753f1"
      },
      "execution_count": 5,
      "outputs": [
        {
          "output_type": "stream",
          "name": "stdout",
          "text": [
            "t[2:5] t[4:-1] =  [2. 3. 4.] [4. 5.]\n"
          ]
        }
      ]
    },
    {
      "cell_type": "code",
      "source": [
        "print('t[:2] t[:3]    = ' , t[:2], t[3:]) #시작 번호 생략, 끝 번호 생략"
      ],
      "metadata": {
        "colab": {
          "base_uri": "https://localhost:8080/"
        },
        "id": "HN81w5OUnoSp",
        "outputId": "9a43ea24-917f-41b1-92bd-e5532e43bfc2"
      },
      "execution_count": 6,
      "outputs": [
        {
          "output_type": "stream",
          "name": "stdout",
          "text": [
            "t[:2] t[:3]    =  [0. 1.] [3. 4. 5. 6.]\n"
          ]
        }
      ]
    },
    {
      "cell_type": "code",
      "source": [],
      "metadata": {
        "id": "xM7HgjwAoIo2"
      },
      "execution_count": 6,
      "outputs": []
    },
    {
      "cell_type": "markdown",
      "source": [
        "1-4) 2차원 tensor"
      ],
      "metadata": {
        "id": "yYhAKUP4oLa-"
      }
    },
    {
      "cell_type": "code",
      "source": [
        "t = np.array([[1.,2.,3.], [4.,5.,6.], [7.,8.,9.], [10.,11.,12.]])\n",
        "print(t)"
      ],
      "metadata": {
        "colab": {
          "base_uri": "https://localhost:8080/"
        },
        "id": "ZDToBnEnoMZo",
        "outputId": "cc46e274-4caa-4279-83ac-88a370beb82e"
      },
      "execution_count": 7,
      "outputs": [
        {
          "output_type": "stream",
          "name": "stdout",
          "text": [
            "[[ 1.  2.  3.]\n",
            " [ 4.  5.  6.]\n",
            " [ 7.  8.  9.]\n",
            " [10. 11. 12.]]\n"
          ]
        }
      ]
    },
    {
      "cell_type": "code",
      "source": [
        "print('Rank of t: ', t.ndim)\n",
        "print('Shape of t:', t.shape)"
      ],
      "metadata": {
        "colab": {
          "base_uri": "https://localhost:8080/"
        },
        "id": "mj-2TJb3oW1u",
        "outputId": "b1ef192b-c3a9-4e6f-e399-9540b5de8a10"
      },
      "execution_count": 8,
      "outputs": [
        {
          "output_type": "stream",
          "name": "stdout",
          "text": [
            "Rank of t:  2\n",
            "Shape of t: (4, 3)\n"
          ]
        }
      ]
    },
    {
      "cell_type": "code",
      "source": [],
      "metadata": {
        "id": "0bEm1fCsocnN"
      },
      "execution_count": 8,
      "outputs": []
    },
    {
      "cell_type": "markdown",
      "source": [
        "# 2. pytorch로 tensor 만들기"
      ],
      "metadata": {
        "id": "TSVqGjI2oyag"
      }
    },
    {
      "cell_type": "code",
      "source": [
        "import torch"
      ],
      "metadata": {
        "id": "OItF3fYqoz6q"
      },
      "execution_count": 9,
      "outputs": []
    },
    {
      "cell_type": "markdown",
      "source": [
        "2-1) 1차원 tensor"
      ],
      "metadata": {
        "id": "W953vqhJpKMm"
      }
    },
    {
      "cell_type": "code",
      "source": [
        "t = torch.FloatTensor([0.,1.,2.,3.,4.,5.,6.])\n",
        "print(t)"
      ],
      "metadata": {
        "colab": {
          "base_uri": "https://localhost:8080/"
        },
        "id": "0Z_tOLNno1FX",
        "outputId": "f98dd3f9-9852-467f-a683-966f0f42e6b1"
      },
      "execution_count": 10,
      "outputs": [
        {
          "output_type": "stream",
          "name": "stdout",
          "text": [
            "tensor([0., 1., 2., 3., 4., 5., 6.])\n"
          ]
        }
      ]
    },
    {
      "cell_type": "code",
      "source": [
        "#dim은 rank(차원)\n",
        "\n",
        "#shape, size()는 tensor의 크기\n",
        "\n",
        "print(t.dim())\n",
        "print(t.shape)\n",
        "print(t.size())"
      ],
      "metadata": {
        "colab": {
          "base_uri": "https://localhost:8080/"
        },
        "id": "LorLvWfMpPfp",
        "outputId": "a10af0aa-b656-4534-de0d-341ba2407621"
      },
      "execution_count": 11,
      "outputs": [
        {
          "output_type": "stream",
          "name": "stdout",
          "text": [
            "1\n",
            "torch.Size([7])\n",
            "torch.Size([7])\n"
          ]
        }
      ]
    },
    {
      "cell_type": "code",
      "source": [
        "#인덱싱과 슬라이싱 가능\n",
        "\n",
        "print(t[0],t[1],t[-1]) #인덱싱\n",
        "print(t[2:5], t[4:-1]) #슬라이싱\n",
        "print(t[:2], t[3:]) #슬라이싱"
      ],
      "metadata": {
        "colab": {
          "base_uri": "https://localhost:8080/"
        },
        "id": "nyHIptrapZPw",
        "outputId": "027dee5b-2422-446c-fee7-fc0c52fbf0a1"
      },
      "execution_count": 12,
      "outputs": [
        {
          "output_type": "stream",
          "name": "stdout",
          "text": [
            "tensor(0.) tensor(1.) tensor(6.)\n",
            "tensor([2., 3., 4.]) tensor([4., 5.])\n",
            "tensor([0., 1.]) tensor([3., 4., 5., 6.])\n"
          ]
        }
      ]
    },
    {
      "cell_type": "code",
      "source": [],
      "metadata": {
        "id": "r06nGtiVp5nx"
      },
      "execution_count": 12,
      "outputs": []
    },
    {
      "cell_type": "markdown",
      "source": [
        "2-2) 2차원 tensor"
      ],
      "metadata": {
        "id": "61z_rjJ1qBls"
      }
    },
    {
      "cell_type": "code",
      "source": [
        "t = torch.FloatTensor([[1.,2.,3.], \n",
        "                       [4.,5.,6.],\n",
        "                       [7.,8.,9.],\n",
        "                       [10.,11.,12.]\n",
        "                       ])\n",
        "\n",
        "print(t)"
      ],
      "metadata": {
        "colab": {
          "base_uri": "https://localhost:8080/"
        },
        "id": "l4dsRjX1qCn6",
        "outputId": "179785e8-ad77-4a82-834a-afb204dfb52c"
      },
      "execution_count": 13,
      "outputs": [
        {
          "output_type": "stream",
          "name": "stdout",
          "text": [
            "tensor([[ 1.,  2.,  3.],\n",
            "        [ 4.,  5.,  6.],\n",
            "        [ 7.,  8.,  9.],\n",
            "        [10., 11., 12.]])\n"
          ]
        }
      ]
    },
    {
      "cell_type": "code",
      "source": [
        "#dim()으로 차원, size()로 shape(크기)\n",
        "\n",
        "print(t.dim()) #rank\n",
        "print(t.size()) #shape"
      ],
      "metadata": {
        "colab": {
          "base_uri": "https://localhost:8080/"
        },
        "id": "G8SEJ5LOqK1K",
        "outputId": "49ef6b78-4efb-4e3f-e498-ec69dfdca863"
      },
      "execution_count": 14,
      "outputs": [
        {
          "output_type": "stream",
          "name": "stdout",
          "text": [
            "2\n",
            "torch.Size([4, 3])\n"
          ]
        }
      ]
    },
    {
      "cell_type": "code",
      "source": [
        "#슬라이싱 가능\n",
        "print(t[:,1]) #첫번째 차원을 전체 선택한 상황에서 두번째 차원의 첫번째 것만 가져온다\n",
        "print(t[:,1].size())"
      ],
      "metadata": {
        "colab": {
          "base_uri": "https://localhost:8080/"
        },
        "id": "6Aiw8vgDqYrQ",
        "outputId": "16d9b596-cad9-4c08-fc6f-b4f0bc60972d"
      },
      "execution_count": 15,
      "outputs": [
        {
          "output_type": "stream",
          "name": "stdout",
          "text": [
            "tensor([ 2.,  5.,  8., 11.])\n",
            "torch.Size([4])\n"
          ]
        }
      ]
    },
    {
      "cell_type": "code",
      "source": [
        "print(t[:,:-1]) #첫번째 차원을 전체 선택한 상황에서, 두번째 차원에서는 맨 마지막에서 첫번째를 제외하고 다 가져온다"
      ],
      "metadata": {
        "colab": {
          "base_uri": "https://localhost:8080/"
        },
        "id": "s7Z2QmuVqnWc",
        "outputId": "c217da03-4f2a-4f9d-c47b-8aed643852ef"
      },
      "execution_count": 16,
      "outputs": [
        {
          "output_type": "stream",
          "name": "stdout",
          "text": [
            "tensor([[ 1.,  2.],\n",
            "        [ 4.,  5.],\n",
            "        [ 7.,  8.],\n",
            "        [10., 11.]])\n"
          ]
        }
      ]
    },
    {
      "cell_type": "code",
      "source": [],
      "metadata": {
        "id": "XYNj7iOLrE8K"
      },
      "execution_count": 16,
      "outputs": []
    },
    {
      "cell_type": "markdown",
      "source": [
        "# 3. broadcasting"
      ],
      "metadata": {
        "id": "oThQdmkZrWLZ"
      }
    },
    {
      "cell_type": "markdown",
      "source": [
        "3-1) 같은 크기일때"
      ],
      "metadata": {
        "id": "FIzE_4xtsUYS"
      }
    },
    {
      "cell_type": "code",
      "source": [
        "m1 = torch.FloatTensor([[3,3]])\n",
        "m2 = torch.FloatTensor([[2,2]])\n",
        "\n",
        "print(m1+m2)"
      ],
      "metadata": {
        "colab": {
          "base_uri": "https://localhost:8080/"
        },
        "id": "jX9h-1jNrXau",
        "outputId": "5a757bf7-0294-4c0f-eb2d-e6e7edd6861e"
      },
      "execution_count": 17,
      "outputs": [
        {
          "output_type": "stream",
          "name": "stdout",
          "text": [
            "tensor([[5., 5.]])\n"
          ]
        }
      ]
    },
    {
      "cell_type": "markdown",
      "source": [
        "3-2) 크기가 다를때"
      ],
      "metadata": {
        "id": "OyRZgP4Ms2In"
      }
    },
    {
      "cell_type": "code",
      "source": [
        "#vector + scalar\n",
        "\n",
        "m1 = torch.FloatTensor([[1,2]])\n",
        "m2 = torch.FloatTensor([3]) #[3] -> [3,3]\n",
        "\n",
        "print(m1+m2)"
      ],
      "metadata": {
        "colab": {
          "base_uri": "https://localhost:8080/"
        },
        "id": "Crc9I5hosaTK",
        "outputId": "74725230-30f3-4c48-a52a-6957046760da"
      },
      "execution_count": 18,
      "outputs": [
        {
          "output_type": "stream",
          "name": "stdout",
          "text": [
            "tensor([[4., 5.]])\n"
          ]
        }
      ]
    },
    {
      "cell_type": "code",
      "source": [],
      "metadata": {
        "id": "XSD2o4pas-B2"
      },
      "execution_count": 18,
      "outputs": []
    },
    {
      "cell_type": "markdown",
      "source": [
        "3-3) vector간 broadcasting"
      ],
      "metadata": {
        "id": "gDhmOrPZtNBN"
      }
    },
    {
      "cell_type": "code",
      "source": [
        "#2*1 vector + 1*2 vector\n",
        "\n",
        "m1 = torch.FloatTensor([[1,2]])\n",
        "m2 = torch.FloatTensor([[3],[4]])\n",
        "print(m1+m2)\n",
        "\n",
        "\"\"\"\n",
        "[1, 2]\n",
        "==> [[1, 2],\n",
        "     [1, 2]]\n",
        "[3]\n",
        "[4]\n",
        "==> [[3, 3],\n",
        "     [4, 4]]\n",
        "\"\"\""
      ],
      "metadata": {
        "colab": {
          "base_uri": "https://localhost:8080/",
          "height": 71
        },
        "id": "_IV1PgVptOvJ",
        "outputId": "019886fd-3c21-437d-c67c-37bdf599277e"
      },
      "execution_count": 19,
      "outputs": [
        {
          "output_type": "stream",
          "name": "stdout",
          "text": [
            "tensor([[4., 5.],\n",
            "        [5., 6.]])\n"
          ]
        },
        {
          "output_type": "execute_result",
          "data": {
            "text/plain": [
              "'\\n[1, 2]\\n==> [[1, 2],\\n     [1, 2]]\\n[3]\\n[4]\\n==> [[3, 3],\\n     [4, 4]]\\n'"
            ],
            "application/vnd.google.colaboratory.intrinsic+json": {
              "type": "string"
            }
          },
          "metadata": {},
          "execution_count": 19
        }
      ]
    },
    {
      "cell_type": "code",
      "source": [],
      "metadata": {
        "id": "bI9qFG2rtY5o"
      },
      "execution_count": 19,
      "outputs": []
    },
    {
      "cell_type": "markdown",
      "source": [
        "# 4. 자주 사용되는 기능"
      ],
      "metadata": {
        "id": "CEdrJDl2ua5N"
      }
    },
    {
      "cell_type": "markdown",
      "source": [
        "4-1) 행렬 곱셈(matmul)"
      ],
      "metadata": {
        "id": "Ffi9_KNkueoQ"
      }
    },
    {
      "cell_type": "code",
      "source": [
        "m1 = torch.FloatTensor([[1,2],[3,4]])\n",
        "m2 = torch.FloatTensor([[1],[2]])\n",
        "\n",
        "print('Shape of Matrix1: ', m1.shape) #2*2\n",
        "print('Shape of Matrix2: ', m2.shape) #2*1\n",
        "\n",
        "print(m1.matmul(m2)) #2*1\n"
      ],
      "metadata": {
        "colab": {
          "base_uri": "https://localhost:8080/"
        },
        "id": "dXkTL2jWueIi",
        "outputId": "f8cb0169-1788-4083-fb15-4b20158fb341"
      },
      "execution_count": 20,
      "outputs": [
        {
          "output_type": "stream",
          "name": "stdout",
          "text": [
            "Shape of Matrix1:  torch.Size([2, 2])\n",
            "Shape of Matrix2:  torch.Size([2, 1])\n",
            "tensor([[ 5.],\n",
            "        [11.]])\n"
          ]
        }
      ]
    },
    {
      "cell_type": "code",
      "source": [],
      "metadata": {
        "id": "op_7FkP5uved"
      },
      "execution_count": 20,
      "outputs": []
    },
    {
      "cell_type": "markdown",
      "source": [
        "4-2) elementwise product"
      ],
      "metadata": {
        "id": "cRYf-V4nuxyn"
      }
    },
    {
      "cell_type": "code",
      "source": [
        "m1 = torch.FloatTensor([[1,2],[3,4]])\n",
        "m2 = torch.FloatTensor([[1],[2]])\n",
        "\n",
        "print('Shape of Matrix 1: ', m1.shape) #2*2\n",
        "print('Shape of Matrix 2: ', m2.shape) #2*1\n",
        "\n",
        "print(m1 * m2) #2*2\n",
        "print(m1.mul(m2))\n",
        "\n",
        "\"\"\"\n",
        "# 브로드캐스팅 과정에서 m2 텐서가 어떻게 변경되는지 보겠습니다.\n",
        "[1]\n",
        "[2]\n",
        "==> [[1, 1],\n",
        "     [2, 2]]\n",
        "\"\"\""
      ],
      "metadata": {
        "colab": {
          "base_uri": "https://localhost:8080/",
          "height": 144
        },
        "id": "GxlUECyOu0ND",
        "outputId": "4ce838cb-64e4-4968-f7e4-5bf505d54aa1"
      },
      "execution_count": 21,
      "outputs": [
        {
          "output_type": "stream",
          "name": "stdout",
          "text": [
            "Shape of Matrix 1:  torch.Size([2, 2])\n",
            "Shape of Matrix 2:  torch.Size([2, 1])\n",
            "tensor([[1., 2.],\n",
            "        [6., 8.]])\n",
            "tensor([[1., 2.],\n",
            "        [6., 8.]])\n"
          ]
        },
        {
          "output_type": "execute_result",
          "data": {
            "text/plain": [
              "'\\n# 브로드캐스팅 과정에서 m2 텐서가 어떻게 변경되는지 보겠습니다.\\n[1]\\n[2]\\n==> [[1, 1],\\n     [2, 2]]\\n'"
            ],
            "application/vnd.google.colaboratory.intrinsic+json": {
              "type": "string"
            }
          },
          "metadata": {},
          "execution_count": 21
        }
      ]
    },
    {
      "cell_type": "markdown",
      "source": [
        "4-3) 평균"
      ],
      "metadata": {
        "id": "LpNWnolhvf04"
      }
    },
    {
      "cell_type": "code",
      "source": [
        "#1차원\n",
        "t = torch.FloatTensor([1,2])\n",
        "print(t.mean())"
      ],
      "metadata": {
        "colab": {
          "base_uri": "https://localhost:8080/"
        },
        "id": "RVz2CG1svCpc",
        "outputId": "2f03e874-9b4c-49a2-a09e-7066f48b3187"
      },
      "execution_count": 22,
      "outputs": [
        {
          "output_type": "stream",
          "name": "stdout",
          "text": [
            "tensor(1.5000)\n"
          ]
        }
      ]
    },
    {
      "cell_type": "code",
      "source": [
        "#2차원\n",
        "t = torch.FloatTensor([[1,2],[3,4]])\n",
        "print(t)\n",
        "print(t.mean())"
      ],
      "metadata": {
        "colab": {
          "base_uri": "https://localhost:8080/"
        },
        "id": "emVnLb4XvkqO",
        "outputId": "55602199-ee13-4dc2-fdbd-dff181bcc600"
      },
      "execution_count": 23,
      "outputs": [
        {
          "output_type": "stream",
          "name": "stdout",
          "text": [
            "tensor([[1., 2.],\n",
            "        [3., 4.]])\n",
            "tensor(2.5000)\n"
          ]
        }
      ]
    },
    {
      "cell_type": "code",
      "source": [
        "#차원을 인자로\n",
        "#열방향 평균\n",
        "print(t.mean(dim=0))\n",
        "\n",
        "\"\"\"\n",
        "# 실제 연산 과정\n",
        "t.mean(dim=0)은 입력에서 첫번째 차원을 제거한다.\n",
        "\n",
        "[[1., 2.],\n",
        " [3., 4.]]\n",
        "\n",
        "1과 3의 평균을 구하고, 2와 4의 평균을 구한다.\n",
        "결과 ==> [2., 3.]\n",
        "\"\"\""
      ],
      "metadata": {
        "colab": {
          "base_uri": "https://localhost:8080/",
          "height": 53
        },
        "id": "Si1bzohbvsOm",
        "outputId": "9a90a2d7-e328-41f2-d787-a1d72b3b61fe"
      },
      "execution_count": 24,
      "outputs": [
        {
          "output_type": "stream",
          "name": "stdout",
          "text": [
            "tensor([2., 3.])\n"
          ]
        },
        {
          "output_type": "execute_result",
          "data": {
            "text/plain": [
              "'\\n# 실제 연산 과정\\nt.mean(dim=0)은 입력에서 첫번째 차원을 제거한다.\\n\\n[[1., 2.],\\n [3., 4.]]\\n\\n1과 3의 평균을 구하고, 2와 4의 평균을 구한다.\\n결과 ==> [2., 3.]\\n'"
            ],
            "application/vnd.google.colaboratory.intrinsic+json": {
              "type": "string"
            }
          },
          "metadata": {},
          "execution_count": 24
        }
      ]
    },
    {
      "cell_type": "code",
      "source": [
        "#행방향 평균\n",
        "\n",
        "print(t.mean(dim=1))"
      ],
      "metadata": {
        "colab": {
          "base_uri": "https://localhost:8080/"
        },
        "id": "g3F0DFGavwsR",
        "outputId": "c24a73c2-d915-46ed-e61c-acb6c9da2d89"
      },
      "execution_count": 25,
      "outputs": [
        {
          "output_type": "stream",
          "name": "stdout",
          "text": [
            "tensor([1.5000, 3.5000])\n"
          ]
        }
      ]
    },
    {
      "cell_type": "code",
      "source": [
        "#dim = -1\n",
        "\n",
        "#마지막 차원인 열을 제거\n",
        "#즉, 행방향으로 평균\n",
        "\n",
        "print(t.mean(dim = -1))"
      ],
      "metadata": {
        "colab": {
          "base_uri": "https://localhost:8080/"
        },
        "id": "z-X_T7-twjus",
        "outputId": "e7d96364-834c-4232-ed6c-25d24dd1009f"
      },
      "execution_count": 26,
      "outputs": [
        {
          "output_type": "stream",
          "name": "stdout",
          "text": [
            "tensor([1.5000, 3.5000])\n"
          ]
        }
      ]
    },
    {
      "cell_type": "code",
      "source": [],
      "metadata": {
        "id": "3FPH-F_lxDQU"
      },
      "execution_count": 26,
      "outputs": []
    },
    {
      "cell_type": "markdown",
      "source": [
        "4-4) 덧셈"
      ],
      "metadata": {
        "id": "-UvHesZhxNWW"
      }
    },
    {
      "cell_type": "code",
      "source": [
        "t = torch.FloatTensor([[1,2],[3,4]])\n",
        "print(t)"
      ],
      "metadata": {
        "colab": {
          "base_uri": "https://localhost:8080/"
        },
        "id": "e0ArbtDsxOKH",
        "outputId": "36bcfaf1-9f51-4578-f503-0a6fb28e5aac"
      },
      "execution_count": 27,
      "outputs": [
        {
          "output_type": "stream",
          "name": "stdout",
          "text": [
            "tensor([[1., 2.],\n",
            "        [3., 4.]])\n"
          ]
        }
      ]
    },
    {
      "cell_type": "code",
      "source": [
        "print(t.sum()) #단순히 원소 전체의 덧셈을 수행\n",
        "print(t.sum(dim = 0)) #행을 제거\n",
        "print(t.sum(dim = 1)) #열을 제거\n",
        "print(t.sum(dim = -1)) #열을 제거"
      ],
      "metadata": {
        "colab": {
          "base_uri": "https://localhost:8080/"
        },
        "id": "pE7AGdVoxQrM",
        "outputId": "e4800377-8a50-42be-f514-73d1ef6d9d4f"
      },
      "execution_count": 28,
      "outputs": [
        {
          "output_type": "stream",
          "name": "stdout",
          "text": [
            "tensor(10.)\n",
            "tensor([4., 6.])\n",
            "tensor([3., 7.])\n",
            "tensor([3., 7.])\n"
          ]
        }
      ]
    },
    {
      "cell_type": "code",
      "source": [],
      "metadata": {
        "id": "BjMswqv2xmWS"
      },
      "execution_count": 28,
      "outputs": []
    },
    {
      "cell_type": "markdown",
      "source": [
        "4-5) max와 argmax"
      ],
      "metadata": {
        "id": "pXuq20M8x2Jb"
      }
    },
    {
      "cell_type": "code",
      "source": [
        "t = torch.FloatTensor([[1,2],[3,4]])\n",
        "print(t)"
      ],
      "metadata": {
        "colab": {
          "base_uri": "https://localhost:8080/"
        },
        "id": "Vz4K-nJax4bK",
        "outputId": "1a3c9a1e-f845-446d-8c20-b10da801a1c6"
      },
      "execution_count": 29,
      "outputs": [
        {
          "output_type": "stream",
          "name": "stdout",
          "text": [
            "tensor([[1., 2.],\n",
            "        [3., 4.]])\n"
          ]
        }
      ]
    },
    {
      "cell_type": "code",
      "source": [
        "#.max()는 원소들의 최댓값\n",
        "print(t.max())"
      ],
      "metadata": {
        "colab": {
          "base_uri": "https://localhost:8080/"
        },
        "id": "gqzkwYQ0x7Hu",
        "outputId": "8ce71679-a5d5-4aa6-e315-0fa65c1f7551"
      },
      "execution_count": 30,
      "outputs": [
        {
          "output_type": "stream",
          "name": "stdout",
          "text": [
            "tensor(4.)\n"
          ]
        }
      ]
    },
    {
      "cell_type": "code",
      "source": [
        "#dim연산 가능\n",
        "\n",
        "print(t.max(dim = 0))"
      ],
      "metadata": {
        "colab": {
          "base_uri": "https://localhost:8080/"
        },
        "id": "95SSFegNyAh2",
        "outputId": "f792df24-8025-4da9-fbfd-7343377c0f75"
      },
      "execution_count": 31,
      "outputs": [
        {
          "output_type": "stream",
          "name": "stdout",
          "text": [
            "torch.return_types.max(\n",
            "values=tensor([3., 4.]),\n",
            "indices=tensor([1, 1]))\n"
          ]
        }
      ]
    },
    {
      "cell_type": "code",
      "source": [
        "#인덱싱으로 max와 argmax를 가져온다\n",
        "\n",
        "print('Max: ', t.max(dim=0)[0])\n",
        "print('Argmax: ', t.max(dim=0)[1])"
      ],
      "metadata": {
        "colab": {
          "base_uri": "https://localhost:8080/"
        },
        "id": "nqFevNMXyDm7",
        "outputId": "45560cb9-2fa7-43b6-e68c-bb1a339fa3ce"
      },
      "execution_count": 32,
      "outputs": [
        {
          "output_type": "stream",
          "name": "stdout",
          "text": [
            "Max:  tensor([3., 4.])\n",
            "Argmax:  tensor([1, 1])\n"
          ]
        }
      ]
    },
    {
      "cell_type": "code",
      "source": [
        "#argmax\n",
        "\n",
        "print(t.argmax(dim=0))"
      ],
      "metadata": {
        "colab": {
          "base_uri": "https://localhost:8080/"
        },
        "id": "8ZKLLfJh0DS1",
        "outputId": "d0a97974-b789-4973-bd7e-23107f281d6f"
      },
      "execution_count": 33,
      "outputs": [
        {
          "output_type": "stream",
          "name": "stdout",
          "text": [
            "tensor([1, 1])\n"
          ]
        }
      ]
    },
    {
      "cell_type": "code",
      "source": [
        "print(t.max(dim = 1))\n",
        "print(t.max(dim = -1))"
      ],
      "metadata": {
        "colab": {
          "base_uri": "https://localhost:8080/"
        },
        "id": "azS4HZDSz9lc",
        "outputId": "6453a2dd-c1e0-4094-8334-bdd7d9fbfc23"
      },
      "execution_count": 34,
      "outputs": [
        {
          "output_type": "stream",
          "name": "stdout",
          "text": [
            "torch.return_types.max(\n",
            "values=tensor([2., 4.]),\n",
            "indices=tensor([1, 1]))\n",
            "torch.return_types.max(\n",
            "values=tensor([2., 4.]),\n",
            "indices=tensor([1, 1]))\n"
          ]
        }
      ]
    },
    {
      "cell_type": "code",
      "source": [],
      "metadata": {
        "id": "Ka8DSPOH0A51"
      },
      "execution_count": 34,
      "outputs": []
    },
    {
      "cell_type": "markdown",
      "source": [
        "# 5. 심화 기능"
      ],
      "metadata": {
        "id": "kJxCldsRbBbb"
      }
    },
    {
      "cell_type": "markdown",
      "source": [
        "5-1) view"
      ],
      "metadata": {
        "id": "2ElgHpXLbD8s"
      }
    },
    {
      "cell_type": "code",
      "source": [
        "t = np.array([[[0,1,2],\n",
        "               [3,4,5]],\n",
        "              [[6,7,8],\n",
        "               [9,10,11]]])\n",
        "\n",
        "ft = torch.FloatTensor(t)"
      ],
      "metadata": {
        "id": "1mQ7rd0FbCmG"
      },
      "execution_count": 35,
      "outputs": []
    },
    {
      "cell_type": "code",
      "source": [
        "print(ft.shape)"
      ],
      "metadata": {
        "colab": {
          "base_uri": "https://localhost:8080/"
        },
        "id": "deGekOfZea03",
        "outputId": "144d95a1-9425-471f-d238-8824c3ee8036"
      },
      "execution_count": 36,
      "outputs": [
        {
          "output_type": "stream",
          "name": "stdout",
          "text": [
            "torch.Size([2, 2, 3])\n"
          ]
        }
      ]
    },
    {
      "cell_type": "code",
      "source": [
        "print(ft.view([-1,3])) #ft라는 텐서를 (?,3)의 크기로 변경\n",
        "\n",
        "print(ft.view([-1,3]).shape)"
      ],
      "metadata": {
        "colab": {
          "base_uri": "https://localhost:8080/"
        },
        "id": "ZgBZ_0JaeczL",
        "outputId": "2adb9f9c-f003-4920-cd43-a9e82ca50054"
      },
      "execution_count": 37,
      "outputs": [
        {
          "output_type": "stream",
          "name": "stdout",
          "text": [
            "tensor([[ 0.,  1.,  2.],\n",
            "        [ 3.,  4.,  5.],\n",
            "        [ 6.,  7.,  8.],\n",
            "        [ 9., 10., 11.]])\n",
            "torch.Size([4, 3])\n"
          ]
        }
      ]
    },
    {
      "cell_type": "code",
      "source": [
        "print(ft.view([-1,1,3]))\n",
        "print(ft.view([-1,1,3]).shape)"
      ],
      "metadata": {
        "colab": {
          "base_uri": "https://localhost:8080/"
        },
        "id": "P17c9zrOewwt",
        "outputId": "56cb96c5-9266-4fac-af83-8c13bb55245b"
      },
      "execution_count": 38,
      "outputs": [
        {
          "output_type": "stream",
          "name": "stdout",
          "text": [
            "tensor([[[ 0.,  1.,  2.]],\n",
            "\n",
            "        [[ 3.,  4.,  5.]],\n",
            "\n",
            "        [[ 6.,  7.,  8.]],\n",
            "\n",
            "        [[ 9., 10., 11.]]])\n",
            "torch.Size([4, 1, 3])\n"
          ]
        }
      ]
    },
    {
      "cell_type": "code",
      "source": [],
      "metadata": {
        "id": "-_-dAXk5gWrW"
      },
      "execution_count": 38,
      "outputs": []
    },
    {
      "cell_type": "markdown",
      "source": [
        "5-2) squeeze"
      ],
      "metadata": {
        "id": "jhYHbuVAgrF_"
      }
    },
    {
      "cell_type": "code",
      "source": [
        "ft = torch.FloatTensor([[0],[1],[2]])\n",
        "\n",
        "print(ft)\n",
        "\n",
        "print(ft.shape)"
      ],
      "metadata": {
        "colab": {
          "base_uri": "https://localhost:8080/"
        },
        "id": "8zKigs35gr9e",
        "outputId": "35bdc3f6-36c7-40f8-f80f-54c2d7efc8b4"
      },
      "execution_count": 39,
      "outputs": [
        {
          "output_type": "stream",
          "name": "stdout",
          "text": [
            "tensor([[0.],\n",
            "        [1.],\n",
            "        [2.]])\n",
            "torch.Size([3, 1])\n"
          ]
        }
      ]
    },
    {
      "cell_type": "code",
      "source": [
        "print(ft.squeeze())\n",
        "print(ft.squeeze().shape)"
      ],
      "metadata": {
        "id": "3qDsDTlPgwiG",
        "colab": {
          "base_uri": "https://localhost:8080/"
        },
        "outputId": "c03ea9c2-ff4f-47ed-dcaa-dfc1e50b2403"
      },
      "execution_count": 40,
      "outputs": [
        {
          "output_type": "stream",
          "name": "stdout",
          "text": [
            "tensor([0., 1., 2.])\n",
            "torch.Size([3])\n"
          ]
        }
      ]
    },
    {
      "cell_type": "code",
      "source": [],
      "metadata": {
        "id": "Ygwqytf8ALZt"
      },
      "execution_count": null,
      "outputs": []
    },
    {
      "cell_type": "markdown",
      "source": [
        "5-3) unsqueeze"
      ],
      "metadata": {
        "id": "5ly0004BAYrr"
      }
    },
    {
      "cell_type": "code",
      "source": [
        "ft = torch.Tensor([0,1,2])\n",
        "print(ft.shape)"
      ],
      "metadata": {
        "colab": {
          "base_uri": "https://localhost:8080/"
        },
        "id": "mrMQcyzAAaga",
        "outputId": "e4263b6a-f3ba-49c9-c3f6-04048321ba93"
      },
      "execution_count": 41,
      "outputs": [
        {
          "output_type": "stream",
          "name": "stdout",
          "text": [
            "torch.Size([3])\n"
          ]
        }
      ]
    },
    {
      "cell_type": "code",
      "source": [
        "print(ft.unsqueeze(0)) #인덱스 0은 첫번째 차원을 의미\n",
        "print(ft.unsqueeze(0).shape)"
      ],
      "metadata": {
        "colab": {
          "base_uri": "https://localhost:8080/"
        },
        "id": "uTS9XZPEAdCu",
        "outputId": "c114e4ae-28b2-4fd0-f435-42b1e3234a17"
      },
      "execution_count": 42,
      "outputs": [
        {
          "output_type": "stream",
          "name": "stdout",
          "text": [
            "tensor([[0., 1., 2.]])\n",
            "torch.Size([1, 3])\n"
          ]
        }
      ]
    },
    {
      "cell_type": "code",
      "source": [
        "#view를 이용해 unsqueeze를 구현할 수 있다\n",
        "\n",
        "print(ft.view(1,-1))\n",
        "print(ft.view(1,-1).shape)"
      ],
      "metadata": {
        "colab": {
          "base_uri": "https://localhost:8080/"
        },
        "id": "EWELVsPzAzHX",
        "outputId": "5dc3b5a8-88c0-4db1-93e6-1ab7b1e1d871"
      },
      "execution_count": 43,
      "outputs": [
        {
          "output_type": "stream",
          "name": "stdout",
          "text": [
            "tensor([[0., 1., 2.]])\n",
            "torch.Size([1, 3])\n"
          ]
        }
      ]
    },
    {
      "cell_type": "code",
      "source": [
        "print(ft.unsqueeze(1))\n",
        "print(ft.unsqueeze(1).shape)"
      ],
      "metadata": {
        "colab": {
          "base_uri": "https://localhost:8080/"
        },
        "id": "jGck_93JBKAM",
        "outputId": "f3cc9bae-cc8d-4655-d7cd-a847b2f56577"
      },
      "execution_count": 44,
      "outputs": [
        {
          "output_type": "stream",
          "name": "stdout",
          "text": [
            "tensor([[0.],\n",
            "        [1.],\n",
            "        [2.]])\n",
            "torch.Size([3, 1])\n"
          ]
        }
      ]
    },
    {
      "cell_type": "code",
      "source": [
        "#-1은 인덱스로 마지막 위치를 나타내므로, 마지막 차원에 1을 추가\n",
        "\n",
        "print(ft.unsqueeze(-1))\n",
        "print(ft.unsqueeze(-1).shape)"
      ],
      "metadata": {
        "colab": {
          "base_uri": "https://localhost:8080/"
        },
        "id": "NqKHiFBGBa4V",
        "outputId": "16906601-1d77-4eba-a574-ef65f36a3255"
      },
      "execution_count": 45,
      "outputs": [
        {
          "output_type": "stream",
          "name": "stdout",
          "text": [
            "tensor([[0.],\n",
            "        [1.],\n",
            "        [2.]])\n",
            "torch.Size([3, 1])\n"
          ]
        }
      ]
    },
    {
      "cell_type": "code",
      "source": [],
      "metadata": {
        "id": "38OPyxlBBr7C"
      },
      "execution_count": null,
      "outputs": []
    },
    {
      "cell_type": "markdown",
      "source": [
        "# 6. type casting"
      ],
      "metadata": {
        "id": "KGH1N2OnC99b"
      }
    },
    {
      "cell_type": "code",
      "source": [
        "lt = torch.LongTensor([1,2,3,4])\n",
        "print(lt)"
      ],
      "metadata": {
        "colab": {
          "base_uri": "https://localhost:8080/"
        },
        "id": "eXifHAQfC_LU",
        "outputId": "085c301f-5d40-4b50-f66f-1d1689295cc7"
      },
      "execution_count": 46,
      "outputs": [
        {
          "output_type": "stream",
          "name": "stdout",
          "text": [
            "tensor([1, 2, 3, 4])\n"
          ]
        }
      ]
    },
    {
      "cell_type": "code",
      "source": [
        "#.float()하면 float tensor로 변경\n",
        "\n",
        "print(lt.float())"
      ],
      "metadata": {
        "colab": {
          "base_uri": "https://localhost:8080/"
        },
        "id": "W6JQi0NLDCGJ",
        "outputId": "ea8c12bc-4497-466b-d1e5-439043f6e607"
      },
      "execution_count": 47,
      "outputs": [
        {
          "output_type": "stream",
          "name": "stdout",
          "text": [
            "tensor([1., 2., 3., 4.])\n"
          ]
        }
      ]
    },
    {
      "cell_type": "code",
      "source": [
        "bt = torch.ByteTensor([True, False, False, True])\n",
        "print(bt)"
      ],
      "metadata": {
        "colab": {
          "base_uri": "https://localhost:8080/"
        },
        "id": "le16CVFuDQCU",
        "outputId": "5a932e35-0b12-49ac-f190-d9f945b50f84"
      },
      "execution_count": 48,
      "outputs": [
        {
          "output_type": "stream",
          "name": "stdout",
          "text": [
            "tensor([1, 0, 0, 1], dtype=torch.uint8)\n"
          ]
        }
      ]
    },
    {
      "cell_type": "code",
      "source": [
        "#.long()하면 long 타입의 tensor가 되고\n",
        "#.float()하면 float 타입의 tensor가 된다\n",
        "\n",
        "print(bt.long())\n",
        "print(bt.float())"
      ],
      "metadata": {
        "colab": {
          "base_uri": "https://localhost:8080/"
        },
        "id": "9KFxflDfDaH2",
        "outputId": "36fedb9a-37a2-4489-dd92-82c9ccce0c2b"
      },
      "execution_count": 49,
      "outputs": [
        {
          "output_type": "stream",
          "name": "stdout",
          "text": [
            "tensor([1, 0, 0, 1])\n",
            "tensor([1., 0., 0., 1.])\n"
          ]
        }
      ]
    },
    {
      "cell_type": "code",
      "source": [],
      "metadata": {
        "id": "rJOfKNc2Dss0"
      },
      "execution_count": null,
      "outputs": []
    },
    {
      "cell_type": "markdown",
      "source": [
        "# 7. concatenate"
      ],
      "metadata": {
        "id": "DF7jEOyZD9Bl"
      }
    },
    {
      "cell_type": "code",
      "source": [
        "x = torch.FloatTensor([[1,2],[3,4]])\n",
        "y = torch.FloatTensor([[5,6],[7,8]])"
      ],
      "metadata": {
        "id": "nB0Q8seGD-cw"
      },
      "execution_count": 50,
      "outputs": []
    },
    {
      "cell_type": "code",
      "source": [
        "print(x)"
      ],
      "metadata": {
        "colab": {
          "base_uri": "https://localhost:8080/"
        },
        "id": "6PcAzK-CEWds",
        "outputId": "49f62b07-ec8d-4dca-8820-bf27d220c5c9"
      },
      "execution_count": 52,
      "outputs": [
        {
          "output_type": "stream",
          "name": "stdout",
          "text": [
            "tensor([[1., 2.],\n",
            "        [3., 4.]])\n"
          ]
        }
      ]
    },
    {
      "cell_type": "code",
      "source": [
        "print(y)"
      ],
      "metadata": {
        "colab": {
          "base_uri": "https://localhost:8080/"
        },
        "id": "NdmIMV1oEXZV",
        "outputId": "f7c749d0-ed02-46ed-a184-8e4fc0719dae"
      },
      "execution_count": 53,
      "outputs": [
        {
          "output_type": "stream",
          "name": "stdout",
          "text": [
            "tensor([[5., 6.],\n",
            "        [7., 8.]])\n"
          ]
        }
      ]
    },
    {
      "cell_type": "code",
      "source": [
        "#dim = 0은 첫번째 차원을 기준으로 연결\n",
        "\n",
        "print(torch.cat([x,y],dim=0))"
      ],
      "metadata": {
        "colab": {
          "base_uri": "https://localhost:8080/"
        },
        "id": "a-pFgb8VEFRu",
        "outputId": "923fae9f-d155-4d75-8fa6-7b6b8a7b83fd"
      },
      "execution_count": 51,
      "outputs": [
        {
          "output_type": "stream",
          "name": "stdout",
          "text": [
            "tensor([[1., 2.],\n",
            "        [3., 4.],\n",
            "        [5., 6.],\n",
            "        [7., 8.]])\n"
          ]
        }
      ]
    },
    {
      "cell_type": "code",
      "source": [
        "#dim = 1은 두번째 차원을 기준으로 연결\n",
        "\n",
        "print(torch.cat([x,y],dim=1))"
      ],
      "metadata": {
        "colab": {
          "base_uri": "https://localhost:8080/"
        },
        "id": "f3gEv8lGEVOF",
        "outputId": "e2d13aea-e55c-4a81-b1a8-7fba21d048fb"
      },
      "execution_count": 54,
      "outputs": [
        {
          "output_type": "stream",
          "name": "stdout",
          "text": [
            "tensor([[1., 2., 5., 6.],\n",
            "        [3., 4., 7., 8.]])\n"
          ]
        }
      ]
    },
    {
      "cell_type": "code",
      "source": [],
      "metadata": {
        "id": "KhC7abNwEv7b"
      },
      "execution_count": null,
      "outputs": []
    },
    {
      "cell_type": "markdown",
      "source": [
        "# 8. stacking"
      ],
      "metadata": {
        "id": "MR0XAtO8FIxo"
      }
    },
    {
      "cell_type": "code",
      "source": [
        "x = torch.FloatTensor([1,4])\n",
        "y = torch.FloatTensor([2,5])\n",
        "z = torch.FloatTensor([3,6])\n",
        "\n",
        "print(x)\n",
        "print(y)\n",
        "print(z)"
      ],
      "metadata": {
        "colab": {
          "base_uri": "https://localhost:8080/"
        },
        "id": "eVq9Gu3UFJoe",
        "outputId": "5c03a077-5ad8-4f5a-c2f9-2f582adf14f9"
      },
      "execution_count": 55,
      "outputs": [
        {
          "output_type": "stream",
          "name": "stdout",
          "text": [
            "tensor([1., 4.])\n",
            "tensor([2., 5.])\n",
            "tensor([3., 6.])\n"
          ]
        }
      ]
    },
    {
      "cell_type": "code",
      "source": [
        "#torch.stack()을 이용해 3개의 벡터를 stacking\n",
        "\n",
        "print(torch.stack([x,y,z]))"
      ],
      "metadata": {
        "colab": {
          "base_uri": "https://localhost:8080/"
        },
        "id": "KQa7gRBBFQJn",
        "outputId": "f9012bc8-2e41-4466-b5f4-6f79bf073a4e"
      },
      "execution_count": 56,
      "outputs": [
        {
          "output_type": "stream",
          "name": "stdout",
          "text": [
            "tensor([[1., 4.],\n",
            "        [2., 5.],\n",
            "        [3., 6.]])\n"
          ]
        }
      ]
    },
    {
      "cell_type": "code",
      "source": [
        "#stacking은 cat에 unsqueeze를 동시에 써야 구현가능하다\n",
        "\n",
        "print(torch.cat([x.unsqueeze(0), y.unsqueeze(0), z.unsqueeze(0)], dim = 0))"
      ],
      "metadata": {
        "colab": {
          "base_uri": "https://localhost:8080/"
        },
        "id": "ZKBTka1LFiE3",
        "outputId": "41d0fe00-1570-4585-aa46-3f346a1988c9"
      },
      "execution_count": 57,
      "outputs": [
        {
          "output_type": "stream",
          "name": "stdout",
          "text": [
            "tensor([[1., 4.],\n",
            "        [2., 5.],\n",
            "        [3., 6.]])\n"
          ]
        }
      ]
    },
    {
      "cell_type": "code",
      "source": [
        "#dim = 1을 주면 두번째 차원을 기준으로 stacking해준다\n",
        "\n",
        "print(torch.stack([x,y,z],dim = 1))"
      ],
      "metadata": {
        "colab": {
          "base_uri": "https://localhost:8080/"
        },
        "id": "zGwwLnZ6GDUw",
        "outputId": "81184419-b7d4-4a1f-e8cb-7da340379017"
      },
      "execution_count": 58,
      "outputs": [
        {
          "output_type": "stream",
          "name": "stdout",
          "text": [
            "tensor([[1., 2., 3.],\n",
            "        [4., 5., 6.]])\n"
          ]
        }
      ]
    },
    {
      "cell_type": "code",
      "source": [],
      "metadata": {
        "id": "uxJ7VQlNGbma"
      },
      "execution_count": null,
      "outputs": []
    },
    {
      "cell_type": "markdown",
      "source": [
        "# 9. ones_like, zeros_like"
      ],
      "metadata": {
        "id": "aYMqvdjpGysJ"
      }
    },
    {
      "cell_type": "code",
      "source": [
        "x = torch.FloatTensor([[0,1,2],[2,1,0]])\n",
        "\n",
        "print(x)"
      ],
      "metadata": {
        "colab": {
          "base_uri": "https://localhost:8080/"
        },
        "id": "OfrhAqMcG0dv",
        "outputId": "8a518178-1edb-4b16-f0fe-46ed024b30a8"
      },
      "execution_count": 59,
      "outputs": [
        {
          "output_type": "stream",
          "name": "stdout",
          "text": [
            "tensor([[0., 1., 2.],\n",
            "        [2., 1., 0.]])\n"
          ]
        }
      ]
    },
    {
      "cell_type": "code",
      "source": [
        "#ones_like는 동일한 크기를 가지면서 모든 원소를 1로 채운다\n",
        "\n",
        "print(torch.ones_like(x))"
      ],
      "metadata": {
        "colab": {
          "base_uri": "https://localhost:8080/"
        },
        "id": "CVBrXBvDG3gx",
        "outputId": "7b2c2e40-f830-4e0d-9888-6b7123082db9"
      },
      "execution_count": 60,
      "outputs": [
        {
          "output_type": "stream",
          "name": "stdout",
          "text": [
            "tensor([[1., 1., 1.],\n",
            "        [1., 1., 1.]])\n"
          ]
        }
      ]
    },
    {
      "cell_type": "code",
      "source": [
        "#zeros_like를 하면 동일한 크기이면서 모든 원소를 0으로 채운다\n",
        "\n",
        "print(torch.zeros_like(x))"
      ],
      "metadata": {
        "colab": {
          "base_uri": "https://localhost:8080/"
        },
        "id": "q6xZNMtTHDZL",
        "outputId": "366e91b0-6cc7-4dc4-c19c-5ed1269b1fb6"
      },
      "execution_count": 61,
      "outputs": [
        {
          "output_type": "stream",
          "name": "stdout",
          "text": [
            "tensor([[0., 0., 0.],\n",
            "        [0., 0., 0.]])\n"
          ]
        }
      ]
    },
    {
      "cell_type": "code",
      "source": [],
      "metadata": {
        "id": "X7T-HVjuHNK5"
      },
      "execution_count": null,
      "outputs": []
    },
    {
      "cell_type": "markdown",
      "source": [
        "# 10. in-place"
      ],
      "metadata": {
        "id": "Mn8fOwnxHchs"
      }
    },
    {
      "cell_type": "code",
      "source": [
        "x = torch.FloatTensor([[1,2],[3,4]])\n",
        "print(x)"
      ],
      "metadata": {
        "colab": {
          "base_uri": "https://localhost:8080/"
        },
        "id": "z03yQG8uHdli",
        "outputId": "f95c9159-164d-49b5-8e7d-3b4ab79f8e9b"
      },
      "execution_count": 62,
      "outputs": [
        {
          "output_type": "stream",
          "name": "stdout",
          "text": [
            "tensor([[1., 2.],\n",
            "        [3., 4.]])\n"
          ]
        }
      ]
    },
    {
      "cell_type": "code",
      "source": [
        "#x의 각 원소에 2를 곱한 결과와 x를 출력\n",
        "\n",
        "print(x.mul(2.))\n",
        "print(x)"
      ],
      "metadata": {
        "colab": {
          "base_uri": "https://localhost:8080/"
        },
        "id": "DP8KrRrzHgII",
        "outputId": "c7b7eb6a-fc55-404e-a03d-3440dfe2a9bb"
      },
      "execution_count": 63,
      "outputs": [
        {
          "output_type": "stream",
          "name": "stdout",
          "text": [
            "tensor([[2., 4.],\n",
            "        [6., 8.]])\n",
            "tensor([[1., 2.],\n",
            "        [3., 4.]])\n"
          ]
        }
      ]
    },
    {
      "cell_type": "code",
      "source": [
        "#연산 뒤에 _을 붙이면 기존 x에 덮어쓰기 해준다\n",
        "\n",
        "print(x.mul_(2.))\n",
        "print(x)"
      ],
      "metadata": {
        "colab": {
          "base_uri": "https://localhost:8080/"
        },
        "id": "fzBDlDldHrPL",
        "outputId": "25cda36d-11ee-4eaf-c52b-acc9a14911fc"
      },
      "execution_count": 64,
      "outputs": [
        {
          "output_type": "stream",
          "name": "stdout",
          "text": [
            "tensor([[2., 4.],\n",
            "        [6., 8.]])\n",
            "tensor([[2., 4.],\n",
            "        [6., 8.]])\n"
          ]
        }
      ]
    },
    {
      "cell_type": "code",
      "source": [],
      "metadata": {
        "id": "JLyzamWEH7ke"
      },
      "execution_count": null,
      "outputs": []
    }
  ]
}
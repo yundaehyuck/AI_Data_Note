{
  "nbformat": 4,
  "nbformat_minor": 0,
  "metadata": {
    "colab": {
      "name": "PonderNet.ipynb",
      "provenance": [],
      "collapsed_sections": []
    },
    "kernelspec": {
      "name": "python3",
      "display_name": "Python 3"
    },
    "language_info": {
      "name": "python"
    }
  },
  "cells": [
    {
      "cell_type": "markdown",
      "metadata": {
        "id": "IAMsFo6wavAA"
      },
      "source": [
        "## reference \n",
        "\n",
        "1) https://github.com/labmlai/annotated_deep_learning_paper_implementations\n",
        "\n",
        "2) https://github.com/labmlai/labml"
      ]
    },
    {
      "cell_type": "markdown",
      "metadata": {
        "id": "m8j5Utu1g3Fl"
      },
      "source": [
        "##prepare library"
      ]
    },
    {
      "cell_type": "code",
      "metadata": {
        "id": "q7VrVDmycB2B"
      },
      "source": [
        "import torch\n",
        "from torch import nn\n",
        "import torch.nn\n",
        "\n",
        "from typing import Any,Tuple"
      ],
      "execution_count": 5,
      "outputs": []
    },
    {
      "cell_type": "markdown",
      "metadata": {
        "id": "7JDJtI9Rgznt"
      },
      "source": [
        "## prepare requirements"
      ]
    },
    {
      "cell_type": "code",
      "metadata": {
        "id": "W2G9QiEqa0ld"
      },
      "source": [
        "class Module(torch.nn.Module):\n",
        "    r\"\"\"\n",
        "    Wraps ``torch.nn.Module`` to overload ``__call__`` instead of\n",
        "    ``forward`` for better type checking.\n",
        "    \n",
        "    `PyTorch Github issue for clarification <https://github.com/pytorch/pytorch/issues/44605>`_\n",
        "    \"\"\"\n",
        "\n",
        "    def _forward_unimplemented(self, *input: Any) -> None:\n",
        "        # To stop PyTorch from giving abstract methods warning\n",
        "        pass\n",
        "\n",
        "    def __init_subclass__(cls, **kwargs):\n",
        "        if cls.__dict__.get('__call__', None) is None:\n",
        "            return\n",
        "\n",
        "        setattr(cls, 'forward', cls.__dict__['__call__'])\n",
        "        delattr(cls, '__call__')\n",
        "\n",
        "    @property\n",
        "    def device(self):\n",
        "        params = self.parameters()\n",
        "        try:\n",
        "            sample_param = next(params)\n",
        "            return sample_param.device\n",
        "        except StopIteration:\n",
        "            raise RuntimeError(f\"Unable to determine\"\n",
        "                               f\" device of {self.__class__.__name__}\") from None"
      ],
      "execution_count": 6,
      "outputs": []
    },
    {
      "cell_type": "markdown",
      "metadata": {
        "id": "x_rq3wB3g7D6"
      },
      "source": [
        "## define PonderNet module"
      ]
    },
    {
      "cell_type": "code",
      "metadata": {
        "id": "D9j8y2-WcEFK"
      },
      "source": [
        "class ParityPonderGRU(nn.Module):\n",
        "    \n",
        "    def __init__(self, n_elems:int, n_hidden:int, max_steps:int):\n",
        "        super().__init()\n",
        "        \n",
        "        self.max_steps = max_steps\n",
        "        self.n_hidden = n_hidden\n",
        "\n",
        "        self.gru = nn.GRUCell(n_elems, n_hidden)\n",
        "\n",
        "        self.output_layer = nn.Linear(n_hidden,1)\n",
        "\n",
        "        self.lambda_layer = nn.Linear(n_hidden,1)\n",
        "        self.lambda_prob = nn.Sigmoid()\n",
        "\n",
        "        self.is_halt = False\n",
        "\n",
        "    \n",
        "    def forward(self,x:torch.Tensor) -> Tuple[torch.Tensor,torch.Tensor,torch.Tensor,torch.Tensor]:\n",
        "        \n",
        "        batch_size = x.shape[0]\n",
        "\n",
        "        h = x.new_zeros((x.shape[0],self.n_hidden))\n",
        "        h = self.gru(x,h)\n",
        "\n",
        "        p = []\n",
        "        y = []\n",
        "\n",
        "        un_halted_prob = h.new_ones((batch_size,))\n",
        "\n",
        "        halted = h.new_zeros((batch_size,))\n",
        "\n",
        "        p_m = h.new_zeros((batch_size,))\n",
        "        y_m = h.new_zeros((batch_size,))\n",
        "\n",
        "        for n in range(1, self.max_steps+1):\n",
        "            \n",
        "            if n == self.max_steps:\n",
        "                lambda_n = h.new_ones(h.shape[0])\n",
        "\n",
        "            \n",
        "            else:\n",
        "                lambda_n =self.lambda_prob(self.lambda_layer(h))[:,0]\n",
        "            \n",
        "            y_n = self.output_layer(h)[:,0]\n",
        "\n",
        "            p_n = un_halted_prob * lambda_n\n",
        "\n",
        "            un_halted_prob = un_halted_prob * (1 - lambda_n)\n",
        "\n",
        "            halt = torch.bernoulli(lambda_n) * (1 - halted)\n",
        "\n",
        "            p.append(p_n)\n",
        "            y.append(y_n)\n",
        "\n",
        "            p_m = p_m * (1 - halt) + p_n * halt\n",
        "            y_m = y_m * (1 - halt) + y_n * halt\n",
        "\n",
        "            halted = halted + halt\n",
        "\n",
        "            h = self.gru(x,h)\n",
        "\n",
        "            if self.is_halt and halted.sum() == batch_size:\n",
        "                break\n",
        "        \n",
        "        return torch.stack(p), torch.stack(y), p_m, y_m"
      ],
      "execution_count": 7,
      "outputs": []
    },
    {
      "cell_type": "markdown",
      "metadata": {
        "id": "xcnUzj4pgwfF"
      },
      "source": [
        "## define loss"
      ]
    },
    {
      "cell_type": "code",
      "metadata": {
        "id": "Uq8-CdbsfAFh"
      },
      "source": [
        "class ReconstructionLoss(nn.Module):\n",
        "    \n",
        "    def __init__(self, loss_func: nn.Module):\n",
        "        \n",
        "        super().__init__()\n",
        "        self.loss_func = loss_func\n",
        "\n",
        "    \n",
        "    def forward(self, p:torch.Tensor, y_hat:torch.Tensor, y:torch.Tensor):\n",
        "        \n",
        "        total_loss = p.new_tensor(0.)\n",
        "\n",
        "        for n in range(p.shape[0]):\n",
        "\n",
        "            loss = (p[n] * self.loss_func(y_hat[n],y)).mean()\n",
        "\n",
        "            total_loss = total_loss + loss\n",
        "\n",
        "        return total_loss"
      ],
      "execution_count": 8,
      "outputs": []
    },
    {
      "cell_type": "code",
      "metadata": {
        "id": "TQqKaGNmfzux"
      },
      "source": [
        "class RegularizationLoss(nn.Module):\n",
        "\n",
        "    def __init__(self, lambda_p:float, max_steps: int = 1_000):\n",
        "        \n",
        "        super().__init__()\n",
        "\n",
        "        p_g = torch.zeros((max_steps,))\n",
        "\n",
        "        not_halted = 1.\n",
        "\n",
        "        for k in range(max_steps):\n",
        "            \n",
        "            p_g[k] = not_halted * lambda_p\n",
        "\n",
        "            not_halted = not_halted * (1 - lambda_p)\n",
        "\n",
        "        \n",
        "        self.p_g = nn.Parameter(p_g, reguires_grad = False)\n",
        "\n",
        "        self.kl_div = nn.KLDivLoss(reduction='batchmean')\n",
        "\n",
        "    \n",
        "    def forward(self,p:torch.Tensor):\n",
        "        \n",
        "        p = p.transpose(0,1)\n",
        "\n",
        "        p_g = self.p_g[None, :p.shape[1]].expand_as(p)\n",
        "\n",
        "        return self.kl_div(p.log(),p_g)"
      ],
      "execution_count": 9,
      "outputs": []
    },
    {
      "cell_type": "code",
      "metadata": {
        "id": "t9cI8KyJgrxq"
      },
      "source": [
        ""
      ],
      "execution_count": null,
      "outputs": []
    }
  ]
}
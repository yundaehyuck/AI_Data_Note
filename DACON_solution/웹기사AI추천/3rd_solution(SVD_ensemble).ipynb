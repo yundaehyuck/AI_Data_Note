{
  "nbformat": 4,
  "nbformat_minor": 0,
  "metadata": {
    "colab": {
      "provenance": []
    },
    "kernelspec": {
      "name": "python3",
      "display_name": "Python 3"
    },
    "language_info": {
      "name": "python"
    }
  },
  "cells": [
    {
      "cell_type": "code",
      "execution_count": 6,
      "metadata": {
        "id": "-qzBH7vS4xDG"
      },
      "outputs": [],
      "source": [
        "import pandas as pd\n",
        "import numpy as np\n",
        "from scipy.sparse import csr_matrix\n",
        "from scipy.sparse.linalg import svds\n",
        "from sklearn.metrics.pairwise import cosine_similarity\n",
        "\n",
        "# 데이터 로드\n",
        "view_log_train = pd.read_csv('/content/drive/MyDrive/dacon/web/view_log.csv')\n",
        "article_info = pd.read_csv('/content/drive/MyDrive/dacon/web/article_info.csv')\n",
        "submission = pd.read_csv('/content/drive/MyDrive/dacon/web/sample_submission.csv')\n",
        "\n",
        "# 사용자-기사 행렬 생성\n",
        "user_article_matrix = view_log_train.groupby(['userID', 'articleID']).size().unstack(fill_value=0.0)\n",
        "\n",
        "# 1. matrix factorization\n",
        "users_article_sparse_matrix = csr_matrix(user_article_matrix)\n",
        "\n",
        "NUMBER_OF_FACTORS_MF = 600 #600 근방에서 성능이 가장 좋았음\n",
        "\n",
        "U, sigma, Vt = svds(users_article_sparse_matrix, k = NUMBER_OF_FACTORS_MF) #singular value decomposition\n",
        "sigma = np.diag(sigma)\n",
        "\n",
        "all_user_predicted = np.dot(np.dot(U, sigma), Vt) #prediction\n",
        "all_user_predicted_norm = (all_user_predicted - all_user_predicted.min()) / (all_user_predicted.max() - all_user_predicted.min())\n",
        "\n",
        "cf_preds_df = pd.DataFrame(all_user_predicted_norm, columns = user_article_matrix.columns, index = user_article_matrix.index).transpose()\n",
        "\n",
        "# 2.사용자-기사 행렬의 cosine similarity를 이용한 추천\n",
        "user_similarity = cosine_similarity(user_article_matrix)\n",
        "\n",
        "# 추천 점수 계산\n",
        "user_predicted_scores = user_similarity.dot(user_article_matrix) / np.array([np.abs(user_similarity).sum(axis=1)]).T\n",
        "\n",
        "recommendations = []\n",
        "\n",
        "for idx, user in enumerate(user_article_matrix.index):\n",
        "\n",
        "    # 3. 두 모델의 앙상블\n",
        "    # cosine similarity 모델의 가중치가 작을수록, 0.02 근방에서 성능이 가장 좋았음\n",
        "    sorted_indices = (0.02*(user_predicted_scores[idx]) + 0.98*(cf_preds_df[user].values)).argsort()[::-1]\n",
        "    top5recommend = [article for article in user_article_matrix.columns[sorted_indices]][:5]\n",
        "\n",
        "    for article in top5recommend:\n",
        "        recommendations.append([user, article])\n",
        "\n",
        "# sample_submission.csv 형태로 DataFrame 생성\n",
        "top_recommendations = pd.DataFrame(recommendations, columns=['userID', 'articleID'])\n",
        "\n",
        "submission['articleID'] = top_recommendations['articleID']\n",
        "\n",
        "submission.to_csv('baseline_submission.csv', index=False)"
      ]
    }
  ]
}
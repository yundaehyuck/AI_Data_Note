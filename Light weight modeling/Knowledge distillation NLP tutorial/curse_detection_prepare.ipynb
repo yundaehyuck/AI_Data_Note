{
  "nbformat": 4,
  "nbformat_minor": 0,
  "metadata": {
    "colab": {
      "provenance": []
    },
    "kernelspec": {
      "name": "python3",
      "display_name": "Python 3"
    },
    "language_info": {
      "name": "python"
    }
  },
  "cells": [
    {
      "cell_type": "markdown",
      "source": [
        "# prepare dataset"
      ],
      "metadata": {
        "id": "lilcbnq_eKnZ"
      }
    },
    {
      "cell_type": "code",
      "execution_count": null,
      "metadata": {
        "id": "EJk03YgIdPrc"
      },
      "outputs": [],
      "source": [
        "import os\n",
        "import click\n",
        "\n",
        "os.makedirs(\"raw\", exist_ok=True)\n",
        "os.makedirs(\"data/\", exist_ok=True)\n",
        "\n",
        "from urllib import request\n",
        "import pandas as pd\n",
        "from sklearn.model_selection import train_test_split\n",
        "\n",
        "def download(url, save_path):\n",
        "    request.urlretrieve(url, save_path)\n",
        "\n",
        "def download_curse_detection():\n",
        "    url = \"https://raw.githubusercontent.com/2runo/Curse-detection-data/master/dataset.txt\"\n",
        "    download(url, \"raw/curse.txt\")\n",
        "\n",
        "    text = []\n",
        "    label = []\n",
        "\n",
        "\n",
        "    with open('./raw/curse.txt','r') as f:\n",
        "    \n",
        "        for line in f.readlines():\n",
        "            \n",
        "            a = line.split('|')\n",
        "\n",
        "            if len(a) == 2:\n",
        "                text.append(a[0])\n",
        "                label.append(a[1].rstrip('\\n'))\n",
        "    \n",
        "    data = pd.DataFrame({'text':text,'label':label})\n",
        "\n",
        "    return data\n",
        "        \n",
        "def prepare_curse():\n",
        "    curse = download_curse_detection()\n",
        "    curse = curse[curse.label.str.isdigit()].astype({\"label\": int})\n",
        "\n",
        "    train, dev = train_test_split(\n",
        "        curse, test_size=0.2, shuffle=True, stratify=curse.label, random_state=42\n",
        "    )\n",
        "    train.to_csv(\"data/curse_train.csv\", index=False)\n",
        "    dev.to_csv(\"data/curse_dev.csv\", index=False)"
      ]
    },
    {
      "cell_type": "code",
      "source": [
        "prepare_curse()"
      ],
      "metadata": {
        "id": "7Ro3fgM0eXhw"
      },
      "execution_count": null,
      "outputs": []
    },
    {
      "cell_type": "code",
      "source": [
        "with open('./raw/curse.txt','r') as f:\n",
        "    \n",
        "    x = f.readlines()\n",
        "\n",
        "text = []\n",
        "label = []\n",
        "\n",
        "for line in x:\n",
        "    \n",
        "    a = line.split('|')\n",
        "\n",
        "    if (len(a) == 2):\n",
        "\n",
        "        text.append(a[0])\n",
        "        label.append(a[1].rstrip('\\n'))\n",
        "\n",
        "data = {'text':text, 'label':label}\n",
        "\n",
        "data = pd.DataFrame(data)\n",
        "\n",
        "data\n",
        "        "
      ],
      "metadata": {
        "colab": {
          "base_uri": "https://localhost:8080/",
          "height": 423
        },
        "id": "swgg3RdseqWi",
        "outputId": "e2d133b7-2612-465f-9a6b-fada57d0cc7c"
      },
      "execution_count": null,
      "outputs": [
        {
          "output_type": "execute_result",
          "data": {
            "text/plain": [
              "                                                   text label\n",
              "0                                             좌배 까는건 ㅇㅂ     1\n",
              "1                          집에 롱 패딩만 세 개다. 10년 더 입어야지 ㅋㅋ     0\n",
              "2           개소리야 니가 빨갱이를 옹호하고 드루킹을 ㅇㅇ짓이라고 말못해서 삐진거야 빨갱아     1\n",
              "3                                           세탁이라고 봐도 된다     0\n",
              "4                                    애새끼가 초딩도 아니고 ㅋㅋㅋㅋ      1\n",
              "...                                                 ...   ...\n",
              "5819         좌우 헬파이어 3개씩 6개 장착에 아파치보다 약하지만 20mm 기관포 장착임     0\n",
              "5820  세금 내놓으라고 데모질 중 ㅋㅋ간첩, 도둑놈 새끼들이 대통령 해처먹으니까  나도 같...     1\n",
              "5821                                          너가 한 말 중에     0\n",
              "5822                                            제갈대중 ㅇㅂ     0\n",
              "5823                           우리나라교회는 악마들이모여 주뎅이 처벌리고      1\n",
              "\n",
              "[5824 rows x 2 columns]"
            ],
            "text/html": [
              "\n",
              "  <div id=\"df-a5ec0e9d-fe78-4ca7-9540-4d062f916d10\">\n",
              "    <div class=\"colab-df-container\">\n",
              "      <div>\n",
              "<style scoped>\n",
              "    .dataframe tbody tr th:only-of-type {\n",
              "        vertical-align: middle;\n",
              "    }\n",
              "\n",
              "    .dataframe tbody tr th {\n",
              "        vertical-align: top;\n",
              "    }\n",
              "\n",
              "    .dataframe thead th {\n",
              "        text-align: right;\n",
              "    }\n",
              "</style>\n",
              "<table border=\"1\" class=\"dataframe\">\n",
              "  <thead>\n",
              "    <tr style=\"text-align: right;\">\n",
              "      <th></th>\n",
              "      <th>text</th>\n",
              "      <th>label</th>\n",
              "    </tr>\n",
              "  </thead>\n",
              "  <tbody>\n",
              "    <tr>\n",
              "      <th>0</th>\n",
              "      <td>좌배 까는건 ㅇㅂ</td>\n",
              "      <td>1</td>\n",
              "    </tr>\n",
              "    <tr>\n",
              "      <th>1</th>\n",
              "      <td>집에 롱 패딩만 세 개다. 10년 더 입어야지 ㅋㅋ</td>\n",
              "      <td>0</td>\n",
              "    </tr>\n",
              "    <tr>\n",
              "      <th>2</th>\n",
              "      <td>개소리야 니가 빨갱이를 옹호하고 드루킹을 ㅇㅇ짓이라고 말못해서 삐진거야 빨갱아</td>\n",
              "      <td>1</td>\n",
              "    </tr>\n",
              "    <tr>\n",
              "      <th>3</th>\n",
              "      <td>세탁이라고 봐도 된다</td>\n",
              "      <td>0</td>\n",
              "    </tr>\n",
              "    <tr>\n",
              "      <th>4</th>\n",
              "      <td>애새끼가 초딩도 아니고 ㅋㅋㅋㅋ</td>\n",
              "      <td>1</td>\n",
              "    </tr>\n",
              "    <tr>\n",
              "      <th>...</th>\n",
              "      <td>...</td>\n",
              "      <td>...</td>\n",
              "    </tr>\n",
              "    <tr>\n",
              "      <th>5819</th>\n",
              "      <td>좌우 헬파이어 3개씩 6개 장착에 아파치보다 약하지만 20mm 기관포 장착임</td>\n",
              "      <td>0</td>\n",
              "    </tr>\n",
              "    <tr>\n",
              "      <th>5820</th>\n",
              "      <td>세금 내놓으라고 데모질 중 ㅋㅋ간첩, 도둑놈 새끼들이 대통령 해처먹으니까  나도 같...</td>\n",
              "      <td>1</td>\n",
              "    </tr>\n",
              "    <tr>\n",
              "      <th>5821</th>\n",
              "      <td>너가 한 말 중에</td>\n",
              "      <td>0</td>\n",
              "    </tr>\n",
              "    <tr>\n",
              "      <th>5822</th>\n",
              "      <td>제갈대중 ㅇㅂ</td>\n",
              "      <td>0</td>\n",
              "    </tr>\n",
              "    <tr>\n",
              "      <th>5823</th>\n",
              "      <td>우리나라교회는 악마들이모여 주뎅이 처벌리고</td>\n",
              "      <td>1</td>\n",
              "    </tr>\n",
              "  </tbody>\n",
              "</table>\n",
              "<p>5824 rows × 2 columns</p>\n",
              "</div>\n",
              "      <button class=\"colab-df-convert\" onclick=\"convertToInteractive('df-a5ec0e9d-fe78-4ca7-9540-4d062f916d10')\"\n",
              "              title=\"Convert this dataframe to an interactive table.\"\n",
              "              style=\"display:none;\">\n",
              "        \n",
              "  <svg xmlns=\"http://www.w3.org/2000/svg\" height=\"24px\"viewBox=\"0 0 24 24\"\n",
              "       width=\"24px\">\n",
              "    <path d=\"M0 0h24v24H0V0z\" fill=\"none\"/>\n",
              "    <path d=\"M18.56 5.44l.94 2.06.94-2.06 2.06-.94-2.06-.94-.94-2.06-.94 2.06-2.06.94zm-11 1L8.5 8.5l.94-2.06 2.06-.94-2.06-.94L8.5 2.5l-.94 2.06-2.06.94zm10 10l.94 2.06.94-2.06 2.06-.94-2.06-.94-.94-2.06-.94 2.06-2.06.94z\"/><path d=\"M17.41 7.96l-1.37-1.37c-.4-.4-.92-.59-1.43-.59-.52 0-1.04.2-1.43.59L10.3 9.45l-7.72 7.72c-.78.78-.78 2.05 0 2.83L4 21.41c.39.39.9.59 1.41.59.51 0 1.02-.2 1.41-.59l7.78-7.78 2.81-2.81c.8-.78.8-2.07 0-2.86zM5.41 20L4 18.59l7.72-7.72 1.47 1.35L5.41 20z\"/>\n",
              "  </svg>\n",
              "      </button>\n",
              "      \n",
              "  <style>\n",
              "    .colab-df-container {\n",
              "      display:flex;\n",
              "      flex-wrap:wrap;\n",
              "      gap: 12px;\n",
              "    }\n",
              "\n",
              "    .colab-df-convert {\n",
              "      background-color: #E8F0FE;\n",
              "      border: none;\n",
              "      border-radius: 50%;\n",
              "      cursor: pointer;\n",
              "      display: none;\n",
              "      fill: #1967D2;\n",
              "      height: 32px;\n",
              "      padding: 0 0 0 0;\n",
              "      width: 32px;\n",
              "    }\n",
              "\n",
              "    .colab-df-convert:hover {\n",
              "      background-color: #E2EBFA;\n",
              "      box-shadow: 0px 1px 2px rgba(60, 64, 67, 0.3), 0px 1px 3px 1px rgba(60, 64, 67, 0.15);\n",
              "      fill: #174EA6;\n",
              "    }\n",
              "\n",
              "    [theme=dark] .colab-df-convert {\n",
              "      background-color: #3B4455;\n",
              "      fill: #D2E3FC;\n",
              "    }\n",
              "\n",
              "    [theme=dark] .colab-df-convert:hover {\n",
              "      background-color: #434B5C;\n",
              "      box-shadow: 0px 1px 3px 1px rgba(0, 0, 0, 0.15);\n",
              "      filter: drop-shadow(0px 1px 2px rgba(0, 0, 0, 0.3));\n",
              "      fill: #FFFFFF;\n",
              "    }\n",
              "  </style>\n",
              "\n",
              "      <script>\n",
              "        const buttonEl =\n",
              "          document.querySelector('#df-a5ec0e9d-fe78-4ca7-9540-4d062f916d10 button.colab-df-convert');\n",
              "        buttonEl.style.display =\n",
              "          google.colab.kernel.accessAllowed ? 'block' : 'none';\n",
              "\n",
              "        async function convertToInteractive(key) {\n",
              "          const element = document.querySelector('#df-a5ec0e9d-fe78-4ca7-9540-4d062f916d10');\n",
              "          const dataTable =\n",
              "            await google.colab.kernel.invokeFunction('convertToInteractive',\n",
              "                                                     [key], {});\n",
              "          if (!dataTable) return;\n",
              "\n",
              "          const docLinkHtml = 'Like what you see? Visit the ' +\n",
              "            '<a target=\"_blank\" href=https://colab.research.google.com/notebooks/data_table.ipynb>data table notebook</a>'\n",
              "            + ' to learn more about interactive tables.';\n",
              "          element.innerHTML = '';\n",
              "          dataTable['output_type'] = 'display_data';\n",
              "          await google.colab.output.renderOutput(dataTable, element);\n",
              "          const docLink = document.createElement('div');\n",
              "          docLink.innerHTML = docLinkHtml;\n",
              "          element.appendChild(docLink);\n",
              "        }\n",
              "      </script>\n",
              "    </div>\n",
              "  </div>\n",
              "  "
            ]
          },
          "metadata": {},
          "execution_count": 14
        }
      ]
    },
    {
      "cell_type": "code",
      "source": [
        "x[455]"
      ],
      "metadata": {
        "colab": {
          "base_uri": "https://localhost:8080/",
          "height": 90
        },
        "id": "qY1JGz41fly8",
        "outputId": "34aa8b63-268f-444e-9b7f-b5ec014a383f"
      },
      "execution_count": null,
      "outputs": [
        {
          "output_type": "execute_result",
          "data": {
            "text/plain": [
              "'여자 형제 둔 남성 보수 성향 강해… 美조사 | 한경닷컴 - 한국경제여자 형제가 인생을 더 행복하게 만든다 - 동아일보여자 형제 없는 남성을 선호한다?_채널A_웰컴투시월드 16회여자형제와 너무 친한 남친, 이건 정말 싫어 - 싱글즈여자형제 많은 사람의 특징이 뭔가요? - - ::: 알찬살림 요리정보 ...여자형제있는 사람이 눈치빠린거 같지않나요? - - ::: 알찬살림 ...여자 형제 있는 남돌과 없는 남돌의 차이 : 네이트판|0\\n'"
            ],
            "application/vnd.google.colaboratory.intrinsic+json": {
              "type": "string"
            }
          },
          "metadata": {},
          "execution_count": 10
        }
      ]
    },
    {
      "cell_type": "code",
      "source": [],
      "metadata": {
        "id": "rWRHS1wzf_f2"
      },
      "execution_count": null,
      "outputs": []
    }
  ]
}
{
  "nbformat": 4,
  "nbformat_minor": 0,
  "metadata": {
    "colab": {
      "provenance": []
    },
    "kernelspec": {
      "name": "python3",
      "display_name": "Python 3"
    },
    "language_info": {
      "name": "python"
    }
  },
  "cells": [
    {
      "cell_type": "markdown",
      "source": [
        "**Lab 1-2 : Graph Representation**\n",
        "- 본 실습에서는 그래프를 표현할 수 있는 다양한 방법에 대해서 알아본다.\n"
      ],
      "metadata": {
        "id": "-IypXjtfh1CN"
      }
    },
    {
      "cell_type": "code",
      "execution_count": 2,
      "metadata": {
        "id": "FhQYEv8YhtBN"
      },
      "outputs": [],
      "source": [
        "import networkx as nx\n",
        "import os\n",
        "import numpy as np\n",
        "import sys\n",
        "\n",
        "np.set_printoptions(threshold = sys.maxsize)"
      ]
    },
    {
      "cell_type": "code",
      "source": [
        "G = nx.Graph() #무방향 그래프"
      ],
      "metadata": {
        "id": "8URvpmRih_Yc"
      },
      "execution_count": 7,
      "outputs": []
    },
    {
      "cell_type": "code",
      "source": [
        "# 10개의 node로 이루어진, 원 모양의 그래프 정보를 가져옵니다.\n",
        "# 각 데이터셋은 edge 형태로 저장되어 있습니다.\n",
        "print(\"###### Read Graphs ######\")\n",
        "\n",
        "f = [[1,2],[2,3],[3,4],[4,5],[5,6],[6,7],[7,8],[8,9],[9,10],[10,1]]\n",
        "\n",
        "for edge in f:\n",
        "\n",
        "    v1,v2 = edge\n",
        "    G.add_edge(v1,v2)\n",
        "\n",
        "print(G.edges)"
      ],
      "metadata": {
        "colab": {
          "base_uri": "https://localhost:8080/"
        },
        "id": "dXVhi5WDiEAo",
        "outputId": "a3dd739c-fa25-4ee7-da6d-99d249cc4b86"
      },
      "execution_count": 8,
      "outputs": [
        {
          "output_type": "stream",
          "name": "stdout",
          "text": [
            "###### Read Graphs ######\n",
            "[(1, 2), (1, 10), (2, 3), (3, 4), (4, 5), (5, 6), (6, 7), (7, 8), (8, 9), (9, 10)]\n"
          ]
        }
      ]
    },
    {
      "cell_type": "code",
      "source": [
        "#그래프를 인접 리스트로 저장\n",
        "\n",
        "print(\"###### Graph to List #######\")\n",
        "ListGraph = nx.to_dict_of_lists(G)\n",
        "\n",
        "for v in ListGraph:\n",
        "\n",
        "    print(str(v) + \" : \" + str(ListGraph[v]))"
      ],
      "metadata": {
        "colab": {
          "base_uri": "https://localhost:8080/"
        },
        "id": "dB_YcBA5iUWL",
        "outputId": "473f8a61-0093-4be8-b457-b0e25e6d9ff7"
      },
      "execution_count": 9,
      "outputs": [
        {
          "output_type": "stream",
          "name": "stdout",
          "text": [
            "###### Graph to List #######\n",
            "1 : [2, 10]\n",
            "2 : [1, 3]\n",
            "3 : [2, 4]\n",
            "4 : [3, 5]\n",
            "5 : [4, 6]\n",
            "6 : [5, 7]\n",
            "7 : [6, 8]\n",
            "8 : [7, 9]\n",
            "9 : [8, 10]\n",
            "10 : [9, 1]\n"
          ]
        }
      ]
    },
    {
      "cell_type": "code",
      "source": [
        "#그래프를 간선 리스트로 저장\n",
        "print(\"###### Graph to EdgeList ######\")\n",
        "\n",
        "EdgeListGraph = nx.to_edgelist(G)\n",
        "\n",
        "for e in EdgeListGraph:\n",
        "\n",
        "    v1,v2,w = e\n",
        "    print(v1,v2)"
      ],
      "metadata": {
        "colab": {
          "base_uri": "https://localhost:8080/"
        },
        "id": "WnhByzZ3ihhi",
        "outputId": "ca6ad597-d1e2-49c1-bf06-cfba6bd29406"
      },
      "execution_count": 10,
      "outputs": [
        {
          "output_type": "stream",
          "name": "stdout",
          "text": [
            "###### Graph to EdgeList ######\n",
            "1 2\n",
            "1 10\n",
            "2 3\n",
            "3 4\n",
            "4 5\n",
            "5 6\n",
            "6 7\n",
            "7 8\n",
            "8 9\n",
            "9 10\n"
          ]
        }
      ]
    },
    {
      "cell_type": "code",
      "source": [
        "#그래프를 인접 행렬(일반 행렬)로 저장\n",
        "\n",
        "print(\"###### Graph to numpy array ######\")\n",
        "\n",
        "NumpyArrayGraph = nx.to_numpy_array(G)\n",
        "\n",
        "print(NumpyArrayGraph)"
      ],
      "metadata": {
        "colab": {
          "base_uri": "https://localhost:8080/"
        },
        "id": "VWZcxkh9iyV0",
        "outputId": "0a005e8d-816b-47e0-d963-95882cfcaf94"
      },
      "execution_count": 11,
      "outputs": [
        {
          "output_type": "stream",
          "name": "stdout",
          "text": [
            "###### Graph to numpy array ######\n",
            "[[0. 1. 0. 0. 0. 0. 0. 0. 0. 1.]\n",
            " [1. 0. 1. 0. 0. 0. 0. 0. 0. 0.]\n",
            " [0. 1. 0. 1. 0. 0. 0. 0. 0. 0.]\n",
            " [0. 0. 1. 0. 1. 0. 0. 0. 0. 0.]\n",
            " [0. 0. 0. 1. 0. 1. 0. 0. 0. 0.]\n",
            " [0. 0. 0. 0. 1. 0. 1. 0. 0. 0.]\n",
            " [0. 0. 0. 0. 0. 1. 0. 1. 0. 0.]\n",
            " [0. 0. 0. 0. 0. 0. 1. 0. 1. 0.]\n",
            " [0. 0. 0. 0. 0. 0. 0. 1. 0. 1.]\n",
            " [1. 0. 0. 0. 0. 0. 0. 0. 1. 0.]]\n"
          ]
        }
      ]
    },
    {
      "cell_type": "code",
      "source": [
        "#그래프를 인접행렬(희소 행렬)로 저장\n",
        "\n",
        "print(\"###### Graph to Scipy sparse array ######\")\n",
        "\n",
        "SparseMatrixGraph = nx.to_scipy_sparse_array(G)\n",
        "\n",
        "print(SparseMatrixGraph)"
      ],
      "metadata": {
        "colab": {
          "base_uri": "https://localhost:8080/"
        },
        "id": "txhHbJN9i8k_",
        "outputId": "d366ab47-40df-4feb-d313-0e912f5f2e29"
      },
      "execution_count": 12,
      "outputs": [
        {
          "output_type": "stream",
          "name": "stdout",
          "text": [
            "###### Graph to Scipy sparse array ######\n",
            "  (0, 1)\t1\n",
            "  (0, 9)\t1\n",
            "  (1, 0)\t1\n",
            "  (1, 2)\t1\n",
            "  (2, 1)\t1\n",
            "  (2, 3)\t1\n",
            "  (3, 2)\t1\n",
            "  (3, 4)\t1\n",
            "  (4, 3)\t1\n",
            "  (4, 5)\t1\n",
            "  (5, 4)\t1\n",
            "  (5, 6)\t1\n",
            "  (6, 5)\t1\n",
            "  (6, 7)\t1\n",
            "  (7, 6)\t1\n",
            "  (7, 8)\t1\n",
            "  (8, 7)\t1\n",
            "  (8, 9)\t1\n",
            "  (9, 0)\t1\n",
            "  (9, 8)\t1\n"
          ]
        }
      ]
    },
    {
      "cell_type": "code",
      "source": [],
      "metadata": {
        "id": "IDMTXNSOjLxw"
      },
      "execution_count": null,
      "outputs": []
    }
  ]
}
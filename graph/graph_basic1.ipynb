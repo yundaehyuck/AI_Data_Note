{
  "nbformat": 4,
  "nbformat_minor": 0,
  "metadata": {
    "colab": {
      "provenance": []
    },
    "kernelspec": {
      "name": "python3",
      "display_name": "Python 3"
    },
    "language_info": {
      "name": "python"
    }
  },
  "cells": [
    {
      "cell_type": "markdown",
      "source": [
        "**Lab 1-1 : Graph Basic**\n",
        "- 본 실습에서는 그래프를 컴퓨터 상에서 다루는 기초적인 방법을 배운다."
      ],
      "metadata": {
        "id": "cmNR54YEVE2u"
      }
    },
    {
      "cell_type": "code",
      "execution_count": 1,
      "metadata": {
        "id": "NzphsxAcVAOa"
      },
      "outputs": [],
      "source": [
        "# 실습에 필요한 library를 임포트합니다.\n",
        "import networkx as nx                    # NetworkX\n",
        "import numpy as np                       # 선형대수를 위한 라이브러리\n",
        "import matplotlib.pyplot as plt          # 그림을 그리기 위한 라이브러리\n",
        "import sys\n",
        "\n",
        "np.set_printoptions(threshold = sys.maxsize)"
      ]
    },
    {
      "cell_type": "code",
      "source": [
        "#그래프의 생성과 초기화\n",
        "\n",
        "print(\"###### Graph init ######\")\n",
        "\n",
        "G = nx.Graph()                     # 방향성이 없는 그래프\n",
        "DiGraph = nx.DiGraph()             # 방향성이 있는 그래프"
      ],
      "metadata": {
        "colab": {
          "base_uri": "https://localhost:8080/"
        },
        "id": "0oHsUciDVPHJ",
        "outputId": "530b257a-ccf9-43fe-c685-e19a09ba4a23"
      },
      "execution_count": 2,
      "outputs": [
        {
          "output_type": "stream",
          "name": "stdout",
          "text": [
            "###### Graph init ######\n"
          ]
        }
      ]
    },
    {
      "cell_type": "code",
      "source": [
        "print(\"###### Add Node to Graph ######\")\n",
        "print(\"# Add node 1\")\n",
        "\n",
        "G.add_node(1)                                               # 비어있는 그래프에 정점 1 추가\n",
        "\n",
        "print(\"Num of nodes in G : \" + str(G.number_of_nodes()))    # 정점의 수 반환\n",
        "print(\"Graph : \" + str(G.nodes)+ \"\\n\")                      # 정점의 목록 반환"
      ],
      "metadata": {
        "colab": {
          "base_uri": "https://localhost:8080/"
        },
        "id": "MNgA2ObxVfyA",
        "outputId": "8fd0a9f9-4587-4f64-9803-1c3320fe21b7"
      },
      "execution_count": 3,
      "outputs": [
        {
          "output_type": "stream",
          "name": "stdout",
          "text": [
            "Num of nodes in G: 1\n",
            "Graph: [1]\n",
            "\n"
          ]
        }
      ]
    },
    {
      "cell_type": "code",
      "source": [
        "# 더욱 많은 정점 추가\n",
        "\n",
        "print(\"#Add vertex 2 ~ 10\")\n",
        "\n",
        "for i in range(1, 11):                              # 정점 2 ~ 10 추가\n",
        "\n",
        "    G.add_node(i)\n",
        "\n",
        "print(\"Num of nodes in G : \" + str(G.number_of_nodes()))\n",
        "print(\"Graph : \" + str(G.nodes) + \"\\n\")"
      ],
      "metadata": {
        "colab": {
          "base_uri": "https://localhost:8080/"
        },
        "id": "8BWPbEFDWFB6",
        "outputId": "e50e8882-1824-4283-b993-ad73574ce64c"
      },
      "execution_count": 4,
      "outputs": [
        {
          "output_type": "stream",
          "name": "stdout",
          "text": [
            "#Add vertex 2 ~ 10\n",
            "Num of nodes in G : 10\n",
            "Graph : [1, 2, 3, 4, 5, 6, 7, 8, 9, 10]\n",
            "\n"
          ]
        }
      ]
    },
    {
      "cell_type": "code",
      "source": [
        "#간선으로 연결하면 순서쌍으로 생성이 되는듯?\n",
        "\n",
        "print(\"###### Add Edge to Graph ######\")\n",
        "G = nx.Graph()\n",
        "print(\"#Add edge (1, 2)\")\n",
        "G.add_edge(1,2)                                #정점 1과 2 사이에 간선 추가\n",
        "print(\"Graph: \" + str(G.edges) + \"Wn\")         #간선 목록 반환"
      ],
      "metadata": {
        "colab": {
          "base_uri": "https://localhost:8080/"
        },
        "id": "dOHnFm30W-e0",
        "outputId": "7aa5a10c-9a48-4e16-d60a-0ecf7ed46f46"
      },
      "execution_count": 5,
      "outputs": [
        {
          "output_type": "stream",
          "name": "stdout",
          "text": [
            "###### Add Edge to Graph ######\n",
            "#Add edge (1, 2)\n",
            "Graph: [(1, 2)]Wn\n"
          ]
        }
      ]
    },
    {
      "cell_type": "code",
      "source": [
        "print(\"#Add edge (1, i) for i = 2 ~ 10\")        # 정점 1과 다른 정점 사이 간선 추가\n",
        "\n",
        "for i in range(2,11):\n",
        "\n",
        "    G.add_edge(1, i)\n",
        "\n",
        "print(\"Graph : \" + str(G.edges) + \"\\n\")"
      ],
      "metadata": {
        "colab": {
          "base_uri": "https://localhost:8080/"
        },
        "id": "WW07Y_0bZPpv",
        "outputId": "39497397-5744-4c67-d4f1-716d449699fe"
      },
      "execution_count": 6,
      "outputs": [
        {
          "output_type": "stream",
          "name": "stdout",
          "text": [
            "#Add edge (1, i) for i = 2 ~ 10\n",
            "Graph : [(1, 2), (1, 3), (1, 4), (1, 5), (1, 6), (1, 7), (1, 8), (1, 9), (1, 10)]\n",
            "\n"
          ]
        }
      ]
    },
    {
      "cell_type": "code",
      "source": [
        "# 그래프를 시각화\n",
        "# 정점의 위치 결정\n",
        "\n",
        "# 정점의 위치는 랜덤으로 아무렇게나 결정하면 복잡해진다.\n",
        "# 정점의 위치를 신중하게 결정시켜줌\n",
        "pos = nx.spring_layout(G)\n",
        "\n",
        "#정점의 색과 크기를 지정하여 출력함\n",
        "im = nx.draw_networkx_nodes(G, pos, node_color = \"red\", node_size = 100)\n",
        "\n",
        "#간선 출력\n",
        "nx.draw_networkx_edges(G, pos)\n",
        "\n",
        "#각 정점의 라벨을 출력\n",
        "nx.draw_networkx_labels(G, pos, font_size = 10, font_color = \"black\")\n",
        "plt.show()"
      ],
      "metadata": {
        "colab": {
          "base_uri": "https://localhost:8080/",
          "height": 406
        },
        "id": "lV1zupZAZ8cP",
        "outputId": "a7308643-0aa0-4488-9f80-5d901f364a5a"
      },
      "execution_count": 7,
      "outputs": [
        {
          "output_type": "display_data",
          "data": {
            "text/plain": [
              "<Figure size 640x480 with 1 Axes>"
            ],
            "image/png": "[encoded data removed]"
          },
          "metadata": {}
        }
      ]
    },
    {
      "cell_type": "code",
      "source": [],
      "metadata": {
        "id": "UjQfvUeJaahX"
      },
      "execution_count": null,
      "outputs": []
    }
  ]
}
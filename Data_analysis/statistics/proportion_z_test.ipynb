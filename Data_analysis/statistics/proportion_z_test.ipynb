{
  "nbformat": 4,
  "nbformat_minor": 0,
  "metadata": {
    "colab": {
      "name": "proportion_z_test.ipynb",
      "provenance": [],
      "collapsed_sections": []
    },
    "kernelspec": {
      "name": "python3",
      "display_name": "Python 3"
    },
    "language_info": {
      "name": "python"
    }
  },
  "cells": [
    {
      "cell_type": "markdown",
      "source": [
        "## 3858020명에 대하여 집단 A일 확률이 Pa=0.9784%, 집단 B일 확률이 Pb=0.965%"
      ],
      "metadata": {
        "id": "FxADoSNWIT-g"
      }
    },
    {
      "cell_type": "markdown",
      "source": [
        "## 두 집단 A,B의 확률이 동일하다고 말할 수 있는가?"
      ],
      "metadata": {
        "id": "NPlrJhQ1JNH5"
      }
    },
    {
      "cell_type": "code",
      "execution_count": null,
      "metadata": {
        "id": "l-RVvsVNKQqN"
      },
      "outputs": [],
      "source": [
        "import numpy as np\n",
        "from statsmodels.stats.proportion import proportions_ztest\n",
        "\n",
        "count = np.array([37746.86768, 37229.893])\n",
        "nobs = np.array([3858020, 3858020])\n",
        "\n",
        "z, p = proportions_ztest(count=count, nobs=nobs, value=0)"
      ]
    },
    {
      "cell_type": "code",
      "source": [
        "z"
      ],
      "metadata": {
        "colab": {
          "base_uri": "https://localhost:8080/"
        },
        "id": "NKmRRGYwKdXM",
        "outputId": "73d9c643-bbb7-43c1-a9eb-a66b7febe8bd"
      },
      "execution_count": null,
      "outputs": [
        {
          "output_type": "execute_result",
          "data": {
            "text/plain": [
              "1.8972574842101046"
            ]
          },
          "metadata": {},
          "execution_count": 9
        }
      ]
    },
    {
      "cell_type": "code",
      "source": [
        "p"
      ],
      "metadata": {
        "colab": {
          "base_uri": "https://localhost:8080/"
        },
        "id": "V8cwZCffKzoC",
        "outputId": "2c039d18-338a-4385-f04d-bc15683bddde"
      },
      "execution_count": null,
      "outputs": [
        {
          "output_type": "execute_result",
          "data": {
            "text/plain": [
              "0.057793963318481786"
            ]
          },
          "metadata": {},
          "execution_count": 10
        }
      ]
    }
  ]
}
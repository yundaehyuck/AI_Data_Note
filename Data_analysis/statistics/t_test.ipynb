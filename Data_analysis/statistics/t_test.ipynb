{
  "nbformat": 4,
  "nbformat_minor": 0,
  "metadata": {
    "colab": {
      "name": "t-test.ipynb",
      "provenance": [],
      "collapsed_sections": []
    },
    "kernelspec": {
      "name": "python3",
      "display_name": "Python 3"
    },
    "language_info": {
      "name": "python"
    }
  },
  "cells": [
    {
      "cell_type": "code",
      "execution_count": null,
      "metadata": {
        "id": "E0rWP7roNBEJ"
      },
      "outputs": [],
      "source": [
        ""
      ]
    },
    {
      "cell_type": "markdown",
      "source": [
        "t-test는 검정통계량이 귀무가설이 참일 때 t-분포를 따르는 경우 사용하는 통계적 가설검정 기법"
      ],
      "metadata": {
        "id": "rcEsn0p5NKFf"
      }
    },
    {
      "cell_type": "markdown",
      "source": [
        "특정 집단의 평균 값을 추정하거나 평균 차이를 검정\n",
        "\n",
        "종속변수는 평균을 가질 수 있는 연속형\n",
        "\n",
        "독립변수는 성별,종교,부서와 같은 범주형"
      ],
      "metadata": {
        "id": "05ECBFHENW5g"
      }
    },
    {
      "cell_type": "markdown",
      "source": [
        "예제) A의 집단과 B 집단에서 표본을 추출하고 몸무게의 평균 차이를 비교하였을 때 2kg의 차이가 났다. 이 몸무게의 차이는 두 집단의 몸무게가 차이가 난다고 할 수 있을까?"
      ],
      "metadata": {
        "id": "hXfN1xQbN6Hz"
      }
    },
    {
      "cell_type": "markdown",
      "source": [
        "표본이 1개이면 $t=\\frac{(\\bar{x} - \\mu )}{\\frac{s}{\\sqrt{n}}}$"
      ],
      "metadata": {
        "id": "uZBFTrIEOPn4"
      }
    },
    {
      "cell_type": "markdown",
      "source": [
        "표본이 2개이면 $t=\\frac{(\\bar{X}_{1} - \\bar{X}_{2})}{\\sqrt{\\frac{(N_{1}-1)S_{1}+(N_{2}-1)S_{2}}{N_{1}+N_{2}-2}\\times [\\frac{1}{N_{1}}+\\frac{1}{N_{2}}]}}$"
      ],
      "metadata": {
        "id": "yfQW16A0O_7O"
      }
    },
    {
      "cell_type": "code",
      "source": [
        ""
      ],
      "metadata": {
        "id": "Kzr0o8peNLje"
      },
      "execution_count": null,
      "outputs": []
    },
    {
      "cell_type": "markdown",
      "source": [
        "#일표본 t검정"
      ],
      "metadata": {
        "id": "wPvVyeKwRsCl"
      }
    },
    {
      "cell_type": "markdown",
      "source": [
        "단일 모집단에서 관심이 있는 연속형 변수의 평균값을 특정 기준값과 비교"
      ],
      "metadata": {
        "id": "XXM1qgisS13X"
      }
    },
    {
      "cell_type": "markdown",
      "source": [
        "가정: 집단의 구성요소들이 정규분포를 따른다"
      ],
      "metadata": {
        "id": "bjeBTvbQTLE-"
      }
    },
    {
      "cell_type": "markdown",
      "source": [
        "단계\n",
        "\n",
        "\n",
        "1.   가설 수립\n",
        "\n",
        "귀무가설(H0): 모평균의 값은 **이다\n",
        "\n",
        "대립가설(H1): 모평균의 값은 **이 아니다.\n",
        "\n",
        "2.   유의수준 설정\n",
        "\n",
        "기본적으로 0.05\n",
        "\n",
        "3. 정규성 검정\n",
        "\n",
        "데이터가 정규분포를 따르는가?\n",
        "\n",
        "정규분포를 따른다고 할 수 있으면 T-test\n",
        "\n",
        "그렇지 않다면 윌콕슨의 부호순위 검정\n",
        "\n",
        "4. 검정통계량 계산, p-value 계산\n",
        "\n",
        "선택한 t-test나 윌콕슨 부호순위 검정의 검정통계량, p-value계산\n",
        "\n",
        "5. 귀무가설 기각여부 판단, 해석\n",
        "\n"
      ],
      "metadata": {
        "id": "nMP59dewTT4b"
      }
    },
    {
      "cell_type": "code",
      "source": [
        ""
      ],
      "metadata": {
        "id": "5YqPLUDKSxX8"
      },
      "execution_count": null,
      "outputs": []
    },
    {
      "cell_type": "markdown",
      "source": [
        "예제"
      ],
      "metadata": {
        "id": "oTSUSnChUR73"
      }
    },
    {
      "cell_type": "code",
      "source": [
        "#data load\n",
        "\n",
        "import pandas as pd\n",
        "\n",
        "cats = pd.read_csv('/content/drive/MyDrive/adpdata/cats.csv')\n",
        "\n",
        "cats"
      ],
      "metadata": {
        "colab": {
          "base_uri": "https://localhost:8080/",
          "height": 424
        },
        "id": "cpXFp4KwUQGQ",
        "outputId": "d801c3cc-fc0d-4917-aa32-86af2f74123d"
      },
      "execution_count": null,
      "outputs": [
        {
          "output_type": "execute_result",
          "data": {
            "text/plain": [
              "    Sex  Bwt   Hwt\n",
              "0     F  2.0   7.0\n",
              "1     F  2.0   7.4\n",
              "2     F  2.0   9.5\n",
              "3     F  2.1   7.2\n",
              "4     F  2.1   7.3\n",
              "..   ..  ...   ...\n",
              "139   M  3.7  11.0\n",
              "140   M  3.8  14.8\n",
              "141   M  3.8  16.8\n",
              "142   M  3.9  14.4\n",
              "143   M  3.9  20.5\n",
              "\n",
              "[144 rows x 3 columns]"
            ],
            "text/html": [
              "\n",
              "  <div id=\"df-0eef069e-85da-42d4-b349-d66d73bd2025\">\n",
              "    <div class=\"colab-df-container\">\n",
              "      <div>\n",
              "<style scoped>\n",
              "    .dataframe tbody tr th:only-of-type {\n",
              "        vertical-align: middle;\n",
              "    }\n",
              "\n",
              "    .dataframe tbody tr th {\n",
              "        vertical-align: top;\n",
              "    }\n",
              "\n",
              "    .dataframe thead th {\n",
              "        text-align: right;\n",
              "    }\n",
              "</style>\n",
              "<table border=\"1\" class=\"dataframe\">\n",
              "  <thead>\n",
              "    <tr style=\"text-align: right;\">\n",
              "      <th></th>\n",
              "      <th>Sex</th>\n",
              "      <th>Bwt</th>\n",
              "      <th>Hwt</th>\n",
              "    </tr>\n",
              "  </thead>\n",
              "  <tbody>\n",
              "    <tr>\n",
              "      <th>0</th>\n",
              "      <td>F</td>\n",
              "      <td>2.0</td>\n",
              "      <td>7.0</td>\n",
              "    </tr>\n",
              "    <tr>\n",
              "      <th>1</th>\n",
              "      <td>F</td>\n",
              "      <td>2.0</td>\n",
              "      <td>7.4</td>\n",
              "    </tr>\n",
              "    <tr>\n",
              "      <th>2</th>\n",
              "      <td>F</td>\n",
              "      <td>2.0</td>\n",
              "      <td>9.5</td>\n",
              "    </tr>\n",
              "    <tr>\n",
              "      <th>3</th>\n",
              "      <td>F</td>\n",
              "      <td>2.1</td>\n",
              "      <td>7.2</td>\n",
              "    </tr>\n",
              "    <tr>\n",
              "      <th>4</th>\n",
              "      <td>F</td>\n",
              "      <td>2.1</td>\n",
              "      <td>7.3</td>\n",
              "    </tr>\n",
              "    <tr>\n",
              "      <th>...</th>\n",
              "      <td>...</td>\n",
              "      <td>...</td>\n",
              "      <td>...</td>\n",
              "    </tr>\n",
              "    <tr>\n",
              "      <th>139</th>\n",
              "      <td>M</td>\n",
              "      <td>3.7</td>\n",
              "      <td>11.0</td>\n",
              "    </tr>\n",
              "    <tr>\n",
              "      <th>140</th>\n",
              "      <td>M</td>\n",
              "      <td>3.8</td>\n",
              "      <td>14.8</td>\n",
              "    </tr>\n",
              "    <tr>\n",
              "      <th>141</th>\n",
              "      <td>M</td>\n",
              "      <td>3.8</td>\n",
              "      <td>16.8</td>\n",
              "    </tr>\n",
              "    <tr>\n",
              "      <th>142</th>\n",
              "      <td>M</td>\n",
              "      <td>3.9</td>\n",
              "      <td>14.4</td>\n",
              "    </tr>\n",
              "    <tr>\n",
              "      <th>143</th>\n",
              "      <td>M</td>\n",
              "      <td>3.9</td>\n",
              "      <td>20.5</td>\n",
              "    </tr>\n",
              "  </tbody>\n",
              "</table>\n",
              "<p>144 rows × 3 columns</p>\n",
              "</div>\n",
              "      <button class=\"colab-df-convert\" onclick=\"convertToInteractive('df-0eef069e-85da-42d4-b349-d66d73bd2025')\"\n",
              "              title=\"Convert this dataframe to an interactive table.\"\n",
              "              style=\"display:none;\">\n",
              "        \n",
              "  <svg xmlns=\"http://www.w3.org/2000/svg\" height=\"24px\"viewBox=\"0 0 24 24\"\n",
              "       width=\"24px\">\n",
              "    <path d=\"M0 0h24v24H0V0z\" fill=\"none\"/>\n",
              "    <path d=\"M18.56 5.44l.94 2.06.94-2.06 2.06-.94-2.06-.94-.94-2.06-.94 2.06-2.06.94zm-11 1L8.5 8.5l.94-2.06 2.06-.94-2.06-.94L8.5 2.5l-.94 2.06-2.06.94zm10 10l.94 2.06.94-2.06 2.06-.94-2.06-.94-.94-2.06-.94 2.06-2.06.94z\"/><path d=\"M17.41 7.96l-1.37-1.37c-.4-.4-.92-.59-1.43-.59-.52 0-1.04.2-1.43.59L10.3 9.45l-7.72 7.72c-.78.78-.78 2.05 0 2.83L4 21.41c.39.39.9.59 1.41.59.51 0 1.02-.2 1.41-.59l7.78-7.78 2.81-2.81c.8-.78.8-2.07 0-2.86zM5.41 20L4 18.59l7.72-7.72 1.47 1.35L5.41 20z\"/>\n",
              "  </svg>\n",
              "      </button>\n",
              "      \n",
              "  <style>\n",
              "    .colab-df-container {\n",
              "      display:flex;\n",
              "      flex-wrap:wrap;\n",
              "      gap: 12px;\n",
              "    }\n",
              "\n",
              "    .colab-df-convert {\n",
              "      background-color: #E8F0FE;\n",
              "      border: none;\n",
              "      border-radius: 50%;\n",
              "      cursor: pointer;\n",
              "      display: none;\n",
              "      fill: #1967D2;\n",
              "      height: 32px;\n",
              "      padding: 0 0 0 0;\n",
              "      width: 32px;\n",
              "    }\n",
              "\n",
              "    .colab-df-convert:hover {\n",
              "      background-color: #E2EBFA;\n",
              "      box-shadow: 0px 1px 2px rgba(60, 64, 67, 0.3), 0px 1px 3px 1px rgba(60, 64, 67, 0.15);\n",
              "      fill: #174EA6;\n",
              "    }\n",
              "\n",
              "    [theme=dark] .colab-df-convert {\n",
              "      background-color: #3B4455;\n",
              "      fill: #D2E3FC;\n",
              "    }\n",
              "\n",
              "    [theme=dark] .colab-df-convert:hover {\n",
              "      background-color: #434B5C;\n",
              "      box-shadow: 0px 1px 3px 1px rgba(0, 0, 0, 0.15);\n",
              "      filter: drop-shadow(0px 1px 2px rgba(0, 0, 0, 0.3));\n",
              "      fill: #FFFFFF;\n",
              "    }\n",
              "  </style>\n",
              "\n",
              "      <script>\n",
              "        const buttonEl =\n",
              "          document.querySelector('#df-0eef069e-85da-42d4-b349-d66d73bd2025 button.colab-df-convert');\n",
              "        buttonEl.style.display =\n",
              "          google.colab.kernel.accessAllowed ? 'block' : 'none';\n",
              "\n",
              "        async function convertToInteractive(key) {\n",
              "          const element = document.querySelector('#df-0eef069e-85da-42d4-b349-d66d73bd2025');\n",
              "          const dataTable =\n",
              "            await google.colab.kernel.invokeFunction('convertToInteractive',\n",
              "                                                     [key], {});\n",
              "          if (!dataTable) return;\n",
              "\n",
              "          const docLinkHtml = 'Like what you see? Visit the ' +\n",
              "            '<a target=\"_blank\" href=https://colab.research.google.com/notebooks/data_table.ipynb>data table notebook</a>'\n",
              "            + ' to learn more about interactive tables.';\n",
              "          element.innerHTML = '';\n",
              "          dataTable['output_type'] = 'display_data';\n",
              "          await google.colab.output.renderOutput(dataTable, element);\n",
              "          const docLink = document.createElement('div');\n",
              "          docLink.innerHTML = docLinkHtml;\n",
              "          element.appendChild(docLink);\n",
              "        }\n",
              "      </script>\n",
              "    </div>\n",
              "  </div>\n",
              "  "
            ]
          },
          "metadata": {},
          "execution_count": 1
        }
      ]
    },
    {
      "cell_type": "code",
      "source": [
        "cats.info()"
      ],
      "metadata": {
        "colab": {
          "base_uri": "https://localhost:8080/"
        },
        "id": "3TU3-FUQUcY-",
        "outputId": "b140d656-89e3-4788-cb98-264568489ac1"
      },
      "execution_count": null,
      "outputs": [
        {
          "output_type": "stream",
          "name": "stdout",
          "text": [
            "<class 'pandas.core.frame.DataFrame'>\n",
            "RangeIndex: 144 entries, 0 to 143\n",
            "Data columns (total 3 columns):\n",
            " #   Column  Non-Null Count  Dtype  \n",
            "---  ------  --------------  -----  \n",
            " 0   Sex     144 non-null    object \n",
            " 1   Bwt     144 non-null    float64\n",
            " 2   Hwt     144 non-null    float64\n",
            "dtypes: float64(2), object(1)\n",
            "memory usage: 3.5+ KB\n"
          ]
        }
      ]
    },
    {
      "cell_type": "markdown",
      "source": [
        "고양이들의 평균 몸무게가 2.6kg인지 아닌지 통계적 검정 수행"
      ],
      "metadata": {
        "id": "eXQV1XJlUrFa"
      }
    },
    {
      "cell_type": "markdown",
      "source": [
        "정규성 검정\n",
        "\n",
        "from scipy.stats import shapiro\n",
        "\n",
        "귀무가설(H0): 정규분포를 따른다\n",
        "\n",
        "대립가설(H1): 정규분포를 따르지 않는다"
      ],
      "metadata": {
        "id": "I-PTw3m_U2HH"
      }
    },
    {
      "cell_type": "code",
      "source": [
        "import scipy.stats as stats\n",
        "\n",
        "from scipy.stats import shapiro\n",
        "\n",
        "mu = 2.6\n",
        "\n",
        "shapiro(cats['Bwt']) #test_statistic, p-value"
      ],
      "metadata": {
        "colab": {
          "base_uri": "https://localhost:8080/"
        },
        "id": "FlleqgsAUoGU",
        "outputId": "b4425095-99ff-4aaa-f2ad-a5801f2afde6"
      },
      "execution_count": null,
      "outputs": [
        {
          "output_type": "execute_result",
          "data": {
            "text/plain": [
              "(0.9518786668777466, 6.730248423991725e-05)"
            ]
          },
          "metadata": {},
          "execution_count": 3
        }
      ]
    },
    {
      "cell_type": "markdown",
      "source": [
        "p-value가 유의수준보다 충분히 작으므로 귀무가설을 기각하고 cats['Bwt']는 정규분포를 따르지 않는다"
      ],
      "metadata": {
        "id": "JQOrCJ18VQYo"
      }
    },
    {
      "cell_type": "markdown",
      "source": [
        "데이터가 정규분포를 따르지 않으므로 윌콕슨 부호순위 검정 수행"
      ],
      "metadata": {
        "id": "cSdGUqSvVa8Z"
      }
    },
    {
      "cell_type": "code",
      "source": [
        "stats.wilcoxon(cats.Bwt-mu, alternative='two-sided')"
      ],
      "metadata": {
        "colab": {
          "base_uri": "https://localhost:8080/"
        },
        "id": "PWk9_iq5VDSn",
        "outputId": "d6e09a0f-ef12-4aaa-a651-27d5524627bb"
      },
      "execution_count": null,
      "outputs": [
        {
          "output_type": "execute_result",
          "data": {
            "text/plain": [
              "WilcoxonResult(statistic=3573.0, pvalue=0.02524520294814093)"
            ]
          },
          "metadata": {},
          "execution_count": 4
        }
      ]
    },
    {
      "cell_type": "markdown",
      "source": [
        "참고로 정규분포를 따른다면 stats.ttest_1samp()함수 사용"
      ],
      "metadata": {
        "id": "z4KkbFX-Vss-"
      }
    },
    {
      "cell_type": "code",
      "source": [
        "stats.ttest_1samp(cats.Bwt,popmean=mu)"
      ],
      "metadata": {
        "colab": {
          "base_uri": "https://localhost:8080/"
        },
        "id": "APWPjMKpVomK",
        "outputId": "ac591f0c-4e5d-47c8-8bd5-c71bb4e819d9"
      },
      "execution_count": null,
      "outputs": [
        {
          "output_type": "execute_result",
          "data": {
            "text/plain": [
              "Ttest_1sampResult(statistic=3.0564867998078107, pvalue=0.0026730362561723613)"
            ]
          },
          "metadata": {},
          "execution_count": 5
        }
      ]
    },
    {
      "cell_type": "markdown",
      "source": [
        "시각화를 통해 데이터 분포를 확인"
      ],
      "metadata": {
        "id": "tn5Tsw-8V5Pi"
      }
    },
    {
      "cell_type": "code",
      "source": [
        "import matplotlib.pyplot as plt\n",
        "\n",
        "cats_Bwt_cnt = pd.value_counts(cats['Bwt'].values, sort=False)\n",
        "\n",
        "width = 0.4\n",
        "\n",
        "plt.bar(cats_Bwt_cnt.index, cats_Bwt_cnt.values,width)\n",
        "\n",
        "plt.title('Bwt')\n",
        "plt.ylabel('Count')"
      ],
      "metadata": {
        "colab": {
          "base_uri": "https://localhost:8080/",
          "height": 300
        },
        "id": "pGFD0KhLV1sa",
        "outputId": "9b50b707-4e68-4bcc-f355-e5169adee5cf"
      },
      "execution_count": null,
      "outputs": [
        {
          "output_type": "execute_result",
          "data": {
            "text/plain": [
              "Text(0, 0.5, 'Count')"
            ]
          },
          "metadata": {},
          "execution_count": 6
        },
        {
          "output_type": "display_data",
          "data": {
            "text/plain": [
              "<Figure size 432x288 with 1 Axes>"
            ],
            "image/png": "[encoded data removed]"
          },
          "metadata": {
            "needs_background": "light"
          }
        }
      ]
    },
    {
      "cell_type": "markdown",
      "source": [
        "시각화한 그래프에서 데이터가 정규분포를 따른다고 보기 어렵다\n",
        "\n",
        "윌콕슨 부호순위 검정으로 p-value가 유의수준보다 충분히 작으므로 귀무가설:'고양이 몸무게의 평균이 2.6kg이다.'을 기각한다\n",
        "\n",
        "따라서 고양이 몸무게의 평균이 2.6kg이라고 말할 수는 없다"
      ],
      "metadata": {
        "id": "eGq62zcbWSWd"
      }
    },
    {
      "cell_type": "code",
      "source": [
        ""
      ],
      "metadata": {
        "id": "bWr3tBMtWLk9"
      },
      "execution_count": null,
      "outputs": []
    },
    {
      "cell_type": "markdown",
      "source": [
        "#대응표본 t검정(paried sample t-test)"
      ],
      "metadata": {
        "id": "8HqWC1DSW-5f"
      }
    },
    {
      "cell_type": "code",
      "source": [
        ""
      ],
      "metadata": {
        "id": "3KlSjsWvXB78"
      },
      "execution_count": null,
      "outputs": []
    },
    {
      "cell_type": "markdown",
      "source": [
        "단일모집단에 대해 어떠한 처리를 가했을 때, 처리 전후에 따른 평균의 차이를 비교\n",
        "\n",
        "표본 내에 개체들에 대해 처리 전, 처리 후 2번의 측정\n",
        "\n",
        "처리 전 관측값과 처리 후 관측값의 차이가 정규성을 만족해야함\n",
        "\n",
        "절댓값 차이가 아니고 그냥 처리 전후 차이"
      ],
      "metadata": {
        "id": "qisuYPjzXDAb"
      }
    },
    {
      "cell_type": "code",
      "source": [
        ""
      ],
      "metadata": {
        "id": "A024gb13XRYz"
      },
      "execution_count": null,
      "outputs": []
    },
    {
      "cell_type": "markdown",
      "source": [
        "귀무가설(H0): 처리 전후 평균의 차이가 없다\n",
        "\n",
        "대립가설(H1): 처리 전후 평균의 차이가 있다\n",
        "\n",
        "1. 처리 전후 관측값 차이에 대한 정규성 검정 수행\n",
        "\n",
        "2. 정규성을 따르면 대응표본 T검정(ttest_rel)\n",
        "\n",
        "3. 정규성을 따르지 않으면 윌콕슨 부호순위 검정(wilcoxon)"
      ],
      "metadata": {
        "id": "bUDXaPRHXrK6"
      }
    },
    {
      "cell_type": "code",
      "source": [
        ""
      ],
      "metadata": {
        "id": "ET73FVOyX95E"
      },
      "execution_count": null,
      "outputs": []
    },
    {
      "cell_type": "markdown",
      "source": [
        "#예제\n",
        "\n",
        "10명의 환자 대상 수면영양제 복용 전과 후의 수면시간을 측정, 영양제의 효과가 있는지를 판단"
      ],
      "metadata": {
        "id": "kEYsLuUCYGmY"
      }
    },
    {
      "cell_type": "code",
      "source": [
        "#데이터 불러오기\n",
        "\n",
        "import pandas as pd\n",
        "\n",
        "data = {'before':[7,3,4,5,2,1,6,6,5,4],'after':[8,4,5,6,2,3,6,8,6,5]}\n",
        "\n",
        "data = pd.DataFrame(data)\n",
        "\n",
        "data"
      ],
      "metadata": {
        "colab": {
          "base_uri": "https://localhost:8080/",
          "height": 363
        },
        "id": "srigFX5cYLfR",
        "outputId": "b64451f1-5f42-4367-926f-813ec6d55e07"
      },
      "execution_count": null,
      "outputs": [
        {
          "output_type": "execute_result",
          "data": {
            "text/plain": [
              "   before  after\n",
              "0       7      8\n",
              "1       3      4\n",
              "2       4      5\n",
              "3       5      6\n",
              "4       2      2\n",
              "5       1      3\n",
              "6       6      6\n",
              "7       6      8\n",
              "8       5      6\n",
              "9       4      5"
            ],
            "text/html": [
              "\n",
              "  <div id=\"df-bdccfd5b-8f77-4ef8-ab52-c1d0319115a8\">\n",
              "    <div class=\"colab-df-container\">\n",
              "      <div>\n",
              "<style scoped>\n",
              "    .dataframe tbody tr th:only-of-type {\n",
              "        vertical-align: middle;\n",
              "    }\n",
              "\n",
              "    .dataframe tbody tr th {\n",
              "        vertical-align: top;\n",
              "    }\n",
              "\n",
              "    .dataframe thead th {\n",
              "        text-align: right;\n",
              "    }\n",
              "</style>\n",
              "<table border=\"1\" class=\"dataframe\">\n",
              "  <thead>\n",
              "    <tr style=\"text-align: right;\">\n",
              "      <th></th>\n",
              "      <th>before</th>\n",
              "      <th>after</th>\n",
              "    </tr>\n",
              "  </thead>\n",
              "  <tbody>\n",
              "    <tr>\n",
              "      <th>0</th>\n",
              "      <td>7</td>\n",
              "      <td>8</td>\n",
              "    </tr>\n",
              "    <tr>\n",
              "      <th>1</th>\n",
              "      <td>3</td>\n",
              "      <td>4</td>\n",
              "    </tr>\n",
              "    <tr>\n",
              "      <th>2</th>\n",
              "      <td>4</td>\n",
              "      <td>5</td>\n",
              "    </tr>\n",
              "    <tr>\n",
              "      <th>3</th>\n",
              "      <td>5</td>\n",
              "      <td>6</td>\n",
              "    </tr>\n",
              "    <tr>\n",
              "      <th>4</th>\n",
              "      <td>2</td>\n",
              "      <td>2</td>\n",
              "    </tr>\n",
              "    <tr>\n",
              "      <th>5</th>\n",
              "      <td>1</td>\n",
              "      <td>3</td>\n",
              "    </tr>\n",
              "    <tr>\n",
              "      <th>6</th>\n",
              "      <td>6</td>\n",
              "      <td>6</td>\n",
              "    </tr>\n",
              "    <tr>\n",
              "      <th>7</th>\n",
              "      <td>6</td>\n",
              "      <td>8</td>\n",
              "    </tr>\n",
              "    <tr>\n",
              "      <th>8</th>\n",
              "      <td>5</td>\n",
              "      <td>6</td>\n",
              "    </tr>\n",
              "    <tr>\n",
              "      <th>9</th>\n",
              "      <td>4</td>\n",
              "      <td>5</td>\n",
              "    </tr>\n",
              "  </tbody>\n",
              "</table>\n",
              "</div>\n",
              "      <button class=\"colab-df-convert\" onclick=\"convertToInteractive('df-bdccfd5b-8f77-4ef8-ab52-c1d0319115a8')\"\n",
              "              title=\"Convert this dataframe to an interactive table.\"\n",
              "              style=\"display:none;\">\n",
              "        \n",
              "  <svg xmlns=\"http://www.w3.org/2000/svg\" height=\"24px\"viewBox=\"0 0 24 24\"\n",
              "       width=\"24px\">\n",
              "    <path d=\"M0 0h24v24H0V0z\" fill=\"none\"/>\n",
              "    <path d=\"M18.56 5.44l.94 2.06.94-2.06 2.06-.94-2.06-.94-.94-2.06-.94 2.06-2.06.94zm-11 1L8.5 8.5l.94-2.06 2.06-.94-2.06-.94L8.5 2.5l-.94 2.06-2.06.94zm10 10l.94 2.06.94-2.06 2.06-.94-2.06-.94-.94-2.06-.94 2.06-2.06.94z\"/><path d=\"M17.41 7.96l-1.37-1.37c-.4-.4-.92-.59-1.43-.59-.52 0-1.04.2-1.43.59L10.3 9.45l-7.72 7.72c-.78.78-.78 2.05 0 2.83L4 21.41c.39.39.9.59 1.41.59.51 0 1.02-.2 1.41-.59l7.78-7.78 2.81-2.81c.8-.78.8-2.07 0-2.86zM5.41 20L4 18.59l7.72-7.72 1.47 1.35L5.41 20z\"/>\n",
              "  </svg>\n",
              "      </button>\n",
              "      \n",
              "  <style>\n",
              "    .colab-df-container {\n",
              "      display:flex;\n",
              "      flex-wrap:wrap;\n",
              "      gap: 12px;\n",
              "    }\n",
              "\n",
              "    .colab-df-convert {\n",
              "      background-color: #E8F0FE;\n",
              "      border: none;\n",
              "      border-radius: 50%;\n",
              "      cursor: pointer;\n",
              "      display: none;\n",
              "      fill: #1967D2;\n",
              "      height: 32px;\n",
              "      padding: 0 0 0 0;\n",
              "      width: 32px;\n",
              "    }\n",
              "\n",
              "    .colab-df-convert:hover {\n",
              "      background-color: #E2EBFA;\n",
              "      box-shadow: 0px 1px 2px rgba(60, 64, 67, 0.3), 0px 1px 3px 1px rgba(60, 64, 67, 0.15);\n",
              "      fill: #174EA6;\n",
              "    }\n",
              "\n",
              "    [theme=dark] .colab-df-convert {\n",
              "      background-color: #3B4455;\n",
              "      fill: #D2E3FC;\n",
              "    }\n",
              "\n",
              "    [theme=dark] .colab-df-convert:hover {\n",
              "      background-color: #434B5C;\n",
              "      box-shadow: 0px 1px 3px 1px rgba(0, 0, 0, 0.15);\n",
              "      filter: drop-shadow(0px 1px 2px rgba(0, 0, 0, 0.3));\n",
              "      fill: #FFFFFF;\n",
              "    }\n",
              "  </style>\n",
              "\n",
              "      <script>\n",
              "        const buttonEl =\n",
              "          document.querySelector('#df-bdccfd5b-8f77-4ef8-ab52-c1d0319115a8 button.colab-df-convert');\n",
              "        buttonEl.style.display =\n",
              "          google.colab.kernel.accessAllowed ? 'block' : 'none';\n",
              "\n",
              "        async function convertToInteractive(key) {\n",
              "          const element = document.querySelector('#df-bdccfd5b-8f77-4ef8-ab52-c1d0319115a8');\n",
              "          const dataTable =\n",
              "            await google.colab.kernel.invokeFunction('convertToInteractive',\n",
              "                                                     [key], {});\n",
              "          if (!dataTable) return;\n",
              "\n",
              "          const docLinkHtml = 'Like what you see? Visit the ' +\n",
              "            '<a target=\"_blank\" href=https://colab.research.google.com/notebooks/data_table.ipynb>data table notebook</a>'\n",
              "            + ' to learn more about interactive tables.';\n",
              "          element.innerHTML = '';\n",
              "          dataTable['output_type'] = 'display_data';\n",
              "          await google.colab.output.renderOutput(dataTable, element);\n",
              "          const docLink = document.createElement('div');\n",
              "          docLink.innerHTML = docLinkHtml;\n",
              "          element.appendChild(docLink);\n",
              "        }\n",
              "      </script>\n",
              "    </div>\n",
              "  </div>\n",
              "  "
            ]
          },
          "metadata": {},
          "execution_count": 2
        }
      ]
    },
    {
      "cell_type": "code",
      "source": [
        "#처리 전후 관측값의 차이\n",
        "\n",
        "data_bef_aft = data['before']-data['after'] #절댓값이 아니고 그냥 차이 #음수가 안될이유는 없지\n",
        "\n",
        "data_bef_aft"
      ],
      "metadata": {
        "colab": {
          "base_uri": "https://localhost:8080/"
        },
        "id": "mVVSWDk4Y1_l",
        "outputId": "96885b71-2887-4c0c-e6c6-e20935d24aa8"
      },
      "execution_count": null,
      "outputs": [
        {
          "output_type": "execute_result",
          "data": {
            "text/plain": [
              "0   -1\n",
              "1   -1\n",
              "2   -1\n",
              "3   -1\n",
              "4    0\n",
              "5   -2\n",
              "6    0\n",
              "7   -2\n",
              "8   -1\n",
              "9   -1\n",
              "dtype: int64"
            ]
          },
          "metadata": {},
          "execution_count": 4
        }
      ]
    },
    {
      "cell_type": "code",
      "source": [
        "#정규성 검정 수행\n",
        "\n",
        "from scipy.stats import shapiro\n",
        "\n",
        "shapiro(data_bef_aft)"
      ],
      "metadata": {
        "colab": {
          "base_uri": "https://localhost:8080/"
        },
        "id": "35OEpR_SZCy3",
        "outputId": "0f77b307-a98c-48f8-dfd9-59490d22e70c"
      },
      "execution_count": null,
      "outputs": [
        {
          "output_type": "execute_result",
          "data": {
            "text/plain": [
              "ShapiroResult(statistic=0.8148399591445923, pvalue=0.021947985514998436)"
            ]
          },
          "metadata": {},
          "execution_count": 5
        }
      ]
    },
    {
      "cell_type": "markdown",
      "source": [
        "p-value가 충분히 작으므로 귀무가설(H0):정규분포를 따른다를 기각"
      ],
      "metadata": {
        "id": "KMWGZbnWZp9J"
      }
    },
    {
      "cell_type": "markdown",
      "source": [
        "wilcoxon(x=data['before'],y=data['after'])\n",
        "\n",
        "wilcoxon(x=data['before']-data['after'])\n",
        "\n",
        "둘 다 동일한 결과를 낸다"
      ],
      "metadata": {
        "id": "R97GVZLXa1gy"
      }
    },
    {
      "cell_type": "markdown",
      "source": [
        "w는 대문자가 아니고 소문자"
      ],
      "metadata": {
        "id": "TqobcWkka_B-"
      }
    },
    {
      "cell_type": "code",
      "source": [
        "#wilcoxon 검정 수행\n",
        "\n",
        "from scipy.stats import wilcoxon\n",
        "\n",
        "wilcoxon(x=data['before'],y=data['after'])"
      ],
      "metadata": {
        "colab": {
          "base_uri": "https://localhost:8080/"
        },
        "id": "lgM-rIMEZh1e",
        "outputId": "9dbf0f2d-2c64-4b97-fadc-348b1930bc03"
      },
      "execution_count": null,
      "outputs": [
        {
          "output_type": "stream",
          "name": "stderr",
          "text": [
            "/usr/local/lib/python3.7/dist-packages/scipy/stats/morestats.py:3141: UserWarning: Exact p-value calculation does not work if there are ties. Switching to normal approximation.\n",
            "  warnings.warn(\"Exact p-value calculation does not work if there are \"\n",
            "/usr/local/lib/python3.7/dist-packages/scipy/stats/morestats.py:3155: UserWarning: Sample size too small for normal approximation.\n",
            "  warnings.warn(\"Sample size too small for normal approximation.\")\n"
          ]
        },
        {
          "output_type": "execute_result",
          "data": {
            "text/plain": [
              "WilcoxonResult(statistic=0.0, pvalue=0.00829921599528076)"
            ]
          },
          "metadata": {},
          "execution_count": 6
        }
      ]
    },
    {
      "cell_type": "code",
      "source": [
        "wilcoxon(data['before']-data['after'])"
      ],
      "metadata": {
        "colab": {
          "base_uri": "https://localhost:8080/"
        },
        "id": "NakCJslZaEIo",
        "outputId": "023bdf30-916c-4fe1-9f29-4346a500a6b1"
      },
      "execution_count": null,
      "outputs": [
        {
          "output_type": "stream",
          "name": "stderr",
          "text": [
            "/usr/local/lib/python3.7/dist-packages/scipy/stats/morestats.py:3141: UserWarning: Exact p-value calculation does not work if there are ties. Switching to normal approximation.\n",
            "  warnings.warn(\"Exact p-value calculation does not work if there are \"\n",
            "/usr/local/lib/python3.7/dist-packages/scipy/stats/morestats.py:3155: UserWarning: Sample size too small for normal approximation.\n",
            "  warnings.warn(\"Sample size too small for normal approximation.\")\n"
          ]
        },
        {
          "output_type": "execute_result",
          "data": {
            "text/plain": [
              "WilcoxonResult(statistic=0.0, pvalue=0.00829921599528076)"
            ]
          },
          "metadata": {},
          "execution_count": 7
        }
      ]
    },
    {
      "cell_type": "markdown",
      "source": [
        "혹은 정규분포를 따른다고 할 수 있으면 stats.ttest_rel(a=, b=)을 사용"
      ],
      "metadata": {
        "id": "RT_sqtKBbOHd"
      }
    },
    {
      "cell_type": "code",
      "source": [
        "from scipy.stats import ttest_rel\n",
        "\n",
        "ttest_rel(a = data['before'], b = data['after'])"
      ],
      "metadata": {
        "colab": {
          "base_uri": "https://localhost:8080/"
        },
        "id": "6Gnb9WCmakKB",
        "outputId": "98cab49d-48ca-49f1-c5ff-83f2c9310aef"
      },
      "execution_count": null,
      "outputs": [
        {
          "output_type": "execute_result",
          "data": {
            "text/plain": [
              "Ttest_relResult(statistic=-4.743416490252569, pvalue=0.0010538712570165528)"
            ]
          },
          "metadata": {},
          "execution_count": 8
        }
      ]
    },
    {
      "cell_type": "markdown",
      "source": [
        "p-value가 충분히 작으므로 귀무가설(H0): 처리 전후 평균의 차이는 없다를 기각"
      ],
      "metadata": {
        "id": "NyLru-PDbjkF"
      }
    },
    {
      "cell_type": "code",
      "source": [
        "data.mean()"
      ],
      "metadata": {
        "colab": {
          "base_uri": "https://localhost:8080/"
        },
        "id": "rzqY1nbXbeFJ",
        "outputId": "566b7410-58a5-4aa6-87ec-3cf2035dd8c8"
      },
      "execution_count": null,
      "outputs": [
        {
          "output_type": "execute_result",
          "data": {
            "text/plain": [
              "before    4.3\n",
              "after     5.3\n",
              "dtype: float64"
            ]
          },
          "metadata": {},
          "execution_count": 9
        }
      ]
    },
    {
      "cell_type": "markdown",
      "source": [
        "처리 후 평균이 더 크다는 것을 추측할 수 있고 실제로 검정해보면"
      ],
      "metadata": {
        "id": "q2q3qZZubqJn"
      }
    },
    {
      "cell_type": "code",
      "source": [
        "import scipy\n",
        "\n",
        "print(scipy.__version__)"
      ],
      "metadata": {
        "colab": {
          "base_uri": "https://localhost:8080/"
        },
        "id": "xPTZkIPXctx3",
        "outputId": "22fa32d7-d023-4f4c-ccca-64e0b844ce65"
      },
      "execution_count": null,
      "outputs": [
        {
          "output_type": "stream",
          "name": "stdout",
          "text": [
            "1.7.3\n"
          ]
        }
      ]
    },
    {
      "cell_type": "code",
      "source": [
        "!pip install --upgrade scipy"
      ],
      "metadata": {
        "id": "j6scJabPchpN"
      },
      "execution_count": null,
      "outputs": []
    },
    {
      "cell_type": "markdown",
      "source": [
        "대립가설(H1): 처리 전 평균이 처리 후 평균보다 작다('less')"
      ],
      "metadata": {
        "id": "G2nrJKENdiZf"
      }
    },
    {
      "cell_type": "code",
      "source": [
        "#ttest_rel은 scipy 1.6.0이상부터 alternative 기능 지원함\n",
        "\n",
        "ttest_rel(a=data['before'],b=data['after'],alternative='less')"
      ],
      "metadata": {
        "colab": {
          "base_uri": "https://localhost:8080/"
        },
        "id": "s2V6k0dabo4J",
        "outputId": "2e41bf47-1ae6-456b-d270-41fc96fcee4e"
      },
      "execution_count": null,
      "outputs": [
        {
          "output_type": "execute_result",
          "data": {
            "text/plain": [
              "Ttest_relResult(statistic=-4.743416490252569, pvalue=0.0005269356285082764)"
            ]
          },
          "metadata": {},
          "execution_count": 10
        }
      ]
    },
    {
      "cell_type": "code",
      "source": [
        "wilcoxon(x=data['before'],y=data['after'],alternative='less')"
      ],
      "metadata": {
        "colab": {
          "base_uri": "https://localhost:8080/"
        },
        "id": "97qgEXuZd5ng",
        "outputId": "53a22f09-1f60-44c5-947d-a7183825f073"
      },
      "execution_count": null,
      "outputs": [
        {
          "output_type": "stream",
          "name": "stderr",
          "text": [
            "/usr/local/lib/python3.7/dist-packages/scipy/stats/morestats.py:3141: UserWarning: Exact p-value calculation does not work if there are ties. Switching to normal approximation.\n",
            "  warnings.warn(\"Exact p-value calculation does not work if there are \"\n",
            "/usr/local/lib/python3.7/dist-packages/scipy/stats/morestats.py:3155: UserWarning: Sample size too small for normal approximation.\n",
            "  warnings.warn(\"Sample size too small for normal approximation.\")\n"
          ]
        },
        {
          "output_type": "execute_result",
          "data": {
            "text/plain": [
              "WilcoxonResult(statistic=0.0, pvalue=0.00414960799764038)"
            ]
          },
          "metadata": {},
          "execution_count": 11
        }
      ]
    },
    {
      "cell_type": "markdown",
      "source": [
        "p-value가 충분히 작아 귀무가설 H0:처리 전후 평균의 차이가 없다를 기각하고\n",
        "\n",
        "처리 전 평균이 처리 후 평균보다 작다라는 대립가설을 채택한다"
      ],
      "metadata": {
        "id": "YH7cA7SgdpDw"
      }
    },
    {
      "cell_type": "code",
      "source": [
        ""
      ],
      "metadata": {
        "id": "8xQqXQ6WcHYB"
      },
      "execution_count": null,
      "outputs": []
    },
    {
      "cell_type": "markdown",
      "source": [
        "#독립표본 t-test(independent two sample t-test)"
      ],
      "metadata": {
        "id": "pb45IQJniMrL"
      }
    },
    {
      "cell_type": "code",
      "source": [
        ""
      ],
      "metadata": {
        "id": "wToxogJkiQQO"
      },
      "execution_count": null,
      "outputs": []
    },
    {
      "cell_type": "markdown",
      "source": [
        "두 개의 독립된 모집단의 평균을 비교할 때 사용\n",
        "\n",
        "모집단, 모수, 표본이 모두 두 개씩 존재"
      ],
      "metadata": {
        "id": "5kqim3qviR8u"
      }
    },
    {
      "cell_type": "code",
      "source": [
        ""
      ],
      "metadata": {
        "id": "exiMcLJXiZgd"
      },
      "execution_count": null,
      "outputs": []
    },
    {
      "cell_type": "markdown",
      "source": [
        "1. 두 모집단이 정규성을 만족해야함\n",
        "\n",
        "2. 두 모집단의 분산이 서로 같아야함"
      ],
      "metadata": {
        "id": "1QpzIvsPiaRH"
      }
    },
    {
      "cell_type": "code",
      "source": [
        ""
      ],
      "metadata": {
        "id": "sgEj8495ie-8"
      },
      "execution_count": null,
      "outputs": []
    },
    {
      "cell_type": "markdown",
      "source": [
        "1. 정규성 검정 수행(scipy.stats.shapiro)\n",
        "\n",
        "두 모집단이 정규분포를 따르지 않는다면 윌콕슨 순위합 검정(scipy.stats.ranksums, scipy.stats.mannwhitneyu)\n",
        "\n",
        "정규분포를 따른다면 ttest_ind\n",
        "\n",
        "2. 등분산검정 수행(scipy.stats.levene)\n",
        "\n",
        "귀무가설(H0): 분산이 서로 동일하다\n",
        "\n",
        "대립가설(H1): 분산이 서로 동일하지 않다\n",
        "\n",
        "3. T-TEST 수행\n",
        "\n",
        "등분산이라면 scipy.stats.ttest_ind(equal_var=True)\n",
        "\n",
        "등분산이 아니라면 scipy.stats.ttest_ind(equal_var=False)\n",
        "\n"
      ],
      "metadata": {
        "id": "ueaj5mnXjRiQ"
      }
    },
    {
      "cell_type": "code",
      "source": [
        ""
      ],
      "metadata": {
        "id": "ZmIfVsw5kUmh"
      },
      "execution_count": null,
      "outputs": []
    },
    {
      "cell_type": "markdown",
      "source": [
        "예제 \n",
        "\n",
        "cats 데이터에서 수컷인 고양이와 암컷인 고양이의 몸무게 차이를 비교"
      ],
      "metadata": {
        "id": "hUXOQo4flBKE"
      }
    },
    {
      "cell_type": "code",
      "source": [
        "#데이터 로드\n",
        "\n",
        "import pandas as pd\n",
        "\n",
        "cats = pd.read_csv('/content/drive/MyDrive/adpdata/cats.csv')\n",
        "\n",
        "cats"
      ],
      "metadata": {
        "colab": {
          "base_uri": "https://localhost:8080/",
          "height": 424
        },
        "id": "PpCFcy45lHGG",
        "outputId": "14bb27ed-3f28-4dfb-b5bf-f042c29b56d0"
      },
      "execution_count": 1,
      "outputs": [
        {
          "output_type": "execute_result",
          "data": {
            "text/plain": [
              "    Sex  Bwt   Hwt\n",
              "0     F  2.0   7.0\n",
              "1     F  2.0   7.4\n",
              "2     F  2.0   9.5\n",
              "3     F  2.1   7.2\n",
              "4     F  2.1   7.3\n",
              "..   ..  ...   ...\n",
              "139   M  3.7  11.0\n",
              "140   M  3.8  14.8\n",
              "141   M  3.8  16.8\n",
              "142   M  3.9  14.4\n",
              "143   M  3.9  20.5\n",
              "\n",
              "[144 rows x 3 columns]"
            ],
            "text/html": [
              "\n",
              "  <div id=\"df-ef7cf8a9-d5d7-4b78-ae0f-3a0c06ecd031\">\n",
              "    <div class=\"colab-df-container\">\n",
              "      <div>\n",
              "<style scoped>\n",
              "    .dataframe tbody tr th:only-of-type {\n",
              "        vertical-align: middle;\n",
              "    }\n",
              "\n",
              "    .dataframe tbody tr th {\n",
              "        vertical-align: top;\n",
              "    }\n",
              "\n",
              "    .dataframe thead th {\n",
              "        text-align: right;\n",
              "    }\n",
              "</style>\n",
              "<table border=\"1\" class=\"dataframe\">\n",
              "  <thead>\n",
              "    <tr style=\"text-align: right;\">\n",
              "      <th></th>\n",
              "      <th>Sex</th>\n",
              "      <th>Bwt</th>\n",
              "      <th>Hwt</th>\n",
              "    </tr>\n",
              "  </thead>\n",
              "  <tbody>\n",
              "    <tr>\n",
              "      <th>0</th>\n",
              "      <td>F</td>\n",
              "      <td>2.0</td>\n",
              "      <td>7.0</td>\n",
              "    </tr>\n",
              "    <tr>\n",
              "      <th>1</th>\n",
              "      <td>F</td>\n",
              "      <td>2.0</td>\n",
              "      <td>7.4</td>\n",
              "    </tr>\n",
              "    <tr>\n",
              "      <th>2</th>\n",
              "      <td>F</td>\n",
              "      <td>2.0</td>\n",
              "      <td>9.5</td>\n",
              "    </tr>\n",
              "    <tr>\n",
              "      <th>3</th>\n",
              "      <td>F</td>\n",
              "      <td>2.1</td>\n",
              "      <td>7.2</td>\n",
              "    </tr>\n",
              "    <tr>\n",
              "      <th>4</th>\n",
              "      <td>F</td>\n",
              "      <td>2.1</td>\n",
              "      <td>7.3</td>\n",
              "    </tr>\n",
              "    <tr>\n",
              "      <th>...</th>\n",
              "      <td>...</td>\n",
              "      <td>...</td>\n",
              "      <td>...</td>\n",
              "    </tr>\n",
              "    <tr>\n",
              "      <th>139</th>\n",
              "      <td>M</td>\n",
              "      <td>3.7</td>\n",
              "      <td>11.0</td>\n",
              "    </tr>\n",
              "    <tr>\n",
              "      <th>140</th>\n",
              "      <td>M</td>\n",
              "      <td>3.8</td>\n",
              "      <td>14.8</td>\n",
              "    </tr>\n",
              "    <tr>\n",
              "      <th>141</th>\n",
              "      <td>M</td>\n",
              "      <td>3.8</td>\n",
              "      <td>16.8</td>\n",
              "    </tr>\n",
              "    <tr>\n",
              "      <th>142</th>\n",
              "      <td>M</td>\n",
              "      <td>3.9</td>\n",
              "      <td>14.4</td>\n",
              "    </tr>\n",
              "    <tr>\n",
              "      <th>143</th>\n",
              "      <td>M</td>\n",
              "      <td>3.9</td>\n",
              "      <td>20.5</td>\n",
              "    </tr>\n",
              "  </tbody>\n",
              "</table>\n",
              "<p>144 rows × 3 columns</p>\n",
              "</div>\n",
              "      <button class=\"colab-df-convert\" onclick=\"convertToInteractive('df-ef7cf8a9-d5d7-4b78-ae0f-3a0c06ecd031')\"\n",
              "              title=\"Convert this dataframe to an interactive table.\"\n",
              "              style=\"display:none;\">\n",
              "        \n",
              "  <svg xmlns=\"http://www.w3.org/2000/svg\" height=\"24px\"viewBox=\"0 0 24 24\"\n",
              "       width=\"24px\">\n",
              "    <path d=\"M0 0h24v24H0V0z\" fill=\"none\"/>\n",
              "    <path d=\"M18.56 5.44l.94 2.06.94-2.06 2.06-.94-2.06-.94-.94-2.06-.94 2.06-2.06.94zm-11 1L8.5 8.5l.94-2.06 2.06-.94-2.06-.94L8.5 2.5l-.94 2.06-2.06.94zm10 10l.94 2.06.94-2.06 2.06-.94-2.06-.94-.94-2.06-.94 2.06-2.06.94z\"/><path d=\"M17.41 7.96l-1.37-1.37c-.4-.4-.92-.59-1.43-.59-.52 0-1.04.2-1.43.59L10.3 9.45l-7.72 7.72c-.78.78-.78 2.05 0 2.83L4 21.41c.39.39.9.59 1.41.59.51 0 1.02-.2 1.41-.59l7.78-7.78 2.81-2.81c.8-.78.8-2.07 0-2.86zM5.41 20L4 18.59l7.72-7.72 1.47 1.35L5.41 20z\"/>\n",
              "  </svg>\n",
              "      </button>\n",
              "      \n",
              "  <style>\n",
              "    .colab-df-container {\n",
              "      display:flex;\n",
              "      flex-wrap:wrap;\n",
              "      gap: 12px;\n",
              "    }\n",
              "\n",
              "    .colab-df-convert {\n",
              "      background-color: #E8F0FE;\n",
              "      border: none;\n",
              "      border-radius: 50%;\n",
              "      cursor: pointer;\n",
              "      display: none;\n",
              "      fill: #1967D2;\n",
              "      height: 32px;\n",
              "      padding: 0 0 0 0;\n",
              "      width: 32px;\n",
              "    }\n",
              "\n",
              "    .colab-df-convert:hover {\n",
              "      background-color: #E2EBFA;\n",
              "      box-shadow: 0px 1px 2px rgba(60, 64, 67, 0.3), 0px 1px 3px 1px rgba(60, 64, 67, 0.15);\n",
              "      fill: #174EA6;\n",
              "    }\n",
              "\n",
              "    [theme=dark] .colab-df-convert {\n",
              "      background-color: #3B4455;\n",
              "      fill: #D2E3FC;\n",
              "    }\n",
              "\n",
              "    [theme=dark] .colab-df-convert:hover {\n",
              "      background-color: #434B5C;\n",
              "      box-shadow: 0px 1px 3px 1px rgba(0, 0, 0, 0.15);\n",
              "      filter: drop-shadow(0px 1px 2px rgba(0, 0, 0, 0.3));\n",
              "      fill: #FFFFFF;\n",
              "    }\n",
              "  </style>\n",
              "\n",
              "      <script>\n",
              "        const buttonEl =\n",
              "          document.querySelector('#df-ef7cf8a9-d5d7-4b78-ae0f-3a0c06ecd031 button.colab-df-convert');\n",
              "        buttonEl.style.display =\n",
              "          google.colab.kernel.accessAllowed ? 'block' : 'none';\n",
              "\n",
              "        async function convertToInteractive(key) {\n",
              "          const element = document.querySelector('#df-ef7cf8a9-d5d7-4b78-ae0f-3a0c06ecd031');\n",
              "          const dataTable =\n",
              "            await google.colab.kernel.invokeFunction('convertToInteractive',\n",
              "                                                     [key], {});\n",
              "          if (!dataTable) return;\n",
              "\n",
              "          const docLinkHtml = 'Like what you see? Visit the ' +\n",
              "            '<a target=\"_blank\" href=https://colab.research.google.com/notebooks/data_table.ipynb>data table notebook</a>'\n",
              "            + ' to learn more about interactive tables.';\n",
              "          element.innerHTML = '';\n",
              "          dataTable['output_type'] = 'display_data';\n",
              "          await google.colab.output.renderOutput(dataTable, element);\n",
              "          const docLink = document.createElement('div');\n",
              "          docLink.innerHTML = docLinkHtml;\n",
              "          element.appendChild(docLink);\n",
              "        }\n",
              "      </script>\n",
              "    </div>\n",
              "  </div>\n",
              "  "
            ]
          },
          "metadata": {},
          "execution_count": 1
        }
      ]
    },
    {
      "cell_type": "code",
      "source": [
        "#암컷 고양이의 몸무게(bwt)와 수컷 고양이의 몸무게(bwt)\n",
        "\n",
        "#female = cats[cats['Sex'] == 'F'] ['Bwt']\n",
        "#male = cats[cats['Sex'] == 'M']['Bwt']\n",
        "\n",
        "female = cats.loc[cats.Sex=='F','Bwt']\n",
        "male = cats.loc[cats.Sex=='M','Bwt']"
      ],
      "metadata": {
        "id": "zzOaz8-_lWZr"
      },
      "execution_count": 4,
      "outputs": []
    },
    {
      "cell_type": "markdown",
      "source": [
        "#상관분석을 통해 두 집단이 독립인지 검정해야한다고 생각"
      ],
      "metadata": {
        "id": "oi6gSXfSxzhl"
      }
    },
    {
      "cell_type": "markdown",
      "source": [
        "#이 부분은 따로 정리하도록"
      ],
      "metadata": {
        "id": "GI3vobQAx3Su"
      }
    },
    {
      "cell_type": "code",
      "source": [
        "import numpy as np\n",
        "\n",
        "np.corrcoef(female,male[:len(female)])"
      ],
      "metadata": {
        "colab": {
          "base_uri": "https://localhost:8080/"
        },
        "id": "d4t9hfNcunZd",
        "outputId": "c54aa2eb-5979-4301-c593-e8aa779c23a5"
      },
      "execution_count": 32,
      "outputs": [
        {
          "output_type": "execute_result",
          "data": {
            "text/plain": [
              "array([[1.       , 0.8813791],\n",
              "       [0.8813791, 1.       ]])"
            ]
          },
          "metadata": {},
          "execution_count": 32
        }
      ]
    },
    {
      "cell_type": "code",
      "source": [
        "import seaborn as sns\n",
        "\n",
        "sns.relplot(x = np.array(female), y = np.array(male[:len(female)]))\n",
        "\n",
        "plt.xlim((2,3))\n",
        "plt.ylim((2,3))"
      ],
      "metadata": {
        "colab": {
          "base_uri": "https://localhost:8080/",
          "height": 392
        },
        "id": "upDrrlSMvG05",
        "outputId": "da10e63d-3aab-469a-ae35-ca739481fbda"
      },
      "execution_count": 43,
      "outputs": [
        {
          "output_type": "execute_result",
          "data": {
            "text/plain": [
              "(2.0, 3.0)"
            ]
          },
          "metadata": {},
          "execution_count": 43
        },
        {
          "output_type": "display_data",
          "data": {
            "text/plain": [
              "<Figure size 360x360 with 1 Axes>"
            ],
            "image/png": "[encoded data removed]"
          },
          "metadata": {
            "needs_background": "light"
          }
        }
      ]
    },
    {
      "cell_type": "markdown",
      "source": [
        "정규성 검정 수행"
      ],
      "metadata": {
        "id": "7qnpErnXl-T6"
      }
    },
    {
      "cell_type": "code",
      "source": [
        "from scipy.stats import shapiro\n",
        "\n",
        "\n",
        "shapiro(female)"
      ],
      "metadata": {
        "colab": {
          "base_uri": "https://localhost:8080/"
        },
        "id": "YtoLjzi6lohi",
        "outputId": "97a65fbd-bd23-4fa3-aa10-91e41f7b8b76"
      },
      "execution_count": 5,
      "outputs": [
        {
          "output_type": "execute_result",
          "data": {
            "text/plain": [
              "(0.8909613490104675, 0.0003754299250431359)"
            ]
          },
          "metadata": {},
          "execution_count": 5
        }
      ]
    },
    {
      "cell_type": "code",
      "source": [
        "shapiro(male)"
      ],
      "metadata": {
        "colab": {
          "base_uri": "https://localhost:8080/"
        },
        "id": "-VRZIpHFmD0m",
        "outputId": "f458098a-f3e9-40f3-f60e-f6156f83a4e0"
      },
      "execution_count": 6,
      "outputs": [
        {
          "output_type": "execute_result",
          "data": {
            "text/plain": [
              "(0.9788321852684021, 0.11895745247602463)"
            ]
          },
          "metadata": {},
          "execution_count": 6
        }
      ]
    },
    {
      "cell_type": "markdown",
      "source": [
        "feamle은 p-value가 충분히 작아 귀무가설을 기각하고\n",
        "\n",
        "male은 p-value가 커서 귀무가설을 기각하지 못한다"
      ],
      "metadata": {
        "id": "GCub1n1GmJo_"
      }
    },
    {
      "cell_type": "markdown",
      "source": [
        "female은 정규분포를 따른다고 보기 어렵지만 male은 정규분포를 따른다고 할 수 있다"
      ],
      "metadata": {
        "id": "Eq0h8T5fmQ9I"
      }
    },
    {
      "cell_type": "markdown",
      "source": [
        "따라서 윌콕슨 순위합 검정을 수행\n",
        "\n",
        "레퍼런스를 보면 알지만\n",
        "\n",
        "ranksums()는 동점이 없다고 가정하고\n",
        "\n",
        "mannwhitneyu()는 동점이 있어도 상관없다"
      ],
      "metadata": {
        "id": "16ATrhLfm06c"
      }
    },
    {
      "cell_type": "code",
      "source": [
        "import numpy as np\n",
        "\n",
        "sum(np.array(female) == np.array(male)[:len(female)]) #서로 같은 값이 몇개 있는가?"
      ],
      "metadata": {
        "colab": {
          "base_uri": "https://localhost:8080/"
        },
        "id": "eJ-eevzemEyV",
        "outputId": "a55a3a28-7e86-4654-b3d7-f8f7bca717b4"
      },
      "execution_count": 21,
      "outputs": [
        {
          "output_type": "execute_result",
          "data": {
            "text/plain": [
              "3"
            ]
          },
          "metadata": {},
          "execution_count": 21
        }
      ]
    },
    {
      "cell_type": "markdown",
      "source": [
        "동점이 존재하므로 mannwhitneyu()함수를 사용"
      ],
      "metadata": {
        "id": "evF4RbjfrDMn"
      }
    },
    {
      "cell_type": "code",
      "source": [
        "from scipy.stats import mannwhitneyu\n",
        "\n",
        "mannwhitneyu(female,male)"
      ],
      "metadata": {
        "colab": {
          "base_uri": "https://localhost:8080/"
        },
        "id": "pnvxgm8jm5bS",
        "outputId": "34f60069-77c7-40da-a4f4-d6878d0e4d87"
      },
      "execution_count": 22,
      "outputs": [
        {
          "output_type": "execute_result",
          "data": {
            "text/plain": [
              "MannwhitneyuResult(statistic=757.5, pvalue=4.100251117160876e-11)"
            ]
          },
          "metadata": {},
          "execution_count": 22
        }
      ]
    },
    {
      "cell_type": "code",
      "source": [
        "from scipy.stats import ranksums\n",
        "\n",
        "ranksums(female,male)"
      ],
      "metadata": {
        "colab": {
          "base_uri": "https://localhost:8080/"
        },
        "id": "SQ2umZVXqTIG",
        "outputId": "b076b7d3-356d-46b3-b78c-ebc6fda611b7"
      },
      "execution_count": 23,
      "outputs": [
        {
          "output_type": "execute_result",
          "data": {
            "text/plain": [
              "RanksumsResult(statistic=-6.484649068728496, pvalue=8.893855174450822e-11)"
            ]
          },
          "metadata": {},
          "execution_count": 23
        }
      ]
    },
    {
      "cell_type": "markdown",
      "source": [
        "p-value가 충분히 작아 귀무가설 H0를 기각한다\n",
        "\n",
        "고양이 암컷의 몸무게 평균과 수컷의 몸무게 평균이 다르다고 말할 수 있다"
      ],
      "metadata": {
        "id": "vPowejL5sUmu"
      }
    },
    {
      "cell_type": "markdown",
      "source": [
        "두 집단이 정규분포를 따른다고 가정하고 검정을 수행해보자.\n",
        "\n",
        "먼저 등분산 검정을 수행하면"
      ],
      "metadata": {
        "id": "Pg5CWhursgf2"
      }
    },
    {
      "cell_type": "code",
      "source": [
        "from scipy.stats import levene\n",
        "\n",
        "levene(female,male)"
      ],
      "metadata": {
        "colab": {
          "base_uri": "https://localhost:8080/"
        },
        "id": "847FLGi5qhcI",
        "outputId": "5f1f773e-0925-4a7a-cd13-158710d0b3bc"
      },
      "execution_count": 19,
      "outputs": [
        {
          "output_type": "execute_result",
          "data": {
            "text/plain": [
              "LeveneResult(statistic=19.43101190877999, pvalue=2.0435285255189404e-05)"
            ]
          },
          "metadata": {},
          "execution_count": 19
        }
      ]
    },
    {
      "cell_type": "markdown",
      "source": [
        "P-value가 충분히 작아 귀무가설:두 집단의 분산이 동일하다를 기각한다"
      ],
      "metadata": {
        "id": "VvAEIWpssmI5"
      }
    },
    {
      "cell_type": "markdown",
      "source": [
        "ttest_ind()에서 equal_var = False를 주고 t_test를 수행"
      ],
      "metadata": {
        "id": "Q4_708cDsrym"
      }
    },
    {
      "cell_type": "code",
      "source": [
        "from scipy.stats import ttest_ind\n",
        "\n",
        "ttest_ind(female,male,equal_var=False)"
      ],
      "metadata": {
        "colab": {
          "base_uri": "https://localhost:8080/"
        },
        "id": "t2bQNF4Vqy6P",
        "outputId": "9474922b-5b36-458e-a40a-ba1fc58b4027"
      },
      "execution_count": 25,
      "outputs": [
        {
          "output_type": "execute_result",
          "data": {
            "text/plain": [
              "Ttest_indResult(statistic=-8.70948849909559, pvalue=8.831034455859356e-15)"
            ]
          },
          "metadata": {},
          "execution_count": 25
        }
      ]
    },
    {
      "cell_type": "markdown",
      "source": [
        "p-value가 충분히 작아 귀무가설:두 집단의 평균이 같다를 기각한다\n",
        "\n",
        "따라서 수컷 고양이의 몸무게 평균과 암컷 고양이의 몸무게 평균이 다르다고 말할 수 있다"
      ],
      "metadata": {
        "id": "6U5Fq_yts_-x"
      }
    },
    {
      "cell_type": "code",
      "source": [
        "print(female.mean(), male.mean())"
      ],
      "metadata": {
        "colab": {
          "base_uri": "https://localhost:8080/"
        },
        "id": "NP0sOGgWs0O_",
        "outputId": "03a77d4b-cde4-4781-ecb8-ef444c7d26c5"
      },
      "execution_count": 26,
      "outputs": [
        {
          "output_type": "stream",
          "name": "stdout",
          "text": [
            "2.3595744680851065 2.8999999999999995\n"
          ]
        }
      ]
    },
    {
      "cell_type": "code",
      "source": [
        "import matplotlib.pyplot as plt\n",
        "\n",
        "female_Bwt_cnt = pd.value_counts(female.values,sort=False)\n",
        "\n",
        "male_Bwt_cnt = pd.value_counts(male.values, sort= False)\n",
        "\n",
        "fig,axs = plt.subplots(1,2,figsize=(20,5))\n",
        "\n",
        "fig.suptitle('Bar plot')\n",
        "\n",
        "width = 0.4\n",
        "\n",
        "axs[0].bar(female_Bwt_cnt.index, female_Bwt_cnt.values)\n",
        "\n",
        "axs[0].set_title('female_Bwt')\n",
        "\n",
        "axs[0].set_ylabel('Count')\n",
        "\n",
        "axs[1].bar(male_Bwt_cnt.index, male_Bwt_cnt.values)\n",
        "\n",
        "axs[1].set_title('male_Bwt')\n",
        "\n",
        "axs[1].set_ylabel('Count')\n",
        "\n",
        "plt.show()"
      ],
      "metadata": {
        "colab": {
          "base_uri": "https://localhost:8080/",
          "height": 267
        },
        "id": "uJlIRhL6tLEG",
        "outputId": "f1337dd7-dd07-4cc0-cbbe-da110424c29f"
      },
      "execution_count": 27,
      "outputs": [
        {
          "output_type": "display_data",
          "data": {
            "text/plain": [
              "<Figure size 1440x360 with 2 Axes>"
            ],
            "image/png": "[encoded data removed]"
          },
          "metadata": {
            "needs_background": "light"
          }
        }
      ]
    },
    {
      "cell_type": "code",
      "source": [
        ""
      ],
      "metadata": {
        "id": "Ib68luFWt38g"
      },
      "execution_count": null,
      "outputs": []
    }
  ]
}
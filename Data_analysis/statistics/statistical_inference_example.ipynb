{
  "nbformat": 4,
  "nbformat_minor": 0,
  "metadata": {
    "colab": {
      "name": "statistical_inference.ipynb",
      "provenance": [],
      "collapsed_sections": [
        "Ax9KhBy2X9A4",
        "3NtG45YSgJ9Q",
        "taqLKyIurk_m"
      ]
    },
    "kernelspec": {
      "name": "python3",
      "display_name": "Python 3"
    },
    "language_info": {
      "name": "python"
    }
  },
  "cells": [
    {
      "cell_type": "code",
      "execution_count": null,
      "metadata": {
        "id": "yqp3oZu4tsX6"
      },
      "outputs": [],
      "source": [
        "#글꼴 깨짐 방지\n",
        "\n",
        "!sudo apt-get install -y fonts-nanum\n",
        "!sudo fc-cache -fv\n",
        "!rm ~/.cache/matplotlib -rf"
      ]
    },
    {
      "cell_type": "markdown",
      "source": [
        "##Library"
      ],
      "metadata": {
        "id": "xMqQPawyGZqP"
      }
    },
    {
      "cell_type": "code",
      "source": [
        "import pandas as pd\n",
        "import numpy as np\n",
        "import seaborn as sns\n",
        "import matplotlib.pyplot as plt\n",
        "import scipy.stats as stats\n",
        "from scipy.stats import skew,shapiro,probplot,wilcoxon,pearsonr,ttest_rel"
      ],
      "metadata": {
        "id": "kE2JhzBPGYcn"
      },
      "execution_count": 131,
      "outputs": []
    },
    {
      "cell_type": "markdown",
      "source": [
        "##코로나 이전(2019년 이전)과 코로나 이후(2020년 이후) 유동인구와 매출액 비교"
      ],
      "metadata": {
        "id": "8YGzMw3DF4ay"
      }
    },
    {
      "cell_type": "code",
      "source": [
        ""
      ],
      "metadata": {
        "id": "tsf5id3oGRZa"
      },
      "execution_count": null,
      "outputs": []
    },
    {
      "cell_type": "markdown",
      "source": [
        "##1.Load data"
      ],
      "metadata": {
        "id": "fQFs46KJGUmy"
      }
    },
    {
      "cell_type": "code",
      "source": [
        "pop_data = pd.read_csv('/content/drive/MyDrive/Problem/서울시 우리마을가게 상권분석서비스(상권배후지-생활인구).csv',encoding='cp949')\n",
        "\n",
        "money_data2018 = pd.read_csv('/content/drive/MyDrive/Problem/2018년_우리마을가게_상권서비스_상권배후지-추정매출.csv',encoding='cp949')\n",
        "money_data2019 = pd.read_csv('/content/drive/MyDrive/Problem/2019년_우리마을가게_상권서비스_상권배후지-추정매출.csv',encoding='cp949')\n",
        "money_data2020 = pd.read_csv('/content/drive/MyDrive/Problem/2020년_우리마을가게_상권서비스_상권배후지-추정매출.csv',encoding='cp949')\n",
        "money_data2021 = pd.read_csv('/content/drive/MyDrive/Problem/2021년_우리마을가게_상권서비스_상권배후지-추정매출.csv',encoding='cp949')"
      ],
      "metadata": {
        "id": "AGNzEtCLGmyE"
      },
      "execution_count": 2,
      "outputs": []
    },
    {
      "cell_type": "markdown",
      "source": [
        "##2.Explore data, statistics, null data etc."
      ],
      "metadata": {
        "id": "8rk4dx0QKEVb"
      }
    },
    {
      "cell_type": "markdown",
      "source": [
        "##2-1)유동인구"
      ],
      "metadata": {
        "id": "zRmcBy_tKSzN"
      }
    },
    {
      "cell_type": "code",
      "source": [
        "print(pop_data.head().T)"
      ],
      "metadata": {
        "colab": {
          "base_uri": "https://localhost:8080/"
        },
        "id": "sia4ReZWHSA3",
        "outputId": "7f4c9775-c627-40d8-e2c9-06fea75af867"
      },
      "execution_count": 3,
      "outputs": [
        {
          "output_type": "stream",
          "name": "stdout",
          "text": [
            "                                   0        1        2        3        4\n",
            "기준_년_코드                         2021     2021     2021     2021     2021\n",
            "기준_분기_코드                           4        4        4        4        4\n",
            "상권_구분_코드                           A        A        A        A        A\n",
            "상권_구분_코드_명                      골목상권     골목상권     골목상권     골목상권     골목상권\n",
            "상권_코드                        1001010  1001009  1001008  1001007  1001006\n",
            "...                              ...      ...      ...      ...      ...\n",
            "여성연령대_60_이상_일요일시간대_2_생활인구_수    41794    37161    29222     5711    27809\n",
            "여성연령대_60_이상_일요일시간대_3_생활인구_수    22951    21984    18415     3102    16445\n",
            "여성연령대_60_이상_일요일시간대_4_생활인구_수    22630    21981    18678     2947    16957\n",
            "여성연령대_60_이상_일요일시간대_5_생활인구_수    32572    31001    25396     4061    23310\n",
            "여성연령대_60_이상_일요일시간대_6_생활인구_수    25980    23334    18362     3482    17307\n",
            "\n",
            "[532 rows x 5 columns]\n"
          ]
        }
      ]
    },
    {
      "cell_type": "code",
      "source": [
        "print(pop_data.shape) #16160행,523열"
      ],
      "metadata": {
        "colab": {
          "base_uri": "https://localhost:8080/"
        },
        "id": "1dydFhYlIxln",
        "outputId": "f1f995cf-3a0c-47fd-fa7b-012ca8d99fa1"
      },
      "execution_count": 4,
      "outputs": [
        {
          "output_type": "stream",
          "name": "stdout",
          "text": [
            "(16160, 532)\n"
          ]
        }
      ]
    },
    {
      "cell_type": "code",
      "source": [
        "print(pop_data.columns)"
      ],
      "metadata": {
        "colab": {
          "base_uri": "https://localhost:8080/"
        },
        "id": "46QlSMM9JLWX",
        "outputId": "d9601b79-5b59-4737-b379-f237a58cef7f"
      },
      "execution_count": 5,
      "outputs": [
        {
          "output_type": "stream",
          "name": "stdout",
          "text": [
            "Index(['기준_년_코드', '기준_분기_코드', '상권_구분_코드', '상권_구분_코드_명', '상권_코드', '상권_코드_명',\n",
            "       '총_생활인구_수', '남성_생활인구_수', '여성_생활인구_수', '연령대_10_생활인구_수',\n",
            "       ...\n",
            "       '여성연령대_60_이상_토요일시간대_3_생활인구_수', '여성연령대_60_이상_토요일시간대_4_생활인구_수',\n",
            "       '여성연령대_60_이상_토요일시간대_5_생활인구_수', '여성연령대_60_이상_토요일시간대_6_생활인구_수',\n",
            "       '여성연령대_60_이상_일요일시간대_1_생활인구_수', '여성연령대_60_이상_일요일시간대_2_생활인구_수',\n",
            "       '여성연령대_60_이상_일요일시간대_3_생활인구_수', '여성연령대_60_이상_일요일시간대_4_생활인구_수',\n",
            "       '여성연령대_60_이상_일요일시간대_5_생활인구_수', '여성연령대_60_이상_일요일시간대_6_생활인구_수'],\n",
            "      dtype='object', length=532)\n"
          ]
        }
      ]
    },
    {
      "cell_type": "code",
      "source": [
        "print(pop_data.info())"
      ],
      "metadata": {
        "colab": {
          "base_uri": "https://localhost:8080/"
        },
        "id": "iK8k6p2wJbRo",
        "outputId": "df85362e-cab7-40bf-89c3-040675a2841d"
      },
      "execution_count": 6,
      "outputs": [
        {
          "output_type": "stream",
          "name": "stdout",
          "text": [
            "<class 'pandas.core.frame.DataFrame'>\n",
            "RangeIndex: 16160 entries, 0 to 16159\n",
            "Columns: 532 entries, 기준_년_코드 to 여성연령대_60_이상_일요일시간대_6_생활인구_수\n",
            "dtypes: int64(529), object(3)\n",
            "memory usage: 65.6+ MB\n",
            "None\n"
          ]
        }
      ]
    },
    {
      "cell_type": "code",
      "source": [
        "print(pop_data.isnull().sum())"
      ],
      "metadata": {
        "colab": {
          "base_uri": "https://localhost:8080/"
        },
        "id": "YCXCBkeiJqiI",
        "outputId": "71e52ec9-2302-4e4b-dc06-7679ff373de0"
      },
      "execution_count": 7,
      "outputs": [
        {
          "output_type": "stream",
          "name": "stdout",
          "text": [
            "기준_년_코드                        0\n",
            "기준_분기_코드                       0\n",
            "상권_구분_코드                       0\n",
            "상권_구분_코드_명                     0\n",
            "상권_코드                          0\n",
            "                              ..\n",
            "여성연령대_60_이상_일요일시간대_2_생활인구_수    0\n",
            "여성연령대_60_이상_일요일시간대_3_생활인구_수    0\n",
            "여성연령대_60_이상_일요일시간대_4_생활인구_수    0\n",
            "여성연령대_60_이상_일요일시간대_5_생활인구_수    0\n",
            "여성연령대_60_이상_일요일시간대_6_생활인구_수    0\n",
            "Length: 532, dtype: int64\n"
          ]
        }
      ]
    },
    {
      "cell_type": "code",
      "source": [
        "print(sum(list(pop_data.isnull().sum())))"
      ],
      "metadata": {
        "colab": {
          "base_uri": "https://localhost:8080/"
        },
        "id": "LocE7SxUKCM8",
        "outputId": "6ce6216c-9b53-46b5-ff4d-03321c2e8195"
      },
      "execution_count": 8,
      "outputs": [
        {
          "output_type": "stream",
          "name": "stdout",
          "text": [
            "0\n"
          ]
        }
      ]
    },
    {
      "cell_type": "markdown",
      "source": [
        "##2-2)매출액"
      ],
      "metadata": {
        "id": "ssNsYRjMKWoe"
      }
    },
    {
      "cell_type": "code",
      "source": [
        "print(money_data2018.head().T)"
      ],
      "metadata": {
        "colab": {
          "base_uri": "https://localhost:8080/"
        },
        "id": "B273yJ6_IJyc",
        "outputId": "af369257-a0ce-463d-8f90-cb80291c1434"
      },
      "execution_count": 9,
      "outputs": [
        {
          "output_type": "stream",
          "name": "stdout",
          "text": [
            "                       0        1        2        3        4\n",
            "기준_년_코드             2018     2018     2018     2018     2018\n",
            "기준_분기_코드               1        1        1        1        1\n",
            "상권_구분_코드               A        A        A        A        A\n",
            "상권_구분_코드_명          골목상권     골목상권     골목상권     골목상권     골목상권\n",
            "상권_코드            1000629  1000726  1000628  1000830  1000610\n",
            "...                  ...      ...      ...      ...      ...\n",
            "연령대_30_매출_건수         449    45547      661     3333      444\n",
            "연령대_40_매출_건수         368    27565     1004     6032     1024\n",
            "연령대_50_매출_건수         259    13269      909     2430     1429\n",
            "연령대_60_이상_매출_건수       82     6272      344     1379      635\n",
            "점포수                   11       49        8        8        4\n",
            "\n",
            "[80 rows x 5 columns]\n"
          ]
        }
      ]
    },
    {
      "cell_type": "code",
      "source": [
        "print(money_data2019.head().T)"
      ],
      "metadata": {
        "colab": {
          "base_uri": "https://localhost:8080/"
        },
        "id": "2zrW4C5aIePP",
        "outputId": "4a257bf6-95b3-4806-f1e2-b0dd984f05bd"
      },
      "execution_count": 10,
      "outputs": [
        {
          "output_type": "stream",
          "name": "stdout",
          "text": [
            "                       0        1        2        3        4\n",
            "기준_년_코드             2019     2019     2019     2019     2019\n",
            "기준_분기_코드               1        1        1        1        1\n",
            "상권_구분_코드               A        A        A        A        A\n",
            "상권_구분_코드_명          골목상권     골목상권     골목상권     골목상권     골목상권\n",
            "상권_코드            1000365  1000067  1000206  1000029  1000379\n",
            "...                  ...      ...      ...      ...      ...\n",
            "연령대_30_매출_건수         337     7736     4773     3935      496\n",
            "연령대_40_매출_건수         420     6489     8301    13852      528\n",
            "연령대_50_매출_건수         336     5041     9009     8122      394\n",
            "연령대_60_이상_매출_건수      134     1649    11741     3983      263\n",
            "점포수                    3       10       13       85       10\n",
            "\n",
            "[80 rows x 5 columns]\n"
          ]
        }
      ]
    },
    {
      "cell_type": "code",
      "source": [
        "print(money_data2020.head().T)"
      ],
      "metadata": {
        "colab": {
          "base_uri": "https://localhost:8080/"
        },
        "id": "3pFx1fp5IigV",
        "outputId": "c6d9b4c9-8826-4285-f547-495ef6c10583"
      },
      "execution_count": 11,
      "outputs": [
        {
          "output_type": "stream",
          "name": "stdout",
          "text": [
            "                       0        1        2        3        4\n",
            "기준_년_코드             2020     2020     2020     2020     2020\n",
            "기준_분기_코드               3        1        3        3        3\n",
            "상권_구분_코드               A        A        A        A        A\n",
            "상권_구분_코드_명          골목상권     골목상권     골목상권     골목상권     골목상권\n",
            "상권_코드            1000361  1000021  1000365  1000366  1000367\n",
            "...                  ...      ...      ...      ...      ...\n",
            "연령대_30_매출_건수           0    11495        0        0        0\n",
            "연령대_40_매출_건수           0    16166        0       69       22\n",
            "연령대_50_매출_건수           0    14909       15        0        0\n",
            "연령대_60_이상_매출_건수       19    14915       10        0       22\n",
            "점포수                    6       14        1        1        1\n",
            "\n",
            "[80 rows x 5 columns]\n"
          ]
        }
      ]
    },
    {
      "cell_type": "code",
      "source": [
        "print(money_data2021.head().T)"
      ],
      "metadata": {
        "colab": {
          "base_uri": "https://localhost:8080/"
        },
        "id": "BNRP-aPtIlT3",
        "outputId": "233e41ce-94ab-4190-fc08-a6379aa4cef4"
      },
      "execution_count": 12,
      "outputs": [
        {
          "output_type": "stream",
          "name": "stdout",
          "text": [
            "                       0        1        2        3        4\n",
            "기준_년_코드             2021     2021     2021     2021     2021\n",
            "기준_분기_코드               4        4        4        4        4\n",
            "상권_구분_코드               A        A        A        A        A\n",
            "상권_구분_코드_명          골목상권     골목상권     골목상권     골목상권     골목상권\n",
            "상권_코드            1001010  1001010  1001010  1001010  1001010\n",
            "...                  ...      ...      ...      ...      ...\n",
            "연령대_30_매출_건수           0     5664      818     2072        0\n",
            "연령대_40_매출_건수           5     4279      168     4610       47\n",
            "연령대_50_매출_건수           0     3387      483     6883       12\n",
            "연령대_60_이상_매출_건수        0     7932     2008     5264        0\n",
            "점포수                   30       14       25       20        3\n",
            "\n",
            "[80 rows x 5 columns]\n"
          ]
        }
      ]
    },
    {
      "cell_type": "code",
      "source": [
        "print(money_data2018.shape,money_data2019.shape,money_data2020.shape,money_data2021.shape)"
      ],
      "metadata": {
        "colab": {
          "base_uri": "https://localhost:8080/"
        },
        "id": "JW-_PesNIn_P",
        "outputId": "246555ce-b09c-4046-94ca-e1fe6c79b131"
      },
      "execution_count": 14,
      "outputs": [
        {
          "output_type": "stream",
          "name": "stdout",
          "text": [
            "(227924, 80) (195692, 80) (191658, 80) (188982, 80)\n"
          ]
        }
      ]
    },
    {
      "cell_type": "code",
      "source": [
        "print(sum(list(money_data2018.isnull().sum())),sum(list(money_data2019.isnull().sum())),sum(list(money_data2020.isnull().sum())),sum(list(money_data2021.isnull().sum())))"
      ],
      "metadata": {
        "colab": {
          "base_uri": "https://localhost:8080/"
        },
        "id": "IkSfraqoJHCy",
        "outputId": "c7d68ede-0401-46e0-e40e-b73675b5f9c8"
      },
      "execution_count": 13,
      "outputs": [
        {
          "output_type": "stream",
          "name": "stdout",
          "text": [
            "0 0 0 0\n"
          ]
        }
      ]
    },
    {
      "cell_type": "markdown",
      "source": [
        "##2-3) 고유한 골목상권의 수"
      ],
      "metadata": {
        "id": "ubbntB5kMoKV"
      }
    },
    {
      "cell_type": "code",
      "source": [
        "len(money_data2021['상권_코드'].unique())"
      ],
      "metadata": {
        "colab": {
          "base_uri": "https://localhost:8080/"
        },
        "id": "88wSk8gaKsXu",
        "outputId": "80d70aa7-93ff-476e-afbc-c85d89000b73"
      },
      "execution_count": 15,
      "outputs": [
        {
          "output_type": "execute_result",
          "data": {
            "text/plain": [
              "1010"
            ]
          },
          "metadata": {},
          "execution_count": 15
        }
      ]
    },
    {
      "cell_type": "code",
      "source": [
        "money_data2021[money_data2021['상권_코드']==1001010].iloc[:,:9]"
      ],
      "metadata": {
        "colab": {
          "base_uri": "https://localhost:8080/",
          "height": 485
        },
        "id": "_puCTO2TMwaY",
        "outputId": "a6b57994-0076-4b3c-ca5a-da3807de3aa4"
      },
      "execution_count": 16,
      "outputs": [
        {
          "output_type": "execute_result",
          "data": {
            "text/plain": [
              "        기준_년_코드  기준_분기_코드 상권_구분_코드 상권_구분_코드_명    상권_코드  상권_코드_명 서비스_업종_코드  \\\n",
              "0          2021         4        A       골목상권  1001010  풍성로37가길  CS300043   \n",
              "1          2021         4        A       골목상권  1001010  풍성로37가길  CS300036   \n",
              "2          2021         4        A       골목상권  1001010  풍성로37가길  CS300035   \n",
              "3          2021         4        A       골목상권  1001010  풍성로37가길  CS300033   \n",
              "4          2021         4        A       골목상권  1001010  풍성로37가길  CS300032   \n",
              "...         ...       ...      ...        ...      ...      ...       ...   \n",
              "141607     2021         1        A       골목상권  1001010  풍성로37가길  CS100005   \n",
              "141608     2021         1        A       골목상권  1001010  풍성로37가길  CS100004   \n",
              "141609     2021         1        A       골목상권  1001010  풍성로37가길  CS100003   \n",
              "141610     2021         1        A       골목상권  1001010  풍성로37가길  CS100002   \n",
              "141611     2021         1        A       골목상권  1001010  풍성로37가길  CS100001   \n",
              "\n",
              "       서비스_업종_코드_명   분기당_매출_금액  \n",
              "0           전자상거래업     1769130  \n",
              "1             조명용품   738933587  \n",
              "2             인테리어   186270809  \n",
              "3              철물점   985734875  \n",
              "4             가전제품    32804419  \n",
              "...            ...         ...  \n",
              "141607         제과점   167911371  \n",
              "141608       양식음식점    30463162  \n",
              "141609       일식음식점   193832972  \n",
              "141610       중식음식점   366683300  \n",
              "141611       한식음식점  5033846033  \n",
              "\n",
              "[207 rows x 9 columns]"
            ],
            "text/html": [
              "\n",
              "  <div id=\"df-f94deb4b-1f63-4c01-9ffc-9e261a2e47fd\">\n",
              "    <div class=\"colab-df-container\">\n",
              "      <div>\n",
              "<style scoped>\n",
              "    .dataframe tbody tr th:only-of-type {\n",
              "        vertical-align: middle;\n",
              "    }\n",
              "\n",
              "    .dataframe tbody tr th {\n",
              "        vertical-align: top;\n",
              "    }\n",
              "\n",
              "    .dataframe thead th {\n",
              "        text-align: right;\n",
              "    }\n",
              "</style>\n",
              "<table border=\"1\" class=\"dataframe\">\n",
              "  <thead>\n",
              "    <tr style=\"text-align: right;\">\n",
              "      <th></th>\n",
              "      <th>기준_년_코드</th>\n",
              "      <th>기준_분기_코드</th>\n",
              "      <th>상권_구분_코드</th>\n",
              "      <th>상권_구분_코드_명</th>\n",
              "      <th>상권_코드</th>\n",
              "      <th>상권_코드_명</th>\n",
              "      <th>서비스_업종_코드</th>\n",
              "      <th>서비스_업종_코드_명</th>\n",
              "      <th>분기당_매출_금액</th>\n",
              "    </tr>\n",
              "  </thead>\n",
              "  <tbody>\n",
              "    <tr>\n",
              "      <th>0</th>\n",
              "      <td>2021</td>\n",
              "      <td>4</td>\n",
              "      <td>A</td>\n",
              "      <td>골목상권</td>\n",
              "      <td>1001010</td>\n",
              "      <td>풍성로37가길</td>\n",
              "      <td>CS300043</td>\n",
              "      <td>전자상거래업</td>\n",
              "      <td>1769130</td>\n",
              "    </tr>\n",
              "    <tr>\n",
              "      <th>1</th>\n",
              "      <td>2021</td>\n",
              "      <td>4</td>\n",
              "      <td>A</td>\n",
              "      <td>골목상권</td>\n",
              "      <td>1001010</td>\n",
              "      <td>풍성로37가길</td>\n",
              "      <td>CS300036</td>\n",
              "      <td>조명용품</td>\n",
              "      <td>738933587</td>\n",
              "    </tr>\n",
              "    <tr>\n",
              "      <th>2</th>\n",
              "      <td>2021</td>\n",
              "      <td>4</td>\n",
              "      <td>A</td>\n",
              "      <td>골목상권</td>\n",
              "      <td>1001010</td>\n",
              "      <td>풍성로37가길</td>\n",
              "      <td>CS300035</td>\n",
              "      <td>인테리어</td>\n",
              "      <td>186270809</td>\n",
              "    </tr>\n",
              "    <tr>\n",
              "      <th>3</th>\n",
              "      <td>2021</td>\n",
              "      <td>4</td>\n",
              "      <td>A</td>\n",
              "      <td>골목상권</td>\n",
              "      <td>1001010</td>\n",
              "      <td>풍성로37가길</td>\n",
              "      <td>CS300033</td>\n",
              "      <td>철물점</td>\n",
              "      <td>985734875</td>\n",
              "    </tr>\n",
              "    <tr>\n",
              "      <th>4</th>\n",
              "      <td>2021</td>\n",
              "      <td>4</td>\n",
              "      <td>A</td>\n",
              "      <td>골목상권</td>\n",
              "      <td>1001010</td>\n",
              "      <td>풍성로37가길</td>\n",
              "      <td>CS300032</td>\n",
              "      <td>가전제품</td>\n",
              "      <td>32804419</td>\n",
              "    </tr>\n",
              "    <tr>\n",
              "      <th>...</th>\n",
              "      <td>...</td>\n",
              "      <td>...</td>\n",
              "      <td>...</td>\n",
              "      <td>...</td>\n",
              "      <td>...</td>\n",
              "      <td>...</td>\n",
              "      <td>...</td>\n",
              "      <td>...</td>\n",
              "      <td>...</td>\n",
              "    </tr>\n",
              "    <tr>\n",
              "      <th>141607</th>\n",
              "      <td>2021</td>\n",
              "      <td>1</td>\n",
              "      <td>A</td>\n",
              "      <td>골목상권</td>\n",
              "      <td>1001010</td>\n",
              "      <td>풍성로37가길</td>\n",
              "      <td>CS100005</td>\n",
              "      <td>제과점</td>\n",
              "      <td>167911371</td>\n",
              "    </tr>\n",
              "    <tr>\n",
              "      <th>141608</th>\n",
              "      <td>2021</td>\n",
              "      <td>1</td>\n",
              "      <td>A</td>\n",
              "      <td>골목상권</td>\n",
              "      <td>1001010</td>\n",
              "      <td>풍성로37가길</td>\n",
              "      <td>CS100004</td>\n",
              "      <td>양식음식점</td>\n",
              "      <td>30463162</td>\n",
              "    </tr>\n",
              "    <tr>\n",
              "      <th>141609</th>\n",
              "      <td>2021</td>\n",
              "      <td>1</td>\n",
              "      <td>A</td>\n",
              "      <td>골목상권</td>\n",
              "      <td>1001010</td>\n",
              "      <td>풍성로37가길</td>\n",
              "      <td>CS100003</td>\n",
              "      <td>일식음식점</td>\n",
              "      <td>193832972</td>\n",
              "    </tr>\n",
              "    <tr>\n",
              "      <th>141610</th>\n",
              "      <td>2021</td>\n",
              "      <td>1</td>\n",
              "      <td>A</td>\n",
              "      <td>골목상권</td>\n",
              "      <td>1001010</td>\n",
              "      <td>풍성로37가길</td>\n",
              "      <td>CS100002</td>\n",
              "      <td>중식음식점</td>\n",
              "      <td>366683300</td>\n",
              "    </tr>\n",
              "    <tr>\n",
              "      <th>141611</th>\n",
              "      <td>2021</td>\n",
              "      <td>1</td>\n",
              "      <td>A</td>\n",
              "      <td>골목상권</td>\n",
              "      <td>1001010</td>\n",
              "      <td>풍성로37가길</td>\n",
              "      <td>CS100001</td>\n",
              "      <td>한식음식점</td>\n",
              "      <td>5033846033</td>\n",
              "    </tr>\n",
              "  </tbody>\n",
              "</table>\n",
              "<p>207 rows × 9 columns</p>\n",
              "</div>\n",
              "      <button class=\"colab-df-convert\" onclick=\"convertToInteractive('df-f94deb4b-1f63-4c01-9ffc-9e261a2e47fd')\"\n",
              "              title=\"Convert this dataframe to an interactive table.\"\n",
              "              style=\"display:none;\">\n",
              "        \n",
              "  <svg xmlns=\"http://www.w3.org/2000/svg\" height=\"24px\"viewBox=\"0 0 24 24\"\n",
              "       width=\"24px\">\n",
              "    <path d=\"M0 0h24v24H0V0z\" fill=\"none\"/>\n",
              "    <path d=\"M18.56 5.44l.94 2.06.94-2.06 2.06-.94-2.06-.94-.94-2.06-.94 2.06-2.06.94zm-11 1L8.5 8.5l.94-2.06 2.06-.94-2.06-.94L8.5 2.5l-.94 2.06-2.06.94zm10 10l.94 2.06.94-2.06 2.06-.94-2.06-.94-.94-2.06-.94 2.06-2.06.94z\"/><path d=\"M17.41 7.96l-1.37-1.37c-.4-.4-.92-.59-1.43-.59-.52 0-1.04.2-1.43.59L10.3 9.45l-7.72 7.72c-.78.78-.78 2.05 0 2.83L4 21.41c.39.39.9.59 1.41.59.51 0 1.02-.2 1.41-.59l7.78-7.78 2.81-2.81c.8-.78.8-2.07 0-2.86zM5.41 20L4 18.59l7.72-7.72 1.47 1.35L5.41 20z\"/>\n",
              "  </svg>\n",
              "      </button>\n",
              "      \n",
              "  <style>\n",
              "    .colab-df-container {\n",
              "      display:flex;\n",
              "      flex-wrap:wrap;\n",
              "      gap: 12px;\n",
              "    }\n",
              "\n",
              "    .colab-df-convert {\n",
              "      background-color: #E8F0FE;\n",
              "      border: none;\n",
              "      border-radius: 50%;\n",
              "      cursor: pointer;\n",
              "      display: none;\n",
              "      fill: #1967D2;\n",
              "      height: 32px;\n",
              "      padding: 0 0 0 0;\n",
              "      width: 32px;\n",
              "    }\n",
              "\n",
              "    .colab-df-convert:hover {\n",
              "      background-color: #E2EBFA;\n",
              "      box-shadow: 0px 1px 2px rgba(60, 64, 67, 0.3), 0px 1px 3px 1px rgba(60, 64, 67, 0.15);\n",
              "      fill: #174EA6;\n",
              "    }\n",
              "\n",
              "    [theme=dark] .colab-df-convert {\n",
              "      background-color: #3B4455;\n",
              "      fill: #D2E3FC;\n",
              "    }\n",
              "\n",
              "    [theme=dark] .colab-df-convert:hover {\n",
              "      background-color: #434B5C;\n",
              "      box-shadow: 0px 1px 3px 1px rgba(0, 0, 0, 0.15);\n",
              "      filter: drop-shadow(0px 1px 2px rgba(0, 0, 0, 0.3));\n",
              "      fill: #FFFFFF;\n",
              "    }\n",
              "  </style>\n",
              "\n",
              "      <script>\n",
              "        const buttonEl =\n",
              "          document.querySelector('#df-f94deb4b-1f63-4c01-9ffc-9e261a2e47fd button.colab-df-convert');\n",
              "        buttonEl.style.display =\n",
              "          google.colab.kernel.accessAllowed ? 'block' : 'none';\n",
              "\n",
              "        async function convertToInteractive(key) {\n",
              "          const element = document.querySelector('#df-f94deb4b-1f63-4c01-9ffc-9e261a2e47fd');\n",
              "          const dataTable =\n",
              "            await google.colab.kernel.invokeFunction('convertToInteractive',\n",
              "                                                     [key], {});\n",
              "          if (!dataTable) return;\n",
              "\n",
              "          const docLinkHtml = 'Like what you see? Visit the ' +\n",
              "            '<a target=\"_blank\" href=https://colab.research.google.com/notebooks/data_table.ipynb>data table notebook</a>'\n",
              "            + ' to learn more about interactive tables.';\n",
              "          element.innerHTML = '';\n",
              "          dataTable['output_type'] = 'display_data';\n",
              "          await google.colab.output.renderOutput(dataTable, element);\n",
              "          const docLink = document.createElement('div');\n",
              "          docLink.innerHTML = docLinkHtml;\n",
              "          element.appendChild(docLink);\n",
              "        }\n",
              "      </script>\n",
              "    </div>\n",
              "  </div>\n",
              "  "
            ]
          },
          "metadata": {},
          "execution_count": 16
        }
      ]
    },
    {
      "cell_type": "code",
      "source": [
        "len(pop_data['상권_코드'].unique())"
      ],
      "metadata": {
        "colab": {
          "base_uri": "https://localhost:8080/"
        },
        "id": "0IOL4iKpPodC",
        "outputId": "a7845e55-8c7b-49cb-e883-ceb68abfa042"
      },
      "execution_count": 17,
      "outputs": [
        {
          "output_type": "execute_result",
          "data": {
            "text/plain": [
              "1010"
            ]
          },
          "metadata": {},
          "execution_count": 17
        }
      ]
    },
    {
      "cell_type": "code",
      "source": [
        "pop_data[pop_data['상권_코드']==1001010].iloc[:,:7]"
      ],
      "metadata": {
        "colab": {
          "base_uri": "https://localhost:8080/",
          "height": 551
        },
        "id": "eddM8DNRRNBn",
        "outputId": "a085d0e1-1fa7-48dc-8eaf-1aaebc96ca13"
      },
      "execution_count": 18,
      "outputs": [
        {
          "output_type": "execute_result",
          "data": {
            "text/plain": [
              "       기준_년_코드  기준_분기_코드 상권_구분_코드 상권_구분_코드_명    상권_코드  상권_코드_명  총_생활인구_수\n",
              "0         2021         4        A       골목상권  1001010  풍성로37가길   9354201\n",
              "1010      2021         3        A       골목상권  1001010  풍성로37가길   9348991\n",
              "2020      2021         2        A       골목상권  1001010  풍성로37가길   9380791\n",
              "3030      2021         1        A       골목상권  1001010  풍성로37가길   9759687\n",
              "4040      2020         4        A       골목상권  1001010  풍성로37가길   9692443\n",
              "5050      2020         3        A       골목상권  1001010  풍성로37가길   9471987\n",
              "6060      2020         2        A       골목상권  1001010  풍성로37가길   9613906\n",
              "7070      2020         1        A       골목상권  1001010  풍성로37가길   9706419\n",
              "8080      2019         4        A       골목상권  1001010  풍성로37가길   9487913\n",
              "9090      2019         3        A       골목상권  1001010  풍성로37가길   9986533\n",
              "10100     2019         2        A       골목상권  1001010  풍성로37가길   9759669\n",
              "11110     2019         1        A       골목상권  1001010  풍성로37가길  10544632\n",
              "12120     2018         4        A       골목상권  1001010  풍성로37가길   2504797\n",
              "13130     2018         3        A       골목상권  1001010  풍성로37가길   2613815\n",
              "14140     2018         2        A       골목상권  1001010  풍성로37가길   2702777\n",
              "15150     2018         1        A       골목상권  1001010  풍성로37가길   2492070"
            ],
            "text/html": [
              "\n",
              "  <div id=\"df-b4bba65f-888b-4ea8-a923-dd427eec2e22\">\n",
              "    <div class=\"colab-df-container\">\n",
              "      <div>\n",
              "<style scoped>\n",
              "    .dataframe tbody tr th:only-of-type {\n",
              "        vertical-align: middle;\n",
              "    }\n",
              "\n",
              "    .dataframe tbody tr th {\n",
              "        vertical-align: top;\n",
              "    }\n",
              "\n",
              "    .dataframe thead th {\n",
              "        text-align: right;\n",
              "    }\n",
              "</style>\n",
              "<table border=\"1\" class=\"dataframe\">\n",
              "  <thead>\n",
              "    <tr style=\"text-align: right;\">\n",
              "      <th></th>\n",
              "      <th>기준_년_코드</th>\n",
              "      <th>기준_분기_코드</th>\n",
              "      <th>상권_구분_코드</th>\n",
              "      <th>상권_구분_코드_명</th>\n",
              "      <th>상권_코드</th>\n",
              "      <th>상권_코드_명</th>\n",
              "      <th>총_생활인구_수</th>\n",
              "    </tr>\n",
              "  </thead>\n",
              "  <tbody>\n",
              "    <tr>\n",
              "      <th>0</th>\n",
              "      <td>2021</td>\n",
              "      <td>4</td>\n",
              "      <td>A</td>\n",
              "      <td>골목상권</td>\n",
              "      <td>1001010</td>\n",
              "      <td>풍성로37가길</td>\n",
              "      <td>9354201</td>\n",
              "    </tr>\n",
              "    <tr>\n",
              "      <th>1010</th>\n",
              "      <td>2021</td>\n",
              "      <td>3</td>\n",
              "      <td>A</td>\n",
              "      <td>골목상권</td>\n",
              "      <td>1001010</td>\n",
              "      <td>풍성로37가길</td>\n",
              "      <td>9348991</td>\n",
              "    </tr>\n",
              "    <tr>\n",
              "      <th>2020</th>\n",
              "      <td>2021</td>\n",
              "      <td>2</td>\n",
              "      <td>A</td>\n",
              "      <td>골목상권</td>\n",
              "      <td>1001010</td>\n",
              "      <td>풍성로37가길</td>\n",
              "      <td>9380791</td>\n",
              "    </tr>\n",
              "    <tr>\n",
              "      <th>3030</th>\n",
              "      <td>2021</td>\n",
              "      <td>1</td>\n",
              "      <td>A</td>\n",
              "      <td>골목상권</td>\n",
              "      <td>1001010</td>\n",
              "      <td>풍성로37가길</td>\n",
              "      <td>9759687</td>\n",
              "    </tr>\n",
              "    <tr>\n",
              "      <th>4040</th>\n",
              "      <td>2020</td>\n",
              "      <td>4</td>\n",
              "      <td>A</td>\n",
              "      <td>골목상권</td>\n",
              "      <td>1001010</td>\n",
              "      <td>풍성로37가길</td>\n",
              "      <td>9692443</td>\n",
              "    </tr>\n",
              "    <tr>\n",
              "      <th>5050</th>\n",
              "      <td>2020</td>\n",
              "      <td>3</td>\n",
              "      <td>A</td>\n",
              "      <td>골목상권</td>\n",
              "      <td>1001010</td>\n",
              "      <td>풍성로37가길</td>\n",
              "      <td>9471987</td>\n",
              "    </tr>\n",
              "    <tr>\n",
              "      <th>6060</th>\n",
              "      <td>2020</td>\n",
              "      <td>2</td>\n",
              "      <td>A</td>\n",
              "      <td>골목상권</td>\n",
              "      <td>1001010</td>\n",
              "      <td>풍성로37가길</td>\n",
              "      <td>9613906</td>\n",
              "    </tr>\n",
              "    <tr>\n",
              "      <th>7070</th>\n",
              "      <td>2020</td>\n",
              "      <td>1</td>\n",
              "      <td>A</td>\n",
              "      <td>골목상권</td>\n",
              "      <td>1001010</td>\n",
              "      <td>풍성로37가길</td>\n",
              "      <td>9706419</td>\n",
              "    </tr>\n",
              "    <tr>\n",
              "      <th>8080</th>\n",
              "      <td>2019</td>\n",
              "      <td>4</td>\n",
              "      <td>A</td>\n",
              "      <td>골목상권</td>\n",
              "      <td>1001010</td>\n",
              "      <td>풍성로37가길</td>\n",
              "      <td>9487913</td>\n",
              "    </tr>\n",
              "    <tr>\n",
              "      <th>9090</th>\n",
              "      <td>2019</td>\n",
              "      <td>3</td>\n",
              "      <td>A</td>\n",
              "      <td>골목상권</td>\n",
              "      <td>1001010</td>\n",
              "      <td>풍성로37가길</td>\n",
              "      <td>9986533</td>\n",
              "    </tr>\n",
              "    <tr>\n",
              "      <th>10100</th>\n",
              "      <td>2019</td>\n",
              "      <td>2</td>\n",
              "      <td>A</td>\n",
              "      <td>골목상권</td>\n",
              "      <td>1001010</td>\n",
              "      <td>풍성로37가길</td>\n",
              "      <td>9759669</td>\n",
              "    </tr>\n",
              "    <tr>\n",
              "      <th>11110</th>\n",
              "      <td>2019</td>\n",
              "      <td>1</td>\n",
              "      <td>A</td>\n",
              "      <td>골목상권</td>\n",
              "      <td>1001010</td>\n",
              "      <td>풍성로37가길</td>\n",
              "      <td>10544632</td>\n",
              "    </tr>\n",
              "    <tr>\n",
              "      <th>12120</th>\n",
              "      <td>2018</td>\n",
              "      <td>4</td>\n",
              "      <td>A</td>\n",
              "      <td>골목상권</td>\n",
              "      <td>1001010</td>\n",
              "      <td>풍성로37가길</td>\n",
              "      <td>2504797</td>\n",
              "    </tr>\n",
              "    <tr>\n",
              "      <th>13130</th>\n",
              "      <td>2018</td>\n",
              "      <td>3</td>\n",
              "      <td>A</td>\n",
              "      <td>골목상권</td>\n",
              "      <td>1001010</td>\n",
              "      <td>풍성로37가길</td>\n",
              "      <td>2613815</td>\n",
              "    </tr>\n",
              "    <tr>\n",
              "      <th>14140</th>\n",
              "      <td>2018</td>\n",
              "      <td>2</td>\n",
              "      <td>A</td>\n",
              "      <td>골목상권</td>\n",
              "      <td>1001010</td>\n",
              "      <td>풍성로37가길</td>\n",
              "      <td>2702777</td>\n",
              "    </tr>\n",
              "    <tr>\n",
              "      <th>15150</th>\n",
              "      <td>2018</td>\n",
              "      <td>1</td>\n",
              "      <td>A</td>\n",
              "      <td>골목상권</td>\n",
              "      <td>1001010</td>\n",
              "      <td>풍성로37가길</td>\n",
              "      <td>2492070</td>\n",
              "    </tr>\n",
              "  </tbody>\n",
              "</table>\n",
              "</div>\n",
              "      <button class=\"colab-df-convert\" onclick=\"convertToInteractive('df-b4bba65f-888b-4ea8-a923-dd427eec2e22')\"\n",
              "              title=\"Convert this dataframe to an interactive table.\"\n",
              "              style=\"display:none;\">\n",
              "        \n",
              "  <svg xmlns=\"http://www.w3.org/2000/svg\" height=\"24px\"viewBox=\"0 0 24 24\"\n",
              "       width=\"24px\">\n",
              "    <path d=\"M0 0h24v24H0V0z\" fill=\"none\"/>\n",
              "    <path d=\"M18.56 5.44l.94 2.06.94-2.06 2.06-.94-2.06-.94-.94-2.06-.94 2.06-2.06.94zm-11 1L8.5 8.5l.94-2.06 2.06-.94-2.06-.94L8.5 2.5l-.94 2.06-2.06.94zm10 10l.94 2.06.94-2.06 2.06-.94-2.06-.94-.94-2.06-.94 2.06-2.06.94z\"/><path d=\"M17.41 7.96l-1.37-1.37c-.4-.4-.92-.59-1.43-.59-.52 0-1.04.2-1.43.59L10.3 9.45l-7.72 7.72c-.78.78-.78 2.05 0 2.83L4 21.41c.39.39.9.59 1.41.59.51 0 1.02-.2 1.41-.59l7.78-7.78 2.81-2.81c.8-.78.8-2.07 0-2.86zM5.41 20L4 18.59l7.72-7.72 1.47 1.35L5.41 20z\"/>\n",
              "  </svg>\n",
              "      </button>\n",
              "      \n",
              "  <style>\n",
              "    .colab-df-container {\n",
              "      display:flex;\n",
              "      flex-wrap:wrap;\n",
              "      gap: 12px;\n",
              "    }\n",
              "\n",
              "    .colab-df-convert {\n",
              "      background-color: #E8F0FE;\n",
              "      border: none;\n",
              "      border-radius: 50%;\n",
              "      cursor: pointer;\n",
              "      display: none;\n",
              "      fill: #1967D2;\n",
              "      height: 32px;\n",
              "      padding: 0 0 0 0;\n",
              "      width: 32px;\n",
              "    }\n",
              "\n",
              "    .colab-df-convert:hover {\n",
              "      background-color: #E2EBFA;\n",
              "      box-shadow: 0px 1px 2px rgba(60, 64, 67, 0.3), 0px 1px 3px 1px rgba(60, 64, 67, 0.15);\n",
              "      fill: #174EA6;\n",
              "    }\n",
              "\n",
              "    [theme=dark] .colab-df-convert {\n",
              "      background-color: #3B4455;\n",
              "      fill: #D2E3FC;\n",
              "    }\n",
              "\n",
              "    [theme=dark] .colab-df-convert:hover {\n",
              "      background-color: #434B5C;\n",
              "      box-shadow: 0px 1px 3px 1px rgba(0, 0, 0, 0.15);\n",
              "      filter: drop-shadow(0px 1px 2px rgba(0, 0, 0, 0.3));\n",
              "      fill: #FFFFFF;\n",
              "    }\n",
              "  </style>\n",
              "\n",
              "      <script>\n",
              "        const buttonEl =\n",
              "          document.querySelector('#df-b4bba65f-888b-4ea8-a923-dd427eec2e22 button.colab-df-convert');\n",
              "        buttonEl.style.display =\n",
              "          google.colab.kernel.accessAllowed ? 'block' : 'none';\n",
              "\n",
              "        async function convertToInteractive(key) {\n",
              "          const element = document.querySelector('#df-b4bba65f-888b-4ea8-a923-dd427eec2e22');\n",
              "          const dataTable =\n",
              "            await google.colab.kernel.invokeFunction('convertToInteractive',\n",
              "                                                     [key], {});\n",
              "          if (!dataTable) return;\n",
              "\n",
              "          const docLinkHtml = 'Like what you see? Visit the ' +\n",
              "            '<a target=\"_blank\" href=https://colab.research.google.com/notebooks/data_table.ipynb>data table notebook</a>'\n",
              "            + ' to learn more about interactive tables.';\n",
              "          element.innerHTML = '';\n",
              "          dataTable['output_type'] = 'display_data';\n",
              "          await google.colab.output.renderOutput(dataTable, element);\n",
              "          const docLink = document.createElement('div');\n",
              "          docLink.innerHTML = docLinkHtml;\n",
              "          element.appendChild(docLink);\n",
              "        }\n",
              "      </script>\n",
              "    </div>\n",
              "  </div>\n",
              "  "
            ]
          },
          "metadata": {},
          "execution_count": 18
        }
      ]
    },
    {
      "cell_type": "markdown",
      "source": [
        "##2-4) 1010개 골목상권의 연도별 생활인구 구하기"
      ],
      "metadata": {
        "id": "uset5JbRTzAM"
      }
    },
    {
      "cell_type": "code",
      "source": [
        "#총_생활인구_수 이후 필요없는 변수 제거\n",
        "\n",
        "pop_data_total = pop_data.iloc[:,:7] "
      ],
      "metadata": {
        "id": "f9jd8PGIU82X"
      },
      "execution_count": 19,
      "outputs": []
    },
    {
      "cell_type": "code",
      "source": [
        "pop_data_total.head()"
      ],
      "metadata": {
        "colab": {
          "base_uri": "https://localhost:8080/",
          "height": 206
        },
        "id": "F3EhcsHnVDhN",
        "outputId": "76d2cd0b-1164-480e-928b-1caf1aea3657"
      },
      "execution_count": 20,
      "outputs": [
        {
          "output_type": "execute_result",
          "data": {
            "text/plain": [
              "   기준_년_코드  기준_분기_코드 상권_구분_코드 상권_구분_코드_명    상권_코드   상권_코드_명  총_생활인구_수\n",
              "0     2021         4        A       골목상권  1001010   풍성로37가길   9354201\n",
              "1     2021         4        A       골목상권  1001009      천호옛길   8390603\n",
              "2     2021         4        A       골목상권  1001008    천호옛14길   6801241\n",
              "3     2021         4        A       골목상권  1001007  천호대로219길   1305800\n",
              "4     2021         4        A       골목상권  1001006  천호대로197길   5792243"
            ],
            "text/html": [
              "\n",
              "  <div id=\"df-dd7e6787-2aca-4e54-9d81-ae1346e9e4d6\">\n",
              "    <div class=\"colab-df-container\">\n",
              "      <div>\n",
              "<style scoped>\n",
              "    .dataframe tbody tr th:only-of-type {\n",
              "        vertical-align: middle;\n",
              "    }\n",
              "\n",
              "    .dataframe tbody tr th {\n",
              "        vertical-align: top;\n",
              "    }\n",
              "\n",
              "    .dataframe thead th {\n",
              "        text-align: right;\n",
              "    }\n",
              "</style>\n",
              "<table border=\"1\" class=\"dataframe\">\n",
              "  <thead>\n",
              "    <tr style=\"text-align: right;\">\n",
              "      <th></th>\n",
              "      <th>기준_년_코드</th>\n",
              "      <th>기준_분기_코드</th>\n",
              "      <th>상권_구분_코드</th>\n",
              "      <th>상권_구분_코드_명</th>\n",
              "      <th>상권_코드</th>\n",
              "      <th>상권_코드_명</th>\n",
              "      <th>총_생활인구_수</th>\n",
              "    </tr>\n",
              "  </thead>\n",
              "  <tbody>\n",
              "    <tr>\n",
              "      <th>0</th>\n",
              "      <td>2021</td>\n",
              "      <td>4</td>\n",
              "      <td>A</td>\n",
              "      <td>골목상권</td>\n",
              "      <td>1001010</td>\n",
              "      <td>풍성로37가길</td>\n",
              "      <td>9354201</td>\n",
              "    </tr>\n",
              "    <tr>\n",
              "      <th>1</th>\n",
              "      <td>2021</td>\n",
              "      <td>4</td>\n",
              "      <td>A</td>\n",
              "      <td>골목상권</td>\n",
              "      <td>1001009</td>\n",
              "      <td>천호옛길</td>\n",
              "      <td>8390603</td>\n",
              "    </tr>\n",
              "    <tr>\n",
              "      <th>2</th>\n",
              "      <td>2021</td>\n",
              "      <td>4</td>\n",
              "      <td>A</td>\n",
              "      <td>골목상권</td>\n",
              "      <td>1001008</td>\n",
              "      <td>천호옛14길</td>\n",
              "      <td>6801241</td>\n",
              "    </tr>\n",
              "    <tr>\n",
              "      <th>3</th>\n",
              "      <td>2021</td>\n",
              "      <td>4</td>\n",
              "      <td>A</td>\n",
              "      <td>골목상권</td>\n",
              "      <td>1001007</td>\n",
              "      <td>천호대로219길</td>\n",
              "      <td>1305800</td>\n",
              "    </tr>\n",
              "    <tr>\n",
              "      <th>4</th>\n",
              "      <td>2021</td>\n",
              "      <td>4</td>\n",
              "      <td>A</td>\n",
              "      <td>골목상권</td>\n",
              "      <td>1001006</td>\n",
              "      <td>천호대로197길</td>\n",
              "      <td>5792243</td>\n",
              "    </tr>\n",
              "  </tbody>\n",
              "</table>\n",
              "</div>\n",
              "      <button class=\"colab-df-convert\" onclick=\"convertToInteractive('df-dd7e6787-2aca-4e54-9d81-ae1346e9e4d6')\"\n",
              "              title=\"Convert this dataframe to an interactive table.\"\n",
              "              style=\"display:none;\">\n",
              "        \n",
              "  <svg xmlns=\"http://www.w3.org/2000/svg\" height=\"24px\"viewBox=\"0 0 24 24\"\n",
              "       width=\"24px\">\n",
              "    <path d=\"M0 0h24v24H0V0z\" fill=\"none\"/>\n",
              "    <path d=\"M18.56 5.44l.94 2.06.94-2.06 2.06-.94-2.06-.94-.94-2.06-.94 2.06-2.06.94zm-11 1L8.5 8.5l.94-2.06 2.06-.94-2.06-.94L8.5 2.5l-.94 2.06-2.06.94zm10 10l.94 2.06.94-2.06 2.06-.94-2.06-.94-.94-2.06-.94 2.06-2.06.94z\"/><path d=\"M17.41 7.96l-1.37-1.37c-.4-.4-.92-.59-1.43-.59-.52 0-1.04.2-1.43.59L10.3 9.45l-7.72 7.72c-.78.78-.78 2.05 0 2.83L4 21.41c.39.39.9.59 1.41.59.51 0 1.02-.2 1.41-.59l7.78-7.78 2.81-2.81c.8-.78.8-2.07 0-2.86zM5.41 20L4 18.59l7.72-7.72 1.47 1.35L5.41 20z\"/>\n",
              "  </svg>\n",
              "      </button>\n",
              "      \n",
              "  <style>\n",
              "    .colab-df-container {\n",
              "      display:flex;\n",
              "      flex-wrap:wrap;\n",
              "      gap: 12px;\n",
              "    }\n",
              "\n",
              "    .colab-df-convert {\n",
              "      background-color: #E8F0FE;\n",
              "      border: none;\n",
              "      border-radius: 50%;\n",
              "      cursor: pointer;\n",
              "      display: none;\n",
              "      fill: #1967D2;\n",
              "      height: 32px;\n",
              "      padding: 0 0 0 0;\n",
              "      width: 32px;\n",
              "    }\n",
              "\n",
              "    .colab-df-convert:hover {\n",
              "      background-color: #E2EBFA;\n",
              "      box-shadow: 0px 1px 2px rgba(60, 64, 67, 0.3), 0px 1px 3px 1px rgba(60, 64, 67, 0.15);\n",
              "      fill: #174EA6;\n",
              "    }\n",
              "\n",
              "    [theme=dark] .colab-df-convert {\n",
              "      background-color: #3B4455;\n",
              "      fill: #D2E3FC;\n",
              "    }\n",
              "\n",
              "    [theme=dark] .colab-df-convert:hover {\n",
              "      background-color: #434B5C;\n",
              "      box-shadow: 0px 1px 3px 1px rgba(0, 0, 0, 0.15);\n",
              "      filter: drop-shadow(0px 1px 2px rgba(0, 0, 0, 0.3));\n",
              "      fill: #FFFFFF;\n",
              "    }\n",
              "  </style>\n",
              "\n",
              "      <script>\n",
              "        const buttonEl =\n",
              "          document.querySelector('#df-dd7e6787-2aca-4e54-9d81-ae1346e9e4d6 button.colab-df-convert');\n",
              "        buttonEl.style.display =\n",
              "          google.colab.kernel.accessAllowed ? 'block' : 'none';\n",
              "\n",
              "        async function convertToInteractive(key) {\n",
              "          const element = document.querySelector('#df-dd7e6787-2aca-4e54-9d81-ae1346e9e4d6');\n",
              "          const dataTable =\n",
              "            await google.colab.kernel.invokeFunction('convertToInteractive',\n",
              "                                                     [key], {});\n",
              "          if (!dataTable) return;\n",
              "\n",
              "          const docLinkHtml = 'Like what you see? Visit the ' +\n",
              "            '<a target=\"_blank\" href=https://colab.research.google.com/notebooks/data_table.ipynb>data table notebook</a>'\n",
              "            + ' to learn more about interactive tables.';\n",
              "          element.innerHTML = '';\n",
              "          dataTable['output_type'] = 'display_data';\n",
              "          await google.colab.output.renderOutput(dataTable, element);\n",
              "          const docLink = document.createElement('div');\n",
              "          docLink.innerHTML = docLinkHtml;\n",
              "          element.appendChild(docLink);\n",
              "        }\n",
              "      </script>\n",
              "    </div>\n",
              "  </div>\n",
              "  "
            ]
          },
          "metadata": {},
          "execution_count": 20
        }
      ]
    },
    {
      "cell_type": "code",
      "source": [
        "#pop_data_total.groupby(['기준_년_코드','상권_코드_명','상권_코드'])['총_생활인구_수'].sum() #series로 구하기\n",
        "\n",
        "#연을 기준으로, 상권코드를 기준으로 groupby를 하고 총 생활 인구 수를 sum하여 구하기\n",
        "\n",
        "pop_data_total.groupby(['기준_년_코드','상권_코드_명','상권_코드'])[['총_생활인구_수']].sum()"
      ],
      "metadata": {
        "colab": {
          "base_uri": "https://localhost:8080/",
          "height": 455
        },
        "id": "lTq3wC2cTyOH",
        "outputId": "2293314b-e0ab-4437-d261-dd55ca6e5604"
      },
      "execution_count": 21,
      "outputs": [
        {
          "output_type": "execute_result",
          "data": {
            "text/plain": [
              "                           총_생활인구_수\n",
              "기준_년_코드 상권_코드_명   상권_코드            \n",
              "2018    가로공원로58길  1000507   1065479\n",
              "        가로공원로76가길 1000552   5794806\n",
              "        가로공원로80길  1000553   3865888\n",
              "        가마산로61길   1000683   6096160\n",
              "        가산로3길     1000654   2811903\n",
              "...                             ...\n",
              "2021    휘경로23길    1000219  20154615\n",
              "        휘경로2길     1000220  18070983\n",
              "        휘경로3길     1000221  22694861\n",
              "        흑석로13길    1000778   8527397\n",
              "        흑석로9길     1000779   8734304\n",
              "\n",
              "[4040 rows x 1 columns]"
            ],
            "text/html": [
              "\n",
              "  <div id=\"df-965070ce-7139-4c50-8739-37205f4f5a88\">\n",
              "    <div class=\"colab-df-container\">\n",
              "      <div>\n",
              "<style scoped>\n",
              "    .dataframe tbody tr th:only-of-type {\n",
              "        vertical-align: middle;\n",
              "    }\n",
              "\n",
              "    .dataframe tbody tr th {\n",
              "        vertical-align: top;\n",
              "    }\n",
              "\n",
              "    .dataframe thead th {\n",
              "        text-align: right;\n",
              "    }\n",
              "</style>\n",
              "<table border=\"1\" class=\"dataframe\">\n",
              "  <thead>\n",
              "    <tr style=\"text-align: right;\">\n",
              "      <th></th>\n",
              "      <th></th>\n",
              "      <th></th>\n",
              "      <th>총_생활인구_수</th>\n",
              "    </tr>\n",
              "    <tr>\n",
              "      <th>기준_년_코드</th>\n",
              "      <th>상권_코드_명</th>\n",
              "      <th>상권_코드</th>\n",
              "      <th></th>\n",
              "    </tr>\n",
              "  </thead>\n",
              "  <tbody>\n",
              "    <tr>\n",
              "      <th rowspan=\"5\" valign=\"top\">2018</th>\n",
              "      <th>가로공원로58길</th>\n",
              "      <th>1000507</th>\n",
              "      <td>1065479</td>\n",
              "    </tr>\n",
              "    <tr>\n",
              "      <th>가로공원로76가길</th>\n",
              "      <th>1000552</th>\n",
              "      <td>5794806</td>\n",
              "    </tr>\n",
              "    <tr>\n",
              "      <th>가로공원로80길</th>\n",
              "      <th>1000553</th>\n",
              "      <td>3865888</td>\n",
              "    </tr>\n",
              "    <tr>\n",
              "      <th>가마산로61길</th>\n",
              "      <th>1000683</th>\n",
              "      <td>6096160</td>\n",
              "    </tr>\n",
              "    <tr>\n",
              "      <th>가산로3길</th>\n",
              "      <th>1000654</th>\n",
              "      <td>2811903</td>\n",
              "    </tr>\n",
              "    <tr>\n",
              "      <th>...</th>\n",
              "      <th>...</th>\n",
              "      <th>...</th>\n",
              "      <td>...</td>\n",
              "    </tr>\n",
              "    <tr>\n",
              "      <th rowspan=\"5\" valign=\"top\">2021</th>\n",
              "      <th>휘경로23길</th>\n",
              "      <th>1000219</th>\n",
              "      <td>20154615</td>\n",
              "    </tr>\n",
              "    <tr>\n",
              "      <th>휘경로2길</th>\n",
              "      <th>1000220</th>\n",
              "      <td>18070983</td>\n",
              "    </tr>\n",
              "    <tr>\n",
              "      <th>휘경로3길</th>\n",
              "      <th>1000221</th>\n",
              "      <td>22694861</td>\n",
              "    </tr>\n",
              "    <tr>\n",
              "      <th>흑석로13길</th>\n",
              "      <th>1000778</th>\n",
              "      <td>8527397</td>\n",
              "    </tr>\n",
              "    <tr>\n",
              "      <th>흑석로9길</th>\n",
              "      <th>1000779</th>\n",
              "      <td>8734304</td>\n",
              "    </tr>\n",
              "  </tbody>\n",
              "</table>\n",
              "<p>4040 rows × 1 columns</p>\n",
              "</div>\n",
              "      <button class=\"colab-df-convert\" onclick=\"convertToInteractive('df-965070ce-7139-4c50-8739-37205f4f5a88')\"\n",
              "              title=\"Convert this dataframe to an interactive table.\"\n",
              "              style=\"display:none;\">\n",
              "        \n",
              "  <svg xmlns=\"http://www.w3.org/2000/svg\" height=\"24px\"viewBox=\"0 0 24 24\"\n",
              "       width=\"24px\">\n",
              "    <path d=\"M0 0h24v24H0V0z\" fill=\"none\"/>\n",
              "    <path d=\"M18.56 5.44l.94 2.06.94-2.06 2.06-.94-2.06-.94-.94-2.06-.94 2.06-2.06.94zm-11 1L8.5 8.5l.94-2.06 2.06-.94-2.06-.94L8.5 2.5l-.94 2.06-2.06.94zm10 10l.94 2.06.94-2.06 2.06-.94-2.06-.94-.94-2.06-.94 2.06-2.06.94z\"/><path d=\"M17.41 7.96l-1.37-1.37c-.4-.4-.92-.59-1.43-.59-.52 0-1.04.2-1.43.59L10.3 9.45l-7.72 7.72c-.78.78-.78 2.05 0 2.83L4 21.41c.39.39.9.59 1.41.59.51 0 1.02-.2 1.41-.59l7.78-7.78 2.81-2.81c.8-.78.8-2.07 0-2.86zM5.41 20L4 18.59l7.72-7.72 1.47 1.35L5.41 20z\"/>\n",
              "  </svg>\n",
              "      </button>\n",
              "      \n",
              "  <style>\n",
              "    .colab-df-container {\n",
              "      display:flex;\n",
              "      flex-wrap:wrap;\n",
              "      gap: 12px;\n",
              "    }\n",
              "\n",
              "    .colab-df-convert {\n",
              "      background-color: #E8F0FE;\n",
              "      border: none;\n",
              "      border-radius: 50%;\n",
              "      cursor: pointer;\n",
              "      display: none;\n",
              "      fill: #1967D2;\n",
              "      height: 32px;\n",
              "      padding: 0 0 0 0;\n",
              "      width: 32px;\n",
              "    }\n",
              "\n",
              "    .colab-df-convert:hover {\n",
              "      background-color: #E2EBFA;\n",
              "      box-shadow: 0px 1px 2px rgba(60, 64, 67, 0.3), 0px 1px 3px 1px rgba(60, 64, 67, 0.15);\n",
              "      fill: #174EA6;\n",
              "    }\n",
              "\n",
              "    [theme=dark] .colab-df-convert {\n",
              "      background-color: #3B4455;\n",
              "      fill: #D2E3FC;\n",
              "    }\n",
              "\n",
              "    [theme=dark] .colab-df-convert:hover {\n",
              "      background-color: #434B5C;\n",
              "      box-shadow: 0px 1px 3px 1px rgba(0, 0, 0, 0.15);\n",
              "      filter: drop-shadow(0px 1px 2px rgba(0, 0, 0, 0.3));\n",
              "      fill: #FFFFFF;\n",
              "    }\n",
              "  </style>\n",
              "\n",
              "      <script>\n",
              "        const buttonEl =\n",
              "          document.querySelector('#df-965070ce-7139-4c50-8739-37205f4f5a88 button.colab-df-convert');\n",
              "        buttonEl.style.display =\n",
              "          google.colab.kernel.accessAllowed ? 'block' : 'none';\n",
              "\n",
              "        async function convertToInteractive(key) {\n",
              "          const element = document.querySelector('#df-965070ce-7139-4c50-8739-37205f4f5a88');\n",
              "          const dataTable =\n",
              "            await google.colab.kernel.invokeFunction('convertToInteractive',\n",
              "                                                     [key], {});\n",
              "          if (!dataTable) return;\n",
              "\n",
              "          const docLinkHtml = 'Like what you see? Visit the ' +\n",
              "            '<a target=\"_blank\" href=https://colab.research.google.com/notebooks/data_table.ipynb>data table notebook</a>'\n",
              "            + ' to learn more about interactive tables.';\n",
              "          element.innerHTML = '';\n",
              "          dataTable['output_type'] = 'display_data';\n",
              "          await google.colab.output.renderOutput(dataTable, element);\n",
              "          const docLink = document.createElement('div');\n",
              "          docLink.innerHTML = docLinkHtml;\n",
              "          element.appendChild(docLink);\n",
              "        }\n",
              "      </script>\n",
              "    </div>\n",
              "  </div>\n",
              "  "
            ]
          },
          "metadata": {},
          "execution_count": 21
        }
      ]
    },
    {
      "cell_type": "code",
      "source": [
        "#상권_코드 기준으로 sorting함 \n",
        "\n",
        "pop_data_total.groupby(['기준_년_코드','상권_코드_명','상권_코드'])[['총_생활인구_수']].sum().sort_values(['상권_코드'])"
      ],
      "metadata": {
        "colab": {
          "base_uri": "https://localhost:8080/",
          "height": 455
        },
        "id": "DdWgpbTdRWHP",
        "outputId": "6c5632cf-5e0d-47db-f5ba-56ae1b98fea6"
      },
      "execution_count": 22,
      "outputs": [
        {
          "output_type": "execute_result",
          "data": {
            "text/plain": [
              "                         총_생활인구_수\n",
              "기준_년_코드 상권_코드_명 상권_코드            \n",
              "2020    계동길     1000001   4518075\n",
              "2021    계동길     1000001   4267762\n",
              "2019    계동길     1000001   5396727\n",
              "2018    계동길     1000001   2517950\n",
              "2019    난계로27길  1000002  15683106\n",
              "...                           ...\n",
              "2018    천호옛길    1001009  11787651\n",
              "2019    풍성로37가길 1001010  39778747\n",
              "2020    풍성로37가길 1001010  38484755\n",
              "2018    풍성로37가길 1001010  10313459\n",
              "2021    풍성로37가길 1001010  37843670\n",
              "\n",
              "[4040 rows x 1 columns]"
            ],
            "text/html": [
              "\n",
              "  <div id=\"df-f0ed8ac0-743b-4f7c-8761-71dfefb43776\">\n",
              "    <div class=\"colab-df-container\">\n",
              "      <div>\n",
              "<style scoped>\n",
              "    .dataframe tbody tr th:only-of-type {\n",
              "        vertical-align: middle;\n",
              "    }\n",
              "\n",
              "    .dataframe tbody tr th {\n",
              "        vertical-align: top;\n",
              "    }\n",
              "\n",
              "    .dataframe thead th {\n",
              "        text-align: right;\n",
              "    }\n",
              "</style>\n",
              "<table border=\"1\" class=\"dataframe\">\n",
              "  <thead>\n",
              "    <tr style=\"text-align: right;\">\n",
              "      <th></th>\n",
              "      <th></th>\n",
              "      <th></th>\n",
              "      <th>총_생활인구_수</th>\n",
              "    </tr>\n",
              "    <tr>\n",
              "      <th>기준_년_코드</th>\n",
              "      <th>상권_코드_명</th>\n",
              "      <th>상권_코드</th>\n",
              "      <th></th>\n",
              "    </tr>\n",
              "  </thead>\n",
              "  <tbody>\n",
              "    <tr>\n",
              "      <th>2020</th>\n",
              "      <th>계동길</th>\n",
              "      <th>1000001</th>\n",
              "      <td>4518075</td>\n",
              "    </tr>\n",
              "    <tr>\n",
              "      <th>2021</th>\n",
              "      <th>계동길</th>\n",
              "      <th>1000001</th>\n",
              "      <td>4267762</td>\n",
              "    </tr>\n",
              "    <tr>\n",
              "      <th>2019</th>\n",
              "      <th>계동길</th>\n",
              "      <th>1000001</th>\n",
              "      <td>5396727</td>\n",
              "    </tr>\n",
              "    <tr>\n",
              "      <th>2018</th>\n",
              "      <th>계동길</th>\n",
              "      <th>1000001</th>\n",
              "      <td>2517950</td>\n",
              "    </tr>\n",
              "    <tr>\n",
              "      <th>2019</th>\n",
              "      <th>난계로27길</th>\n",
              "      <th>1000002</th>\n",
              "      <td>15683106</td>\n",
              "    </tr>\n",
              "    <tr>\n",
              "      <th>...</th>\n",
              "      <th>...</th>\n",
              "      <th>...</th>\n",
              "      <td>...</td>\n",
              "    </tr>\n",
              "    <tr>\n",
              "      <th>2018</th>\n",
              "      <th>천호옛길</th>\n",
              "      <th>1001009</th>\n",
              "      <td>11787651</td>\n",
              "    </tr>\n",
              "    <tr>\n",
              "      <th>2019</th>\n",
              "      <th>풍성로37가길</th>\n",
              "      <th>1001010</th>\n",
              "      <td>39778747</td>\n",
              "    </tr>\n",
              "    <tr>\n",
              "      <th>2020</th>\n",
              "      <th>풍성로37가길</th>\n",
              "      <th>1001010</th>\n",
              "      <td>38484755</td>\n",
              "    </tr>\n",
              "    <tr>\n",
              "      <th>2018</th>\n",
              "      <th>풍성로37가길</th>\n",
              "      <th>1001010</th>\n",
              "      <td>10313459</td>\n",
              "    </tr>\n",
              "    <tr>\n",
              "      <th>2021</th>\n",
              "      <th>풍성로37가길</th>\n",
              "      <th>1001010</th>\n",
              "      <td>37843670</td>\n",
              "    </tr>\n",
              "  </tbody>\n",
              "</table>\n",
              "<p>4040 rows × 1 columns</p>\n",
              "</div>\n",
              "      <button class=\"colab-df-convert\" onclick=\"convertToInteractive('df-f0ed8ac0-743b-4f7c-8761-71dfefb43776')\"\n",
              "              title=\"Convert this dataframe to an interactive table.\"\n",
              "              style=\"display:none;\">\n",
              "        \n",
              "  <svg xmlns=\"http://www.w3.org/2000/svg\" height=\"24px\"viewBox=\"0 0 24 24\"\n",
              "       width=\"24px\">\n",
              "    <path d=\"M0 0h24v24H0V0z\" fill=\"none\"/>\n",
              "    <path d=\"M18.56 5.44l.94 2.06.94-2.06 2.06-.94-2.06-.94-.94-2.06-.94 2.06-2.06.94zm-11 1L8.5 8.5l.94-2.06 2.06-.94-2.06-.94L8.5 2.5l-.94 2.06-2.06.94zm10 10l.94 2.06.94-2.06 2.06-.94-2.06-.94-.94-2.06-.94 2.06-2.06.94z\"/><path d=\"M17.41 7.96l-1.37-1.37c-.4-.4-.92-.59-1.43-.59-.52 0-1.04.2-1.43.59L10.3 9.45l-7.72 7.72c-.78.78-.78 2.05 0 2.83L4 21.41c.39.39.9.59 1.41.59.51 0 1.02-.2 1.41-.59l7.78-7.78 2.81-2.81c.8-.78.8-2.07 0-2.86zM5.41 20L4 18.59l7.72-7.72 1.47 1.35L5.41 20z\"/>\n",
              "  </svg>\n",
              "      </button>\n",
              "      \n",
              "  <style>\n",
              "    .colab-df-container {\n",
              "      display:flex;\n",
              "      flex-wrap:wrap;\n",
              "      gap: 12px;\n",
              "    }\n",
              "\n",
              "    .colab-df-convert {\n",
              "      background-color: #E8F0FE;\n",
              "      border: none;\n",
              "      border-radius: 50%;\n",
              "      cursor: pointer;\n",
              "      display: none;\n",
              "      fill: #1967D2;\n",
              "      height: 32px;\n",
              "      padding: 0 0 0 0;\n",
              "      width: 32px;\n",
              "    }\n",
              "\n",
              "    .colab-df-convert:hover {\n",
              "      background-color: #E2EBFA;\n",
              "      box-shadow: 0px 1px 2px rgba(60, 64, 67, 0.3), 0px 1px 3px 1px rgba(60, 64, 67, 0.15);\n",
              "      fill: #174EA6;\n",
              "    }\n",
              "\n",
              "    [theme=dark] .colab-df-convert {\n",
              "      background-color: #3B4455;\n",
              "      fill: #D2E3FC;\n",
              "    }\n",
              "\n",
              "    [theme=dark] .colab-df-convert:hover {\n",
              "      background-color: #434B5C;\n",
              "      box-shadow: 0px 1px 3px 1px rgba(0, 0, 0, 0.15);\n",
              "      filter: drop-shadow(0px 1px 2px rgba(0, 0, 0, 0.3));\n",
              "      fill: #FFFFFF;\n",
              "    }\n",
              "  </style>\n",
              "\n",
              "      <script>\n",
              "        const buttonEl =\n",
              "          document.querySelector('#df-f0ed8ac0-743b-4f7c-8761-71dfefb43776 button.colab-df-convert');\n",
              "        buttonEl.style.display =\n",
              "          google.colab.kernel.accessAllowed ? 'block' : 'none';\n",
              "\n",
              "        async function convertToInteractive(key) {\n",
              "          const element = document.querySelector('#df-f0ed8ac0-743b-4f7c-8761-71dfefb43776');\n",
              "          const dataTable =\n",
              "            await google.colab.kernel.invokeFunction('convertToInteractive',\n",
              "                                                     [key], {});\n",
              "          if (!dataTable) return;\n",
              "\n",
              "          const docLinkHtml = 'Like what you see? Visit the ' +\n",
              "            '<a target=\"_blank\" href=https://colab.research.google.com/notebooks/data_table.ipynb>data table notebook</a>'\n",
              "            + ' to learn more about interactive tables.';\n",
              "          element.innerHTML = '';\n",
              "          dataTable['output_type'] = 'display_data';\n",
              "          await google.colab.output.renderOutput(dataTable, element);\n",
              "          const docLink = document.createElement('div');\n",
              "          docLink.innerHTML = docLinkHtml;\n",
              "          element.appendChild(docLink);\n",
              "        }\n",
              "      </script>\n",
              "    </div>\n",
              "  </div>\n",
              "  "
            ]
          },
          "metadata": {},
          "execution_count": 22
        }
      ]
    },
    {
      "cell_type": "code",
      "source": [
        "pop_data_comp = pop_data_total.groupby(['기준_년_코드','상권_코드_명','상권_코드'])[['총_생활인구_수']].sum().sort_values(['상권_코드'])"
      ],
      "metadata": {
        "id": "AAVzr0CJW5_I"
      },
      "execution_count": 23,
      "outputs": []
    },
    {
      "cell_type": "code",
      "source": [
        "pop_data_comp.reset_index(inplace=True)"
      ],
      "metadata": {
        "id": "uTKauadAc1wK"
      },
      "execution_count": 24,
      "outputs": []
    },
    {
      "cell_type": "code",
      "source": [
        "pop_data_comp"
      ],
      "metadata": {
        "colab": {
          "base_uri": "https://localhost:8080/",
          "height": 423
        },
        "id": "DZmbEQl7c9dC",
        "outputId": "0fc9f29e-978a-4e21-f86d-4129281d6a9a"
      },
      "execution_count": 25,
      "outputs": [
        {
          "output_type": "execute_result",
          "data": {
            "text/plain": [
              "      기준_년_코드  상권_코드_명    상권_코드  총_생활인구_수\n",
              "0        2020      계동길  1000001   4518075\n",
              "1        2021      계동길  1000001   4267762\n",
              "2        2019      계동길  1000001   5396727\n",
              "3        2018      계동길  1000001   2517950\n",
              "4        2019   난계로27길  1000002  15683106\n",
              "...       ...      ...      ...       ...\n",
              "4035     2018     천호옛길  1001009  11787651\n",
              "4036     2019  풍성로37가길  1001010  39778747\n",
              "4037     2020  풍성로37가길  1001010  38484755\n",
              "4038     2018  풍성로37가길  1001010  10313459\n",
              "4039     2021  풍성로37가길  1001010  37843670\n",
              "\n",
              "[4040 rows x 4 columns]"
            ],
            "text/html": [
              "\n",
              "  <div id=\"df-c002be87-6575-4185-a2c2-d800c8107dec\">\n",
              "    <div class=\"colab-df-container\">\n",
              "      <div>\n",
              "<style scoped>\n",
              "    .dataframe tbody tr th:only-of-type {\n",
              "        vertical-align: middle;\n",
              "    }\n",
              "\n",
              "    .dataframe tbody tr th {\n",
              "        vertical-align: top;\n",
              "    }\n",
              "\n",
              "    .dataframe thead th {\n",
              "        text-align: right;\n",
              "    }\n",
              "</style>\n",
              "<table border=\"1\" class=\"dataframe\">\n",
              "  <thead>\n",
              "    <tr style=\"text-align: right;\">\n",
              "      <th></th>\n",
              "      <th>기준_년_코드</th>\n",
              "      <th>상권_코드_명</th>\n",
              "      <th>상권_코드</th>\n",
              "      <th>총_생활인구_수</th>\n",
              "    </tr>\n",
              "  </thead>\n",
              "  <tbody>\n",
              "    <tr>\n",
              "      <th>0</th>\n",
              "      <td>2020</td>\n",
              "      <td>계동길</td>\n",
              "      <td>1000001</td>\n",
              "      <td>4518075</td>\n",
              "    </tr>\n",
              "    <tr>\n",
              "      <th>1</th>\n",
              "      <td>2021</td>\n",
              "      <td>계동길</td>\n",
              "      <td>1000001</td>\n",
              "      <td>4267762</td>\n",
              "    </tr>\n",
              "    <tr>\n",
              "      <th>2</th>\n",
              "      <td>2019</td>\n",
              "      <td>계동길</td>\n",
              "      <td>1000001</td>\n",
              "      <td>5396727</td>\n",
              "    </tr>\n",
              "    <tr>\n",
              "      <th>3</th>\n",
              "      <td>2018</td>\n",
              "      <td>계동길</td>\n",
              "      <td>1000001</td>\n",
              "      <td>2517950</td>\n",
              "    </tr>\n",
              "    <tr>\n",
              "      <th>4</th>\n",
              "      <td>2019</td>\n",
              "      <td>난계로27길</td>\n",
              "      <td>1000002</td>\n",
              "      <td>15683106</td>\n",
              "    </tr>\n",
              "    <tr>\n",
              "      <th>...</th>\n",
              "      <td>...</td>\n",
              "      <td>...</td>\n",
              "      <td>...</td>\n",
              "      <td>...</td>\n",
              "    </tr>\n",
              "    <tr>\n",
              "      <th>4035</th>\n",
              "      <td>2018</td>\n",
              "      <td>천호옛길</td>\n",
              "      <td>1001009</td>\n",
              "      <td>11787651</td>\n",
              "    </tr>\n",
              "    <tr>\n",
              "      <th>4036</th>\n",
              "      <td>2019</td>\n",
              "      <td>풍성로37가길</td>\n",
              "      <td>1001010</td>\n",
              "      <td>39778747</td>\n",
              "    </tr>\n",
              "    <tr>\n",
              "      <th>4037</th>\n",
              "      <td>2020</td>\n",
              "      <td>풍성로37가길</td>\n",
              "      <td>1001010</td>\n",
              "      <td>38484755</td>\n",
              "    </tr>\n",
              "    <tr>\n",
              "      <th>4038</th>\n",
              "      <td>2018</td>\n",
              "      <td>풍성로37가길</td>\n",
              "      <td>1001010</td>\n",
              "      <td>10313459</td>\n",
              "    </tr>\n",
              "    <tr>\n",
              "      <th>4039</th>\n",
              "      <td>2021</td>\n",
              "      <td>풍성로37가길</td>\n",
              "      <td>1001010</td>\n",
              "      <td>37843670</td>\n",
              "    </tr>\n",
              "  </tbody>\n",
              "</table>\n",
              "<p>4040 rows × 4 columns</p>\n",
              "</div>\n",
              "      <button class=\"colab-df-convert\" onclick=\"convertToInteractive('df-c002be87-6575-4185-a2c2-d800c8107dec')\"\n",
              "              title=\"Convert this dataframe to an interactive table.\"\n",
              "              style=\"display:none;\">\n",
              "        \n",
              "  <svg xmlns=\"http://www.w3.org/2000/svg\" height=\"24px\"viewBox=\"0 0 24 24\"\n",
              "       width=\"24px\">\n",
              "    <path d=\"M0 0h24v24H0V0z\" fill=\"none\"/>\n",
              "    <path d=\"M18.56 5.44l.94 2.06.94-2.06 2.06-.94-2.06-.94-.94-2.06-.94 2.06-2.06.94zm-11 1L8.5 8.5l.94-2.06 2.06-.94-2.06-.94L8.5 2.5l-.94 2.06-2.06.94zm10 10l.94 2.06.94-2.06 2.06-.94-2.06-.94-.94-2.06-.94 2.06-2.06.94z\"/><path d=\"M17.41 7.96l-1.37-1.37c-.4-.4-.92-.59-1.43-.59-.52 0-1.04.2-1.43.59L10.3 9.45l-7.72 7.72c-.78.78-.78 2.05 0 2.83L4 21.41c.39.39.9.59 1.41.59.51 0 1.02-.2 1.41-.59l7.78-7.78 2.81-2.81c.8-.78.8-2.07 0-2.86zM5.41 20L4 18.59l7.72-7.72 1.47 1.35L5.41 20z\"/>\n",
              "  </svg>\n",
              "      </button>\n",
              "      \n",
              "  <style>\n",
              "    .colab-df-container {\n",
              "      display:flex;\n",
              "      flex-wrap:wrap;\n",
              "      gap: 12px;\n",
              "    }\n",
              "\n",
              "    .colab-df-convert {\n",
              "      background-color: #E8F0FE;\n",
              "      border: none;\n",
              "      border-radius: 50%;\n",
              "      cursor: pointer;\n",
              "      display: none;\n",
              "      fill: #1967D2;\n",
              "      height: 32px;\n",
              "      padding: 0 0 0 0;\n",
              "      width: 32px;\n",
              "    }\n",
              "\n",
              "    .colab-df-convert:hover {\n",
              "      background-color: #E2EBFA;\n",
              "      box-shadow: 0px 1px 2px rgba(60, 64, 67, 0.3), 0px 1px 3px 1px rgba(60, 64, 67, 0.15);\n",
              "      fill: #174EA6;\n",
              "    }\n",
              "\n",
              "    [theme=dark] .colab-df-convert {\n",
              "      background-color: #3B4455;\n",
              "      fill: #D2E3FC;\n",
              "    }\n",
              "\n",
              "    [theme=dark] .colab-df-convert:hover {\n",
              "      background-color: #434B5C;\n",
              "      box-shadow: 0px 1px 3px 1px rgba(0, 0, 0, 0.15);\n",
              "      filter: drop-shadow(0px 1px 2px rgba(0, 0, 0, 0.3));\n",
              "      fill: #FFFFFF;\n",
              "    }\n",
              "  </style>\n",
              "\n",
              "      <script>\n",
              "        const buttonEl =\n",
              "          document.querySelector('#df-c002be87-6575-4185-a2c2-d800c8107dec button.colab-df-convert');\n",
              "        buttonEl.style.display =\n",
              "          google.colab.kernel.accessAllowed ? 'block' : 'none';\n",
              "\n",
              "        async function convertToInteractive(key) {\n",
              "          const element = document.querySelector('#df-c002be87-6575-4185-a2c2-d800c8107dec');\n",
              "          const dataTable =\n",
              "            await google.colab.kernel.invokeFunction('convertToInteractive',\n",
              "                                                     [key], {});\n",
              "          if (!dataTable) return;\n",
              "\n",
              "          const docLinkHtml = 'Like what you see? Visit the ' +\n",
              "            '<a target=\"_blank\" href=https://colab.research.google.com/notebooks/data_table.ipynb>data table notebook</a>'\n",
              "            + ' to learn more about interactive tables.';\n",
              "          element.innerHTML = '';\n",
              "          dataTable['output_type'] = 'display_data';\n",
              "          await google.colab.output.renderOutput(dataTable, element);\n",
              "          const docLink = document.createElement('div');\n",
              "          docLink.innerHTML = docLinkHtml;\n",
              "          element.appendChild(docLink);\n",
              "        }\n",
              "      </script>\n",
              "    </div>\n",
              "  </div>\n",
              "  "
            ]
          },
          "metadata": {},
          "execution_count": 25
        }
      ]
    },
    {
      "cell_type": "markdown",
      "source": [
        "##2-5)1010개 골목 상권의 2018~2021 매출액 구하기"
      ],
      "metadata": {
        "id": "Ax9KhBy2X9A4"
      }
    },
    {
      "cell_type": "code",
      "source": [
        "#분기당_매출_금액 변수 이후 필요없는 변수 제거\n",
        "\n",
        "money_data2018_total = money_data2018.iloc[:,:9]"
      ],
      "metadata": {
        "id": "uJWB_W2_X7U8"
      },
      "execution_count": 26,
      "outputs": []
    },
    {
      "cell_type": "code",
      "source": [
        "money_data2018_total.head()"
      ],
      "metadata": {
        "colab": {
          "base_uri": "https://localhost:8080/",
          "height": 0
        },
        "id": "Ts6gQw4QYYmt",
        "outputId": "9217d637-94fb-499a-9688-932671612edf"
      },
      "execution_count": 27,
      "outputs": [
        {
          "output_type": "execute_result",
          "data": {
            "text/plain": [
              "   기준_년_코드  기준_분기_코드 상권_구분_코드 상권_구분_코드_명    상권_코드  상권_코드_명 서비스_업종_코드  \\\n",
              "0     2018         1        A       골목상권  1000629  구로동로41길  CS300010   \n",
              "1     2018         1        A       골목상권  1000726  영등포로25길  CS100010   \n",
              "2     2018         1        A       골목상권  1000628  구로동로38길  CS200016   \n",
              "3     2018         1        A       골목상권  1000830   조원로18길  CS300021   \n",
              "4     2018         1        A       골목상권  1000610   개봉로17길  CS300020   \n",
              "\n",
              "  서비스_업종_코드_명  분기당_매출_금액  \n",
              "0        반찬가게   34171395  \n",
              "1       커피-음료  927600894  \n",
              "2         당구장   67638628  \n",
              "3          문구  213477014  \n",
              "4          서적  118871827  "
            ],
            "text/html": [
              "\n",
              "  <div id=\"df-3c1081fd-84e9-4ef4-94a1-1591fc519456\">\n",
              "    <div class=\"colab-df-container\">\n",
              "      <div>\n",
              "<style scoped>\n",
              "    .dataframe tbody tr th:only-of-type {\n",
              "        vertical-align: middle;\n",
              "    }\n",
              "\n",
              "    .dataframe tbody tr th {\n",
              "        vertical-align: top;\n",
              "    }\n",
              "\n",
              "    .dataframe thead th {\n",
              "        text-align: right;\n",
              "    }\n",
              "</style>\n",
              "<table border=\"1\" class=\"dataframe\">\n",
              "  <thead>\n",
              "    <tr style=\"text-align: right;\">\n",
              "      <th></th>\n",
              "      <th>기준_년_코드</th>\n",
              "      <th>기준_분기_코드</th>\n",
              "      <th>상권_구분_코드</th>\n",
              "      <th>상권_구분_코드_명</th>\n",
              "      <th>상권_코드</th>\n",
              "      <th>상권_코드_명</th>\n",
              "      <th>서비스_업종_코드</th>\n",
              "      <th>서비스_업종_코드_명</th>\n",
              "      <th>분기당_매출_금액</th>\n",
              "    </tr>\n",
              "  </thead>\n",
              "  <tbody>\n",
              "    <tr>\n",
              "      <th>0</th>\n",
              "      <td>2018</td>\n",
              "      <td>1</td>\n",
              "      <td>A</td>\n",
              "      <td>골목상권</td>\n",
              "      <td>1000629</td>\n",
              "      <td>구로동로41길</td>\n",
              "      <td>CS300010</td>\n",
              "      <td>반찬가게</td>\n",
              "      <td>34171395</td>\n",
              "    </tr>\n",
              "    <tr>\n",
              "      <th>1</th>\n",
              "      <td>2018</td>\n",
              "      <td>1</td>\n",
              "      <td>A</td>\n",
              "      <td>골목상권</td>\n",
              "      <td>1000726</td>\n",
              "      <td>영등포로25길</td>\n",
              "      <td>CS100010</td>\n",
              "      <td>커피-음료</td>\n",
              "      <td>927600894</td>\n",
              "    </tr>\n",
              "    <tr>\n",
              "      <th>2</th>\n",
              "      <td>2018</td>\n",
              "      <td>1</td>\n",
              "      <td>A</td>\n",
              "      <td>골목상권</td>\n",
              "      <td>1000628</td>\n",
              "      <td>구로동로38길</td>\n",
              "      <td>CS200016</td>\n",
              "      <td>당구장</td>\n",
              "      <td>67638628</td>\n",
              "    </tr>\n",
              "    <tr>\n",
              "      <th>3</th>\n",
              "      <td>2018</td>\n",
              "      <td>1</td>\n",
              "      <td>A</td>\n",
              "      <td>골목상권</td>\n",
              "      <td>1000830</td>\n",
              "      <td>조원로18길</td>\n",
              "      <td>CS300021</td>\n",
              "      <td>문구</td>\n",
              "      <td>213477014</td>\n",
              "    </tr>\n",
              "    <tr>\n",
              "      <th>4</th>\n",
              "      <td>2018</td>\n",
              "      <td>1</td>\n",
              "      <td>A</td>\n",
              "      <td>골목상권</td>\n",
              "      <td>1000610</td>\n",
              "      <td>개봉로17길</td>\n",
              "      <td>CS300020</td>\n",
              "      <td>서적</td>\n",
              "      <td>118871827</td>\n",
              "    </tr>\n",
              "  </tbody>\n",
              "</table>\n",
              "</div>\n",
              "      <button class=\"colab-df-convert\" onclick=\"convertToInteractive('df-3c1081fd-84e9-4ef4-94a1-1591fc519456')\"\n",
              "              title=\"Convert this dataframe to an interactive table.\"\n",
              "              style=\"display:none;\">\n",
              "        \n",
              "  <svg xmlns=\"http://www.w3.org/2000/svg\" height=\"24px\"viewBox=\"0 0 24 24\"\n",
              "       width=\"24px\">\n",
              "    <path d=\"M0 0h24v24H0V0z\" fill=\"none\"/>\n",
              "    <path d=\"M18.56 5.44l.94 2.06.94-2.06 2.06-.94-2.06-.94-.94-2.06-.94 2.06-2.06.94zm-11 1L8.5 8.5l.94-2.06 2.06-.94-2.06-.94L8.5 2.5l-.94 2.06-2.06.94zm10 10l.94 2.06.94-2.06 2.06-.94-2.06-.94-.94-2.06-.94 2.06-2.06.94z\"/><path d=\"M17.41 7.96l-1.37-1.37c-.4-.4-.92-.59-1.43-.59-.52 0-1.04.2-1.43.59L10.3 9.45l-7.72 7.72c-.78.78-.78 2.05 0 2.83L4 21.41c.39.39.9.59 1.41.59.51 0 1.02-.2 1.41-.59l7.78-7.78 2.81-2.81c.8-.78.8-2.07 0-2.86zM5.41 20L4 18.59l7.72-7.72 1.47 1.35L5.41 20z\"/>\n",
              "  </svg>\n",
              "      </button>\n",
              "      \n",
              "  <style>\n",
              "    .colab-df-container {\n",
              "      display:flex;\n",
              "      flex-wrap:wrap;\n",
              "      gap: 12px;\n",
              "    }\n",
              "\n",
              "    .colab-df-convert {\n",
              "      background-color: #E8F0FE;\n",
              "      border: none;\n",
              "      border-radius: 50%;\n",
              "      cursor: pointer;\n",
              "      display: none;\n",
              "      fill: #1967D2;\n",
              "      height: 32px;\n",
              "      padding: 0 0 0 0;\n",
              "      width: 32px;\n",
              "    }\n",
              "\n",
              "    .colab-df-convert:hover {\n",
              "      background-color: #E2EBFA;\n",
              "      box-shadow: 0px 1px 2px rgba(60, 64, 67, 0.3), 0px 1px 3px 1px rgba(60, 64, 67, 0.15);\n",
              "      fill: #174EA6;\n",
              "    }\n",
              "\n",
              "    [theme=dark] .colab-df-convert {\n",
              "      background-color: #3B4455;\n",
              "      fill: #D2E3FC;\n",
              "    }\n",
              "\n",
              "    [theme=dark] .colab-df-convert:hover {\n",
              "      background-color: #434B5C;\n",
              "      box-shadow: 0px 1px 3px 1px rgba(0, 0, 0, 0.15);\n",
              "      filter: drop-shadow(0px 1px 2px rgba(0, 0, 0, 0.3));\n",
              "      fill: #FFFFFF;\n",
              "    }\n",
              "  </style>\n",
              "\n",
              "      <script>\n",
              "        const buttonEl =\n",
              "          document.querySelector('#df-3c1081fd-84e9-4ef4-94a1-1591fc519456 button.colab-df-convert');\n",
              "        buttonEl.style.display =\n",
              "          google.colab.kernel.accessAllowed ? 'block' : 'none';\n",
              "\n",
              "        async function convertToInteractive(key) {\n",
              "          const element = document.querySelector('#df-3c1081fd-84e9-4ef4-94a1-1591fc519456');\n",
              "          const dataTable =\n",
              "            await google.colab.kernel.invokeFunction('convertToInteractive',\n",
              "                                                     [key], {});\n",
              "          if (!dataTable) return;\n",
              "\n",
              "          const docLinkHtml = 'Like what you see? Visit the ' +\n",
              "            '<a target=\"_blank\" href=https://colab.research.google.com/notebooks/data_table.ipynb>data table notebook</a>'\n",
              "            + ' to learn more about interactive tables.';\n",
              "          element.innerHTML = '';\n",
              "          dataTable['output_type'] = 'display_data';\n",
              "          await google.colab.output.renderOutput(dataTable, element);\n",
              "          const docLink = document.createElement('div');\n",
              "          docLink.innerHTML = docLinkHtml;\n",
              "          element.appendChild(docLink);\n",
              "        }\n",
              "      </script>\n",
              "    </div>\n",
              "  </div>\n",
              "  "
            ]
          },
          "metadata": {},
          "execution_count": 27
        }
      ]
    },
    {
      "cell_type": "code",
      "source": [
        "money_data2018_total[money_data2018_total['상권_코드'] == 1001010]"
      ],
      "metadata": {
        "colab": {
          "base_uri": "https://localhost:8080/",
          "height": 0
        },
        "id": "4LiZlmkYYp1I",
        "outputId": "ac154b50-b8df-4237-e7d8-63aa96b6a349"
      },
      "execution_count": 28,
      "outputs": [
        {
          "output_type": "execute_result",
          "data": {
            "text/plain": [
              "        기준_년_코드  기준_분기_코드 상권_구분_코드 상권_구분_코드_명    상권_코드  상권_코드_명 서비스_업종_코드  \\\n",
              "679        2018         1        A       골목상권  1001010  풍성로37가길  CS300036   \n",
              "1227       2018         1        A       골목상권  1001010  풍성로37가길  CS300029   \n",
              "1746       2018         1        A       골목상권  1001010  풍성로37가길  CS200002   \n",
              "1984       2018         1        A       골목상권  1001010  풍성로37가길  CS300010   \n",
              "4071       2018         1        A       골목상권  1001010  풍성로37가길  CS100010   \n",
              "...         ...       ...      ...        ...      ...      ...       ...   \n",
              "221986     2018         4        A       골목상권  1001010  풍성로37가길  CS100002   \n",
              "222005     2018         4        A       골목상권  1001010  풍성로37가길  CS200003   \n",
              "225387     2018         4        A       골목상권  1001010  풍성로37가길  CS300020   \n",
              "225940     2018         4        A       골목상권  1001010  풍성로37가길  CS300035   \n",
              "225991     2018         4        A       골목상권  1001010  풍성로37가길  CS200008   \n",
              "\n",
              "       서비스_업종_코드_명   분기당_매출_금액  \n",
              "679           조명용품   223242938  \n",
              "1227          애완동물    32166294  \n",
              "1746         외국어학원   415691019  \n",
              "1984          반찬가게   213550279  \n",
              "4071         커피-음료  1186219028  \n",
              "...            ...         ...  \n",
              "221986       중식음식점   572013615  \n",
              "222005        예술학원   284506953  \n",
              "225387          서적   478282854  \n",
              "225940        인테리어   560002827  \n",
              "225991         한의원   348528605  \n",
              "\n",
              "[245 rows x 9 columns]"
            ],
            "text/html": [
              "\n",
              "  <div id=\"df-a31ee3a2-eda7-40a1-90be-172d2276c680\">\n",
              "    <div class=\"colab-df-container\">\n",
              "      <div>\n",
              "<style scoped>\n",
              "    .dataframe tbody tr th:only-of-type {\n",
              "        vertical-align: middle;\n",
              "    }\n",
              "\n",
              "    .dataframe tbody tr th {\n",
              "        vertical-align: top;\n",
              "    }\n",
              "\n",
              "    .dataframe thead th {\n",
              "        text-align: right;\n",
              "    }\n",
              "</style>\n",
              "<table border=\"1\" class=\"dataframe\">\n",
              "  <thead>\n",
              "    <tr style=\"text-align: right;\">\n",
              "      <th></th>\n",
              "      <th>기준_년_코드</th>\n",
              "      <th>기준_분기_코드</th>\n",
              "      <th>상권_구분_코드</th>\n",
              "      <th>상권_구분_코드_명</th>\n",
              "      <th>상권_코드</th>\n",
              "      <th>상권_코드_명</th>\n",
              "      <th>서비스_업종_코드</th>\n",
              "      <th>서비스_업종_코드_명</th>\n",
              "      <th>분기당_매출_금액</th>\n",
              "    </tr>\n",
              "  </thead>\n",
              "  <tbody>\n",
              "    <tr>\n",
              "      <th>679</th>\n",
              "      <td>2018</td>\n",
              "      <td>1</td>\n",
              "      <td>A</td>\n",
              "      <td>골목상권</td>\n",
              "      <td>1001010</td>\n",
              "      <td>풍성로37가길</td>\n",
              "      <td>CS300036</td>\n",
              "      <td>조명용품</td>\n",
              "      <td>223242938</td>\n",
              "    </tr>\n",
              "    <tr>\n",
              "      <th>1227</th>\n",
              "      <td>2018</td>\n",
              "      <td>1</td>\n",
              "      <td>A</td>\n",
              "      <td>골목상권</td>\n",
              "      <td>1001010</td>\n",
              "      <td>풍성로37가길</td>\n",
              "      <td>CS300029</td>\n",
              "      <td>애완동물</td>\n",
              "      <td>32166294</td>\n",
              "    </tr>\n",
              "    <tr>\n",
              "      <th>1746</th>\n",
              "      <td>2018</td>\n",
              "      <td>1</td>\n",
              "      <td>A</td>\n",
              "      <td>골목상권</td>\n",
              "      <td>1001010</td>\n",
              "      <td>풍성로37가길</td>\n",
              "      <td>CS200002</td>\n",
              "      <td>외국어학원</td>\n",
              "      <td>415691019</td>\n",
              "    </tr>\n",
              "    <tr>\n",
              "      <th>1984</th>\n",
              "      <td>2018</td>\n",
              "      <td>1</td>\n",
              "      <td>A</td>\n",
              "      <td>골목상권</td>\n",
              "      <td>1001010</td>\n",
              "      <td>풍성로37가길</td>\n",
              "      <td>CS300010</td>\n",
              "      <td>반찬가게</td>\n",
              "      <td>213550279</td>\n",
              "    </tr>\n",
              "    <tr>\n",
              "      <th>4071</th>\n",
              "      <td>2018</td>\n",
              "      <td>1</td>\n",
              "      <td>A</td>\n",
              "      <td>골목상권</td>\n",
              "      <td>1001010</td>\n",
              "      <td>풍성로37가길</td>\n",
              "      <td>CS100010</td>\n",
              "      <td>커피-음료</td>\n",
              "      <td>1186219028</td>\n",
              "    </tr>\n",
              "    <tr>\n",
              "      <th>...</th>\n",
              "      <td>...</td>\n",
              "      <td>...</td>\n",
              "      <td>...</td>\n",
              "      <td>...</td>\n",
              "      <td>...</td>\n",
              "      <td>...</td>\n",
              "      <td>...</td>\n",
              "      <td>...</td>\n",
              "      <td>...</td>\n",
              "    </tr>\n",
              "    <tr>\n",
              "      <th>221986</th>\n",
              "      <td>2018</td>\n",
              "      <td>4</td>\n",
              "      <td>A</td>\n",
              "      <td>골목상권</td>\n",
              "      <td>1001010</td>\n",
              "      <td>풍성로37가길</td>\n",
              "      <td>CS100002</td>\n",
              "      <td>중식음식점</td>\n",
              "      <td>572013615</td>\n",
              "    </tr>\n",
              "    <tr>\n",
              "      <th>222005</th>\n",
              "      <td>2018</td>\n",
              "      <td>4</td>\n",
              "      <td>A</td>\n",
              "      <td>골목상권</td>\n",
              "      <td>1001010</td>\n",
              "      <td>풍성로37가길</td>\n",
              "      <td>CS200003</td>\n",
              "      <td>예술학원</td>\n",
              "      <td>284506953</td>\n",
              "    </tr>\n",
              "    <tr>\n",
              "      <th>225387</th>\n",
              "      <td>2018</td>\n",
              "      <td>4</td>\n",
              "      <td>A</td>\n",
              "      <td>골목상권</td>\n",
              "      <td>1001010</td>\n",
              "      <td>풍성로37가길</td>\n",
              "      <td>CS300020</td>\n",
              "      <td>서적</td>\n",
              "      <td>478282854</td>\n",
              "    </tr>\n",
              "    <tr>\n",
              "      <th>225940</th>\n",
              "      <td>2018</td>\n",
              "      <td>4</td>\n",
              "      <td>A</td>\n",
              "      <td>골목상권</td>\n",
              "      <td>1001010</td>\n",
              "      <td>풍성로37가길</td>\n",
              "      <td>CS300035</td>\n",
              "      <td>인테리어</td>\n",
              "      <td>560002827</td>\n",
              "    </tr>\n",
              "    <tr>\n",
              "      <th>225991</th>\n",
              "      <td>2018</td>\n",
              "      <td>4</td>\n",
              "      <td>A</td>\n",
              "      <td>골목상권</td>\n",
              "      <td>1001010</td>\n",
              "      <td>풍성로37가길</td>\n",
              "      <td>CS200008</td>\n",
              "      <td>한의원</td>\n",
              "      <td>348528605</td>\n",
              "    </tr>\n",
              "  </tbody>\n",
              "</table>\n",
              "<p>245 rows × 9 columns</p>\n",
              "</div>\n",
              "      <button class=\"colab-df-convert\" onclick=\"convertToInteractive('df-a31ee3a2-eda7-40a1-90be-172d2276c680')\"\n",
              "              title=\"Convert this dataframe to an interactive table.\"\n",
              "              style=\"display:none;\">\n",
              "        \n",
              "  <svg xmlns=\"http://www.w3.org/2000/svg\" height=\"24px\"viewBox=\"0 0 24 24\"\n",
              "       width=\"24px\">\n",
              "    <path d=\"M0 0h24v24H0V0z\" fill=\"none\"/>\n",
              "    <path d=\"M18.56 5.44l.94 2.06.94-2.06 2.06-.94-2.06-.94-.94-2.06-.94 2.06-2.06.94zm-11 1L8.5 8.5l.94-2.06 2.06-.94-2.06-.94L8.5 2.5l-.94 2.06-2.06.94zm10 10l.94 2.06.94-2.06 2.06-.94-2.06-.94-.94-2.06-.94 2.06-2.06.94z\"/><path d=\"M17.41 7.96l-1.37-1.37c-.4-.4-.92-.59-1.43-.59-.52 0-1.04.2-1.43.59L10.3 9.45l-7.72 7.72c-.78.78-.78 2.05 0 2.83L4 21.41c.39.39.9.59 1.41.59.51 0 1.02-.2 1.41-.59l7.78-7.78 2.81-2.81c.8-.78.8-2.07 0-2.86zM5.41 20L4 18.59l7.72-7.72 1.47 1.35L5.41 20z\"/>\n",
              "  </svg>\n",
              "      </button>\n",
              "      \n",
              "  <style>\n",
              "    .colab-df-container {\n",
              "      display:flex;\n",
              "      flex-wrap:wrap;\n",
              "      gap: 12px;\n",
              "    }\n",
              "\n",
              "    .colab-df-convert {\n",
              "      background-color: #E8F0FE;\n",
              "      border: none;\n",
              "      border-radius: 50%;\n",
              "      cursor: pointer;\n",
              "      display: none;\n",
              "      fill: #1967D2;\n",
              "      height: 32px;\n",
              "      padding: 0 0 0 0;\n",
              "      width: 32px;\n",
              "    }\n",
              "\n",
              "    .colab-df-convert:hover {\n",
              "      background-color: #E2EBFA;\n",
              "      box-shadow: 0px 1px 2px rgba(60, 64, 67, 0.3), 0px 1px 3px 1px rgba(60, 64, 67, 0.15);\n",
              "      fill: #174EA6;\n",
              "    }\n",
              "\n",
              "    [theme=dark] .colab-df-convert {\n",
              "      background-color: #3B4455;\n",
              "      fill: #D2E3FC;\n",
              "    }\n",
              "\n",
              "    [theme=dark] .colab-df-convert:hover {\n",
              "      background-color: #434B5C;\n",
              "      box-shadow: 0px 1px 3px 1px rgba(0, 0, 0, 0.15);\n",
              "      filter: drop-shadow(0px 1px 2px rgba(0, 0, 0, 0.3));\n",
              "      fill: #FFFFFF;\n",
              "    }\n",
              "  </style>\n",
              "\n",
              "      <script>\n",
              "        const buttonEl =\n",
              "          document.querySelector('#df-a31ee3a2-eda7-40a1-90be-172d2276c680 button.colab-df-convert');\n",
              "        buttonEl.style.display =\n",
              "          google.colab.kernel.accessAllowed ? 'block' : 'none';\n",
              "\n",
              "        async function convertToInteractive(key) {\n",
              "          const element = document.querySelector('#df-a31ee3a2-eda7-40a1-90be-172d2276c680');\n",
              "          const dataTable =\n",
              "            await google.colab.kernel.invokeFunction('convertToInteractive',\n",
              "                                                     [key], {});\n",
              "          if (!dataTable) return;\n",
              "\n",
              "          const docLinkHtml = 'Like what you see? Visit the ' +\n",
              "            '<a target=\"_blank\" href=https://colab.research.google.com/notebooks/data_table.ipynb>data table notebook</a>'\n",
              "            + ' to learn more about interactive tables.';\n",
              "          element.innerHTML = '';\n",
              "          dataTable['output_type'] = 'display_data';\n",
              "          await google.colab.output.renderOutput(dataTable, element);\n",
              "          const docLink = document.createElement('div');\n",
              "          docLink.innerHTML = docLinkHtml;\n",
              "          element.appendChild(docLink);\n",
              "        }\n",
              "      </script>\n",
              "    </div>\n",
              "  </div>\n",
              "  "
            ]
          },
          "metadata": {},
          "execution_count": 28
        }
      ]
    },
    {
      "cell_type": "code",
      "source": [
        "#money_data2018_total.groupby(['기준_분기_코드','상권_코드','상권_코드_명'])['분기당_매출_금액'].sum()\n",
        "\n",
        "#분기별 각 골목상권의 매출금액\n",
        "\n",
        "money_data2018_total.groupby(['기준_년_코드','기준_분기_코드','상권_코드','상권_코드_명'])[['분기당_매출_금액']].sum()"
      ],
      "metadata": {
        "colab": {
          "base_uri": "https://localhost:8080/",
          "height": 0
        },
        "id": "3VaeF-BfZNQX",
        "outputId": "995b86d9-883a-420f-89b0-cde0caff5bbc"
      },
      "execution_count": 29,
      "outputs": [
        {
          "output_type": "execute_result",
          "data": {
            "text/plain": [
              "                                      분기당_매출_금액\n",
              "기준_년_코드 기준_분기_코드 상권_코드   상권_코드_명               \n",
              "2018    1        1000001 계동길        27270946430\n",
              "                 1000002 난계로27길     55489343616\n",
              "                 1000003 돈화문로11가길  159488701513\n",
              "                 1000004 명륜길         8176727981\n",
              "                 1000005 백석동길        7799786572\n",
              "...                                         ...\n",
              "        4        1001006 천호대로197길   30933784847\n",
              "                 1001007 천호대로219길   20166847271\n",
              "                 1001008 천호옛14길    110484465369\n",
              "                 1001009 천호옛길       76196297520\n",
              "                 1001010 풍성로37가길    49387222943\n",
              "\n",
              "[4040 rows x 1 columns]"
            ],
            "text/html": [
              "\n",
              "  <div id=\"df-0b5d239f-81e3-4285-a6bb-7f06c6138cf9\">\n",
              "    <div class=\"colab-df-container\">\n",
              "      <div>\n",
              "<style scoped>\n",
              "    .dataframe tbody tr th:only-of-type {\n",
              "        vertical-align: middle;\n",
              "    }\n",
              "\n",
              "    .dataframe tbody tr th {\n",
              "        vertical-align: top;\n",
              "    }\n",
              "\n",
              "    .dataframe thead th {\n",
              "        text-align: right;\n",
              "    }\n",
              "</style>\n",
              "<table border=\"1\" class=\"dataframe\">\n",
              "  <thead>\n",
              "    <tr style=\"text-align: right;\">\n",
              "      <th></th>\n",
              "      <th></th>\n",
              "      <th></th>\n",
              "      <th></th>\n",
              "      <th>분기당_매출_금액</th>\n",
              "    </tr>\n",
              "    <tr>\n",
              "      <th>기준_년_코드</th>\n",
              "      <th>기준_분기_코드</th>\n",
              "      <th>상권_코드</th>\n",
              "      <th>상권_코드_명</th>\n",
              "      <th></th>\n",
              "    </tr>\n",
              "  </thead>\n",
              "  <tbody>\n",
              "    <tr>\n",
              "      <th rowspan=\"11\" valign=\"top\">2018</th>\n",
              "      <th rowspan=\"5\" valign=\"top\">1</th>\n",
              "      <th>1000001</th>\n",
              "      <th>계동길</th>\n",
              "      <td>27270946430</td>\n",
              "    </tr>\n",
              "    <tr>\n",
              "      <th>1000002</th>\n",
              "      <th>난계로27길</th>\n",
              "      <td>55489343616</td>\n",
              "    </tr>\n",
              "    <tr>\n",
              "      <th>1000003</th>\n",
              "      <th>돈화문로11가길</th>\n",
              "      <td>159488701513</td>\n",
              "    </tr>\n",
              "    <tr>\n",
              "      <th>1000004</th>\n",
              "      <th>명륜길</th>\n",
              "      <td>8176727981</td>\n",
              "    </tr>\n",
              "    <tr>\n",
              "      <th>1000005</th>\n",
              "      <th>백석동길</th>\n",
              "      <td>7799786572</td>\n",
              "    </tr>\n",
              "    <tr>\n",
              "      <th>...</th>\n",
              "      <th>...</th>\n",
              "      <th>...</th>\n",
              "      <td>...</td>\n",
              "    </tr>\n",
              "    <tr>\n",
              "      <th rowspan=\"5\" valign=\"top\">4</th>\n",
              "      <th>1001006</th>\n",
              "      <th>천호대로197길</th>\n",
              "      <td>30933784847</td>\n",
              "    </tr>\n",
              "    <tr>\n",
              "      <th>1001007</th>\n",
              "      <th>천호대로219길</th>\n",
              "      <td>20166847271</td>\n",
              "    </tr>\n",
              "    <tr>\n",
              "      <th>1001008</th>\n",
              "      <th>천호옛14길</th>\n",
              "      <td>110484465369</td>\n",
              "    </tr>\n",
              "    <tr>\n",
              "      <th>1001009</th>\n",
              "      <th>천호옛길</th>\n",
              "      <td>76196297520</td>\n",
              "    </tr>\n",
              "    <tr>\n",
              "      <th>1001010</th>\n",
              "      <th>풍성로37가길</th>\n",
              "      <td>49387222943</td>\n",
              "    </tr>\n",
              "  </tbody>\n",
              "</table>\n",
              "<p>4040 rows × 1 columns</p>\n",
              "</div>\n",
              "      <button class=\"colab-df-convert\" onclick=\"convertToInteractive('df-0b5d239f-81e3-4285-a6bb-7f06c6138cf9')\"\n",
              "              title=\"Convert this dataframe to an interactive table.\"\n",
              "              style=\"display:none;\">\n",
              "        \n",
              "  <svg xmlns=\"http://www.w3.org/2000/svg\" height=\"24px\"viewBox=\"0 0 24 24\"\n",
              "       width=\"24px\">\n",
              "    <path d=\"M0 0h24v24H0V0z\" fill=\"none\"/>\n",
              "    <path d=\"M18.56 5.44l.94 2.06.94-2.06 2.06-.94-2.06-.94-.94-2.06-.94 2.06-2.06.94zm-11 1L8.5 8.5l.94-2.06 2.06-.94-2.06-.94L8.5 2.5l-.94 2.06-2.06.94zm10 10l.94 2.06.94-2.06 2.06-.94-2.06-.94-.94-2.06-.94 2.06-2.06.94z\"/><path d=\"M17.41 7.96l-1.37-1.37c-.4-.4-.92-.59-1.43-.59-.52 0-1.04.2-1.43.59L10.3 9.45l-7.72 7.72c-.78.78-.78 2.05 0 2.83L4 21.41c.39.39.9.59 1.41.59.51 0 1.02-.2 1.41-.59l7.78-7.78 2.81-2.81c.8-.78.8-2.07 0-2.86zM5.41 20L4 18.59l7.72-7.72 1.47 1.35L5.41 20z\"/>\n",
              "  </svg>\n",
              "      </button>\n",
              "      \n",
              "  <style>\n",
              "    .colab-df-container {\n",
              "      display:flex;\n",
              "      flex-wrap:wrap;\n",
              "      gap: 12px;\n",
              "    }\n",
              "\n",
              "    .colab-df-convert {\n",
              "      background-color: #E8F0FE;\n",
              "      border: none;\n",
              "      border-radius: 50%;\n",
              "      cursor: pointer;\n",
              "      display: none;\n",
              "      fill: #1967D2;\n",
              "      height: 32px;\n",
              "      padding: 0 0 0 0;\n",
              "      width: 32px;\n",
              "    }\n",
              "\n",
              "    .colab-df-convert:hover {\n",
              "      background-color: #E2EBFA;\n",
              "      box-shadow: 0px 1px 2px rgba(60, 64, 67, 0.3), 0px 1px 3px 1px rgba(60, 64, 67, 0.15);\n",
              "      fill: #174EA6;\n",
              "    }\n",
              "\n",
              "    [theme=dark] .colab-df-convert {\n",
              "      background-color: #3B4455;\n",
              "      fill: #D2E3FC;\n",
              "    }\n",
              "\n",
              "    [theme=dark] .colab-df-convert:hover {\n",
              "      background-color: #434B5C;\n",
              "      box-shadow: 0px 1px 3px 1px rgba(0, 0, 0, 0.15);\n",
              "      filter: drop-shadow(0px 1px 2px rgba(0, 0, 0, 0.3));\n",
              "      fill: #FFFFFF;\n",
              "    }\n",
              "  </style>\n",
              "\n",
              "      <script>\n",
              "        const buttonEl =\n",
              "          document.querySelector('#df-0b5d239f-81e3-4285-a6bb-7f06c6138cf9 button.colab-df-convert');\n",
              "        buttonEl.style.display =\n",
              "          google.colab.kernel.accessAllowed ? 'block' : 'none';\n",
              "\n",
              "        async function convertToInteractive(key) {\n",
              "          const element = document.querySelector('#df-0b5d239f-81e3-4285-a6bb-7f06c6138cf9');\n",
              "          const dataTable =\n",
              "            await google.colab.kernel.invokeFunction('convertToInteractive',\n",
              "                                                     [key], {});\n",
              "          if (!dataTable) return;\n",
              "\n",
              "          const docLinkHtml = 'Like what you see? Visit the ' +\n",
              "            '<a target=\"_blank\" href=https://colab.research.google.com/notebooks/data_table.ipynb>data table notebook</a>'\n",
              "            + ' to learn more about interactive tables.';\n",
              "          element.innerHTML = '';\n",
              "          dataTable['output_type'] = 'display_data';\n",
              "          await google.colab.output.renderOutput(dataTable, element);\n",
              "          const docLink = document.createElement('div');\n",
              "          docLink.innerHTML = docLinkHtml;\n",
              "          element.appendChild(docLink);\n",
              "        }\n",
              "      </script>\n",
              "    </div>\n",
              "  </div>\n",
              "  "
            ]
          },
          "metadata": {},
          "execution_count": 29
        }
      ]
    },
    {
      "cell_type": "code",
      "source": [
        "money_data2018_total2 = money_data2018_total.groupby(['기준_년_코드','기준_분기_코드','상권_코드','상권_코드_명'])[['분기당_매출_금액']].sum()"
      ],
      "metadata": {
        "id": "kJiwUMn5Zjmu"
      },
      "execution_count": 30,
      "outputs": []
    },
    {
      "cell_type": "code",
      "source": [
        "#2018년의 각 골목상권의 매출 금액\n",
        "\n",
        "money_data2018_total2.groupby(['기준_년_코드','상권_코드','상권_코드_명'])[['분기당_매출_금액']].sum()"
      ],
      "metadata": {
        "colab": {
          "base_uri": "https://localhost:8080/",
          "height": 0
        },
        "id": "WIRUM25zacPR",
        "outputId": "ab8daa93-5a5b-4750-ee7c-eb7e7df73f28"
      },
      "execution_count": 31,
      "outputs": [
        {
          "output_type": "execute_result",
          "data": {
            "text/plain": [
              "                             분기당_매출_금액\n",
              "기준_년_코드 상권_코드   상권_코드_명               \n",
              "2018    1000001 계동길       135983396936\n",
              "        1000002 난계로27길    243382900316\n",
              "        1000003 돈화문로11가길  673726131934\n",
              "        1000004 명륜길        35954168846\n",
              "        1000005 백석동길       37055979680\n",
              "...                                ...\n",
              "        1001006 천호대로197길  122044792117\n",
              "        1001007 천호대로219길   74631162188\n",
              "        1001008 천호옛14길    428276804609\n",
              "        1001009 천호옛길      297626243849\n",
              "        1001010 풍성로37가길   194695089470\n",
              "\n",
              "[1010 rows x 1 columns]"
            ],
            "text/html": [
              "\n",
              "  <div id=\"df-a06814a4-fd37-4417-b8bb-88b0c17f2a15\">\n",
              "    <div class=\"colab-df-container\">\n",
              "      <div>\n",
              "<style scoped>\n",
              "    .dataframe tbody tr th:only-of-type {\n",
              "        vertical-align: middle;\n",
              "    }\n",
              "\n",
              "    .dataframe tbody tr th {\n",
              "        vertical-align: top;\n",
              "    }\n",
              "\n",
              "    .dataframe thead th {\n",
              "        text-align: right;\n",
              "    }\n",
              "</style>\n",
              "<table border=\"1\" class=\"dataframe\">\n",
              "  <thead>\n",
              "    <tr style=\"text-align: right;\">\n",
              "      <th></th>\n",
              "      <th></th>\n",
              "      <th></th>\n",
              "      <th>분기당_매출_금액</th>\n",
              "    </tr>\n",
              "    <tr>\n",
              "      <th>기준_년_코드</th>\n",
              "      <th>상권_코드</th>\n",
              "      <th>상권_코드_명</th>\n",
              "      <th></th>\n",
              "    </tr>\n",
              "  </thead>\n",
              "  <tbody>\n",
              "    <tr>\n",
              "      <th rowspan=\"11\" valign=\"top\">2018</th>\n",
              "      <th>1000001</th>\n",
              "      <th>계동길</th>\n",
              "      <td>135983396936</td>\n",
              "    </tr>\n",
              "    <tr>\n",
              "      <th>1000002</th>\n",
              "      <th>난계로27길</th>\n",
              "      <td>243382900316</td>\n",
              "    </tr>\n",
              "    <tr>\n",
              "      <th>1000003</th>\n",
              "      <th>돈화문로11가길</th>\n",
              "      <td>673726131934</td>\n",
              "    </tr>\n",
              "    <tr>\n",
              "      <th>1000004</th>\n",
              "      <th>명륜길</th>\n",
              "      <td>35954168846</td>\n",
              "    </tr>\n",
              "    <tr>\n",
              "      <th>1000005</th>\n",
              "      <th>백석동길</th>\n",
              "      <td>37055979680</td>\n",
              "    </tr>\n",
              "    <tr>\n",
              "      <th>...</th>\n",
              "      <th>...</th>\n",
              "      <td>...</td>\n",
              "    </tr>\n",
              "    <tr>\n",
              "      <th>1001006</th>\n",
              "      <th>천호대로197길</th>\n",
              "      <td>122044792117</td>\n",
              "    </tr>\n",
              "    <tr>\n",
              "      <th>1001007</th>\n",
              "      <th>천호대로219길</th>\n",
              "      <td>74631162188</td>\n",
              "    </tr>\n",
              "    <tr>\n",
              "      <th>1001008</th>\n",
              "      <th>천호옛14길</th>\n",
              "      <td>428276804609</td>\n",
              "    </tr>\n",
              "    <tr>\n",
              "      <th>1001009</th>\n",
              "      <th>천호옛길</th>\n",
              "      <td>297626243849</td>\n",
              "    </tr>\n",
              "    <tr>\n",
              "      <th>1001010</th>\n",
              "      <th>풍성로37가길</th>\n",
              "      <td>194695089470</td>\n",
              "    </tr>\n",
              "  </tbody>\n",
              "</table>\n",
              "<p>1010 rows × 1 columns</p>\n",
              "</div>\n",
              "      <button class=\"colab-df-convert\" onclick=\"convertToInteractive('df-a06814a4-fd37-4417-b8bb-88b0c17f2a15')\"\n",
              "              title=\"Convert this dataframe to an interactive table.\"\n",
              "              style=\"display:none;\">\n",
              "        \n",
              "  <svg xmlns=\"http://www.w3.org/2000/svg\" height=\"24px\"viewBox=\"0 0 24 24\"\n",
              "       width=\"24px\">\n",
              "    <path d=\"M0 0h24v24H0V0z\" fill=\"none\"/>\n",
              "    <path d=\"M18.56 5.44l.94 2.06.94-2.06 2.06-.94-2.06-.94-.94-2.06-.94 2.06-2.06.94zm-11 1L8.5 8.5l.94-2.06 2.06-.94-2.06-.94L8.5 2.5l-.94 2.06-2.06.94zm10 10l.94 2.06.94-2.06 2.06-.94-2.06-.94-.94-2.06-.94 2.06-2.06.94z\"/><path d=\"M17.41 7.96l-1.37-1.37c-.4-.4-.92-.59-1.43-.59-.52 0-1.04.2-1.43.59L10.3 9.45l-7.72 7.72c-.78.78-.78 2.05 0 2.83L4 21.41c.39.39.9.59 1.41.59.51 0 1.02-.2 1.41-.59l7.78-7.78 2.81-2.81c.8-.78.8-2.07 0-2.86zM5.41 20L4 18.59l7.72-7.72 1.47 1.35L5.41 20z\"/>\n",
              "  </svg>\n",
              "      </button>\n",
              "      \n",
              "  <style>\n",
              "    .colab-df-container {\n",
              "      display:flex;\n",
              "      flex-wrap:wrap;\n",
              "      gap: 12px;\n",
              "    }\n",
              "\n",
              "    .colab-df-convert {\n",
              "      background-color: #E8F0FE;\n",
              "      border: none;\n",
              "      border-radius: 50%;\n",
              "      cursor: pointer;\n",
              "      display: none;\n",
              "      fill: #1967D2;\n",
              "      height: 32px;\n",
              "      padding: 0 0 0 0;\n",
              "      width: 32px;\n",
              "    }\n",
              "\n",
              "    .colab-df-convert:hover {\n",
              "      background-color: #E2EBFA;\n",
              "      box-shadow: 0px 1px 2px rgba(60, 64, 67, 0.3), 0px 1px 3px 1px rgba(60, 64, 67, 0.15);\n",
              "      fill: #174EA6;\n",
              "    }\n",
              "\n",
              "    [theme=dark] .colab-df-convert {\n",
              "      background-color: #3B4455;\n",
              "      fill: #D2E3FC;\n",
              "    }\n",
              "\n",
              "    [theme=dark] .colab-df-convert:hover {\n",
              "      background-color: #434B5C;\n",
              "      box-shadow: 0px 1px 3px 1px rgba(0, 0, 0, 0.15);\n",
              "      filter: drop-shadow(0px 1px 2px rgba(0, 0, 0, 0.3));\n",
              "      fill: #FFFFFF;\n",
              "    }\n",
              "  </style>\n",
              "\n",
              "      <script>\n",
              "        const buttonEl =\n",
              "          document.querySelector('#df-a06814a4-fd37-4417-b8bb-88b0c17f2a15 button.colab-df-convert');\n",
              "        buttonEl.style.display =\n",
              "          google.colab.kernel.accessAllowed ? 'block' : 'none';\n",
              "\n",
              "        async function convertToInteractive(key) {\n",
              "          const element = document.querySelector('#df-a06814a4-fd37-4417-b8bb-88b0c17f2a15');\n",
              "          const dataTable =\n",
              "            await google.colab.kernel.invokeFunction('convertToInteractive',\n",
              "                                                     [key], {});\n",
              "          if (!dataTable) return;\n",
              "\n",
              "          const docLinkHtml = 'Like what you see? Visit the ' +\n",
              "            '<a target=\"_blank\" href=https://colab.research.google.com/notebooks/data_table.ipynb>data table notebook</a>'\n",
              "            + ' to learn more about interactive tables.';\n",
              "          element.innerHTML = '';\n",
              "          dataTable['output_type'] = 'display_data';\n",
              "          await google.colab.output.renderOutput(dataTable, element);\n",
              "          const docLink = document.createElement('div');\n",
              "          docLink.innerHTML = docLinkHtml;\n",
              "          element.appendChild(docLink);\n",
              "        }\n",
              "      </script>\n",
              "    </div>\n",
              "  </div>\n",
              "  "
            ]
          },
          "metadata": {},
          "execution_count": 31
        }
      ]
    },
    {
      "cell_type": "code",
      "source": [
        "money_data2018_total3 = money_data2018_total2.groupby(['기준_년_코드','상권_코드','상권_코드_명'])[['분기당_매출_금액']].sum()"
      ],
      "metadata": {
        "id": "zRH191D3ap0i"
      },
      "execution_count": 32,
      "outputs": []
    },
    {
      "cell_type": "code",
      "source": [
        "#컬럼명 변경\n",
        "money_data2018_total3.rename(columns = {'분기당_매출_금액':'연매출액'},inplace=True)"
      ],
      "metadata": {
        "id": "fMqOrAXnbBJx"
      },
      "execution_count": 33,
      "outputs": []
    },
    {
      "cell_type": "code",
      "source": [
        "money_data2018_total3.reset_index(inplace=True)"
      ],
      "metadata": {
        "id": "ByGU7kTEbEDO"
      },
      "execution_count": 34,
      "outputs": []
    },
    {
      "cell_type": "code",
      "source": [
        "money_data2018_total3.head()"
      ],
      "metadata": {
        "colab": {
          "base_uri": "https://localhost:8080/",
          "height": 0
        },
        "id": "EXqgjudCbtcd",
        "outputId": "b6b08430-9e20-4a4c-e09d-c7679745265c"
      },
      "execution_count": 35,
      "outputs": [
        {
          "output_type": "execute_result",
          "data": {
            "text/plain": [
              "   기준_년_코드    상권_코드   상권_코드_명          연매출액\n",
              "0     2018  1000001       계동길  135983396936\n",
              "1     2018  1000002    난계로27길  243382900316\n",
              "2     2018  1000003  돈화문로11가길  673726131934\n",
              "3     2018  1000004       명륜길   35954168846\n",
              "4     2018  1000005      백석동길   37055979680"
            ],
            "text/html": [
              "\n",
              "  <div id=\"df-0b803e2b-fc3b-415e-96ec-c66236d0f6c6\">\n",
              "    <div class=\"colab-df-container\">\n",
              "      <div>\n",
              "<style scoped>\n",
              "    .dataframe tbody tr th:only-of-type {\n",
              "        vertical-align: middle;\n",
              "    }\n",
              "\n",
              "    .dataframe tbody tr th {\n",
              "        vertical-align: top;\n",
              "    }\n",
              "\n",
              "    .dataframe thead th {\n",
              "        text-align: right;\n",
              "    }\n",
              "</style>\n",
              "<table border=\"1\" class=\"dataframe\">\n",
              "  <thead>\n",
              "    <tr style=\"text-align: right;\">\n",
              "      <th></th>\n",
              "      <th>기준_년_코드</th>\n",
              "      <th>상권_코드</th>\n",
              "      <th>상권_코드_명</th>\n",
              "      <th>연매출액</th>\n",
              "    </tr>\n",
              "  </thead>\n",
              "  <tbody>\n",
              "    <tr>\n",
              "      <th>0</th>\n",
              "      <td>2018</td>\n",
              "      <td>1000001</td>\n",
              "      <td>계동길</td>\n",
              "      <td>135983396936</td>\n",
              "    </tr>\n",
              "    <tr>\n",
              "      <th>1</th>\n",
              "      <td>2018</td>\n",
              "      <td>1000002</td>\n",
              "      <td>난계로27길</td>\n",
              "      <td>243382900316</td>\n",
              "    </tr>\n",
              "    <tr>\n",
              "      <th>2</th>\n",
              "      <td>2018</td>\n",
              "      <td>1000003</td>\n",
              "      <td>돈화문로11가길</td>\n",
              "      <td>673726131934</td>\n",
              "    </tr>\n",
              "    <tr>\n",
              "      <th>3</th>\n",
              "      <td>2018</td>\n",
              "      <td>1000004</td>\n",
              "      <td>명륜길</td>\n",
              "      <td>35954168846</td>\n",
              "    </tr>\n",
              "    <tr>\n",
              "      <th>4</th>\n",
              "      <td>2018</td>\n",
              "      <td>1000005</td>\n",
              "      <td>백석동길</td>\n",
              "      <td>37055979680</td>\n",
              "    </tr>\n",
              "  </tbody>\n",
              "</table>\n",
              "</div>\n",
              "      <button class=\"colab-df-convert\" onclick=\"convertToInteractive('df-0b803e2b-fc3b-415e-96ec-c66236d0f6c6')\"\n",
              "              title=\"Convert this dataframe to an interactive table.\"\n",
              "              style=\"display:none;\">\n",
              "        \n",
              "  <svg xmlns=\"http://www.w3.org/2000/svg\" height=\"24px\"viewBox=\"0 0 24 24\"\n",
              "       width=\"24px\">\n",
              "    <path d=\"M0 0h24v24H0V0z\" fill=\"none\"/>\n",
              "    <path d=\"M18.56 5.44l.94 2.06.94-2.06 2.06-.94-2.06-.94-.94-2.06-.94 2.06-2.06.94zm-11 1L8.5 8.5l.94-2.06 2.06-.94-2.06-.94L8.5 2.5l-.94 2.06-2.06.94zm10 10l.94 2.06.94-2.06 2.06-.94-2.06-.94-.94-2.06-.94 2.06-2.06.94z\"/><path d=\"M17.41 7.96l-1.37-1.37c-.4-.4-.92-.59-1.43-.59-.52 0-1.04.2-1.43.59L10.3 9.45l-7.72 7.72c-.78.78-.78 2.05 0 2.83L4 21.41c.39.39.9.59 1.41.59.51 0 1.02-.2 1.41-.59l7.78-7.78 2.81-2.81c.8-.78.8-2.07 0-2.86zM5.41 20L4 18.59l7.72-7.72 1.47 1.35L5.41 20z\"/>\n",
              "  </svg>\n",
              "      </button>\n",
              "      \n",
              "  <style>\n",
              "    .colab-df-container {\n",
              "      display:flex;\n",
              "      flex-wrap:wrap;\n",
              "      gap: 12px;\n",
              "    }\n",
              "\n",
              "    .colab-df-convert {\n",
              "      background-color: #E8F0FE;\n",
              "      border: none;\n",
              "      border-radius: 50%;\n",
              "      cursor: pointer;\n",
              "      display: none;\n",
              "      fill: #1967D2;\n",
              "      height: 32px;\n",
              "      padding: 0 0 0 0;\n",
              "      width: 32px;\n",
              "    }\n",
              "\n",
              "    .colab-df-convert:hover {\n",
              "      background-color: #E2EBFA;\n",
              "      box-shadow: 0px 1px 2px rgba(60, 64, 67, 0.3), 0px 1px 3px 1px rgba(60, 64, 67, 0.15);\n",
              "      fill: #174EA6;\n",
              "    }\n",
              "\n",
              "    [theme=dark] .colab-df-convert {\n",
              "      background-color: #3B4455;\n",
              "      fill: #D2E3FC;\n",
              "    }\n",
              "\n",
              "    [theme=dark] .colab-df-convert:hover {\n",
              "      background-color: #434B5C;\n",
              "      box-shadow: 0px 1px 3px 1px rgba(0, 0, 0, 0.15);\n",
              "      filter: drop-shadow(0px 1px 2px rgba(0, 0, 0, 0.3));\n",
              "      fill: #FFFFFF;\n",
              "    }\n",
              "  </style>\n",
              "\n",
              "      <script>\n",
              "        const buttonEl =\n",
              "          document.querySelector('#df-0b803e2b-fc3b-415e-96ec-c66236d0f6c6 button.colab-df-convert');\n",
              "        buttonEl.style.display =\n",
              "          google.colab.kernel.accessAllowed ? 'block' : 'none';\n",
              "\n",
              "        async function convertToInteractive(key) {\n",
              "          const element = document.querySelector('#df-0b803e2b-fc3b-415e-96ec-c66236d0f6c6');\n",
              "          const dataTable =\n",
              "            await google.colab.kernel.invokeFunction('convertToInteractive',\n",
              "                                                     [key], {});\n",
              "          if (!dataTable) return;\n",
              "\n",
              "          const docLinkHtml = 'Like what you see? Visit the ' +\n",
              "            '<a target=\"_blank\" href=https://colab.research.google.com/notebooks/data_table.ipynb>data table notebook</a>'\n",
              "            + ' to learn more about interactive tables.';\n",
              "          element.innerHTML = '';\n",
              "          dataTable['output_type'] = 'display_data';\n",
              "          await google.colab.output.renderOutput(dataTable, element);\n",
              "          const docLink = document.createElement('div');\n",
              "          docLink.innerHTML = docLinkHtml;\n",
              "          element.appendChild(docLink);\n",
              "        }\n",
              "      </script>\n",
              "    </div>\n",
              "  </div>\n",
              "  "
            ]
          },
          "metadata": {},
          "execution_count": 35
        }
      ]
    },
    {
      "cell_type": "code",
      "source": [
        "#2019~2021년 연매출액 구하기\n",
        "\n",
        "money_data2019_total = money_data2019.iloc[:,:9]\n",
        "\n",
        "money_data2019_total2 = money_data2019_total.groupby(['기준_년_코드','기준_분기_코드','상권_코드','상권_코드_명'])[['분기당_매출_금액']].sum()\n",
        "\n",
        "money_data2019_total3 = money_data2019_total2.groupby(['기준_년_코드','상권_코드','상권_코드_명'])[['분기당_매출_금액']].sum()\n",
        "\n",
        "money_data2019_total3.rename(columns = {'분기당_매출_금액':'연매출액'},inplace=True)\n",
        "\n",
        "money_data2019_total3.reset_index(inplace=True)\n",
        "\n",
        "money_data2019_total3"
      ],
      "metadata": {
        "colab": {
          "base_uri": "https://localhost:8080/",
          "height": 0
        },
        "id": "Uiq2NCLicz01",
        "outputId": "9cb7c3d4-dfa7-48a6-cb4f-a98dc65fa757"
      },
      "execution_count": 36,
      "outputs": [
        {
          "output_type": "execute_result",
          "data": {
            "text/plain": [
              "      기준_년_코드    상권_코드   상권_코드_명          연매출액\n",
              "0        2019  1000001       계동길   98502863293\n",
              "1        2019  1000002    난계로27길  202742847775\n",
              "2        2019  1000003  돈화문로11가길  419473667322\n",
              "3        2019  1000004       명륜길   28729737908\n",
              "4        2019  1000005      백석동길   21259526700\n",
              "...       ...      ...       ...           ...\n",
              "1005     2019  1001006  천호대로197길   86594345931\n",
              "1006     2019  1001007  천호대로219길   60277751712\n",
              "1007     2019  1001008    천호옛14길  353765791772\n",
              "1008     2019  1001009      천호옛길  232877275936\n",
              "1009     2019  1001010   풍성로37가길  139560347141\n",
              "\n",
              "[1010 rows x 4 columns]"
            ],
            "text/html": [
              "\n",
              "  <div id=\"df-0d69734c-2180-430d-a982-7ec33a3f2434\">\n",
              "    <div class=\"colab-df-container\">\n",
              "      <div>\n",
              "<style scoped>\n",
              "    .dataframe tbody tr th:only-of-type {\n",
              "        vertical-align: middle;\n",
              "    }\n",
              "\n",
              "    .dataframe tbody tr th {\n",
              "        vertical-align: top;\n",
              "    }\n",
              "\n",
              "    .dataframe thead th {\n",
              "        text-align: right;\n",
              "    }\n",
              "</style>\n",
              "<table border=\"1\" class=\"dataframe\">\n",
              "  <thead>\n",
              "    <tr style=\"text-align: right;\">\n",
              "      <th></th>\n",
              "      <th>기준_년_코드</th>\n",
              "      <th>상권_코드</th>\n",
              "      <th>상권_코드_명</th>\n",
              "      <th>연매출액</th>\n",
              "    </tr>\n",
              "  </thead>\n",
              "  <tbody>\n",
              "    <tr>\n",
              "      <th>0</th>\n",
              "      <td>2019</td>\n",
              "      <td>1000001</td>\n",
              "      <td>계동길</td>\n",
              "      <td>98502863293</td>\n",
              "    </tr>\n",
              "    <tr>\n",
              "      <th>1</th>\n",
              "      <td>2019</td>\n",
              "      <td>1000002</td>\n",
              "      <td>난계로27길</td>\n",
              "      <td>202742847775</td>\n",
              "    </tr>\n",
              "    <tr>\n",
              "      <th>2</th>\n",
              "      <td>2019</td>\n",
              "      <td>1000003</td>\n",
              "      <td>돈화문로11가길</td>\n",
              "      <td>419473667322</td>\n",
              "    </tr>\n",
              "    <tr>\n",
              "      <th>3</th>\n",
              "      <td>2019</td>\n",
              "      <td>1000004</td>\n",
              "      <td>명륜길</td>\n",
              "      <td>28729737908</td>\n",
              "    </tr>\n",
              "    <tr>\n",
              "      <th>4</th>\n",
              "      <td>2019</td>\n",
              "      <td>1000005</td>\n",
              "      <td>백석동길</td>\n",
              "      <td>21259526700</td>\n",
              "    </tr>\n",
              "    <tr>\n",
              "      <th>...</th>\n",
              "      <td>...</td>\n",
              "      <td>...</td>\n",
              "      <td>...</td>\n",
              "      <td>...</td>\n",
              "    </tr>\n",
              "    <tr>\n",
              "      <th>1005</th>\n",
              "      <td>2019</td>\n",
              "      <td>1001006</td>\n",
              "      <td>천호대로197길</td>\n",
              "      <td>86594345931</td>\n",
              "    </tr>\n",
              "    <tr>\n",
              "      <th>1006</th>\n",
              "      <td>2019</td>\n",
              "      <td>1001007</td>\n",
              "      <td>천호대로219길</td>\n",
              "      <td>60277751712</td>\n",
              "    </tr>\n",
              "    <tr>\n",
              "      <th>1007</th>\n",
              "      <td>2019</td>\n",
              "      <td>1001008</td>\n",
              "      <td>천호옛14길</td>\n",
              "      <td>353765791772</td>\n",
              "    </tr>\n",
              "    <tr>\n",
              "      <th>1008</th>\n",
              "      <td>2019</td>\n",
              "      <td>1001009</td>\n",
              "      <td>천호옛길</td>\n",
              "      <td>232877275936</td>\n",
              "    </tr>\n",
              "    <tr>\n",
              "      <th>1009</th>\n",
              "      <td>2019</td>\n",
              "      <td>1001010</td>\n",
              "      <td>풍성로37가길</td>\n",
              "      <td>139560347141</td>\n",
              "    </tr>\n",
              "  </tbody>\n",
              "</table>\n",
              "<p>1010 rows × 4 columns</p>\n",
              "</div>\n",
              "      <button class=\"colab-df-convert\" onclick=\"convertToInteractive('df-0d69734c-2180-430d-a982-7ec33a3f2434')\"\n",
              "              title=\"Convert this dataframe to an interactive table.\"\n",
              "              style=\"display:none;\">\n",
              "        \n",
              "  <svg xmlns=\"http://www.w3.org/2000/svg\" height=\"24px\"viewBox=\"0 0 24 24\"\n",
              "       width=\"24px\">\n",
              "    <path d=\"M0 0h24v24H0V0z\" fill=\"none\"/>\n",
              "    <path d=\"M18.56 5.44l.94 2.06.94-2.06 2.06-.94-2.06-.94-.94-2.06-.94 2.06-2.06.94zm-11 1L8.5 8.5l.94-2.06 2.06-.94-2.06-.94L8.5 2.5l-.94 2.06-2.06.94zm10 10l.94 2.06.94-2.06 2.06-.94-2.06-.94-.94-2.06-.94 2.06-2.06.94z\"/><path d=\"M17.41 7.96l-1.37-1.37c-.4-.4-.92-.59-1.43-.59-.52 0-1.04.2-1.43.59L10.3 9.45l-7.72 7.72c-.78.78-.78 2.05 0 2.83L4 21.41c.39.39.9.59 1.41.59.51 0 1.02-.2 1.41-.59l7.78-7.78 2.81-2.81c.8-.78.8-2.07 0-2.86zM5.41 20L4 18.59l7.72-7.72 1.47 1.35L5.41 20z\"/>\n",
              "  </svg>\n",
              "      </button>\n",
              "      \n",
              "  <style>\n",
              "    .colab-df-container {\n",
              "      display:flex;\n",
              "      flex-wrap:wrap;\n",
              "      gap: 12px;\n",
              "    }\n",
              "\n",
              "    .colab-df-convert {\n",
              "      background-color: #E8F0FE;\n",
              "      border: none;\n",
              "      border-radius: 50%;\n",
              "      cursor: pointer;\n",
              "      display: none;\n",
              "      fill: #1967D2;\n",
              "      height: 32px;\n",
              "      padding: 0 0 0 0;\n",
              "      width: 32px;\n",
              "    }\n",
              "\n",
              "    .colab-df-convert:hover {\n",
              "      background-color: #E2EBFA;\n",
              "      box-shadow: 0px 1px 2px rgba(60, 64, 67, 0.3), 0px 1px 3px 1px rgba(60, 64, 67, 0.15);\n",
              "      fill: #174EA6;\n",
              "    }\n",
              "\n",
              "    [theme=dark] .colab-df-convert {\n",
              "      background-color: #3B4455;\n",
              "      fill: #D2E3FC;\n",
              "    }\n",
              "\n",
              "    [theme=dark] .colab-df-convert:hover {\n",
              "      background-color: #434B5C;\n",
              "      box-shadow: 0px 1px 3px 1px rgba(0, 0, 0, 0.15);\n",
              "      filter: drop-shadow(0px 1px 2px rgba(0, 0, 0, 0.3));\n",
              "      fill: #FFFFFF;\n",
              "    }\n",
              "  </style>\n",
              "\n",
              "      <script>\n",
              "        const buttonEl =\n",
              "          document.querySelector('#df-0d69734c-2180-430d-a982-7ec33a3f2434 button.colab-df-convert');\n",
              "        buttonEl.style.display =\n",
              "          google.colab.kernel.accessAllowed ? 'block' : 'none';\n",
              "\n",
              "        async function convertToInteractive(key) {\n",
              "          const element = document.querySelector('#df-0d69734c-2180-430d-a982-7ec33a3f2434');\n",
              "          const dataTable =\n",
              "            await google.colab.kernel.invokeFunction('convertToInteractive',\n",
              "                                                     [key], {});\n",
              "          if (!dataTable) return;\n",
              "\n",
              "          const docLinkHtml = 'Like what you see? Visit the ' +\n",
              "            '<a target=\"_blank\" href=https://colab.research.google.com/notebooks/data_table.ipynb>data table notebook</a>'\n",
              "            + ' to learn more about interactive tables.';\n",
              "          element.innerHTML = '';\n",
              "          dataTable['output_type'] = 'display_data';\n",
              "          await google.colab.output.renderOutput(dataTable, element);\n",
              "          const docLink = document.createElement('div');\n",
              "          docLink.innerHTML = docLinkHtml;\n",
              "          element.appendChild(docLink);\n",
              "        }\n",
              "      </script>\n",
              "    </div>\n",
              "  </div>\n",
              "  "
            ]
          },
          "metadata": {},
          "execution_count": 36
        }
      ]
    },
    {
      "cell_type": "code",
      "source": [
        "money_data2020_total = money_data2020.iloc[:,:9]\n",
        "\n",
        "money_data2020_total2 = money_data2020_total.groupby(['기준_년_코드','기준_분기_코드','상권_코드','상권_코드_명'])[['분기당_매출_금액']].sum()\n",
        "\n",
        "money_data2020_total3 = money_data2020_total2.groupby(['기준_년_코드','상권_코드','상권_코드_명'])[['분기당_매출_금액']].sum()\n",
        "\n",
        "money_data2020_total3.rename(columns = {'분기당_매출_금액':'연매출액'},inplace=True)\n",
        "\n",
        "money_data2020_total3.reset_index(inplace=True)\n",
        "\n",
        "money_data2020_total3"
      ],
      "metadata": {
        "colab": {
          "base_uri": "https://localhost:8080/",
          "height": 0
        },
        "id": "Vj4ywr8VcOUo",
        "outputId": "395aac82-39d7-4425-f959-b6ae3e79ac72"
      },
      "execution_count": 37,
      "outputs": [
        {
          "output_type": "execute_result",
          "data": {
            "text/plain": [
              "      기준_년_코드    상권_코드   상권_코드_명          연매출액\n",
              "0        2020  1000001       계동길  9.300015e+10\n",
              "1        2020  1000002    난계로27길  1.972450e+11\n",
              "2        2020  1000003  돈화문로11가길  3.717533e+11\n",
              "3        2020  1000004       명륜길  2.187274e+10\n",
              "4        2020  1000005      백석동길  2.223018e+10\n",
              "...       ...      ...       ...           ...\n",
              "1005     2020  1001006  천호대로197길  8.490740e+10\n",
              "1006     2020  1001007  천호대로219길  8.779646e+10\n",
              "1007     2020  1001008    천호옛14길  4.178646e+11\n",
              "1008     2020  1001009      천호옛길  1.985011e+11\n",
              "1009     2020  1001010   풍성로37가길  1.351721e+11\n",
              "\n",
              "[1010 rows x 4 columns]"
            ],
            "text/html": [
              "\n",
              "  <div id=\"df-1870d812-feb8-49aa-8135-bcc81607204c\">\n",
              "    <div class=\"colab-df-container\">\n",
              "      <div>\n",
              "<style scoped>\n",
              "    .dataframe tbody tr th:only-of-type {\n",
              "        vertical-align: middle;\n",
              "    }\n",
              "\n",
              "    .dataframe tbody tr th {\n",
              "        vertical-align: top;\n",
              "    }\n",
              "\n",
              "    .dataframe thead th {\n",
              "        text-align: right;\n",
              "    }\n",
              "</style>\n",
              "<table border=\"1\" class=\"dataframe\">\n",
              "  <thead>\n",
              "    <tr style=\"text-align: right;\">\n",
              "      <th></th>\n",
              "      <th>기준_년_코드</th>\n",
              "      <th>상권_코드</th>\n",
              "      <th>상권_코드_명</th>\n",
              "      <th>연매출액</th>\n",
              "    </tr>\n",
              "  </thead>\n",
              "  <tbody>\n",
              "    <tr>\n",
              "      <th>0</th>\n",
              "      <td>2020</td>\n",
              "      <td>1000001</td>\n",
              "      <td>계동길</td>\n",
              "      <td>9.300015e+10</td>\n",
              "    </tr>\n",
              "    <tr>\n",
              "      <th>1</th>\n",
              "      <td>2020</td>\n",
              "      <td>1000002</td>\n",
              "      <td>난계로27길</td>\n",
              "      <td>1.972450e+11</td>\n",
              "    </tr>\n",
              "    <tr>\n",
              "      <th>2</th>\n",
              "      <td>2020</td>\n",
              "      <td>1000003</td>\n",
              "      <td>돈화문로11가길</td>\n",
              "      <td>3.717533e+11</td>\n",
              "    </tr>\n",
              "    <tr>\n",
              "      <th>3</th>\n",
              "      <td>2020</td>\n",
              "      <td>1000004</td>\n",
              "      <td>명륜길</td>\n",
              "      <td>2.187274e+10</td>\n",
              "    </tr>\n",
              "    <tr>\n",
              "      <th>4</th>\n",
              "      <td>2020</td>\n",
              "      <td>1000005</td>\n",
              "      <td>백석동길</td>\n",
              "      <td>2.223018e+10</td>\n",
              "    </tr>\n",
              "    <tr>\n",
              "      <th>...</th>\n",
              "      <td>...</td>\n",
              "      <td>...</td>\n",
              "      <td>...</td>\n",
              "      <td>...</td>\n",
              "    </tr>\n",
              "    <tr>\n",
              "      <th>1005</th>\n",
              "      <td>2020</td>\n",
              "      <td>1001006</td>\n",
              "      <td>천호대로197길</td>\n",
              "      <td>8.490740e+10</td>\n",
              "    </tr>\n",
              "    <tr>\n",
              "      <th>1006</th>\n",
              "      <td>2020</td>\n",
              "      <td>1001007</td>\n",
              "      <td>천호대로219길</td>\n",
              "      <td>8.779646e+10</td>\n",
              "    </tr>\n",
              "    <tr>\n",
              "      <th>1007</th>\n",
              "      <td>2020</td>\n",
              "      <td>1001008</td>\n",
              "      <td>천호옛14길</td>\n",
              "      <td>4.178646e+11</td>\n",
              "    </tr>\n",
              "    <tr>\n",
              "      <th>1008</th>\n",
              "      <td>2020</td>\n",
              "      <td>1001009</td>\n",
              "      <td>천호옛길</td>\n",
              "      <td>1.985011e+11</td>\n",
              "    </tr>\n",
              "    <tr>\n",
              "      <th>1009</th>\n",
              "      <td>2020</td>\n",
              "      <td>1001010</td>\n",
              "      <td>풍성로37가길</td>\n",
              "      <td>1.351721e+11</td>\n",
              "    </tr>\n",
              "  </tbody>\n",
              "</table>\n",
              "<p>1010 rows × 4 columns</p>\n",
              "</div>\n",
              "      <button class=\"colab-df-convert\" onclick=\"convertToInteractive('df-1870d812-feb8-49aa-8135-bcc81607204c')\"\n",
              "              title=\"Convert this dataframe to an interactive table.\"\n",
              "              style=\"display:none;\">\n",
              "        \n",
              "  <svg xmlns=\"http://www.w3.org/2000/svg\" height=\"24px\"viewBox=\"0 0 24 24\"\n",
              "       width=\"24px\">\n",
              "    <path d=\"M0 0h24v24H0V0z\" fill=\"none\"/>\n",
              "    <path d=\"M18.56 5.44l.94 2.06.94-2.06 2.06-.94-2.06-.94-.94-2.06-.94 2.06-2.06.94zm-11 1L8.5 8.5l.94-2.06 2.06-.94-2.06-.94L8.5 2.5l-.94 2.06-2.06.94zm10 10l.94 2.06.94-2.06 2.06-.94-2.06-.94-.94-2.06-.94 2.06-2.06.94z\"/><path d=\"M17.41 7.96l-1.37-1.37c-.4-.4-.92-.59-1.43-.59-.52 0-1.04.2-1.43.59L10.3 9.45l-7.72 7.72c-.78.78-.78 2.05 0 2.83L4 21.41c.39.39.9.59 1.41.59.51 0 1.02-.2 1.41-.59l7.78-7.78 2.81-2.81c.8-.78.8-2.07 0-2.86zM5.41 20L4 18.59l7.72-7.72 1.47 1.35L5.41 20z\"/>\n",
              "  </svg>\n",
              "      </button>\n",
              "      \n",
              "  <style>\n",
              "    .colab-df-container {\n",
              "      display:flex;\n",
              "      flex-wrap:wrap;\n",
              "      gap: 12px;\n",
              "    }\n",
              "\n",
              "    .colab-df-convert {\n",
              "      background-color: #E8F0FE;\n",
              "      border: none;\n",
              "      border-radius: 50%;\n",
              "      cursor: pointer;\n",
              "      display: none;\n",
              "      fill: #1967D2;\n",
              "      height: 32px;\n",
              "      padding: 0 0 0 0;\n",
              "      width: 32px;\n",
              "    }\n",
              "\n",
              "    .colab-df-convert:hover {\n",
              "      background-color: #E2EBFA;\n",
              "      box-shadow: 0px 1px 2px rgba(60, 64, 67, 0.3), 0px 1px 3px 1px rgba(60, 64, 67, 0.15);\n",
              "      fill: #174EA6;\n",
              "    }\n",
              "\n",
              "    [theme=dark] .colab-df-convert {\n",
              "      background-color: #3B4455;\n",
              "      fill: #D2E3FC;\n",
              "    }\n",
              "\n",
              "    [theme=dark] .colab-df-convert:hover {\n",
              "      background-color: #434B5C;\n",
              "      box-shadow: 0px 1px 3px 1px rgba(0, 0, 0, 0.15);\n",
              "      filter: drop-shadow(0px 1px 2px rgba(0, 0, 0, 0.3));\n",
              "      fill: #FFFFFF;\n",
              "    }\n",
              "  </style>\n",
              "\n",
              "      <script>\n",
              "        const buttonEl =\n",
              "          document.querySelector('#df-1870d812-feb8-49aa-8135-bcc81607204c button.colab-df-convert');\n",
              "        buttonEl.style.display =\n",
              "          google.colab.kernel.accessAllowed ? 'block' : 'none';\n",
              "\n",
              "        async function convertToInteractive(key) {\n",
              "          const element = document.querySelector('#df-1870d812-feb8-49aa-8135-bcc81607204c');\n",
              "          const dataTable =\n",
              "            await google.colab.kernel.invokeFunction('convertToInteractive',\n",
              "                                                     [key], {});\n",
              "          if (!dataTable) return;\n",
              "\n",
              "          const docLinkHtml = 'Like what you see? Visit the ' +\n",
              "            '<a target=\"_blank\" href=https://colab.research.google.com/notebooks/data_table.ipynb>data table notebook</a>'\n",
              "            + ' to learn more about interactive tables.';\n",
              "          element.innerHTML = '';\n",
              "          dataTable['output_type'] = 'display_data';\n",
              "          await google.colab.output.renderOutput(dataTable, element);\n",
              "          const docLink = document.createElement('div');\n",
              "          docLink.innerHTML = docLinkHtml;\n",
              "          element.appendChild(docLink);\n",
              "        }\n",
              "      </script>\n",
              "    </div>\n",
              "  </div>\n",
              "  "
            ]
          },
          "metadata": {},
          "execution_count": 37
        }
      ]
    },
    {
      "cell_type": "code",
      "source": [
        "money_data2021_total = money_data2021.iloc[:,:9]\n",
        "\n",
        "money_data2021_total2 = money_data2021_total.groupby(['기준_년_코드','기준_분기_코드','상권_코드','상권_코드_명'])[['분기당_매출_금액']].sum()\n",
        "\n",
        "money_data2021_total3 = money_data2021_total2.groupby(['기준_년_코드','상권_코드','상권_코드_명'])[['분기당_매출_금액']].sum()\n",
        "\n",
        "money_data2021_total3.rename(columns = {'분기당_매출_금액':'연매출액'},inplace=True)\n",
        "\n",
        "money_data2021_total3.reset_index(inplace=True)\n",
        "\n",
        "money_data2021_total3"
      ],
      "metadata": {
        "colab": {
          "base_uri": "https://localhost:8080/",
          "height": 0
        },
        "id": "Nf49YVLWd1Y9",
        "outputId": "ee61a80a-6dfd-487a-84ec-e55930c8471a"
      },
      "execution_count": 38,
      "outputs": [
        {
          "output_type": "execute_result",
          "data": {
            "text/plain": [
              "      기준_년_코드    상권_코드   상권_코드_명          연매출액\n",
              "0        2021  1000001       계동길  111678777200\n",
              "1        2021  1000002    난계로27길  192286688069\n",
              "2        2021  1000003  돈화문로11가길  413025316937\n",
              "3        2021  1000004       명륜길   20968475269\n",
              "4        2021  1000005      백석동길   16252019003\n",
              "...       ...      ...       ...           ...\n",
              "1005     2021  1001006  천호대로197길   83491986002\n",
              "1006     2021  1001007  천호대로219길   90477387604\n",
              "1007     2021  1001008    천호옛14길  406758935531\n",
              "1008     2021  1001009      천호옛길  200790573865\n",
              "1009     2021  1001010   풍성로37가길  129099673872\n",
              "\n",
              "[1010 rows x 4 columns]"
            ],
            "text/html": [
              "\n",
              "  <div id=\"df-cde6779c-a974-47fb-ab2a-1bdf91a94443\">\n",
              "    <div class=\"colab-df-container\">\n",
              "      <div>\n",
              "<style scoped>\n",
              "    .dataframe tbody tr th:only-of-type {\n",
              "        vertical-align: middle;\n",
              "    }\n",
              "\n",
              "    .dataframe tbody tr th {\n",
              "        vertical-align: top;\n",
              "    }\n",
              "\n",
              "    .dataframe thead th {\n",
              "        text-align: right;\n",
              "    }\n",
              "</style>\n",
              "<table border=\"1\" class=\"dataframe\">\n",
              "  <thead>\n",
              "    <tr style=\"text-align: right;\">\n",
              "      <th></th>\n",
              "      <th>기준_년_코드</th>\n",
              "      <th>상권_코드</th>\n",
              "      <th>상권_코드_명</th>\n",
              "      <th>연매출액</th>\n",
              "    </tr>\n",
              "  </thead>\n",
              "  <tbody>\n",
              "    <tr>\n",
              "      <th>0</th>\n",
              "      <td>2021</td>\n",
              "      <td>1000001</td>\n",
              "      <td>계동길</td>\n",
              "      <td>111678777200</td>\n",
              "    </tr>\n",
              "    <tr>\n",
              "      <th>1</th>\n",
              "      <td>2021</td>\n",
              "      <td>1000002</td>\n",
              "      <td>난계로27길</td>\n",
              "      <td>192286688069</td>\n",
              "    </tr>\n",
              "    <tr>\n",
              "      <th>2</th>\n",
              "      <td>2021</td>\n",
              "      <td>1000003</td>\n",
              "      <td>돈화문로11가길</td>\n",
              "      <td>413025316937</td>\n",
              "    </tr>\n",
              "    <tr>\n",
              "      <th>3</th>\n",
              "      <td>2021</td>\n",
              "      <td>1000004</td>\n",
              "      <td>명륜길</td>\n",
              "      <td>20968475269</td>\n",
              "    </tr>\n",
              "    <tr>\n",
              "      <th>4</th>\n",
              "      <td>2021</td>\n",
              "      <td>1000005</td>\n",
              "      <td>백석동길</td>\n",
              "      <td>16252019003</td>\n",
              "    </tr>\n",
              "    <tr>\n",
              "      <th>...</th>\n",
              "      <td>...</td>\n",
              "      <td>...</td>\n",
              "      <td>...</td>\n",
              "      <td>...</td>\n",
              "    </tr>\n",
              "    <tr>\n",
              "      <th>1005</th>\n",
              "      <td>2021</td>\n",
              "      <td>1001006</td>\n",
              "      <td>천호대로197길</td>\n",
              "      <td>83491986002</td>\n",
              "    </tr>\n",
              "    <tr>\n",
              "      <th>1006</th>\n",
              "      <td>2021</td>\n",
              "      <td>1001007</td>\n",
              "      <td>천호대로219길</td>\n",
              "      <td>90477387604</td>\n",
              "    </tr>\n",
              "    <tr>\n",
              "      <th>1007</th>\n",
              "      <td>2021</td>\n",
              "      <td>1001008</td>\n",
              "      <td>천호옛14길</td>\n",
              "      <td>406758935531</td>\n",
              "    </tr>\n",
              "    <tr>\n",
              "      <th>1008</th>\n",
              "      <td>2021</td>\n",
              "      <td>1001009</td>\n",
              "      <td>천호옛길</td>\n",
              "      <td>200790573865</td>\n",
              "    </tr>\n",
              "    <tr>\n",
              "      <th>1009</th>\n",
              "      <td>2021</td>\n",
              "      <td>1001010</td>\n",
              "      <td>풍성로37가길</td>\n",
              "      <td>129099673872</td>\n",
              "    </tr>\n",
              "  </tbody>\n",
              "</table>\n",
              "<p>1010 rows × 4 columns</p>\n",
              "</div>\n",
              "      <button class=\"colab-df-convert\" onclick=\"convertToInteractive('df-cde6779c-a974-47fb-ab2a-1bdf91a94443')\"\n",
              "              title=\"Convert this dataframe to an interactive table.\"\n",
              "              style=\"display:none;\">\n",
              "        \n",
              "  <svg xmlns=\"http://www.w3.org/2000/svg\" height=\"24px\"viewBox=\"0 0 24 24\"\n",
              "       width=\"24px\">\n",
              "    <path d=\"M0 0h24v24H0V0z\" fill=\"none\"/>\n",
              "    <path d=\"M18.56 5.44l.94 2.06.94-2.06 2.06-.94-2.06-.94-.94-2.06-.94 2.06-2.06.94zm-11 1L8.5 8.5l.94-2.06 2.06-.94-2.06-.94L8.5 2.5l-.94 2.06-2.06.94zm10 10l.94 2.06.94-2.06 2.06-.94-2.06-.94-.94-2.06-.94 2.06-2.06.94z\"/><path d=\"M17.41 7.96l-1.37-1.37c-.4-.4-.92-.59-1.43-.59-.52 0-1.04.2-1.43.59L10.3 9.45l-7.72 7.72c-.78.78-.78 2.05 0 2.83L4 21.41c.39.39.9.59 1.41.59.51 0 1.02-.2 1.41-.59l7.78-7.78 2.81-2.81c.8-.78.8-2.07 0-2.86zM5.41 20L4 18.59l7.72-7.72 1.47 1.35L5.41 20z\"/>\n",
              "  </svg>\n",
              "      </button>\n",
              "      \n",
              "  <style>\n",
              "    .colab-df-container {\n",
              "      display:flex;\n",
              "      flex-wrap:wrap;\n",
              "      gap: 12px;\n",
              "    }\n",
              "\n",
              "    .colab-df-convert {\n",
              "      background-color: #E8F0FE;\n",
              "      border: none;\n",
              "      border-radius: 50%;\n",
              "      cursor: pointer;\n",
              "      display: none;\n",
              "      fill: #1967D2;\n",
              "      height: 32px;\n",
              "      padding: 0 0 0 0;\n",
              "      width: 32px;\n",
              "    }\n",
              "\n",
              "    .colab-df-convert:hover {\n",
              "      background-color: #E2EBFA;\n",
              "      box-shadow: 0px 1px 2px rgba(60, 64, 67, 0.3), 0px 1px 3px 1px rgba(60, 64, 67, 0.15);\n",
              "      fill: #174EA6;\n",
              "    }\n",
              "\n",
              "    [theme=dark] .colab-df-convert {\n",
              "      background-color: #3B4455;\n",
              "      fill: #D2E3FC;\n",
              "    }\n",
              "\n",
              "    [theme=dark] .colab-df-convert:hover {\n",
              "      background-color: #434B5C;\n",
              "      box-shadow: 0px 1px 3px 1px rgba(0, 0, 0, 0.15);\n",
              "      filter: drop-shadow(0px 1px 2px rgba(0, 0, 0, 0.3));\n",
              "      fill: #FFFFFF;\n",
              "    }\n",
              "  </style>\n",
              "\n",
              "      <script>\n",
              "        const buttonEl =\n",
              "          document.querySelector('#df-cde6779c-a974-47fb-ab2a-1bdf91a94443 button.colab-df-convert');\n",
              "        buttonEl.style.display =\n",
              "          google.colab.kernel.accessAllowed ? 'block' : 'none';\n",
              "\n",
              "        async function convertToInteractive(key) {\n",
              "          const element = document.querySelector('#df-cde6779c-a974-47fb-ab2a-1bdf91a94443');\n",
              "          const dataTable =\n",
              "            await google.colab.kernel.invokeFunction('convertToInteractive',\n",
              "                                                     [key], {});\n",
              "          if (!dataTable) return;\n",
              "\n",
              "          const docLinkHtml = 'Like what you see? Visit the ' +\n",
              "            '<a target=\"_blank\" href=https://colab.research.google.com/notebooks/data_table.ipynb>data table notebook</a>'\n",
              "            + ' to learn more about interactive tables.';\n",
              "          element.innerHTML = '';\n",
              "          dataTable['output_type'] = 'display_data';\n",
              "          await google.colab.output.renderOutput(dataTable, element);\n",
              "          const docLink = document.createElement('div');\n",
              "          docLink.innerHTML = docLinkHtml;\n",
              "          element.appendChild(docLink);\n",
              "        }\n",
              "      </script>\n",
              "    </div>\n",
              "  </div>\n",
              "  "
            ]
          },
          "metadata": {},
          "execution_count": 38
        }
      ]
    },
    {
      "cell_type": "code",
      "source": [
        "#2018~2021년 데이터 모두 합치기\n",
        "\n",
        "money_data = pd.concat([money_data2018_total3,money_data2019_total3,money_data2020_total3,money_data2021_total3],axis=0)"
      ],
      "metadata": {
        "id": "AA_3lRgxd8cA"
      },
      "execution_count": 39,
      "outputs": []
    },
    {
      "cell_type": "code",
      "source": [
        "money_data"
      ],
      "metadata": {
        "colab": {
          "base_uri": "https://localhost:8080/",
          "height": 0
        },
        "id": "cz_05XMsea7U",
        "outputId": "ca9a6429-1938-48ad-b13f-85e7fcbc1620"
      },
      "execution_count": 40,
      "outputs": [
        {
          "output_type": "execute_result",
          "data": {
            "text/plain": [
              "      기준_년_코드    상권_코드   상권_코드_명          연매출액\n",
              "0        2018  1000001       계동길  1.359834e+11\n",
              "1        2018  1000002    난계로27길  2.433829e+11\n",
              "2        2018  1000003  돈화문로11가길  6.737261e+11\n",
              "3        2018  1000004       명륜길  3.595417e+10\n",
              "4        2018  1000005      백석동길  3.705598e+10\n",
              "...       ...      ...       ...           ...\n",
              "1005     2021  1001006  천호대로197길  8.349199e+10\n",
              "1006     2021  1001007  천호대로219길  9.047739e+10\n",
              "1007     2021  1001008    천호옛14길  4.067589e+11\n",
              "1008     2021  1001009      천호옛길  2.007906e+11\n",
              "1009     2021  1001010   풍성로37가길  1.290997e+11\n",
              "\n",
              "[4040 rows x 4 columns]"
            ],
            "text/html": [
              "\n",
              "  <div id=\"df-d728d550-8edb-4a1a-b5e7-fe46f2807a8d\">\n",
              "    <div class=\"colab-df-container\">\n",
              "      <div>\n",
              "<style scoped>\n",
              "    .dataframe tbody tr th:only-of-type {\n",
              "        vertical-align: middle;\n",
              "    }\n",
              "\n",
              "    .dataframe tbody tr th {\n",
              "        vertical-align: top;\n",
              "    }\n",
              "\n",
              "    .dataframe thead th {\n",
              "        text-align: right;\n",
              "    }\n",
              "</style>\n",
              "<table border=\"1\" class=\"dataframe\">\n",
              "  <thead>\n",
              "    <tr style=\"text-align: right;\">\n",
              "      <th></th>\n",
              "      <th>기준_년_코드</th>\n",
              "      <th>상권_코드</th>\n",
              "      <th>상권_코드_명</th>\n",
              "      <th>연매출액</th>\n",
              "    </tr>\n",
              "  </thead>\n",
              "  <tbody>\n",
              "    <tr>\n",
              "      <th>0</th>\n",
              "      <td>2018</td>\n",
              "      <td>1000001</td>\n",
              "      <td>계동길</td>\n",
              "      <td>1.359834e+11</td>\n",
              "    </tr>\n",
              "    <tr>\n",
              "      <th>1</th>\n",
              "      <td>2018</td>\n",
              "      <td>1000002</td>\n",
              "      <td>난계로27길</td>\n",
              "      <td>2.433829e+11</td>\n",
              "    </tr>\n",
              "    <tr>\n",
              "      <th>2</th>\n",
              "      <td>2018</td>\n",
              "      <td>1000003</td>\n",
              "      <td>돈화문로11가길</td>\n",
              "      <td>6.737261e+11</td>\n",
              "    </tr>\n",
              "    <tr>\n",
              "      <th>3</th>\n",
              "      <td>2018</td>\n",
              "      <td>1000004</td>\n",
              "      <td>명륜길</td>\n",
              "      <td>3.595417e+10</td>\n",
              "    </tr>\n",
              "    <tr>\n",
              "      <th>4</th>\n",
              "      <td>2018</td>\n",
              "      <td>1000005</td>\n",
              "      <td>백석동길</td>\n",
              "      <td>3.705598e+10</td>\n",
              "    </tr>\n",
              "    <tr>\n",
              "      <th>...</th>\n",
              "      <td>...</td>\n",
              "      <td>...</td>\n",
              "      <td>...</td>\n",
              "      <td>...</td>\n",
              "    </tr>\n",
              "    <tr>\n",
              "      <th>1005</th>\n",
              "      <td>2021</td>\n",
              "      <td>1001006</td>\n",
              "      <td>천호대로197길</td>\n",
              "      <td>8.349199e+10</td>\n",
              "    </tr>\n",
              "    <tr>\n",
              "      <th>1006</th>\n",
              "      <td>2021</td>\n",
              "      <td>1001007</td>\n",
              "      <td>천호대로219길</td>\n",
              "      <td>9.047739e+10</td>\n",
              "    </tr>\n",
              "    <tr>\n",
              "      <th>1007</th>\n",
              "      <td>2021</td>\n",
              "      <td>1001008</td>\n",
              "      <td>천호옛14길</td>\n",
              "      <td>4.067589e+11</td>\n",
              "    </tr>\n",
              "    <tr>\n",
              "      <th>1008</th>\n",
              "      <td>2021</td>\n",
              "      <td>1001009</td>\n",
              "      <td>천호옛길</td>\n",
              "      <td>2.007906e+11</td>\n",
              "    </tr>\n",
              "    <tr>\n",
              "      <th>1009</th>\n",
              "      <td>2021</td>\n",
              "      <td>1001010</td>\n",
              "      <td>풍성로37가길</td>\n",
              "      <td>1.290997e+11</td>\n",
              "    </tr>\n",
              "  </tbody>\n",
              "</table>\n",
              "<p>4040 rows × 4 columns</p>\n",
              "</div>\n",
              "      <button class=\"colab-df-convert\" onclick=\"convertToInteractive('df-d728d550-8edb-4a1a-b5e7-fe46f2807a8d')\"\n",
              "              title=\"Convert this dataframe to an interactive table.\"\n",
              "              style=\"display:none;\">\n",
              "        \n",
              "  <svg xmlns=\"http://www.w3.org/2000/svg\" height=\"24px\"viewBox=\"0 0 24 24\"\n",
              "       width=\"24px\">\n",
              "    <path d=\"M0 0h24v24H0V0z\" fill=\"none\"/>\n",
              "    <path d=\"M18.56 5.44l.94 2.06.94-2.06 2.06-.94-2.06-.94-.94-2.06-.94 2.06-2.06.94zm-11 1L8.5 8.5l.94-2.06 2.06-.94-2.06-.94L8.5 2.5l-.94 2.06-2.06.94zm10 10l.94 2.06.94-2.06 2.06-.94-2.06-.94-.94-2.06-.94 2.06-2.06.94z\"/><path d=\"M17.41 7.96l-1.37-1.37c-.4-.4-.92-.59-1.43-.59-.52 0-1.04.2-1.43.59L10.3 9.45l-7.72 7.72c-.78.78-.78 2.05 0 2.83L4 21.41c.39.39.9.59 1.41.59.51 0 1.02-.2 1.41-.59l7.78-7.78 2.81-2.81c.8-.78.8-2.07 0-2.86zM5.41 20L4 18.59l7.72-7.72 1.47 1.35L5.41 20z\"/>\n",
              "  </svg>\n",
              "      </button>\n",
              "      \n",
              "  <style>\n",
              "    .colab-df-container {\n",
              "      display:flex;\n",
              "      flex-wrap:wrap;\n",
              "      gap: 12px;\n",
              "    }\n",
              "\n",
              "    .colab-df-convert {\n",
              "      background-color: #E8F0FE;\n",
              "      border: none;\n",
              "      border-radius: 50%;\n",
              "      cursor: pointer;\n",
              "      display: none;\n",
              "      fill: #1967D2;\n",
              "      height: 32px;\n",
              "      padding: 0 0 0 0;\n",
              "      width: 32px;\n",
              "    }\n",
              "\n",
              "    .colab-df-convert:hover {\n",
              "      background-color: #E2EBFA;\n",
              "      box-shadow: 0px 1px 2px rgba(60, 64, 67, 0.3), 0px 1px 3px 1px rgba(60, 64, 67, 0.15);\n",
              "      fill: #174EA6;\n",
              "    }\n",
              "\n",
              "    [theme=dark] .colab-df-convert {\n",
              "      background-color: #3B4455;\n",
              "      fill: #D2E3FC;\n",
              "    }\n",
              "\n",
              "    [theme=dark] .colab-df-convert:hover {\n",
              "      background-color: #434B5C;\n",
              "      box-shadow: 0px 1px 3px 1px rgba(0, 0, 0, 0.15);\n",
              "      filter: drop-shadow(0px 1px 2px rgba(0, 0, 0, 0.3));\n",
              "      fill: #FFFFFF;\n",
              "    }\n",
              "  </style>\n",
              "\n",
              "      <script>\n",
              "        const buttonEl =\n",
              "          document.querySelector('#df-d728d550-8edb-4a1a-b5e7-fe46f2807a8d button.colab-df-convert');\n",
              "        buttonEl.style.display =\n",
              "          google.colab.kernel.accessAllowed ? 'block' : 'none';\n",
              "\n",
              "        async function convertToInteractive(key) {\n",
              "          const element = document.querySelector('#df-d728d550-8edb-4a1a-b5e7-fe46f2807a8d');\n",
              "          const dataTable =\n",
              "            await google.colab.kernel.invokeFunction('convertToInteractive',\n",
              "                                                     [key], {});\n",
              "          if (!dataTable) return;\n",
              "\n",
              "          const docLinkHtml = 'Like what you see? Visit the ' +\n",
              "            '<a target=\"_blank\" href=https://colab.research.google.com/notebooks/data_table.ipynb>data table notebook</a>'\n",
              "            + ' to learn more about interactive tables.';\n",
              "          element.innerHTML = '';\n",
              "          dataTable['output_type'] = 'display_data';\n",
              "          await google.colab.output.renderOutput(dataTable, element);\n",
              "          const docLink = document.createElement('div');\n",
              "          docLink.innerHTML = docLinkHtml;\n",
              "          element.appendChild(docLink);\n",
              "        }\n",
              "      </script>\n",
              "    </div>\n",
              "  </div>\n",
              "  "
            ]
          },
          "metadata": {},
          "execution_count": 40
        }
      ]
    },
    {
      "cell_type": "code",
      "source": [
        ""
      ],
      "metadata": {
        "id": "VAeQ-cv0gJVS"
      },
      "execution_count": 40,
      "outputs": []
    },
    {
      "cell_type": "markdown",
      "source": [
        "##2-6)1010개 골목상권의 2018~2021년 매출액과 생활인구 수"
      ],
      "metadata": {
        "id": "3NtG45YSgJ9Q"
      }
    },
    {
      "cell_type": "code",
      "source": [
        "pop_money_data = pd.merge(pop_data_comp,money_data,on=['기준_년_코드','상권_코드','상권_코드_명'],how='inner')\n",
        "\n",
        "pop_money_data"
      ],
      "metadata": {
        "colab": {
          "base_uri": "https://localhost:8080/",
          "height": 0
        },
        "id": "Jy9Yh3BfebyI",
        "outputId": "2ec2ec85-bd18-4893-b624-49aa272b1c67"
      },
      "execution_count": 41,
      "outputs": [
        {
          "output_type": "execute_result",
          "data": {
            "text/plain": [
              "      기준_년_코드  상권_코드_명    상권_코드  총_생활인구_수          연매출액\n",
              "0        2020      계동길  1000001   4518075  9.300015e+10\n",
              "1        2021      계동길  1000001   4267762  1.116788e+11\n",
              "2        2019      계동길  1000001   5396727  9.850286e+10\n",
              "3        2018      계동길  1000001   2517950  1.359834e+11\n",
              "4        2019   난계로27길  1000002  15683106  2.027428e+11\n",
              "...       ...      ...      ...       ...           ...\n",
              "4035     2018     천호옛길  1001009  11787651  2.976262e+11\n",
              "4036     2019  풍성로37가길  1001010  39778747  1.395603e+11\n",
              "4037     2020  풍성로37가길  1001010  38484755  1.351721e+11\n",
              "4038     2018  풍성로37가길  1001010  10313459  1.946951e+11\n",
              "4039     2021  풍성로37가길  1001010  37843670  1.290997e+11\n",
              "\n",
              "[4040 rows x 5 columns]"
            ],
            "text/html": [
              "\n",
              "  <div id=\"df-ee60b2f1-a573-4c08-8c5c-04d2e0ae88e7\">\n",
              "    <div class=\"colab-df-container\">\n",
              "      <div>\n",
              "<style scoped>\n",
              "    .dataframe tbody tr th:only-of-type {\n",
              "        vertical-align: middle;\n",
              "    }\n",
              "\n",
              "    .dataframe tbody tr th {\n",
              "        vertical-align: top;\n",
              "    }\n",
              "\n",
              "    .dataframe thead th {\n",
              "        text-align: right;\n",
              "    }\n",
              "</style>\n",
              "<table border=\"1\" class=\"dataframe\">\n",
              "  <thead>\n",
              "    <tr style=\"text-align: right;\">\n",
              "      <th></th>\n",
              "      <th>기준_년_코드</th>\n",
              "      <th>상권_코드_명</th>\n",
              "      <th>상권_코드</th>\n",
              "      <th>총_생활인구_수</th>\n",
              "      <th>연매출액</th>\n",
              "    </tr>\n",
              "  </thead>\n",
              "  <tbody>\n",
              "    <tr>\n",
              "      <th>0</th>\n",
              "      <td>2020</td>\n",
              "      <td>계동길</td>\n",
              "      <td>1000001</td>\n",
              "      <td>4518075</td>\n",
              "      <td>9.300015e+10</td>\n",
              "    </tr>\n",
              "    <tr>\n",
              "      <th>1</th>\n",
              "      <td>2021</td>\n",
              "      <td>계동길</td>\n",
              "      <td>1000001</td>\n",
              "      <td>4267762</td>\n",
              "      <td>1.116788e+11</td>\n",
              "    </tr>\n",
              "    <tr>\n",
              "      <th>2</th>\n",
              "      <td>2019</td>\n",
              "      <td>계동길</td>\n",
              "      <td>1000001</td>\n",
              "      <td>5396727</td>\n",
              "      <td>9.850286e+10</td>\n",
              "    </tr>\n",
              "    <tr>\n",
              "      <th>3</th>\n",
              "      <td>2018</td>\n",
              "      <td>계동길</td>\n",
              "      <td>1000001</td>\n",
              "      <td>2517950</td>\n",
              "      <td>1.359834e+11</td>\n",
              "    </tr>\n",
              "    <tr>\n",
              "      <th>4</th>\n",
              "      <td>2019</td>\n",
              "      <td>난계로27길</td>\n",
              "      <td>1000002</td>\n",
              "      <td>15683106</td>\n",
              "      <td>2.027428e+11</td>\n",
              "    </tr>\n",
              "    <tr>\n",
              "      <th>...</th>\n",
              "      <td>...</td>\n",
              "      <td>...</td>\n",
              "      <td>...</td>\n",
              "      <td>...</td>\n",
              "      <td>...</td>\n",
              "    </tr>\n",
              "    <tr>\n",
              "      <th>4035</th>\n",
              "      <td>2018</td>\n",
              "      <td>천호옛길</td>\n",
              "      <td>1001009</td>\n",
              "      <td>11787651</td>\n",
              "      <td>2.976262e+11</td>\n",
              "    </tr>\n",
              "    <tr>\n",
              "      <th>4036</th>\n",
              "      <td>2019</td>\n",
              "      <td>풍성로37가길</td>\n",
              "      <td>1001010</td>\n",
              "      <td>39778747</td>\n",
              "      <td>1.395603e+11</td>\n",
              "    </tr>\n",
              "    <tr>\n",
              "      <th>4037</th>\n",
              "      <td>2020</td>\n",
              "      <td>풍성로37가길</td>\n",
              "      <td>1001010</td>\n",
              "      <td>38484755</td>\n",
              "      <td>1.351721e+11</td>\n",
              "    </tr>\n",
              "    <tr>\n",
              "      <th>4038</th>\n",
              "      <td>2018</td>\n",
              "      <td>풍성로37가길</td>\n",
              "      <td>1001010</td>\n",
              "      <td>10313459</td>\n",
              "      <td>1.946951e+11</td>\n",
              "    </tr>\n",
              "    <tr>\n",
              "      <th>4039</th>\n",
              "      <td>2021</td>\n",
              "      <td>풍성로37가길</td>\n",
              "      <td>1001010</td>\n",
              "      <td>37843670</td>\n",
              "      <td>1.290997e+11</td>\n",
              "    </tr>\n",
              "  </tbody>\n",
              "</table>\n",
              "<p>4040 rows × 5 columns</p>\n",
              "</div>\n",
              "      <button class=\"colab-df-convert\" onclick=\"convertToInteractive('df-ee60b2f1-a573-4c08-8c5c-04d2e0ae88e7')\"\n",
              "              title=\"Convert this dataframe to an interactive table.\"\n",
              "              style=\"display:none;\">\n",
              "        \n",
              "  <svg xmlns=\"http://www.w3.org/2000/svg\" height=\"24px\"viewBox=\"0 0 24 24\"\n",
              "       width=\"24px\">\n",
              "    <path d=\"M0 0h24v24H0V0z\" fill=\"none\"/>\n",
              "    <path d=\"M18.56 5.44l.94 2.06.94-2.06 2.06-.94-2.06-.94-.94-2.06-.94 2.06-2.06.94zm-11 1L8.5 8.5l.94-2.06 2.06-.94-2.06-.94L8.5 2.5l-.94 2.06-2.06.94zm10 10l.94 2.06.94-2.06 2.06-.94-2.06-.94-.94-2.06-.94 2.06-2.06.94z\"/><path d=\"M17.41 7.96l-1.37-1.37c-.4-.4-.92-.59-1.43-.59-.52 0-1.04.2-1.43.59L10.3 9.45l-7.72 7.72c-.78.78-.78 2.05 0 2.83L4 21.41c.39.39.9.59 1.41.59.51 0 1.02-.2 1.41-.59l7.78-7.78 2.81-2.81c.8-.78.8-2.07 0-2.86zM5.41 20L4 18.59l7.72-7.72 1.47 1.35L5.41 20z\"/>\n",
              "  </svg>\n",
              "      </button>\n",
              "      \n",
              "  <style>\n",
              "    .colab-df-container {\n",
              "      display:flex;\n",
              "      flex-wrap:wrap;\n",
              "      gap: 12px;\n",
              "    }\n",
              "\n",
              "    .colab-df-convert {\n",
              "      background-color: #E8F0FE;\n",
              "      border: none;\n",
              "      border-radius: 50%;\n",
              "      cursor: pointer;\n",
              "      display: none;\n",
              "      fill: #1967D2;\n",
              "      height: 32px;\n",
              "      padding: 0 0 0 0;\n",
              "      width: 32px;\n",
              "    }\n",
              "\n",
              "    .colab-df-convert:hover {\n",
              "      background-color: #E2EBFA;\n",
              "      box-shadow: 0px 1px 2px rgba(60, 64, 67, 0.3), 0px 1px 3px 1px rgba(60, 64, 67, 0.15);\n",
              "      fill: #174EA6;\n",
              "    }\n",
              "\n",
              "    [theme=dark] .colab-df-convert {\n",
              "      background-color: #3B4455;\n",
              "      fill: #D2E3FC;\n",
              "    }\n",
              "\n",
              "    [theme=dark] .colab-df-convert:hover {\n",
              "      background-color: #434B5C;\n",
              "      box-shadow: 0px 1px 3px 1px rgba(0, 0, 0, 0.15);\n",
              "      filter: drop-shadow(0px 1px 2px rgba(0, 0, 0, 0.3));\n",
              "      fill: #FFFFFF;\n",
              "    }\n",
              "  </style>\n",
              "\n",
              "      <script>\n",
              "        const buttonEl =\n",
              "          document.querySelector('#df-ee60b2f1-a573-4c08-8c5c-04d2e0ae88e7 button.colab-df-convert');\n",
              "        buttonEl.style.display =\n",
              "          google.colab.kernel.accessAllowed ? 'block' : 'none';\n",
              "\n",
              "        async function convertToInteractive(key) {\n",
              "          const element = document.querySelector('#df-ee60b2f1-a573-4c08-8c5c-04d2e0ae88e7');\n",
              "          const dataTable =\n",
              "            await google.colab.kernel.invokeFunction('convertToInteractive',\n",
              "                                                     [key], {});\n",
              "          if (!dataTable) return;\n",
              "\n",
              "          const docLinkHtml = 'Like what you see? Visit the ' +\n",
              "            '<a target=\"_blank\" href=https://colab.research.google.com/notebooks/data_table.ipynb>data table notebook</a>'\n",
              "            + ' to learn more about interactive tables.';\n",
              "          element.innerHTML = '';\n",
              "          dataTable['output_type'] = 'display_data';\n",
              "          await google.colab.output.renderOutput(dataTable, element);\n",
              "          const docLink = document.createElement('div');\n",
              "          docLink.innerHTML = docLinkHtml;\n",
              "          element.appendChild(docLink);\n",
              "        }\n",
              "      </script>\n",
              "    </div>\n",
              "  </div>\n",
              "  "
            ]
          },
          "metadata": {},
          "execution_count": 41
        }
      ]
    },
    {
      "cell_type": "code",
      "source": [
        ""
      ],
      "metadata": {
        "id": "cWdp0fNSrjUt"
      },
      "execution_count": 41,
      "outputs": []
    },
    {
      "cell_type": "markdown",
      "source": [
        "##2-7)코로나 이전(2018+2019년)과 코로나 이후(2020년+2021년)로 데이터를 나누기"
      ],
      "metadata": {
        "id": "taqLKyIurk_m"
      }
    },
    {
      "cell_type": "code",
      "source": [
        "#2018년과 2019년의 합 = 코로나 이전\n",
        "\n",
        "pop_money_data[(pop_money_data['기준_년_코드'] <= 2019)].groupby(['상권_코드_명','상권_코드'])[['총_생활인구_수','연매출액']].sum()"
      ],
      "metadata": {
        "colab": {
          "base_uri": "https://localhost:8080/",
          "height": 0
        },
        "id": "__LClwSGfvED",
        "outputId": "a03dc3ef-3d24-4bae-a0f8-0f3b54d64e4c"
      },
      "execution_count": 42,
      "outputs": [
        {
          "output_type": "execute_result",
          "data": {
            "text/plain": [
              "                   총_생활인구_수          연매출액\n",
              "상권_코드_명   상권_코드                          \n",
              "가로공원로58길  1000507  10248576  9.745568e+10\n",
              "가로공원로76가길 1000552  33427813  3.301897e+11\n",
              "가로공원로80길  1000553  27470376  2.070249e+11\n",
              "가마산로61길   1000683  24808861  2.474183e+11\n",
              "가산로3길     1000654  10808642  6.704542e+11\n",
              "...                     ...           ...\n",
              "휘경로23길    1000219  25523161  9.873746e+10\n",
              "휘경로2길     1000220  29315086  2.650571e+11\n",
              "휘경로3길     1000221  36429991  2.912670e+11\n",
              "흑석로13길    1000778  24690402  3.766307e+11\n",
              "흑석로9길     1000779  24578438  3.536763e+11\n",
              "\n",
              "[1010 rows x 2 columns]"
            ],
            "text/html": [
              "\n",
              "  <div id=\"df-11c7aa05-1a55-47f8-96e5-a6388087c9f7\">\n",
              "    <div class=\"colab-df-container\">\n",
              "      <div>\n",
              "<style scoped>\n",
              "    .dataframe tbody tr th:only-of-type {\n",
              "        vertical-align: middle;\n",
              "    }\n",
              "\n",
              "    .dataframe tbody tr th {\n",
              "        vertical-align: top;\n",
              "    }\n",
              "\n",
              "    .dataframe thead th {\n",
              "        text-align: right;\n",
              "    }\n",
              "</style>\n",
              "<table border=\"1\" class=\"dataframe\">\n",
              "  <thead>\n",
              "    <tr style=\"text-align: right;\">\n",
              "      <th></th>\n",
              "      <th></th>\n",
              "      <th>총_생활인구_수</th>\n",
              "      <th>연매출액</th>\n",
              "    </tr>\n",
              "    <tr>\n",
              "      <th>상권_코드_명</th>\n",
              "      <th>상권_코드</th>\n",
              "      <th></th>\n",
              "      <th></th>\n",
              "    </tr>\n",
              "  </thead>\n",
              "  <tbody>\n",
              "    <tr>\n",
              "      <th>가로공원로58길</th>\n",
              "      <th>1000507</th>\n",
              "      <td>10248576</td>\n",
              "      <td>9.745568e+10</td>\n",
              "    </tr>\n",
              "    <tr>\n",
              "      <th>가로공원로76가길</th>\n",
              "      <th>1000552</th>\n",
              "      <td>33427813</td>\n",
              "      <td>3.301897e+11</td>\n",
              "    </tr>\n",
              "    <tr>\n",
              "      <th>가로공원로80길</th>\n",
              "      <th>1000553</th>\n",
              "      <td>27470376</td>\n",
              "      <td>2.070249e+11</td>\n",
              "    </tr>\n",
              "    <tr>\n",
              "      <th>가마산로61길</th>\n",
              "      <th>1000683</th>\n",
              "      <td>24808861</td>\n",
              "      <td>2.474183e+11</td>\n",
              "    </tr>\n",
              "    <tr>\n",
              "      <th>가산로3길</th>\n",
              "      <th>1000654</th>\n",
              "      <td>10808642</td>\n",
              "      <td>6.704542e+11</td>\n",
              "    </tr>\n",
              "    <tr>\n",
              "      <th>...</th>\n",
              "      <th>...</th>\n",
              "      <td>...</td>\n",
              "      <td>...</td>\n",
              "    </tr>\n",
              "    <tr>\n",
              "      <th>휘경로23길</th>\n",
              "      <th>1000219</th>\n",
              "      <td>25523161</td>\n",
              "      <td>9.873746e+10</td>\n",
              "    </tr>\n",
              "    <tr>\n",
              "      <th>휘경로2길</th>\n",
              "      <th>1000220</th>\n",
              "      <td>29315086</td>\n",
              "      <td>2.650571e+11</td>\n",
              "    </tr>\n",
              "    <tr>\n",
              "      <th>휘경로3길</th>\n",
              "      <th>1000221</th>\n",
              "      <td>36429991</td>\n",
              "      <td>2.912670e+11</td>\n",
              "    </tr>\n",
              "    <tr>\n",
              "      <th>흑석로13길</th>\n",
              "      <th>1000778</th>\n",
              "      <td>24690402</td>\n",
              "      <td>3.766307e+11</td>\n",
              "    </tr>\n",
              "    <tr>\n",
              "      <th>흑석로9길</th>\n",
              "      <th>1000779</th>\n",
              "      <td>24578438</td>\n",
              "      <td>3.536763e+11</td>\n",
              "    </tr>\n",
              "  </tbody>\n",
              "</table>\n",
              "<p>1010 rows × 2 columns</p>\n",
              "</div>\n",
              "      <button class=\"colab-df-convert\" onclick=\"convertToInteractive('df-11c7aa05-1a55-47f8-96e5-a6388087c9f7')\"\n",
              "              title=\"Convert this dataframe to an interactive table.\"\n",
              "              style=\"display:none;\">\n",
              "        \n",
              "  <svg xmlns=\"http://www.w3.org/2000/svg\" height=\"24px\"viewBox=\"0 0 24 24\"\n",
              "       width=\"24px\">\n",
              "    <path d=\"M0 0h24v24H0V0z\" fill=\"none\"/>\n",
              "    <path d=\"M18.56 5.44l.94 2.06.94-2.06 2.06-.94-2.06-.94-.94-2.06-.94 2.06-2.06.94zm-11 1L8.5 8.5l.94-2.06 2.06-.94-2.06-.94L8.5 2.5l-.94 2.06-2.06.94zm10 10l.94 2.06.94-2.06 2.06-.94-2.06-.94-.94-2.06-.94 2.06-2.06.94z\"/><path d=\"M17.41 7.96l-1.37-1.37c-.4-.4-.92-.59-1.43-.59-.52 0-1.04.2-1.43.59L10.3 9.45l-7.72 7.72c-.78.78-.78 2.05 0 2.83L4 21.41c.39.39.9.59 1.41.59.51 0 1.02-.2 1.41-.59l7.78-7.78 2.81-2.81c.8-.78.8-2.07 0-2.86zM5.41 20L4 18.59l7.72-7.72 1.47 1.35L5.41 20z\"/>\n",
              "  </svg>\n",
              "      </button>\n",
              "      \n",
              "  <style>\n",
              "    .colab-df-container {\n",
              "      display:flex;\n",
              "      flex-wrap:wrap;\n",
              "      gap: 12px;\n",
              "    }\n",
              "\n",
              "    .colab-df-convert {\n",
              "      background-color: #E8F0FE;\n",
              "      border: none;\n",
              "      border-radius: 50%;\n",
              "      cursor: pointer;\n",
              "      display: none;\n",
              "      fill: #1967D2;\n",
              "      height: 32px;\n",
              "      padding: 0 0 0 0;\n",
              "      width: 32px;\n",
              "    }\n",
              "\n",
              "    .colab-df-convert:hover {\n",
              "      background-color: #E2EBFA;\n",
              "      box-shadow: 0px 1px 2px rgba(60, 64, 67, 0.3), 0px 1px 3px 1px rgba(60, 64, 67, 0.15);\n",
              "      fill: #174EA6;\n",
              "    }\n",
              "\n",
              "    [theme=dark] .colab-df-convert {\n",
              "      background-color: #3B4455;\n",
              "      fill: #D2E3FC;\n",
              "    }\n",
              "\n",
              "    [theme=dark] .colab-df-convert:hover {\n",
              "      background-color: #434B5C;\n",
              "      box-shadow: 0px 1px 3px 1px rgba(0, 0, 0, 0.15);\n",
              "      filter: drop-shadow(0px 1px 2px rgba(0, 0, 0, 0.3));\n",
              "      fill: #FFFFFF;\n",
              "    }\n",
              "  </style>\n",
              "\n",
              "      <script>\n",
              "        const buttonEl =\n",
              "          document.querySelector('#df-11c7aa05-1a55-47f8-96e5-a6388087c9f7 button.colab-df-convert');\n",
              "        buttonEl.style.display =\n",
              "          google.colab.kernel.accessAllowed ? 'block' : 'none';\n",
              "\n",
              "        async function convertToInteractive(key) {\n",
              "          const element = document.querySelector('#df-11c7aa05-1a55-47f8-96e5-a6388087c9f7');\n",
              "          const dataTable =\n",
              "            await google.colab.kernel.invokeFunction('convertToInteractive',\n",
              "                                                     [key], {});\n",
              "          if (!dataTable) return;\n",
              "\n",
              "          const docLinkHtml = 'Like what you see? Visit the ' +\n",
              "            '<a target=\"_blank\" href=https://colab.research.google.com/notebooks/data_table.ipynb>data table notebook</a>'\n",
              "            + ' to learn more about interactive tables.';\n",
              "          element.innerHTML = '';\n",
              "          dataTable['output_type'] = 'display_data';\n",
              "          await google.colab.output.renderOutput(dataTable, element);\n",
              "          const docLink = document.createElement('div');\n",
              "          docLink.innerHTML = docLinkHtml;\n",
              "          element.appendChild(docLink);\n",
              "        }\n",
              "      </script>\n",
              "    </div>\n",
              "  </div>\n",
              "  "
            ]
          },
          "metadata": {},
          "execution_count": 42
        }
      ]
    },
    {
      "cell_type": "code",
      "source": [
        "bef_corona = pop_money_data[(pop_money_data['기준_년_코드'] <= 2019)].groupby(['상권_코드_명','상권_코드'])[['총_생활인구_수','연매출액']].sum()"
      ],
      "metadata": {
        "id": "4mzErj_vimku"
      },
      "execution_count": 43,
      "outputs": []
    },
    {
      "cell_type": "code",
      "source": [
        "#2020년과 2021년의 합 = 코로나 이후\n",
        "\n",
        "pop_money_data[(pop_money_data['기준_년_코드'] >= 2020)].groupby(['상권_코드_명','상권_코드'])[['총_생활인구_수','연매출액']].sum()"
      ],
      "metadata": {
        "colab": {
          "base_uri": "https://localhost:8080/",
          "height": 0
        },
        "id": "HOVhlyIghZI9",
        "outputId": "301546ee-ebc6-4c66-c734-745440fcc882"
      },
      "execution_count": 44,
      "outputs": [
        {
          "output_type": "execute_result",
          "data": {
            "text/plain": [
              "                   총_생활인구_수          연매출액\n",
              "상권_코드_명   상권_코드                          \n",
              "가로공원로58길  1000507  18173361  6.783362e+10\n",
              "가로공원로76가길 1000552  51713389  3.499658e+11\n",
              "가로공원로80길  1000553  46582345  1.928524e+11\n",
              "가마산로61길   1000683  36844254  2.535392e+11\n",
              "가산로3길     1000654  18386581  8.062322e+11\n",
              "...                     ...           ...\n",
              "휘경로23길    1000219  41177454  8.042921e+10\n",
              "휘경로2길     1000220  36714563  1.868619e+11\n",
              "휘경로3길     1000221  46266519  2.047965e+11\n",
              "흑석로13길    1000778  18071493  2.999414e+11\n",
              "흑석로9길     1000779  18380494  2.819104e+11\n",
              "\n",
              "[1010 rows x 2 columns]"
            ],
            "text/html": [
              "\n",
              "  <div id=\"df-6364acf8-72e4-4331-9c2d-4cd0c7adf2a1\">\n",
              "    <div class=\"colab-df-container\">\n",
              "      <div>\n",
              "<style scoped>\n",
              "    .dataframe tbody tr th:only-of-type {\n",
              "        vertical-align: middle;\n",
              "    }\n",
              "\n",
              "    .dataframe tbody tr th {\n",
              "        vertical-align: top;\n",
              "    }\n",
              "\n",
              "    .dataframe thead th {\n",
              "        text-align: right;\n",
              "    }\n",
              "</style>\n",
              "<table border=\"1\" class=\"dataframe\">\n",
              "  <thead>\n",
              "    <tr style=\"text-align: right;\">\n",
              "      <th></th>\n",
              "      <th></th>\n",
              "      <th>총_생활인구_수</th>\n",
              "      <th>연매출액</th>\n",
              "    </tr>\n",
              "    <tr>\n",
              "      <th>상권_코드_명</th>\n",
              "      <th>상권_코드</th>\n",
              "      <th></th>\n",
              "      <th></th>\n",
              "    </tr>\n",
              "  </thead>\n",
              "  <tbody>\n",
              "    <tr>\n",
              "      <th>가로공원로58길</th>\n",
              "      <th>1000507</th>\n",
              "      <td>18173361</td>\n",
              "      <td>6.783362e+10</td>\n",
              "    </tr>\n",
              "    <tr>\n",
              "      <th>가로공원로76가길</th>\n",
              "      <th>1000552</th>\n",
              "      <td>51713389</td>\n",
              "      <td>3.499658e+11</td>\n",
              "    </tr>\n",
              "    <tr>\n",
              "      <th>가로공원로80길</th>\n",
              "      <th>1000553</th>\n",
              "      <td>46582345</td>\n",
              "      <td>1.928524e+11</td>\n",
              "    </tr>\n",
              "    <tr>\n",
              "      <th>가마산로61길</th>\n",
              "      <th>1000683</th>\n",
              "      <td>36844254</td>\n",
              "      <td>2.535392e+11</td>\n",
              "    </tr>\n",
              "    <tr>\n",
              "      <th>가산로3길</th>\n",
              "      <th>1000654</th>\n",
              "      <td>18386581</td>\n",
              "      <td>8.062322e+11</td>\n",
              "    </tr>\n",
              "    <tr>\n",
              "      <th>...</th>\n",
              "      <th>...</th>\n",
              "      <td>...</td>\n",
              "      <td>...</td>\n",
              "    </tr>\n",
              "    <tr>\n",
              "      <th>휘경로23길</th>\n",
              "      <th>1000219</th>\n",
              "      <td>41177454</td>\n",
              "      <td>8.042921e+10</td>\n",
              "    </tr>\n",
              "    <tr>\n",
              "      <th>휘경로2길</th>\n",
              "      <th>1000220</th>\n",
              "      <td>36714563</td>\n",
              "      <td>1.868619e+11</td>\n",
              "    </tr>\n",
              "    <tr>\n",
              "      <th>휘경로3길</th>\n",
              "      <th>1000221</th>\n",
              "      <td>46266519</td>\n",
              "      <td>2.047965e+11</td>\n",
              "    </tr>\n",
              "    <tr>\n",
              "      <th>흑석로13길</th>\n",
              "      <th>1000778</th>\n",
              "      <td>18071493</td>\n",
              "      <td>2.999414e+11</td>\n",
              "    </tr>\n",
              "    <tr>\n",
              "      <th>흑석로9길</th>\n",
              "      <th>1000779</th>\n",
              "      <td>18380494</td>\n",
              "      <td>2.819104e+11</td>\n",
              "    </tr>\n",
              "  </tbody>\n",
              "</table>\n",
              "<p>1010 rows × 2 columns</p>\n",
              "</div>\n",
              "      <button class=\"colab-df-convert\" onclick=\"convertToInteractive('df-6364acf8-72e4-4331-9c2d-4cd0c7adf2a1')\"\n",
              "              title=\"Convert this dataframe to an interactive table.\"\n",
              "              style=\"display:none;\">\n",
              "        \n",
              "  <svg xmlns=\"http://www.w3.org/2000/svg\" height=\"24px\"viewBox=\"0 0 24 24\"\n",
              "       width=\"24px\">\n",
              "    <path d=\"M0 0h24v24H0V0z\" fill=\"none\"/>\n",
              "    <path d=\"M18.56 5.44l.94 2.06.94-2.06 2.06-.94-2.06-.94-.94-2.06-.94 2.06-2.06.94zm-11 1L8.5 8.5l.94-2.06 2.06-.94-2.06-.94L8.5 2.5l-.94 2.06-2.06.94zm10 10l.94 2.06.94-2.06 2.06-.94-2.06-.94-.94-2.06-.94 2.06-2.06.94z\"/><path d=\"M17.41 7.96l-1.37-1.37c-.4-.4-.92-.59-1.43-.59-.52 0-1.04.2-1.43.59L10.3 9.45l-7.72 7.72c-.78.78-.78 2.05 0 2.83L4 21.41c.39.39.9.59 1.41.59.51 0 1.02-.2 1.41-.59l7.78-7.78 2.81-2.81c.8-.78.8-2.07 0-2.86zM5.41 20L4 18.59l7.72-7.72 1.47 1.35L5.41 20z\"/>\n",
              "  </svg>\n",
              "      </button>\n",
              "      \n",
              "  <style>\n",
              "    .colab-df-container {\n",
              "      display:flex;\n",
              "      flex-wrap:wrap;\n",
              "      gap: 12px;\n",
              "    }\n",
              "\n",
              "    .colab-df-convert {\n",
              "      background-color: #E8F0FE;\n",
              "      border: none;\n",
              "      border-radius: 50%;\n",
              "      cursor: pointer;\n",
              "      display: none;\n",
              "      fill: #1967D2;\n",
              "      height: 32px;\n",
              "      padding: 0 0 0 0;\n",
              "      width: 32px;\n",
              "    }\n",
              "\n",
              "    .colab-df-convert:hover {\n",
              "      background-color: #E2EBFA;\n",
              "      box-shadow: 0px 1px 2px rgba(60, 64, 67, 0.3), 0px 1px 3px 1px rgba(60, 64, 67, 0.15);\n",
              "      fill: #174EA6;\n",
              "    }\n",
              "\n",
              "    [theme=dark] .colab-df-convert {\n",
              "      background-color: #3B4455;\n",
              "      fill: #D2E3FC;\n",
              "    }\n",
              "\n",
              "    [theme=dark] .colab-df-convert:hover {\n",
              "      background-color: #434B5C;\n",
              "      box-shadow: 0px 1px 3px 1px rgba(0, 0, 0, 0.15);\n",
              "      filter: drop-shadow(0px 1px 2px rgba(0, 0, 0, 0.3));\n",
              "      fill: #FFFFFF;\n",
              "    }\n",
              "  </style>\n",
              "\n",
              "      <script>\n",
              "        const buttonEl =\n",
              "          document.querySelector('#df-6364acf8-72e4-4331-9c2d-4cd0c7adf2a1 button.colab-df-convert');\n",
              "        buttonEl.style.display =\n",
              "          google.colab.kernel.accessAllowed ? 'block' : 'none';\n",
              "\n",
              "        async function convertToInteractive(key) {\n",
              "          const element = document.querySelector('#df-6364acf8-72e4-4331-9c2d-4cd0c7adf2a1');\n",
              "          const dataTable =\n",
              "            await google.colab.kernel.invokeFunction('convertToInteractive',\n",
              "                                                     [key], {});\n",
              "          if (!dataTable) return;\n",
              "\n",
              "          const docLinkHtml = 'Like what you see? Visit the ' +\n",
              "            '<a target=\"_blank\" href=https://colab.research.google.com/notebooks/data_table.ipynb>data table notebook</a>'\n",
              "            + ' to learn more about interactive tables.';\n",
              "          element.innerHTML = '';\n",
              "          dataTable['output_type'] = 'display_data';\n",
              "          await google.colab.output.renderOutput(dataTable, element);\n",
              "          const docLink = document.createElement('div');\n",
              "          docLink.innerHTML = docLinkHtml;\n",
              "          element.appendChild(docLink);\n",
              "        }\n",
              "      </script>\n",
              "    </div>\n",
              "  </div>\n",
              "  "
            ]
          },
          "metadata": {},
          "execution_count": 44
        }
      ]
    },
    {
      "cell_type": "code",
      "source": [
        "aft_corona = pop_money_data[(pop_money_data['기준_년_코드'] >= 2020)].groupby(['상권_코드_명','상권_코드'])[['총_생활인구_수','연매출액']].sum()"
      ],
      "metadata": {
        "id": "39egAx-MiZF-"
      },
      "execution_count": 45,
      "outputs": []
    },
    {
      "cell_type": "code",
      "source": [
        "#컬럼명 변경\n",
        "\n",
        "bef_corona.rename(columns = {'총_생활인구_수':'코로나_이전_생활인구','연매출액':'코로나_이전_연매출액'},inplace=True)\n",
        "\n",
        "aft_corona.rename(columns = {'총_생활인구_수':'코로나_이후_생활인구','연매출액':'코로나_이후_연매출액'},inplace=True)"
      ],
      "metadata": {
        "id": "82pbtV0hisLH"
      },
      "execution_count": 46,
      "outputs": []
    },
    {
      "cell_type": "code",
      "source": [
        "bef_corona.reset_index(inplace=True)\n",
        "\n",
        "aft_corona.reset_index(inplace=True)"
      ],
      "metadata": {
        "id": "M3yQIgVTixNK"
      },
      "execution_count": 47,
      "outputs": []
    },
    {
      "cell_type": "code",
      "source": [
        "bef_corona"
      ],
      "metadata": {
        "colab": {
          "base_uri": "https://localhost:8080/",
          "height": 0
        },
        "id": "vNKbYUqDjEJN",
        "outputId": "91c14a84-fe79-4550-fcc3-5a3a21e56775"
      },
      "execution_count": 48,
      "outputs": [
        {
          "output_type": "execute_result",
          "data": {
            "text/plain": [
              "        상권_코드_명    상권_코드  코로나_이전_생활인구   코로나_이전_연매출액\n",
              "0      가로공원로58길  1000507     10248576  9.745568e+10\n",
              "1     가로공원로76가길  1000552     33427813  3.301897e+11\n",
              "2      가로공원로80길  1000553     27470376  2.070249e+11\n",
              "3       가마산로61길  1000683     24808861  2.474183e+11\n",
              "4         가산로3길  1000654     10808642  6.704542e+11\n",
              "...         ...      ...          ...           ...\n",
              "1005     휘경로23길  1000219     25523161  9.873746e+10\n",
              "1006      휘경로2길  1000220     29315086  2.650571e+11\n",
              "1007      휘경로3길  1000221     36429991  2.912670e+11\n",
              "1008     흑석로13길  1000778     24690402  3.766307e+11\n",
              "1009      흑석로9길  1000779     24578438  3.536763e+11\n",
              "\n",
              "[1010 rows x 4 columns]"
            ],
            "text/html": [
              "\n",
              "  <div id=\"df-456ff276-a3c4-45a7-8b2e-2e15fe33ec6b\">\n",
              "    <div class=\"colab-df-container\">\n",
              "      <div>\n",
              "<style scoped>\n",
              "    .dataframe tbody tr th:only-of-type {\n",
              "        vertical-align: middle;\n",
              "    }\n",
              "\n",
              "    .dataframe tbody tr th {\n",
              "        vertical-align: top;\n",
              "    }\n",
              "\n",
              "    .dataframe thead th {\n",
              "        text-align: right;\n",
              "    }\n",
              "</style>\n",
              "<table border=\"1\" class=\"dataframe\">\n",
              "  <thead>\n",
              "    <tr style=\"text-align: right;\">\n",
              "      <th></th>\n",
              "      <th>상권_코드_명</th>\n",
              "      <th>상권_코드</th>\n",
              "      <th>코로나_이전_생활인구</th>\n",
              "      <th>코로나_이전_연매출액</th>\n",
              "    </tr>\n",
              "  </thead>\n",
              "  <tbody>\n",
              "    <tr>\n",
              "      <th>0</th>\n",
              "      <td>가로공원로58길</td>\n",
              "      <td>1000507</td>\n",
              "      <td>10248576</td>\n",
              "      <td>9.745568e+10</td>\n",
              "    </tr>\n",
              "    <tr>\n",
              "      <th>1</th>\n",
              "      <td>가로공원로76가길</td>\n",
              "      <td>1000552</td>\n",
              "      <td>33427813</td>\n",
              "      <td>3.301897e+11</td>\n",
              "    </tr>\n",
              "    <tr>\n",
              "      <th>2</th>\n",
              "      <td>가로공원로80길</td>\n",
              "      <td>1000553</td>\n",
              "      <td>27470376</td>\n",
              "      <td>2.070249e+11</td>\n",
              "    </tr>\n",
              "    <tr>\n",
              "      <th>3</th>\n",
              "      <td>가마산로61길</td>\n",
              "      <td>1000683</td>\n",
              "      <td>24808861</td>\n",
              "      <td>2.474183e+11</td>\n",
              "    </tr>\n",
              "    <tr>\n",
              "      <th>4</th>\n",
              "      <td>가산로3길</td>\n",
              "      <td>1000654</td>\n",
              "      <td>10808642</td>\n",
              "      <td>6.704542e+11</td>\n",
              "    </tr>\n",
              "    <tr>\n",
              "      <th>...</th>\n",
              "      <td>...</td>\n",
              "      <td>...</td>\n",
              "      <td>...</td>\n",
              "      <td>...</td>\n",
              "    </tr>\n",
              "    <tr>\n",
              "      <th>1005</th>\n",
              "      <td>휘경로23길</td>\n",
              "      <td>1000219</td>\n",
              "      <td>25523161</td>\n",
              "      <td>9.873746e+10</td>\n",
              "    </tr>\n",
              "    <tr>\n",
              "      <th>1006</th>\n",
              "      <td>휘경로2길</td>\n",
              "      <td>1000220</td>\n",
              "      <td>29315086</td>\n",
              "      <td>2.650571e+11</td>\n",
              "    </tr>\n",
              "    <tr>\n",
              "      <th>1007</th>\n",
              "      <td>휘경로3길</td>\n",
              "      <td>1000221</td>\n",
              "      <td>36429991</td>\n",
              "      <td>2.912670e+11</td>\n",
              "    </tr>\n",
              "    <tr>\n",
              "      <th>1008</th>\n",
              "      <td>흑석로13길</td>\n",
              "      <td>1000778</td>\n",
              "      <td>24690402</td>\n",
              "      <td>3.766307e+11</td>\n",
              "    </tr>\n",
              "    <tr>\n",
              "      <th>1009</th>\n",
              "      <td>흑석로9길</td>\n",
              "      <td>1000779</td>\n",
              "      <td>24578438</td>\n",
              "      <td>3.536763e+11</td>\n",
              "    </tr>\n",
              "  </tbody>\n",
              "</table>\n",
              "<p>1010 rows × 4 columns</p>\n",
              "</div>\n",
              "      <button class=\"colab-df-convert\" onclick=\"convertToInteractive('df-456ff276-a3c4-45a7-8b2e-2e15fe33ec6b')\"\n",
              "              title=\"Convert this dataframe to an interactive table.\"\n",
              "              style=\"display:none;\">\n",
              "        \n",
              "  <svg xmlns=\"http://www.w3.org/2000/svg\" height=\"24px\"viewBox=\"0 0 24 24\"\n",
              "       width=\"24px\">\n",
              "    <path d=\"M0 0h24v24H0V0z\" fill=\"none\"/>\n",
              "    <path d=\"M18.56 5.44l.94 2.06.94-2.06 2.06-.94-2.06-.94-.94-2.06-.94 2.06-2.06.94zm-11 1L8.5 8.5l.94-2.06 2.06-.94-2.06-.94L8.5 2.5l-.94 2.06-2.06.94zm10 10l.94 2.06.94-2.06 2.06-.94-2.06-.94-.94-2.06-.94 2.06-2.06.94z\"/><path d=\"M17.41 7.96l-1.37-1.37c-.4-.4-.92-.59-1.43-.59-.52 0-1.04.2-1.43.59L10.3 9.45l-7.72 7.72c-.78.78-.78 2.05 0 2.83L4 21.41c.39.39.9.59 1.41.59.51 0 1.02-.2 1.41-.59l7.78-7.78 2.81-2.81c.8-.78.8-2.07 0-2.86zM5.41 20L4 18.59l7.72-7.72 1.47 1.35L5.41 20z\"/>\n",
              "  </svg>\n",
              "      </button>\n",
              "      \n",
              "  <style>\n",
              "    .colab-df-container {\n",
              "      display:flex;\n",
              "      flex-wrap:wrap;\n",
              "      gap: 12px;\n",
              "    }\n",
              "\n",
              "    .colab-df-convert {\n",
              "      background-color: #E8F0FE;\n",
              "      border: none;\n",
              "      border-radius: 50%;\n",
              "      cursor: pointer;\n",
              "      display: none;\n",
              "      fill: #1967D2;\n",
              "      height: 32px;\n",
              "      padding: 0 0 0 0;\n",
              "      width: 32px;\n",
              "    }\n",
              "\n",
              "    .colab-df-convert:hover {\n",
              "      background-color: #E2EBFA;\n",
              "      box-shadow: 0px 1px 2px rgba(60, 64, 67, 0.3), 0px 1px 3px 1px rgba(60, 64, 67, 0.15);\n",
              "      fill: #174EA6;\n",
              "    }\n",
              "\n",
              "    [theme=dark] .colab-df-convert {\n",
              "      background-color: #3B4455;\n",
              "      fill: #D2E3FC;\n",
              "    }\n",
              "\n",
              "    [theme=dark] .colab-df-convert:hover {\n",
              "      background-color: #434B5C;\n",
              "      box-shadow: 0px 1px 3px 1px rgba(0, 0, 0, 0.15);\n",
              "      filter: drop-shadow(0px 1px 2px rgba(0, 0, 0, 0.3));\n",
              "      fill: #FFFFFF;\n",
              "    }\n",
              "  </style>\n",
              "\n",
              "      <script>\n",
              "        const buttonEl =\n",
              "          document.querySelector('#df-456ff276-a3c4-45a7-8b2e-2e15fe33ec6b button.colab-df-convert');\n",
              "        buttonEl.style.display =\n",
              "          google.colab.kernel.accessAllowed ? 'block' : 'none';\n",
              "\n",
              "        async function convertToInteractive(key) {\n",
              "          const element = document.querySelector('#df-456ff276-a3c4-45a7-8b2e-2e15fe33ec6b');\n",
              "          const dataTable =\n",
              "            await google.colab.kernel.invokeFunction('convertToInteractive',\n",
              "                                                     [key], {});\n",
              "          if (!dataTable) return;\n",
              "\n",
              "          const docLinkHtml = 'Like what you see? Visit the ' +\n",
              "            '<a target=\"_blank\" href=https://colab.research.google.com/notebooks/data_table.ipynb>data table notebook</a>'\n",
              "            + ' to learn more about interactive tables.';\n",
              "          element.innerHTML = '';\n",
              "          dataTable['output_type'] = 'display_data';\n",
              "          await google.colab.output.renderOutput(dataTable, element);\n",
              "          const docLink = document.createElement('div');\n",
              "          docLink.innerHTML = docLinkHtml;\n",
              "          element.appendChild(docLink);\n",
              "        }\n",
              "      </script>\n",
              "    </div>\n",
              "  </div>\n",
              "  "
            ]
          },
          "metadata": {},
          "execution_count": 48
        }
      ]
    },
    {
      "cell_type": "code",
      "source": [
        "aft_corona"
      ],
      "metadata": {
        "colab": {
          "base_uri": "https://localhost:8080/",
          "height": 0
        },
        "id": "W-F7-ddojFKv",
        "outputId": "5ca5e9b4-5f07-40b5-e501-9f469bf8d519"
      },
      "execution_count": 49,
      "outputs": [
        {
          "output_type": "execute_result",
          "data": {
            "text/plain": [
              "        상권_코드_명    상권_코드  코로나_이후_생활인구   코로나_이후_연매출액\n",
              "0      가로공원로58길  1000507     18173361  6.783362e+10\n",
              "1     가로공원로76가길  1000552     51713389  3.499658e+11\n",
              "2      가로공원로80길  1000553     46582345  1.928524e+11\n",
              "3       가마산로61길  1000683     36844254  2.535392e+11\n",
              "4         가산로3길  1000654     18386581  8.062322e+11\n",
              "...         ...      ...          ...           ...\n",
              "1005     휘경로23길  1000219     41177454  8.042921e+10\n",
              "1006      휘경로2길  1000220     36714563  1.868619e+11\n",
              "1007      휘경로3길  1000221     46266519  2.047965e+11\n",
              "1008     흑석로13길  1000778     18071493  2.999414e+11\n",
              "1009      흑석로9길  1000779     18380494  2.819104e+11\n",
              "\n",
              "[1010 rows x 4 columns]"
            ],
            "text/html": [
              "\n",
              "  <div id=\"df-66547b61-e477-4d10-adb4-b3813201caea\">\n",
              "    <div class=\"colab-df-container\">\n",
              "      <div>\n",
              "<style scoped>\n",
              "    .dataframe tbody tr th:only-of-type {\n",
              "        vertical-align: middle;\n",
              "    }\n",
              "\n",
              "    .dataframe tbody tr th {\n",
              "        vertical-align: top;\n",
              "    }\n",
              "\n",
              "    .dataframe thead th {\n",
              "        text-align: right;\n",
              "    }\n",
              "</style>\n",
              "<table border=\"1\" class=\"dataframe\">\n",
              "  <thead>\n",
              "    <tr style=\"text-align: right;\">\n",
              "      <th></th>\n",
              "      <th>상권_코드_명</th>\n",
              "      <th>상권_코드</th>\n",
              "      <th>코로나_이후_생활인구</th>\n",
              "      <th>코로나_이후_연매출액</th>\n",
              "    </tr>\n",
              "  </thead>\n",
              "  <tbody>\n",
              "    <tr>\n",
              "      <th>0</th>\n",
              "      <td>가로공원로58길</td>\n",
              "      <td>1000507</td>\n",
              "      <td>18173361</td>\n",
              "      <td>6.783362e+10</td>\n",
              "    </tr>\n",
              "    <tr>\n",
              "      <th>1</th>\n",
              "      <td>가로공원로76가길</td>\n",
              "      <td>1000552</td>\n",
              "      <td>51713389</td>\n",
              "      <td>3.499658e+11</td>\n",
              "    </tr>\n",
              "    <tr>\n",
              "      <th>2</th>\n",
              "      <td>가로공원로80길</td>\n",
              "      <td>1000553</td>\n",
              "      <td>46582345</td>\n",
              "      <td>1.928524e+11</td>\n",
              "    </tr>\n",
              "    <tr>\n",
              "      <th>3</th>\n",
              "      <td>가마산로61길</td>\n",
              "      <td>1000683</td>\n",
              "      <td>36844254</td>\n",
              "      <td>2.535392e+11</td>\n",
              "    </tr>\n",
              "    <tr>\n",
              "      <th>4</th>\n",
              "      <td>가산로3길</td>\n",
              "      <td>1000654</td>\n",
              "      <td>18386581</td>\n",
              "      <td>8.062322e+11</td>\n",
              "    </tr>\n",
              "    <tr>\n",
              "      <th>...</th>\n",
              "      <td>...</td>\n",
              "      <td>...</td>\n",
              "      <td>...</td>\n",
              "      <td>...</td>\n",
              "    </tr>\n",
              "    <tr>\n",
              "      <th>1005</th>\n",
              "      <td>휘경로23길</td>\n",
              "      <td>1000219</td>\n",
              "      <td>41177454</td>\n",
              "      <td>8.042921e+10</td>\n",
              "    </tr>\n",
              "    <tr>\n",
              "      <th>1006</th>\n",
              "      <td>휘경로2길</td>\n",
              "      <td>1000220</td>\n",
              "      <td>36714563</td>\n",
              "      <td>1.868619e+11</td>\n",
              "    </tr>\n",
              "    <tr>\n",
              "      <th>1007</th>\n",
              "      <td>휘경로3길</td>\n",
              "      <td>1000221</td>\n",
              "      <td>46266519</td>\n",
              "      <td>2.047965e+11</td>\n",
              "    </tr>\n",
              "    <tr>\n",
              "      <th>1008</th>\n",
              "      <td>흑석로13길</td>\n",
              "      <td>1000778</td>\n",
              "      <td>18071493</td>\n",
              "      <td>2.999414e+11</td>\n",
              "    </tr>\n",
              "    <tr>\n",
              "      <th>1009</th>\n",
              "      <td>흑석로9길</td>\n",
              "      <td>1000779</td>\n",
              "      <td>18380494</td>\n",
              "      <td>2.819104e+11</td>\n",
              "    </tr>\n",
              "  </tbody>\n",
              "</table>\n",
              "<p>1010 rows × 4 columns</p>\n",
              "</div>\n",
              "      <button class=\"colab-df-convert\" onclick=\"convertToInteractive('df-66547b61-e477-4d10-adb4-b3813201caea')\"\n",
              "              title=\"Convert this dataframe to an interactive table.\"\n",
              "              style=\"display:none;\">\n",
              "        \n",
              "  <svg xmlns=\"http://www.w3.org/2000/svg\" height=\"24px\"viewBox=\"0 0 24 24\"\n",
              "       width=\"24px\">\n",
              "    <path d=\"M0 0h24v24H0V0z\" fill=\"none\"/>\n",
              "    <path d=\"M18.56 5.44l.94 2.06.94-2.06 2.06-.94-2.06-.94-.94-2.06-.94 2.06-2.06.94zm-11 1L8.5 8.5l.94-2.06 2.06-.94-2.06-.94L8.5 2.5l-.94 2.06-2.06.94zm10 10l.94 2.06.94-2.06 2.06-.94-2.06-.94-.94-2.06-.94 2.06-2.06.94z\"/><path d=\"M17.41 7.96l-1.37-1.37c-.4-.4-.92-.59-1.43-.59-.52 0-1.04.2-1.43.59L10.3 9.45l-7.72 7.72c-.78.78-.78 2.05 0 2.83L4 21.41c.39.39.9.59 1.41.59.51 0 1.02-.2 1.41-.59l7.78-7.78 2.81-2.81c.8-.78.8-2.07 0-2.86zM5.41 20L4 18.59l7.72-7.72 1.47 1.35L5.41 20z\"/>\n",
              "  </svg>\n",
              "      </button>\n",
              "      \n",
              "  <style>\n",
              "    .colab-df-container {\n",
              "      display:flex;\n",
              "      flex-wrap:wrap;\n",
              "      gap: 12px;\n",
              "    }\n",
              "\n",
              "    .colab-df-convert {\n",
              "      background-color: #E8F0FE;\n",
              "      border: none;\n",
              "      border-radius: 50%;\n",
              "      cursor: pointer;\n",
              "      display: none;\n",
              "      fill: #1967D2;\n",
              "      height: 32px;\n",
              "      padding: 0 0 0 0;\n",
              "      width: 32px;\n",
              "    }\n",
              "\n",
              "    .colab-df-convert:hover {\n",
              "      background-color: #E2EBFA;\n",
              "      box-shadow: 0px 1px 2px rgba(60, 64, 67, 0.3), 0px 1px 3px 1px rgba(60, 64, 67, 0.15);\n",
              "      fill: #174EA6;\n",
              "    }\n",
              "\n",
              "    [theme=dark] .colab-df-convert {\n",
              "      background-color: #3B4455;\n",
              "      fill: #D2E3FC;\n",
              "    }\n",
              "\n",
              "    [theme=dark] .colab-df-convert:hover {\n",
              "      background-color: #434B5C;\n",
              "      box-shadow: 0px 1px 3px 1px rgba(0, 0, 0, 0.15);\n",
              "      filter: drop-shadow(0px 1px 2px rgba(0, 0, 0, 0.3));\n",
              "      fill: #FFFFFF;\n",
              "    }\n",
              "  </style>\n",
              "\n",
              "      <script>\n",
              "        const buttonEl =\n",
              "          document.querySelector('#df-66547b61-e477-4d10-adb4-b3813201caea button.colab-df-convert');\n",
              "        buttonEl.style.display =\n",
              "          google.colab.kernel.accessAllowed ? 'block' : 'none';\n",
              "\n",
              "        async function convertToInteractive(key) {\n",
              "          const element = document.querySelector('#df-66547b61-e477-4d10-adb4-b3813201caea');\n",
              "          const dataTable =\n",
              "            await google.colab.kernel.invokeFunction('convertToInteractive',\n",
              "                                                     [key], {});\n",
              "          if (!dataTable) return;\n",
              "\n",
              "          const docLinkHtml = 'Like what you see? Visit the ' +\n",
              "            '<a target=\"_blank\" href=https://colab.research.google.com/notebooks/data_table.ipynb>data table notebook</a>'\n",
              "            + ' to learn more about interactive tables.';\n",
              "          element.innerHTML = '';\n",
              "          dataTable['output_type'] = 'display_data';\n",
              "          await google.colab.output.renderOutput(dataTable, element);\n",
              "          const docLink = document.createElement('div');\n",
              "          docLink.innerHTML = docLinkHtml;\n",
              "          element.appendChild(docLink);\n",
              "        }\n",
              "      </script>\n",
              "    </div>\n",
              "  </div>\n",
              "  "
            ]
          },
          "metadata": {},
          "execution_count": 49
        }
      ]
    },
    {
      "cell_type": "code",
      "source": [
        "pd.merge(bef_corona,aft_corona,on=['상권_코드_명','상권_코드'],how='inner').sort_values(['상권_코드'])"
      ],
      "metadata": {
        "colab": {
          "base_uri": "https://localhost:8080/",
          "height": 0
        },
        "id": "1os_i2YijGPn",
        "outputId": "ed3260ef-ca63-4811-bce2-18532821265f"
      },
      "execution_count": 50,
      "outputs": [
        {
          "output_type": "execute_result",
          "data": {
            "text/plain": [
              "      상권_코드_명    상권_코드  코로나_이전_생활인구   코로나_이전_연매출액  코로나_이후_생활인구   코로나_이후_연매출액\n",
              "60        계동길  1000001      7914677  2.344863e+11      8785837  2.046789e+11\n",
              "140    난계로27길  1000002     25033435  4.461257e+11     29028200  3.895316e+11\n",
              "285  돈화문로11가길  1000003     16741272  1.093200e+12     14059281  7.847786e+11\n",
              "389       명륜길  1000004     18488236  6.468391e+10     24535429  4.284121e+10\n",
              "432      백석동길  1000005      2116464  5.831551e+10      3533052  3.848220e+10\n",
              "..        ...      ...          ...           ...          ...           ...\n",
              "903  천호대로197길  1001006     28299691  2.086391e+11     46156385  1.683994e+11\n",
              "904  천호대로219길  1001007      4872525  1.349089e+11     10831294  1.782738e+11\n",
              "908    천호옛14길  1001008     43825007  7.820426e+11     56897383  8.246236e+11\n",
              "909      천호옛길  1001009     48617876  5.305035e+11     69346191  3.992917e+11\n",
              "944   풍성로37가길  1001010     50092206  3.342554e+11     76328425  2.642718e+11\n",
              "\n",
              "[1010 rows x 6 columns]"
            ],
            "text/html": [
              "\n",
              "  <div id=\"df-fee3eb14-843e-4af6-9e97-e78374c225a1\">\n",
              "    <div class=\"colab-df-container\">\n",
              "      <div>\n",
              "<style scoped>\n",
              "    .dataframe tbody tr th:only-of-type {\n",
              "        vertical-align: middle;\n",
              "    }\n",
              "\n",
              "    .dataframe tbody tr th {\n",
              "        vertical-align: top;\n",
              "    }\n",
              "\n",
              "    .dataframe thead th {\n",
              "        text-align: right;\n",
              "    }\n",
              "</style>\n",
              "<table border=\"1\" class=\"dataframe\">\n",
              "  <thead>\n",
              "    <tr style=\"text-align: right;\">\n",
              "      <th></th>\n",
              "      <th>상권_코드_명</th>\n",
              "      <th>상권_코드</th>\n",
              "      <th>코로나_이전_생활인구</th>\n",
              "      <th>코로나_이전_연매출액</th>\n",
              "      <th>코로나_이후_생활인구</th>\n",
              "      <th>코로나_이후_연매출액</th>\n",
              "    </tr>\n",
              "  </thead>\n",
              "  <tbody>\n",
              "    <tr>\n",
              "      <th>60</th>\n",
              "      <td>계동길</td>\n",
              "      <td>1000001</td>\n",
              "      <td>7914677</td>\n",
              "      <td>2.344863e+11</td>\n",
              "      <td>8785837</td>\n",
              "      <td>2.046789e+11</td>\n",
              "    </tr>\n",
              "    <tr>\n",
              "      <th>140</th>\n",
              "      <td>난계로27길</td>\n",
              "      <td>1000002</td>\n",
              "      <td>25033435</td>\n",
              "      <td>4.461257e+11</td>\n",
              "      <td>29028200</td>\n",
              "      <td>3.895316e+11</td>\n",
              "    </tr>\n",
              "    <tr>\n",
              "      <th>285</th>\n",
              "      <td>돈화문로11가길</td>\n",
              "      <td>1000003</td>\n",
              "      <td>16741272</td>\n",
              "      <td>1.093200e+12</td>\n",
              "      <td>14059281</td>\n",
              "      <td>7.847786e+11</td>\n",
              "    </tr>\n",
              "    <tr>\n",
              "      <th>389</th>\n",
              "      <td>명륜길</td>\n",
              "      <td>1000004</td>\n",
              "      <td>18488236</td>\n",
              "      <td>6.468391e+10</td>\n",
              "      <td>24535429</td>\n",
              "      <td>4.284121e+10</td>\n",
              "    </tr>\n",
              "    <tr>\n",
              "      <th>432</th>\n",
              "      <td>백석동길</td>\n",
              "      <td>1000005</td>\n",
              "      <td>2116464</td>\n",
              "      <td>5.831551e+10</td>\n",
              "      <td>3533052</td>\n",
              "      <td>3.848220e+10</td>\n",
              "    </tr>\n",
              "    <tr>\n",
              "      <th>...</th>\n",
              "      <td>...</td>\n",
              "      <td>...</td>\n",
              "      <td>...</td>\n",
              "      <td>...</td>\n",
              "      <td>...</td>\n",
              "      <td>...</td>\n",
              "    </tr>\n",
              "    <tr>\n",
              "      <th>903</th>\n",
              "      <td>천호대로197길</td>\n",
              "      <td>1001006</td>\n",
              "      <td>28299691</td>\n",
              "      <td>2.086391e+11</td>\n",
              "      <td>46156385</td>\n",
              "      <td>1.683994e+11</td>\n",
              "    </tr>\n",
              "    <tr>\n",
              "      <th>904</th>\n",
              "      <td>천호대로219길</td>\n",
              "      <td>1001007</td>\n",
              "      <td>4872525</td>\n",
              "      <td>1.349089e+11</td>\n",
              "      <td>10831294</td>\n",
              "      <td>1.782738e+11</td>\n",
              "    </tr>\n",
              "    <tr>\n",
              "      <th>908</th>\n",
              "      <td>천호옛14길</td>\n",
              "      <td>1001008</td>\n",
              "      <td>43825007</td>\n",
              "      <td>7.820426e+11</td>\n",
              "      <td>56897383</td>\n",
              "      <td>8.246236e+11</td>\n",
              "    </tr>\n",
              "    <tr>\n",
              "      <th>909</th>\n",
              "      <td>천호옛길</td>\n",
              "      <td>1001009</td>\n",
              "      <td>48617876</td>\n",
              "      <td>5.305035e+11</td>\n",
              "      <td>69346191</td>\n",
              "      <td>3.992917e+11</td>\n",
              "    </tr>\n",
              "    <tr>\n",
              "      <th>944</th>\n",
              "      <td>풍성로37가길</td>\n",
              "      <td>1001010</td>\n",
              "      <td>50092206</td>\n",
              "      <td>3.342554e+11</td>\n",
              "      <td>76328425</td>\n",
              "      <td>2.642718e+11</td>\n",
              "    </tr>\n",
              "  </tbody>\n",
              "</table>\n",
              "<p>1010 rows × 6 columns</p>\n",
              "</div>\n",
              "      <button class=\"colab-df-convert\" onclick=\"convertToInteractive('df-fee3eb14-843e-4af6-9e97-e78374c225a1')\"\n",
              "              title=\"Convert this dataframe to an interactive table.\"\n",
              "              style=\"display:none;\">\n",
              "        \n",
              "  <svg xmlns=\"http://www.w3.org/2000/svg\" height=\"24px\"viewBox=\"0 0 24 24\"\n",
              "       width=\"24px\">\n",
              "    <path d=\"M0 0h24v24H0V0z\" fill=\"none\"/>\n",
              "    <path d=\"M18.56 5.44l.94 2.06.94-2.06 2.06-.94-2.06-.94-.94-2.06-.94 2.06-2.06.94zm-11 1L8.5 8.5l.94-2.06 2.06-.94-2.06-.94L8.5 2.5l-.94 2.06-2.06.94zm10 10l.94 2.06.94-2.06 2.06-.94-2.06-.94-.94-2.06-.94 2.06-2.06.94z\"/><path d=\"M17.41 7.96l-1.37-1.37c-.4-.4-.92-.59-1.43-.59-.52 0-1.04.2-1.43.59L10.3 9.45l-7.72 7.72c-.78.78-.78 2.05 0 2.83L4 21.41c.39.39.9.59 1.41.59.51 0 1.02-.2 1.41-.59l7.78-7.78 2.81-2.81c.8-.78.8-2.07 0-2.86zM5.41 20L4 18.59l7.72-7.72 1.47 1.35L5.41 20z\"/>\n",
              "  </svg>\n",
              "      </button>\n",
              "      \n",
              "  <style>\n",
              "    .colab-df-container {\n",
              "      display:flex;\n",
              "      flex-wrap:wrap;\n",
              "      gap: 12px;\n",
              "    }\n",
              "\n",
              "    .colab-df-convert {\n",
              "      background-color: #E8F0FE;\n",
              "      border: none;\n",
              "      border-radius: 50%;\n",
              "      cursor: pointer;\n",
              "      display: none;\n",
              "      fill: #1967D2;\n",
              "      height: 32px;\n",
              "      padding: 0 0 0 0;\n",
              "      width: 32px;\n",
              "    }\n",
              "\n",
              "    .colab-df-convert:hover {\n",
              "      background-color: #E2EBFA;\n",
              "      box-shadow: 0px 1px 2px rgba(60, 64, 67, 0.3), 0px 1px 3px 1px rgba(60, 64, 67, 0.15);\n",
              "      fill: #174EA6;\n",
              "    }\n",
              "\n",
              "    [theme=dark] .colab-df-convert {\n",
              "      background-color: #3B4455;\n",
              "      fill: #D2E3FC;\n",
              "    }\n",
              "\n",
              "    [theme=dark] .colab-df-convert:hover {\n",
              "      background-color: #434B5C;\n",
              "      box-shadow: 0px 1px 3px 1px rgba(0, 0, 0, 0.15);\n",
              "      filter: drop-shadow(0px 1px 2px rgba(0, 0, 0, 0.3));\n",
              "      fill: #FFFFFF;\n",
              "    }\n",
              "  </style>\n",
              "\n",
              "      <script>\n",
              "        const buttonEl =\n",
              "          document.querySelector('#df-fee3eb14-843e-4af6-9e97-e78374c225a1 button.colab-df-convert');\n",
              "        buttonEl.style.display =\n",
              "          google.colab.kernel.accessAllowed ? 'block' : 'none';\n",
              "\n",
              "        async function convertToInteractive(key) {\n",
              "          const element = document.querySelector('#df-fee3eb14-843e-4af6-9e97-e78374c225a1');\n",
              "          const dataTable =\n",
              "            await google.colab.kernel.invokeFunction('convertToInteractive',\n",
              "                                                     [key], {});\n",
              "          if (!dataTable) return;\n",
              "\n",
              "          const docLinkHtml = 'Like what you see? Visit the ' +\n",
              "            '<a target=\"_blank\" href=https://colab.research.google.com/notebooks/data_table.ipynb>data table notebook</a>'\n",
              "            + ' to learn more about interactive tables.';\n",
              "          element.innerHTML = '';\n",
              "          dataTable['output_type'] = 'display_data';\n",
              "          await google.colab.output.renderOutput(dataTable, element);\n",
              "          const docLink = document.createElement('div');\n",
              "          docLink.innerHTML = docLinkHtml;\n",
              "          element.appendChild(docLink);\n",
              "        }\n",
              "      </script>\n",
              "    </div>\n",
              "  </div>\n",
              "  "
            ]
          },
          "metadata": {},
          "execution_count": 50
        }
      ]
    },
    {
      "cell_type": "code",
      "source": [
        "bef_aft_corona = pd.merge(bef_corona,aft_corona,on=['상권_코드_명','상권_코드'],how='inner').sort_values(['상권_코드'])"
      ],
      "metadata": {
        "id": "16XuET8Vjd5i"
      },
      "execution_count": 51,
      "outputs": []
    },
    {
      "cell_type": "markdown",
      "source": [
        "##2-8)코로나 이전과 코로나 이후 생활인구 비교하기"
      ],
      "metadata": {
        "id": "OYhp0Y8OrznY"
      }
    },
    {
      "cell_type": "code",
      "source": [
        "pop_corona = bef_aft_corona[['코로나_이전_생활인구','코로나_이후_생활인구']]"
      ],
      "metadata": {
        "id": "bYp_L7iqlcf7"
      },
      "execution_count": 52,
      "outputs": []
    },
    {
      "cell_type": "code",
      "source": [
        "pop_corona.head()"
      ],
      "metadata": {
        "colab": {
          "base_uri": "https://localhost:8080/",
          "height": 206
        },
        "id": "i0RFaVq5r-EW",
        "outputId": "5f73cc4a-0706-4e45-96dd-6ed3bdb96935"
      },
      "execution_count": 53,
      "outputs": [
        {
          "output_type": "execute_result",
          "data": {
            "text/plain": [
              "     코로나_이전_생활인구  코로나_이후_생활인구\n",
              "60       7914677      8785837\n",
              "140     25033435     29028200\n",
              "285     16741272     14059281\n",
              "389     18488236     24535429\n",
              "432      2116464      3533052"
            ],
            "text/html": [
              "\n",
              "  <div id=\"df-648423cc-6ba2-4648-aa5a-b5a6e27c2075\">\n",
              "    <div class=\"colab-df-container\">\n",
              "      <div>\n",
              "<style scoped>\n",
              "    .dataframe tbody tr th:only-of-type {\n",
              "        vertical-align: middle;\n",
              "    }\n",
              "\n",
              "    .dataframe tbody tr th {\n",
              "        vertical-align: top;\n",
              "    }\n",
              "\n",
              "    .dataframe thead th {\n",
              "        text-align: right;\n",
              "    }\n",
              "</style>\n",
              "<table border=\"1\" class=\"dataframe\">\n",
              "  <thead>\n",
              "    <tr style=\"text-align: right;\">\n",
              "      <th></th>\n",
              "      <th>코로나_이전_생활인구</th>\n",
              "      <th>코로나_이후_생활인구</th>\n",
              "    </tr>\n",
              "  </thead>\n",
              "  <tbody>\n",
              "    <tr>\n",
              "      <th>60</th>\n",
              "      <td>7914677</td>\n",
              "      <td>8785837</td>\n",
              "    </tr>\n",
              "    <tr>\n",
              "      <th>140</th>\n",
              "      <td>25033435</td>\n",
              "      <td>29028200</td>\n",
              "    </tr>\n",
              "    <tr>\n",
              "      <th>285</th>\n",
              "      <td>16741272</td>\n",
              "      <td>14059281</td>\n",
              "    </tr>\n",
              "    <tr>\n",
              "      <th>389</th>\n",
              "      <td>18488236</td>\n",
              "      <td>24535429</td>\n",
              "    </tr>\n",
              "    <tr>\n",
              "      <th>432</th>\n",
              "      <td>2116464</td>\n",
              "      <td>3533052</td>\n",
              "    </tr>\n",
              "  </tbody>\n",
              "</table>\n",
              "</div>\n",
              "      <button class=\"colab-df-convert\" onclick=\"convertToInteractive('df-648423cc-6ba2-4648-aa5a-b5a6e27c2075')\"\n",
              "              title=\"Convert this dataframe to an interactive table.\"\n",
              "              style=\"display:none;\">\n",
              "        \n",
              "  <svg xmlns=\"http://www.w3.org/2000/svg\" height=\"24px\"viewBox=\"0 0 24 24\"\n",
              "       width=\"24px\">\n",
              "    <path d=\"M0 0h24v24H0V0z\" fill=\"none\"/>\n",
              "    <path d=\"M18.56 5.44l.94 2.06.94-2.06 2.06-.94-2.06-.94-.94-2.06-.94 2.06-2.06.94zm-11 1L8.5 8.5l.94-2.06 2.06-.94-2.06-.94L8.5 2.5l-.94 2.06-2.06.94zm10 10l.94 2.06.94-2.06 2.06-.94-2.06-.94-.94-2.06-.94 2.06-2.06.94z\"/><path d=\"M17.41 7.96l-1.37-1.37c-.4-.4-.92-.59-1.43-.59-.52 0-1.04.2-1.43.59L10.3 9.45l-7.72 7.72c-.78.78-.78 2.05 0 2.83L4 21.41c.39.39.9.59 1.41.59.51 0 1.02-.2 1.41-.59l7.78-7.78 2.81-2.81c.8-.78.8-2.07 0-2.86zM5.41 20L4 18.59l7.72-7.72 1.47 1.35L5.41 20z\"/>\n",
              "  </svg>\n",
              "      </button>\n",
              "      \n",
              "  <style>\n",
              "    .colab-df-container {\n",
              "      display:flex;\n",
              "      flex-wrap:wrap;\n",
              "      gap: 12px;\n",
              "    }\n",
              "\n",
              "    .colab-df-convert {\n",
              "      background-color: #E8F0FE;\n",
              "      border: none;\n",
              "      border-radius: 50%;\n",
              "      cursor: pointer;\n",
              "      display: none;\n",
              "      fill: #1967D2;\n",
              "      height: 32px;\n",
              "      padding: 0 0 0 0;\n",
              "      width: 32px;\n",
              "    }\n",
              "\n",
              "    .colab-df-convert:hover {\n",
              "      background-color: #E2EBFA;\n",
              "      box-shadow: 0px 1px 2px rgba(60, 64, 67, 0.3), 0px 1px 3px 1px rgba(60, 64, 67, 0.15);\n",
              "      fill: #174EA6;\n",
              "    }\n",
              "\n",
              "    [theme=dark] .colab-df-convert {\n",
              "      background-color: #3B4455;\n",
              "      fill: #D2E3FC;\n",
              "    }\n",
              "\n",
              "    [theme=dark] .colab-df-convert:hover {\n",
              "      background-color: #434B5C;\n",
              "      box-shadow: 0px 1px 3px 1px rgba(0, 0, 0, 0.15);\n",
              "      filter: drop-shadow(0px 1px 2px rgba(0, 0, 0, 0.3));\n",
              "      fill: #FFFFFF;\n",
              "    }\n",
              "  </style>\n",
              "\n",
              "      <script>\n",
              "        const buttonEl =\n",
              "          document.querySelector('#df-648423cc-6ba2-4648-aa5a-b5a6e27c2075 button.colab-df-convert');\n",
              "        buttonEl.style.display =\n",
              "          google.colab.kernel.accessAllowed ? 'block' : 'none';\n",
              "\n",
              "        async function convertToInteractive(key) {\n",
              "          const element = document.querySelector('#df-648423cc-6ba2-4648-aa5a-b5a6e27c2075');\n",
              "          const dataTable =\n",
              "            await google.colab.kernel.invokeFunction('convertToInteractive',\n",
              "                                                     [key], {});\n",
              "          if (!dataTable) return;\n",
              "\n",
              "          const docLinkHtml = 'Like what you see? Visit the ' +\n",
              "            '<a target=\"_blank\" href=https://colab.research.google.com/notebooks/data_table.ipynb>data table notebook</a>'\n",
              "            + ' to learn more about interactive tables.';\n",
              "          element.innerHTML = '';\n",
              "          dataTable['output_type'] = 'display_data';\n",
              "          await google.colab.output.renderOutput(dataTable, element);\n",
              "          const docLink = document.createElement('div');\n",
              "          docLink.innerHTML = docLinkHtml;\n",
              "          element.appendChild(docLink);\n",
              "        }\n",
              "      </script>\n",
              "    </div>\n",
              "  </div>\n",
              "  "
            ]
          },
          "metadata": {},
          "execution_count": 53
        }
      ]
    },
    {
      "cell_type": "code",
      "source": [
        "#글꼴 깨짐 방지\n",
        "plt.rc('font', family='NanumBarunGothic')"
      ],
      "metadata": {
        "id": "JugdSR8sszD9"
      },
      "execution_count": 54,
      "outputs": []
    },
    {
      "cell_type": "code",
      "source": [
        "sns.histplot(pop_corona['코로나_이전_생활인구'])"
      ],
      "metadata": {
        "colab": {
          "base_uri": "https://localhost:8080/",
          "height": 297
        },
        "id": "GBCezkvbsD5b",
        "outputId": "7b59e8e2-ee9e-4150-d52d-c18527fefccd"
      },
      "execution_count": 55,
      "outputs": [
        {
          "output_type": "execute_result",
          "data": {
            "text/plain": [
              "<matplotlib.axes._subplots.AxesSubplot at 0x7fae0010f450>"
            ]
          },
          "metadata": {},
          "execution_count": 55
        },
        {
          "output_type": "display_data",
          "data": {
            "text/plain": [
              "<Figure size 432x288 with 1 Axes>"
            ],
            "image/png": "[encoded data removed]"
          },
          "metadata": {
            "needs_background": "light"
          }
        }
      ]
    },
    {
      "cell_type": "code",
      "source": [
        "bef_std = (pop_corona['코로나_이전_생활인구'] - pop_corona['코로나_이전_생활인구'].mean())/pop_corona['코로나_이전_생활인구'].std()"
      ],
      "metadata": {
        "id": "uoN-kqOZuG4f"
      },
      "execution_count": 59,
      "outputs": []
    },
    {
      "cell_type": "code",
      "source": [
        "#표준화시켜서 분포를 살펴보면\n",
        "\n",
        "plt.xlim(-2, 2)\n",
        "sns.histplot(bef_std)"
      ],
      "metadata": {
        "colab": {
          "base_uri": "https://localhost:8080/",
          "height": 372
        },
        "id": "whk08_lot5Bi",
        "outputId": "983568d8-ee4f-4431-daa4-e8896516aebf"
      },
      "execution_count": 70,
      "outputs": [
        {
          "output_type": "execute_result",
          "data": {
            "text/plain": [
              "<matplotlib.axes._subplots.AxesSubplot at 0x7fadfd5546d0>"
            ]
          },
          "metadata": {},
          "execution_count": 70
        },
        {
          "output_type": "stream",
          "name": "stderr",
          "text": [
            "/usr/local/lib/python3.7/dist-packages/matplotlib/backends/backend_agg.py:214: RuntimeWarning: Glyph 8722 missing from current font.\n",
            "  font.set_text(s, 0.0, flags=flags)\n",
            "/usr/local/lib/python3.7/dist-packages/matplotlib/backends/backend_agg.py:183: RuntimeWarning: Glyph 8722 missing from current font.\n",
            "  font.set_text(s, 0, flags=flags)\n"
          ]
        },
        {
          "output_type": "display_data",
          "data": {
            "text/plain": [
              "<Figure size 432x288 with 1 Axes>"
            ],
            "image/png": "[encoded data removed]"
          },
          "metadata": {
            "needs_background": "light"
          }
        }
      ]
    },
    {
      "cell_type": "code",
      "source": [
        "skew(bef_std)"
      ],
      "metadata": {
        "colab": {
          "base_uri": "https://localhost:8080/"
        },
        "id": "PeJMQl49w_sd",
        "outputId": "cde5a1e7-68f2-4ac4-f7d8-b5e87f1036ff"
      },
      "execution_count": 79,
      "outputs": [
        {
          "output_type": "execute_result",
          "data": {
            "text/plain": [
              "1.2652626131141786"
            ]
          },
          "metadata": {},
          "execution_count": 79
        }
      ]
    },
    {
      "cell_type": "code",
      "source": [
        "sns.histplot(pop_corona['코로나_이후_생활인구'])"
      ],
      "metadata": {
        "colab": {
          "base_uri": "https://localhost:8080/",
          "height": 297
        },
        "id": "s_SRzh9isQ-j",
        "outputId": "fc87a706-4e5a-4d05-a666-c726ec7cede1"
      },
      "execution_count": 56,
      "outputs": [
        {
          "output_type": "execute_result",
          "data": {
            "text/plain": [
              "<matplotlib.axes._subplots.AxesSubplot at 0x7fae000af810>"
            ]
          },
          "metadata": {},
          "execution_count": 56
        },
        {
          "output_type": "display_data",
          "data": {
            "text/plain": [
              "<Figure size 432x288 with 1 Axes>"
            ],
            "image/png": "[encoded data removed]"
          },
          "metadata": {
            "needs_background": "light"
          }
        }
      ]
    },
    {
      "cell_type": "code",
      "source": [
        "aft_std = (pop_corona['코로나_이후_생활인구'] - pop_corona['코로나_이후_생활인구'].mean())/pop_corona['코로나_이후_생활인구'].std()"
      ],
      "metadata": {
        "id": "lLm6-cQOteNq"
      },
      "execution_count": 65,
      "outputs": []
    },
    {
      "cell_type": "code",
      "source": [
        "#표준화시켜서 분포를 확인해보기\n",
        "\n",
        "plt.xlim(-2,2)\n",
        "sns.histplot(aft_std)"
      ],
      "metadata": {
        "colab": {
          "base_uri": "https://localhost:8080/",
          "height": 372
        },
        "id": "kl8V9Y4ouAWl",
        "outputId": "1005456d-6f15-4973-f03a-b72baf64eb54"
      },
      "execution_count": 69,
      "outputs": [
        {
          "output_type": "execute_result",
          "data": {
            "text/plain": [
              "<matplotlib.axes._subplots.AxesSubplot at 0x7fadfd5f5910>"
            ]
          },
          "metadata": {},
          "execution_count": 69
        },
        {
          "output_type": "stream",
          "name": "stderr",
          "text": [
            "/usr/local/lib/python3.7/dist-packages/matplotlib/backends/backend_agg.py:214: RuntimeWarning: Glyph 8722 missing from current font.\n",
            "  font.set_text(s, 0.0, flags=flags)\n",
            "/usr/local/lib/python3.7/dist-packages/matplotlib/backends/backend_agg.py:183: RuntimeWarning: Glyph 8722 missing from current font.\n",
            "  font.set_text(s, 0, flags=flags)\n"
          ]
        },
        {
          "output_type": "display_data",
          "data": {
            "text/plain": [
              "<Figure size 432x288 with 1 Axes>"
            ],
            "image/png": "[encoded data removed]"
          },
          "metadata": {
            "needs_background": "light"
          }
        }
      ]
    },
    {
      "cell_type": "code",
      "source": [
        "skew(aft_std)"
      ],
      "metadata": {
        "colab": {
          "base_uri": "https://localhost:8080/"
        },
        "id": "NOns5s6Fur6J",
        "outputId": "bfc99c9c-2dd7-4987-a868-2573cbde863b"
      },
      "execution_count": 77,
      "outputs": [
        {
          "output_type": "execute_result",
          "data": {
            "text/plain": [
              "1.1494185189923436"
            ]
          },
          "metadata": {},
          "execution_count": 77
        }
      ]
    },
    {
      "cell_type": "code",
      "source": [
        ""
      ],
      "metadata": {
        "id": "fGpuRjnxyz3s"
      },
      "execution_count": null,
      "outputs": []
    },
    {
      "cell_type": "markdown",
      "source": [
        "##2-8-1) 정규성 검정"
      ],
      "metadata": {
        "id": "vzpV5jDyy3uY"
      }
    },
    {
      "cell_type": "code",
      "source": [
        "#shapiro test\n",
        "\n",
        "bef_stat,bef_p_val = shapiro(pop_corona['코로나_이전_생활인구'])\n",
        "\n",
        "aft_stat,aft_p_val = shapiro(pop_corona['코로나_이후_생활인구'])"
      ],
      "metadata": {
        "id": "IQzL9btiw2Dk"
      },
      "execution_count": 82,
      "outputs": []
    },
    {
      "cell_type": "code",
      "source": [
        "bef_p_val"
      ],
      "metadata": {
        "colab": {
          "base_uri": "https://localhost:8080/"
        },
        "id": "vdD2ARXeykaB",
        "outputId": "284d3e01-aca7-4efe-ec0b-9fa143c8774b"
      },
      "execution_count": 83,
      "outputs": [
        {
          "output_type": "execute_result",
          "data": {
            "text/plain": [
              "5.471243990064219e-20"
            ]
          },
          "metadata": {},
          "execution_count": 83
        }
      ]
    },
    {
      "cell_type": "code",
      "source": [
        "aft_p_val"
      ],
      "metadata": {
        "colab": {
          "base_uri": "https://localhost:8080/"
        },
        "id": "hWuNuXzwzJ9p",
        "outputId": "8f767171-4c92-48d4-b032-96989fe52a06"
      },
      "execution_count": 84,
      "outputs": [
        {
          "output_type": "execute_result",
          "data": {
            "text/plain": [
              "1.5027060349981598e-18"
            ]
          },
          "metadata": {},
          "execution_count": 84
        }
      ]
    },
    {
      "cell_type": "code",
      "source": [
        "##qq-plot\n",
        "probplot(pop_corona['코로나_이전_생활인구'],dist = stats.norm,plot=plt)"
      ],
      "metadata": {
        "colab": {
          "base_uri": "https://localhost:8080/",
          "height": 459
        },
        "id": "5Rq64H-M2XGA",
        "outputId": "8a5bae7f-a8a9-4070-a071-80c36f119143"
      },
      "execution_count": 115,
      "outputs": [
        {
          "output_type": "execute_result",
          "data": {
            "text/plain": [
              "((array([-3.20045713, -2.93546521, -2.78760269, ...,  2.78760269,\n",
              "          2.93546521,  3.20045713]),\n",
              "  array([  1055091,   1870853,   2116464, ...,  72883924,  94814596,\n",
              "         102192327])),\n",
              " (10194189.110654216, 24946139.16138614, 0.9678778972569527))"
            ]
          },
          "metadata": {},
          "execution_count": 115
        },
        {
          "output_type": "stream",
          "name": "stderr",
          "text": [
            "/usr/local/lib/python3.7/dist-packages/matplotlib/backends/backend_agg.py:214: RuntimeWarning: Glyph 8722 missing from current font.\n",
            "  font.set_text(s, 0.0, flags=flags)\n",
            "/usr/local/lib/python3.7/dist-packages/matplotlib/backends/backend_agg.py:183: RuntimeWarning: Glyph 8722 missing from current font.\n",
            "  font.set_text(s, 0, flags=flags)\n"
          ]
        },
        {
          "output_type": "display_data",
          "data": {
            "text/plain": [
              "<Figure size 432x288 with 1 Axes>"
            ],
            "image/png": "[encoded data removed]"
          },
          "metadata": {
            "needs_background": "light"
          }
        }
      ]
    },
    {
      "cell_type": "code",
      "source": [
        "probplot(pop_corona['코로나_이후_생활인구'],dist = stats.norm,plot=plt)"
      ],
      "metadata": {
        "colab": {
          "base_uri": "https://localhost:8080/",
          "height": 459
        },
        "id": "kVFwHct14QAM",
        "outputId": "e8064059-22ac-4028-c95b-783f69d91a01"
      },
      "execution_count": 116,
      "outputs": [
        {
          "output_type": "execute_result",
          "data": {
            "text/plain": [
              "((array([-3.20045713, -2.93546521, -2.78760269, ...,  2.78760269,\n",
              "          2.93546521,  3.20045713]),\n",
              "  array([  1669376,   2574471,   3249956, ..., 110381177, 133808900,\n",
              "         147248894])),\n",
              " (14984644.921831224, 36440315.38217822, 0.9723018193069741))"
            ]
          },
          "metadata": {},
          "execution_count": 116
        },
        {
          "output_type": "stream",
          "name": "stderr",
          "text": [
            "/usr/local/lib/python3.7/dist-packages/matplotlib/backends/backend_agg.py:214: RuntimeWarning: Glyph 8722 missing from current font.\n",
            "  font.set_text(s, 0.0, flags=flags)\n",
            "/usr/local/lib/python3.7/dist-packages/matplotlib/backends/backend_agg.py:183: RuntimeWarning: Glyph 8722 missing from current font.\n",
            "  font.set_text(s, 0, flags=flags)\n"
          ]
        },
        {
          "output_type": "display_data",
          "data": {
            "text/plain": [
              "<Figure size 432x288 with 1 Axes>"
            ],
            "image/png": "[encoded data removed]"
          },
          "metadata": {
            "needs_background": "light"
          }
        }
      ]
    },
    {
      "cell_type": "markdown",
      "source": [
        "##2-8-2)생활인구 변수의 차이에 대한 정규성 검정"
      ],
      "metadata": {
        "id": "3xZlQwhY2Xf7"
      }
    },
    {
      "cell_type": "code",
      "source": [
        "bef_aft_minus = pop_corona['코로나_이전_생활인구'] - pop_corona['코로나_이후_생활인구']"
      ],
      "metadata": {
        "id": "b_Rav4m7z6Pd"
      },
      "execution_count": 95,
      "outputs": []
    },
    {
      "cell_type": "code",
      "source": [
        "shapiro(bef_aft_minus)"
      ],
      "metadata": {
        "colab": {
          "base_uri": "https://localhost:8080/"
        },
        "id": "PLG1GSLz1bLB",
        "outputId": "18fe836b-c222-44ff-f4d7-0ea17e6ba1c7"
      },
      "execution_count": 96,
      "outputs": [
        {
          "output_type": "execute_result",
          "data": {
            "text/plain": [
              "(0.9729582071304321, 8.976862222315196e-13)"
            ]
          },
          "metadata": {},
          "execution_count": 96
        }
      ]
    },
    {
      "cell_type": "code",
      "source": [
        "bef_aft_minus_std = (bef_aft_minus - bef_aft_minus.mean())/bef_aft_minus.std()"
      ],
      "metadata": {
        "id": "SHsMF9Sx2GS3"
      },
      "execution_count": 100,
      "outputs": []
    },
    {
      "cell_type": "code",
      "source": [
        "plt.xlim(-2,2)\n",
        "sns.histplot(bef_aft_minus_std)"
      ],
      "metadata": {
        "colab": {
          "base_uri": "https://localhost:8080/",
          "height": 360
        },
        "id": "mhdjfGUl1nqj",
        "outputId": "b2bb16eb-d62a-4f95-eeb0-646760318442"
      },
      "execution_count": 102,
      "outputs": [
        {
          "output_type": "execute_result",
          "data": {
            "text/plain": [
              "<matplotlib.axes._subplots.AxesSubplot at 0x7fadfd24e8d0>"
            ]
          },
          "metadata": {},
          "execution_count": 102
        },
        {
          "output_type": "stream",
          "name": "stderr",
          "text": [
            "/usr/local/lib/python3.7/dist-packages/matplotlib/backends/backend_agg.py:214: RuntimeWarning: Glyph 8722 missing from current font.\n",
            "  font.set_text(s, 0.0, flags=flags)\n",
            "/usr/local/lib/python3.7/dist-packages/matplotlib/backends/backend_agg.py:183: RuntimeWarning: Glyph 8722 missing from current font.\n",
            "  font.set_text(s, 0, flags=flags)\n"
          ]
        },
        {
          "output_type": "display_data",
          "data": {
            "text/plain": [
              "<Figure size 432x288 with 1 Axes>"
            ],
            "image/png": "[encoded data removed]"
          },
          "metadata": {
            "needs_background": "light"
          }
        }
      ]
    },
    {
      "cell_type": "code",
      "source": [
        "skew(bef_aft_minus)"
      ],
      "metadata": {
        "colab": {
          "base_uri": "https://localhost:8080/"
        },
        "id": "Goz9cLID11Qf",
        "outputId": "e4e46c25-c731-4d94-8b4b-2552b8ee5b02"
      },
      "execution_count": 98,
      "outputs": [
        {
          "output_type": "execute_result",
          "data": {
            "text/plain": [
              "-0.6784659443042297"
            ]
          },
          "metadata": {},
          "execution_count": 98
        }
      ]
    },
    {
      "cell_type": "code",
      "source": [
        "##q-q plot\n",
        "\n",
        "probplot(bef_aft_minus,dist = stats.norm,plot=plt)"
      ],
      "metadata": {
        "colab": {
          "base_uri": "https://localhost:8080/",
          "height": 459
        },
        "id": "Cu8-pb972DG5",
        "outputId": "a1f338e8-dfee-451a-9912-e531b9892092"
      },
      "execution_count": 117,
      "outputs": [
        {
          "output_type": "execute_result",
          "data": {
            "text/plain": [
              "((array([-3.20045713, -2.93546521, -2.78760269, ...,  2.78760269,\n",
              "          2.93546521,  3.20045713]),\n",
              "  array([-45056567, -45020467, -38994304, ...,   6618909,   9502629,\n",
              "           9752020])),\n",
              " (6364135.486438607, -11494176.22079208, 0.985754619307987))"
            ]
          },
          "metadata": {},
          "execution_count": 117
        },
        {
          "output_type": "stream",
          "name": "stderr",
          "text": [
            "/usr/local/lib/python3.7/dist-packages/matplotlib/backends/backend_agg.py:214: RuntimeWarning: Glyph 8722 missing from current font.\n",
            "  font.set_text(s, 0.0, flags=flags)\n",
            "/usr/local/lib/python3.7/dist-packages/matplotlib/backends/backend_agg.py:183: RuntimeWarning: Glyph 8722 missing from current font.\n",
            "  font.set_text(s, 0, flags=flags)\n"
          ]
        },
        {
          "output_type": "display_data",
          "data": {
            "text/plain": [
              "<Figure size 432x288 with 1 Axes>"
            ],
            "image/png": "[encoded data removed]"
          },
          "metadata": {
            "needs_background": "light"
          }
        }
      ]
    },
    {
      "cell_type": "code",
      "source": [
        ""
      ],
      "metadata": {
        "id": "aQFxiZvw8sg7"
      },
      "execution_count": null,
      "outputs": []
    },
    {
      "cell_type": "markdown",
      "source": [
        "##2-8-3) 코로나 이전 생활인구와 코로나 이후 생활인구의 독립성 검정"
      ],
      "metadata": {
        "id": "G7XGkUTS8tQD"
      }
    },
    {
      "cell_type": "code",
      "source": [
        "sns.scatterplot(pop_corona['코로나_이전_생활인구'],pop_corona['코로나_이후_생활인구'])"
      ],
      "metadata": {
        "colab": {
          "base_uri": "https://localhost:8080/",
          "height": 363
        },
        "id": "gZYkm5vg8y0y",
        "outputId": "5bfe0d61-ff24-4a6c-a4c7-fb424ce9cec8"
      },
      "execution_count": 128,
      "outputs": [
        {
          "output_type": "stream",
          "name": "stderr",
          "text": [
            "/usr/local/lib/python3.7/dist-packages/seaborn/_decorators.py:43: FutureWarning: Pass the following variables as keyword args: x, y. From version 0.12, the only valid positional argument will be `data`, and passing other arguments without an explicit keyword will result in an error or misinterpretation.\n",
            "  FutureWarning\n"
          ]
        },
        {
          "output_type": "execute_result",
          "data": {
            "text/plain": [
              "<matplotlib.axes._subplots.AxesSubplot at 0x7fadfc8ccc90>"
            ]
          },
          "metadata": {},
          "execution_count": 128
        },
        {
          "output_type": "display_data",
          "data": {
            "text/plain": [
              "<Figure size 432x288 with 1 Axes>"
            ],
            "image/png": "[encoded data removed]"
          },
          "metadata": {
            "needs_background": "light"
          }
        }
      ]
    },
    {
      "cell_type": "code",
      "source": [
        "np.corrcoef(pop_corona['코로나_이전_생활인구'],pop_corona['코로나_이후_생활인구'])[0,1]"
      ],
      "metadata": {
        "colab": {
          "base_uri": "https://localhost:8080/"
        },
        "id": "amYSNPU-823u",
        "outputId": "bcb74acd-024c-4325-f7dd-a4e3e543dce2"
      },
      "execution_count": 129,
      "outputs": [
        {
          "output_type": "execute_result",
          "data": {
            "text/plain": [
              "0.9449346138005483"
            ]
          },
          "metadata": {},
          "execution_count": 129
        }
      ]
    },
    {
      "cell_type": "code",
      "source": [
        "#상관계수, p-value\n",
        "pearsonr(pop_corona['코로나_이전_생활인구'],pop_corona['코로나_이후_생활인구'])"
      ],
      "metadata": {
        "colab": {
          "base_uri": "https://localhost:8080/"
        },
        "id": "HbiQ4VX184l4",
        "outputId": "063c19bf-d416-4f16-f69c-baa618a96669"
      },
      "execution_count": 130,
      "outputs": [
        {
          "output_type": "execute_result",
          "data": {
            "text/plain": [
              "(0.9449346138005489, 0.0)"
            ]
          },
          "metadata": {},
          "execution_count": 130
        }
      ]
    },
    {
      "cell_type": "markdown",
      "source": [
        "##2-8-3) paired t-test의 비모수적 검정인 윌콕슨 부호순위 검정"
      ],
      "metadata": {
        "id": "G_FEB8mC6o5D"
      }
    },
    {
      "cell_type": "code",
      "source": [
        "wilcoxon(pop_corona['코로나_이전_생활인구'],pop_corona['코로나_이후_생활인구'],alternative='greater')"
      ],
      "metadata": {
        "colab": {
          "base_uri": "https://localhost:8080/"
        },
        "id": "T10C6W7y4WNZ",
        "outputId": "7ff3c760-07c2-47f7-e631-8a6be9032b5a"
      },
      "execution_count": 138,
      "outputs": [
        {
          "output_type": "execute_result",
          "data": {
            "text/plain": [
              "WilcoxonResult(statistic=1785.0, pvalue=1.0)"
            ]
          },
          "metadata": {},
          "execution_count": 138
        }
      ]
    },
    {
      "cell_type": "code",
      "source": [
        "pop_corona['코로나_이전_생활인구'].mean()"
      ],
      "metadata": {
        "colab": {
          "base_uri": "https://localhost:8080/"
        },
        "id": "qj1Tln-y_EBn",
        "outputId": "8326c1d6-7a35-4782-c3b8-367978e6f8bf"
      },
      "execution_count": 139,
      "outputs": [
        {
          "output_type": "execute_result",
          "data": {
            "text/plain": [
              "24946139.16138614"
            ]
          },
          "metadata": {},
          "execution_count": 139
        }
      ]
    },
    {
      "cell_type": "code",
      "source": [
        "pop_corona['코로나_이후_생활인구'].mean()"
      ],
      "metadata": {
        "colab": {
          "base_uri": "https://localhost:8080/"
        },
        "id": "swxosIqmCMZW",
        "outputId": "680b77a8-e543-4bb4-9241-c79165f6c169"
      },
      "execution_count": 140,
      "outputs": [
        {
          "output_type": "execute_result",
          "data": {
            "text/plain": [
              "36440315.38217822"
            ]
          },
          "metadata": {},
          "execution_count": 140
        }
      ]
    },
    {
      "cell_type": "code",
      "source": [
        "wilcoxon(pop_corona['코로나_이전_생활인구'],pop_corona['코로나_이후_생활인구'],alternative='less')"
      ],
      "metadata": {
        "colab": {
          "base_uri": "https://localhost:8080/"
        },
        "id": "EFf1invsCPX6",
        "outputId": "565d3645-19ae-45ba-91d6-1f615afb8912"
      },
      "execution_count": 141,
      "outputs": [
        {
          "output_type": "execute_result",
          "data": {
            "text/plain": [
              "WilcoxonResult(statistic=1785.0, pvalue=7.701752626048529e-165)"
            ]
          },
          "metadata": {},
          "execution_count": 141
        }
      ]
    },
    {
      "cell_type": "markdown",
      "source": [
        "##2-9)코로나 이전과 코로나 이후 매출액 비교"
      ],
      "metadata": {
        "id": "D09f1me-EBAU"
      }
    },
    {
      "cell_type": "code",
      "source": [
        "money_corona = bef_aft_corona[['코로나_이전_연매출액','코로나_이후_연매출액']]"
      ],
      "metadata": {
        "id": "17yXsecJEAVz"
      },
      "execution_count": 144,
      "outputs": []
    },
    {
      "cell_type": "code",
      "source": [
        "money_corona.head()"
      ],
      "metadata": {
        "colab": {
          "base_uri": "https://localhost:8080/",
          "height": 206
        },
        "id": "YO1Us_AiCUeM",
        "outputId": "16f145b5-fdcc-4e81-baaa-ba6cd75416fa"
      },
      "execution_count": 146,
      "outputs": [
        {
          "output_type": "execute_result",
          "data": {
            "text/plain": [
              "      코로나_이전_연매출액   코로나_이후_연매출액\n",
              "60   2.344863e+11  2.046789e+11\n",
              "140  4.461257e+11  3.895316e+11\n",
              "285  1.093200e+12  7.847786e+11\n",
              "389  6.468391e+10  4.284121e+10\n",
              "432  5.831551e+10  3.848220e+10"
            ],
            "text/html": [
              "\n",
              "  <div id=\"df-210cda6c-24ed-4111-a086-d303fe9e957e\">\n",
              "    <div class=\"colab-df-container\">\n",
              "      <div>\n",
              "<style scoped>\n",
              "    .dataframe tbody tr th:only-of-type {\n",
              "        vertical-align: middle;\n",
              "    }\n",
              "\n",
              "    .dataframe tbody tr th {\n",
              "        vertical-align: top;\n",
              "    }\n",
              "\n",
              "    .dataframe thead th {\n",
              "        text-align: right;\n",
              "    }\n",
              "</style>\n",
              "<table border=\"1\" class=\"dataframe\">\n",
              "  <thead>\n",
              "    <tr style=\"text-align: right;\">\n",
              "      <th></th>\n",
              "      <th>코로나_이전_연매출액</th>\n",
              "      <th>코로나_이후_연매출액</th>\n",
              "    </tr>\n",
              "  </thead>\n",
              "  <tbody>\n",
              "    <tr>\n",
              "      <th>60</th>\n",
              "      <td>2.344863e+11</td>\n",
              "      <td>2.046789e+11</td>\n",
              "    </tr>\n",
              "    <tr>\n",
              "      <th>140</th>\n",
              "      <td>4.461257e+11</td>\n",
              "      <td>3.895316e+11</td>\n",
              "    </tr>\n",
              "    <tr>\n",
              "      <th>285</th>\n",
              "      <td>1.093200e+12</td>\n",
              "      <td>7.847786e+11</td>\n",
              "    </tr>\n",
              "    <tr>\n",
              "      <th>389</th>\n",
              "      <td>6.468391e+10</td>\n",
              "      <td>4.284121e+10</td>\n",
              "    </tr>\n",
              "    <tr>\n",
              "      <th>432</th>\n",
              "      <td>5.831551e+10</td>\n",
              "      <td>3.848220e+10</td>\n",
              "    </tr>\n",
              "  </tbody>\n",
              "</table>\n",
              "</div>\n",
              "      <button class=\"colab-df-convert\" onclick=\"convertToInteractive('df-210cda6c-24ed-4111-a086-d303fe9e957e')\"\n",
              "              title=\"Convert this dataframe to an interactive table.\"\n",
              "              style=\"display:none;\">\n",
              "        \n",
              "  <svg xmlns=\"http://www.w3.org/2000/svg\" height=\"24px\"viewBox=\"0 0 24 24\"\n",
              "       width=\"24px\">\n",
              "    <path d=\"M0 0h24v24H0V0z\" fill=\"none\"/>\n",
              "    <path d=\"M18.56 5.44l.94 2.06.94-2.06 2.06-.94-2.06-.94-.94-2.06-.94 2.06-2.06.94zm-11 1L8.5 8.5l.94-2.06 2.06-.94-2.06-.94L8.5 2.5l-.94 2.06-2.06.94zm10 10l.94 2.06.94-2.06 2.06-.94-2.06-.94-.94-2.06-.94 2.06-2.06.94z\"/><path d=\"M17.41 7.96l-1.37-1.37c-.4-.4-.92-.59-1.43-.59-.52 0-1.04.2-1.43.59L10.3 9.45l-7.72 7.72c-.78.78-.78 2.05 0 2.83L4 21.41c.39.39.9.59 1.41.59.51 0 1.02-.2 1.41-.59l7.78-7.78 2.81-2.81c.8-.78.8-2.07 0-2.86zM5.41 20L4 18.59l7.72-7.72 1.47 1.35L5.41 20z\"/>\n",
              "  </svg>\n",
              "      </button>\n",
              "      \n",
              "  <style>\n",
              "    .colab-df-container {\n",
              "      display:flex;\n",
              "      flex-wrap:wrap;\n",
              "      gap: 12px;\n",
              "    }\n",
              "\n",
              "    .colab-df-convert {\n",
              "      background-color: #E8F0FE;\n",
              "      border: none;\n",
              "      border-radius: 50%;\n",
              "      cursor: pointer;\n",
              "      display: none;\n",
              "      fill: #1967D2;\n",
              "      height: 32px;\n",
              "      padding: 0 0 0 0;\n",
              "      width: 32px;\n",
              "    }\n",
              "\n",
              "    .colab-df-convert:hover {\n",
              "      background-color: #E2EBFA;\n",
              "      box-shadow: 0px 1px 2px rgba(60, 64, 67, 0.3), 0px 1px 3px 1px rgba(60, 64, 67, 0.15);\n",
              "      fill: #174EA6;\n",
              "    }\n",
              "\n",
              "    [theme=dark] .colab-df-convert {\n",
              "      background-color: #3B4455;\n",
              "      fill: #D2E3FC;\n",
              "    }\n",
              "\n",
              "    [theme=dark] .colab-df-convert:hover {\n",
              "      background-color: #434B5C;\n",
              "      box-shadow: 0px 1px 3px 1px rgba(0, 0, 0, 0.15);\n",
              "      filter: drop-shadow(0px 1px 2px rgba(0, 0, 0, 0.3));\n",
              "      fill: #FFFFFF;\n",
              "    }\n",
              "  </style>\n",
              "\n",
              "      <script>\n",
              "        const buttonEl =\n",
              "          document.querySelector('#df-210cda6c-24ed-4111-a086-d303fe9e957e button.colab-df-convert');\n",
              "        buttonEl.style.display =\n",
              "          google.colab.kernel.accessAllowed ? 'block' : 'none';\n",
              "\n",
              "        async function convertToInteractive(key) {\n",
              "          const element = document.querySelector('#df-210cda6c-24ed-4111-a086-d303fe9e957e');\n",
              "          const dataTable =\n",
              "            await google.colab.kernel.invokeFunction('convertToInteractive',\n",
              "                                                     [key], {});\n",
              "          if (!dataTable) return;\n",
              "\n",
              "          const docLinkHtml = 'Like what you see? Visit the ' +\n",
              "            '<a target=\"_blank\" href=https://colab.research.google.com/notebooks/data_table.ipynb>data table notebook</a>'\n",
              "            + ' to learn more about interactive tables.';\n",
              "          element.innerHTML = '';\n",
              "          dataTable['output_type'] = 'display_data';\n",
              "          await google.colab.output.renderOutput(dataTable, element);\n",
              "          const docLink = document.createElement('div');\n",
              "          docLink.innerHTML = docLinkHtml;\n",
              "          element.appendChild(docLink);\n",
              "        }\n",
              "      </script>\n",
              "    </div>\n",
              "  </div>\n",
              "  "
            ]
          },
          "metadata": {},
          "execution_count": 146
        }
      ]
    },
    {
      "cell_type": "code",
      "source": [
        "sns.histplot(money_corona['코로나_이전_연매출액'])"
      ],
      "metadata": {
        "colab": {
          "base_uri": "https://localhost:8080/",
          "height": 297
        },
        "id": "7vrBuUDWEXj0",
        "outputId": "f4c65c09-e514-4e74-f33d-0fb5f2ad697f"
      },
      "execution_count": 148,
      "outputs": [
        {
          "output_type": "execute_result",
          "data": {
            "text/plain": [
              "<matplotlib.axes._subplots.AxesSubplot at 0x7fadfc6ce190>"
            ]
          },
          "metadata": {},
          "execution_count": 148
        },
        {
          "output_type": "display_data",
          "data": {
            "text/plain": [
              "<Figure size 432x288 with 1 Axes>"
            ],
            "image/png": "[encoded data removed]"
          },
          "metadata": {
            "needs_background": "light"
          }
        }
      ]
    },
    {
      "cell_type": "code",
      "source": [
        "bef_money_std = (money_corona['코로나_이전_연매출액'] - money_corona['코로나_이전_연매출액'].mean())/money_corona['코로나_이전_연매출액'].std()"
      ],
      "metadata": {
        "id": "PeYM47OfFQSI"
      },
      "execution_count": 150,
      "outputs": []
    },
    {
      "cell_type": "code",
      "source": [
        "plt.xlim(-1, 1)\n",
        "sns.histplot(bef_money_std)"
      ],
      "metadata": {
        "colab": {
          "base_uri": "https://localhost:8080/",
          "height": 372
        },
        "id": "GH0bMH4iFewe",
        "outputId": "ce394024-749e-46a2-9185-a40e7203c881"
      },
      "execution_count": 152,
      "outputs": [
        {
          "output_type": "execute_result",
          "data": {
            "text/plain": [
              "<matplotlib.axes._subplots.AxesSubplot at 0x7fadfc1eeb10>"
            ]
          },
          "metadata": {},
          "execution_count": 152
        },
        {
          "output_type": "stream",
          "name": "stderr",
          "text": [
            "/usr/local/lib/python3.7/dist-packages/matplotlib/backends/backend_agg.py:214: RuntimeWarning: Glyph 8722 missing from current font.\n",
            "  font.set_text(s, 0.0, flags=flags)\n",
            "/usr/local/lib/python3.7/dist-packages/matplotlib/backends/backend_agg.py:183: RuntimeWarning: Glyph 8722 missing from current font.\n",
            "  font.set_text(s, 0, flags=flags)\n"
          ]
        },
        {
          "output_type": "display_data",
          "data": {
            "text/plain": [
              "<Figure size 432x288 with 1 Axes>"
            ],
            "image/png": "[encoded data removed]"
          },
          "metadata": {
            "needs_background": "light"
          }
        }
      ]
    },
    {
      "cell_type": "code",
      "source": [
        "skew(bef_money_std)"
      ],
      "metadata": {
        "colab": {
          "base_uri": "https://localhost:8080/"
        },
        "id": "bQpKtvJEFktv",
        "outputId": "7f615438-8475-4840-b8dc-33e7d0ed61da"
      },
      "execution_count": 153,
      "outputs": [
        {
          "output_type": "execute_result",
          "data": {
            "text/plain": [
              "4.72883599856043"
            ]
          },
          "metadata": {},
          "execution_count": 153
        }
      ]
    },
    {
      "cell_type": "code",
      "source": [
        "sns.histplot(money_corona['코로나_이후_연매출액'])"
      ],
      "metadata": {
        "colab": {
          "base_uri": "https://localhost:8080/",
          "height": 297
        },
        "id": "2EjIvWJwEepa",
        "outputId": "e829ea5c-310e-4b7b-ad55-9dafabd3cabf"
      },
      "execution_count": 149,
      "outputs": [
        {
          "output_type": "execute_result",
          "data": {
            "text/plain": [
              "<matplotlib.axes._subplots.AxesSubplot at 0x7fadfc58a990>"
            ]
          },
          "metadata": {},
          "execution_count": 149
        },
        {
          "output_type": "display_data",
          "data": {
            "text/plain": [
              "<Figure size 432x288 with 1 Axes>"
            ],
            "image/png": "[encoded data removed]"
          },
          "metadata": {
            "needs_background": "light"
          }
        }
      ]
    },
    {
      "cell_type": "code",
      "source": [
        "aft_money_std = (money_corona['코로나_이후_연매출액'] - money_corona['코로나_이후_연매출액'].mean())/money_corona['코로나_이후_연매출액'].std()"
      ],
      "metadata": {
        "id": "wefHbX34EmA4"
      },
      "execution_count": 154,
      "outputs": []
    },
    {
      "cell_type": "code",
      "source": [
        "plt.xlim(-1, 1)\n",
        "sns.histplot(aft_money_std)"
      ],
      "metadata": {
        "colab": {
          "base_uri": "https://localhost:8080/",
          "height": 372
        },
        "id": "fqv38829GX54",
        "outputId": "5d64ab8b-cd82-400c-e0b6-536daa177849"
      },
      "execution_count": 155,
      "outputs": [
        {
          "output_type": "execute_result",
          "data": {
            "text/plain": [
              "<matplotlib.axes._subplots.AxesSubplot at 0x7fadfc1d3190>"
            ]
          },
          "metadata": {},
          "execution_count": 155
        },
        {
          "output_type": "stream",
          "name": "stderr",
          "text": [
            "/usr/local/lib/python3.7/dist-packages/matplotlib/backends/backend_agg.py:214: RuntimeWarning: Glyph 8722 missing from current font.\n",
            "  font.set_text(s, 0.0, flags=flags)\n",
            "/usr/local/lib/python3.7/dist-packages/matplotlib/backends/backend_agg.py:183: RuntimeWarning: Glyph 8722 missing from current font.\n",
            "  font.set_text(s, 0, flags=flags)\n"
          ]
        },
        {
          "output_type": "display_data",
          "data": {
            "text/plain": [
              "<Figure size 432x288 with 1 Axes>"
            ],
            "image/png": "[encoded data removed]"
          },
          "metadata": {
            "needs_background": "light"
          }
        }
      ]
    },
    {
      "cell_type": "code",
      "source": [
        "skew(aft_money_std)"
      ],
      "metadata": {
        "colab": {
          "base_uri": "https://localhost:8080/"
        },
        "id": "-hq_g1SVGb5E",
        "outputId": "73b7cf13-5bde-47a1-f4ba-ebb2c3d2db83"
      },
      "execution_count": 156,
      "outputs": [
        {
          "output_type": "execute_result",
          "data": {
            "text/plain": [
              "7.694023266826485"
            ]
          },
          "metadata": {},
          "execution_count": 156
        }
      ]
    },
    {
      "cell_type": "markdown",
      "source": [
        "##2-9-1)정규성 검정"
      ],
      "metadata": {
        "id": "Cut3Db-AGj_j"
      }
    },
    {
      "cell_type": "code",
      "source": [
        "bef_stat,bef_p_val = shapiro(money_corona['코로나_이전_연매출액'])\n",
        "\n",
        "aft_stat,aft_p_val = shapiro(money_corona['코로나_이후_연매출액'])"
      ],
      "metadata": {
        "id": "KL156pPYGfAw"
      },
      "execution_count": 157,
      "outputs": []
    },
    {
      "cell_type": "code",
      "source": [
        "bef_p_val"
      ],
      "metadata": {
        "colab": {
          "base_uri": "https://localhost:8080/"
        },
        "id": "97VZzgujGrtS",
        "outputId": "554625ae-ec74-4347-84cd-00ea44eab72f"
      },
      "execution_count": 158,
      "outputs": [
        {
          "output_type": "execute_result",
          "data": {
            "text/plain": [
              "1.3601143024583107e-40"
            ]
          },
          "metadata": {},
          "execution_count": 158
        }
      ]
    },
    {
      "cell_type": "code",
      "source": [
        "aft_p_val"
      ],
      "metadata": {
        "colab": {
          "base_uri": "https://localhost:8080/"
        },
        "id": "tvXn7RkaGsyH",
        "outputId": "87f7efa9-b07a-4293-fe9f-f862fb5c0a11"
      },
      "execution_count": 159,
      "outputs": [
        {
          "output_type": "execute_result",
          "data": {
            "text/plain": [
              "0.0"
            ]
          },
          "metadata": {},
          "execution_count": 159
        }
      ]
    },
    {
      "cell_type": "code",
      "source": [
        "probplot(money_corona['코로나_이전_연매출액'],dist = stats.norm,plot=plt)"
      ],
      "metadata": {
        "colab": {
          "base_uri": "https://localhost:8080/",
          "height": 459
        },
        "id": "q6FDowyrGtbk",
        "outputId": "804ad421-38f4-4041-b32e-7cf6a846d675"
      },
      "execution_count": 160,
      "outputs": [
        {
          "output_type": "execute_result",
          "data": {
            "text/plain": [
              "((array([-3.20045713, -2.93546521, -2.78760269, ...,  2.78760269,\n",
              "          2.93546521,  3.20045713]),\n",
              "  array([2.27993174e+10, 2.37922625e+10, 2.84747154e+10, ...,\n",
              "         3.25580246e+12, 3.41779165e+12, 4.52393288e+12])),\n",
              " (281877419357.2199, 420293172959.0465, 0.8129941055937906))"
            ]
          },
          "metadata": {},
          "execution_count": 160
        },
        {
          "output_type": "stream",
          "name": "stderr",
          "text": [
            "/usr/local/lib/python3.7/dist-packages/matplotlib/backends/backend_agg.py:214: RuntimeWarning: Glyph 8722 missing from current font.\n",
            "  font.set_text(s, 0.0, flags=flags)\n",
            "/usr/local/lib/python3.7/dist-packages/matplotlib/backends/backend_agg.py:183: RuntimeWarning: Glyph 8722 missing from current font.\n",
            "  font.set_text(s, 0, flags=flags)\n"
          ]
        },
        {
          "output_type": "display_data",
          "data": {
            "text/plain": [
              "<Figure size 432x288 with 1 Axes>"
            ],
            "image/png": "[encoded data removed]"
          },
          "metadata": {
            "needs_background": "light"
          }
        }
      ]
    },
    {
      "cell_type": "code",
      "source": [
        "probplot(money_corona['코로나_이후_연매출액'],dist = stats.norm,plot=plt)"
      ],
      "metadata": {
        "colab": {
          "base_uri": "https://localhost:8080/",
          "height": 459
        },
        "id": "qpeW33C4G1qe",
        "outputId": "c99786a3-07f4-4a22-e7d3-1e80d9c96d5b"
      },
      "execution_count": 161,
      "outputs": [
        {
          "output_type": "execute_result",
          "data": {
            "text/plain": [
              "((array([-3.20045713, -2.93546521, -2.78760269, ...,  2.78760269,\n",
              "          2.93546521,  3.20045713]),\n",
              "  array([9.56632381e+09, 2.22622036e+10, 2.50611181e+10, ...,\n",
              "         4.64322829e+12, 4.85872480e+12, 7.59052217e+12])),\n",
              " (310453556527.0889, 397080429505.8, 0.6944165152062325))"
            ]
          },
          "metadata": {},
          "execution_count": 161
        },
        {
          "output_type": "stream",
          "name": "stderr",
          "text": [
            "/usr/local/lib/python3.7/dist-packages/matplotlib/backends/backend_agg.py:214: RuntimeWarning: Glyph 8722 missing from current font.\n",
            "  font.set_text(s, 0.0, flags=flags)\n",
            "/usr/local/lib/python3.7/dist-packages/matplotlib/backends/backend_agg.py:183: RuntimeWarning: Glyph 8722 missing from current font.\n",
            "  font.set_text(s, 0, flags=flags)\n"
          ]
        },
        {
          "output_type": "display_data",
          "data": {
            "text/plain": [
              "<Figure size 432x288 with 1 Axes>"
            ],
            "image/png": "[encoded data removed]"
          },
          "metadata": {
            "needs_background": "light"
          }
        }
      ]
    },
    {
      "cell_type": "code",
      "source": [
        ""
      ],
      "metadata": {
        "id": "uTnoWxffG51j"
      },
      "execution_count": null,
      "outputs": []
    },
    {
      "cell_type": "markdown",
      "source": [
        "##2-9-2)두 매출액 차이에 대한 정규성 검정"
      ],
      "metadata": {
        "id": "anjrv8DJG_It"
      }
    },
    {
      "cell_type": "code",
      "source": [
        "bef_aft_money_minus = money_corona['코로나_이전_연매출액'] - money_corona['코로나_이후_연매출액']"
      ],
      "metadata": {
        "id": "p2Lnr_XOHAMu"
      },
      "execution_count": 162,
      "outputs": []
    },
    {
      "cell_type": "code",
      "source": [
        "shapiro(bef_aft_money_minus)"
      ],
      "metadata": {
        "colab": {
          "base_uri": "https://localhost:8080/"
        },
        "id": "gzqqr696HKad",
        "outputId": "7dc39811-9de7-4421-d507-88ddc19c5c42"
      },
      "execution_count": 163,
      "outputs": [
        {
          "output_type": "execute_result",
          "data": {
            "text/plain": [
              "(0.46050047874450684, 0.0)"
            ]
          },
          "metadata": {},
          "execution_count": 163
        }
      ]
    },
    {
      "cell_type": "code",
      "source": [
        "bef_aft_money_minus_std = (bef_aft_money_minus - bef_aft_money_minus.mean())/bef_aft_money_minus.std()"
      ],
      "metadata": {
        "id": "RnIbQXQNHY3e"
      },
      "execution_count": 164,
      "outputs": []
    },
    {
      "cell_type": "code",
      "source": [
        "plt.xlim(-1,1)\n",
        "sns.histplot(bef_aft_money_minus_std)"
      ],
      "metadata": {
        "colab": {
          "base_uri": "https://localhost:8080/",
          "height": 358
        },
        "id": "0TcsF8OEHixa",
        "outputId": "70a37c23-d405-494c-8bb3-bc5d166b0517"
      },
      "execution_count": 169,
      "outputs": [
        {
          "output_type": "execute_result",
          "data": {
            "text/plain": [
              "<matplotlib.axes._subplots.AxesSubplot at 0x7fadfbccc890>"
            ]
          },
          "metadata": {},
          "execution_count": 169
        },
        {
          "output_type": "stream",
          "name": "stderr",
          "text": [
            "/usr/local/lib/python3.7/dist-packages/matplotlib/backends/backend_agg.py:214: RuntimeWarning: Glyph 8722 missing from current font.\n",
            "  font.set_text(s, 0.0, flags=flags)\n",
            "/usr/local/lib/python3.7/dist-packages/matplotlib/backends/backend_agg.py:183: RuntimeWarning: Glyph 8722 missing from current font.\n",
            "  font.set_text(s, 0, flags=flags)\n"
          ]
        },
        {
          "output_type": "display_data",
          "data": {
            "text/plain": [
              "<Figure size 432x288 with 1 Axes>"
            ],
            "image/png": "[encoded data removed]"
          },
          "metadata": {
            "needs_background": "light"
          }
        }
      ]
    },
    {
      "cell_type": "code",
      "source": [
        "skew(bef_aft_money_minus)"
      ],
      "metadata": {
        "colab": {
          "base_uri": "https://localhost:8080/"
        },
        "id": "rOF96qzMHwl8",
        "outputId": "c4d4a555-9ba8-47bf-8eeb-eae2155de962"
      },
      "execution_count": 168,
      "outputs": [
        {
          "output_type": "execute_result",
          "data": {
            "text/plain": [
              "-6.879729663395938"
            ]
          },
          "metadata": {},
          "execution_count": 168
        }
      ]
    },
    {
      "cell_type": "code",
      "source": [
        "##q-q plot\n",
        "\n",
        "probplot(bef_aft_money_minus,dist = stats.norm,plot=plt)"
      ],
      "metadata": {
        "colab": {
          "base_uri": "https://localhost:8080/",
          "height": 459
        },
        "id": "7iDgXxxTHnjL",
        "outputId": "0da596c3-4334-4108-c036-2ed1992f4255"
      },
      "execution_count": 167,
      "outputs": [
        {
          "output_type": "execute_result",
          "data": {
            "text/plain": [
              "((array([-3.20045713, -2.93546521, -2.78760269, ...,  2.78760269,\n",
              "          2.93546521,  3.20045713]),\n",
              "  array([-3.06658929e+12, -2.07886965e+12, -1.44093314e+12, ...,\n",
              "          7.71358245e+11,  9.87921883e+11,  9.89715657e+11])),\n",
              " (132378125559.61508, 23212743453.24653, 0.6738905398078571))"
            ]
          },
          "metadata": {},
          "execution_count": 167
        },
        {
          "output_type": "stream",
          "name": "stderr",
          "text": [
            "/usr/local/lib/python3.7/dist-packages/matplotlib/backends/backend_agg.py:214: RuntimeWarning: Glyph 8722 missing from current font.\n",
            "  font.set_text(s, 0.0, flags=flags)\n",
            "/usr/local/lib/python3.7/dist-packages/matplotlib/backends/backend_agg.py:183: RuntimeWarning: Glyph 8722 missing from current font.\n",
            "  font.set_text(s, 0, flags=flags)\n"
          ]
        },
        {
          "output_type": "display_data",
          "data": {
            "text/plain": [
              "<Figure size 432x288 with 1 Axes>"
            ],
            "image/png": "[encoded data removed]"
          },
          "metadata": {
            "needs_background": "light"
          }
        }
      ]
    },
    {
      "cell_type": "markdown",
      "source": [
        "##2-9-3)코로나 이전 매출액과 코로나 이후 매출액의 독립성 검정"
      ],
      "metadata": {
        "id": "lOoxVlkIIAay"
      }
    },
    {
      "cell_type": "code",
      "source": [
        "sns.scatterplot(money_corona['코로나_이전_연매출액'],money_corona['코로나_이후_연매출액'])"
      ],
      "metadata": {
        "colab": {
          "base_uri": "https://localhost:8080/",
          "height": 363
        },
        "id": "Ee-KDK1BHuKH",
        "outputId": "6abf03bb-7c62-4e28-d4be-da9c2de412ca"
      },
      "execution_count": 170,
      "outputs": [
        {
          "output_type": "stream",
          "name": "stderr",
          "text": [
            "/usr/local/lib/python3.7/dist-packages/seaborn/_decorators.py:43: FutureWarning: Pass the following variables as keyword args: x, y. From version 0.12, the only valid positional argument will be `data`, and passing other arguments without an explicit keyword will result in an error or misinterpretation.\n",
            "  FutureWarning\n"
          ]
        },
        {
          "output_type": "execute_result",
          "data": {
            "text/plain": [
              "<matplotlib.axes._subplots.AxesSubplot at 0x7fadfccfd810>"
            ]
          },
          "metadata": {},
          "execution_count": 170
        },
        {
          "output_type": "display_data",
          "data": {
            "text/plain": [
              "<Figure size 432x288 with 1 Axes>"
            ],
            "image/png": "[encoded data removed]"
          },
          "metadata": {
            "needs_background": "light"
          }
        }
      ]
    },
    {
      "cell_type": "code",
      "source": [
        "np.corrcoef(money_corona['코로나_이전_연매출액'],money_corona['코로나_이후_연매출액'])[0,1]"
      ],
      "metadata": {
        "colab": {
          "base_uri": "https://localhost:8080/"
        },
        "id": "PGoIFhTEIIVR",
        "outputId": "31db39c4-f768-430b-db36-8b4136abe880"
      },
      "execution_count": 171,
      "outputs": [
        {
          "output_type": "execute_result",
          "data": {
            "text/plain": [
              "0.9080140116052448"
            ]
          },
          "metadata": {},
          "execution_count": 171
        }
      ]
    },
    {
      "cell_type": "code",
      "source": [
        "pearsonr(money_corona['코로나_이전_연매출액'],money_corona['코로나_이후_연매출액'])"
      ],
      "metadata": {
        "colab": {
          "base_uri": "https://localhost:8080/"
        },
        "id": "VAK2TXVaITPK",
        "outputId": "a2647992-e029-4546-8151-846f7a802b91"
      },
      "execution_count": 172,
      "outputs": [
        {
          "output_type": "execute_result",
          "data": {
            "text/plain": [
              "(0.9080140116052446, 0.0)"
            ]
          },
          "metadata": {},
          "execution_count": 172
        }
      ]
    },
    {
      "cell_type": "markdown",
      "source": [
        "##2-9-4) 연매출액에 대한 윌콕슨 부호순위 검정"
      ],
      "metadata": {
        "id": "L4UDCMeGIbQf"
      }
    },
    {
      "cell_type": "code",
      "source": [
        "wilcoxon(money_corona['코로나_이전_연매출액'],money_corona['코로나_이후_연매출액'],alternative='greater')"
      ],
      "metadata": {
        "colab": {
          "base_uri": "https://localhost:8080/"
        },
        "id": "0gxfEO0oIUq1",
        "outputId": "738a9c30-f04a-4f56-9f27-1c719fb6056e"
      },
      "execution_count": 173,
      "outputs": [
        {
          "output_type": "execute_result",
          "data": {
            "text/plain": [
              "WilcoxonResult(statistic=405789.0, pvalue=1.5124943137748429e-59)"
            ]
          },
          "metadata": {},
          "execution_count": 173
        }
      ]
    },
    {
      "cell_type": "code",
      "source": [
        "money_corona['코로나_이전_연매출액'].mean()"
      ],
      "metadata": {
        "colab": {
          "base_uri": "https://localhost:8080/"
        },
        "id": "MnpZyRPlIlgG",
        "outputId": "d6a09f17-328e-474a-caa4-8993c31ade11"
      },
      "execution_count": 174,
      "outputs": [
        {
          "output_type": "execute_result",
          "data": {
            "text/plain": [
              "420293172959.0465"
            ]
          },
          "metadata": {},
          "execution_count": 174
        }
      ]
    },
    {
      "cell_type": "code",
      "source": [
        "money_corona['코로나_이후_연매출액'].mean()"
      ],
      "metadata": {
        "colab": {
          "base_uri": "https://localhost:8080/"
        },
        "id": "9HpYTIZhIpE8",
        "outputId": "d06c01e8-7d20-473b-da46-b4493b2af587"
      },
      "execution_count": 175,
      "outputs": [
        {
          "output_type": "execute_result",
          "data": {
            "text/plain": [
              "397080429505.8"
            ]
          },
          "metadata": {},
          "execution_count": 175
        }
      ]
    },
    {
      "cell_type": "code",
      "source": [
        ""
      ],
      "metadata": {
        "id": "LvYQNXM_ItoB"
      },
      "execution_count": null,
      "outputs": []
    }
  ]
}
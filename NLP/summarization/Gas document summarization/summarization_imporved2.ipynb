{
  "nbformat": 4,
  "nbformat_minor": 0,
  "metadata": {
    "kernelspec": {
      "name": "python3",
      "display_name": "Python 3"
    },
    "colab": {
      "name": "summarization_imporved2.ipynb",
      "provenance": [],
      "collapsed_sections": [
        "RnzehIRJSIgE",
        "7CL5b5hBtAIB"
      ]
    },
    "language_info": {
      "name": "python"
    },
    "widgets": {
      "application/vnd.jupyter.widget-state+json": {
        "f55ba662446b4cc9934950bc0a50022c": {
          "model_module": "@jupyter-widgets/controls",
          "model_name": "HBoxModel",
          "model_module_version": "1.5.0",
          "state": {
            "_view_name": "HBoxView",
            "_dom_classes": [],
            "_model_name": "HBoxModel",
            "_view_module": "@jupyter-widgets/controls",
            "_model_module_version": "1.5.0",
            "_view_count": null,
            "_view_module_version": "1.5.0",
            "box_style": "",
            "layout": "IPY_MODEL_5b8d93f126db4fa591261a0bb83913e0",
            "_model_module": "@jupyter-widgets/controls",
            "children": [
              "IPY_MODEL_2031ff3bb0ef437d8ecc9fda50a2883f",
              "IPY_MODEL_6041d8e132224d848e9e2d1a31ae1982",
              "IPY_MODEL_8ac7062319a9467792632b035e0c98fe"
            ]
          }
        },
        "5b8d93f126db4fa591261a0bb83913e0": {
          "model_module": "@jupyter-widgets/base",
          "model_name": "LayoutModel",
          "model_module_version": "1.2.0",
          "state": {
            "_view_name": "LayoutView",
            "grid_template_rows": null,
            "right": null,
            "justify_content": null,
            "_view_module": "@jupyter-widgets/base",
            "overflow": null,
            "_model_module_version": "1.2.0",
            "_view_count": null,
            "flex_flow": null,
            "width": null,
            "min_width": null,
            "border": null,
            "align_items": null,
            "bottom": null,
            "_model_module": "@jupyter-widgets/base",
            "top": null,
            "grid_column": null,
            "overflow_y": null,
            "overflow_x": null,
            "grid_auto_flow": null,
            "grid_area": null,
            "grid_template_columns": null,
            "flex": null,
            "_model_name": "LayoutModel",
            "justify_items": null,
            "grid_row": null,
            "max_height": null,
            "align_content": null,
            "visibility": null,
            "align_self": null,
            "height": null,
            "min_height": null,
            "padding": null,
            "grid_auto_rows": null,
            "grid_gap": null,
            "max_width": null,
            "order": null,
            "_view_module_version": "1.2.0",
            "grid_template_areas": null,
            "object_position": null,
            "object_fit": null,
            "grid_auto_columns": null,
            "margin": null,
            "display": null,
            "left": null
          }
        },
        "2031ff3bb0ef437d8ecc9fda50a2883f": {
          "model_module": "@jupyter-widgets/controls",
          "model_name": "HTMLModel",
          "model_module_version": "1.5.0",
          "state": {
            "_view_name": "HTMLView",
            "style": "IPY_MODEL_14252b44b26c44c89a2ea222d9f9ebd8",
            "_dom_classes": [],
            "description": "",
            "_model_name": "HTMLModel",
            "placeholder": "​",
            "_view_module": "@jupyter-widgets/controls",
            "_model_module_version": "1.5.0",
            "value": "Downloading: ",
            "_view_count": null,
            "_view_module_version": "1.5.0",
            "description_tooltip": null,
            "_model_module": "@jupyter-widgets/controls",
            "layout": "IPY_MODEL_982bdd57ddc64a789fb995f3073fef54"
          }
        },
        "6041d8e132224d848e9e2d1a31ae1982": {
          "model_module": "@jupyter-widgets/controls",
          "model_name": "FloatProgressModel",
          "model_module_version": "1.5.0",
          "state": {
            "_view_name": "ProgressView",
            "style": "IPY_MODEL_11ead5906f224ff290e4c0dcbc9d180d",
            "_dom_classes": [],
            "description": "",
            "_model_name": "FloatProgressModel",
            "bar_style": "success",
            "max": 2170,
            "_view_module": "@jupyter-widgets/controls",
            "_model_module_version": "1.5.0",
            "value": 2170,
            "_view_count": null,
            "_view_module_version": "1.5.0",
            "orientation": "horizontal",
            "min": 0,
            "description_tooltip": null,
            "_model_module": "@jupyter-widgets/controls",
            "layout": "IPY_MODEL_ebb22baf9d544992857d6466ee7934d1"
          }
        },
        "8ac7062319a9467792632b035e0c98fe": {
          "model_module": "@jupyter-widgets/controls",
          "model_name": "HTMLModel",
          "model_module_version": "1.5.0",
          "state": {
            "_view_name": "HTMLView",
            "style": "IPY_MODEL_ce3dcee4bf3d45a6975beb62f3eb7fa1",
            "_dom_classes": [],
            "description": "",
            "_model_name": "HTMLModel",
            "placeholder": "​",
            "_view_module": "@jupyter-widgets/controls",
            "_model_module_version": "1.5.0",
            "value": " 5.61k/? [00:00&lt;00:00, 125kB/s]",
            "_view_count": null,
            "_view_module_version": "1.5.0",
            "description_tooltip": null,
            "_model_module": "@jupyter-widgets/controls",
            "layout": "IPY_MODEL_6425047bc93d4fffbd31848fd55fa2f0"
          }
        },
        "14252b44b26c44c89a2ea222d9f9ebd8": {
          "model_module": "@jupyter-widgets/controls",
          "model_name": "DescriptionStyleModel",
          "model_module_version": "1.5.0",
          "state": {
            "_view_name": "StyleView",
            "_model_name": "DescriptionStyleModel",
            "description_width": "",
            "_view_module": "@jupyter-widgets/base",
            "_model_module_version": "1.5.0",
            "_view_count": null,
            "_view_module_version": "1.2.0",
            "_model_module": "@jupyter-widgets/controls"
          }
        },
        "982bdd57ddc64a789fb995f3073fef54": {
          "model_module": "@jupyter-widgets/base",
          "model_name": "LayoutModel",
          "model_module_version": "1.2.0",
          "state": {
            "_view_name": "LayoutView",
            "grid_template_rows": null,
            "right": null,
            "justify_content": null,
            "_view_module": "@jupyter-widgets/base",
            "overflow": null,
            "_model_module_version": "1.2.0",
            "_view_count": null,
            "flex_flow": null,
            "width": null,
            "min_width": null,
            "border": null,
            "align_items": null,
            "bottom": null,
            "_model_module": "@jupyter-widgets/base",
            "top": null,
            "grid_column": null,
            "overflow_y": null,
            "overflow_x": null,
            "grid_auto_flow": null,
            "grid_area": null,
            "grid_template_columns": null,
            "flex": null,
            "_model_name": "LayoutModel",
            "justify_items": null,
            "grid_row": null,
            "max_height": null,
            "align_content": null,
            "visibility": null,
            "align_self": null,
            "height": null,
            "min_height": null,
            "padding": null,
            "grid_auto_rows": null,
            "grid_gap": null,
            "max_width": null,
            "order": null,
            "_view_module_version": "1.2.0",
            "grid_template_areas": null,
            "object_position": null,
            "object_fit": null,
            "grid_auto_columns": null,
            "margin": null,
            "display": null,
            "left": null
          }
        },
        "11ead5906f224ff290e4c0dcbc9d180d": {
          "model_module": "@jupyter-widgets/controls",
          "model_name": "ProgressStyleModel",
          "model_module_version": "1.5.0",
          "state": {
            "_view_name": "StyleView",
            "_model_name": "ProgressStyleModel",
            "description_width": "",
            "_view_module": "@jupyter-widgets/base",
            "_model_module_version": "1.5.0",
            "_view_count": null,
            "_view_module_version": "1.2.0",
            "bar_color": null,
            "_model_module": "@jupyter-widgets/controls"
          }
        },
        "ebb22baf9d544992857d6466ee7934d1": {
          "model_module": "@jupyter-widgets/base",
          "model_name": "LayoutModel",
          "model_module_version": "1.2.0",
          "state": {
            "_view_name": "LayoutView",
            "grid_template_rows": null,
            "right": null,
            "justify_content": null,
            "_view_module": "@jupyter-widgets/base",
            "overflow": null,
            "_model_module_version": "1.2.0",
            "_view_count": null,
            "flex_flow": null,
            "width": null,
            "min_width": null,
            "border": null,
            "align_items": null,
            "bottom": null,
            "_model_module": "@jupyter-widgets/base",
            "top": null,
            "grid_column": null,
            "overflow_y": null,
            "overflow_x": null,
            "grid_auto_flow": null,
            "grid_area": null,
            "grid_template_columns": null,
            "flex": null,
            "_model_name": "LayoutModel",
            "justify_items": null,
            "grid_row": null,
            "max_height": null,
            "align_content": null,
            "visibility": null,
            "align_self": null,
            "height": null,
            "min_height": null,
            "padding": null,
            "grid_auto_rows": null,
            "grid_gap": null,
            "max_width": null,
            "order": null,
            "_view_module_version": "1.2.0",
            "grid_template_areas": null,
            "object_position": null,
            "object_fit": null,
            "grid_auto_columns": null,
            "margin": null,
            "display": null,
            "left": null
          }
        },
        "ce3dcee4bf3d45a6975beb62f3eb7fa1": {
          "model_module": "@jupyter-widgets/controls",
          "model_name": "DescriptionStyleModel",
          "model_module_version": "1.5.0",
          "state": {
            "_view_name": "StyleView",
            "_model_name": "DescriptionStyleModel",
            "description_width": "",
            "_view_module": "@jupyter-widgets/base",
            "_model_module_version": "1.5.0",
            "_view_count": null,
            "_view_module_version": "1.2.0",
            "_model_module": "@jupyter-widgets/controls"
          }
        },
        "6425047bc93d4fffbd31848fd55fa2f0": {
          "model_module": "@jupyter-widgets/base",
          "model_name": "LayoutModel",
          "model_module_version": "1.2.0",
          "state": {
            "_view_name": "LayoutView",
            "grid_template_rows": null,
            "right": null,
            "justify_content": null,
            "_view_module": "@jupyter-widgets/base",
            "overflow": null,
            "_model_module_version": "1.2.0",
            "_view_count": null,
            "flex_flow": null,
            "width": null,
            "min_width": null,
            "border": null,
            "align_items": null,
            "bottom": null,
            "_model_module": "@jupyter-widgets/base",
            "top": null,
            "grid_column": null,
            "overflow_y": null,
            "overflow_x": null,
            "grid_auto_flow": null,
            "grid_area": null,
            "grid_template_columns": null,
            "flex": null,
            "_model_name": "LayoutModel",
            "justify_items": null,
            "grid_row": null,
            "max_height": null,
            "align_content": null,
            "visibility": null,
            "align_self": null,
            "height": null,
            "min_height": null,
            "padding": null,
            "grid_auto_rows": null,
            "grid_gap": null,
            "max_width": null,
            "order": null,
            "_view_module_version": "1.2.0",
            "grid_template_areas": null,
            "object_position": null,
            "object_fit": null,
            "grid_auto_columns": null,
            "margin": null,
            "display": null,
            "left": null
          }
        },
        "252b940cd6ce4c1ab652125be0585a37": {
          "model_module": "@jupyter-widgets/controls",
          "model_name": "HBoxModel",
          "model_module_version": "1.5.0",
          "state": {
            "_view_name": "HBoxView",
            "_dom_classes": [],
            "_model_name": "HBoxModel",
            "_view_module": "@jupyter-widgets/controls",
            "_model_module_version": "1.5.0",
            "_view_count": null,
            "_view_module_version": "1.5.0",
            "box_style": "",
            "layout": "IPY_MODEL_0ececd8b3f684f649299daf47a907631",
            "_model_module": "@jupyter-widgets/controls",
            "children": [
              "IPY_MODEL_acc3cfb9573049a2a8d8725ff2597949",
              "IPY_MODEL_9cba69236873452a888cf1c3b9eb9f98",
              "IPY_MODEL_a8b0d68d0b8c48ec990c44af99b7e976"
            ]
          }
        },
        "0ececd8b3f684f649299daf47a907631": {
          "model_module": "@jupyter-widgets/base",
          "model_name": "LayoutModel",
          "model_module_version": "1.2.0",
          "state": {
            "_view_name": "LayoutView",
            "grid_template_rows": null,
            "right": null,
            "justify_content": null,
            "_view_module": "@jupyter-widgets/base",
            "overflow": null,
            "_model_module_version": "1.2.0",
            "_view_count": null,
            "flex_flow": null,
            "width": null,
            "min_width": null,
            "border": null,
            "align_items": null,
            "bottom": null,
            "_model_module": "@jupyter-widgets/base",
            "top": null,
            "grid_column": null,
            "overflow_y": null,
            "overflow_x": null,
            "grid_auto_flow": null,
            "grid_area": null,
            "grid_template_columns": null,
            "flex": null,
            "_model_name": "LayoutModel",
            "justify_items": null,
            "grid_row": null,
            "max_height": null,
            "align_content": null,
            "visibility": null,
            "align_self": null,
            "height": null,
            "min_height": null,
            "padding": null,
            "grid_auto_rows": null,
            "grid_gap": null,
            "max_width": null,
            "order": null,
            "_view_module_version": "1.2.0",
            "grid_template_areas": null,
            "object_position": null,
            "object_fit": null,
            "grid_auto_columns": null,
            "margin": null,
            "display": null,
            "left": null
          }
        },
        "acc3cfb9573049a2a8d8725ff2597949": {
          "model_module": "@jupyter-widgets/controls",
          "model_name": "HTMLModel",
          "model_module_version": "1.5.0",
          "state": {
            "_view_name": "HTMLView",
            "style": "IPY_MODEL_ff4986c093524b56b05cd28e717e8c7b",
            "_dom_classes": [],
            "description": "",
            "_model_name": "HTMLModel",
            "placeholder": "​",
            "_view_module": "@jupyter-widgets/controls",
            "_model_module_version": "1.5.0",
            "value": "Downloading: 100%",
            "_view_count": null,
            "_view_module_version": "1.5.0",
            "description_tooltip": null,
            "_model_module": "@jupyter-widgets/controls",
            "layout": "IPY_MODEL_82815b88a946403b82c837087b4304bd"
          }
        },
        "9cba69236873452a888cf1c3b9eb9f98": {
          "model_module": "@jupyter-widgets/controls",
          "model_name": "FloatProgressModel",
          "model_module_version": "1.5.0",
          "state": {
            "_view_name": "ProgressView",
            "style": "IPY_MODEL_9d7b8329ef4b43368b6e79e4f920a309",
            "_dom_classes": [],
            "description": "",
            "_model_name": "FloatProgressModel",
            "bar_style": "success",
            "max": 2,
            "_view_module": "@jupyter-widgets/controls",
            "_model_module_version": "1.5.0",
            "value": 2,
            "_view_count": null,
            "_view_module_version": "1.5.0",
            "orientation": "horizontal",
            "min": 0,
            "description_tooltip": null,
            "_model_module": "@jupyter-widgets/controls",
            "layout": "IPY_MODEL_46f73cdc02ef4888b23fb4b309174484"
          }
        },
        "a8b0d68d0b8c48ec990c44af99b7e976": {
          "model_module": "@jupyter-widgets/controls",
          "model_name": "HTMLModel",
          "model_module_version": "1.5.0",
          "state": {
            "_view_name": "HTMLView",
            "style": "IPY_MODEL_bb4ca693c2184efbaf7d33da9cc2dc7e",
            "_dom_classes": [],
            "description": "",
            "_model_name": "HTMLModel",
            "placeholder": "​",
            "_view_module": "@jupyter-widgets/controls",
            "_model_module_version": "1.5.0",
            "value": " 2.00/2.00 [00:00&lt;00:00, 46.9B/s]",
            "_view_count": null,
            "_view_module_version": "1.5.0",
            "description_tooltip": null,
            "_model_module": "@jupyter-widgets/controls",
            "layout": "IPY_MODEL_c431175a4ff94c8ea69f50d3596dec51"
          }
        },
        "ff4986c093524b56b05cd28e717e8c7b": {
          "model_module": "@jupyter-widgets/controls",
          "model_name": "DescriptionStyleModel",
          "model_module_version": "1.5.0",
          "state": {
            "_view_name": "StyleView",
            "_model_name": "DescriptionStyleModel",
            "description_width": "",
            "_view_module": "@jupyter-widgets/base",
            "_model_module_version": "1.5.0",
            "_view_count": null,
            "_view_module_version": "1.2.0",
            "_model_module": "@jupyter-widgets/controls"
          }
        },
        "82815b88a946403b82c837087b4304bd": {
          "model_module": "@jupyter-widgets/base",
          "model_name": "LayoutModel",
          "model_module_version": "1.2.0",
          "state": {
            "_view_name": "LayoutView",
            "grid_template_rows": null,
            "right": null,
            "justify_content": null,
            "_view_module": "@jupyter-widgets/base",
            "overflow": null,
            "_model_module_version": "1.2.0",
            "_view_count": null,
            "flex_flow": null,
            "width": null,
            "min_width": null,
            "border": null,
            "align_items": null,
            "bottom": null,
            "_model_module": "@jupyter-widgets/base",
            "top": null,
            "grid_column": null,
            "overflow_y": null,
            "overflow_x": null,
            "grid_auto_flow": null,
            "grid_area": null,
            "grid_template_columns": null,
            "flex": null,
            "_model_name": "LayoutModel",
            "justify_items": null,
            "grid_row": null,
            "max_height": null,
            "align_content": null,
            "visibility": null,
            "align_self": null,
            "height": null,
            "min_height": null,
            "padding": null,
            "grid_auto_rows": null,
            "grid_gap": null,
            "max_width": null,
            "order": null,
            "_view_module_version": "1.2.0",
            "grid_template_areas": null,
            "object_position": null,
            "object_fit": null,
            "grid_auto_columns": null,
            "margin": null,
            "display": null,
            "left": null
          }
        },
        "9d7b8329ef4b43368b6e79e4f920a309": {
          "model_module": "@jupyter-widgets/controls",
          "model_name": "ProgressStyleModel",
          "model_module_version": "1.5.0",
          "state": {
            "_view_name": "StyleView",
            "_model_name": "ProgressStyleModel",
            "description_width": "",
            "_view_module": "@jupyter-widgets/base",
            "_model_module_version": "1.5.0",
            "_view_count": null,
            "_view_module_version": "1.2.0",
            "bar_color": null,
            "_model_module": "@jupyter-widgets/controls"
          }
        },
        "46f73cdc02ef4888b23fb4b309174484": {
          "model_module": "@jupyter-widgets/base",
          "model_name": "LayoutModel",
          "model_module_version": "1.2.0",
          "state": {
            "_view_name": "LayoutView",
            "grid_template_rows": null,
            "right": null,
            "justify_content": null,
            "_view_module": "@jupyter-widgets/base",
            "overflow": null,
            "_model_module_version": "1.2.0",
            "_view_count": null,
            "flex_flow": null,
            "width": null,
            "min_width": null,
            "border": null,
            "align_items": null,
            "bottom": null,
            "_model_module": "@jupyter-widgets/base",
            "top": null,
            "grid_column": null,
            "overflow_y": null,
            "overflow_x": null,
            "grid_auto_flow": null,
            "grid_area": null,
            "grid_template_columns": null,
            "flex": null,
            "_model_name": "LayoutModel",
            "justify_items": null,
            "grid_row": null,
            "max_height": null,
            "align_content": null,
            "visibility": null,
            "align_self": null,
            "height": null,
            "min_height": null,
            "padding": null,
            "grid_auto_rows": null,
            "grid_gap": null,
            "max_width": null,
            "order": null,
            "_view_module_version": "1.2.0",
            "grid_template_areas": null,
            "object_position": null,
            "object_fit": null,
            "grid_auto_columns": null,
            "margin": null,
            "display": null,
            "left": null
          }
        },
        "bb4ca693c2184efbaf7d33da9cc2dc7e": {
          "model_module": "@jupyter-widgets/controls",
          "model_name": "DescriptionStyleModel",
          "model_module_version": "1.5.0",
          "state": {
            "_view_name": "StyleView",
            "_model_name": "DescriptionStyleModel",
            "description_width": "",
            "_view_module": "@jupyter-widgets/base",
            "_model_module_version": "1.5.0",
            "_view_count": null,
            "_view_module_version": "1.2.0",
            "_model_module": "@jupyter-widgets/controls"
          }
        },
        "c431175a4ff94c8ea69f50d3596dec51": {
          "model_module": "@jupyter-widgets/base",
          "model_name": "LayoutModel",
          "model_module_version": "1.2.0",
          "state": {
            "_view_name": "LayoutView",
            "grid_template_rows": null,
            "right": null,
            "justify_content": null,
            "_view_module": "@jupyter-widgets/base",
            "overflow": null,
            "_model_module_version": "1.2.0",
            "_view_count": null,
            "flex_flow": null,
            "width": null,
            "min_width": null,
            "border": null,
            "align_items": null,
            "bottom": null,
            "_model_module": "@jupyter-widgets/base",
            "top": null,
            "grid_column": null,
            "overflow_y": null,
            "overflow_x": null,
            "grid_auto_flow": null,
            "grid_area": null,
            "grid_template_columns": null,
            "flex": null,
            "_model_name": "LayoutModel",
            "justify_items": null,
            "grid_row": null,
            "max_height": null,
            "align_content": null,
            "visibility": null,
            "align_self": null,
            "height": null,
            "min_height": null,
            "padding": null,
            "grid_auto_rows": null,
            "grid_gap": null,
            "max_width": null,
            "order": null,
            "_view_module_version": "1.2.0",
            "grid_template_areas": null,
            "object_position": null,
            "object_fit": null,
            "grid_auto_columns": null,
            "margin": null,
            "display": null,
            "left": null
          }
        },
        "469dde67ad0740b8835992bb57b96bb5": {
          "model_module": "@jupyter-widgets/controls",
          "model_name": "HBoxModel",
          "model_module_version": "1.5.0",
          "state": {
            "_view_name": "HBoxView",
            "_dom_classes": [],
            "_model_name": "HBoxModel",
            "_view_module": "@jupyter-widgets/controls",
            "_model_module_version": "1.5.0",
            "_view_count": null,
            "_view_module_version": "1.5.0",
            "box_style": "",
            "layout": "IPY_MODEL_d87dcb4f8d2b490c9a5d17f2416c16c2",
            "_model_module": "@jupyter-widgets/controls",
            "children": [
              "IPY_MODEL_93460406c99647828b06cd082c65e94d",
              "IPY_MODEL_06cadbcd63794b6e8e03e84eb6030452",
              "IPY_MODEL_10eb146a71744fe78e49a92a75610213"
            ]
          }
        },
        "d87dcb4f8d2b490c9a5d17f2416c16c2": {
          "model_module": "@jupyter-widgets/base",
          "model_name": "LayoutModel",
          "model_module_version": "1.2.0",
          "state": {
            "_view_name": "LayoutView",
            "grid_template_rows": null,
            "right": null,
            "justify_content": null,
            "_view_module": "@jupyter-widgets/base",
            "overflow": null,
            "_model_module_version": "1.2.0",
            "_view_count": null,
            "flex_flow": null,
            "width": null,
            "min_width": null,
            "border": null,
            "align_items": null,
            "bottom": null,
            "_model_module": "@jupyter-widgets/base",
            "top": null,
            "grid_column": null,
            "overflow_y": null,
            "overflow_x": null,
            "grid_auto_flow": null,
            "grid_area": null,
            "grid_template_columns": null,
            "flex": null,
            "_model_name": "LayoutModel",
            "justify_items": null,
            "grid_row": null,
            "max_height": null,
            "align_content": null,
            "visibility": null,
            "align_self": null,
            "height": null,
            "min_height": null,
            "padding": null,
            "grid_auto_rows": null,
            "grid_gap": null,
            "max_width": null,
            "order": null,
            "_view_module_version": "1.2.0",
            "grid_template_areas": null,
            "object_position": null,
            "object_fit": null,
            "grid_auto_columns": null,
            "margin": null,
            "display": null,
            "left": null
          }
        },
        "93460406c99647828b06cd082c65e94d": {
          "model_module": "@jupyter-widgets/controls",
          "model_name": "HTMLModel",
          "model_module_version": "1.5.0",
          "state": {
            "_view_name": "HTMLView",
            "style": "IPY_MODEL_ec203acf45774205a90f039d41243a01",
            "_dom_classes": [],
            "description": "",
            "_model_name": "HTMLModel",
            "placeholder": "​",
            "_view_module": "@jupyter-widgets/controls",
            "_model_module_version": "1.5.0",
            "value": "Downloading: 100%",
            "_view_count": null,
            "_view_module_version": "1.5.0",
            "description_tooltip": null,
            "_model_module": "@jupyter-widgets/controls",
            "layout": "IPY_MODEL_2a9afe6c30064013a1770c74557da29d"
          }
        },
        "06cadbcd63794b6e8e03e84eb6030452": {
          "model_module": "@jupyter-widgets/controls",
          "model_name": "FloatProgressModel",
          "model_module_version": "1.5.0",
          "state": {
            "_view_name": "ProgressView",
            "style": "IPY_MODEL_7aee1fa59a4148928892d5ddcb9f536d",
            "_dom_classes": [],
            "description": "",
            "_model_name": "FloatProgressModel",
            "bar_style": "success",
            "max": 85,
            "_view_module": "@jupyter-widgets/controls",
            "_model_module_version": "1.5.0",
            "value": 85,
            "_view_count": null,
            "_view_module_version": "1.5.0",
            "orientation": "horizontal",
            "min": 0,
            "description_tooltip": null,
            "_model_module": "@jupyter-widgets/controls",
            "layout": "IPY_MODEL_bc546577f2424d2681dd2400ef8ea118"
          }
        },
        "10eb146a71744fe78e49a92a75610213": {
          "model_module": "@jupyter-widgets/controls",
          "model_name": "HTMLModel",
          "model_module_version": "1.5.0",
          "state": {
            "_view_name": "HTMLView",
            "style": "IPY_MODEL_fa520f3e17a7472e853ec7eb9c5ff41e",
            "_dom_classes": [],
            "description": "",
            "_model_name": "HTMLModel",
            "placeholder": "​",
            "_view_module": "@jupyter-widgets/controls",
            "_model_module_version": "1.5.0",
            "value": " 85.0/85.0 [00:00&lt;00:00, 2.24kB/s]",
            "_view_count": null,
            "_view_module_version": "1.5.0",
            "description_tooltip": null,
            "_model_module": "@jupyter-widgets/controls",
            "layout": "IPY_MODEL_87b376b0a76e4e6ab2fbf9db0eb24af7"
          }
        },
        "ec203acf45774205a90f039d41243a01": {
          "model_module": "@jupyter-widgets/controls",
          "model_name": "DescriptionStyleModel",
          "model_module_version": "1.5.0",
          "state": {
            "_view_name": "StyleView",
            "_model_name": "DescriptionStyleModel",
            "description_width": "",
            "_view_module": "@jupyter-widgets/base",
            "_model_module_version": "1.5.0",
            "_view_count": null,
            "_view_module_version": "1.2.0",
            "_model_module": "@jupyter-widgets/controls"
          }
        },
        "2a9afe6c30064013a1770c74557da29d": {
          "model_module": "@jupyter-widgets/base",
          "model_name": "LayoutModel",
          "model_module_version": "1.2.0",
          "state": {
            "_view_name": "LayoutView",
            "grid_template_rows": null,
            "right": null,
            "justify_content": null,
            "_view_module": "@jupyter-widgets/base",
            "overflow": null,
            "_model_module_version": "1.2.0",
            "_view_count": null,
            "flex_flow": null,
            "width": null,
            "min_width": null,
            "border": null,
            "align_items": null,
            "bottom": null,
            "_model_module": "@jupyter-widgets/base",
            "top": null,
            "grid_column": null,
            "overflow_y": null,
            "overflow_x": null,
            "grid_auto_flow": null,
            "grid_area": null,
            "grid_template_columns": null,
            "flex": null,
            "_model_name": "LayoutModel",
            "justify_items": null,
            "grid_row": null,
            "max_height": null,
            "align_content": null,
            "visibility": null,
            "align_self": null,
            "height": null,
            "min_height": null,
            "padding": null,
            "grid_auto_rows": null,
            "grid_gap": null,
            "max_width": null,
            "order": null,
            "_view_module_version": "1.2.0",
            "grid_template_areas": null,
            "object_position": null,
            "object_fit": null,
            "grid_auto_columns": null,
            "margin": null,
            "display": null,
            "left": null
          }
        },
        "7aee1fa59a4148928892d5ddcb9f536d": {
          "model_module": "@jupyter-widgets/controls",
          "model_name": "ProgressStyleModel",
          "model_module_version": "1.5.0",
          "state": {
            "_view_name": "StyleView",
            "_model_name": "ProgressStyleModel",
            "description_width": "",
            "_view_module": "@jupyter-widgets/base",
            "_model_module_version": "1.5.0",
            "_view_count": null,
            "_view_module_version": "1.2.0",
            "bar_color": null,
            "_model_module": "@jupyter-widgets/controls"
          }
        },
        "bc546577f2424d2681dd2400ef8ea118": {
          "model_module": "@jupyter-widgets/base",
          "model_name": "LayoutModel",
          "model_module_version": "1.2.0",
          "state": {
            "_view_name": "LayoutView",
            "grid_template_rows": null,
            "right": null,
            "justify_content": null,
            "_view_module": "@jupyter-widgets/base",
            "overflow": null,
            "_model_module_version": "1.2.0",
            "_view_count": null,
            "flex_flow": null,
            "width": null,
            "min_width": null,
            "border": null,
            "align_items": null,
            "bottom": null,
            "_model_module": "@jupyter-widgets/base",
            "top": null,
            "grid_column": null,
            "overflow_y": null,
            "overflow_x": null,
            "grid_auto_flow": null,
            "grid_area": null,
            "grid_template_columns": null,
            "flex": null,
            "_model_name": "LayoutModel",
            "justify_items": null,
            "grid_row": null,
            "max_height": null,
            "align_content": null,
            "visibility": null,
            "align_self": null,
            "height": null,
            "min_height": null,
            "padding": null,
            "grid_auto_rows": null,
            "grid_gap": null,
            "max_width": null,
            "order": null,
            "_view_module_version": "1.2.0",
            "grid_template_areas": null,
            "object_position": null,
            "object_fit": null,
            "grid_auto_columns": null,
            "margin": null,
            "display": null,
            "left": null
          }
        },
        "fa520f3e17a7472e853ec7eb9c5ff41e": {
          "model_module": "@jupyter-widgets/controls",
          "model_name": "DescriptionStyleModel",
          "model_module_version": "1.5.0",
          "state": {
            "_view_name": "StyleView",
            "_model_name": "DescriptionStyleModel",
            "description_width": "",
            "_view_module": "@jupyter-widgets/base",
            "_model_module_version": "1.5.0",
            "_view_count": null,
            "_view_module_version": "1.2.0",
            "_model_module": "@jupyter-widgets/controls"
          }
        },
        "87b376b0a76e4e6ab2fbf9db0eb24af7": {
          "model_module": "@jupyter-widgets/base",
          "model_name": "LayoutModel",
          "model_module_version": "1.2.0",
          "state": {
            "_view_name": "LayoutView",
            "grid_template_rows": null,
            "right": null,
            "justify_content": null,
            "_view_module": "@jupyter-widgets/base",
            "overflow": null,
            "_model_module_version": "1.2.0",
            "_view_count": null,
            "flex_flow": null,
            "width": null,
            "min_width": null,
            "border": null,
            "align_items": null,
            "bottom": null,
            "_model_module": "@jupyter-widgets/base",
            "top": null,
            "grid_column": null,
            "overflow_y": null,
            "overflow_x": null,
            "grid_auto_flow": null,
            "grid_area": null,
            "grid_template_columns": null,
            "flex": null,
            "_model_name": "LayoutModel",
            "justify_items": null,
            "grid_row": null,
            "max_height": null,
            "align_content": null,
            "visibility": null,
            "align_self": null,
            "height": null,
            "min_height": null,
            "padding": null,
            "grid_auto_rows": null,
            "grid_gap": null,
            "max_width": null,
            "order": null,
            "_view_module_version": "1.2.0",
            "grid_template_areas": null,
            "object_position": null,
            "object_fit": null,
            "grid_auto_columns": null,
            "margin": null,
            "display": null,
            "left": null
          }
        },
        "170f3a3e16014e4c9becf79e2ad41f2b": {
          "model_module": "@jupyter-widgets/controls",
          "model_name": "HBoxModel",
          "model_module_version": "1.5.0",
          "state": {
            "_view_name": "HBoxView",
            "_dom_classes": [],
            "_model_name": "HBoxModel",
            "_view_module": "@jupyter-widgets/controls",
            "_model_module_version": "1.5.0",
            "_view_count": null,
            "_view_module_version": "1.5.0",
            "box_style": "",
            "layout": "IPY_MODEL_ca4d29c1b95b49a69dbe9150f4c6e094",
            "_model_module": "@jupyter-widgets/controls",
            "children": [
              "IPY_MODEL_bac17024000c40949e4592db6dfa8a2e",
              "IPY_MODEL_227f31ca118f4dff9aa07d2543760104",
              "IPY_MODEL_239e52a4e85740a8853dc5ee7a3e0664"
            ]
          }
        },
        "ca4d29c1b95b49a69dbe9150f4c6e094": {
          "model_module": "@jupyter-widgets/base",
          "model_name": "LayoutModel",
          "model_module_version": "1.2.0",
          "state": {
            "_view_name": "LayoutView",
            "grid_template_rows": null,
            "right": null,
            "justify_content": null,
            "_view_module": "@jupyter-widgets/base",
            "overflow": null,
            "_model_module_version": "1.2.0",
            "_view_count": null,
            "flex_flow": null,
            "width": null,
            "min_width": null,
            "border": null,
            "align_items": null,
            "bottom": null,
            "_model_module": "@jupyter-widgets/base",
            "top": null,
            "grid_column": null,
            "overflow_y": null,
            "overflow_x": null,
            "grid_auto_flow": null,
            "grid_area": null,
            "grid_template_columns": null,
            "flex": null,
            "_model_name": "LayoutModel",
            "justify_items": null,
            "grid_row": null,
            "max_height": null,
            "align_content": null,
            "visibility": null,
            "align_self": null,
            "height": null,
            "min_height": null,
            "padding": null,
            "grid_auto_rows": null,
            "grid_gap": null,
            "max_width": null,
            "order": null,
            "_view_module_version": "1.2.0",
            "grid_template_areas": null,
            "object_position": null,
            "object_fit": null,
            "grid_auto_columns": null,
            "margin": null,
            "display": null,
            "left": null
          }
        },
        "bac17024000c40949e4592db6dfa8a2e": {
          "model_module": "@jupyter-widgets/controls",
          "model_name": "HTMLModel",
          "model_module_version": "1.5.0",
          "state": {
            "_view_name": "HTMLView",
            "style": "IPY_MODEL_00b9726e582c4936b12ea133511517cf",
            "_dom_classes": [],
            "description": "",
            "_model_name": "HTMLModel",
            "placeholder": "​",
            "_view_module": "@jupyter-widgets/controls",
            "_model_module_version": "1.5.0",
            "value": "Downloading: 100%",
            "_view_count": null,
            "_view_module_version": "1.5.0",
            "description_tooltip": null,
            "_model_module": "@jupyter-widgets/controls",
            "layout": "IPY_MODEL_d04d3922bebb4b008447dd5a939565cd"
          }
        },
        "227f31ca118f4dff9aa07d2543760104": {
          "model_module": "@jupyter-widgets/controls",
          "model_name": "FloatProgressModel",
          "model_module_version": "1.5.0",
          "state": {
            "_view_name": "ProgressView",
            "style": "IPY_MODEL_d67a3b092f394188b0e6c07c4d3b3b82",
            "_dom_classes": [],
            "description": "",
            "_model_name": "FloatProgressModel",
            "bar_style": "success",
            "max": 109,
            "_view_module": "@jupyter-widgets/controls",
            "_model_module_version": "1.5.0",
            "value": 109,
            "_view_count": null,
            "_view_module_version": "1.5.0",
            "orientation": "horizontal",
            "min": 0,
            "description_tooltip": null,
            "_model_module": "@jupyter-widgets/controls",
            "layout": "IPY_MODEL_7d1c5548ead141b698de4c22a8b63746"
          }
        },
        "239e52a4e85740a8853dc5ee7a3e0664": {
          "model_module": "@jupyter-widgets/controls",
          "model_name": "HTMLModel",
          "model_module_version": "1.5.0",
          "state": {
            "_view_name": "HTMLView",
            "style": "IPY_MODEL_212671be785048c88e6e56b4793f75fa",
            "_dom_classes": [],
            "description": "",
            "_model_name": "HTMLModel",
            "placeholder": "​",
            "_view_module": "@jupyter-widgets/controls",
            "_model_module_version": "1.5.0",
            "value": " 109/109 [00:00&lt;00:00, 2.52kB/s]",
            "_view_count": null,
            "_view_module_version": "1.5.0",
            "description_tooltip": null,
            "_model_module": "@jupyter-widgets/controls",
            "layout": "IPY_MODEL_ffd144985b4944e3876a9cbd787928f3"
          }
        },
        "00b9726e582c4936b12ea133511517cf": {
          "model_module": "@jupyter-widgets/controls",
          "model_name": "DescriptionStyleModel",
          "model_module_version": "1.5.0",
          "state": {
            "_view_name": "StyleView",
            "_model_name": "DescriptionStyleModel",
            "description_width": "",
            "_view_module": "@jupyter-widgets/base",
            "_model_module_version": "1.5.0",
            "_view_count": null,
            "_view_module_version": "1.2.0",
            "_model_module": "@jupyter-widgets/controls"
          }
        },
        "d04d3922bebb4b008447dd5a939565cd": {
          "model_module": "@jupyter-widgets/base",
          "model_name": "LayoutModel",
          "model_module_version": "1.2.0",
          "state": {
            "_view_name": "LayoutView",
            "grid_template_rows": null,
            "right": null,
            "justify_content": null,
            "_view_module": "@jupyter-widgets/base",
            "overflow": null,
            "_model_module_version": "1.2.0",
            "_view_count": null,
            "flex_flow": null,
            "width": null,
            "min_width": null,
            "border": null,
            "align_items": null,
            "bottom": null,
            "_model_module": "@jupyter-widgets/base",
            "top": null,
            "grid_column": null,
            "overflow_y": null,
            "overflow_x": null,
            "grid_auto_flow": null,
            "grid_area": null,
            "grid_template_columns": null,
            "flex": null,
            "_model_name": "LayoutModel",
            "justify_items": null,
            "grid_row": null,
            "max_height": null,
            "align_content": null,
            "visibility": null,
            "align_self": null,
            "height": null,
            "min_height": null,
            "padding": null,
            "grid_auto_rows": null,
            "grid_gap": null,
            "max_width": null,
            "order": null,
            "_view_module_version": "1.2.0",
            "grid_template_areas": null,
            "object_position": null,
            "object_fit": null,
            "grid_auto_columns": null,
            "margin": null,
            "display": null,
            "left": null
          }
        },
        "d67a3b092f394188b0e6c07c4d3b3b82": {
          "model_module": "@jupyter-widgets/controls",
          "model_name": "ProgressStyleModel",
          "model_module_version": "1.5.0",
          "state": {
            "_view_name": "StyleView",
            "_model_name": "ProgressStyleModel",
            "description_width": "",
            "_view_module": "@jupyter-widgets/base",
            "_model_module_version": "1.5.0",
            "_view_count": null,
            "_view_module_version": "1.2.0",
            "bar_color": null,
            "_model_module": "@jupyter-widgets/controls"
          }
        },
        "7d1c5548ead141b698de4c22a8b63746": {
          "model_module": "@jupyter-widgets/base",
          "model_name": "LayoutModel",
          "model_module_version": "1.2.0",
          "state": {
            "_view_name": "LayoutView",
            "grid_template_rows": null,
            "right": null,
            "justify_content": null,
            "_view_module": "@jupyter-widgets/base",
            "overflow": null,
            "_model_module_version": "1.2.0",
            "_view_count": null,
            "flex_flow": null,
            "width": null,
            "min_width": null,
            "border": null,
            "align_items": null,
            "bottom": null,
            "_model_module": "@jupyter-widgets/base",
            "top": null,
            "grid_column": null,
            "overflow_y": null,
            "overflow_x": null,
            "grid_auto_flow": null,
            "grid_area": null,
            "grid_template_columns": null,
            "flex": null,
            "_model_name": "LayoutModel",
            "justify_items": null,
            "grid_row": null,
            "max_height": null,
            "align_content": null,
            "visibility": null,
            "align_self": null,
            "height": null,
            "min_height": null,
            "padding": null,
            "grid_auto_rows": null,
            "grid_gap": null,
            "max_width": null,
            "order": null,
            "_view_module_version": "1.2.0",
            "grid_template_areas": null,
            "object_position": null,
            "object_fit": null,
            "grid_auto_columns": null,
            "margin": null,
            "display": null,
            "left": null
          }
        },
        "212671be785048c88e6e56b4793f75fa": {
          "model_module": "@jupyter-widgets/controls",
          "model_name": "DescriptionStyleModel",
          "model_module_version": "1.5.0",
          "state": {
            "_view_name": "StyleView",
            "_model_name": "DescriptionStyleModel",
            "description_width": "",
            "_view_module": "@jupyter-widgets/base",
            "_model_module_version": "1.5.0",
            "_view_count": null,
            "_view_module_version": "1.2.0",
            "_model_module": "@jupyter-widgets/controls"
          }
        },
        "ffd144985b4944e3876a9cbd787928f3": {
          "model_module": "@jupyter-widgets/base",
          "model_name": "LayoutModel",
          "model_module_version": "1.2.0",
          "state": {
            "_view_name": "LayoutView",
            "grid_template_rows": null,
            "right": null,
            "justify_content": null,
            "_view_module": "@jupyter-widgets/base",
            "overflow": null,
            "_model_module_version": "1.2.0",
            "_view_count": null,
            "flex_flow": null,
            "width": null,
            "min_width": null,
            "border": null,
            "align_items": null,
            "bottom": null,
            "_model_module": "@jupyter-widgets/base",
            "top": null,
            "grid_column": null,
            "overflow_y": null,
            "overflow_x": null,
            "grid_auto_flow": null,
            "grid_area": null,
            "grid_template_columns": null,
            "flex": null,
            "_model_name": "LayoutModel",
            "justify_items": null,
            "grid_row": null,
            "max_height": null,
            "align_content": null,
            "visibility": null,
            "align_self": null,
            "height": null,
            "min_height": null,
            "padding": null,
            "grid_auto_rows": null,
            "grid_gap": null,
            "max_width": null,
            "order": null,
            "_view_module_version": "1.2.0",
            "grid_template_areas": null,
            "object_position": null,
            "object_fit": null,
            "grid_auto_columns": null,
            "margin": null,
            "display": null,
            "left": null
          }
        },
        "a5d02f80fd7e444280177036afbed785": {
          "model_module": "@jupyter-widgets/controls",
          "model_name": "HBoxModel",
          "model_module_version": "1.5.0",
          "state": {
            "_view_name": "HBoxView",
            "_dom_classes": [],
            "_model_name": "HBoxModel",
            "_view_module": "@jupyter-widgets/controls",
            "_model_module_version": "1.5.0",
            "_view_count": null,
            "_view_module_version": "1.5.0",
            "box_style": "",
            "layout": "IPY_MODEL_b0817e5e5aff46d2ba4eb9fbb7e40ca4",
            "_model_module": "@jupyter-widgets/controls",
            "children": [
              "IPY_MODEL_868314749d5e4a8c8cca3704676294b4",
              "IPY_MODEL_48c54506b90343dfa761fbddf387590d",
              "IPY_MODEL_b21277c91a83480bb04e6d72c302fea2"
            ]
          }
        },
        "b0817e5e5aff46d2ba4eb9fbb7e40ca4": {
          "model_module": "@jupyter-widgets/base",
          "model_name": "LayoutModel",
          "model_module_version": "1.2.0",
          "state": {
            "_view_name": "LayoutView",
            "grid_template_rows": null,
            "right": null,
            "justify_content": null,
            "_view_module": "@jupyter-widgets/base",
            "overflow": null,
            "_model_module_version": "1.2.0",
            "_view_count": null,
            "flex_flow": null,
            "width": null,
            "min_width": null,
            "border": null,
            "align_items": null,
            "bottom": null,
            "_model_module": "@jupyter-widgets/base",
            "top": null,
            "grid_column": null,
            "overflow_y": null,
            "overflow_x": null,
            "grid_auto_flow": null,
            "grid_area": null,
            "grid_template_columns": null,
            "flex": null,
            "_model_name": "LayoutModel",
            "justify_items": null,
            "grid_row": null,
            "max_height": null,
            "align_content": null,
            "visibility": null,
            "align_self": null,
            "height": null,
            "min_height": null,
            "padding": null,
            "grid_auto_rows": null,
            "grid_gap": null,
            "max_width": null,
            "order": null,
            "_view_module_version": "1.2.0",
            "grid_template_areas": null,
            "object_position": null,
            "object_fit": null,
            "grid_auto_columns": null,
            "margin": null,
            "display": null,
            "left": null
          }
        },
        "868314749d5e4a8c8cca3704676294b4": {
          "model_module": "@jupyter-widgets/controls",
          "model_name": "HTMLModel",
          "model_module_version": "1.5.0",
          "state": {
            "_view_name": "HTMLView",
            "style": "IPY_MODEL_de08947d932545938767b4970a313a7d",
            "_dom_classes": [],
            "description": "",
            "_model_name": "HTMLModel",
            "placeholder": "​",
            "_view_module": "@jupyter-widgets/controls",
            "_model_module_version": "1.5.0",
            "value": "Downloading: 100%",
            "_view_count": null,
            "_view_module_version": "1.5.0",
            "description_tooltip": null,
            "_model_module": "@jupyter-widgets/controls",
            "layout": "IPY_MODEL_278f35986d374717a7888ee50550f476"
          }
        },
        "48c54506b90343dfa761fbddf387590d": {
          "model_module": "@jupyter-widgets/controls",
          "model_name": "FloatProgressModel",
          "model_module_version": "1.5.0",
          "state": {
            "_view_name": "ProgressView",
            "style": "IPY_MODEL_870c19a8f3124375b19b0e331f7d0317",
            "_dom_classes": [],
            "description": "",
            "_model_name": "FloatProgressModel",
            "bar_style": "success",
            "max": 682149,
            "_view_module": "@jupyter-widgets/controls",
            "_model_module_version": "1.5.0",
            "value": 682149,
            "_view_count": null,
            "_view_module_version": "1.5.0",
            "orientation": "horizontal",
            "min": 0,
            "description_tooltip": null,
            "_model_module": "@jupyter-widgets/controls",
            "layout": "IPY_MODEL_34782960eb4042d59ad1a8fdcdf8d069"
          }
        },
        "b21277c91a83480bb04e6d72c302fea2": {
          "model_module": "@jupyter-widgets/controls",
          "model_name": "HTMLModel",
          "model_module_version": "1.5.0",
          "state": {
            "_view_name": "HTMLView",
            "style": "IPY_MODEL_cd9385b8f917423e8b67263e20cc9b8e",
            "_dom_classes": [],
            "description": "",
            "_model_name": "HTMLModel",
            "placeholder": "​",
            "_view_module": "@jupyter-widgets/controls",
            "_model_module_version": "1.5.0",
            "value": " 666k/666k [00:00&lt;00:00, 1.11MB/s]",
            "_view_count": null,
            "_view_module_version": "1.5.0",
            "description_tooltip": null,
            "_model_module": "@jupyter-widgets/controls",
            "layout": "IPY_MODEL_42162a64dd414a3d8a0412be0d42dc7f"
          }
        },
        "de08947d932545938767b4970a313a7d": {
          "model_module": "@jupyter-widgets/controls",
          "model_name": "DescriptionStyleModel",
          "model_module_version": "1.5.0",
          "state": {
            "_view_name": "StyleView",
            "_model_name": "DescriptionStyleModel",
            "description_width": "",
            "_view_module": "@jupyter-widgets/base",
            "_model_module_version": "1.5.0",
            "_view_count": null,
            "_view_module_version": "1.2.0",
            "_model_module": "@jupyter-widgets/controls"
          }
        },
        "278f35986d374717a7888ee50550f476": {
          "model_module": "@jupyter-widgets/base",
          "model_name": "LayoutModel",
          "model_module_version": "1.2.0",
          "state": {
            "_view_name": "LayoutView",
            "grid_template_rows": null,
            "right": null,
            "justify_content": null,
            "_view_module": "@jupyter-widgets/base",
            "overflow": null,
            "_model_module_version": "1.2.0",
            "_view_count": null,
            "flex_flow": null,
            "width": null,
            "min_width": null,
            "border": null,
            "align_items": null,
            "bottom": null,
            "_model_module": "@jupyter-widgets/base",
            "top": null,
            "grid_column": null,
            "overflow_y": null,
            "overflow_x": null,
            "grid_auto_flow": null,
            "grid_area": null,
            "grid_template_columns": null,
            "flex": null,
            "_model_name": "LayoutModel",
            "justify_items": null,
            "grid_row": null,
            "max_height": null,
            "align_content": null,
            "visibility": null,
            "align_self": null,
            "height": null,
            "min_height": null,
            "padding": null,
            "grid_auto_rows": null,
            "grid_gap": null,
            "max_width": null,
            "order": null,
            "_view_module_version": "1.2.0",
            "grid_template_areas": null,
            "object_position": null,
            "object_fit": null,
            "grid_auto_columns": null,
            "margin": null,
            "display": null,
            "left": null
          }
        },
        "870c19a8f3124375b19b0e331f7d0317": {
          "model_module": "@jupyter-widgets/controls",
          "model_name": "ProgressStyleModel",
          "model_module_version": "1.5.0",
          "state": {
            "_view_name": "StyleView",
            "_model_name": "ProgressStyleModel",
            "description_width": "",
            "_view_module": "@jupyter-widgets/base",
            "_model_module_version": "1.5.0",
            "_view_count": null,
            "_view_module_version": "1.2.0",
            "bar_color": null,
            "_model_module": "@jupyter-widgets/controls"
          }
        },
        "34782960eb4042d59ad1a8fdcdf8d069": {
          "model_module": "@jupyter-widgets/base",
          "model_name": "LayoutModel",
          "model_module_version": "1.2.0",
          "state": {
            "_view_name": "LayoutView",
            "grid_template_rows": null,
            "right": null,
            "justify_content": null,
            "_view_module": "@jupyter-widgets/base",
            "overflow": null,
            "_model_module_version": "1.2.0",
            "_view_count": null,
            "flex_flow": null,
            "width": null,
            "min_width": null,
            "border": null,
            "align_items": null,
            "bottom": null,
            "_model_module": "@jupyter-widgets/base",
            "top": null,
            "grid_column": null,
            "overflow_y": null,
            "overflow_x": null,
            "grid_auto_flow": null,
            "grid_area": null,
            "grid_template_columns": null,
            "flex": null,
            "_model_name": "LayoutModel",
            "justify_items": null,
            "grid_row": null,
            "max_height": null,
            "align_content": null,
            "visibility": null,
            "align_self": null,
            "height": null,
            "min_height": null,
            "padding": null,
            "grid_auto_rows": null,
            "grid_gap": null,
            "max_width": null,
            "order": null,
            "_view_module_version": "1.2.0",
            "grid_template_areas": null,
            "object_position": null,
            "object_fit": null,
            "grid_auto_columns": null,
            "margin": null,
            "display": null,
            "left": null
          }
        },
        "cd9385b8f917423e8b67263e20cc9b8e": {
          "model_module": "@jupyter-widgets/controls",
          "model_name": "DescriptionStyleModel",
          "model_module_version": "1.5.0",
          "state": {
            "_view_name": "StyleView",
            "_model_name": "DescriptionStyleModel",
            "description_width": "",
            "_view_module": "@jupyter-widgets/base",
            "_model_module_version": "1.5.0",
            "_view_count": null,
            "_view_module_version": "1.2.0",
            "_model_module": "@jupyter-widgets/controls"
          }
        },
        "42162a64dd414a3d8a0412be0d42dc7f": {
          "model_module": "@jupyter-widgets/base",
          "model_name": "LayoutModel",
          "model_module_version": "1.2.0",
          "state": {
            "_view_name": "LayoutView",
            "grid_template_rows": null,
            "right": null,
            "justify_content": null,
            "_view_module": "@jupyter-widgets/base",
            "overflow": null,
            "_model_module_version": "1.2.0",
            "_view_count": null,
            "flex_flow": null,
            "width": null,
            "min_width": null,
            "border": null,
            "align_items": null,
            "bottom": null,
            "_model_module": "@jupyter-widgets/base",
            "top": null,
            "grid_column": null,
            "overflow_y": null,
            "overflow_x": null,
            "grid_auto_flow": null,
            "grid_area": null,
            "grid_template_columns": null,
            "flex": null,
            "_model_name": "LayoutModel",
            "justify_items": null,
            "grid_row": null,
            "max_height": null,
            "align_content": null,
            "visibility": null,
            "align_self": null,
            "height": null,
            "min_height": null,
            "padding": null,
            "grid_auto_rows": null,
            "grid_gap": null,
            "max_width": null,
            "order": null,
            "_view_module_version": "1.2.0",
            "grid_template_areas": null,
            "object_position": null,
            "object_fit": null,
            "grid_auto_columns": null,
            "margin": null,
            "display": null,
            "left": null
          }
        },
        "831b672e706948ed813d3e84706a609f": {
          "model_module": "@jupyter-widgets/controls",
          "model_name": "HBoxModel",
          "model_module_version": "1.5.0",
          "state": {
            "_view_name": "HBoxView",
            "_dom_classes": [],
            "_model_name": "HBoxModel",
            "_view_module": "@jupyter-widgets/controls",
            "_model_module_version": "1.5.0",
            "_view_count": null,
            "_view_module_version": "1.5.0",
            "box_style": "",
            "layout": "IPY_MODEL_4a9d8ce60bf34d189c39eaad06795910",
            "_model_module": "@jupyter-widgets/controls",
            "children": [
              "IPY_MODEL_94d4166128d546339fbd2bc6257750ae",
              "IPY_MODEL_8aa27b88bb214d34a404e4ea9006488b",
              "IPY_MODEL_9684396474804d79ad93ea3ce3b51189"
            ]
          }
        },
        "4a9d8ce60bf34d189c39eaad06795910": {
          "model_module": "@jupyter-widgets/base",
          "model_name": "LayoutModel",
          "model_module_version": "1.2.0",
          "state": {
            "_view_name": "LayoutView",
            "grid_template_rows": null,
            "right": null,
            "justify_content": null,
            "_view_module": "@jupyter-widgets/base",
            "overflow": null,
            "_model_module_version": "1.2.0",
            "_view_count": null,
            "flex_flow": null,
            "width": null,
            "min_width": null,
            "border": null,
            "align_items": null,
            "bottom": null,
            "_model_module": "@jupyter-widgets/base",
            "top": null,
            "grid_column": null,
            "overflow_y": null,
            "overflow_x": null,
            "grid_auto_flow": null,
            "grid_area": null,
            "grid_template_columns": null,
            "flex": null,
            "_model_name": "LayoutModel",
            "justify_items": null,
            "grid_row": null,
            "max_height": null,
            "align_content": null,
            "visibility": null,
            "align_self": null,
            "height": null,
            "min_height": null,
            "padding": null,
            "grid_auto_rows": null,
            "grid_gap": null,
            "max_width": null,
            "order": null,
            "_view_module_version": "1.2.0",
            "grid_template_areas": null,
            "object_position": null,
            "object_fit": null,
            "grid_auto_columns": null,
            "margin": null,
            "display": null,
            "left": null
          }
        },
        "94d4166128d546339fbd2bc6257750ae": {
          "model_module": "@jupyter-widgets/controls",
          "model_name": "HTMLModel",
          "model_module_version": "1.5.0",
          "state": {
            "_view_name": "HTMLView",
            "style": "IPY_MODEL_6024136f41e646c393e05afbdd83d35d",
            "_dom_classes": [],
            "description": "",
            "_model_name": "HTMLModel",
            "placeholder": "​",
            "_view_module": "@jupyter-widgets/controls",
            "_model_module_version": "1.5.0",
            "value": "Downloading: 100%",
            "_view_count": null,
            "_view_module_version": "1.5.0",
            "description_tooltip": null,
            "_model_module": "@jupyter-widgets/controls",
            "layout": "IPY_MODEL_f2a135f367c041b6916966572436b296"
          }
        },
        "8aa27b88bb214d34a404e4ea9006488b": {
          "model_module": "@jupyter-widgets/controls",
          "model_name": "FloatProgressModel",
          "model_module_version": "1.5.0",
          "state": {
            "_view_name": "ProgressView",
            "style": "IPY_MODEL_ccfe7848853d406a94bb2c758696edcb",
            "_dom_classes": [],
            "description": "",
            "_model_name": "FloatProgressModel",
            "bar_style": "success",
            "max": 1110,
            "_view_module": "@jupyter-widgets/controls",
            "_model_module_version": "1.5.0",
            "value": 1110,
            "_view_count": null,
            "_view_module_version": "1.5.0",
            "orientation": "horizontal",
            "min": 0,
            "description_tooltip": null,
            "_model_module": "@jupyter-widgets/controls",
            "layout": "IPY_MODEL_0380d18a4c2a452c80ee09a4f34bd845"
          }
        },
        "9684396474804d79ad93ea3ce3b51189": {
          "model_module": "@jupyter-widgets/controls",
          "model_name": "HTMLModel",
          "model_module_version": "1.5.0",
          "state": {
            "_view_name": "HTMLView",
            "style": "IPY_MODEL_c8427799d8b14801911b20981a6a1b4d",
            "_dom_classes": [],
            "description": "",
            "_model_name": "HTMLModel",
            "placeholder": "​",
            "_view_module": "@jupyter-widgets/controls",
            "_model_module_version": "1.5.0",
            "value": " 1.08k/1.08k [00:00&lt;00:00, 22.6kB/s]",
            "_view_count": null,
            "_view_module_version": "1.5.0",
            "description_tooltip": null,
            "_model_module": "@jupyter-widgets/controls",
            "layout": "IPY_MODEL_68de6282442246608447fac0a9d4636d"
          }
        },
        "6024136f41e646c393e05afbdd83d35d": {
          "model_module": "@jupyter-widgets/controls",
          "model_name": "DescriptionStyleModel",
          "model_module_version": "1.5.0",
          "state": {
            "_view_name": "StyleView",
            "_model_name": "DescriptionStyleModel",
            "description_width": "",
            "_view_module": "@jupyter-widgets/base",
            "_model_module_version": "1.5.0",
            "_view_count": null,
            "_view_module_version": "1.2.0",
            "_model_module": "@jupyter-widgets/controls"
          }
        },
        "f2a135f367c041b6916966572436b296": {
          "model_module": "@jupyter-widgets/base",
          "model_name": "LayoutModel",
          "model_module_version": "1.2.0",
          "state": {
            "_view_name": "LayoutView",
            "grid_template_rows": null,
            "right": null,
            "justify_content": null,
            "_view_module": "@jupyter-widgets/base",
            "overflow": null,
            "_model_module_version": "1.2.0",
            "_view_count": null,
            "flex_flow": null,
            "width": null,
            "min_width": null,
            "border": null,
            "align_items": null,
            "bottom": null,
            "_model_module": "@jupyter-widgets/base",
            "top": null,
            "grid_column": null,
            "overflow_y": null,
            "overflow_x": null,
            "grid_auto_flow": null,
            "grid_area": null,
            "grid_template_columns": null,
            "flex": null,
            "_model_name": "LayoutModel",
            "justify_items": null,
            "grid_row": null,
            "max_height": null,
            "align_content": null,
            "visibility": null,
            "align_self": null,
            "height": null,
            "min_height": null,
            "padding": null,
            "grid_auto_rows": null,
            "grid_gap": null,
            "max_width": null,
            "order": null,
            "_view_module_version": "1.2.0",
            "grid_template_areas": null,
            "object_position": null,
            "object_fit": null,
            "grid_auto_columns": null,
            "margin": null,
            "display": null,
            "left": null
          }
        },
        "ccfe7848853d406a94bb2c758696edcb": {
          "model_module": "@jupyter-widgets/controls",
          "model_name": "ProgressStyleModel",
          "model_module_version": "1.5.0",
          "state": {
            "_view_name": "StyleView",
            "_model_name": "ProgressStyleModel",
            "description_width": "",
            "_view_module": "@jupyter-widgets/base",
            "_model_module_version": "1.5.0",
            "_view_count": null,
            "_view_module_version": "1.2.0",
            "bar_color": null,
            "_model_module": "@jupyter-widgets/controls"
          }
        },
        "0380d18a4c2a452c80ee09a4f34bd845": {
          "model_module": "@jupyter-widgets/base",
          "model_name": "LayoutModel",
          "model_module_version": "1.2.0",
          "state": {
            "_view_name": "LayoutView",
            "grid_template_rows": null,
            "right": null,
            "justify_content": null,
            "_view_module": "@jupyter-widgets/base",
            "overflow": null,
            "_model_module_version": "1.2.0",
            "_view_count": null,
            "flex_flow": null,
            "width": null,
            "min_width": null,
            "border": null,
            "align_items": null,
            "bottom": null,
            "_model_module": "@jupyter-widgets/base",
            "top": null,
            "grid_column": null,
            "overflow_y": null,
            "overflow_x": null,
            "grid_auto_flow": null,
            "grid_area": null,
            "grid_template_columns": null,
            "flex": null,
            "_model_name": "LayoutModel",
            "justify_items": null,
            "grid_row": null,
            "max_height": null,
            "align_content": null,
            "visibility": null,
            "align_self": null,
            "height": null,
            "min_height": null,
            "padding": null,
            "grid_auto_rows": null,
            "grid_gap": null,
            "max_width": null,
            "order": null,
            "_view_module_version": "1.2.0",
            "grid_template_areas": null,
            "object_position": null,
            "object_fit": null,
            "grid_auto_columns": null,
            "margin": null,
            "display": null,
            "left": null
          }
        },
        "c8427799d8b14801911b20981a6a1b4d": {
          "model_module": "@jupyter-widgets/controls",
          "model_name": "DescriptionStyleModel",
          "model_module_version": "1.5.0",
          "state": {
            "_view_name": "StyleView",
            "_model_name": "DescriptionStyleModel",
            "description_width": "",
            "_view_module": "@jupyter-widgets/base",
            "_model_module_version": "1.5.0",
            "_view_count": null,
            "_view_module_version": "1.2.0",
            "_model_module": "@jupyter-widgets/controls"
          }
        },
        "68de6282442246608447fac0a9d4636d": {
          "model_module": "@jupyter-widgets/base",
          "model_name": "LayoutModel",
          "model_module_version": "1.2.0",
          "state": {
            "_view_name": "LayoutView",
            "grid_template_rows": null,
            "right": null,
            "justify_content": null,
            "_view_module": "@jupyter-widgets/base",
            "overflow": null,
            "_model_module_version": "1.2.0",
            "_view_count": null,
            "flex_flow": null,
            "width": null,
            "min_width": null,
            "border": null,
            "align_items": null,
            "bottom": null,
            "_model_module": "@jupyter-widgets/base",
            "top": null,
            "grid_column": null,
            "overflow_y": null,
            "overflow_x": null,
            "grid_auto_flow": null,
            "grid_area": null,
            "grid_template_columns": null,
            "flex": null,
            "_model_name": "LayoutModel",
            "justify_items": null,
            "grid_row": null,
            "max_height": null,
            "align_content": null,
            "visibility": null,
            "align_self": null,
            "height": null,
            "min_height": null,
            "padding": null,
            "grid_auto_rows": null,
            "grid_gap": null,
            "max_width": null,
            "order": null,
            "_view_module_version": "1.2.0",
            "grid_template_areas": null,
            "object_position": null,
            "object_fit": null,
            "grid_auto_columns": null,
            "margin": null,
            "display": null,
            "left": null
          }
        }
      }
    },
    "accelerator": "GPU"
  },
  "cells": [
    {
      "cell_type": "markdown",
      "metadata": {
        "id": "2HdrocRuKqdQ"
      },
      "source": [
        "# 사용 패키지"
      ]
    },
    {
      "cell_type": "code",
      "metadata": {
        "colab": {
          "base_uri": "https://localhost:8080/"
        },
        "id": "Yb1gIDn1c0cf",
        "outputId": "636c3d49-3e22-47b3-a227-e27e76203567"
      },
      "source": [
        "from google.colab import drive\n",
        "drive.mount('/content/drive')"
      ],
      "execution_count": 1,
      "outputs": [
        {
          "output_type": "stream",
          "name": "stdout",
          "text": [
            "Mounted at /content/drive\n"
          ]
        }
      ]
    },
    {
      "cell_type": "code",
      "metadata": {
        "id": "asDVYMsOsvtf",
        "colab": {
          "base_uri": "https://localhost:8080/"
        },
        "outputId": "08179117-f69a-405d-9cc8-ee9b61a08ff9"
      },
      "source": [
        "!pip install transformers datasets rouge_score kobart_transformers"
      ],
      "execution_count": 2,
      "outputs": [
        {
          "output_type": "stream",
          "name": "stdout",
          "text": [
            "Collecting transformers\n",
            "  Downloading transformers-4.12.2-py3-none-any.whl (3.1 MB)\n",
            "\u001b[K     |████████████████████████████████| 3.1 MB 5.3 MB/s \n",
            "\u001b[?25hCollecting datasets\n",
            "  Downloading datasets-1.14.0-py3-none-any.whl (290 kB)\n",
            "\u001b[K     |████████████████████████████████| 290 kB 42.1 MB/s \n",
            "\u001b[?25hCollecting rouge_score\n",
            "  Downloading rouge_score-0.0.4-py2.py3-none-any.whl (22 kB)\n",
            "Collecting kobart_transformers\n",
            "  Downloading kobart_transformers-0.1.4-py3-none-any.whl (3.3 kB)\n",
            "Requirement already satisfied: requests in /usr/local/lib/python3.7/dist-packages (from transformers) (2.23.0)\n",
            "Requirement already satisfied: tqdm>=4.27 in /usr/local/lib/python3.7/dist-packages (from transformers) (4.62.3)\n",
            "Requirement already satisfied: importlib-metadata in /usr/local/lib/python3.7/dist-packages (from transformers) (4.8.1)\n",
            "Collecting pyyaml>=5.1\n",
            "  Downloading PyYAML-6.0-cp37-cp37m-manylinux_2_5_x86_64.manylinux1_x86_64.manylinux_2_12_x86_64.manylinux2010_x86_64.whl (596 kB)\n",
            "\u001b[K     |████████████████████████████████| 596 kB 39.5 MB/s \n",
            "\u001b[?25hRequirement already satisfied: regex!=2019.12.17 in /usr/local/lib/python3.7/dist-packages (from transformers) (2019.12.20)\n",
            "Collecting sacremoses\n",
            "  Downloading sacremoses-0.0.46-py3-none-any.whl (895 kB)\n",
            "\u001b[K     |████████████████████████████████| 895 kB 40.2 MB/s \n",
            "\u001b[?25hCollecting huggingface-hub>=0.0.17\n",
            "  Downloading huggingface_hub-0.0.19-py3-none-any.whl (56 kB)\n",
            "\u001b[K     |████████████████████████████████| 56 kB 4.7 MB/s \n",
            "\u001b[?25hRequirement already satisfied: filelock in /usr/local/lib/python3.7/dist-packages (from transformers) (3.3.0)\n",
            "Requirement already satisfied: numpy>=1.17 in /usr/local/lib/python3.7/dist-packages (from transformers) (1.19.5)\n",
            "Requirement already satisfied: packaging>=20.0 in /usr/local/lib/python3.7/dist-packages (from transformers) (21.0)\n",
            "Collecting tokenizers<0.11,>=0.10.1\n",
            "  Downloading tokenizers-0.10.3-cp37-cp37m-manylinux_2_5_x86_64.manylinux1_x86_64.manylinux_2_12_x86_64.manylinux2010_x86_64.whl (3.3 MB)\n",
            "\u001b[K     |████████████████████████████████| 3.3 MB 35.5 MB/s \n",
            "\u001b[?25hRequirement already satisfied: typing-extensions in /usr/local/lib/python3.7/dist-packages (from huggingface-hub>=0.0.17->transformers) (3.7.4.3)\n",
            "Requirement already satisfied: pyparsing>=2.0.2 in /usr/local/lib/python3.7/dist-packages (from packaging>=20.0->transformers) (2.4.7)\n",
            "Requirement already satisfied: multiprocess in /usr/local/lib/python3.7/dist-packages (from datasets) (0.70.12.2)\n",
            "Collecting aiohttp\n",
            "  Downloading aiohttp-3.7.4.post0-cp37-cp37m-manylinux2014_x86_64.whl (1.3 MB)\n",
            "\u001b[K     |████████████████████████████████| 1.3 MB 34.6 MB/s \n",
            "\u001b[?25hCollecting fsspec[http]>=2021.05.0\n",
            "  Downloading fsspec-2021.10.1-py3-none-any.whl (125 kB)\n",
            "\u001b[K     |████████████████████████████████| 125 kB 48.4 MB/s \n",
            "\u001b[?25hRequirement already satisfied: dill in /usr/local/lib/python3.7/dist-packages (from datasets) (0.3.4)\n",
            "Requirement already satisfied: pyarrow!=4.0.0,>=1.0.0 in /usr/local/lib/python3.7/dist-packages (from datasets) (3.0.0)\n",
            "Collecting xxhash\n",
            "  Downloading xxhash-2.0.2-cp37-cp37m-manylinux2010_x86_64.whl (243 kB)\n",
            "\u001b[K     |████████████████████████████████| 243 kB 45.8 MB/s \n",
            "\u001b[?25hRequirement already satisfied: pandas in /usr/local/lib/python3.7/dist-packages (from datasets) (1.1.5)\n",
            "Requirement already satisfied: chardet<4,>=3.0.2 in /usr/local/lib/python3.7/dist-packages (from requests->transformers) (3.0.4)\n",
            "Requirement already satisfied: certifi>=2017.4.17 in /usr/local/lib/python3.7/dist-packages (from requests->transformers) (2021.5.30)\n",
            "Requirement already satisfied: idna<3,>=2.5 in /usr/local/lib/python3.7/dist-packages (from requests->transformers) (2.10)\n",
            "Requirement already satisfied: urllib3!=1.25.0,!=1.25.1,<1.26,>=1.21.1 in /usr/local/lib/python3.7/dist-packages (from requests->transformers) (1.24.3)\n",
            "Requirement already satisfied: six>=1.14.0 in /usr/local/lib/python3.7/dist-packages (from rouge_score) (1.15.0)\n",
            "Requirement already satisfied: absl-py in /usr/local/lib/python3.7/dist-packages (from rouge_score) (0.12.0)\n",
            "Requirement already satisfied: nltk in /usr/local/lib/python3.7/dist-packages (from rouge_score) (3.2.5)\n",
            "Requirement already satisfied: attrs>=17.3.0 in /usr/local/lib/python3.7/dist-packages (from aiohttp->datasets) (21.2.0)\n",
            "Collecting async-timeout<4.0,>=3.0\n",
            "  Downloading async_timeout-3.0.1-py3-none-any.whl (8.2 kB)\n",
            "Collecting yarl<2.0,>=1.0\n",
            "  Downloading yarl-1.7.0-cp37-cp37m-manylinux_2_5_x86_64.manylinux1_x86_64.manylinux_2_12_x86_64.manylinux2010_x86_64.whl (271 kB)\n",
            "\u001b[K     |████████████████████████████████| 271 kB 47.2 MB/s \n",
            "\u001b[?25hCollecting multidict<7.0,>=4.5\n",
            "  Downloading multidict-5.2.0-cp37-cp37m-manylinux_2_5_x86_64.manylinux1_x86_64.manylinux_2_12_x86_64.manylinux2010_x86_64.whl (160 kB)\n",
            "\u001b[K     |████████████████████████████████| 160 kB 45.4 MB/s \n",
            "\u001b[?25hRequirement already satisfied: zipp>=0.5 in /usr/local/lib/python3.7/dist-packages (from importlib-metadata->transformers) (3.6.0)\n",
            "Requirement already satisfied: pytz>=2017.2 in /usr/local/lib/python3.7/dist-packages (from pandas->datasets) (2018.9)\n",
            "Requirement already satisfied: python-dateutil>=2.7.3 in /usr/local/lib/python3.7/dist-packages (from pandas->datasets) (2.8.2)\n",
            "Requirement already satisfied: click in /usr/local/lib/python3.7/dist-packages (from sacremoses->transformers) (7.1.2)\n",
            "Requirement already satisfied: joblib in /usr/local/lib/python3.7/dist-packages (from sacremoses->transformers) (1.0.1)\n",
            "Installing collected packages: multidict, yarl, async-timeout, pyyaml, fsspec, aiohttp, xxhash, tokenizers, sacremoses, huggingface-hub, transformers, rouge-score, kobart-transformers, datasets\n",
            "  Attempting uninstall: pyyaml\n",
            "    Found existing installation: PyYAML 3.13\n",
            "    Uninstalling PyYAML-3.13:\n",
            "      Successfully uninstalled PyYAML-3.13\n",
            "Successfully installed aiohttp-3.7.4.post0 async-timeout-3.0.1 datasets-1.14.0 fsspec-2021.10.1 huggingface-hub-0.0.19 kobart-transformers-0.1.4 multidict-5.2.0 pyyaml-6.0 rouge-score-0.0.4 sacremoses-0.0.46 tokenizers-0.10.3 transformers-4.12.2 xxhash-2.0.2 yarl-1.7.0\n"
          ]
        }
      ]
    },
    {
      "cell_type": "code",
      "metadata": {
        "id": "41kAqIZyKqdU"
      },
      "source": [
        "import pandas as pd\n",
        "import numpy as np\n",
        "import json\n",
        "import os\n",
        "from tqdm import tqdm\n",
        "import gc\n",
        "import matplotlib.pyplot as plt\n",
        "\n",
        "#from konlpy.tag import Mecab\n",
        "\n",
        "import torch\n",
        "from torch import nn\n",
        "from torch.utils.data import Dataset, DataLoader,TensorDataset\n",
        "\n",
        "from datasets import load_metric\n",
        "from kobart_transformers import get_kobart_model, get_kobart_for_conditional_generation, get_kobart_tokenizer\n",
        "from transformers import BartForConditionalGeneration"
      ],
      "execution_count": 3,
      "outputs": []
    },
    {
      "cell_type": "markdown",
      "metadata": {
        "id": "hDhzpMrtq7Lw"
      },
      "source": [
        "## hyperparameter"
      ]
    },
    {
      "cell_type": "code",
      "metadata": {
        "id": "1U5hMwJ7OCHz"
      },
      "source": [
        "batch_size = 16\n",
        "learning_rate = 1e-4\n",
        "epochs = 1\n",
        "\n",
        "device = torch.device(\"cuda:0\")"
      ],
      "execution_count": 4,
      "outputs": []
    },
    {
      "cell_type": "markdown",
      "metadata": {
        "id": "hGBSvUTCtgyw"
      },
      "source": [
        "## define metric"
      ]
    },
    {
      "cell_type": "code",
      "metadata": {
        "id": "yV9h-4oxtibc",
        "colab": {
          "base_uri": "https://localhost:8080/",
          "height": 49,
          "referenced_widgets": [
            "f55ba662446b4cc9934950bc0a50022c",
            "5b8d93f126db4fa591261a0bb83913e0",
            "2031ff3bb0ef437d8ecc9fda50a2883f",
            "6041d8e132224d848e9e2d1a31ae1982",
            "8ac7062319a9467792632b035e0c98fe",
            "14252b44b26c44c89a2ea222d9f9ebd8",
            "982bdd57ddc64a789fb995f3073fef54",
            "11ead5906f224ff290e4c0dcbc9d180d",
            "ebb22baf9d544992857d6466ee7934d1",
            "ce3dcee4bf3d45a6975beb62f3eb7fa1",
            "6425047bc93d4fffbd31848fd55fa2f0"
          ]
        },
        "outputId": "12d6d5c0-1f60-4b99-c05e-5622b9dfc50a"
      },
      "source": [
        "metric = load_metric(\"rouge\")"
      ],
      "execution_count": 5,
      "outputs": [
        {
          "output_type": "display_data",
          "data": {
            "application/vnd.jupyter.widget-view+json": {
              "model_id": "f55ba662446b4cc9934950bc0a50022c",
              "version_minor": 0,
              "version_major": 2
            },
            "text/plain": [
              "Downloading:   0%|          | 0.00/2.17k [00:00<?, ?B/s]"
            ]
          },
          "metadata": {}
        }
      ]
    },
    {
      "cell_type": "code",
      "metadata": {
        "id": "cK0r6phOtgAS"
      },
      "source": [
        "def rouge_function(labels,summary_ids,tar_tokenizer):\n",
        "    \n",
        "    pred_list = [tar_tokenizer.convert_tokens_to_string(tar_tokenizer.convert_ids_to_tokens(g.to('cpu').tolist(),skip_special_tokens=True)[1:-1]) for g in summary_ids]\n",
        "\n",
        "    real_list = [tar_tokenizer.convert_tokens_to_string(tar_tokenizer.convert_ids_to_tokens(g.to('cpu').tolist(),skip_special_tokens=True)[1:-1]) for g in labels]\n",
        "\n",
        "    result = metric.compute(predictions=pred_list,references=real_list)\n",
        "\n",
        "    metric_result = {key:value.mid.fmeasure for key,value in result.items()}\n",
        "\n",
        "    return metric_result['rouge1'],metric_result['rouge2'],metric_result['rougeL']"
      ],
      "execution_count": 7,
      "outputs": []
    },
    {
      "cell_type": "markdown",
      "metadata": {
        "id": "f2rb9M1HdFni"
      },
      "source": [
        "## load train data"
      ]
    },
    {
      "cell_type": "code",
      "metadata": {
        "id": "LXcRnQ1YOCvJ"
      },
      "source": [
        "DIR = \"/content/drive/MyDrive/data/\"\n",
        "TRAIN_SOURCE = os.path.join(DIR, \"train_original3.json\")\n",
        "VALID_SOURCE = os.path.join(DIR, \"vaild_original3.json\")"
      ],
      "execution_count": 8,
      "outputs": []
    },
    {
      "cell_type": "code",
      "metadata": {
        "id": "A1VT1MFZdZOT"
      },
      "source": [
        "with open(TRAIN_SOURCE) as f:\n",
        "    TRAIN_DATA = json.loads(f.read())\n",
        "    \n",
        "with open(VALID_SOURCE) as f:\n",
        "    VALID_DATA = json.loads(f.read())"
      ],
      "execution_count": 9,
      "outputs": []
    },
    {
      "cell_type": "markdown",
      "metadata": {
        "id": "Cab0Hcz4ikTv"
      },
      "source": [
        "## create train data"
      ]
    },
    {
      "cell_type": "code",
      "metadata": {
        "colab": {
          "base_uri": "https://localhost:8080/"
        },
        "id": "fsPq0zmQBt54",
        "outputId": "076e52ec-7e74-4f0b-ac1f-f9a602ae2c1e"
      },
      "source": [
        "train_document = TRAIN_DATA['documents']\n",
        "\n",
        "len(train_document)"
      ],
      "execution_count": 9,
      "outputs": [
        {
          "output_type": "execute_result",
          "data": {
            "text/plain": [
              "271093"
            ]
          },
          "metadata": {},
          "execution_count": 9
        }
      ]
    },
    {
      "cell_type": "markdown",
      "metadata": {
        "id": "RnzehIRJSIgE"
      },
      "source": [
        "## create data1"
      ]
    },
    {
      "cell_type": "code",
      "metadata": {
        "colab": {
          "base_uri": "https://localhost:8080/"
        },
        "id": "6I8Amgx1iMVd",
        "outputId": "21a36f46-ba89-49d1-c58e-0e1fb996f3b5"
      },
      "source": [
        "train = pd.DataFrame(columns=['id', 'context', 'extractive', 'summary'])\n",
        "\n",
        "train_document = TRAIN_DATA['documents']\n",
        "\n",
        "id = 0\n",
        "\n",
        "for data in tqdm(train_document):\n",
        "    \n",
        "    id, abstractive, extractive, texts = data['id'], data['abstractive'], data['extractive'], data['text']\n",
        "\n",
        "    context = ''\n",
        "\n",
        "    extract_context = ''\n",
        "\n",
        "    for text in texts[0]:\n",
        "        context += text['sentence']\n",
        "\n",
        "        if text['index'] in extractive:\n",
        "            extract_context += text['sentence']\n",
        "    \n",
        "\n",
        "    train.loc[id, 'id'] = id\n",
        "    train.loc[id, 'context'] = context\n",
        "    train.loc[id, 'extractive'] = extract_context\n",
        "    train.loc[id, 'summary'] = abstractive[0]\n",
        "\n",
        "    id += 1"
      ],
      "execution_count": 35,
      "outputs": [
        {
          "output_type": "stream",
          "name": "stderr",
          "text": [
            "100%|██████████| 15000/15000 [01:45<00:00, 142.80it/s]\n"
          ]
        }
      ]
    },
    {
      "cell_type": "code",
      "metadata": {
        "colab": {
          "base_uri": "https://localhost:8080/",
          "height": 287
        },
        "id": "RAFmgCwDlrR8",
        "outputId": "fad191ac-ad59-4719-e6f3-b368be118126"
      },
      "source": [
        "train.head()"
      ],
      "execution_count": 22,
      "outputs": [
        {
          "output_type": "execute_result",
          "data": {
            "text/html": [
              "<div>\n",
              "<style scoped>\n",
              "    .dataframe tbody tr th:only-of-type {\n",
              "        vertical-align: middle;\n",
              "    }\n",
              "\n",
              "    .dataframe tbody tr th {\n",
              "        vertical-align: top;\n",
              "    }\n",
              "\n",
              "    .dataframe thead th {\n",
              "        text-align: right;\n",
              "    }\n",
              "</style>\n",
              "<table border=\"1\" class=\"dataframe\">\n",
              "  <thead>\n",
              "    <tr style=\"text-align: right;\">\n",
              "      <th></th>\n",
              "      <th>id</th>\n",
              "      <th>context</th>\n",
              "      <th>extractive</th>\n",
              "      <th>summary</th>\n",
              "    </tr>\n",
              "  </thead>\n",
              "  <tbody>\n",
              "    <tr>\n",
              "      <th>345236344</th>\n",
              "      <td>345236344</td>\n",
              "      <td>김범수안산시의회 의원연구단체 현문답 팀이 의회 대회의실에서 공동주택 층간소음 분쟁해...</td>\n",
              "      <td></td>\n",
              "      <td>안산시의회 의원연구단체'현문답'팀이 지난 14일 의회 대의원실에서 '층간소음이웃사이...</td>\n",
              "    </tr>\n",
              "    <tr>\n",
              "      <th>342918159</th>\n",
              "      <td>342918159</td>\n",
              "      <td>안인득 사건 이후 불안 확산 여파…사회적응 돕는 가정 개관 앞두고 금곡동 주민 “운...</td>\n",
              "      <td></td>\n",
              "      <td>정신질환자의 강력범죄·자해 등의 영향으로 사람들이 불안에 떨고 있는 가운데, 부산 ...</td>\n",
              "    </tr>\n",
              "    <tr>\n",
              "      <th>364507062</th>\n",
              "      <td>364507062</td>\n",
              "      <td>자격증 교육기관 '한국장학진흥원'이 병원코디네이터 자격증 교육에 필요한 인강 수강료...</td>\n",
              "      <td>자격증 교육기관 '한국장학진흥원'이 병원코디네이터 자격증 교육에 필요한 인강 수강료...</td>\n",
              "      <td>한국장학진흥원이 병원코디네이터 자격증 교육에 필요한 인강 수강료와 시험 응시료를 선...</td>\n",
              "    </tr>\n",
              "    <tr>\n",
              "      <th>336606376</th>\n",
              "      <td>336606376</td>\n",
              "      <td>한국예탁결제원은 크라우드펀딩 성공기업 10개사와 함께 이스라엘 예루살렘에서 열린 '...</td>\n",
              "      <td>한국예탁결제원은 크라우드펀딩 성공기업 10개사와 함께 이스라엘 예루살렘에서 열린 '...</td>\n",
              "      <td>한국예탁결제원은 7일 이스라엘 예루살렘에서 개최 된 '2019 아워크라우드 글로벌 ...</td>\n",
              "    </tr>\n",
              "    <tr>\n",
              "      <th>303952095</th>\n",
              "      <td>303952095</td>\n",
              "      <td>유아~성인, 다양한 목공체험 가능</td>\n",
              "      <td></td>\n",
              "      <td>지난 1일 백운산자연휴양림 내에 체험실, 전문 목공실, 놀이터, 전시실 등의 시설이...</td>\n",
              "    </tr>\n",
              "  </tbody>\n",
              "</table>\n",
              "</div>"
            ],
            "text/plain": [
              "                  id  ...                                            summary\n",
              "345236344  345236344  ...  안산시의회 의원연구단체'현문답'팀이 지난 14일 의회 대의원실에서 '층간소음이웃사이...\n",
              "342918159  342918159  ...  정신질환자의 강력범죄·자해 등의 영향으로 사람들이 불안에 떨고 있는 가운데, 부산 ...\n",
              "364507062  364507062  ...  한국장학진흥원이 병원코디네이터 자격증 교육에 필요한 인강 수강료와 시험 응시료를 선...\n",
              "336606376  336606376  ...  한국예탁결제원은 7일 이스라엘 예루살렘에서 개최 된 '2019 아워크라우드 글로벌 ...\n",
              "303952095  303952095  ...  지난 1일 백운산자연휴양림 내에 체험실, 전문 목공실, 놀이터, 전시실 등의 시설이...\n",
              "\n",
              "[5 rows x 4 columns]"
            ]
          },
          "metadata": {},
          "execution_count": 22
        }
      ]
    },
    {
      "cell_type": "markdown",
      "metadata": {
        "id": "N-ClwbgFSMVs"
      },
      "source": [
        "## create data3"
      ]
    },
    {
      "cell_type": "code",
      "metadata": {
        "colab": {
          "base_uri": "https://localhost:8080/"
        },
        "id": "Mxw13D8LQbJN",
        "outputId": "1f7b3cfb-53c6-44ae-8dae-91013748b084"
      },
      "source": [
        "train = pd.DataFrame(columns=['id', 'context', 'extractive', 'summary'])\n",
        "\n",
        "#train_document = TRAIN_DATA['documents']\n",
        "\n",
        "train_document = np.random.choice(TRAIN_DATA['documents'],15000)\n",
        "\n",
        "id = 0\n",
        "\n",
        "for data in tqdm(train_document):\n",
        "    \n",
        "    abstractive, extractive, texts = data['abstractive'], data['extractive'], data['text']\n",
        "\n",
        "    context = ''\n",
        "\n",
        "    extract_context = ''\n",
        "\n",
        "    for text in texts:\n",
        "        for sentence in text:\n",
        "            context += sentence['sentence']\n",
        "\n",
        "            if sentence['index'] in extractive:\n",
        "                extract_context += sentence['sentence']\n",
        "    \n",
        "\n",
        "    train.loc[id, 'id'] = id\n",
        "    train.loc[id, 'context'] = context\n",
        "    train.loc[id, 'extractive'] = extract_context\n",
        "    train.loc[id, 'summary'] = abstractive[0]\n",
        "\n",
        "    id += 1"
      ],
      "execution_count": 10,
      "outputs": [
        {
          "output_type": "stream",
          "name": "stderr",
          "text": [
            "100%|██████████| 15000/15000 [00:40<00:00, 368.27it/s]\n"
          ]
        }
      ]
    },
    {
      "cell_type": "code",
      "metadata": {
        "colab": {
          "base_uri": "https://localhost:8080/",
          "height": 287
        },
        "id": "a3K5LagbDWyw",
        "outputId": "f7d47d32-3aec-4b3d-8ca8-83d57508e88e"
      },
      "source": [
        "train.head()"
      ],
      "execution_count": 11,
      "outputs": [
        {
          "output_type": "execute_result",
          "data": {
            "text/html": [
              "<div>\n",
              "<style scoped>\n",
              "    .dataframe tbody tr th:only-of-type {\n",
              "        vertical-align: middle;\n",
              "    }\n",
              "\n",
              "    .dataframe tbody tr th {\n",
              "        vertical-align: top;\n",
              "    }\n",
              "\n",
              "    .dataframe thead th {\n",
              "        text-align: right;\n",
              "    }\n",
              "</style>\n",
              "<table border=\"1\" class=\"dataframe\">\n",
              "  <thead>\n",
              "    <tr style=\"text-align: right;\">\n",
              "      <th></th>\n",
              "      <th>id</th>\n",
              "      <th>context</th>\n",
              "      <th>extractive</th>\n",
              "      <th>summary</th>\n",
              "    </tr>\n",
              "  </thead>\n",
              "  <tbody>\n",
              "    <tr>\n",
              "      <th>0</th>\n",
              "      <td>0</td>\n",
              "      <td>신세계아이앤씨가 경기 김포 데이터센터에 국내 최초의 자동결제 셀프매장을 선보인다.모...</td>\n",
              "      <td>신세계아이앤씨(대표 김장욱)는 경기 김포 데이터센터에 미래형 셀프매장을 구축, 임직...</td>\n",
              "      <td>신세계아이앤씨는 경기 김포 데이터센터에 국내 최초로 자동결제 기술인 '저스트 워크 ...</td>\n",
              "    </tr>\n",
              "    <tr>\n",
              "      <th>1</th>\n",
              "      <td>1</td>\n",
              "      <td>8월 초 급락세를 딛고 중화권 지수가 반등하면서 이와 연동되는 중국 상장지수펀드(E...</td>\n",
              "      <td>8월 초 급락세를 딛고 중화권 지수가 반등하면서 이와 연동되는 중국 상장지수펀드(E...</td>\n",
              "      <td>8월 초 급락세를 딛고 중화권 지수가 반등하면서 홍콩 시위 장기화에 따른 금융시장 ...</td>\n",
              "    </tr>\n",
              "    <tr>\n",
              "      <th>2</th>\n",
              "      <td>2</td>\n",
              "      <td>한국경제신문과 한경닷컴이 오는 26일 서울 논현동 건설회관에서 '2019 부동산 시...</td>\n",
              "      <td>한국경제신문과 한경닷컴이 오는 26일 서울 논현동 건설회관에서 '2019 부동산 시...</td>\n",
              "      <td>28일 논현동 건설회관에서 아파트 가격에 대한 다양한 견해를 가진 전문가들이 초청되...</td>\n",
              "    </tr>\n",
              "    <tr>\n",
              "      <th>3</th>\n",
              "      <td>3</td>\n",
              "      <td>부대 차원 환영행사 개최…수령절차 거쳐 4~5월께 전력화연말까지 10여대 도착할듯…...</td>\n",
              "      <td>우리 공군이 운용하게 될 스텔스 전투기 F-35A 2대가 29일 오후 2시 청주 공...</td>\n",
              "      <td>우리 공군이 미국 현지에서 인수한 스텔스 전투기 F-35A 6대 중 2대가 29일...</td>\n",
              "    </tr>\n",
              "    <tr>\n",
              "      <th>4</th>\n",
              "      <td>4</td>\n",
              "      <td>[부산=환경일보] 권영길 기자 = 부산시교육청은 부산지역 모든 초등학교 1학년 학생...</td>\n",
              "      <td>[부산=환경일보] 권영길 기자 = 부산시교육청은 부산지역 모든 초등학교 1학년 학생...</td>\n",
              "      <td>부산교육청은 초등학교 1학년 학생들에게 가방 안전덮개 3만개를 공급하였으며, 이는 ...</td>\n",
              "    </tr>\n",
              "  </tbody>\n",
              "</table>\n",
              "</div>"
            ],
            "text/plain": [
              "  id  ...                                            summary\n",
              "0  0  ...  신세계아이앤씨는 경기 김포 데이터센터에 국내 최초로 자동결제 기술인 '저스트 워크 ...\n",
              "1  1  ...  8월 초 급락세를 딛고 중화권 지수가 반등하면서 홍콩 시위 장기화에 따른 금융시장 ...\n",
              "2  2  ...  28일 논현동 건설회관에서 아파트 가격에 대한 다양한 견해를 가진 전문가들이 초청되...\n",
              "3  3  ...   우리 공군이 미국 현지에서 인수한 스텔스 전투기 F-35A 6대 중 2대가 29일...\n",
              "4  4  ...  부산교육청은 초등학교 1학년 학생들에게 가방 안전덮개 3만개를 공급하였으며, 이는 ...\n",
              "\n",
              "[5 rows x 4 columns]"
            ]
          },
          "metadata": {},
          "execution_count": 11
        }
      ]
    },
    {
      "cell_type": "code",
      "metadata": {
        "colab": {
          "base_uri": "https://localhost:8080/",
          "height": 53
        },
        "id": "w9QaZGG5l6qK",
        "outputId": "cf0d36b1-76fd-4ca1-e98d-6c8186cd8972"
      },
      "source": [
        "train['summary'][0]"
      ],
      "execution_count": 26,
      "outputs": [
        {
          "output_type": "execute_result",
          "data": {
            "application/vnd.google.colaboratory.intrinsic+json": {
              "type": "string"
            },
            "text/plain": [
              "'지난 28일 민주노총 건설노조 울산건설기계지부 간부들이 레미콘 운송료 인상을 요구하며 고공 농성에 돌입한 가운데 4만5000원에서 5만원으로 운송료를 인상해달라고 요구했으나 이를 거부하자 파업에 돌입했다.'"
            ]
          },
          "metadata": {},
          "execution_count": 26
        }
      ]
    },
    {
      "cell_type": "code",
      "metadata": {
        "colab": {
          "base_uri": "https://localhost:8080/"
        },
        "id": "YLxxYd2ASQEJ",
        "outputId": "ad937ac9-8def-47ef-e5ed-b0e7ea04aa3c"
      },
      "source": [
        "valid_document = VALID_DATA['documents']\n",
        "\n",
        "len(valid_document)"
      ],
      "execution_count": 28,
      "outputs": [
        {
          "output_type": "execute_result",
          "data": {
            "text/plain": [
              "30122"
            ]
          },
          "metadata": {},
          "execution_count": 28
        }
      ]
    },
    {
      "cell_type": "code",
      "metadata": {
        "colab": {
          "base_uri": "https://localhost:8080/"
        },
        "id": "r7hZforpm6bc",
        "outputId": "9e22c6b7-cf50-4550-fbae-b98d3dfddea7"
      },
      "source": [
        "valid = pd.DataFrame(columns=['id', 'context', 'extractive', 'summary'])\n",
        "\n",
        "#train_document = TRAIN_DATA['documents']\n",
        "\n",
        "valid_document = np.random.choice(TRAIN_DATA['documents'],1500)\n",
        "\n",
        "id = 0\n",
        "\n",
        "for data in tqdm(valid_document):\n",
        "    \n",
        "    abstractive, extractive, texts = data['abstractive'], data['extractive'], data['text']\n",
        "\n",
        "    context = ''\n",
        "\n",
        "    extract_context = ''\n",
        "\n",
        "    for text in texts:\n",
        "        for sentence in text:\n",
        "            context += sentence['sentence']\n",
        "\n",
        "            if sentence['index'] in extractive:\n",
        "                extract_context += sentence['sentence']\n",
        "    \n",
        "\n",
        "    valid.loc[id, 'id'] = id\n",
        "    valid.loc[id, 'context'] = context\n",
        "    valid.loc[id, 'extractive'] = extract_context\n",
        "    valid.loc[id, 'summary'] = abstractive[0]\n",
        "\n",
        "    id += 1"
      ],
      "execution_count": 12,
      "outputs": [
        {
          "output_type": "stream",
          "name": "stderr",
          "text": [
            "100%|██████████| 1500/1500 [00:02<00:00, 672.46it/s]\n"
          ]
        }
      ]
    },
    {
      "cell_type": "code",
      "metadata": {
        "colab": {
          "base_uri": "https://localhost:8080/",
          "height": 287
        },
        "id": "vuEeq1uNnW_9",
        "outputId": "060e3b84-f25f-471c-97a0-52859603f221"
      },
      "source": [
        "valid.head()"
      ],
      "execution_count": 13,
      "outputs": [
        {
          "output_type": "execute_result",
          "data": {
            "text/html": [
              "<div>\n",
              "<style scoped>\n",
              "    .dataframe tbody tr th:only-of-type {\n",
              "        vertical-align: middle;\n",
              "    }\n",
              "\n",
              "    .dataframe tbody tr th {\n",
              "        vertical-align: top;\n",
              "    }\n",
              "\n",
              "    .dataframe thead th {\n",
              "        text-align: right;\n",
              "    }\n",
              "</style>\n",
              "<table border=\"1\" class=\"dataframe\">\n",
              "  <thead>\n",
              "    <tr style=\"text-align: right;\">\n",
              "      <th></th>\n",
              "      <th>id</th>\n",
              "      <th>context</th>\n",
              "      <th>extractive</th>\n",
              "      <th>summary</th>\n",
              "    </tr>\n",
              "  </thead>\n",
              "  <tbody>\n",
              "    <tr>\n",
              "      <th>0</th>\n",
              "      <td>0</td>\n",
              "      <td>편의점 CU를 운영하는 BGF리테일이 중소협력사와 함께 '2019 하반기 한마음 힐...</td>\n",
              "      <td>편의점 CU를 운영하는 BGF리테일이 중소협력사와 함께 '2019 하반기 한마음 힐...</td>\n",
              "      <td>25일 편의점 CU를 운영하는 BGF리테일이 2014년부터 중소협력사와의 소통을 위...</td>\n",
              "    </tr>\n",
              "    <tr>\n",
              "      <th>1</th>\n",
              "      <td>1</td>\n",
              "      <td>데이터 교통량 폭증시키는데 설비증설 부담은 통신사에망 사용료 내면서 경쟁해야 하는 ...</td>\n",
              "      <td>최근 구글(유튜브)이나 넷플릭스 같은 글로벌 콘텐츠 사업자(이하 CP)가 국내에서 ...</td>\n",
              "      <td>최근  글로벌 콘텐츠 사업자(이하 CP)가 국내에서 영향력이 커지면서 국내에서도 안...</td>\n",
              "    </tr>\n",
              "    <tr>\n",
              "      <th>2</th>\n",
              "      <td>2</td>\n",
              "      <td>유정희인천시교육청이 과밀학급 해소를 위해 교육부에 '학교신설 기준' 등 제도개선을 ...</td>\n",
              "      <td>인천시교육청이 과밀학급 해소를 위해 교육부에 '학교신설 기준' 등 제도개선을 촉구하...</td>\n",
              "      <td>인천시 교육청은 신도시 학생들이 과도하게 모여 학습권을 침해받고 있다고 판단해 16...</td>\n",
              "    </tr>\n",
              "    <tr>\n",
              "      <th>3</th>\n",
              "      <td>3</td>\n",
              "      <td>현대제철이 올해 3분기 중국 사업 부진과 원자재 가격을 제때 반영하지 못하면서 증권...</td>\n",
              "      <td>현대제철이 올해 3분기 중국 사업 부진과 원자재 가격을 제때 반영하지 못하면서 증권...</td>\n",
              "      <td>현대제철이 증권가 전망치를 훨씬 밑도는 '어닝 쇼크'를 기록하면서 원가절감 등 '마...</td>\n",
              "    </tr>\n",
              "    <tr>\n",
              "      <th>4</th>\n",
              "      <td>4</td>\n",
              "      <td>[이데일리 노희준 기자] '밀실협정' 논란이 제기됐던 한일 군사정보보호협정의 협상 ...</td>\n",
              "      <td>대법원 제1부(주심 박정화 대법관)은 참여연대가 외교부를 상대로 낸 정보공개거부 취...</td>\n",
              "      <td>정부가 지난 2012년 6월 비공개 국무회의에서 통과시킨 한일 군사정보보호협정에 대...</td>\n",
              "    </tr>\n",
              "  </tbody>\n",
              "</table>\n",
              "</div>"
            ],
            "text/plain": [
              "  id  ...                                            summary\n",
              "0  0  ...  25일 편의점 CU를 운영하는 BGF리테일이 2014년부터 중소협력사와의 소통을 위...\n",
              "1  1  ...  최근  글로벌 콘텐츠 사업자(이하 CP)가 국내에서 영향력이 커지면서 국내에서도 안...\n",
              "2  2  ...  인천시 교육청은 신도시 학생들이 과도하게 모여 학습권을 침해받고 있다고 판단해 16...\n",
              "3  3  ...  현대제철이 증권가 전망치를 훨씬 밑도는 '어닝 쇼크'를 기록하면서 원가절감 등 '마...\n",
              "4  4  ...  정부가 지난 2012년 6월 비공개 국무회의에서 통과시킨 한일 군사정보보호협정에 대...\n",
              "\n",
              "[5 rows x 4 columns]"
            ]
          },
          "metadata": {},
          "execution_count": 13
        }
      ]
    },
    {
      "cell_type": "code",
      "metadata": {
        "colab": {
          "base_uri": "https://localhost:8080/"
        },
        "id": "tm0q9vOZopx4",
        "outputId": "57187cc1-b8e3-4451-9250-c699b31d7bec"
      },
      "source": [
        "train.shape , valid.shape"
      ],
      "execution_count": 14,
      "outputs": [
        {
          "output_type": "execute_result",
          "data": {
            "text/plain": [
              "((15000, 4), (1500, 4))"
            ]
          },
          "metadata": {},
          "execution_count": 14
        }
      ]
    },
    {
      "cell_type": "markdown",
      "metadata": {
        "id": "edXGYBLNb3Y0"
      },
      "source": [
        "## tokenizing using kobart"
      ]
    },
    {
      "cell_type": "code",
      "metadata": {
        "colab": {
          "base_uri": "https://localhost:8080/",
          "height": 250,
          "referenced_widgets": [
            "252b940cd6ce4c1ab652125be0585a37",
            "0ececd8b3f684f649299daf47a907631",
            "acc3cfb9573049a2a8d8725ff2597949",
            "9cba69236873452a888cf1c3b9eb9f98",
            "a8b0d68d0b8c48ec990c44af99b7e976",
            "ff4986c093524b56b05cd28e717e8c7b",
            "82815b88a946403b82c837087b4304bd",
            "9d7b8329ef4b43368b6e79e4f920a309",
            "46f73cdc02ef4888b23fb4b309174484",
            "bb4ca693c2184efbaf7d33da9cc2dc7e",
            "c431175a4ff94c8ea69f50d3596dec51",
            "469dde67ad0740b8835992bb57b96bb5",
            "d87dcb4f8d2b490c9a5d17f2416c16c2",
            "93460406c99647828b06cd082c65e94d",
            "06cadbcd63794b6e8e03e84eb6030452",
            "10eb146a71744fe78e49a92a75610213",
            "ec203acf45774205a90f039d41243a01",
            "2a9afe6c30064013a1770c74557da29d",
            "7aee1fa59a4148928892d5ddcb9f536d",
            "bc546577f2424d2681dd2400ef8ea118",
            "fa520f3e17a7472e853ec7eb9c5ff41e",
            "87b376b0a76e4e6ab2fbf9db0eb24af7",
            "170f3a3e16014e4c9becf79e2ad41f2b",
            "ca4d29c1b95b49a69dbe9150f4c6e094",
            "bac17024000c40949e4592db6dfa8a2e",
            "227f31ca118f4dff9aa07d2543760104",
            "239e52a4e85740a8853dc5ee7a3e0664",
            "00b9726e582c4936b12ea133511517cf",
            "d04d3922bebb4b008447dd5a939565cd",
            "d67a3b092f394188b0e6c07c4d3b3b82",
            "7d1c5548ead141b698de4c22a8b63746",
            "212671be785048c88e6e56b4793f75fa",
            "ffd144985b4944e3876a9cbd787928f3",
            "a5d02f80fd7e444280177036afbed785",
            "b0817e5e5aff46d2ba4eb9fbb7e40ca4",
            "868314749d5e4a8c8cca3704676294b4",
            "48c54506b90343dfa761fbddf387590d",
            "b21277c91a83480bb04e6d72c302fea2",
            "de08947d932545938767b4970a313a7d",
            "278f35986d374717a7888ee50550f476",
            "870c19a8f3124375b19b0e331f7d0317",
            "34782960eb4042d59ad1a8fdcdf8d069",
            "cd9385b8f917423e8b67263e20cc9b8e",
            "42162a64dd414a3d8a0412be0d42dc7f",
            "831b672e706948ed813d3e84706a609f",
            "4a9d8ce60bf34d189c39eaad06795910",
            "94d4166128d546339fbd2bc6257750ae",
            "8aa27b88bb214d34a404e4ea9006488b",
            "9684396474804d79ad93ea3ce3b51189",
            "6024136f41e646c393e05afbdd83d35d",
            "f2a135f367c041b6916966572436b296",
            "ccfe7848853d406a94bb2c758696edcb",
            "0380d18a4c2a452c80ee09a4f34bd845",
            "c8427799d8b14801911b20981a6a1b4d",
            "68de6282442246608447fac0a9d4636d"
          ]
        },
        "id": "qjw2n3Hsb1n5",
        "outputId": "00a24c41-1827-4266-ba2d-9178c278c627"
      },
      "source": [
        "kobart_tokenizer = get_kobart_tokenizer()"
      ],
      "execution_count": 15,
      "outputs": [
        {
          "output_type": "display_data",
          "data": {
            "application/vnd.jupyter.widget-view+json": {
              "model_id": "252b940cd6ce4c1ab652125be0585a37",
              "version_minor": 0,
              "version_major": 2
            },
            "text/plain": [
              "Downloading:   0%|          | 0.00/2.00 [00:00<?, ?B/s]"
            ]
          },
          "metadata": {}
        },
        {
          "output_type": "display_data",
          "data": {
            "application/vnd.jupyter.widget-view+json": {
              "model_id": "469dde67ad0740b8835992bb57b96bb5",
              "version_minor": 0,
              "version_major": 2
            },
            "text/plain": [
              "Downloading:   0%|          | 0.00/85.0 [00:00<?, ?B/s]"
            ]
          },
          "metadata": {}
        },
        {
          "output_type": "display_data",
          "data": {
            "application/vnd.jupyter.widget-view+json": {
              "model_id": "170f3a3e16014e4c9becf79e2ad41f2b",
              "version_minor": 0,
              "version_major": 2
            },
            "text/plain": [
              "Downloading:   0%|          | 0.00/109 [00:00<?, ?B/s]"
            ]
          },
          "metadata": {}
        },
        {
          "output_type": "display_data",
          "data": {
            "application/vnd.jupyter.widget-view+json": {
              "model_id": "a5d02f80fd7e444280177036afbed785",
              "version_minor": 0,
              "version_major": 2
            },
            "text/plain": [
              "Downloading:   0%|          | 0.00/666k [00:00<?, ?B/s]"
            ]
          },
          "metadata": {}
        },
        {
          "output_type": "display_data",
          "data": {
            "application/vnd.jupyter.widget-view+json": {
              "model_id": "831b672e706948ed813d3e84706a609f",
              "version_minor": 0,
              "version_major": 2
            },
            "text/plain": [
              "Downloading:   0%|          | 0.00/1.08k [00:00<?, ?B/s]"
            ]
          },
          "metadata": {}
        },
        {
          "output_type": "stream",
          "name": "stderr",
          "text": [
            "The tokenizer class you load from this checkpoint is not the same type as the class this function is called from. It may result in unexpected tokenization. \n",
            "The tokenizer class you load from this checkpoint is 'BartTokenizer'. \n",
            "The class this function is called from is 'PreTrainedTokenizerFast'.\n"
          ]
        }
      ]
    },
    {
      "cell_type": "code",
      "metadata": {
        "id": "xvanBjE5cjDO"
      },
      "source": [
        "train_src = kobart_tokenizer(list(train.context), padding=True, truncation=True, max_length=500)\n",
        "val_src = kobart_tokenizer(list(valid.context), padding=True, truncation=True, max_length=500)\n",
        "\n",
        "train_tar = kobart_tokenizer(list(train.summary), padding=True, truncation=True, max_length=50)\n",
        "val_tar = kobart_tokenizer(list(valid.summary), padding=True, truncation=True, max_length=50)"
      ],
      "execution_count": 16,
      "outputs": []
    },
    {
      "cell_type": "code",
      "metadata": {
        "colab": {
          "base_uri": "https://localhost:8080/"
        },
        "id": "TafQabCjcH-p",
        "outputId": "1546b190-3c16-4ea7-9d19-007acaaa1b28"
      },
      "source": [
        "len(train_src['input_ids'])"
      ],
      "execution_count": 17,
      "outputs": [
        {
          "output_type": "execute_result",
          "data": {
            "text/plain": [
              "15000"
            ]
          },
          "metadata": {},
          "execution_count": 17
        }
      ]
    },
    {
      "cell_type": "markdown",
      "metadata": {
        "id": "sqP00b8dsOKy"
      },
      "source": [
        "## create torch dataset"
      ]
    },
    {
      "cell_type": "code",
      "metadata": {
        "id": "lhHvteomsQCc"
      },
      "source": [
        "class CustomDataset(Dataset):\n",
        "    def __init__(self, src_tokens, tar_tokens, mode='train'):\n",
        "        self.mode = mode\n",
        "        self.src_tokens = src_tokens\n",
        "        if self.mode == 'train':\n",
        "            self.tar_tokens = tar_tokens\n",
        "            \n",
        "    def __len__(self):\n",
        "        return len(self.src_tokens)\n",
        "    \n",
        "    def __getitem__(self, i):\n",
        "        src_token = self.src_tokens[i]\n",
        "        if self.mode == 'train':\n",
        "            tar_token = self.tar_tokens[i]\n",
        "            return {\n",
        "                'src_token' : torch.tensor(src_token, dtype=torch.long),\n",
        "                'tar_token' : torch.tensor(tar_token, dtype=torch.long),\n",
        "            }\n",
        "        else:\n",
        "            return {\n",
        "                'src_token' : torch.tensor(src_token, dtype=torch.long)\n",
        "            }"
      ],
      "execution_count": 18,
      "outputs": []
    },
    {
      "cell_type": "code",
      "metadata": {
        "id": "NJTQ6dpSsfYb"
      },
      "source": [
        "train_dataset = CustomDataset(train_src['input_ids'], train_tar['input_ids'])\n",
        "val_dataset = CustomDataset(val_src['input_ids'], val_tar['input_ids'])\n",
        "\n",
        "train_dataloader = torch.utils.data.DataLoader(train_dataset, batch_size=batch_size, num_workers=2, shuffle=True)\n",
        "val_dataloader = torch.utils.data.DataLoader(val_dataset, batch_size=batch_size, num_workers=2, shuffle=False)"
      ],
      "execution_count": 19,
      "outputs": []
    },
    {
      "cell_type": "markdown",
      "metadata": {
        "id": "7CL5b5hBtAIB"
      },
      "source": [
        "## load kobart model"
      ]
    },
    {
      "cell_type": "code",
      "metadata": {
        "id": "CtMVe79WtGjd"
      },
      "source": [
        "model = get_kobart_for_conditional_generation()"
      ],
      "execution_count": null,
      "outputs": []
    },
    {
      "cell_type": "code",
      "metadata": {
        "id": "N2HU_O8JtoR2"
      },
      "source": [
        "optimizer = torch.optim.Adam(model.parameters(), lr=learning_rate)"
      ],
      "execution_count": null,
      "outputs": []
    },
    {
      "cell_type": "markdown",
      "metadata": {
        "id": "wwEDpp6ntodP"
      },
      "source": [
        "## model train"
      ]
    },
    {
      "cell_type": "code",
      "metadata": {
        "id": "fqIqCC609IGt"
      },
      "source": [
        "# load trained model\n",
        "\n",
        "model = BartForConditionalGeneration.from_pretrained('/content/drive/MyDrive/data/model.pt')\n",
        "\n",
        "optimizer = torch.optim.Adam(model.parameters(), lr=learning_rate)"
      ],
      "execution_count": 20,
      "outputs": []
    },
    {
      "cell_type": "code",
      "metadata": {
        "id": "-ZnarapBtqBf"
      },
      "source": [
        "def train_step(model, batch_item, batch, training):\n",
        "    input_ids = batch_item['src_token'].to(device)\n",
        "    labels = batch_item['tar_token'].to(device)\n",
        "\n",
        "    inputs = {'input_ids':input_ids,\n",
        "                       'labels':labels}\n",
        "  \n",
        "    model.to(device)\n",
        "    \n",
        "    if training is True:\n",
        "        model.train()\n",
        "        optimizer.zero_grad()\n",
        "        with torch.cuda.amp.autocast():\n",
        "            loss = model(**inputs).loss\n",
        "            \n",
        "            summary_ids = model.generate(input_ids, num_beams=4, early_stopping=True)\n",
        "\n",
        "            rouge1,rouge2,rougeL = rouge_function(labels,summary_ids,kobart_tokenizer)\n",
        "\n",
        "        loss.backward()\n",
        "        optimizer.step()\n",
        "        lr = optimizer.param_groups[0][\"lr\"]\n",
        "        return loss, rouge1,rouge2,rougeL, round(lr, 10)\n",
        "    else:\n",
        "        model.eval()\n",
        "        with torch.no_grad():\n",
        "            loss = model(**inputs).loss\n",
        "\n",
        "            summary_ids = model.generate(input_ids, num_beams=4, early_stopping=True)\n",
        "\n",
        "            rouge1,rouge2,rougeL = rouge_function(labels,summary_ids,kobart_tokenizer)\n",
        "\n",
        "        return loss, rouge1,rouge2,rougeL"
      ],
      "execution_count": 21,
      "outputs": []
    },
    {
      "cell_type": "code",
      "metadata": {
        "colab": {
          "base_uri": "https://localhost:8080/"
        },
        "id": "hM-ynM3-ttuq",
        "outputId": "270ce09a-5c69-4a55-f39b-7ce041e8aca8"
      },
      "source": [
        "loss_plot, val_loss_plot = [], []\n",
        "total_rouge1_plot, total_rouge2_plot, total_rougeL_plot = [] , [] , []\n",
        "total_val_rouge1_plot, total_val_rouge2_plot, total_val_rougeL_plot = [] , [] , []\n",
        "\n",
        "for epoch in range(epochs):\n",
        "    gc.collect()\n",
        "    total_loss, total_val_loss = 0, 0\n",
        "\n",
        "    total_rouge1, total_rouge2, total_rougeL = 0,0,0\n",
        "\n",
        "    total_val_rouge1, total_val_rouge2, total_val_rougeL = 0,0,0\n",
        "    \n",
        "    tqdm_dataset = tqdm(enumerate(train_dataloader))\n",
        "    training = True\n",
        "    for batch, batch_item in tqdm_dataset:\n",
        "        batch_loss, rouge1,rouge2,rougeL, lr = train_step(model, batch_item, batch, training)\n",
        "        total_loss += batch_loss\n",
        "        total_rouge1 += rouge1\n",
        "        total_rouge2 += rouge2\n",
        "        total_rougeL += rougeL\n",
        "        \n",
        "        tqdm_dataset.set_postfix({\n",
        "            'Epoch': epoch + 1,\n",
        "            'LR' : lr,\n",
        "            'Loss': '{:06f}'.format(batch_loss.item()),\n",
        "            'Total Loss' : '{:06f}'.format(total_loss/(batch+1)),\n",
        "            'Total Rouge1' : total_rouge1/(batch+1), 'Total Rouge2' : total_rouge2/(batch+1), 'Total RougeL' : total_rougeL/(batch+1)\n",
        "        })\n",
        "    loss_plot.append(total_loss/(batch+1))\n",
        "    total_rouge1_plot.append(total_rouge1/(batch+1)) \n",
        "    total_rouge2_plot.append(total_rouge2/(batch+1))\n",
        "    total_rougeL_plot.append(total_rougeL/(batch+1))\n",
        "    \n",
        "    tqdm_dataset = tqdm(enumerate(val_dataloader))\n",
        "    training = False\n",
        "    for batch, batch_item in tqdm_dataset:\n",
        "        batch_loss, rouge1,rouge2,rougeL  = train_step(model, batch_item, batch, training)\n",
        "        total_val_loss += batch_loss\n",
        "        total_val_rouge1 += rouge1\n",
        "        total_val_rouge2 += rouge2\n",
        "        total_val_rougeL += rougeL\n",
        "        \n",
        "        tqdm_dataset.set_postfix({\n",
        "            'Epoch': epoch + 1,\n",
        "            'Val Loss': '{:06f}'.format(batch_loss.item()),\n",
        "            'Total Val Loss' : '{:06f}'.format(total_val_loss/(batch+1)),\n",
        "            'Total Rouge1' : total_val_rouge1/(batch+1), 'Total Rouge2' : total_val_rouge2/(batch+1), 'Total RougeL' : total_val_rougeL/(batch+1)\n",
        "          \n",
        "        })\n",
        "    val_loss_plot.append(total_val_loss/(batch+1))\n",
        "    total_val_rouge1_plot.append(total_val_rouge1/(batch+1)) \n",
        "    total_val_rouge2_plot.append(total_val_rouge2/(batch+1))\n",
        "    total_val_rougeL_plot.append(total_val_rougeL/(batch+1))"
      ],
      "execution_count": 22,
      "outputs": [
        {
          "output_type": "stream",
          "name": "stderr",
          "text": [
            "938it [2:50:56, 10.93s/it, Epoch=1, LR=0.0001, Loss=1.375162, Total Loss=1.617641, Total Rouge1=0.277, Total Rouge2=0.0877, Total RougeL=0.272]\n",
            "94it [04:06,  2.62s/it, Epoch=1, Val Loss=1.466393, Total Val Loss=1.500089, Total Rouge1=0.313, Total Rouge2=0.0901, Total RougeL=0.305]\n"
          ]
        }
      ]
    },
    {
      "cell_type": "code",
      "metadata": {
        "id": "TxwwIbuzyta5"
      },
      "source": [
        "# save trained model\n",
        "\n",
        "model.save_pretrained('/content/drive/MyDrive/data/model2.pt')"
      ],
      "execution_count": 23,
      "outputs": []
    },
    {
      "cell_type": "markdown",
      "metadata": {
        "id": "bmCKjoo3B_FF"
      },
      "source": [
        "## visualization"
      ]
    },
    {
      "cell_type": "code",
      "metadata": {
        "colab": {
          "base_uri": "https://localhost:8080/",
          "height": 279
        },
        "id": "oewH3ISGH6A_",
        "outputId": "f7705f4a-bb48-46c0-af34-15dceef6ce77"
      },
      "source": [
        "plt.plot(loss_plot, label='train_loss')\n",
        "plt.plot(val_loss_plot, label='val_loss')\n",
        "plt.xlabel('epoch')\n",
        "plt.ylabel('loss')\n",
        "plt.legend()\n",
        "plt.show()"
      ],
      "execution_count": null,
      "outputs": [
        {
          "output_type": "display_data",
          "data": {
            "image/png": "[encoded data removed]",
            "text/plain": [
              "<Figure size 432x288 with 1 Axes>"
            ]
          },
          "metadata": {
            "needs_background": "light"
          }
        }
      ]
    },
    {
      "cell_type": "code",
      "metadata": {
        "colab": {
          "base_uri": "https://localhost:8080/",
          "height": 279
        },
        "id": "lwyzd32nIJ9k",
        "outputId": "1d3b561d-5d1f-42e5-8994-158b2360db56"
      },
      "source": [
        "plt.plot(total_rouge1_plot, label='train_rouge1')\n",
        "plt.plot(total_val_rouge1_plot, label='val_rouge1')\n",
        "plt.xlabel('epoch')\n",
        "plt.ylabel('rouge1')\n",
        "plt.legend()\n",
        "plt.show()"
      ],
      "execution_count": null,
      "outputs": [
        {
          "output_type": "display_data",
          "data": {
            "image/png": "[encoded data removed]",
            "text/plain": [
              "<Figure size 432x288 with 1 Axes>"
            ]
          },
          "metadata": {
            "needs_background": "light"
          }
        }
      ]
    },
    {
      "cell_type": "code",
      "metadata": {
        "colab": {
          "base_uri": "https://localhost:8080/",
          "height": 279
        },
        "id": "4bswna6FIM2Y",
        "outputId": "a60490ef-f6c0-4fde-d791-e3e94400eaa2"
      },
      "source": [
        "plt.plot(total_rouge2_plot, label='train_rouge2')\n",
        "plt.plot(total_val_rouge2_plot, label='val_rouge2')\n",
        "plt.xlabel('epoch')\n",
        "plt.ylabel('rouge2')\n",
        "plt.legend()\n",
        "plt.show()"
      ],
      "execution_count": null,
      "outputs": [
        {
          "output_type": "display_data",
          "data": {
            "image/png": "[encoded data removed]",
            "text/plain": [
              "<Figure size 432x288 with 1 Axes>"
            ]
          },
          "metadata": {
            "needs_background": "light"
          }
        }
      ]
    },
    {
      "cell_type": "code",
      "metadata": {
        "colab": {
          "base_uri": "https://localhost:8080/",
          "height": 279
        },
        "id": "31JEAGQGIOqw",
        "outputId": "dd45e6fc-616f-4c33-f0c8-b68b5f8b16fc"
      },
      "source": [
        "plt.plot(total_rougeL_plot, label='train_rougeL')\n",
        "plt.plot(total_val_rougeL_plot, label='val_rougeL')\n",
        "plt.xlabel('epoch')\n",
        "plt.ylabel('rougeL')\n",
        "plt.legend()\n",
        "plt.show()"
      ],
      "execution_count": null,
      "outputs": [
        {
          "output_type": "display_data",
          "data": {
            "image/png": "[encoded data removed]",
            "text/plain": [
              "<Figure size 432x288 with 1 Axes>"
            ]
          },
          "metadata": {
            "needs_background": "light"
          }
        }
      ]
    },
    {
      "cell_type": "markdown",
      "metadata": {
        "id": "qFyolsyRKqdV"
      },
      "source": [
        "# 평가 데이터 로드"
      ]
    },
    {
      "cell_type": "code",
      "metadata": {
        "id": "bASHLKrbKqdW"
      },
      "source": [
        "with open('/content/test.jsonl', \"r\", encoding=\"utf-8\") as f:\n",
        "    jsonl = list(f)\n",
        "\n",
        "test_data = []\n",
        "for json_str in jsonl:\n",
        "    test_data.append(json.loads(json_str))\n",
        "    \n",
        "submission = pd.read_csv('/content/sample_submission.csv')"
      ],
      "execution_count": 24,
      "outputs": []
    },
    {
      "cell_type": "code",
      "metadata": {
        "id": "jtsa0L8mKqdX",
        "colab": {
          "base_uri": "https://localhost:8080/"
        },
        "outputId": "061d6e08-9119-439c-9a65-a7eb3bec5d85"
      },
      "source": [
        "test_data[0]"
      ],
      "execution_count": 25,
      "outputs": [
        {
          "output_type": "execute_result",
          "data": {
            "text/plain": [
              "{'article_original': ['한국은행이 지난달 기준금리를 추가 인하한 영향으로 대출금리가 일제 하락했다.',\n",
              "  '특히 기업대출금리는 1996년 관련 통계 집계 이후 가장 낮은 수준까지 하락했다.',\n",
              "  \"한국은행이 28일 발표한 '2019년 10월 중 금융기관 가중평균금리'에 따르면 신규취급액 기준 지난달 예금은행의 대출평균금리는 연 3.20%로 전월 대비 0.11%포인트 하락했다.\",\n",
              "  '대출금리를 기업과 가계로 나눠보면 기업대출금리 하락폭이 가팔랐다.',\n",
              "  '10월 기업대출금리는 연 3.28%로 전월 대비 0.14%포인트 떨어졌다.',\n",
              "  '연 3.28%는 1996년 1월 관련 통계 작성 이후 최저치다.',\n",
              "  '대기업의 경우 기준이 되는 단기지표 금리의 하락 영향으로 10월 대출금리가 연 3.13%로 전월 대비 0.17%포인트 빠졌다.',\n",
              "  '중소기업은 일부 은행의 저금리 대출 취급 등의 영향으로 연 3.39%로 0.11%포인트 하락했다.',\n",
              "  '한은 관계자는 \"지난달 기준금리가 인하되면서 단기 지표에 영향을 많이 받는 기업대출 금리도 역대 최저 수준으로 하락했다\"고 설명했다.',\n",
              "  '같은 기간 가계대출 금리도 하락했다.',\n",
              "  '10월 가계대출 금리는 연 3.01%로 전월 대비 0.01%포인트 하락했다.',\n",
              "  '같은 기간 주택담보대출 금리도 연 2.50%로 0.01%포인트 떨어졌다.',\n",
              "  '가계대출 금리의 경우 기업대출에 비해 장기지표 영향을 많이 받아 하락폭은 작았다.',\n",
              "  '한편 10월 중 비은행금융기관 예금금리(1년만기 정기예탁금 기준)는 모두 하락했고 대출금리(일반대출 기준)는 상호저축은행은 상승, 상호금융은 하락했다.'],\n",
              " 'id': '368851881',\n",
              " 'media': '아시아경제'}"
            ]
          },
          "metadata": {},
          "execution_count": 25
        }
      ]
    },
    {
      "cell_type": "markdown",
      "metadata": {
        "id": "eQ4WocHmJg3x"
      },
      "source": [
        "## create test dataset"
      ]
    },
    {
      "cell_type": "code",
      "metadata": {
        "colab": {
          "base_uri": "https://localhost:8080/"
        },
        "id": "VRzPyYoSJjCg",
        "outputId": "9e5c00f1-a7b0-44a5-9251-a362067555ff"
      },
      "source": [
        "test = pd.DataFrame(columns=['id', 'context'])\n",
        "\n",
        "for data in tqdm(test_data):\n",
        "    \n",
        "    id, texts = data['id'], data['article_original']\n",
        "\n",
        "    context = ''\n",
        "\n",
        "    for text in texts:\n",
        "        context += text\n",
        "    \n",
        "    test.loc[id, 'id'] = id\n",
        "    test.loc[id, 'context'] = context"
      ],
      "execution_count": 26,
      "outputs": [
        {
          "output_type": "stream",
          "name": "stderr",
          "text": [
            "100%|██████████| 4161/4161 [00:06<00:00, 676.47it/s]\n"
          ]
        }
      ]
    },
    {
      "cell_type": "code",
      "metadata": {
        "colab": {
          "base_uri": "https://localhost:8080/",
          "height": 203
        },
        "id": "bcHE6KrBKL7X",
        "outputId": "af55960b-20d8-42a5-92c0-5493e51f7c75"
      },
      "source": [
        "test.head()"
      ],
      "execution_count": 27,
      "outputs": [
        {
          "output_type": "execute_result",
          "data": {
            "text/html": [
              "<div>\n",
              "<style scoped>\n",
              "    .dataframe tbody tr th:only-of-type {\n",
              "        vertical-align: middle;\n",
              "    }\n",
              "\n",
              "    .dataframe tbody tr th {\n",
              "        vertical-align: top;\n",
              "    }\n",
              "\n",
              "    .dataframe thead th {\n",
              "        text-align: right;\n",
              "    }\n",
              "</style>\n",
              "<table border=\"1\" class=\"dataframe\">\n",
              "  <thead>\n",
              "    <tr style=\"text-align: right;\">\n",
              "      <th></th>\n",
              "      <th>id</th>\n",
              "      <th>context</th>\n",
              "    </tr>\n",
              "  </thead>\n",
              "  <tbody>\n",
              "    <tr>\n",
              "      <th>368851881</th>\n",
              "      <td>368851881</td>\n",
              "      <td>한국은행이 지난달 기준금리를 추가 인하한 영향으로 대출금리가 일제 하락했다.특히 기...</td>\n",
              "    </tr>\n",
              "    <tr>\n",
              "      <th>368352503</th>\n",
              "      <td>368352503</td>\n",
              "      <td>나기복 대한민국 무공수훈자회 사무국장 / 충남 장례선양단 팀장우리 충남장례선양단 지...</td>\n",
              "    </tr>\n",
              "    <tr>\n",
              "      <th>363605040</th>\n",
              "      <td>363605040</td>\n",
              "      <td>1929년 12월26일자 ‘180명 체포’ 등 3차례 보도동경주재기자, 일본정부 통...</td>\n",
              "    </tr>\n",
              "    <tr>\n",
              "      <th>352052205</th>\n",
              "      <td>352052205</td>\n",
              "      <td>백주희문재인 대통령은 9일 공공분야를 중심으로 한 공정문화 확산의 중요성을 강조했다...</td>\n",
              "    </tr>\n",
              "    <tr>\n",
              "      <th>338689235</th>\n",
              "      <td>338689235</td>\n",
              "      <td>5개 구장 중 4개 구장서 매진, 하루 최다 기록엔 58명 모자라2019년 프로야구...</td>\n",
              "    </tr>\n",
              "  </tbody>\n",
              "</table>\n",
              "</div>"
            ],
            "text/plain": [
              "                  id                                            context\n",
              "368851881  368851881  한국은행이 지난달 기준금리를 추가 인하한 영향으로 대출금리가 일제 하락했다.특히 기...\n",
              "368352503  368352503  나기복 대한민국 무공수훈자회 사무국장 / 충남 장례선양단 팀장우리 충남장례선양단 지...\n",
              "363605040  363605040  1929년 12월26일자 ‘180명 체포’ 등 3차례 보도동경주재기자, 일본정부 통...\n",
              "352052205  352052205  백주희문재인 대통령은 9일 공공분야를 중심으로 한 공정문화 확산의 중요성을 강조했다...\n",
              "338689235  338689235  5개 구장 중 4개 구장서 매진, 하루 최다 기록엔 58명 모자라2019년 프로야구..."
            ]
          },
          "metadata": {},
          "execution_count": 27
        }
      ]
    },
    {
      "cell_type": "code",
      "metadata": {
        "id": "RAyFCEJ390i2"
      },
      "source": [
        "test_src = kobart_tokenizer(list(test.context), padding=True, truncation=True, max_length=500)\n",
        "\n",
        "test_dataset = CustomDataset(test_src['input_ids'], None, 'test')\n",
        "test_dataloader = torch.utils.data.DataLoader(test_dataset, batch_size=batch_size, num_workers=2, shuffle=False)"
      ],
      "execution_count": 28,
      "outputs": []
    },
    {
      "cell_type": "markdown",
      "metadata": {
        "id": "ozABZ774KqdY"
      },
      "source": [
        "## 요약문 생성 및 제출\n",
        "\n",
        "자연어 생성 모델을 베이스라인으로 제공하기에 장시간의 학습시간을 필요로 하여 간단한 규칙기반 요약문 생성하였습니다.\n",
        "\n",
        "BART, GPT 등 자연어 생성 모델을 활용을 추천드리고 베이스라인은 데이터로드 부터 제출하는 과정의 용도로 참고해주시기 바랍니다."
      ]
    },
    {
      "cell_type": "code",
      "metadata": {
        "id": "reFHLsFwKzNc"
      },
      "source": [
        "def evaluate(model, tar_tokenizer, tokens):\n",
        "\n",
        "    summary_ids = model.generate(tokens, num_beams=4, early_stopping=True)\n",
        "\n",
        "    pred_list = [tar_tokenizer.convert_tokens_to_string(tar_tokenizer.convert_ids_to_tokens(g.to('cpu').tolist(), skip_special_tokens=True)[1:-1]) for g in summary_ids]\n",
        "\n",
        "    return pred_list"
      ],
      "execution_count": 29,
      "outputs": []
    },
    {
      "cell_type": "code",
      "metadata": {
        "colab": {
          "base_uri": "https://localhost:8080/"
        },
        "id": "A_qptRpTK00j",
        "outputId": "8252192f-0a52-4338-905e-6680fa85e6ff"
      },
      "source": [
        "tqdm_dataset = tqdm(enumerate(test_dataloader))\n",
        "\n",
        "preds = []\n",
        "\n",
        "model.eval()\n",
        "\n",
        "with torch.no_grad():\n",
        "\n",
        "    for batch, batch_item in tqdm_dataset:\n",
        "        output = evaluate(model, kobart_tokenizer, batch_item['src_token'].to(device))\n",
        "        preds.extend(output)"
      ],
      "execution_count": 30,
      "outputs": [
        {
          "output_type": "stream",
          "name": "stderr",
          "text": [
            "261it [07:17,  1.67s/it]\n"
          ]
        }
      ]
    },
    {
      "cell_type": "code",
      "metadata": {
        "id": "s6wjSzIaKqdY"
      },
      "source": [
        "for data,pred in zip(test_data,preds):\n",
        "    did = int(data['id'])\n",
        "    idx = submission[submission['id']==did].index\n",
        "    submission.loc[idx, 'summary'] = pred"
      ],
      "execution_count": 31,
      "outputs": []
    },
    {
      "cell_type": "code",
      "metadata": {
        "id": "MhUwIwhyKqdZ",
        "colab": {
          "base_uri": "https://localhost:8080/",
          "height": 417
        },
        "outputId": "0045e151-5783-4706-b23d-acec6bd8a7c3"
      },
      "source": [
        "submission"
      ],
      "execution_count": 32,
      "outputs": [
        {
          "output_type": "execute_result",
          "data": {
            "text/html": [
              "<div>\n",
              "<style scoped>\n",
              "    .dataframe tbody tr th:only-of-type {\n",
              "        vertical-align: middle;\n",
              "    }\n",
              "\n",
              "    .dataframe tbody tr th {\n",
              "        vertical-align: top;\n",
              "    }\n",
              "\n",
              "    .dataframe thead th {\n",
              "        text-align: right;\n",
              "    }\n",
              "</style>\n",
              "<table border=\"1\" class=\"dataframe\">\n",
              "  <thead>\n",
              "    <tr style=\"text-align: right;\">\n",
              "      <th></th>\n",
              "      <th>id</th>\n",
              "      <th>summary</th>\n",
              "    </tr>\n",
              "  </thead>\n",
              "  <tbody>\n",
              "    <tr>\n",
              "      <th>0</th>\n",
              "      <td>250366726</td>\n",
              "      <td>당진축협 사료공장 신축이 추진 중인 송악읍 가학리 2</td>\n",
              "    </tr>\n",
              "    <tr>\n",
              "      <th>1</th>\n",
              "      <td>251994086</td>\n",
              "      <td>남송 채규선 작가가 지난달 10일 당진문화재단 출판기념회를 갖고, '</td>\n",
              "    </tr>\n",
              "    <tr>\n",
              "      <th>2</th>\n",
              "      <td>252639804</td>\n",
              "      <td>아산시가 고향인 정상열 주무관은 지난 2002년부터 2년 동안 당진에서 군</td>\n",
              "    </tr>\n",
              "    <tr>\n",
              "      <th>3</th>\n",
              "      <td>252639915</td>\n",
              "      <td>진옥성결교회 교인 28명이 지난 16일부터 21일까지 스리랑카 보</td>\n",
              "    </tr>\n",
              "    <tr>\n",
              "      <th>4</th>\n",
              "      <td>253427793</td>\n",
              "      <td>당진시는 청년 문제를 결혼, 출산, 노인부양 등으로 이어지는 보편적 사회문제로</td>\n",
              "    </tr>\n",
              "    <tr>\n",
              "      <th>...</th>\n",
              "      <td>...</td>\n",
              "      <td>...</td>\n",
              "    </tr>\n",
              "    <tr>\n",
              "      <th>4156</th>\n",
              "      <td>372705621</td>\n",
              "      <td>울산경찰청은 31일 자정을 기준으로 '2020년 운전면허 행정처분 특별감</td>\n",
              "    </tr>\n",
              "    <tr>\n",
              "      <th>4157</th>\n",
              "      <td>372751633</td>\n",
              "      <td>배기성은 12월 31일 방송된 KBS 1TV 'TV는 사랑을 싣고'에 출연해 \"</td>\n",
              "    </tr>\n",
              "    <tr>\n",
              "      <th>4158</th>\n",
              "      <td>372770123</td>\n",
              "      <td>제주관광공사가 31일 발표한 '관광객 신용카드 매출 빅데이터 지역별 분석' 자료에 ...</td>\n",
              "    </tr>\n",
              "    <tr>\n",
              "      <th>4159</th>\n",
              "      <td>372779075</td>\n",
              "      <td>임실군 애향 장학회에 전달된 기탁금은 총 1억9,240</td>\n",
              "    </tr>\n",
              "    <tr>\n",
              "      <th>4160</th>\n",
              "      <td>372779090</td>\n",
              "      <td>지난달 30일 새롭게 취임한 북전주세무서 봉삼종 서장은 납세</td>\n",
              "    </tr>\n",
              "  </tbody>\n",
              "</table>\n",
              "<p>4161 rows × 2 columns</p>\n",
              "</div>"
            ],
            "text/plain": [
              "             id                                            summary\n",
              "0     250366726                      당진축협 사료공장 신축이 추진 중인 송악읍 가학리 2\n",
              "1     251994086             남송 채규선 작가가 지난달 10일 당진문화재단 출판기념회를 갖고, '\n",
              "2     252639804          아산시가 고향인 정상열 주무관은 지난 2002년부터 2년 동안 당진에서 군\n",
              "3     252639915               진옥성결교회 교인 28명이 지난 16일부터 21일까지 스리랑카 보\n",
              "4     253427793        당진시는 청년 문제를 결혼, 출산, 노인부양 등으로 이어지는 보편적 사회문제로\n",
              "...         ...                                                ...\n",
              "4156  372705621           울산경찰청은 31일 자정을 기준으로 '2020년 운전면허 행정처분 특별감\n",
              "4157  372751633       배기성은 12월 31일 방송된 KBS 1TV 'TV는 사랑을 싣고'에 출연해 \"\n",
              "4158  372770123  제주관광공사가 31일 발표한 '관광객 신용카드 매출 빅데이터 지역별 분석' 자료에 ...\n",
              "4159  372779075                     임실군 애향 장학회에 전달된 기탁금은 총 1억9,240\n",
              "4160  372779090                  지난달 30일 새롭게 취임한 북전주세무서 봉삼종 서장은 납세\n",
              "\n",
              "[4161 rows x 2 columns]"
            ]
          },
          "metadata": {},
          "execution_count": 32
        }
      ]
    },
    {
      "cell_type": "code",
      "metadata": {
        "id": "m2e_auUoKqda"
      },
      "source": [
        "submission.to_csv('/content/baseline.csv', index=False)"
      ],
      "execution_count": 33,
      "outputs": []
    }
  ]
}
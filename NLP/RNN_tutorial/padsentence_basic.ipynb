{
  "nbformat": 4,
  "nbformat_minor": 0,
  "metadata": {
    "colab": {
      "provenance": []
    },
    "kernelspec": {
      "name": "python3",
      "display_name": "Python 3"
    },
    "language_info": {
      "name": "python"
    }
  },
  "cells": [
    {
      "cell_type": "markdown",
      "source": [
        "#library"
      ],
      "metadata": {
        "id": "0gdpGzCU4Jno"
      }
    },
    {
      "cell_type": "code",
      "execution_count": null,
      "metadata": {
        "id": "frMRcoCR38-Y"
      },
      "outputs": [],
      "source": [
        "import torch\n",
        "import numpy as np\n",
        "\n",
        "from torch.nn.utils.rnn import pad_sequence, pack_sequence, pack_padded_sequence, pad_packed_sequence"
      ]
    },
    {
      "cell_type": "markdown",
      "source": [
        "# data"
      ],
      "metadata": {
        "id": "sQGgBLx04SCL"
      }
    },
    {
      "cell_type": "code",
      "source": [
        "data = ['hello world',\n",
        "        'midnight',\n",
        "        'calculation',\n",
        "        'path',\n",
        "        'short circuit']"
      ],
      "metadata": {
        "id": "TGpo_j2P4IyR"
      },
      "execution_count": null,
      "outputs": []
    },
    {
      "cell_type": "code",
      "source": [
        "char_set = ['<pad>'] + list(set(char for seq in data for char in seq))\n",
        "\n",
        "char2idx = {char:idx for idx,char in enumerate(char_set)}\n",
        "\n",
        "print('char_set:', char_set)\n",
        "print('char_set length:', len(char_set))"
      ],
      "metadata": {
        "colab": {
          "base_uri": "https://localhost:8080/"
        },
        "id": "P3sMHtsu4Rmd",
        "outputId": "c782c189-33ed-462b-efbe-85932b63f8f6"
      },
      "execution_count": null,
      "outputs": [
        {
          "output_type": "stream",
          "name": "stdout",
          "text": [
            "char_set: ['<pad>', ' ', 'c', 'o', 'm', 'i', 'a', 'n', 'p', 'u', 'r', 'd', 't', 's', 'e', 'h', 'l', 'w', 'g']\n",
            "char_set length: 19\n"
          ]
        }
      ]
    },
    {
      "cell_type": "markdown",
      "source": [
        "# padding"
      ],
      "metadata": {
        "id": "k5fOK0bv4wXF"
      }
    },
    {
      "cell_type": "code",
      "source": [
        "x = [torch.LongTensor([char2idx[char] for char in seq]) for seq in data]\n",
        "\n",
        "for sequence in x:\n",
        "\n",
        "    print(sequence)"
      ],
      "metadata": {
        "colab": {
          "base_uri": "https://localhost:8080/"
        },
        "id": "8dm5prdr4ktD",
        "outputId": "4a5d26ee-1f27-42c1-cc4a-6e73557e3eec"
      },
      "execution_count": null,
      "outputs": [
        {
          "output_type": "stream",
          "name": "stdout",
          "text": [
            "tensor([15, 14, 16, 16,  3,  1, 17,  3, 10, 16, 11])\n",
            "tensor([ 4,  5, 11,  7,  5, 18, 15, 12])\n",
            "tensor([ 2,  6, 16,  2,  9, 16,  6, 12,  5,  3,  7])\n",
            "tensor([ 8,  6, 12, 15])\n",
            "tensor([13, 15,  3, 10, 12,  1,  2,  5, 10,  2,  9,  5, 12])\n"
          ]
        }
      ]
    },
    {
      "cell_type": "code",
      "source": [
        "lengths = [len(seq) for seq in x]\n",
        "\n",
        "print('lengths:', lengths)"
      ],
      "metadata": {
        "colab": {
          "base_uri": "https://localhost:8080/"
        },
        "id": "oJ1WYwaZ4tCm",
        "outputId": "24c14c33-3fcf-4dbd-b03f-1079aeacc178"
      },
      "execution_count": null,
      "outputs": [
        {
          "output_type": "stream",
          "name": "stdout",
          "text": [
            "lengths: [11, 8, 11, 4, 13]\n"
          ]
        }
      ]
    },
    {
      "cell_type": "code",
      "source": [
        "padded_sequence = pad_sequence(x, batch_first = True)\n",
        "\n",
        "print(padded_sequence)\n",
        "print(padded_sequence.shape)"
      ],
      "metadata": {
        "colab": {
          "base_uri": "https://localhost:8080/"
        },
        "id": "fpm3D6ZU40Ii",
        "outputId": "41515844-0189-4eb3-a84e-6b4b8e13c415"
      },
      "execution_count": null,
      "outputs": [
        {
          "output_type": "stream",
          "name": "stdout",
          "text": [
            "tensor([[15, 14, 16, 16,  3,  1, 17,  3, 10, 16, 11,  0,  0],\n",
            "        [ 4,  5, 11,  7,  5, 18, 15, 12,  0,  0,  0,  0,  0],\n",
            "        [ 2,  6, 16,  2,  9, 16,  6, 12,  5,  3,  7,  0,  0],\n",
            "        [ 8,  6, 12, 15,  0,  0,  0,  0,  0,  0,  0,  0,  0],\n",
            "        [13, 15,  3, 10, 12,  1,  2,  5, 10,  2,  9,  5, 12]])\n",
            "torch.Size([5, 13])\n"
          ]
        }
      ]
    },
    {
      "cell_type": "code",
      "source": [],
      "metadata": {
        "id": "-wNG2E2A45mS"
      },
      "execution_count": null,
      "outputs": []
    },
    {
      "cell_type": "markdown",
      "source": [
        "# packing"
      ],
      "metadata": {
        "id": "_UJKS5QV5AeK"
      }
    },
    {
      "cell_type": "code",
      "source": [
        "sorted_idx = sorted(range(len(lengths)), key = lengths.__getitem__, reverse=True)\n",
        "\n",
        "sorted_x = [x[idx] for idx in sorted_idx]\n",
        "\n",
        "for sequence in sorted_x:\n",
        "\n",
        "    print(sequence)"
      ],
      "metadata": {
        "colab": {
          "base_uri": "https://localhost:8080/"
        },
        "id": "WPtFL3T_5BI6",
        "outputId": "90cc2f5b-1db8-4ceb-d65f-19d0ca1430f5"
      },
      "execution_count": null,
      "outputs": [
        {
          "output_type": "stream",
          "name": "stdout",
          "text": [
            "tensor([13, 15,  3, 10, 12,  1,  2,  5, 10,  2,  9,  5, 12])\n",
            "tensor([15, 14, 16, 16,  3,  1, 17,  3, 10, 16, 11])\n",
            "tensor([ 2,  6, 16,  2,  9, 16,  6, 12,  5,  3,  7])\n",
            "tensor([ 4,  5, 11,  7,  5, 18, 15, 12])\n",
            "tensor([ 8,  6, 12, 15])\n"
          ]
        }
      ]
    },
    {
      "cell_type": "code",
      "source": [
        "packed_sequence = pack_sequence(sorted_x)\n",
        "\n",
        "print(packed_sequence)"
      ],
      "metadata": {
        "colab": {
          "base_uri": "https://localhost:8080/"
        },
        "id": "6hQKJgNu5I9t",
        "outputId": "c05e0cf8-293e-4f1c-b4e2-adcfbb339d10"
      },
      "execution_count": null,
      "outputs": [
        {
          "output_type": "stream",
          "name": "stdout",
          "text": [
            "PackedSequence(data=tensor([13, 15,  2,  4,  8, 15, 14,  6,  5,  6,  3, 16, 16, 11, 12, 10, 16,  2,\n",
            "         7, 15, 12,  3,  9,  5,  1,  1, 16, 18,  2, 17,  6, 15,  5,  3, 12, 12,\n",
            "        10, 10,  5,  2, 16,  3,  9, 11,  7,  5, 12]), batch_sizes=tensor([5, 5, 5, 5, 4, 4, 4, 4, 3, 3, 3, 1, 1]), sorted_indices=None, unsorted_indices=None)\n"
          ]
        }
      ]
    },
    {
      "cell_type": "code",
      "source": [],
      "metadata": {
        "id": "QY09gtgE5UQu"
      },
      "execution_count": null,
      "outputs": []
    },
    {
      "cell_type": "markdown",
      "source": [
        "# RNN output"
      ],
      "metadata": {
        "id": "q21kd37T5Yiu"
      }
    },
    {
      "cell_type": "code",
      "source": [
        "eye = torch.eye(len(char_set))\n",
        "embedded_tensor = eye[padded_sequence]\n",
        "print(embedded_tensor.shape)"
      ],
      "metadata": {
        "colab": {
          "base_uri": "https://localhost:8080/"
        },
        "id": "2_2BLg8W5ZjO",
        "outputId": "d347901e-d96e-44ab-b5ea-7678264078f9"
      },
      "execution_count": null,
      "outputs": [
        {
          "output_type": "stream",
          "name": "stdout",
          "text": [
            "torch.Size([5, 13, 19])\n"
          ]
        }
      ]
    },
    {
      "cell_type": "code",
      "source": [
        "embedded_packed_seq = pack_sequence([eye[x[idx]] for idx in sorted_idx])\n",
        "print(embedded_packed_seq.data.shape)"
      ],
      "metadata": {
        "colab": {
          "base_uri": "https://localhost:8080/"
        },
        "id": "v_451FwL5eR0",
        "outputId": "ace571a9-38e0-4f5b-e36d-d2b953d5cd24"
      },
      "execution_count": null,
      "outputs": [
        {
          "output_type": "stream",
          "name": "stdout",
          "text": [
            "torch.Size([47, 19])\n"
          ]
        }
      ]
    },
    {
      "cell_type": "code",
      "source": [
        "rnn = torch.nn.RNN(input_size = len(char_set), hidden_size = 30, batch_first = True)"
      ],
      "metadata": {
        "id": "2sst8H9H5nKN"
      },
      "execution_count": null,
      "outputs": []
    },
    {
      "cell_type": "code",
      "source": [
        "rnn_output, hidden = rnn(embedded_tensor)\n",
        "\n",
        "print(rnn_output.shape)\n",
        "print(hidden.shape)"
      ],
      "metadata": {
        "colab": {
          "base_uri": "https://localhost:8080/"
        },
        "id": "bYiZ7emE5uSn",
        "outputId": "6eb1cd8a-6469-4ae8-f994-f7ee4e8f40ae"
      },
      "execution_count": null,
      "outputs": [
        {
          "output_type": "stream",
          "name": "stdout",
          "text": [
            "torch.Size([5, 13, 30])\n",
            "torch.Size([1, 5, 30])\n"
          ]
        }
      ]
    },
    {
      "cell_type": "code",
      "source": [
        "rnn_output, hidden = rnn(embedded_packed_seq)\n",
        "print(rnn_output.data.shape)\n",
        "print(hidden.data.shape)"
      ],
      "metadata": {
        "colab": {
          "base_uri": "https://localhost:8080/"
        },
        "id": "M9a3VgaK5zC8",
        "outputId": "0abdae9e-7ffe-47b2-90d3-b3b2d5649547"
      },
      "execution_count": null,
      "outputs": [
        {
          "output_type": "stream",
          "name": "stdout",
          "text": [
            "torch.Size([47, 30])\n",
            "torch.Size([1, 5, 30])\n"
          ]
        }
      ]
    },
    {
      "cell_type": "code",
      "source": [],
      "metadata": {
        "id": "NYxhXLk7551Q"
      },
      "execution_count": null,
      "outputs": []
    },
    {
      "cell_type": "markdown",
      "source": [
        "# unpacking"
      ],
      "metadata": {
        "id": "6MVT-E5G5-Bt"
      }
    },
    {
      "cell_type": "code",
      "source": [
        "unpacked_sequence, seq_lengths = pad_packed_sequence(embedded_packed_seq, batch_first = True)\n",
        "print(unpacked_sequence.shape)\n",
        "print(seq_lengths)"
      ],
      "metadata": {
        "colab": {
          "base_uri": "https://localhost:8080/"
        },
        "id": "Z5VCAmiI5-tG",
        "outputId": "bbaec791-e741-490b-8325-c29901a3fd16"
      },
      "execution_count": null,
      "outputs": [
        {
          "output_type": "stream",
          "name": "stdout",
          "text": [
            "torch.Size([5, 13, 19])\n",
            "tensor([13, 11, 11,  8,  4])\n"
          ]
        }
      ]
    },
    {
      "cell_type": "code",
      "source": [
        "embedded_padded_sequence = eye[pad_sequence(sorted_x, batch_first = True)]\n",
        "print(embedded_padded_sequence.shape)"
      ],
      "metadata": {
        "colab": {
          "base_uri": "https://localhost:8080/"
        },
        "id": "AisIaeAh6Gxj",
        "outputId": "ec7d5619-5001-4f57-d4c3-37b2453a97cb"
      },
      "execution_count": null,
      "outputs": [
        {
          "output_type": "stream",
          "name": "stdout",
          "text": [
            "torch.Size([5, 13, 19])\n"
          ]
        }
      ]
    },
    {
      "cell_type": "code",
      "source": [
        "sorted_lengths = sorted(lengths, reverse=True)\n",
        "\n",
        "new_packed_sequence = pack_padded_sequence(embedded_padded_sequence, sorted_lengths, batch_first = True)\n",
        "\n",
        "print(new_packed_sequence.data.shape)\n",
        "print(new_packed_sequence.batch_sizes)"
      ],
      "metadata": {
        "colab": {
          "base_uri": "https://localhost:8080/"
        },
        "id": "zf3POhSU6Nyg",
        "outputId": "1279bfee-9896-47f8-e09d-346883302d93"
      },
      "execution_count": null,
      "outputs": [
        {
          "output_type": "stream",
          "name": "stdout",
          "text": [
            "torch.Size([47, 19])\n",
            "tensor([5, 5, 5, 5, 4, 4, 4, 4, 3, 3, 3, 1, 1])\n"
          ]
        }
      ]
    },
    {
      "cell_type": "code",
      "source": [],
      "metadata": {
        "id": "CY-IEPLc6ZP1"
      },
      "execution_count": null,
      "outputs": []
    }
  ]
}
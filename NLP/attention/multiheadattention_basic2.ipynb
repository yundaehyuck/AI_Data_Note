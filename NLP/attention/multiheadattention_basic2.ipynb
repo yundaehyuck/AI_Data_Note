{
  "nbformat": 4,
  "nbformat_minor": 0,
  "metadata": {
    "colab": {
      "provenance": []
    },
    "kernelspec": {
      "name": "python3",
      "display_name": "Python 3"
    },
    "language_info": {
      "name": "python"
    },
    "widgets": {
      "application/vnd.jupyter.widget-state+json": {
        "cafe740014d1499387ff8464eb24ef25": {
          "model_module": "@jupyter-widgets/controls",
          "model_name": "HBoxModel",
          "model_module_version": "1.5.0",
          "state": {
            "_dom_classes": [],
            "_model_module": "@jupyter-widgets/controls",
            "_model_module_version": "1.5.0",
            "_model_name": "HBoxModel",
            "_view_count": null,
            "_view_module": "@jupyter-widgets/controls",
            "_view_module_version": "1.5.0",
            "_view_name": "HBoxView",
            "box_style": "",
            "children": [
              "IPY_MODEL_4ae96901ea10460695cf781298cf711e",
              "IPY_MODEL_cbcdff61992e4a45b0a9d69f0449f7d2",
              "IPY_MODEL_2a48b45eb1e74794bdb745c7e1789624"
            ],
            "layout": "IPY_MODEL_dad940625e0042fd9a6894018bde5133"
          }
        },
        "4ae96901ea10460695cf781298cf711e": {
          "model_module": "@jupyter-widgets/controls",
          "model_name": "HTMLModel",
          "model_module_version": "1.5.0",
          "state": {
            "_dom_classes": [],
            "_model_module": "@jupyter-widgets/controls",
            "_model_module_version": "1.5.0",
            "_model_name": "HTMLModel",
            "_view_count": null,
            "_view_module": "@jupyter-widgets/controls",
            "_view_module_version": "1.5.0",
            "_view_name": "HTMLView",
            "description": "",
            "description_tooltip": null,
            "layout": "IPY_MODEL_c067699190fc421da8ee1a8025d12df3",
            "placeholder": "​",
            "style": "IPY_MODEL_e5d2f3d3e02941ec98034bc2ea0f0b6d",
            "value": "100%"
          }
        },
        "cbcdff61992e4a45b0a9d69f0449f7d2": {
          "model_module": "@jupyter-widgets/controls",
          "model_name": "FloatProgressModel",
          "model_module_version": "1.5.0",
          "state": {
            "_dom_classes": [],
            "_model_module": "@jupyter-widgets/controls",
            "_model_module_version": "1.5.0",
            "_model_name": "FloatProgressModel",
            "_view_count": null,
            "_view_module": "@jupyter-widgets/controls",
            "_view_module_version": "1.5.0",
            "_view_name": "ProgressView",
            "bar_style": "success",
            "description": "",
            "description_tooltip": null,
            "layout": "IPY_MODEL_48f0f9c4937d4f92a582a95f511154bb",
            "max": 10,
            "min": 0,
            "orientation": "horizontal",
            "style": "IPY_MODEL_d9d249e2eab947d1ab1fd3a26d0c710f",
            "value": 10
          }
        },
        "2a48b45eb1e74794bdb745c7e1789624": {
          "model_module": "@jupyter-widgets/controls",
          "model_name": "HTMLModel",
          "model_module_version": "1.5.0",
          "state": {
            "_dom_classes": [],
            "_model_module": "@jupyter-widgets/controls",
            "_model_module_version": "1.5.0",
            "_model_name": "HTMLModel",
            "_view_count": null,
            "_view_module": "@jupyter-widgets/controls",
            "_view_module_version": "1.5.0",
            "_view_name": "HTMLView",
            "description": "",
            "description_tooltip": null,
            "layout": "IPY_MODEL_c7f60450f2424eeaac98911d27d6fa0b",
            "placeholder": "​",
            "style": "IPY_MODEL_fe37375426ce45aca27bfb357409639b",
            "value": " 10/10 [00:00&lt;00:00, 216.35it/s]"
          }
        },
        "dad940625e0042fd9a6894018bde5133": {
          "model_module": "@jupyter-widgets/base",
          "model_name": "LayoutModel",
          "model_module_version": "1.2.0",
          "state": {
            "_model_module": "@jupyter-widgets/base",
            "_model_module_version": "1.2.0",
            "_model_name": "LayoutModel",
            "_view_count": null,
            "_view_module": "@jupyter-widgets/base",
            "_view_module_version": "1.2.0",
            "_view_name": "LayoutView",
            "align_content": null,
            "align_items": null,
            "align_self": null,
            "border": null,
            "bottom": null,
            "display": null,
            "flex": null,
            "flex_flow": null,
            "grid_area": null,
            "grid_auto_columns": null,
            "grid_auto_flow": null,
            "grid_auto_rows": null,
            "grid_column": null,
            "grid_gap": null,
            "grid_row": null,
            "grid_template_areas": null,
            "grid_template_columns": null,
            "grid_template_rows": null,
            "height": null,
            "justify_content": null,
            "justify_items": null,
            "left": null,
            "margin": null,
            "max_height": null,
            "max_width": null,
            "min_height": null,
            "min_width": null,
            "object_fit": null,
            "object_position": null,
            "order": null,
            "overflow": null,
            "overflow_x": null,
            "overflow_y": null,
            "padding": null,
            "right": null,
            "top": null,
            "visibility": null,
            "width": null
          }
        },
        "c067699190fc421da8ee1a8025d12df3": {
          "model_module": "@jupyter-widgets/base",
          "model_name": "LayoutModel",
          "model_module_version": "1.2.0",
          "state": {
            "_model_module": "@jupyter-widgets/base",
            "_model_module_version": "1.2.0",
            "_model_name": "LayoutModel",
            "_view_count": null,
            "_view_module": "@jupyter-widgets/base",
            "_view_module_version": "1.2.0",
            "_view_name": "LayoutView",
            "align_content": null,
            "align_items": null,
            "align_self": null,
            "border": null,
            "bottom": null,
            "display": null,
            "flex": null,
            "flex_flow": null,
            "grid_area": null,
            "grid_auto_columns": null,
            "grid_auto_flow": null,
            "grid_auto_rows": null,
            "grid_column": null,
            "grid_gap": null,
            "grid_row": null,
            "grid_template_areas": null,
            "grid_template_columns": null,
            "grid_template_rows": null,
            "height": null,
            "justify_content": null,
            "justify_items": null,
            "left": null,
            "margin": null,
            "max_height": null,
            "max_width": null,
            "min_height": null,
            "min_width": null,
            "object_fit": null,
            "object_position": null,
            "order": null,
            "overflow": null,
            "overflow_x": null,
            "overflow_y": null,
            "padding": null,
            "right": null,
            "top": null,
            "visibility": null,
            "width": null
          }
        },
        "e5d2f3d3e02941ec98034bc2ea0f0b6d": {
          "model_module": "@jupyter-widgets/controls",
          "model_name": "DescriptionStyleModel",
          "model_module_version": "1.5.0",
          "state": {
            "_model_module": "@jupyter-widgets/controls",
            "_model_module_version": "1.5.0",
            "_model_name": "DescriptionStyleModel",
            "_view_count": null,
            "_view_module": "@jupyter-widgets/base",
            "_view_module_version": "1.2.0",
            "_view_name": "StyleView",
            "description_width": ""
          }
        },
        "48f0f9c4937d4f92a582a95f511154bb": {
          "model_module": "@jupyter-widgets/base",
          "model_name": "LayoutModel",
          "model_module_version": "1.2.0",
          "state": {
            "_model_module": "@jupyter-widgets/base",
            "_model_module_version": "1.2.0",
            "_model_name": "LayoutModel",
            "_view_count": null,
            "_view_module": "@jupyter-widgets/base",
            "_view_module_version": "1.2.0",
            "_view_name": "LayoutView",
            "align_content": null,
            "align_items": null,
            "align_self": null,
            "border": null,
            "bottom": null,
            "display": null,
            "flex": null,
            "flex_flow": null,
            "grid_area": null,
            "grid_auto_columns": null,
            "grid_auto_flow": null,
            "grid_auto_rows": null,
            "grid_column": null,
            "grid_gap": null,
            "grid_row": null,
            "grid_template_areas": null,
            "grid_template_columns": null,
            "grid_template_rows": null,
            "height": null,
            "justify_content": null,
            "justify_items": null,
            "left": null,
            "margin": null,
            "max_height": null,
            "max_width": null,
            "min_height": null,
            "min_width": null,
            "object_fit": null,
            "object_position": null,
            "order": null,
            "overflow": null,
            "overflow_x": null,
            "overflow_y": null,
            "padding": null,
            "right": null,
            "top": null,
            "visibility": null,
            "width": null
          }
        },
        "d9d249e2eab947d1ab1fd3a26d0c710f": {
          "model_module": "@jupyter-widgets/controls",
          "model_name": "ProgressStyleModel",
          "model_module_version": "1.5.0",
          "state": {
            "_model_module": "@jupyter-widgets/controls",
            "_model_module_version": "1.5.0",
            "_model_name": "ProgressStyleModel",
            "_view_count": null,
            "_view_module": "@jupyter-widgets/base",
            "_view_module_version": "1.2.0",
            "_view_name": "StyleView",
            "bar_color": null,
            "description_width": ""
          }
        },
        "c7f60450f2424eeaac98911d27d6fa0b": {
          "model_module": "@jupyter-widgets/base",
          "model_name": "LayoutModel",
          "model_module_version": "1.2.0",
          "state": {
            "_model_module": "@jupyter-widgets/base",
            "_model_module_version": "1.2.0",
            "_model_name": "LayoutModel",
            "_view_count": null,
            "_view_module": "@jupyter-widgets/base",
            "_view_module_version": "1.2.0",
            "_view_name": "LayoutView",
            "align_content": null,
            "align_items": null,
            "align_self": null,
            "border": null,
            "bottom": null,
            "display": null,
            "flex": null,
            "flex_flow": null,
            "grid_area": null,
            "grid_auto_columns": null,
            "grid_auto_flow": null,
            "grid_auto_rows": null,
            "grid_column": null,
            "grid_gap": null,
            "grid_row": null,
            "grid_template_areas": null,
            "grid_template_columns": null,
            "grid_template_rows": null,
            "height": null,
            "justify_content": null,
            "justify_items": null,
            "left": null,
            "margin": null,
            "max_height": null,
            "max_width": null,
            "min_height": null,
            "min_width": null,
            "object_fit": null,
            "object_position": null,
            "order": null,
            "overflow": null,
            "overflow_x": null,
            "overflow_y": null,
            "padding": null,
            "right": null,
            "top": null,
            "visibility": null,
            "width": null
          }
        },
        "fe37375426ce45aca27bfb357409639b": {
          "model_module": "@jupyter-widgets/controls",
          "model_name": "DescriptionStyleModel",
          "model_module_version": "1.5.0",
          "state": {
            "_model_module": "@jupyter-widgets/controls",
            "_model_module_version": "1.5.0",
            "_model_name": "DescriptionStyleModel",
            "_view_count": null,
            "_view_module": "@jupyter-widgets/base",
            "_view_module_version": "1.2.0",
            "_view_name": "StyleView",
            "description_width": ""
          }
        }
      }
    }
  },
  "cells": [
    {
      "cell_type": "markdown",
      "source": [
        "##**7. Multi-head Attention**\n",
        "1. Multi-head attention 및 self-attention 구현.\n",
        "2. 각 과정에서 일어나는 연산과 input/output 형태 이해."
      ],
      "metadata": {
        "id": "eVSeJNZ3UNaz"
      }
    },
    {
      "cell_type": "markdown",
      "source": [
        "### **필요 패키지 import**"
      ],
      "metadata": {
        "id": "8ddhH7whUQG2"
      }
    },
    {
      "cell_type": "code",
      "execution_count": 1,
      "metadata": {
        "id": "TzIbB2i2T9SG"
      },
      "outputs": [],
      "source": [
        "from torch import nn\n",
        "from torch.nn import functional as F\n",
        "from tqdm.auto import tqdm\n",
        "\n",
        "import torch\n",
        "import math"
      ]
    },
    {
      "cell_type": "code",
      "source": [],
      "metadata": {
        "id": "pCTVUZhXUVv-"
      },
      "execution_count": null,
      "outputs": []
    },
    {
      "cell_type": "markdown",
      "source": [
        "### **데이터 전처리**"
      ],
      "metadata": {
        "id": "zA0m6y18UXU1"
      }
    },
    {
      "cell_type": "code",
      "source": [
        "pad_id = 0\n",
        "vocab_size = 100\n",
        "\n",
        "data = [\n",
        "  [62, 13, 47, 39, 78, 33, 56, 13, 39, 29, 44, 86, 71, 36, 18, 75],\n",
        "  [60, 96, 51, 32, 90],\n",
        "  [35, 45, 48, 65, 91, 99, 92, 10, 3, 21, 54],\n",
        "  [75, 51],\n",
        "  [66, 88, 98, 47],\n",
        "  [21, 39, 10, 64, 21],\n",
        "  [98],\n",
        "  [77, 65, 51, 77, 19, 15, 35, 19, 23, 97, 50, 46, 53, 42, 45, 91, 66, 3, 43, 10],\n",
        "  [70, 64, 98, 25, 99, 53, 4, 13, 69, 62, 66, 76, 15, 75, 45, 34],\n",
        "  [20, 64, 81, 35, 76, 85, 1, 62, 8, 45, 99, 77, 19, 43]\n",
        "]"
      ],
      "metadata": {
        "id": "v4R92wwbUXjz"
      },
      "execution_count": 2,
      "outputs": []
    },
    {
      "cell_type": "code",
      "source": [
        "def padding(data):\n",
        "\n",
        "    max_len = len(max(data, key = len))\n",
        "\n",
        "    print(f\"Maximum sequence length: {max_len}\")\n",
        "\n",
        "    for i,seq in enumerate(tqdm(data)):\n",
        "\n",
        "        if len(seq) < max_len:\n",
        "\n",
        "            data[i] = seq + [pad_id] * (max_len - len(seq))\n",
        "\n",
        "    return data, max_len"
      ],
      "metadata": {
        "id": "tBe732CAUb1Z"
      },
      "execution_count": 3,
      "outputs": []
    },
    {
      "cell_type": "code",
      "source": [
        "data,max_len = padding(data)"
      ],
      "metadata": {
        "colab": {
          "base_uri": "https://localhost:8080/",
          "height": 67,
          "referenced_widgets": [
            "cafe740014d1499387ff8464eb24ef25",
            "4ae96901ea10460695cf781298cf711e",
            "cbcdff61992e4a45b0a9d69f0449f7d2",
            "2a48b45eb1e74794bdb745c7e1789624",
            "dad940625e0042fd9a6894018bde5133",
            "c067699190fc421da8ee1a8025d12df3",
            "e5d2f3d3e02941ec98034bc2ea0f0b6d",
            "48f0f9c4937d4f92a582a95f511154bb",
            "d9d249e2eab947d1ab1fd3a26d0c710f",
            "c7f60450f2424eeaac98911d27d6fa0b",
            "fe37375426ce45aca27bfb357409639b"
          ]
        },
        "id": "eHsK5RR2Urat",
        "outputId": "1b11c567-6f4a-4968-a0f6-6528ad4c5242"
      },
      "execution_count": 4,
      "outputs": [
        {
          "output_type": "stream",
          "name": "stdout",
          "text": [
            "Maximum sequence length: 20\n"
          ]
        },
        {
          "output_type": "display_data",
          "data": {
            "text/plain": [
              "  0%|          | 0/10 [00:00<?, ?it/s]"
            ],
            "application/vnd.jupyter.widget-view+json": {
              "version_major": 2,
              "version_minor": 0,
              "model_id": "cafe740014d1499387ff8464eb24ef25"
            }
          },
          "metadata": {}
        }
      ]
    },
    {
      "cell_type": "code",
      "source": [
        "data"
      ],
      "metadata": {
        "colab": {
          "base_uri": "https://localhost:8080/"
        },
        "id": "goqHZjjBU26D",
        "outputId": "dad3e1c8-885b-468a-8df1-c56be3defc0a"
      },
      "execution_count": 6,
      "outputs": [
        {
          "output_type": "execute_result",
          "data": {
            "text/plain": [
              "[[62, 13, 47, 39, 78, 33, 56, 13, 39, 29, 44, 86, 71, 36, 18, 75, 0, 0, 0, 0],\n",
              " [60, 96, 51, 32, 90, 0, 0, 0, 0, 0, 0, 0, 0, 0, 0, 0, 0, 0, 0, 0],\n",
              " [35, 45, 48, 65, 91, 99, 92, 10, 3, 21, 54, 0, 0, 0, 0, 0, 0, 0, 0, 0],\n",
              " [75, 51, 0, 0, 0, 0, 0, 0, 0, 0, 0, 0, 0, 0, 0, 0, 0, 0, 0, 0],\n",
              " [66, 88, 98, 47, 0, 0, 0, 0, 0, 0, 0, 0, 0, 0, 0, 0, 0, 0, 0, 0],\n",
              " [21, 39, 10, 64, 21, 0, 0, 0, 0, 0, 0, 0, 0, 0, 0, 0, 0, 0, 0, 0],\n",
              " [98, 0, 0, 0, 0, 0, 0, 0, 0, 0, 0, 0, 0, 0, 0, 0, 0, 0, 0, 0],\n",
              " [77,\n",
              "  65,\n",
              "  51,\n",
              "  77,\n",
              "  19,\n",
              "  15,\n",
              "  35,\n",
              "  19,\n",
              "  23,\n",
              "  97,\n",
              "  50,\n",
              "  46,\n",
              "  53,\n",
              "  42,\n",
              "  45,\n",
              "  91,\n",
              "  66,\n",
              "  3,\n",
              "  43,\n",
              "  10],\n",
              " [70, 64, 98, 25, 99, 53, 4, 13, 69, 62, 66, 76, 15, 75, 45, 34, 0, 0, 0, 0],\n",
              " [20, 64, 81, 35, 76, 85, 1, 62, 8, 45, 99, 77, 19, 43, 0, 0, 0, 0, 0, 0]]"
            ]
          },
          "metadata": {},
          "execution_count": 6
        }
      ]
    },
    {
      "cell_type": "code",
      "source": [],
      "metadata": {
        "id": "IUAuHkHrU4fF"
      },
      "execution_count": null,
      "outputs": []
    },
    {
      "cell_type": "markdown",
      "source": [
        "### **Hyperparameter 세팅 및 embedding**"
      ],
      "metadata": {
        "id": "gZDlYgCZU8fH"
      }
    },
    {
      "cell_type": "code",
      "source": [
        "d_model = 512 # model의 hidden size\n",
        "num_heads = 8 #head의 개수"
      ],
      "metadata": {
        "id": "j8vhBs93U8wC"
      },
      "execution_count": 7,
      "outputs": []
    },
    {
      "cell_type": "code",
      "source": [
        "embedding = nn.Embedding(vocab_size, d_model)\n",
        "\n",
        "# B: batch size, L: maximum sequence length\n",
        "batch = torch.LongTensor(data) #(B,L)\n",
        "batch_emb = embedding(batch) #(B, L, d_model)"
      ],
      "metadata": {
        "id": "ENoa_mzoVCEI"
      },
      "execution_count": 8,
      "outputs": []
    },
    {
      "cell_type": "code",
      "source": [
        "print(batch_emb)\n",
        "print(batch_emb.shape)"
      ],
      "metadata": {
        "colab": {
          "base_uri": "https://localhost:8080/"
        },
        "id": "dy5za5epVOSx",
        "outputId": "41129183-70d6-4a9c-a5e5-598cfcb6f6a2"
      },
      "execution_count": 9,
      "outputs": [
        {
          "output_type": "stream",
          "name": "stdout",
          "text": [
            "tensor([[[-0.8534,  1.7007, -1.2924,  ...,  0.9932,  0.3819, -0.6464],\n",
            "         [ 0.2977, -0.0166,  0.5648,  ...,  0.9012, -1.2296, -0.5126],\n",
            "         [-1.3034, -1.3391,  0.0420,  ...,  0.0115,  0.4022,  0.4236],\n",
            "         ...,\n",
            "         [-0.9489,  0.4054, -0.8236,  ...,  0.5951,  1.4274, -0.0594],\n",
            "         [-0.9489,  0.4054, -0.8236,  ...,  0.5951,  1.4274, -0.0594],\n",
            "         [-0.9489,  0.4054, -0.8236,  ...,  0.5951,  1.4274, -0.0594]],\n",
            "\n",
            "        [[ 0.9465,  0.7638,  0.0633,  ...,  0.2461,  0.1262,  0.6830],\n",
            "         [-0.2418, -0.5267,  0.1105,  ...,  0.1857, -1.3234, -0.6660],\n",
            "         [ 0.0977,  1.2537,  1.1130,  ..., -1.2878,  0.0729,  0.8466],\n",
            "         ...,\n",
            "         [-0.9489,  0.4054, -0.8236,  ...,  0.5951,  1.4274, -0.0594],\n",
            "         [-0.9489,  0.4054, -0.8236,  ...,  0.5951,  1.4274, -0.0594],\n",
            "         [-0.9489,  0.4054, -0.8236,  ...,  0.5951,  1.4274, -0.0594]],\n",
            "\n",
            "        [[-0.2536, -0.0621,  0.6154,  ..., -1.1294,  1.2604, -0.5828],\n",
            "         [ 0.6329,  0.1130,  1.4359,  ...,  0.7962,  0.5928,  1.0849],\n",
            "         [-0.8670,  0.7607,  0.8232,  ...,  0.0665, -0.8232,  0.8720],\n",
            "         ...,\n",
            "         [-0.9489,  0.4054, -0.8236,  ...,  0.5951,  1.4274, -0.0594],\n",
            "         [-0.9489,  0.4054, -0.8236,  ...,  0.5951,  1.4274, -0.0594],\n",
            "         [-0.9489,  0.4054, -0.8236,  ...,  0.5951,  1.4274, -0.0594]],\n",
            "\n",
            "        ...,\n",
            "\n",
            "        [[ 0.5333, -0.6846,  1.4103,  ...,  0.3471,  1.7613,  0.3565],\n",
            "         [-0.7379, -0.8235, -0.7309,  ..., -0.2475, -0.0705, -0.0490],\n",
            "         [ 0.0977,  1.2537,  1.1130,  ..., -1.2878,  0.0729,  0.8466],\n",
            "         ...,\n",
            "         [-0.3014, -0.3391,  1.3628,  ...,  0.3251,  0.7943,  0.8940],\n",
            "         [ 0.1278, -1.1838,  0.7075,  ..., -0.3055,  0.9992,  1.4311],\n",
            "         [-2.0677,  1.3979,  0.1189,  ..., -0.2085, -1.7405,  0.7182]],\n",
            "\n",
            "        [[ 0.3688,  0.7355, -0.6391,  ..., -0.8548, -0.8025,  0.4113],\n",
            "         [ 0.1513, -0.7328,  0.5702,  ...,  0.5051, -0.4260, -0.5670],\n",
            "         [-0.1156,  0.2014,  0.8654,  ..., -2.0980, -0.4490, -0.5394],\n",
            "         ...,\n",
            "         [-0.9489,  0.4054, -0.8236,  ...,  0.5951,  1.4274, -0.0594],\n",
            "         [-0.9489,  0.4054, -0.8236,  ...,  0.5951,  1.4274, -0.0594],\n",
            "         [-0.9489,  0.4054, -0.8236,  ...,  0.5951,  1.4274, -0.0594]],\n",
            "\n",
            "        [[-0.1942,  1.0300, -0.3061,  ..., -1.2198, -1.1389, -1.1432],\n",
            "         [ 0.1513, -0.7328,  0.5702,  ...,  0.5051, -0.4260, -0.5670],\n",
            "         [-1.4766,  0.5447, -0.6363,  ...,  0.1965, -0.1628,  0.2486],\n",
            "         ...,\n",
            "         [-0.9489,  0.4054, -0.8236,  ...,  0.5951,  1.4274, -0.0594],\n",
            "         [-0.9489,  0.4054, -0.8236,  ...,  0.5951,  1.4274, -0.0594],\n",
            "         [-0.9489,  0.4054, -0.8236,  ...,  0.5951,  1.4274, -0.0594]]],\n",
            "       grad_fn=<EmbeddingBackward0>)\n",
            "torch.Size([10, 20, 512])\n"
          ]
        }
      ]
    },
    {
      "cell_type": "code",
      "source": [],
      "metadata": {
        "id": "h89hYh4jVVhN"
      },
      "execution_count": null,
      "outputs": []
    },
    {
      "cell_type": "markdown",
      "source": [
        "### **Linear transformation & 여러 head로 나누기**"
      ],
      "metadata": {
        "id": "SI7xXkQoVYor"
      }
    },
    {
      "cell_type": "markdown",
      "source": [
        "Multi-head attention 내에서 쓰이는 linear transformation matrix들을 정의합니다."
      ],
      "metadata": {
        "id": "r1zzfdn1VaXw"
      }
    },
    {
      "cell_type": "code",
      "source": [
        "w_q = nn.Linear(d_model, d_model)\n",
        "w_k = nn.Linear(d_model, d_model)\n",
        "w_v = nn.Linear(d_model, d_model)\n",
        "w_o = nn.Linear(d_model, d_model)"
      ],
      "metadata": {
        "id": "ezf3Z5sUVY2F"
      },
      "execution_count": 15,
      "outputs": []
    },
    {
      "cell_type": "code",
      "source": [
        "q = w_q(batch_emb) #(B, L, d_model)\n",
        "k = w_k(batch_emb) #(B, L, d_model)\n",
        "v = w_v(batch_emb) #(B, L, d_model)\n",
        "\n",
        "print(q.shape)\n",
        "print(k.shape)\n",
        "print(v.shape)"
      ],
      "metadata": {
        "colab": {
          "base_uri": "https://localhost:8080/"
        },
        "id": "8wAIxmuCVgPI",
        "outputId": "be064e3a-557d-40b9-c310-4736f3841394"
      },
      "execution_count": 16,
      "outputs": [
        {
          "output_type": "stream",
          "name": "stdout",
          "text": [
            "torch.Size([10, 20, 512])\n",
            "torch.Size([10, 20, 512])\n",
            "torch.Size([10, 20, 512])\n"
          ]
        }
      ]
    },
    {
      "cell_type": "code",
      "source": [],
      "metadata": {
        "id": "BlKdArWIVrC1"
      },
      "execution_count": null,
      "outputs": []
    },
    {
      "cell_type": "markdown",
      "source": [
        "Q, K, V를 `num_head`개의 차원 분할된 여러 vector로 만듭니다."
      ],
      "metadata": {
        "id": "KKTPA2fUVtRe"
      }
    },
    {
      "cell_type": "code",
      "source": [
        "batch_size = q.shape[0]\n",
        "d_k = d_model //num_heads\n",
        "\n",
        "q = q.view(batch_size, -1, num_heads, d_k) #(B, L, num_heads, d_k)\n",
        "k = k.view(batch_size, -1, num_heads, d_k) #(B, L, num_heads, d_k)\n",
        "v = v.view(batch_size, -1, num_heads, d_k) #(B, L, num_heads, d_k)\n",
        "\n",
        "print(q.shape)\n",
        "print(k.shape)\n",
        "print(v.shape)"
      ],
      "metadata": {
        "colab": {
          "base_uri": "https://localhost:8080/"
        },
        "id": "9J9LgcpNVub6",
        "outputId": "01a0ffea-c959-4aea-c546-b5de0ebd3342"
      },
      "execution_count": 17,
      "outputs": [
        {
          "output_type": "stream",
          "name": "stdout",
          "text": [
            "torch.Size([10, 20, 8, 64])\n",
            "torch.Size([10, 20, 8, 64])\n",
            "torch.Size([10, 20, 8, 64])\n"
          ]
        }
      ]
    },
    {
      "cell_type": "code",
      "source": [
        "q = q.transpose(1, 2) # (B, num_heads, L, d_k)\n",
        "k = k.transpose(1, 2) # (B, num_heads, L, d_k)\n",
        "v = v.transpose(1, 2) # (B, num_heads, L, d_k)\n",
        "\n",
        "print(q.shape)\n",
        "print(k.shape)\n",
        "print(v.shape)"
      ],
      "metadata": {
        "colab": {
          "base_uri": "https://localhost:8080/"
        },
        "id": "U9PjbRTpYybk",
        "outputId": "f14b350c-073c-44eb-c1d0-852f3cb48116"
      },
      "execution_count": 18,
      "outputs": [
        {
          "output_type": "stream",
          "name": "stdout",
          "text": [
            "torch.Size([10, 8, 20, 64])\n",
            "torch.Size([10, 8, 20, 64])\n",
            "torch.Size([10, 8, 20, 64])\n"
          ]
        }
      ]
    },
    {
      "cell_type": "code",
      "source": [],
      "metadata": {
        "id": "Xb-A0TD5ZGUW"
      },
      "execution_count": null,
      "outputs": []
    },
    {
      "cell_type": "markdown",
      "source": [
        "### **Scaled dot-product self-attention 구현**"
      ],
      "metadata": {
        "id": "_E-1vF7cZKor"
      }
    },
    {
      "cell_type": "markdown",
      "source": [
        "각 head에서 실행되는 self-attetion 과정입니다."
      ],
      "metadata": {
        "id": "0cwE-_R7ZMbx"
      }
    },
    {
      "cell_type": "code",
      "source": [
        "attn_scores = torch.matmul(q, k.transpose(-2,-1)) / math.sqrt(d_k) #(B, num_heads, L, L)\n",
        "attn_dists = F.softmax(attn_scores, dim = -1) #(B, num_heads, L, L) #(b, num_heads, L, L)\n",
        "\n",
        "print(attn_dists)\n",
        "print(attn_dists.shape)"
      ],
      "metadata": {
        "colab": {
          "base_uri": "https://localhost:8080/"
        },
        "id": "ENkUPO4aZK3a",
        "outputId": "5ed8b1e1-d18b-409f-8f29-4055ddcd0af9"
      },
      "execution_count": 20,
      "outputs": [
        {
          "output_type": "stream",
          "name": "stdout",
          "text": [
            "tensor([[[[0.0381, 0.0541, 0.0620,  ..., 0.0434, 0.0434, 0.0434],\n",
            "          [0.0612, 0.0668, 0.0313,  ..., 0.0384, 0.0384, 0.0384],\n",
            "          [0.0635, 0.0322, 0.0611,  ..., 0.0588, 0.0588, 0.0588],\n",
            "          ...,\n",
            "          [0.0317, 0.0573, 0.0624,  ..., 0.0416, 0.0416, 0.0416],\n",
            "          [0.0317, 0.0573, 0.0624,  ..., 0.0416, 0.0416, 0.0416],\n",
            "          [0.0317, 0.0573, 0.0624,  ..., 0.0416, 0.0416, 0.0416]],\n",
            "\n",
            "         [[0.0330, 0.0364, 0.0590,  ..., 0.0450, 0.0450, 0.0450],\n",
            "          [0.0260, 0.0518, 0.0369,  ..., 0.0340, 0.0340, 0.0340],\n",
            "          [0.0525, 0.0380, 0.0289,  ..., 0.0676, 0.0676, 0.0676],\n",
            "          ...,\n",
            "          [0.0748, 0.0512, 0.0390,  ..., 0.0323, 0.0323, 0.0323],\n",
            "          [0.0748, 0.0512, 0.0390,  ..., 0.0323, 0.0323, 0.0323],\n",
            "          [0.0748, 0.0512, 0.0390,  ..., 0.0323, 0.0323, 0.0323]],\n",
            "\n",
            "         [[0.0491, 0.0211, 0.0622,  ..., 0.0695, 0.0695, 0.0695],\n",
            "          [0.0331, 0.0516, 0.0401,  ..., 0.0679, 0.0679, 0.0679],\n",
            "          [0.0611, 0.0566, 0.0793,  ..., 0.0433, 0.0433, 0.0433],\n",
            "          ...,\n",
            "          [0.0493, 0.0381, 0.0392,  ..., 0.0490, 0.0490, 0.0490],\n",
            "          [0.0493, 0.0381, 0.0392,  ..., 0.0490, 0.0490, 0.0490],\n",
            "          [0.0493, 0.0381, 0.0392,  ..., 0.0490, 0.0490, 0.0490]],\n",
            "\n",
            "         ...,\n",
            "\n",
            "         [[0.0609, 0.0659, 0.0708,  ..., 0.0440, 0.0440, 0.0440],\n",
            "          [0.0373, 0.0312, 0.0342,  ..., 0.0604, 0.0604, 0.0604],\n",
            "          [0.0786, 0.0519, 0.0737,  ..., 0.0429, 0.0429, 0.0429],\n",
            "          ...,\n",
            "          [0.0505, 0.0869, 0.0349,  ..., 0.0358, 0.0358, 0.0358],\n",
            "          [0.0505, 0.0869, 0.0349,  ..., 0.0358, 0.0358, 0.0358],\n",
            "          [0.0505, 0.0869, 0.0349,  ..., 0.0358, 0.0358, 0.0358]],\n",
            "\n",
            "         [[0.0514, 0.0963, 0.0465,  ..., 0.0461, 0.0461, 0.0461],\n",
            "          [0.0613, 0.0365, 0.0735,  ..., 0.0312, 0.0312, 0.0312],\n",
            "          [0.0499, 0.0271, 0.0834,  ..., 0.0504, 0.0504, 0.0504],\n",
            "          ...,\n",
            "          [0.0681, 0.0820, 0.0511,  ..., 0.0454, 0.0454, 0.0454],\n",
            "          [0.0681, 0.0820, 0.0511,  ..., 0.0454, 0.0454, 0.0454],\n",
            "          [0.0681, 0.0820, 0.0511,  ..., 0.0454, 0.0454, 0.0454]],\n",
            "\n",
            "         [[0.0575, 0.0326, 0.0507,  ..., 0.0640, 0.0640, 0.0640],\n",
            "          [0.0469, 0.0239, 0.0321,  ..., 0.0698, 0.0698, 0.0698],\n",
            "          [0.0506, 0.0729, 0.0557,  ..., 0.0506, 0.0506, 0.0506],\n",
            "          ...,\n",
            "          [0.0327, 0.0619, 0.0776,  ..., 0.0389, 0.0389, 0.0389],\n",
            "          [0.0327, 0.0619, 0.0776,  ..., 0.0389, 0.0389, 0.0389],\n",
            "          [0.0327, 0.0619, 0.0776,  ..., 0.0389, 0.0389, 0.0389]]],\n",
            "\n",
            "\n",
            "        [[[0.0654, 0.1255, 0.0344,  ..., 0.0423, 0.0423, 0.0423],\n",
            "          [0.0415, 0.0418, 0.0344,  ..., 0.0497, 0.0497, 0.0497],\n",
            "          [0.0508, 0.0597, 0.0439,  ..., 0.0494, 0.0494, 0.0494],\n",
            "          ...,\n",
            "          [0.0655, 0.0512, 0.0308,  ..., 0.0486, 0.0486, 0.0486],\n",
            "          [0.0655, 0.0512, 0.0308,  ..., 0.0486, 0.0486, 0.0486],\n",
            "          [0.0655, 0.0512, 0.0308,  ..., 0.0486, 0.0486, 0.0486]],\n",
            "\n",
            "         [[0.0456, 0.0632, 0.0538,  ..., 0.0504, 0.0504, 0.0504],\n",
            "          [0.0449, 0.0574, 0.0555,  ..., 0.0495, 0.0495, 0.0495],\n",
            "          [0.0533, 0.0447, 0.0623,  ..., 0.0494, 0.0494, 0.0494],\n",
            "          ...,\n",
            "          [0.0677, 0.0652, 0.1130,  ..., 0.0404, 0.0404, 0.0404],\n",
            "          [0.0677, 0.0652, 0.1130,  ..., 0.0404, 0.0404, 0.0404],\n",
            "          [0.0677, 0.0652, 0.1130,  ..., 0.0404, 0.0404, 0.0404]],\n",
            "\n",
            "         [[0.0340, 0.0548, 0.0423,  ..., 0.0495, 0.0495, 0.0495],\n",
            "          [0.0408, 0.0486, 0.0414,  ..., 0.0525, 0.0525, 0.0525],\n",
            "          [0.0498, 0.0642, 0.0626,  ..., 0.0473, 0.0473, 0.0473],\n",
            "          ...,\n",
            "          [0.0459, 0.0738, 0.0445,  ..., 0.0465, 0.0465, 0.0465],\n",
            "          [0.0459, 0.0738, 0.0445,  ..., 0.0465, 0.0465, 0.0465],\n",
            "          [0.0459, 0.0738, 0.0445,  ..., 0.0465, 0.0465, 0.0465]],\n",
            "\n",
            "         ...,\n",
            "\n",
            "         [[0.0321, 0.0227, 0.0372,  ..., 0.0546, 0.0546, 0.0546],\n",
            "          [0.0310, 0.0456, 0.0549,  ..., 0.0495, 0.0495, 0.0495],\n",
            "          [0.0429, 0.0703, 0.0930,  ..., 0.0390, 0.0390, 0.0390],\n",
            "          ...,\n",
            "          [0.0578, 0.0884, 0.1010,  ..., 0.0442, 0.0442, 0.0442],\n",
            "          [0.0578, 0.0884, 0.1010,  ..., 0.0442, 0.0442, 0.0442],\n",
            "          [0.0578, 0.0884, 0.1010,  ..., 0.0442, 0.0442, 0.0442]],\n",
            "\n",
            "         [[0.0278, 0.0339, 0.0261,  ..., 0.0572, 0.0572, 0.0572],\n",
            "          [0.0717, 0.0475, 0.0755,  ..., 0.0479, 0.0479, 0.0479],\n",
            "          [0.0172, 0.0913, 0.0922,  ..., 0.0440, 0.0440, 0.0440],\n",
            "          ...,\n",
            "          [0.1077, 0.0853, 0.0599,  ..., 0.0417, 0.0417, 0.0417],\n",
            "          [0.1077, 0.0853, 0.0599,  ..., 0.0417, 0.0417, 0.0417],\n",
            "          [0.1077, 0.0853, 0.0599,  ..., 0.0417, 0.0417, 0.0417]],\n",
            "\n",
            "         [[0.0515, 0.0525, 0.0529,  ..., 0.0479, 0.0479, 0.0479],\n",
            "          [0.0306, 0.0477, 0.0632,  ..., 0.0485, 0.0485, 0.0485],\n",
            "          [0.0822, 0.0533, 0.0350,  ..., 0.0495, 0.0495, 0.0495],\n",
            "          ...,\n",
            "          [0.0617, 0.0762, 0.0537,  ..., 0.0448, 0.0448, 0.0448],\n",
            "          [0.0617, 0.0762, 0.0537,  ..., 0.0448, 0.0448, 0.0448],\n",
            "          [0.0617, 0.0762, 0.0537,  ..., 0.0448, 0.0448, 0.0448]]],\n",
            "\n",
            "\n",
            "        [[[0.0678, 0.0318, 0.0353,  ..., 0.0507, 0.0507, 0.0507],\n",
            "          [0.0390, 0.0704, 0.0491,  ..., 0.0429, 0.0429, 0.0429],\n",
            "          [0.0653, 0.0290, 0.0361,  ..., 0.0484, 0.0484, 0.0484],\n",
            "          ...,\n",
            "          [0.0598, 0.0226, 0.0695,  ..., 0.0400, 0.0400, 0.0400],\n",
            "          [0.0598, 0.0226, 0.0695,  ..., 0.0400, 0.0400, 0.0400],\n",
            "          [0.0598, 0.0226, 0.0695,  ..., 0.0400, 0.0400, 0.0400]],\n",
            "\n",
            "         [[0.0561, 0.0365, 0.0977,  ..., 0.0494, 0.0494, 0.0494],\n",
            "          [0.0366, 0.0449, 0.0628,  ..., 0.0592, 0.0592, 0.0592],\n",
            "          [0.0377, 0.0410, 0.0429,  ..., 0.0422, 0.0422, 0.0422],\n",
            "          ...,\n",
            "          [0.0647, 0.0825, 0.0300,  ..., 0.0301, 0.0301, 0.0301],\n",
            "          [0.0647, 0.0825, 0.0300,  ..., 0.0301, 0.0301, 0.0301],\n",
            "          [0.0647, 0.0825, 0.0300,  ..., 0.0301, 0.0301, 0.0301]],\n",
            "\n",
            "         [[0.0534, 0.0449, 0.0372,  ..., 0.0611, 0.0611, 0.0611],\n",
            "          [0.0463, 0.0418, 0.0623,  ..., 0.0584, 0.0584, 0.0584],\n",
            "          [0.0707, 0.0459, 0.0344,  ..., 0.0413, 0.0413, 0.0413],\n",
            "          ...,\n",
            "          [0.0281, 0.0246, 0.0495,  ..., 0.0541, 0.0541, 0.0541],\n",
            "          [0.0281, 0.0246, 0.0495,  ..., 0.0541, 0.0541, 0.0541],\n",
            "          [0.0281, 0.0246, 0.0495,  ..., 0.0541, 0.0541, 0.0541]],\n",
            "\n",
            "         ...,\n",
            "\n",
            "         [[0.0503, 0.0570, 0.0727,  ..., 0.0390, 0.0390, 0.0390],\n",
            "          [0.0535, 0.0467, 0.0471,  ..., 0.0368, 0.0368, 0.0368],\n",
            "          [0.0483, 0.0326, 0.0312,  ..., 0.0425, 0.0425, 0.0425],\n",
            "          ...,\n",
            "          [0.0400, 0.0496, 0.0654,  ..., 0.0350, 0.0350, 0.0350],\n",
            "          [0.0400, 0.0496, 0.0654,  ..., 0.0350, 0.0350, 0.0350],\n",
            "          [0.0400, 0.0496, 0.0654,  ..., 0.0350, 0.0350, 0.0350]],\n",
            "\n",
            "         [[0.0614, 0.0318, 0.0282,  ..., 0.0606, 0.0606, 0.0606],\n",
            "          [0.0786, 0.0465, 0.0484,  ..., 0.0403, 0.0403, 0.0403],\n",
            "          [0.0356, 0.0484, 0.0330,  ..., 0.0545, 0.0545, 0.0545],\n",
            "          ...,\n",
            "          [0.0570, 0.0538, 0.0769,  ..., 0.0485, 0.0485, 0.0485],\n",
            "          [0.0570, 0.0538, 0.0769,  ..., 0.0485, 0.0485, 0.0485],\n",
            "          [0.0570, 0.0538, 0.0769,  ..., 0.0485, 0.0485, 0.0485]],\n",
            "\n",
            "         [[0.0621, 0.0709, 0.0874,  ..., 0.0361, 0.0361, 0.0361],\n",
            "          [0.0663, 0.0470, 0.0491,  ..., 0.0457, 0.0457, 0.0457],\n",
            "          [0.0583, 0.0282, 0.0272,  ..., 0.0510, 0.0510, 0.0510],\n",
            "          ...,\n",
            "          [0.0446, 0.0196, 0.0464,  ..., 0.0423, 0.0423, 0.0423],\n",
            "          [0.0446, 0.0196, 0.0464,  ..., 0.0423, 0.0423, 0.0423],\n",
            "          [0.0446, 0.0196, 0.0464,  ..., 0.0423, 0.0423, 0.0423]]],\n",
            "\n",
            "\n",
            "        ...,\n",
            "\n",
            "\n",
            "        [[[0.0241, 0.0425, 0.0790,  ..., 0.0440, 0.0750, 0.0262],\n",
            "          [0.0595, 0.0656, 0.0415,  ..., 0.0628, 0.0330, 0.0526],\n",
            "          [0.0476, 0.1028, 0.0347,  ..., 0.0347, 0.0395, 0.0697],\n",
            "          ...,\n",
            "          [0.0310, 0.0686, 0.0669,  ..., 0.0646, 0.0452, 0.0349],\n",
            "          [0.0400, 0.0327, 0.0388,  ..., 0.0589, 0.0586, 0.0641],\n",
            "          [0.0386, 0.0403, 0.0489,  ..., 0.0344, 0.0670, 0.0589]],\n",
            "\n",
            "         [[0.0422, 0.0560, 0.0256,  ..., 0.0430, 0.0559, 0.0574],\n",
            "          [0.0540, 0.0441, 0.0921,  ..., 0.0504, 0.0457, 0.0276],\n",
            "          [0.0215, 0.0682, 0.0450,  ..., 0.0496, 0.0754, 0.0771],\n",
            "          ...,\n",
            "          [0.0678, 0.0674, 0.0908,  ..., 0.0422, 0.0437, 0.0292],\n",
            "          [0.0338, 0.0536, 0.0578,  ..., 0.0665, 0.0350, 0.0384],\n",
            "          [0.0324, 0.0635, 0.0645,  ..., 0.0563, 0.0566, 0.0754]],\n",
            "\n",
            "         [[0.0551, 0.0283, 0.0424,  ..., 0.0397, 0.0690, 0.0477],\n",
            "          [0.0820, 0.0738, 0.0557,  ..., 0.0317, 0.0581, 0.0423],\n",
            "          [0.0613, 0.0384, 0.0588,  ..., 0.0515, 0.0662, 0.0682],\n",
            "          ...,\n",
            "          [0.0489, 0.0629, 0.0470,  ..., 0.0401, 0.0345, 0.0452],\n",
            "          [0.0464, 0.0339, 0.0347,  ..., 0.0623, 0.0904, 0.0712],\n",
            "          [0.0279, 0.0529, 0.0742,  ..., 0.0516, 0.0560, 0.0619]],\n",
            "\n",
            "         ...,\n",
            "\n",
            "         [[0.0274, 0.0330, 0.0783,  ..., 0.0390, 0.0551, 0.0518],\n",
            "          [0.0586, 0.0498, 0.0408,  ..., 0.0409, 0.0356, 0.0434],\n",
            "          [0.0358, 0.0500, 0.0780,  ..., 0.0320, 0.0972, 0.0288],\n",
            "          ...,\n",
            "          [0.0307, 0.0286, 0.0765,  ..., 0.0540, 0.0654, 0.0610],\n",
            "          [0.0252, 0.0566, 0.0327,  ..., 0.0381, 0.0317, 0.0488],\n",
            "          [0.0708, 0.0516, 0.0465,  ..., 0.0597, 0.0560, 0.0510]],\n",
            "\n",
            "         [[0.0498, 0.0586, 0.0564,  ..., 0.0392, 0.0526, 0.0486],\n",
            "          [0.0404, 0.0260, 0.0497,  ..., 0.0512, 0.0490, 0.0333],\n",
            "          [0.0577, 0.0326, 0.0900,  ..., 0.0338, 0.0499, 0.0238],\n",
            "          ...,\n",
            "          [0.0567, 0.0809, 0.0589,  ..., 0.0380, 0.0282, 0.0318],\n",
            "          [0.0411, 0.0513, 0.0395,  ..., 0.0431, 0.0437, 0.0364],\n",
            "          [0.0506, 0.0508, 0.0687,  ..., 0.0530, 0.0485, 0.0782]],\n",
            "\n",
            "         [[0.0306, 0.0444, 0.0736,  ..., 0.0272, 0.0519, 0.0522],\n",
            "          [0.0559, 0.0649, 0.0448,  ..., 0.0493, 0.0584, 0.0431],\n",
            "          [0.0754, 0.0338, 0.0350,  ..., 0.0538, 0.0482, 0.0363],\n",
            "          ...,\n",
            "          [0.0390, 0.0485, 0.0622,  ..., 0.0277, 0.0252, 0.0675],\n",
            "          [0.0384, 0.0596, 0.0553,  ..., 0.0793, 0.0531, 0.0515],\n",
            "          [0.0352, 0.0252, 0.0459,  ..., 0.0236, 0.0584, 0.0383]]],\n",
            "\n",
            "\n",
            "        [[[0.0448, 0.0232, 0.0396,  ..., 0.0554, 0.0554, 0.0554],\n",
            "          [0.0466, 0.0221, 0.0312,  ..., 0.0755, 0.0755, 0.0755],\n",
            "          [0.0472, 0.0667, 0.0552,  ..., 0.0477, 0.0477, 0.0477],\n",
            "          ...,\n",
            "          [0.0741, 0.0244, 0.0446,  ..., 0.0437, 0.0437, 0.0437],\n",
            "          [0.0741, 0.0244, 0.0446,  ..., 0.0437, 0.0437, 0.0437],\n",
            "          [0.0741, 0.0244, 0.0446,  ..., 0.0437, 0.0437, 0.0437]],\n",
            "\n",
            "         [[0.0396, 0.0757, 0.0600,  ..., 0.0512, 0.0512, 0.0512],\n",
            "          [0.0301, 0.0564, 0.0604,  ..., 0.0431, 0.0431, 0.0431],\n",
            "          [0.0306, 0.0497, 0.0479,  ..., 0.0576, 0.0576, 0.0576],\n",
            "          ...,\n",
            "          [0.0321, 0.0255, 0.0507,  ..., 0.0313, 0.0313, 0.0313],\n",
            "          [0.0321, 0.0255, 0.0507,  ..., 0.0313, 0.0313, 0.0313],\n",
            "          [0.0321, 0.0255, 0.0507,  ..., 0.0313, 0.0313, 0.0313]],\n",
            "\n",
            "         [[0.0345, 0.0540, 0.0848,  ..., 0.0534, 0.0534, 0.0534],\n",
            "          [0.0420, 0.0767, 0.0315,  ..., 0.0445, 0.0445, 0.0445],\n",
            "          [0.0424, 0.0541, 0.0304,  ..., 0.0565, 0.0565, 0.0565],\n",
            "          ...,\n",
            "          [0.0300, 0.0394, 0.0454,  ..., 0.0578, 0.0578, 0.0578],\n",
            "          [0.0300, 0.0394, 0.0454,  ..., 0.0578, 0.0578, 0.0578],\n",
            "          [0.0300, 0.0394, 0.0454,  ..., 0.0578, 0.0578, 0.0578]],\n",
            "\n",
            "         ...,\n",
            "\n",
            "         [[0.0556, 0.0523, 0.0756,  ..., 0.0538, 0.0538, 0.0538],\n",
            "          [0.0710, 0.0524, 0.0661,  ..., 0.0450, 0.0450, 0.0450],\n",
            "          [0.0724, 0.0535, 0.0943,  ..., 0.0274, 0.0274, 0.0274],\n",
            "          ...,\n",
            "          [0.0353, 0.0299, 0.0340,  ..., 0.0360, 0.0360, 0.0360],\n",
            "          [0.0353, 0.0299, 0.0340,  ..., 0.0360, 0.0360, 0.0360],\n",
            "          [0.0353, 0.0299, 0.0340,  ..., 0.0360, 0.0360, 0.0360]],\n",
            "\n",
            "         [[0.0557, 0.0536, 0.0527,  ..., 0.0328, 0.0328, 0.0328],\n",
            "          [0.0410, 0.0433, 0.0461,  ..., 0.0523, 0.0523, 0.0523],\n",
            "          [0.0162, 0.0537, 0.0241,  ..., 0.0533, 0.0533, 0.0533],\n",
            "          ...,\n",
            "          [0.0623, 0.0518, 0.0934,  ..., 0.0355, 0.0355, 0.0355],\n",
            "          [0.0623, 0.0518, 0.0934,  ..., 0.0355, 0.0355, 0.0355],\n",
            "          [0.0623, 0.0518, 0.0934,  ..., 0.0355, 0.0355, 0.0355]],\n",
            "\n",
            "         [[0.0337, 0.0458, 0.0608,  ..., 0.0621, 0.0621, 0.0621],\n",
            "          [0.0663, 0.0517, 0.0562,  ..., 0.0560, 0.0560, 0.0560],\n",
            "          [0.0324, 0.0541, 0.0538,  ..., 0.0485, 0.0485, 0.0485],\n",
            "          ...,\n",
            "          [0.0780, 0.0288, 0.0624,  ..., 0.0394, 0.0394, 0.0394],\n",
            "          [0.0780, 0.0288, 0.0624,  ..., 0.0394, 0.0394, 0.0394],\n",
            "          [0.0780, 0.0288, 0.0624,  ..., 0.0394, 0.0394, 0.0394]]],\n",
            "\n",
            "\n",
            "        [[[0.0264, 0.0335, 0.0538,  ..., 0.0700, 0.0700, 0.0700],\n",
            "          [0.0549, 0.0202, 0.0556,  ..., 0.0690, 0.0690, 0.0690],\n",
            "          [0.0389, 0.0511, 0.0458,  ..., 0.0665, 0.0665, 0.0665],\n",
            "          ...,\n",
            "          [0.1156, 0.0245, 0.0803,  ..., 0.0438, 0.0438, 0.0438],\n",
            "          [0.1156, 0.0245, 0.0803,  ..., 0.0438, 0.0438, 0.0438],\n",
            "          [0.1156, 0.0245, 0.0803,  ..., 0.0438, 0.0438, 0.0438]],\n",
            "\n",
            "         [[0.0522, 0.0242, 0.0393,  ..., 0.0701, 0.0701, 0.0701],\n",
            "          [0.0335, 0.0624, 0.0556,  ..., 0.0477, 0.0477, 0.0477],\n",
            "          [0.0444, 0.0789, 0.0355,  ..., 0.0433, 0.0433, 0.0433],\n",
            "          ...,\n",
            "          [0.0700, 0.0262, 0.0431,  ..., 0.0323, 0.0323, 0.0323],\n",
            "          [0.0700, 0.0262, 0.0431,  ..., 0.0323, 0.0323, 0.0323],\n",
            "          [0.0700, 0.0262, 0.0431,  ..., 0.0323, 0.0323, 0.0323]],\n",
            "\n",
            "         [[0.0427, 0.0501, 0.0634,  ..., 0.0347, 0.0347, 0.0347],\n",
            "          [0.0756, 0.0794, 0.0481,  ..., 0.0460, 0.0460, 0.0460],\n",
            "          [0.0701, 0.0776, 0.0415,  ..., 0.0420, 0.0420, 0.0420],\n",
            "          ...,\n",
            "          [0.0456, 0.0353, 0.0561,  ..., 0.0517, 0.0517, 0.0517],\n",
            "          [0.0456, 0.0353, 0.0561,  ..., 0.0517, 0.0517, 0.0517],\n",
            "          [0.0456, 0.0353, 0.0561,  ..., 0.0517, 0.0517, 0.0517]],\n",
            "\n",
            "         ...,\n",
            "\n",
            "         [[0.0557, 0.0433, 0.0465,  ..., 0.0645, 0.0645, 0.0645],\n",
            "          [0.0335, 0.0496, 0.0380,  ..., 0.0425, 0.0425, 0.0425],\n",
            "          [0.0579, 0.0558, 0.0517,  ..., 0.0367, 0.0367, 0.0367],\n",
            "          ...,\n",
            "          [0.0626, 0.0313, 0.0561,  ..., 0.0376, 0.0376, 0.0376],\n",
            "          [0.0626, 0.0313, 0.0561,  ..., 0.0376, 0.0376, 0.0376],\n",
            "          [0.0626, 0.0313, 0.0561,  ..., 0.0376, 0.0376, 0.0376]],\n",
            "\n",
            "         [[0.0280, 0.0539, 0.0277,  ..., 0.0656, 0.0656, 0.0656],\n",
            "          [0.0381, 0.0409, 0.0444,  ..., 0.0495, 0.0495, 0.0495],\n",
            "          [0.0339, 0.0468, 0.0574,  ..., 0.0585, 0.0585, 0.0585],\n",
            "          ...,\n",
            "          [0.0472, 0.0645, 0.0516,  ..., 0.0442, 0.0442, 0.0442],\n",
            "          [0.0472, 0.0645, 0.0516,  ..., 0.0442, 0.0442, 0.0442],\n",
            "          [0.0472, 0.0645, 0.0516,  ..., 0.0442, 0.0442, 0.0442]],\n",
            "\n",
            "         [[0.0618, 0.0518, 0.0679,  ..., 0.0209, 0.0209, 0.0209],\n",
            "          [0.0824, 0.0545, 0.0415,  ..., 0.0590, 0.0590, 0.0590],\n",
            "          [0.0545, 0.0797, 0.0427,  ..., 0.0384, 0.0384, 0.0384],\n",
            "          ...,\n",
            "          [0.0551, 0.0317, 0.0659,  ..., 0.0434, 0.0434, 0.0434],\n",
            "          [0.0551, 0.0317, 0.0659,  ..., 0.0434, 0.0434, 0.0434],\n",
            "          [0.0551, 0.0317, 0.0659,  ..., 0.0434, 0.0434, 0.0434]]]],\n",
            "       grad_fn=<SoftmaxBackward0>)\n",
            "torch.Size([10, 8, 20, 20])\n"
          ]
        }
      ]
    },
    {
      "cell_type": "code",
      "source": [
        "attn_values = torch.matmul(attn_dists, v) #(B, num_heads, L, d_k)\n",
        "\n",
        "print(attn_values.shape)"
      ],
      "metadata": {
        "colab": {
          "base_uri": "https://localhost:8080/"
        },
        "id": "inYnqHkiZbME",
        "outputId": "0dd35967-318f-4e92-a196-67c285f6e2b4"
      },
      "execution_count": 21,
      "outputs": [
        {
          "output_type": "stream",
          "name": "stdout",
          "text": [
            "torch.Size([10, 8, 20, 64])\n"
          ]
        }
      ]
    },
    {
      "cell_type": "code",
      "source": [],
      "metadata": {
        "id": "lgIlerhkZt3t"
      },
      "execution_count": null,
      "outputs": []
    },
    {
      "cell_type": "markdown",
      "source": [
        "### **각 head의 결과물 병합**"
      ],
      "metadata": {
        "id": "UxRWehJsZv87"
      }
    },
    {
      "cell_type": "markdown",
      "source": [
        "각 head의 결과물을 concat하고 동일 차원으로 linear transformation합니다."
      ],
      "metadata": {
        "id": "3T50jN1PZxkF"
      }
    },
    {
      "cell_type": "code",
      "source": [
        "attn_values = attn_values.transpose(1, 2) #(B, L, num_heads, d_k)\n",
        "attn_values = attn_values.contiguous().view(batch_size, -1, d_model) #(B, L, d_model)\n",
        "\n",
        "print(attn_values.shape)"
      ],
      "metadata": {
        "colab": {
          "base_uri": "https://localhost:8080/"
        },
        "id": "gr1sMAX7ZwIm",
        "outputId": "717e31c0-bba2-4219-9371-a90078e1f0c3"
      },
      "execution_count": 22,
      "outputs": [
        {
          "output_type": "stream",
          "name": "stdout",
          "text": [
            "torch.Size([10, 20, 512])\n"
          ]
        }
      ]
    },
    {
      "cell_type": "code",
      "source": [
        "outputs = w_o(attn_values)\n",
        "\n",
        "print(outputs)\n",
        "print(outputs.shape)"
      ],
      "metadata": {
        "colab": {
          "base_uri": "https://localhost:8080/"
        },
        "id": "YKShc_eEZ-y0",
        "outputId": "e11d919c-2c84-44a4-e020-4499e0657af0"
      },
      "execution_count": 23,
      "outputs": [
        {
          "output_type": "stream",
          "name": "stdout",
          "text": [
            "tensor([[[ 1.0522e-01,  2.9473e-01,  8.8185e-02,  ..., -2.6664e-01,\n",
            "           1.2772e-01, -2.1247e-01],\n",
            "         [ 8.9886e-02,  2.3670e-01,  7.7320e-02,  ..., -2.0706e-01,\n",
            "           1.1879e-01, -1.9448e-01],\n",
            "         [ 1.5877e-01,  2.5747e-01,  2.8416e-02,  ..., -2.0461e-01,\n",
            "           1.1436e-01, -1.7485e-01],\n",
            "         ...,\n",
            "         [ 1.1115e-01,  1.7071e-01,  7.2013e-02,  ..., -2.5760e-01,\n",
            "           9.6523e-02, -2.2751e-01],\n",
            "         [ 1.1115e-01,  1.7071e-01,  7.2013e-02,  ..., -2.5760e-01,\n",
            "           9.6523e-02, -2.2751e-01],\n",
            "         [ 1.1115e-01,  1.7071e-01,  7.2013e-02,  ..., -2.5760e-01,\n",
            "           9.6523e-02, -2.2751e-01]],\n",
            "\n",
            "        [[ 2.8415e-01,  4.9839e-01,  8.1970e-02,  ...,  1.4600e-01,\n",
            "           2.1596e-01,  3.9828e-04],\n",
            "         [ 2.1643e-01,  4.2862e-01,  2.9722e-02,  ...,  7.5932e-02,\n",
            "           1.9498e-01,  1.5535e-02],\n",
            "         [ 2.3110e-01,  4.6421e-01,  6.1392e-04,  ...,  7.3851e-02,\n",
            "           1.6699e-01, -7.7949e-02],\n",
            "         ...,\n",
            "         [ 2.2830e-01,  4.1701e-01,  3.9910e-02,  ...,  7.2298e-02,\n",
            "           1.8268e-01, -4.2601e-02],\n",
            "         [ 2.2830e-01,  4.1701e-01,  3.9910e-02,  ...,  7.2298e-02,\n",
            "           1.8268e-01, -4.2601e-02],\n",
            "         [ 2.2830e-01,  4.1701e-01,  3.9910e-02,  ...,  7.2298e-02,\n",
            "           1.8268e-01, -4.2601e-02]],\n",
            "\n",
            "        [[ 1.1030e-01,  2.9046e-01,  7.7822e-02,  ...,  3.9132e-02,\n",
            "           1.8135e-01,  3.9616e-02],\n",
            "         [ 1.7262e-01,  3.0370e-01,  6.4027e-02,  ...,  1.4506e-02,\n",
            "           1.5188e-01,  5.9985e-02],\n",
            "         [ 1.5378e-01,  2.2547e-01,  5.9534e-02,  ...,  3.8071e-02,\n",
            "           1.3032e-01,  5.4850e-02],\n",
            "         ...,\n",
            "         [ 1.2794e-01,  2.1032e-01,  9.0022e-02,  ...,  6.3969e-03,\n",
            "           1.6514e-01,  3.8566e-02],\n",
            "         [ 1.2794e-01,  2.1032e-01,  9.0022e-02,  ...,  6.3969e-03,\n",
            "           1.6514e-01,  3.8566e-02],\n",
            "         [ 1.2794e-01,  2.1032e-01,  9.0022e-02,  ...,  6.3969e-03,\n",
            "           1.6514e-01,  3.8566e-02]],\n",
            "\n",
            "        ...,\n",
            "\n",
            "        [[-1.9208e-01,  8.1767e-03,  1.1019e-01,  ..., -8.4319e-02,\n",
            "          -1.0591e-01, -1.9410e-02],\n",
            "         [-1.8873e-01,  1.8405e-02,  1.1712e-01,  ..., -8.7818e-02,\n",
            "          -1.1745e-01, -1.4866e-02],\n",
            "         [-1.9649e-01, -1.9997e-02,  1.0388e-01,  ..., -5.3927e-02,\n",
            "          -7.4496e-02,  7.6711e-03],\n",
            "         ...,\n",
            "         [-2.0609e-01,  4.4191e-03,  1.4204e-01,  ..., -7.2373e-02,\n",
            "          -9.9225e-02, -1.3963e-02],\n",
            "         [-1.9834e-01, -2.9627e-02,  1.2129e-01,  ..., -1.1225e-01,\n",
            "          -1.1844e-01,  1.6431e-02],\n",
            "         [-1.9077e-01, -1.6348e-02,  1.2287e-01,  ..., -5.8040e-02,\n",
            "          -8.0201e-02,  2.9263e-02]],\n",
            "\n",
            "        [[ 1.2613e-01,  1.4094e-01,  4.3435e-02,  ..., -1.6793e-01,\n",
            "           5.2148e-02, -3.1780e-02],\n",
            "         [ 1.0096e-01,  6.5862e-02,  6.0101e-02,  ..., -1.7619e-01,\n",
            "           9.9892e-03, -4.9180e-02],\n",
            "         [ 4.3674e-02,  1.2874e-01,  4.3206e-02,  ..., -2.0617e-01,\n",
            "          -3.0046e-02, -1.9185e-02],\n",
            "         ...,\n",
            "         [ 9.9415e-02,  5.8195e-02,  7.6560e-02,  ..., -2.5112e-01,\n",
            "          -8.1971e-03, -5.0121e-02],\n",
            "         [ 9.9415e-02,  5.8195e-02,  7.6560e-02,  ..., -2.5112e-01,\n",
            "          -8.1972e-03, -5.0121e-02],\n",
            "         [ 9.9415e-02,  5.8195e-02,  7.6560e-02,  ..., -2.5112e-01,\n",
            "          -8.1972e-03, -5.0121e-02]],\n",
            "\n",
            "        [[-4.0047e-03,  1.8578e-01,  7.7507e-02,  ..., -1.0271e-01,\n",
            "           1.8046e-02,  1.1650e-02],\n",
            "         [ 2.0852e-02,  1.6892e-01,  7.7456e-02,  ..., -3.8873e-03,\n",
            "           1.1000e-02, -6.9556e-02],\n",
            "         [ 7.5677e-03,  1.2392e-01,  1.0001e-01,  ..., -7.2806e-02,\n",
            "          -1.2595e-03, -2.5996e-02],\n",
            "         ...,\n",
            "         [-5.7345e-03,  1.4724e-01,  8.9333e-02,  ..., -8.4278e-02,\n",
            "           3.6609e-02, -9.4445e-02],\n",
            "         [-5.7344e-03,  1.4724e-01,  8.9333e-02,  ..., -8.4278e-02,\n",
            "           3.6609e-02, -9.4445e-02],\n",
            "         [-5.7344e-03,  1.4724e-01,  8.9333e-02,  ..., -8.4278e-02,\n",
            "           3.6609e-02, -9.4445e-02]]], grad_fn=<ViewBackward0>)\n",
            "torch.Size([10, 20, 512])\n"
          ]
        }
      ]
    },
    {
      "cell_type": "code",
      "source": [],
      "metadata": {
        "id": "2E73XoJIaF9M"
      },
      "execution_count": null,
      "outputs": []
    },
    {
      "cell_type": "markdown",
      "source": [
        "### **전체 코드**"
      ],
      "metadata": {
        "id": "fqMN-3p4aIzi"
      }
    },
    {
      "cell_type": "markdown",
      "source": [
        "위의 과정을 모두 합쳐 하나의 Multi-head attention 모듈을 구현하겠습니다."
      ],
      "metadata": {
        "id": "vDCAIiLEaKfV"
      }
    },
    {
      "cell_type": "code",
      "source": [
        "class MultiheadAttention(nn.Module):\n",
        "\n",
        "    def __init__(self):\n",
        "        super(MultiheadAttention, self).__init__()\n",
        "\n",
        "        #Q, K, V learnable matrices\n",
        "        self.w_q = nn.Linear(d_model, d_model)\n",
        "        self.w_k = nn.Linear(d_model, d_model)\n",
        "        self.w_v = nn.Linear(d_model, d_model)\n",
        "\n",
        "        #Linear transformation for concatenated outputs\n",
        "        self.w_o = nn.Linear(d_model, d_model)\n",
        "\n",
        "    def self_attention(self, q, k, v):\n",
        "\n",
        "        attn_scores = torch.matmul(q, k.transpose(-2, -1)) / math.sqrt(d_k) # (B, num_heads, L, L)\n",
        "        attn_dists = F.softmax(attn_scores, dim = -1) # (B, num_heads, L, L)\n",
        "\n",
        "        attn_values = torch.matmul(attn_dists, v) # (B, num_heads, L, d_k)\n",
        "\n",
        "        return attn_values\n",
        "\n",
        "\n",
        "    def forward(self, q, k, v):\n",
        "\n",
        "        batch_size = q.shape[0]\n",
        "\n",
        "        q = self.w_q(q) # (B, L, d_model)\n",
        "        k = self.w_k(k) # (B, L, d_model)\n",
        "        v = self.w_v(v) # (B, L, d_model)\n",
        "\n",
        "        #split into num_heads\n",
        "        q = q.view(batch_size, -1, num_heads, d_k) # (B, L, num_heads, d_k)\n",
        "        k = k.view(batch_size, -1, num_heads, d_k) # (B, L, num_heads, d_k)\n",
        "        v = v.view(batch_size, -1, num_heads, d_k) # (B, L, num_heads, d_k)\n",
        "\n",
        "        q = q.transpose(1, 2) # (B, num_heads, L, d_k)\n",
        "        k = k.transpose(1, 2) # (B, num_heads, L, d_k)\n",
        "        v = v.transpose(1, 2) # (B, num_heads, L, d_k)\n",
        "\n",
        "        attn_values = self.self_attention(q, k, v) # (B, num_heads, L, d_k)\n",
        "        attn_values = attn_values.transpose(1, 2).contiguous().view(batch_size, -1, d_model) # (B, L, num_heads, d_k) => (B, L, d_model)\n",
        "\n",
        "        return self.w_o(attn_values)\n"
      ],
      "metadata": {
        "id": "YeCIAswvaJAe"
      },
      "execution_count": 24,
      "outputs": []
    },
    {
      "cell_type": "code",
      "source": [
        "multihead_attn = MultiheadAttention()\n",
        "\n",
        "outputs = multihead_attn(batch_emb, batch_emb, batch_emb) # (B, L, d_model)"
      ],
      "metadata": {
        "id": "XjMWs5ZgbnNk"
      },
      "execution_count": 25,
      "outputs": []
    },
    {
      "cell_type": "code",
      "source": [
        "print(outputs)\n",
        "print(outputs.shape)"
      ],
      "metadata": {
        "colab": {
          "base_uri": "https://localhost:8080/"
        },
        "id": "580fvzvxcH6O",
        "outputId": "7e59edf5-6548-49cf-fa12-1a1e6b59dbc2"
      },
      "execution_count": 26,
      "outputs": [
        {
          "output_type": "stream",
          "name": "stdout",
          "text": [
            "tensor([[[ 0.0645, -0.0619, -0.0445,  ...,  0.0419,  0.0232,  0.2504],\n",
            "         [ 0.1557, -0.0769, -0.0327,  ...,  0.0721,  0.0847,  0.1345],\n",
            "         [ 0.0980, -0.0377, -0.0379,  ...,  0.0770,  0.0285,  0.1623],\n",
            "         ...,\n",
            "         [ 0.0915, -0.0602, -0.0503,  ...,  0.0725,  0.0727,  0.1785],\n",
            "         [ 0.0915, -0.0602, -0.0503,  ...,  0.0725,  0.0727,  0.1785],\n",
            "         [ 0.0915, -0.0602, -0.0503,  ...,  0.0725,  0.0727,  0.1785]],\n",
            "\n",
            "        [[ 0.0536, -0.1680, -0.1299,  ...,  0.0798,  0.0284,  0.3093],\n",
            "         [ 0.1877, -0.2128, -0.1683,  ...,  0.0924,  0.0506,  0.3370],\n",
            "         [ 0.1306, -0.2158, -0.1210,  ...,  0.1101,  0.0632,  0.3397],\n",
            "         ...,\n",
            "         [ 0.1318, -0.2429, -0.0956,  ...,  0.0957,  0.0865,  0.3430],\n",
            "         [ 0.1318, -0.2429, -0.0956,  ...,  0.0957,  0.0865,  0.3430],\n",
            "         [ 0.1318, -0.2429, -0.0956,  ...,  0.0957,  0.0865,  0.3430]],\n",
            "\n",
            "        [[ 0.0850, -0.1528, -0.1028,  ..., -0.1613,  0.0125,  0.1932],\n",
            "         [-0.0011, -0.1294, -0.1337,  ..., -0.0718,  0.0191,  0.1622],\n",
            "         [ 0.0147, -0.1634, -0.0919,  ..., -0.1432,  0.0068,  0.1788],\n",
            "         ...,\n",
            "         [ 0.1009, -0.1478, -0.1377,  ..., -0.1066,  0.0174,  0.1759],\n",
            "         [ 0.1009, -0.1478, -0.1377,  ..., -0.1066,  0.0174,  0.1759],\n",
            "         [ 0.1009, -0.1478, -0.1377,  ..., -0.1066,  0.0174,  0.1759]],\n",
            "\n",
            "        ...,\n",
            "\n",
            "        [[ 0.1362, -0.1065,  0.0420,  ..., -0.0271, -0.1390, -0.0694],\n",
            "         [ 0.0988, -0.0716,  0.0312,  ..., -0.0036, -0.1554, -0.0186],\n",
            "         [ 0.0946, -0.0788,  0.0422,  ..., -0.0493, -0.1947, -0.0462],\n",
            "         ...,\n",
            "         [ 0.1327, -0.1053, -0.0233,  ..., -0.0085, -0.1379,  0.0235],\n",
            "         [ 0.1086, -0.0954,  0.0521,  ..., -0.0523, -0.1382, -0.0772],\n",
            "         [ 0.1068, -0.1143, -0.0253,  ..., -0.0718, -0.1341, -0.0753]],\n",
            "\n",
            "        [[ 0.1180,  0.0079,  0.0291,  ...,  0.0510,  0.1341,  0.0854],\n",
            "         [ 0.0699,  0.0309, -0.0089,  ...,  0.0482,  0.0668,  0.0508],\n",
            "         [ 0.0847,  0.0165, -0.0293,  ...,  0.0402,  0.0613,  0.1301],\n",
            "         ...,\n",
            "         [ 0.1088,  0.0124,  0.0735,  ...,  0.0620,  0.1093,  0.0937],\n",
            "         [ 0.1088,  0.0124,  0.0735,  ...,  0.0620,  0.1093,  0.0937],\n",
            "         [ 0.1088,  0.0124,  0.0735,  ...,  0.0620,  0.1093,  0.0937]],\n",
            "\n",
            "        [[ 0.0704, -0.0657, -0.0087,  ..., -0.0125, -0.0689,  0.0914],\n",
            "         [ 0.0809,  0.0137,  0.0232,  ...,  0.0082, -0.0684,  0.0815],\n",
            "         [ 0.1417,  0.0258,  0.0976,  ...,  0.0119, -0.0220,  0.1753],\n",
            "         ...,\n",
            "         [ 0.1230, -0.0421,  0.0587,  ..., -0.0014, -0.0029,  0.1052],\n",
            "         [ 0.1230, -0.0421,  0.0587,  ..., -0.0014, -0.0029,  0.1052],\n",
            "         [ 0.1230, -0.0421,  0.0587,  ..., -0.0014, -0.0029,  0.1052]]],\n",
            "       grad_fn=<ViewBackward0>)\n",
            "torch.Size([10, 20, 512])\n"
          ]
        }
      ]
    },
    {
      "cell_type": "code",
      "source": [],
      "metadata": {
        "id": "xyN6itCNcJpV"
      },
      "execution_count": null,
      "outputs": []
    }
  ]
}
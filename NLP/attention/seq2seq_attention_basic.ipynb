{
  "nbformat": 4,
  "nbformat_minor": 0,
  "metadata": {
    "colab": {
      "provenance": []
    },
    "kernelspec": {
      "name": "python3",
      "display_name": "Python 3"
    },
    "language_info": {
      "name": "python"
    },
    "widgets": {
      "application/vnd.jupyter.widget-state+json": {
        "31742527b6b043839a9da3148d1f4ec5": {
          "model_module": "@jupyter-widgets/controls",
          "model_name": "HBoxModel",
          "model_module_version": "1.5.0",
          "state": {
            "_dom_classes": [],
            "_model_module": "@jupyter-widgets/controls",
            "_model_module_version": "1.5.0",
            "_model_name": "HBoxModel",
            "_view_count": null,
            "_view_module": "@jupyter-widgets/controls",
            "_view_module_version": "1.5.0",
            "_view_name": "HBoxView",
            "box_style": "",
            "children": [
              "IPY_MODEL_e61e0b15e1c74044a888bf267b0c1d06",
              "IPY_MODEL_9496dc8c0dad4ab790c9938737225de2",
              "IPY_MODEL_02fb1c0884f840cb9c1b7294362e1b3f"
            ],
            "layout": "IPY_MODEL_48c43db7b7e84925ac15942b6ea3e471"
          }
        },
        "e61e0b15e1c74044a888bf267b0c1d06": {
          "model_module": "@jupyter-widgets/controls",
          "model_name": "HTMLModel",
          "model_module_version": "1.5.0",
          "state": {
            "_dom_classes": [],
            "_model_module": "@jupyter-widgets/controls",
            "_model_module_version": "1.5.0",
            "_model_name": "HTMLModel",
            "_view_count": null,
            "_view_module": "@jupyter-widgets/controls",
            "_view_module_version": "1.5.0",
            "_view_name": "HTMLView",
            "description": "",
            "description_tooltip": null,
            "layout": "IPY_MODEL_e4f91fb94a8c4679bd488f353561cf20",
            "placeholder": "​",
            "style": "IPY_MODEL_3998891ad0dc44d5a07122607753e6f8",
            "value": "100%"
          }
        },
        "9496dc8c0dad4ab790c9938737225de2": {
          "model_module": "@jupyter-widgets/controls",
          "model_name": "FloatProgressModel",
          "model_module_version": "1.5.0",
          "state": {
            "_dom_classes": [],
            "_model_module": "@jupyter-widgets/controls",
            "_model_module_version": "1.5.0",
            "_model_name": "FloatProgressModel",
            "_view_count": null,
            "_view_module": "@jupyter-widgets/controls",
            "_view_module_version": "1.5.0",
            "_view_name": "ProgressView",
            "bar_style": "success",
            "description": "",
            "description_tooltip": null,
            "layout": "IPY_MODEL_803f77bc0c0840258c00f44325c46b07",
            "max": 10,
            "min": 0,
            "orientation": "horizontal",
            "style": "IPY_MODEL_ef1c873175eb4ec98136b965aaddf3a3",
            "value": 10
          }
        },
        "02fb1c0884f840cb9c1b7294362e1b3f": {
          "model_module": "@jupyter-widgets/controls",
          "model_name": "HTMLModel",
          "model_module_version": "1.5.0",
          "state": {
            "_dom_classes": [],
            "_model_module": "@jupyter-widgets/controls",
            "_model_module_version": "1.5.0",
            "_model_name": "HTMLModel",
            "_view_count": null,
            "_view_module": "@jupyter-widgets/controls",
            "_view_module_version": "1.5.0",
            "_view_name": "HTMLView",
            "description": "",
            "description_tooltip": null,
            "layout": "IPY_MODEL_b69aae84d9e440be93f9198911965cb3",
            "placeholder": "​",
            "style": "IPY_MODEL_437c1601099c4e38bf03d3219b19b218",
            "value": " 10/10 [00:00&lt;00:00, 411.07it/s]"
          }
        },
        "48c43db7b7e84925ac15942b6ea3e471": {
          "model_module": "@jupyter-widgets/base",
          "model_name": "LayoutModel",
          "model_module_version": "1.2.0",
          "state": {
            "_model_module": "@jupyter-widgets/base",
            "_model_module_version": "1.2.0",
            "_model_name": "LayoutModel",
            "_view_count": null,
            "_view_module": "@jupyter-widgets/base",
            "_view_module_version": "1.2.0",
            "_view_name": "LayoutView",
            "align_content": null,
            "align_items": null,
            "align_self": null,
            "border": null,
            "bottom": null,
            "display": null,
            "flex": null,
            "flex_flow": null,
            "grid_area": null,
            "grid_auto_columns": null,
            "grid_auto_flow": null,
            "grid_auto_rows": null,
            "grid_column": null,
            "grid_gap": null,
            "grid_row": null,
            "grid_template_areas": null,
            "grid_template_columns": null,
            "grid_template_rows": null,
            "height": null,
            "justify_content": null,
            "justify_items": null,
            "left": null,
            "margin": null,
            "max_height": null,
            "max_width": null,
            "min_height": null,
            "min_width": null,
            "object_fit": null,
            "object_position": null,
            "order": null,
            "overflow": null,
            "overflow_x": null,
            "overflow_y": null,
            "padding": null,
            "right": null,
            "top": null,
            "visibility": null,
            "width": null
          }
        },
        "e4f91fb94a8c4679bd488f353561cf20": {
          "model_module": "@jupyter-widgets/base",
          "model_name": "LayoutModel",
          "model_module_version": "1.2.0",
          "state": {
            "_model_module": "@jupyter-widgets/base",
            "_model_module_version": "1.2.0",
            "_model_name": "LayoutModel",
            "_view_count": null,
            "_view_module": "@jupyter-widgets/base",
            "_view_module_version": "1.2.0",
            "_view_name": "LayoutView",
            "align_content": null,
            "align_items": null,
            "align_self": null,
            "border": null,
            "bottom": null,
            "display": null,
            "flex": null,
            "flex_flow": null,
            "grid_area": null,
            "grid_auto_columns": null,
            "grid_auto_flow": null,
            "grid_auto_rows": null,
            "grid_column": null,
            "grid_gap": null,
            "grid_row": null,
            "grid_template_areas": null,
            "grid_template_columns": null,
            "grid_template_rows": null,
            "height": null,
            "justify_content": null,
            "justify_items": null,
            "left": null,
            "margin": null,
            "max_height": null,
            "max_width": null,
            "min_height": null,
            "min_width": null,
            "object_fit": null,
            "object_position": null,
            "order": null,
            "overflow": null,
            "overflow_x": null,
            "overflow_y": null,
            "padding": null,
            "right": null,
            "top": null,
            "visibility": null,
            "width": null
          }
        },
        "3998891ad0dc44d5a07122607753e6f8": {
          "model_module": "@jupyter-widgets/controls",
          "model_name": "DescriptionStyleModel",
          "model_module_version": "1.5.0",
          "state": {
            "_model_module": "@jupyter-widgets/controls",
            "_model_module_version": "1.5.0",
            "_model_name": "DescriptionStyleModel",
            "_view_count": null,
            "_view_module": "@jupyter-widgets/base",
            "_view_module_version": "1.2.0",
            "_view_name": "StyleView",
            "description_width": ""
          }
        },
        "803f77bc0c0840258c00f44325c46b07": {
          "model_module": "@jupyter-widgets/base",
          "model_name": "LayoutModel",
          "model_module_version": "1.2.0",
          "state": {
            "_model_module": "@jupyter-widgets/base",
            "_model_module_version": "1.2.0",
            "_model_name": "LayoutModel",
            "_view_count": null,
            "_view_module": "@jupyter-widgets/base",
            "_view_module_version": "1.2.0",
            "_view_name": "LayoutView",
            "align_content": null,
            "align_items": null,
            "align_self": null,
            "border": null,
            "bottom": null,
            "display": null,
            "flex": null,
            "flex_flow": null,
            "grid_area": null,
            "grid_auto_columns": null,
            "grid_auto_flow": null,
            "grid_auto_rows": null,
            "grid_column": null,
            "grid_gap": null,
            "grid_row": null,
            "grid_template_areas": null,
            "grid_template_columns": null,
            "grid_template_rows": null,
            "height": null,
            "justify_content": null,
            "justify_items": null,
            "left": null,
            "margin": null,
            "max_height": null,
            "max_width": null,
            "min_height": null,
            "min_width": null,
            "object_fit": null,
            "object_position": null,
            "order": null,
            "overflow": null,
            "overflow_x": null,
            "overflow_y": null,
            "padding": null,
            "right": null,
            "top": null,
            "visibility": null,
            "width": null
          }
        },
        "ef1c873175eb4ec98136b965aaddf3a3": {
          "model_module": "@jupyter-widgets/controls",
          "model_name": "ProgressStyleModel",
          "model_module_version": "1.5.0",
          "state": {
            "_model_module": "@jupyter-widgets/controls",
            "_model_module_version": "1.5.0",
            "_model_name": "ProgressStyleModel",
            "_view_count": null,
            "_view_module": "@jupyter-widgets/base",
            "_view_module_version": "1.2.0",
            "_view_name": "StyleView",
            "bar_color": null,
            "description_width": ""
          }
        },
        "b69aae84d9e440be93f9198911965cb3": {
          "model_module": "@jupyter-widgets/base",
          "model_name": "LayoutModel",
          "model_module_version": "1.2.0",
          "state": {
            "_model_module": "@jupyter-widgets/base",
            "_model_module_version": "1.2.0",
            "_model_name": "LayoutModel",
            "_view_count": null,
            "_view_module": "@jupyter-widgets/base",
            "_view_module_version": "1.2.0",
            "_view_name": "LayoutView",
            "align_content": null,
            "align_items": null,
            "align_self": null,
            "border": null,
            "bottom": null,
            "display": null,
            "flex": null,
            "flex_flow": null,
            "grid_area": null,
            "grid_auto_columns": null,
            "grid_auto_flow": null,
            "grid_auto_rows": null,
            "grid_column": null,
            "grid_gap": null,
            "grid_row": null,
            "grid_template_areas": null,
            "grid_template_columns": null,
            "grid_template_rows": null,
            "height": null,
            "justify_content": null,
            "justify_items": null,
            "left": null,
            "margin": null,
            "max_height": null,
            "max_width": null,
            "min_height": null,
            "min_width": null,
            "object_fit": null,
            "object_position": null,
            "order": null,
            "overflow": null,
            "overflow_x": null,
            "overflow_y": null,
            "padding": null,
            "right": null,
            "top": null,
            "visibility": null,
            "width": null
          }
        },
        "437c1601099c4e38bf03d3219b19b218": {
          "model_module": "@jupyter-widgets/controls",
          "model_name": "DescriptionStyleModel",
          "model_module_version": "1.5.0",
          "state": {
            "_model_module": "@jupyter-widgets/controls",
            "_model_module_version": "1.5.0",
            "_model_name": "DescriptionStyleModel",
            "_view_count": null,
            "_view_module": "@jupyter-widgets/base",
            "_view_module_version": "1.2.0",
            "_view_name": "StyleView",
            "description_width": ""
          }
        },
        "4d21462d7ae048d1b86daeadfe185ac5": {
          "model_module": "@jupyter-widgets/controls",
          "model_name": "HBoxModel",
          "model_module_version": "1.5.0",
          "state": {
            "_dom_classes": [],
            "_model_module": "@jupyter-widgets/controls",
            "_model_module_version": "1.5.0",
            "_model_name": "HBoxModel",
            "_view_count": null,
            "_view_module": "@jupyter-widgets/controls",
            "_view_module_version": "1.5.0",
            "_view_name": "HBoxView",
            "box_style": "",
            "children": [
              "IPY_MODEL_dab7ddf4675643fc92742f5fe6bb8fed",
              "IPY_MODEL_4a10268e704a4074bc9f3fcd37b33845",
              "IPY_MODEL_aa32c88ec4844e7a9b32dae8ac4312be"
            ],
            "layout": "IPY_MODEL_812103341ec640af877e6d8f400b7422"
          }
        },
        "dab7ddf4675643fc92742f5fe6bb8fed": {
          "model_module": "@jupyter-widgets/controls",
          "model_name": "HTMLModel",
          "model_module_version": "1.5.0",
          "state": {
            "_dom_classes": [],
            "_model_module": "@jupyter-widgets/controls",
            "_model_module_version": "1.5.0",
            "_model_name": "HTMLModel",
            "_view_count": null,
            "_view_module": "@jupyter-widgets/controls",
            "_view_module_version": "1.5.0",
            "_view_name": "HTMLView",
            "description": "",
            "description_tooltip": null,
            "layout": "IPY_MODEL_d9f4e52454a248c2ba57b5b7cc4ec33e",
            "placeholder": "​",
            "style": "IPY_MODEL_127397a9ee204e9a9479b67fb6f1c303",
            "value": "100%"
          }
        },
        "4a10268e704a4074bc9f3fcd37b33845": {
          "model_module": "@jupyter-widgets/controls",
          "model_name": "FloatProgressModel",
          "model_module_version": "1.5.0",
          "state": {
            "_dom_classes": [],
            "_model_module": "@jupyter-widgets/controls",
            "_model_module_version": "1.5.0",
            "_model_name": "FloatProgressModel",
            "_view_count": null,
            "_view_module": "@jupyter-widgets/controls",
            "_view_module_version": "1.5.0",
            "_view_name": "ProgressView",
            "bar_style": "success",
            "description": "",
            "description_tooltip": null,
            "layout": "IPY_MODEL_fa5bb57e03f54e0381c7bb39e8461ace",
            "max": 10,
            "min": 0,
            "orientation": "horizontal",
            "style": "IPY_MODEL_2f140b9e38e544f09f69c6d21686d1fd",
            "value": 10
          }
        },
        "aa32c88ec4844e7a9b32dae8ac4312be": {
          "model_module": "@jupyter-widgets/controls",
          "model_name": "HTMLModel",
          "model_module_version": "1.5.0",
          "state": {
            "_dom_classes": [],
            "_model_module": "@jupyter-widgets/controls",
            "_model_module_version": "1.5.0",
            "_model_name": "HTMLModel",
            "_view_count": null,
            "_view_module": "@jupyter-widgets/controls",
            "_view_module_version": "1.5.0",
            "_view_name": "HTMLView",
            "description": "",
            "description_tooltip": null,
            "layout": "IPY_MODEL_8faaa631eb3f47c08a7292bc3f8d4c9c",
            "placeholder": "​",
            "style": "IPY_MODEL_74ce44fce5524619a8c38116712723f5",
            "value": " 10/10 [00:00&lt;00:00, 193.28it/s]"
          }
        },
        "812103341ec640af877e6d8f400b7422": {
          "model_module": "@jupyter-widgets/base",
          "model_name": "LayoutModel",
          "model_module_version": "1.2.0",
          "state": {
            "_model_module": "@jupyter-widgets/base",
            "_model_module_version": "1.2.0",
            "_model_name": "LayoutModel",
            "_view_count": null,
            "_view_module": "@jupyter-widgets/base",
            "_view_module_version": "1.2.0",
            "_view_name": "LayoutView",
            "align_content": null,
            "align_items": null,
            "align_self": null,
            "border": null,
            "bottom": null,
            "display": null,
            "flex": null,
            "flex_flow": null,
            "grid_area": null,
            "grid_auto_columns": null,
            "grid_auto_flow": null,
            "grid_auto_rows": null,
            "grid_column": null,
            "grid_gap": null,
            "grid_row": null,
            "grid_template_areas": null,
            "grid_template_columns": null,
            "grid_template_rows": null,
            "height": null,
            "justify_content": null,
            "justify_items": null,
            "left": null,
            "margin": null,
            "max_height": null,
            "max_width": null,
            "min_height": null,
            "min_width": null,
            "object_fit": null,
            "object_position": null,
            "order": null,
            "overflow": null,
            "overflow_x": null,
            "overflow_y": null,
            "padding": null,
            "right": null,
            "top": null,
            "visibility": null,
            "width": null
          }
        },
        "d9f4e52454a248c2ba57b5b7cc4ec33e": {
          "model_module": "@jupyter-widgets/base",
          "model_name": "LayoutModel",
          "model_module_version": "1.2.0",
          "state": {
            "_model_module": "@jupyter-widgets/base",
            "_model_module_version": "1.2.0",
            "_model_name": "LayoutModel",
            "_view_count": null,
            "_view_module": "@jupyter-widgets/base",
            "_view_module_version": "1.2.0",
            "_view_name": "LayoutView",
            "align_content": null,
            "align_items": null,
            "align_self": null,
            "border": null,
            "bottom": null,
            "display": null,
            "flex": null,
            "flex_flow": null,
            "grid_area": null,
            "grid_auto_columns": null,
            "grid_auto_flow": null,
            "grid_auto_rows": null,
            "grid_column": null,
            "grid_gap": null,
            "grid_row": null,
            "grid_template_areas": null,
            "grid_template_columns": null,
            "grid_template_rows": null,
            "height": null,
            "justify_content": null,
            "justify_items": null,
            "left": null,
            "margin": null,
            "max_height": null,
            "max_width": null,
            "min_height": null,
            "min_width": null,
            "object_fit": null,
            "object_position": null,
            "order": null,
            "overflow": null,
            "overflow_x": null,
            "overflow_y": null,
            "padding": null,
            "right": null,
            "top": null,
            "visibility": null,
            "width": null
          }
        },
        "127397a9ee204e9a9479b67fb6f1c303": {
          "model_module": "@jupyter-widgets/controls",
          "model_name": "DescriptionStyleModel",
          "model_module_version": "1.5.0",
          "state": {
            "_model_module": "@jupyter-widgets/controls",
            "_model_module_version": "1.5.0",
            "_model_name": "DescriptionStyleModel",
            "_view_count": null,
            "_view_module": "@jupyter-widgets/base",
            "_view_module_version": "1.2.0",
            "_view_name": "StyleView",
            "description_width": ""
          }
        },
        "fa5bb57e03f54e0381c7bb39e8461ace": {
          "model_module": "@jupyter-widgets/base",
          "model_name": "LayoutModel",
          "model_module_version": "1.2.0",
          "state": {
            "_model_module": "@jupyter-widgets/base",
            "_model_module_version": "1.2.0",
            "_model_name": "LayoutModel",
            "_view_count": null,
            "_view_module": "@jupyter-widgets/base",
            "_view_module_version": "1.2.0",
            "_view_name": "LayoutView",
            "align_content": null,
            "align_items": null,
            "align_self": null,
            "border": null,
            "bottom": null,
            "display": null,
            "flex": null,
            "flex_flow": null,
            "grid_area": null,
            "grid_auto_columns": null,
            "grid_auto_flow": null,
            "grid_auto_rows": null,
            "grid_column": null,
            "grid_gap": null,
            "grid_row": null,
            "grid_template_areas": null,
            "grid_template_columns": null,
            "grid_template_rows": null,
            "height": null,
            "justify_content": null,
            "justify_items": null,
            "left": null,
            "margin": null,
            "max_height": null,
            "max_width": null,
            "min_height": null,
            "min_width": null,
            "object_fit": null,
            "object_position": null,
            "order": null,
            "overflow": null,
            "overflow_x": null,
            "overflow_y": null,
            "padding": null,
            "right": null,
            "top": null,
            "visibility": null,
            "width": null
          }
        },
        "2f140b9e38e544f09f69c6d21686d1fd": {
          "model_module": "@jupyter-widgets/controls",
          "model_name": "ProgressStyleModel",
          "model_module_version": "1.5.0",
          "state": {
            "_model_module": "@jupyter-widgets/controls",
            "_model_module_version": "1.5.0",
            "_model_name": "ProgressStyleModel",
            "_view_count": null,
            "_view_module": "@jupyter-widgets/base",
            "_view_module_version": "1.2.0",
            "_view_name": "StyleView",
            "bar_color": null,
            "description_width": ""
          }
        },
        "8faaa631eb3f47c08a7292bc3f8d4c9c": {
          "model_module": "@jupyter-widgets/base",
          "model_name": "LayoutModel",
          "model_module_version": "1.2.0",
          "state": {
            "_model_module": "@jupyter-widgets/base",
            "_model_module_version": "1.2.0",
            "_model_name": "LayoutModel",
            "_view_count": null,
            "_view_module": "@jupyter-widgets/base",
            "_view_module_version": "1.2.0",
            "_view_name": "LayoutView",
            "align_content": null,
            "align_items": null,
            "align_self": null,
            "border": null,
            "bottom": null,
            "display": null,
            "flex": null,
            "flex_flow": null,
            "grid_area": null,
            "grid_auto_columns": null,
            "grid_auto_flow": null,
            "grid_auto_rows": null,
            "grid_column": null,
            "grid_gap": null,
            "grid_row": null,
            "grid_template_areas": null,
            "grid_template_columns": null,
            "grid_template_rows": null,
            "height": null,
            "justify_content": null,
            "justify_items": null,
            "left": null,
            "margin": null,
            "max_height": null,
            "max_width": null,
            "min_height": null,
            "min_width": null,
            "object_fit": null,
            "object_position": null,
            "order": null,
            "overflow": null,
            "overflow_x": null,
            "overflow_y": null,
            "padding": null,
            "right": null,
            "top": null,
            "visibility": null,
            "width": null
          }
        },
        "74ce44fce5524619a8c38116712723f5": {
          "model_module": "@jupyter-widgets/controls",
          "model_name": "DescriptionStyleModel",
          "model_module_version": "1.5.0",
          "state": {
            "_model_module": "@jupyter-widgets/controls",
            "_model_module_version": "1.5.0",
            "_model_name": "DescriptionStyleModel",
            "_view_count": null,
            "_view_module": "@jupyter-widgets/base",
            "_view_module_version": "1.2.0",
            "_view_name": "StyleView",
            "description_width": ""
          }
        },
        "7a882a18145e412289cc8a9bb7c937e3": {
          "model_module": "@jupyter-widgets/controls",
          "model_name": "HBoxModel",
          "model_module_version": "1.5.0",
          "state": {
            "_dom_classes": [],
            "_model_module": "@jupyter-widgets/controls",
            "_model_module_version": "1.5.0",
            "_model_name": "HBoxModel",
            "_view_count": null,
            "_view_module": "@jupyter-widgets/controls",
            "_view_module_version": "1.5.0",
            "_view_name": "HBoxView",
            "box_style": "",
            "children": [
              "IPY_MODEL_ea84611306c240f9b5f438c27fed13a3",
              "IPY_MODEL_670a312e2a6b4c06944b0a4a5d1f181e",
              "IPY_MODEL_bfdee53a119940178d006a4fa99311e0"
            ],
            "layout": "IPY_MODEL_334de1bdb749425fb2142d68096e8147"
          }
        },
        "ea84611306c240f9b5f438c27fed13a3": {
          "model_module": "@jupyter-widgets/controls",
          "model_name": "HTMLModel",
          "model_module_version": "1.5.0",
          "state": {
            "_dom_classes": [],
            "_model_module": "@jupyter-widgets/controls",
            "_model_module_version": "1.5.0",
            "_model_name": "HTMLModel",
            "_view_count": null,
            "_view_module": "@jupyter-widgets/controls",
            "_view_module_version": "1.5.0",
            "_view_name": "HTMLView",
            "description": "",
            "description_tooltip": null,
            "layout": "IPY_MODEL_39ff564427c3485da46d7184d40c7100",
            "placeholder": "​",
            "style": "IPY_MODEL_31c2cf81e0284b30aaa058dbae5ceaa1",
            "value": "100%"
          }
        },
        "670a312e2a6b4c06944b0a4a5d1f181e": {
          "model_module": "@jupyter-widgets/controls",
          "model_name": "FloatProgressModel",
          "model_module_version": "1.5.0",
          "state": {
            "_dom_classes": [],
            "_model_module": "@jupyter-widgets/controls",
            "_model_module_version": "1.5.0",
            "_model_name": "FloatProgressModel",
            "_view_count": null,
            "_view_module": "@jupyter-widgets/controls",
            "_view_module_version": "1.5.0",
            "_view_name": "ProgressView",
            "bar_style": "success",
            "description": "",
            "description_tooltip": null,
            "layout": "IPY_MODEL_9cf6a0708595448694a09a49dd5cf39b",
            "max": 10,
            "min": 0,
            "orientation": "horizontal",
            "style": "IPY_MODEL_35bebe3145964431b626f0ff0f04c0dd",
            "value": 10
          }
        },
        "bfdee53a119940178d006a4fa99311e0": {
          "model_module": "@jupyter-widgets/controls",
          "model_name": "HTMLModel",
          "model_module_version": "1.5.0",
          "state": {
            "_dom_classes": [],
            "_model_module": "@jupyter-widgets/controls",
            "_model_module_version": "1.5.0",
            "_model_name": "HTMLModel",
            "_view_count": null,
            "_view_module": "@jupyter-widgets/controls",
            "_view_module_version": "1.5.0",
            "_view_name": "HTMLView",
            "description": "",
            "description_tooltip": null,
            "layout": "IPY_MODEL_3dbcd0bcbd3348caa434a4e0f462b92a",
            "placeholder": "​",
            "style": "IPY_MODEL_b71be3781833481e99a6d25dbca05969",
            "value": " 10/10 [00:00&lt;00:00, 261.72it/s]"
          }
        },
        "334de1bdb749425fb2142d68096e8147": {
          "model_module": "@jupyter-widgets/base",
          "model_name": "LayoutModel",
          "model_module_version": "1.2.0",
          "state": {
            "_model_module": "@jupyter-widgets/base",
            "_model_module_version": "1.2.0",
            "_model_name": "LayoutModel",
            "_view_count": null,
            "_view_module": "@jupyter-widgets/base",
            "_view_module_version": "1.2.0",
            "_view_name": "LayoutView",
            "align_content": null,
            "align_items": null,
            "align_self": null,
            "border": null,
            "bottom": null,
            "display": null,
            "flex": null,
            "flex_flow": null,
            "grid_area": null,
            "grid_auto_columns": null,
            "grid_auto_flow": null,
            "grid_auto_rows": null,
            "grid_column": null,
            "grid_gap": null,
            "grid_row": null,
            "grid_template_areas": null,
            "grid_template_columns": null,
            "grid_template_rows": null,
            "height": null,
            "justify_content": null,
            "justify_items": null,
            "left": null,
            "margin": null,
            "max_height": null,
            "max_width": null,
            "min_height": null,
            "min_width": null,
            "object_fit": null,
            "object_position": null,
            "order": null,
            "overflow": null,
            "overflow_x": null,
            "overflow_y": null,
            "padding": null,
            "right": null,
            "top": null,
            "visibility": null,
            "width": null
          }
        },
        "39ff564427c3485da46d7184d40c7100": {
          "model_module": "@jupyter-widgets/base",
          "model_name": "LayoutModel",
          "model_module_version": "1.2.0",
          "state": {
            "_model_module": "@jupyter-widgets/base",
            "_model_module_version": "1.2.0",
            "_model_name": "LayoutModel",
            "_view_count": null,
            "_view_module": "@jupyter-widgets/base",
            "_view_module_version": "1.2.0",
            "_view_name": "LayoutView",
            "align_content": null,
            "align_items": null,
            "align_self": null,
            "border": null,
            "bottom": null,
            "display": null,
            "flex": null,
            "flex_flow": null,
            "grid_area": null,
            "grid_auto_columns": null,
            "grid_auto_flow": null,
            "grid_auto_rows": null,
            "grid_column": null,
            "grid_gap": null,
            "grid_row": null,
            "grid_template_areas": null,
            "grid_template_columns": null,
            "grid_template_rows": null,
            "height": null,
            "justify_content": null,
            "justify_items": null,
            "left": null,
            "margin": null,
            "max_height": null,
            "max_width": null,
            "min_height": null,
            "min_width": null,
            "object_fit": null,
            "object_position": null,
            "order": null,
            "overflow": null,
            "overflow_x": null,
            "overflow_y": null,
            "padding": null,
            "right": null,
            "top": null,
            "visibility": null,
            "width": null
          }
        },
        "31c2cf81e0284b30aaa058dbae5ceaa1": {
          "model_module": "@jupyter-widgets/controls",
          "model_name": "DescriptionStyleModel",
          "model_module_version": "1.5.0",
          "state": {
            "_model_module": "@jupyter-widgets/controls",
            "_model_module_version": "1.5.0",
            "_model_name": "DescriptionStyleModel",
            "_view_count": null,
            "_view_module": "@jupyter-widgets/base",
            "_view_module_version": "1.2.0",
            "_view_name": "StyleView",
            "description_width": ""
          }
        },
        "9cf6a0708595448694a09a49dd5cf39b": {
          "model_module": "@jupyter-widgets/base",
          "model_name": "LayoutModel",
          "model_module_version": "1.2.0",
          "state": {
            "_model_module": "@jupyter-widgets/base",
            "_model_module_version": "1.2.0",
            "_model_name": "LayoutModel",
            "_view_count": null,
            "_view_module": "@jupyter-widgets/base",
            "_view_module_version": "1.2.0",
            "_view_name": "LayoutView",
            "align_content": null,
            "align_items": null,
            "align_self": null,
            "border": null,
            "bottom": null,
            "display": null,
            "flex": null,
            "flex_flow": null,
            "grid_area": null,
            "grid_auto_columns": null,
            "grid_auto_flow": null,
            "grid_auto_rows": null,
            "grid_column": null,
            "grid_gap": null,
            "grid_row": null,
            "grid_template_areas": null,
            "grid_template_columns": null,
            "grid_template_rows": null,
            "height": null,
            "justify_content": null,
            "justify_items": null,
            "left": null,
            "margin": null,
            "max_height": null,
            "max_width": null,
            "min_height": null,
            "min_width": null,
            "object_fit": null,
            "object_position": null,
            "order": null,
            "overflow": null,
            "overflow_x": null,
            "overflow_y": null,
            "padding": null,
            "right": null,
            "top": null,
            "visibility": null,
            "width": null
          }
        },
        "35bebe3145964431b626f0ff0f04c0dd": {
          "model_module": "@jupyter-widgets/controls",
          "model_name": "ProgressStyleModel",
          "model_module_version": "1.5.0",
          "state": {
            "_model_module": "@jupyter-widgets/controls",
            "_model_module_version": "1.5.0",
            "_model_name": "ProgressStyleModel",
            "_view_count": null,
            "_view_module": "@jupyter-widgets/base",
            "_view_module_version": "1.2.0",
            "_view_name": "StyleView",
            "bar_color": null,
            "description_width": ""
          }
        },
        "3dbcd0bcbd3348caa434a4e0f462b92a": {
          "model_module": "@jupyter-widgets/base",
          "model_name": "LayoutModel",
          "model_module_version": "1.2.0",
          "state": {
            "_model_module": "@jupyter-widgets/base",
            "_model_module_version": "1.2.0",
            "_model_name": "LayoutModel",
            "_view_count": null,
            "_view_module": "@jupyter-widgets/base",
            "_view_module_version": "1.2.0",
            "_view_name": "LayoutView",
            "align_content": null,
            "align_items": null,
            "align_self": null,
            "border": null,
            "bottom": null,
            "display": null,
            "flex": null,
            "flex_flow": null,
            "grid_area": null,
            "grid_auto_columns": null,
            "grid_auto_flow": null,
            "grid_auto_rows": null,
            "grid_column": null,
            "grid_gap": null,
            "grid_row": null,
            "grid_template_areas": null,
            "grid_template_columns": null,
            "grid_template_rows": null,
            "height": null,
            "justify_content": null,
            "justify_items": null,
            "left": null,
            "margin": null,
            "max_height": null,
            "max_width": null,
            "min_height": null,
            "min_width": null,
            "object_fit": null,
            "object_position": null,
            "order": null,
            "overflow": null,
            "overflow_x": null,
            "overflow_y": null,
            "padding": null,
            "right": null,
            "top": null,
            "visibility": null,
            "width": null
          }
        },
        "b71be3781833481e99a6d25dbca05969": {
          "model_module": "@jupyter-widgets/controls",
          "model_name": "DescriptionStyleModel",
          "model_module_version": "1.5.0",
          "state": {
            "_model_module": "@jupyter-widgets/controls",
            "_model_module_version": "1.5.0",
            "_model_name": "DescriptionStyleModel",
            "_view_count": null,
            "_view_module": "@jupyter-widgets/base",
            "_view_module_version": "1.2.0",
            "_view_name": "StyleView",
            "description_width": ""
          }
        }
      }
    }
  },
  "cells": [
    {
      "cell_type": "markdown",
      "source": [
        "##**6. Seq2seq + Attention**\n",
        "1. 여러 Attention 모듈을 구현합니다.\n",
        "2. 기존 Seq2seq 모델과의 차이를 이해합니다."
      ],
      "metadata": {
        "id": "5VfLmA3QX-FI"
      }
    },
    {
      "cell_type": "markdown",
      "source": [
        "### **필요 패키지 import**"
      ],
      "metadata": {
        "id": "6UBy-B33YE1n"
      }
    },
    {
      "cell_type": "code",
      "execution_count": 1,
      "metadata": {
        "id": "9U3WOQYbX1pJ"
      },
      "outputs": [],
      "source": [
        "from tqdm.auto import tqdm\n",
        "\n",
        "from torch import nn\n",
        "from torch.nn.utils.rnn import pack_padded_sequence, pad_packed_sequence\n",
        "from torch.nn import functional as F\n",
        "\n",
        "import torch\n",
        "import random"
      ]
    },
    {
      "cell_type": "markdown",
      "source": [
        "### **데이터 전처리**"
      ],
      "metadata": {
        "id": "riWd_y_aYQOc"
      }
    },
    {
      "cell_type": "markdown",
      "source": [
        "데이터 처리는 이전과 동일합니다."
      ],
      "metadata": {
        "id": "v9QqLZfnYSGd"
      }
    },
    {
      "cell_type": "code",
      "source": [
        "vocab_size = 100\n",
        "pad_id = 0\n",
        "sos_id = 1\n",
        "eos_id = 2\n",
        "\n",
        "src_data = [\n",
        "  [3, 77, 56, 26, 3, 55, 12, 36, 31],\n",
        "  [58, 20, 65, 46, 26, 10, 76, 44],\n",
        "  [58, 17, 8],\n",
        "  [59],\n",
        "  [29, 3, 52, 74, 73, 51, 39, 75, 19],\n",
        "  [41, 55, 77, 21, 52, 92, 97, 69, 54, 14, 93],\n",
        "  [39, 47, 96, 68, 55, 16, 90, 45, 89, 84, 19, 22, 32, 99, 5],\n",
        "  [75, 34, 17, 3, 86, 88],\n",
        "  [63, 39, 5, 35, 67, 56, 68, 89, 55, 66],\n",
        "  [12, 40, 69, 39, 49]\n",
        "]\n",
        "\n",
        "trg_data = [\n",
        "  [75, 13, 22, 77, 89, 21, 13, 86, 95],\n",
        "  [79, 14, 91, 41, 32, 79, 88, 34, 8, 68, 32, 77, 58, 7, 9, 87],\n",
        "  [85, 8, 50, 30],\n",
        "  [47, 30],\n",
        "  [8, 85, 87, 77, 47, 21, 23, 98, 83, 4, 47, 97, 40, 43, 70, 8, 65, 71, 69, 88],\n",
        "  [32, 37, 31, 77, 38, 93, 45, 74, 47, 54, 31, 18],\n",
        "  [37, 14, 49, 24, 93, 37, 54, 51, 39, 84],\n",
        "  [16, 98, 68, 57, 55, 46, 66, 85, 18],\n",
        "  [20, 70, 14, 6, 58, 90, 30, 17, 91, 18, 90],\n",
        "  [37, 93, 98, 13, 45, 28, 89, 72, 70]\n",
        "]"
      ],
      "metadata": {
        "id": "2A7dQPjtYNj-"
      },
      "execution_count": 2,
      "outputs": []
    },
    {
      "cell_type": "code",
      "source": [
        "trg_data = [[sos_id] + seq + [eos_id] for seq in tqdm(trg_data)]"
      ],
      "metadata": {
        "colab": {
          "base_uri": "https://localhost:8080/",
          "height": 49,
          "referenced_widgets": [
            "31742527b6b043839a9da3148d1f4ec5",
            "e61e0b15e1c74044a888bf267b0c1d06",
            "9496dc8c0dad4ab790c9938737225de2",
            "02fb1c0884f840cb9c1b7294362e1b3f",
            "48c43db7b7e84925ac15942b6ea3e471",
            "e4f91fb94a8c4679bd488f353561cf20",
            "3998891ad0dc44d5a07122607753e6f8",
            "803f77bc0c0840258c00f44325c46b07",
            "ef1c873175eb4ec98136b965aaddf3a3",
            "b69aae84d9e440be93f9198911965cb3",
            "437c1601099c4e38bf03d3219b19b218"
          ]
        },
        "id": "z4Kp9d7AYpGD",
        "outputId": "7b54b997-c376-4d10-f519-e6c7a7931b7f"
      },
      "execution_count": 3,
      "outputs": [
        {
          "output_type": "display_data",
          "data": {
            "text/plain": [
              "  0%|          | 0/10 [00:00<?, ?it/s]"
            ],
            "application/vnd.jupyter.widget-view+json": {
              "version_major": 2,
              "version_minor": 0,
              "model_id": "31742527b6b043839a9da3148d1f4ec5"
            }
          },
          "metadata": {}
        }
      ]
    },
    {
      "cell_type": "code",
      "source": [
        "trg_data[:5]"
      ],
      "metadata": {
        "colab": {
          "base_uri": "https://localhost:8080/"
        },
        "id": "ZLmXheJyYtXC",
        "outputId": "09b243a4-99cf-4f9e-cf3e-e8e065d55ba3"
      },
      "execution_count": 4,
      "outputs": [
        {
          "output_type": "execute_result",
          "data": {
            "text/plain": [
              "[[1, 75, 13, 22, 77, 89, 21, 13, 86, 95, 2],\n",
              " [1, 79, 14, 91, 41, 32, 79, 88, 34, 8, 68, 32, 77, 58, 7, 9, 87, 2],\n",
              " [1, 85, 8, 50, 30, 2],\n",
              " [1, 47, 30, 2],\n",
              " [1,\n",
              "  8,\n",
              "  85,\n",
              "  87,\n",
              "  77,\n",
              "  47,\n",
              "  21,\n",
              "  23,\n",
              "  98,\n",
              "  83,\n",
              "  4,\n",
              "  47,\n",
              "  97,\n",
              "  40,\n",
              "  43,\n",
              "  70,\n",
              "  8,\n",
              "  65,\n",
              "  71,\n",
              "  69,\n",
              "  88,\n",
              "  2]]"
            ]
          },
          "metadata": {},
          "execution_count": 4
        }
      ]
    },
    {
      "cell_type": "code",
      "source": [
        "def padding(data, is_src = True):\n",
        "\n",
        "    max_len = len(max(data, key = len))\n",
        "    print(f'Maximum sequence length: {max_len}')\n",
        "\n",
        "    valid_lens = []\n",
        "\n",
        "    for i,seq in enumerate(tqdm(data)):\n",
        "\n",
        "        valid_lens.append(len(seq))\n",
        "\n",
        "        if len(seq) < max_len:\n",
        "\n",
        "            data[i] = seq + [pad_id] * (max_len - len(seq))\n",
        "\n",
        "    return data, valid_lens, max_len"
      ],
      "metadata": {
        "id": "Or0bHTHKYuSb"
      },
      "execution_count": 5,
      "outputs": []
    },
    {
      "cell_type": "code",
      "source": [
        "src_data, src_lens, src_max_len = padding(src_data)\n",
        "trg_data, trg_lens, trg_max_len = padding(trg_data)"
      ],
      "metadata": {
        "colab": {
          "base_uri": "https://localhost:8080/",
          "height": 117,
          "referenced_widgets": [
            "4d21462d7ae048d1b86daeadfe185ac5",
            "dab7ddf4675643fc92742f5fe6bb8fed",
            "4a10268e704a4074bc9f3fcd37b33845",
            "aa32c88ec4844e7a9b32dae8ac4312be",
            "812103341ec640af877e6d8f400b7422",
            "d9f4e52454a248c2ba57b5b7cc4ec33e",
            "127397a9ee204e9a9479b67fb6f1c303",
            "fa5bb57e03f54e0381c7bb39e8461ace",
            "2f140b9e38e544f09f69c6d21686d1fd",
            "8faaa631eb3f47c08a7292bc3f8d4c9c",
            "74ce44fce5524619a8c38116712723f5",
            "7a882a18145e412289cc8a9bb7c937e3",
            "ea84611306c240f9b5f438c27fed13a3",
            "670a312e2a6b4c06944b0a4a5d1f181e",
            "bfdee53a119940178d006a4fa99311e0",
            "334de1bdb749425fb2142d68096e8147",
            "39ff564427c3485da46d7184d40c7100",
            "31c2cf81e0284b30aaa058dbae5ceaa1",
            "9cf6a0708595448694a09a49dd5cf39b",
            "35bebe3145964431b626f0ff0f04c0dd",
            "3dbcd0bcbd3348caa434a4e0f462b92a",
            "b71be3781833481e99a6d25dbca05969"
          ]
        },
        "id": "EoQnYlOtZkXl",
        "outputId": "a500c7d3-43ae-4f65-ee81-fb4279b849b8"
      },
      "execution_count": 6,
      "outputs": [
        {
          "output_type": "stream",
          "name": "stdout",
          "text": [
            "Maximum sequence length: 15\n"
          ]
        },
        {
          "output_type": "display_data",
          "data": {
            "text/plain": [
              "  0%|          | 0/10 [00:00<?, ?it/s]"
            ],
            "application/vnd.jupyter.widget-view+json": {
              "version_major": 2,
              "version_minor": 0,
              "model_id": "4d21462d7ae048d1b86daeadfe185ac5"
            }
          },
          "metadata": {}
        },
        {
          "output_type": "stream",
          "name": "stdout",
          "text": [
            "Maximum sequence length: 22\n"
          ]
        },
        {
          "output_type": "display_data",
          "data": {
            "text/plain": [
              "  0%|          | 0/10 [00:00<?, ?it/s]"
            ],
            "application/vnd.jupyter.widget-view+json": {
              "version_major": 2,
              "version_minor": 0,
              "model_id": "7a882a18145e412289cc8a9bb7c937e3"
            }
          },
          "metadata": {}
        }
      ]
    },
    {
      "cell_type": "code",
      "source": [
        "# B: batch_size, S_L: source maximum sequence length, T_L: target maximum sequence length\n",
        "\n",
        "src_batch = torch.LongTensor(src_data) #(B, S_L)\n",
        "src_batch_lens = torch.LongTensor(src_lens) #(B)\n",
        "trg_batch = torch.LongTensor(trg_data) #(B, T_L)\n",
        "trg_batch_lens = torch.LongTensor(trg_lens) #(B)\n",
        "\n",
        "print(src_batch.shape)\n",
        "print(src_batch_lens.shape)\n",
        "print(trg_batch.shape)\n",
        "print(trg_batch_lens.shape)"
      ],
      "metadata": {
        "colab": {
          "base_uri": "https://localhost:8080/"
        },
        "id": "Pg-kwvEdaGFb",
        "outputId": "de796021-77c1-42e4-9e17-fe20c6ee1902"
      },
      "execution_count": 7,
      "outputs": [
        {
          "output_type": "stream",
          "name": "stdout",
          "text": [
            "torch.Size([10, 15])\n",
            "torch.Size([10])\n",
            "torch.Size([10, 22])\n",
            "torch.Size([10])\n"
          ]
        }
      ]
    },
    {
      "cell_type": "code",
      "source": [
        "src_batch_lens, sorted_idx = src_batch_lens.sort(descending = True)\n",
        "\n",
        "src_batch = src_batch[sorted_idx]\n",
        "trg_btach = trg_batch[sorted_idx]\n",
        "\n",
        "trg_batch_lens = trg_batch_lens[sorted_idx]\n",
        "\n",
        "print(src_batch)\n",
        "print(src_batch_lens)\n",
        "print(trg_batch)\n",
        "print(trg_batch_lens)"
      ],
      "metadata": {
        "colab": {
          "base_uri": "https://localhost:8080/"
        },
        "id": "kpUR_t2_amU6",
        "outputId": "f6cc7cf2-28e0-402c-ca9c-7f3738efbe10"
      },
      "execution_count": 8,
      "outputs": [
        {
          "output_type": "stream",
          "name": "stdout",
          "text": [
            "tensor([[39, 47, 96, 68, 55, 16, 90, 45, 89, 84, 19, 22, 32, 99,  5],\n",
            "        [41, 55, 77, 21, 52, 92, 97, 69, 54, 14, 93,  0,  0,  0,  0],\n",
            "        [63, 39,  5, 35, 67, 56, 68, 89, 55, 66,  0,  0,  0,  0,  0],\n",
            "        [ 3, 77, 56, 26,  3, 55, 12, 36, 31,  0,  0,  0,  0,  0,  0],\n",
            "        [29,  3, 52, 74, 73, 51, 39, 75, 19,  0,  0,  0,  0,  0,  0],\n",
            "        [58, 20, 65, 46, 26, 10, 76, 44,  0,  0,  0,  0,  0,  0,  0],\n",
            "        [75, 34, 17,  3, 86, 88,  0,  0,  0,  0,  0,  0,  0,  0,  0],\n",
            "        [12, 40, 69, 39, 49,  0,  0,  0,  0,  0,  0,  0,  0,  0,  0],\n",
            "        [58, 17,  8,  0,  0,  0,  0,  0,  0,  0,  0,  0,  0,  0,  0],\n",
            "        [59,  0,  0,  0,  0,  0,  0,  0,  0,  0,  0,  0,  0,  0,  0]])\n",
            "tensor([15, 11, 10,  9,  9,  8,  6,  5,  3,  1])\n",
            "tensor([[ 1, 75, 13, 22, 77, 89, 21, 13, 86, 95,  2,  0,  0,  0,  0,  0,  0,  0,\n",
            "          0,  0,  0,  0],\n",
            "        [ 1, 79, 14, 91, 41, 32, 79, 88, 34,  8, 68, 32, 77, 58,  7,  9, 87,  2,\n",
            "          0,  0,  0,  0],\n",
            "        [ 1, 85,  8, 50, 30,  2,  0,  0,  0,  0,  0,  0,  0,  0,  0,  0,  0,  0,\n",
            "          0,  0,  0,  0],\n",
            "        [ 1, 47, 30,  2,  0,  0,  0,  0,  0,  0,  0,  0,  0,  0,  0,  0,  0,  0,\n",
            "          0,  0,  0,  0],\n",
            "        [ 1,  8, 85, 87, 77, 47, 21, 23, 98, 83,  4, 47, 97, 40, 43, 70,  8, 65,\n",
            "         71, 69, 88,  2],\n",
            "        [ 1, 32, 37, 31, 77, 38, 93, 45, 74, 47, 54, 31, 18,  2,  0,  0,  0,  0,\n",
            "          0,  0,  0,  0],\n",
            "        [ 1, 37, 14, 49, 24, 93, 37, 54, 51, 39, 84,  2,  0,  0,  0,  0,  0,  0,\n",
            "          0,  0,  0,  0],\n",
            "        [ 1, 16, 98, 68, 57, 55, 46, 66, 85, 18,  2,  0,  0,  0,  0,  0,  0,  0,\n",
            "          0,  0,  0,  0],\n",
            "        [ 1, 20, 70, 14,  6, 58, 90, 30, 17, 91, 18, 90,  2,  0,  0,  0,  0,  0,\n",
            "          0,  0,  0,  0],\n",
            "        [ 1, 37, 93, 98, 13, 45, 28, 89, 72, 70,  2,  0,  0,  0,  0,  0,  0,  0,\n",
            "          0,  0,  0,  0]])\n",
            "tensor([12, 14, 13, 11, 22, 18, 11, 11,  6,  4])\n"
          ]
        }
      ]
    },
    {
      "cell_type": "code",
      "source": [],
      "metadata": {
        "id": "IyBVDcR3bdXf"
      },
      "execution_count": null,
      "outputs": []
    },
    {
      "cell_type": "markdown",
      "source": [
        "### **Encoder 구현**"
      ],
      "metadata": {
        "id": "c-TKCgZebg71"
      }
    },
    {
      "cell_type": "markdown",
      "source": [
        "Encoder 역시 기존 Seq2seq 모델과 동일합니다."
      ],
      "metadata": {
        "id": "eO2In6xJbiTt"
      }
    },
    {
      "cell_type": "code",
      "source": [
        "embedding_size = 256\n",
        "hidden_size = 512\n",
        "num_layers = 2\n",
        "num_dirs = 2\n",
        "dropout = 0.1"
      ],
      "metadata": {
        "id": "Ai3vNB3ubhKs"
      },
      "execution_count": 9,
      "outputs": []
    },
    {
      "cell_type": "code",
      "source": [
        "class Encoder(nn.Module):\n",
        "\n",
        "    def __init__(self):\n",
        "\n",
        "        super(Encoder, self).__init__()\n",
        "\n",
        "        self.embedding = nn.Embedding(vocab_size, embedding_size)\n",
        "        self.gru = nn.GRU(\n",
        "            input_size = embedding_size,\n",
        "            hidden_size = hidden_size,\n",
        "            num_layers = num_layers,\n",
        "            bidirectional = True if num_dirs > 1 else False,\n",
        "            dropout = dropout\n",
        "        )\n",
        "\n",
        "        self.linear = nn.Linear(num_dirs * hidden_size, hidden_size)\n",
        "\n",
        "    def forward(self, batch, batch_lens): #batch: (B, S_L), batch_lens: (B)\n",
        "\n",
        "        #d_w: word embedding size\n",
        "        batch_emb = self.embedding(batch) #(B, S_L, d_w)\n",
        "        batch_emb = batch_emb.transpose(0, 1) #(S_L, B, d_w)\n",
        "\n",
        "        packed_input = pack_padded_sequence(batch_emb, batch_lens)\n",
        "        h_0 = torch.zeros((num_layers * num_dirs, batch.shape[0], hidden_size)) #(num_layers * num_dirs, B, d_h) = (4,B,d_h)\n",
        "\n",
        "        packed_outputs, h_n = self.gru(packed_input, h_0) #h_n: (4, B , d_h)\n",
        "        outputs = pad_packed_sequence(packed_outputs)[0] #outputs: (S_L, B, 2d_h)\n",
        "        outputs = torch.tanh(self.linear(outputs)) #(S_L, B, d_h)\n",
        "\n",
        "        forward_hidden = h_n[-2, :, :]\n",
        "        backward_hidden = h_n[-1, :, :]\n",
        "\n",
        "        hidden = torch.tanh(self.linear(torch.cat((forward_hidden, backward_hidden), dim = -1))).unsqueeze(0) #(1,B,d_h)\n",
        "\n",
        "        return outputs, hidden\n"
      ],
      "metadata": {
        "id": "6Zg2NyF9b3Vb"
      },
      "execution_count": 10,
      "outputs": []
    },
    {
      "cell_type": "code",
      "source": [
        "encoder = Encoder()"
      ],
      "metadata": {
        "id": "JMW2Ajmwdorb"
      },
      "execution_count": 11,
      "outputs": []
    },
    {
      "cell_type": "code",
      "source": [],
      "metadata": {
        "id": "cfE9ajqCdqBR"
      },
      "execution_count": null,
      "outputs": []
    },
    {
      "cell_type": "markdown",
      "source": [
        "### **Dot-product Attention 구현**"
      ],
      "metadata": {
        "id": "qg-ulDaNdrpU"
      }
    },
    {
      "cell_type": "markdown",
      "source": [
        "우선 대표적인 attention 형태 중 하나인 Dot-product Attention은 다음과 같이 구현할 수 있습니다."
      ],
      "metadata": {
        "id": "vyMm14hYdtsd"
      }
    },
    {
      "cell_type": "code",
      "source": [
        "class DotAttention(nn.Module):\n",
        "\n",
        "    def __init__(self):\n",
        "        super().__init__()\n",
        "\n",
        "    def forward(self, decoder_hidden, encoder_outputs): #(1,B,d_h), (S_L, B, d_h)\n",
        "\n",
        "        query = decoder_hidden.squeeze(0) #(B,d_h)\n",
        "        key = encoder_outputs.transpose(0,1) #(B,S_L, d_h)\n",
        "\n",
        "        energy = torch.sum(torch.mul(key, query.unsqueeze(1)), dim = -1) #(B,S_L)\n",
        "\n",
        "        attn_scores = F.softmax(energy, dim = -1) #(B, S_L)\n",
        "        attn_values = torch.sum(torch.mul(encoder_outputs.transpose(0,1), attn_scores.unsqueeze(2)), dim = 1) #(B,d_h)\n",
        "\n",
        "        return attn_values, attn_scores\n"
      ],
      "metadata": {
        "id": "zgvKXCI8dsEC"
      },
      "execution_count": 23,
      "outputs": []
    },
    {
      "cell_type": "code",
      "source": [
        "dot_attn = DotAttention()"
      ],
      "metadata": {
        "id": "w05F_2_SeSVo"
      },
      "execution_count": 24,
      "outputs": []
    },
    {
      "cell_type": "markdown",
      "source": [
        "이제 이 attention 모듈을 가지는 Decoder 클래스를 구현하겠습니다."
      ],
      "metadata": {
        "id": "wfsTGMALe1vn"
      }
    },
    {
      "cell_type": "code",
      "source": [
        "class Decoder(nn.Module):\n",
        "\n",
        "    def __init__(self, attention):\n",
        "\n",
        "        super().__init__()\n",
        "\n",
        "        self.embedding = nn.Embedding(vocab_size, embedding_size)\n",
        "        self.attention = attention\n",
        "        self.rnn = nn.GRU(\n",
        "            embedding_size,\n",
        "            hidden_size\n",
        "        )\n",
        "        self.output_linear = nn.Linear(2*hidden_size, vocab_size)\n",
        "\n",
        "    def forward(self, batch, encoder_outputs, hidden): #batch:(B), encoder_outputs: (L,B,d_h), hidden:(1,B,d_h)\n",
        "\n",
        "        batch_emb = self.embedding(batch) #(B,d_w)\n",
        "        batch_emb = batch_emb.unsqueeze(0) #(1,B,d_w)\n",
        "\n",
        "        outputs, hidden = self.rnn(batch_emb, hidden) #(1,B,d_h), (1,B,d_h)\n",
        "\n",
        "        attn_values, attn_scores = self.attention(hidden, encoder_outputs) #(B,d_h), (B,S_L)\n",
        "        concat_outputs = torch.cat((outputs, attn_values.unsqueeze(0)), dim = -1) #(1,B,2d_h)\n",
        "\n",
        "        return self.output_linear(concat_outputs).squeeze(0), hidden #(B,V), (1,B,d_h)"
      ],
      "metadata": {
        "id": "eMeHQSGQe0ir"
      },
      "execution_count": 25,
      "outputs": []
    },
    {
      "cell_type": "code",
      "source": [
        "decoder = Decoder(dot_attn)"
      ],
      "metadata": {
        "id": "OCjTze3cfqbM"
      },
      "execution_count": 26,
      "outputs": []
    },
    {
      "cell_type": "code",
      "source": [],
      "metadata": {
        "id": "rN95FaRjfsEX"
      },
      "execution_count": 26,
      "outputs": []
    },
    {
      "cell_type": "markdown",
      "source": [
        "### **Seq2seq 모델 구축**"
      ],
      "metadata": {
        "id": "R9QtZo3rf0gR"
      }
    },
    {
      "cell_type": "markdown",
      "source": [
        "최종적으로 seq2seq 모델을 다음과 같이 구성할 수 있습니다."
      ],
      "metadata": {
        "id": "nasegW_-f1xx"
      }
    },
    {
      "cell_type": "code",
      "source": [
        "class Seq2Seq(nn.Module):\n",
        "\n",
        "    def __init__(self, encoder, decoder):\n",
        "\n",
        "        super(Seq2Seq, self).__init__()\n",
        "\n",
        "        self.encoder = encoder\n",
        "        self.decoder = decoder\n",
        "\n",
        "    def forward(self, src_batch, src_batch_lens, trg_batch, teacher_forcing_probs = 0.5):\n",
        "        #src_batch: (B,S_L), src_batch_lens: (B), trg_batch:(B, T_L)\n",
        "\n",
        "        encoder_outputs, hidden = self.encoder(src_batch, src_batch_lens) #encoder_outputs: (S_L, B, d_h), hidden: (1,B,d_h)\n",
        "\n",
        "        input_ids = trg_batch[:,0] #(B)\n",
        "        batch_size = src_batch.shape[0]\n",
        "\n",
        "        outputs = torch.zeros(trg_max_len, batch_size, vocab_size) #(T_L, B, V)\n",
        "\n",
        "        for t in range(1,trg_max_len):\n",
        "\n",
        "            decoder_outputs, hidden = self.decoder(input_ids, encoder_outputs, hidden) #decoder_outputs: (B,V), hidden(1,B,d_h)\n",
        "\n",
        "            outputs[t] = decoder_outputs\n",
        "\n",
        "            _, top_ids = torch.max(decoder_outputs, dim = -1) #top_ids: (B)\n",
        "\n",
        "            input_ids = trg_batch[:, t] if random.random() > teacher_forcing_probs else top_ids\n",
        "\n",
        "\n",
        "        return outputs"
      ],
      "metadata": {
        "id": "MgHTk-u3f0u2"
      },
      "execution_count": 27,
      "outputs": []
    },
    {
      "cell_type": "code",
      "source": [
        "seq2seq = Seq2Seq(encoder, decoder)"
      ],
      "metadata": {
        "id": "0xUvPBHagz1V"
      },
      "execution_count": 29,
      "outputs": []
    },
    {
      "cell_type": "code",
      "source": [],
      "metadata": {
        "id": "mLr7bTWFg4-P"
      },
      "execution_count": 29,
      "outputs": []
    },
    {
      "cell_type": "markdown",
      "source": [
        "### **모델 사용해보기**"
      ],
      "metadata": {
        "id": "9pJl3tkmg6Y5"
      }
    },
    {
      "cell_type": "markdown",
      "source": [
        "만든 모델로 결과를 확인해보겠습니다."
      ],
      "metadata": {
        "id": "ZuypXW63g_TL"
      }
    },
    {
      "cell_type": "code",
      "source": [
        "#V: vocab_size\n",
        "\n",
        "outputs = seq2seq(src_batch, src_batch_lens, trg_batch) #(T_L, B, V)\n",
        "\n",
        "print(outputs)\n",
        "print(outputs.shape)"
      ],
      "metadata": {
        "colab": {
          "base_uri": "https://localhost:8080/"
        },
        "id": "2fxTxCwbg-Nl",
        "outputId": "461d7250-409c-49c2-9286-8bc8ad32df9f"
      },
      "execution_count": 30,
      "outputs": [
        {
          "output_type": "stream",
          "name": "stdout",
          "text": [
            "tensor([[[ 0.0000,  0.0000,  0.0000,  ...,  0.0000,  0.0000,  0.0000],\n",
            "         [ 0.0000,  0.0000,  0.0000,  ...,  0.0000,  0.0000,  0.0000],\n",
            "         [ 0.0000,  0.0000,  0.0000,  ...,  0.0000,  0.0000,  0.0000],\n",
            "         ...,\n",
            "         [ 0.0000,  0.0000,  0.0000,  ...,  0.0000,  0.0000,  0.0000],\n",
            "         [ 0.0000,  0.0000,  0.0000,  ...,  0.0000,  0.0000,  0.0000],\n",
            "         [ 0.0000,  0.0000,  0.0000,  ...,  0.0000,  0.0000,  0.0000]],\n",
            "\n",
            "        [[-0.0313, -0.0131,  0.0778,  ..., -0.0249,  0.1152, -0.0842],\n",
            "         [-0.0813, -0.0188,  0.0971,  ...,  0.0051,  0.0903, -0.0995],\n",
            "         [-0.0711, -0.0298,  0.0945,  ...,  0.0178,  0.1074, -0.0538],\n",
            "         ...,\n",
            "         [-0.0805, -0.0337,  0.0732,  ..., -0.0110,  0.1390, -0.0821],\n",
            "         [-0.0616,  0.0069,  0.0915,  ...,  0.0050,  0.1281, -0.1073],\n",
            "         [-0.0664, -0.0116,  0.1056,  ..., -0.0115,  0.1207, -0.1021]],\n",
            "\n",
            "        [[-0.0958,  0.0920,  0.0494,  ...,  0.0387, -0.0408, -0.0870],\n",
            "         [ 0.0189,  0.0171,  0.0317,  ..., -0.0121,  0.0555, -0.1907],\n",
            "         [ 0.0398, -0.0953,  0.1759,  ..., -0.0388,  0.1688, -0.0106],\n",
            "         ...,\n",
            "         [-0.2703, -0.0366,  0.0649,  ...,  0.0480,  0.1067, -0.0916],\n",
            "         [-0.1689,  0.1022,  0.0357,  ...,  0.0692,  0.2711,  0.0083],\n",
            "         [-0.0926, -0.0150,  0.0174,  ...,  0.0177,  0.1010, -0.1978]],\n",
            "\n",
            "        ...,\n",
            "\n",
            "        [[-0.0770,  0.1157,  0.1720,  ...,  0.1221,  0.0659, -0.0760],\n",
            "         [-0.0353,  0.0799,  0.0572,  ...,  0.0728,  0.0141, -0.1119],\n",
            "         [-0.0885,  0.1239,  0.1731,  ...,  0.1187,  0.0671, -0.0762],\n",
            "         ...,\n",
            "         [-0.0996,  0.1026,  0.1684,  ...,  0.1119,  0.0679, -0.0909],\n",
            "         [-0.1375,  0.0829,  0.1695,  ...,  0.0764,  0.0495, -0.1356],\n",
            "         [-0.0921,  0.1182,  0.1749,  ...,  0.1134,  0.0579, -0.0966]],\n",
            "\n",
            "        [[-0.0734,  0.1178,  0.1848,  ...,  0.0982,  0.0719, -0.0798],\n",
            "         [-0.0444,  0.0889,  0.1243,  ...,  0.0904,  0.0482, -0.1114],\n",
            "         [-0.0812,  0.1265,  0.1858,  ...,  0.0969,  0.0736, -0.0821],\n",
            "         ...,\n",
            "         [-0.0941,  0.1061,  0.1818,  ...,  0.0891,  0.0736, -0.0960],\n",
            "         [-0.1254,  0.1039,  0.1854,  ...,  0.0719,  0.0610, -0.1323],\n",
            "         [-0.0873,  0.1214,  0.1870,  ...,  0.0904,  0.0655, -0.1030]],\n",
            "\n",
            "        [[-0.0729,  0.1201,  0.1912,  ...,  0.0816,  0.0739, -0.0827],\n",
            "         [-0.0540,  0.0942,  0.1555,  ...,  0.0862,  0.0585, -0.1080],\n",
            "         [-0.0784,  0.1291,  0.1922,  ...,  0.0816,  0.0756, -0.0863],\n",
            "         ...,\n",
            "         [-0.0924,  0.1092,  0.1886,  ...,  0.0734,  0.0753, -0.0998],\n",
            "         [-0.1167,  0.1167,  0.1933,  ...,  0.0652,  0.0647, -0.1295],\n",
            "         [-0.0860,  0.1245,  0.1930,  ...,  0.0743,  0.0683, -0.1076]]],\n",
            "       grad_fn=<CopySlices>)\n",
            "torch.Size([22, 10, 100])\n"
          ]
        }
      ]
    },
    {
      "cell_type": "code",
      "source": [
        "sample_sent = [4, 10, 88, 46, 72, 34, 14, 51]\n",
        "sample_len = len(sample_sent)\n",
        "\n",
        "sample_batch = torch.LongTensor(sample_sent).unsqueeze(0) #(1,L)\n",
        "sample_batch_len = torch.LongTensor([sample_len]) #(1)\n",
        "\n",
        "#encoding\n",
        "encoder_output, hidden = seq2seq.encoder(sample_batch, sample_batch_len) #hidden: (4,1,d_h)"
      ],
      "metadata": {
        "id": "PJpebSsOhHHs"
      },
      "execution_count": 31,
      "outputs": []
    },
    {
      "cell_type": "code",
      "source": [
        "input_id = torch.LongTensor([sos_id]) #(1)\n",
        "output = []\n",
        "\n",
        "for t in range(1,trg_max_len):\n",
        "\n",
        "    decoder_output, hidden = seq2seq.decoder(input_id, encoder_output, hidden) #decoder_output:(1,V), hidden:(4,1,d_h)\n",
        "\n",
        "    _, top_id = torch.max(decoder_output, dim = -1) #top_ids:(1)\n",
        "\n",
        "    if top_id == eos_id:\n",
        "\n",
        "        break\n",
        "\n",
        "    else:\n",
        "\n",
        "        output += top_id.tolist()\n",
        "        input_id = top_id"
      ],
      "metadata": {
        "id": "CTFUsrjhjSSl"
      },
      "execution_count": 32,
      "outputs": []
    },
    {
      "cell_type": "code",
      "source": [
        "print(output)"
      ],
      "metadata": {
        "colab": {
          "base_uri": "https://localhost:8080/"
        },
        "id": "xsKR_bcbjuD0",
        "outputId": "8b2aedbb-94ad-4eb6-cace-9f54a84c8c88"
      },
      "execution_count": 33,
      "outputs": [
        {
          "output_type": "stream",
          "name": "stdout",
          "text": [
            "[86, 43, 81, 55, 45, 26, 24, 32, 3, 27, 31, 87, 87, 87, 87, 87, 87, 87, 87, 87, 87]\n"
          ]
        }
      ]
    },
    {
      "cell_type": "code",
      "source": [],
      "metadata": {
        "id": "UWHPlMLRjvBJ"
      },
      "execution_count": null,
      "outputs": []
    },
    {
      "cell_type": "markdown",
      "source": [
        "### **Concat Attention 구현**"
      ],
      "metadata": {
        "id": "G3C24fjOjxGo"
      }
    },
    {
      "cell_type": "markdown",
      "source": [
        "Bahdanau Attention이라고도 불리는 Concat Attention을 구현해보도록 하겠습니다.  \n",
        "\n",
        "\n",
        "*   `self.w`: Concat한 query와 key 벡터를 1차적으로 linear transformation.\n",
        "*   `self.v`: Attention logit 값을 계산."
      ],
      "metadata": {
        "id": "BdgsKkZ7jzjN"
      }
    },
    {
      "cell_type": "code",
      "source": [
        "class ConcatAttention(nn.Module):\n",
        "\n",
        "    def __init__(self):\n",
        "\n",
        "        super().__init__()\n",
        "\n",
        "        self.w = nn.Linear(2*hidden_size, hidden_size, bias = False)\n",
        "        self.v = nn.Linear(hidden_size, 1, bias= False)\n",
        "\n",
        "    def forward(self, decoder_hidden, encoder_outputs): #(1,B,d_h), (S_L, B, d_h)\n",
        "\n",
        "        src_max_len = encoder_outputs.shape[0]\n",
        "\n",
        "        decoder_hidden = decoder_hidden.transpose(0, 1).repeat(1, src_max_len, 1) #(B, S_L, d_h)\n",
        "        encoder_outputs = encoder_outputs.transpose(0, 1) #(B,S_L, d_h)\n",
        "\n",
        "        concat_hiddens = torch.cat((decoder_hidden, encoder_outputs), dim = 2) #(B,S_L,2d_h)\n",
        "        energy = torch.tanh(self.w(concat_hiddens)) #(B,S_L,d_h)\n",
        "\n",
        "        attn_scores = F.softmax(self.v(energy), dim = 1) #(B,S_L,1)\n",
        "        attn_values = torch.sum(torch.mul(encoder_outputs, attn_scores), dim = 1) #(B,d_h)\n",
        "\n",
        "        return attn_values, attn_scores"
      ],
      "metadata": {
        "id": "jHVAKGK8jx-z"
      },
      "execution_count": 34,
      "outputs": []
    },
    {
      "cell_type": "code",
      "source": [
        "concat_attn = ConcatAttention()"
      ],
      "metadata": {
        "id": "2ksGllvinCHi"
      },
      "execution_count": 35,
      "outputs": []
    },
    {
      "cell_type": "code",
      "source": [],
      "metadata": {
        "id": "A-9mB_m1nEQE"
      },
      "execution_count": null,
      "outputs": []
    },
    {
      "cell_type": "markdown",
      "source": [
        "마찬가지로 decoder를 마저 구현하겠습니다."
      ],
      "metadata": {
        "id": "LB8OhOCInFlV"
      }
    },
    {
      "cell_type": "code",
      "source": [
        "class Decoder(nn.Module):\n",
        "\n",
        "    def __init__(self, attention):\n",
        "\n",
        "        super().__init__()\n",
        "\n",
        "        self.embedding = nn.Embedding(vocab_size, embedding_size)\n",
        "        self.attention = attention\n",
        "\n",
        "        self.rnn = nn.GRU(\n",
        "            embedding_size + hidden_size,\n",
        "            hidden_size\n",
        "        )\n",
        "\n",
        "        self.output_linear = nn.Linear(hidden_size, vocab_size)\n",
        "\n",
        "    def forward(self, batch, encoder_outputs, hidden): #batch:(B), encoder_oututs: (S_L, B, d_h), hidden:(1,B,d_h)\n",
        "\n",
        "        batch_emb = self.embedding(batch) #(B,d_w)\n",
        "        batch_emb = batch_emb.unsqueeze(0) #(1,B,d_w)\n",
        "\n",
        "        attn_values, attn_scores = self.attention(hidden, encoder_outputs) #(B,d_h), (B,S_L)\n",
        "\n",
        "        concat_emb = torch.cat((batch_emb, attn_values.unsqueeze(0)), dim = -1) #(1,B,d_w + d_h)\n",
        "\n",
        "        outputs, hidden = self.rnn(concat_emb, hidden) #(1,B,d_h), (1,B,d_h)\n",
        "\n",
        "        return self.output_linear(outputs).squeeze(0), hidden #(B,V), (1,B,d_h)"
      ],
      "metadata": {
        "id": "azeuDMQ_nFwE"
      },
      "execution_count": 36,
      "outputs": []
    },
    {
      "cell_type": "code",
      "source": [
        "decoder = Decoder(concat_attn)"
      ],
      "metadata": {
        "id": "jWpkWnjfoIJU"
      },
      "execution_count": 37,
      "outputs": []
    },
    {
      "cell_type": "code",
      "source": [
        "seq2seq = Seq2Seq(encoder, decoder)"
      ],
      "metadata": {
        "id": "bHWpI4Z-oMzc"
      },
      "execution_count": 38,
      "outputs": []
    },
    {
      "cell_type": "code",
      "source": [
        "outputs = seq2seq(src_batch, src_batch_lens, trg_batch)\n",
        "\n",
        "print(outputs)\n",
        "print(outputs.shape)"
      ],
      "metadata": {
        "colab": {
          "base_uri": "https://localhost:8080/"
        },
        "id": "01_-grqPoa5L",
        "outputId": "58418df6-56f9-44a8-e457-9e65d2192be4"
      },
      "execution_count": 39,
      "outputs": [
        {
          "output_type": "stream",
          "name": "stdout",
          "text": [
            "tensor([[[ 0.0000e+00,  0.0000e+00,  0.0000e+00,  ...,  0.0000e+00,\n",
            "           0.0000e+00,  0.0000e+00],\n",
            "         [ 0.0000e+00,  0.0000e+00,  0.0000e+00,  ...,  0.0000e+00,\n",
            "           0.0000e+00,  0.0000e+00],\n",
            "         [ 0.0000e+00,  0.0000e+00,  0.0000e+00,  ...,  0.0000e+00,\n",
            "           0.0000e+00,  0.0000e+00],\n",
            "         ...,\n",
            "         [ 0.0000e+00,  0.0000e+00,  0.0000e+00,  ...,  0.0000e+00,\n",
            "           0.0000e+00,  0.0000e+00],\n",
            "         [ 0.0000e+00,  0.0000e+00,  0.0000e+00,  ...,  0.0000e+00,\n",
            "           0.0000e+00,  0.0000e+00],\n",
            "         [ 0.0000e+00,  0.0000e+00,  0.0000e+00,  ...,  0.0000e+00,\n",
            "           0.0000e+00,  0.0000e+00]],\n",
            "\n",
            "        [[ 8.8755e-04, -1.1004e-02, -1.6747e-01,  ..., -3.2301e-02,\n",
            "           1.9902e-01,  5.2449e-02],\n",
            "         [ 1.8553e-03,  1.3930e-02, -1.4874e-01,  ..., -5.0889e-02,\n",
            "           1.8992e-01,  4.9722e-02],\n",
            "         [ 4.1733e-02,  9.7954e-03, -1.2725e-01,  ..., -3.0127e-02,\n",
            "           2.3181e-01,  1.7442e-02],\n",
            "         ...,\n",
            "         [-2.9103e-02,  1.3435e-02, -1.4652e-01,  ..., -7.1536e-02,\n",
            "           1.9577e-01, -1.4724e-03],\n",
            "         [-4.2878e-02,  2.9613e-02, -1.6370e-01,  ..., -4.9503e-02,\n",
            "           2.1424e-01,  6.0812e-02],\n",
            "         [ 2.2966e-02, -2.3682e-02, -1.5124e-01,  ..., -1.5719e-02,\n",
            "           2.0250e-01,  3.5321e-02]],\n",
            "\n",
            "        [[ 1.5191e-01, -2.7560e-02, -1.0380e-01,  ..., -5.5110e-02,\n",
            "          -3.2803e-02, -9.7498e-02],\n",
            "         [-1.2321e-01,  3.9417e-02,  1.4786e-01,  ..., -1.1750e-01,\n",
            "           2.1914e-01,  2.3385e-02],\n",
            "         [ 1.2385e-01,  8.5460e-02,  1.6412e-01,  ..., -1.0185e-01,\n",
            "           7.1379e-02,  8.9959e-02],\n",
            "         ...,\n",
            "         [-1.0377e-01,  1.0158e-01, -6.2922e-02,  ..., -5.7186e-03,\n",
            "           4.6188e-02, -1.3916e-02],\n",
            "         [-1.0291e-01,  6.2102e-02, -3.0348e-01,  ..., -1.4709e-02,\n",
            "          -7.2673e-02, -6.0403e-02],\n",
            "         [-6.9942e-02, -6.7554e-05, -1.1821e-02,  ...,  4.1396e-02,\n",
            "           9.1709e-02, -9.5219e-02]],\n",
            "\n",
            "        ...,\n",
            "\n",
            "        [[ 8.3465e-02,  2.0980e-01,  1.2686e-01,  ..., -2.1039e-02,\n",
            "          -2.1590e-02,  9.1172e-02],\n",
            "         [-6.8619e-02,  4.4613e-02, -5.4070e-02,  ...,  1.7709e-02,\n",
            "          -1.4306e-03,  1.6756e-01],\n",
            "         [ 8.4025e-02,  3.2270e-01, -6.3915e-02,  ...,  5.4778e-02,\n",
            "           8.7365e-02, -2.4898e-01],\n",
            "         ...,\n",
            "         [-1.0970e-01, -7.7848e-02,  1.2737e-02,  ..., -9.0403e-02,\n",
            "           3.6727e-01, -1.6577e-01],\n",
            "         [-9.9632e-02, -8.1140e-02,  2.6665e-03,  ..., -8.8123e-02,\n",
            "           3.6271e-01, -1.6670e-01],\n",
            "         [ 7.1038e-02,  3.2348e-01, -5.7462e-02,  ...,  6.0120e-02,\n",
            "           7.2469e-02, -2.5687e-01]],\n",
            "\n",
            "        [[-6.6691e-02, -2.0695e-02,  4.2333e-02,  ..., -2.0964e-01,\n",
            "          -7.1015e-03, -3.6912e-02],\n",
            "         [-2.9906e-02,  3.0203e-01, -8.1697e-02,  ...,  1.2411e-01,\n",
            "          -4.3606e-02, -9.4440e-02],\n",
            "         [ 3.2156e-02,  1.7840e-01, -1.9392e-01,  ...,  9.5624e-03,\n",
            "           2.9941e-01, -4.3488e-02],\n",
            "         ...,\n",
            "         [-4.7130e-02,  8.3651e-02,  9.1578e-02,  ..., -4.4334e-02,\n",
            "           2.1015e-02,  6.2464e-02],\n",
            "         [-1.3829e-01,  9.1319e-02, -1.3900e-01,  ..., -1.8424e-01,\n",
            "           2.3685e-01, -8.2221e-02],\n",
            "         [ 1.7972e-02,  1.7906e-01, -1.8999e-01,  ...,  1.2404e-02,\n",
            "           2.8749e-01, -4.6488e-02]],\n",
            "\n",
            "        [[-5.8507e-02,  6.1246e-02, -5.3370e-02,  ...,  1.2515e-02,\n",
            "           1.3218e-02,  1.7045e-01],\n",
            "         [-3.3810e-02,  1.8482e-01, -2.1142e-01,  ...,  5.2169e-02,\n",
            "           2.0677e-01,  1.2647e-02],\n",
            "         [ 3.5707e-02,  2.0931e-01, -1.8421e-02,  ...,  1.3887e-02,\n",
            "          -1.7173e-02,  1.5786e-01],\n",
            "         ...,\n",
            "         [-2.7252e-02,  2.8618e-01, -2.0424e-02,  ...,  7.0629e-02,\n",
            "          -4.1633e-02, -1.5376e-01],\n",
            "         [ 8.0374e-02, -8.4711e-02, -1.0758e-01,  ...,  1.5902e-03,\n",
            "           3.0901e-01, -7.0573e-02],\n",
            "         [ 2.1742e-02,  2.0925e-01, -1.5961e-02,  ...,  1.5326e-02,\n",
            "          -2.6334e-02,  1.5352e-01]]], grad_fn=<CopySlices>)\n",
            "torch.Size([22, 10, 100])\n"
          ]
        }
      ]
    },
    {
      "cell_type": "code",
      "source": [],
      "metadata": {
        "id": "KZLFRP8FogD9"
      },
      "execution_count": null,
      "outputs": []
    }
  ]
}
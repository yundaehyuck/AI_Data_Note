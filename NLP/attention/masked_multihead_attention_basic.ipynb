{
  "nbformat": 4,
  "nbformat_minor": 0,
  "metadata": {
    "colab": {
      "provenance": []
    },
    "kernelspec": {
      "name": "python3",
      "display_name": "Python 3"
    },
    "language_info": {
      "name": "python"
    },
    "widgets": {
      "application/vnd.jupyter.widget-state+json": {
        "5ae1399c18d548dda8acdbd5dcc312e8": {
          "model_module": "@jupyter-widgets/controls",
          "model_name": "HBoxModel",
          "model_module_version": "1.5.0",
          "state": {
            "_dom_classes": [],
            "_model_module": "@jupyter-widgets/controls",
            "_model_module_version": "1.5.0",
            "_model_name": "HBoxModel",
            "_view_count": null,
            "_view_module": "@jupyter-widgets/controls",
            "_view_module_version": "1.5.0",
            "_view_name": "HBoxView",
            "box_style": "",
            "children": [
              "IPY_MODEL_0cfd5f6114594c338553945214bfd646",
              "IPY_MODEL_0a8e28dc4cf344af9897be5a0d36f66b",
              "IPY_MODEL_e3c2782641a94697b823a10a90aa28ce"
            ],
            "layout": "IPY_MODEL_08020b733da04c0aac260db0c8cfce0e"
          }
        },
        "0cfd5f6114594c338553945214bfd646": {
          "model_module": "@jupyter-widgets/controls",
          "model_name": "HTMLModel",
          "model_module_version": "1.5.0",
          "state": {
            "_dom_classes": [],
            "_model_module": "@jupyter-widgets/controls",
            "_model_module_version": "1.5.0",
            "_model_name": "HTMLModel",
            "_view_count": null,
            "_view_module": "@jupyter-widgets/controls",
            "_view_module_version": "1.5.0",
            "_view_name": "HTMLView",
            "description": "",
            "description_tooltip": null,
            "layout": "IPY_MODEL_0c236da89f814c4897c570d168ae5567",
            "placeholder": "​",
            "style": "IPY_MODEL_fb78714dffa64df1a603e375d42969bf",
            "value": "100%"
          }
        },
        "0a8e28dc4cf344af9897be5a0d36f66b": {
          "model_module": "@jupyter-widgets/controls",
          "model_name": "FloatProgressModel",
          "model_module_version": "1.5.0",
          "state": {
            "_dom_classes": [],
            "_model_module": "@jupyter-widgets/controls",
            "_model_module_version": "1.5.0",
            "_model_name": "FloatProgressModel",
            "_view_count": null,
            "_view_module": "@jupyter-widgets/controls",
            "_view_module_version": "1.5.0",
            "_view_name": "ProgressView",
            "bar_style": "success",
            "description": "",
            "description_tooltip": null,
            "layout": "IPY_MODEL_f238ce7a4aef4e9fa578e173c714364f",
            "max": 5,
            "min": 0,
            "orientation": "horizontal",
            "style": "IPY_MODEL_9ee4a415e8e04847ab3c8a736e18b75d",
            "value": 5
          }
        },
        "e3c2782641a94697b823a10a90aa28ce": {
          "model_module": "@jupyter-widgets/controls",
          "model_name": "HTMLModel",
          "model_module_version": "1.5.0",
          "state": {
            "_dom_classes": [],
            "_model_module": "@jupyter-widgets/controls",
            "_model_module_version": "1.5.0",
            "_model_name": "HTMLModel",
            "_view_count": null,
            "_view_module": "@jupyter-widgets/controls",
            "_view_module_version": "1.5.0",
            "_view_name": "HTMLView",
            "description": "",
            "description_tooltip": null,
            "layout": "IPY_MODEL_0f3e4167e39d424a851991eb583eb003",
            "placeholder": "​",
            "style": "IPY_MODEL_71d87c83fb8b4f1d813a2070254e08a6",
            "value": " 5/5 [00:00&lt;00:00, 116.11it/s]"
          }
        },
        "08020b733da04c0aac260db0c8cfce0e": {
          "model_module": "@jupyter-widgets/base",
          "model_name": "LayoutModel",
          "model_module_version": "1.2.0",
          "state": {
            "_model_module": "@jupyter-widgets/base",
            "_model_module_version": "1.2.0",
            "_model_name": "LayoutModel",
            "_view_count": null,
            "_view_module": "@jupyter-widgets/base",
            "_view_module_version": "1.2.0",
            "_view_name": "LayoutView",
            "align_content": null,
            "align_items": null,
            "align_self": null,
            "border": null,
            "bottom": null,
            "display": null,
            "flex": null,
            "flex_flow": null,
            "grid_area": null,
            "grid_auto_columns": null,
            "grid_auto_flow": null,
            "grid_auto_rows": null,
            "grid_column": null,
            "grid_gap": null,
            "grid_row": null,
            "grid_template_areas": null,
            "grid_template_columns": null,
            "grid_template_rows": null,
            "height": null,
            "justify_content": null,
            "justify_items": null,
            "left": null,
            "margin": null,
            "max_height": null,
            "max_width": null,
            "min_height": null,
            "min_width": null,
            "object_fit": null,
            "object_position": null,
            "order": null,
            "overflow": null,
            "overflow_x": null,
            "overflow_y": null,
            "padding": null,
            "right": null,
            "top": null,
            "visibility": null,
            "width": null
          }
        },
        "0c236da89f814c4897c570d168ae5567": {
          "model_module": "@jupyter-widgets/base",
          "model_name": "LayoutModel",
          "model_module_version": "1.2.0",
          "state": {
            "_model_module": "@jupyter-widgets/base",
            "_model_module_version": "1.2.0",
            "_model_name": "LayoutModel",
            "_view_count": null,
            "_view_module": "@jupyter-widgets/base",
            "_view_module_version": "1.2.0",
            "_view_name": "LayoutView",
            "align_content": null,
            "align_items": null,
            "align_self": null,
            "border": null,
            "bottom": null,
            "display": null,
            "flex": null,
            "flex_flow": null,
            "grid_area": null,
            "grid_auto_columns": null,
            "grid_auto_flow": null,
            "grid_auto_rows": null,
            "grid_column": null,
            "grid_gap": null,
            "grid_row": null,
            "grid_template_areas": null,
            "grid_template_columns": null,
            "grid_template_rows": null,
            "height": null,
            "justify_content": null,
            "justify_items": null,
            "left": null,
            "margin": null,
            "max_height": null,
            "max_width": null,
            "min_height": null,
            "min_width": null,
            "object_fit": null,
            "object_position": null,
            "order": null,
            "overflow": null,
            "overflow_x": null,
            "overflow_y": null,
            "padding": null,
            "right": null,
            "top": null,
            "visibility": null,
            "width": null
          }
        },
        "fb78714dffa64df1a603e375d42969bf": {
          "model_module": "@jupyter-widgets/controls",
          "model_name": "DescriptionStyleModel",
          "model_module_version": "1.5.0",
          "state": {
            "_model_module": "@jupyter-widgets/controls",
            "_model_module_version": "1.5.0",
            "_model_name": "DescriptionStyleModel",
            "_view_count": null,
            "_view_module": "@jupyter-widgets/base",
            "_view_module_version": "1.2.0",
            "_view_name": "StyleView",
            "description_width": ""
          }
        },
        "f238ce7a4aef4e9fa578e173c714364f": {
          "model_module": "@jupyter-widgets/base",
          "model_name": "LayoutModel",
          "model_module_version": "1.2.0",
          "state": {
            "_model_module": "@jupyter-widgets/base",
            "_model_module_version": "1.2.0",
            "_model_name": "LayoutModel",
            "_view_count": null,
            "_view_module": "@jupyter-widgets/base",
            "_view_module_version": "1.2.0",
            "_view_name": "LayoutView",
            "align_content": null,
            "align_items": null,
            "align_self": null,
            "border": null,
            "bottom": null,
            "display": null,
            "flex": null,
            "flex_flow": null,
            "grid_area": null,
            "grid_auto_columns": null,
            "grid_auto_flow": null,
            "grid_auto_rows": null,
            "grid_column": null,
            "grid_gap": null,
            "grid_row": null,
            "grid_template_areas": null,
            "grid_template_columns": null,
            "grid_template_rows": null,
            "height": null,
            "justify_content": null,
            "justify_items": null,
            "left": null,
            "margin": null,
            "max_height": null,
            "max_width": null,
            "min_height": null,
            "min_width": null,
            "object_fit": null,
            "object_position": null,
            "order": null,
            "overflow": null,
            "overflow_x": null,
            "overflow_y": null,
            "padding": null,
            "right": null,
            "top": null,
            "visibility": null,
            "width": null
          }
        },
        "9ee4a415e8e04847ab3c8a736e18b75d": {
          "model_module": "@jupyter-widgets/controls",
          "model_name": "ProgressStyleModel",
          "model_module_version": "1.5.0",
          "state": {
            "_model_module": "@jupyter-widgets/controls",
            "_model_module_version": "1.5.0",
            "_model_name": "ProgressStyleModel",
            "_view_count": null,
            "_view_module": "@jupyter-widgets/base",
            "_view_module_version": "1.2.0",
            "_view_name": "StyleView",
            "bar_color": null,
            "description_width": ""
          }
        },
        "0f3e4167e39d424a851991eb583eb003": {
          "model_module": "@jupyter-widgets/base",
          "model_name": "LayoutModel",
          "model_module_version": "1.2.0",
          "state": {
            "_model_module": "@jupyter-widgets/base",
            "_model_module_version": "1.2.0",
            "_model_name": "LayoutModel",
            "_view_count": null,
            "_view_module": "@jupyter-widgets/base",
            "_view_module_version": "1.2.0",
            "_view_name": "LayoutView",
            "align_content": null,
            "align_items": null,
            "align_self": null,
            "border": null,
            "bottom": null,
            "display": null,
            "flex": null,
            "flex_flow": null,
            "grid_area": null,
            "grid_auto_columns": null,
            "grid_auto_flow": null,
            "grid_auto_rows": null,
            "grid_column": null,
            "grid_gap": null,
            "grid_row": null,
            "grid_template_areas": null,
            "grid_template_columns": null,
            "grid_template_rows": null,
            "height": null,
            "justify_content": null,
            "justify_items": null,
            "left": null,
            "margin": null,
            "max_height": null,
            "max_width": null,
            "min_height": null,
            "min_width": null,
            "object_fit": null,
            "object_position": null,
            "order": null,
            "overflow": null,
            "overflow_x": null,
            "overflow_y": null,
            "padding": null,
            "right": null,
            "top": null,
            "visibility": null,
            "width": null
          }
        },
        "71d87c83fb8b4f1d813a2070254e08a6": {
          "model_module": "@jupyter-widgets/controls",
          "model_name": "DescriptionStyleModel",
          "model_module_version": "1.5.0",
          "state": {
            "_model_module": "@jupyter-widgets/controls",
            "_model_module_version": "1.5.0",
            "_model_name": "DescriptionStyleModel",
            "_view_count": null,
            "_view_module": "@jupyter-widgets/base",
            "_view_module_version": "1.2.0",
            "_view_name": "StyleView",
            "description_width": ""
          }
        },
        "c349fdd547984a6eb940c54a0150674d": {
          "model_module": "@jupyter-widgets/controls",
          "model_name": "HBoxModel",
          "model_module_version": "1.5.0",
          "state": {
            "_dom_classes": [],
            "_model_module": "@jupyter-widgets/controls",
            "_model_module_version": "1.5.0",
            "_model_name": "HBoxModel",
            "_view_count": null,
            "_view_module": "@jupyter-widgets/controls",
            "_view_module_version": "1.5.0",
            "_view_name": "HBoxView",
            "box_style": "",
            "children": [
              "IPY_MODEL_d4da11f734b645a9af79e80a34e9a187",
              "IPY_MODEL_05a6de0439614e818eba197bf8a55915",
              "IPY_MODEL_49a3105086124124b45f255645b08388"
            ],
            "layout": "IPY_MODEL_0d25a864ff3a457a858a79230789de24"
          }
        },
        "d4da11f734b645a9af79e80a34e9a187": {
          "model_module": "@jupyter-widgets/controls",
          "model_name": "HTMLModel",
          "model_module_version": "1.5.0",
          "state": {
            "_dom_classes": [],
            "_model_module": "@jupyter-widgets/controls",
            "_model_module_version": "1.5.0",
            "_model_name": "HTMLModel",
            "_view_count": null,
            "_view_module": "@jupyter-widgets/controls",
            "_view_module_version": "1.5.0",
            "_view_name": "HTMLView",
            "description": "",
            "description_tooltip": null,
            "layout": "IPY_MODEL_a956e3c375f2427e88b3bf7b1cc9d497",
            "placeholder": "​",
            "style": "IPY_MODEL_eaa5848128d6482a8b50249cb359a2fb",
            "value": "100%"
          }
        },
        "05a6de0439614e818eba197bf8a55915": {
          "model_module": "@jupyter-widgets/controls",
          "model_name": "FloatProgressModel",
          "model_module_version": "1.5.0",
          "state": {
            "_dom_classes": [],
            "_model_module": "@jupyter-widgets/controls",
            "_model_module_version": "1.5.0",
            "_model_name": "FloatProgressModel",
            "_view_count": null,
            "_view_module": "@jupyter-widgets/controls",
            "_view_module_version": "1.5.0",
            "_view_name": "ProgressView",
            "bar_style": "success",
            "description": "",
            "description_tooltip": null,
            "layout": "IPY_MODEL_60cbed2fb8ba4764a4145926a131119a",
            "max": 5,
            "min": 0,
            "orientation": "horizontal",
            "style": "IPY_MODEL_8cb492ef86414f3e9e567d670835b96d",
            "value": 5
          }
        },
        "49a3105086124124b45f255645b08388": {
          "model_module": "@jupyter-widgets/controls",
          "model_name": "HTMLModel",
          "model_module_version": "1.5.0",
          "state": {
            "_dom_classes": [],
            "_model_module": "@jupyter-widgets/controls",
            "_model_module_version": "1.5.0",
            "_model_name": "HTMLModel",
            "_view_count": null,
            "_view_module": "@jupyter-widgets/controls",
            "_view_module_version": "1.5.0",
            "_view_name": "HTMLView",
            "description": "",
            "description_tooltip": null,
            "layout": "IPY_MODEL_3ef8f99473ae4b6187c6f9ae1b80b908",
            "placeholder": "​",
            "style": "IPY_MODEL_4e9d02e5963e4195852f8514aeed3de5",
            "value": " 5/5 [00:00&lt;00:00, 169.21it/s]"
          }
        },
        "0d25a864ff3a457a858a79230789de24": {
          "model_module": "@jupyter-widgets/base",
          "model_name": "LayoutModel",
          "model_module_version": "1.2.0",
          "state": {
            "_model_module": "@jupyter-widgets/base",
            "_model_module_version": "1.2.0",
            "_model_name": "LayoutModel",
            "_view_count": null,
            "_view_module": "@jupyter-widgets/base",
            "_view_module_version": "1.2.0",
            "_view_name": "LayoutView",
            "align_content": null,
            "align_items": null,
            "align_self": null,
            "border": null,
            "bottom": null,
            "display": null,
            "flex": null,
            "flex_flow": null,
            "grid_area": null,
            "grid_auto_columns": null,
            "grid_auto_flow": null,
            "grid_auto_rows": null,
            "grid_column": null,
            "grid_gap": null,
            "grid_row": null,
            "grid_template_areas": null,
            "grid_template_columns": null,
            "grid_template_rows": null,
            "height": null,
            "justify_content": null,
            "justify_items": null,
            "left": null,
            "margin": null,
            "max_height": null,
            "max_width": null,
            "min_height": null,
            "min_width": null,
            "object_fit": null,
            "object_position": null,
            "order": null,
            "overflow": null,
            "overflow_x": null,
            "overflow_y": null,
            "padding": null,
            "right": null,
            "top": null,
            "visibility": null,
            "width": null
          }
        },
        "a956e3c375f2427e88b3bf7b1cc9d497": {
          "model_module": "@jupyter-widgets/base",
          "model_name": "LayoutModel",
          "model_module_version": "1.2.0",
          "state": {
            "_model_module": "@jupyter-widgets/base",
            "_model_module_version": "1.2.0",
            "_model_name": "LayoutModel",
            "_view_count": null,
            "_view_module": "@jupyter-widgets/base",
            "_view_module_version": "1.2.0",
            "_view_name": "LayoutView",
            "align_content": null,
            "align_items": null,
            "align_self": null,
            "border": null,
            "bottom": null,
            "display": null,
            "flex": null,
            "flex_flow": null,
            "grid_area": null,
            "grid_auto_columns": null,
            "grid_auto_flow": null,
            "grid_auto_rows": null,
            "grid_column": null,
            "grid_gap": null,
            "grid_row": null,
            "grid_template_areas": null,
            "grid_template_columns": null,
            "grid_template_rows": null,
            "height": null,
            "justify_content": null,
            "justify_items": null,
            "left": null,
            "margin": null,
            "max_height": null,
            "max_width": null,
            "min_height": null,
            "min_width": null,
            "object_fit": null,
            "object_position": null,
            "order": null,
            "overflow": null,
            "overflow_x": null,
            "overflow_y": null,
            "padding": null,
            "right": null,
            "top": null,
            "visibility": null,
            "width": null
          }
        },
        "eaa5848128d6482a8b50249cb359a2fb": {
          "model_module": "@jupyter-widgets/controls",
          "model_name": "DescriptionStyleModel",
          "model_module_version": "1.5.0",
          "state": {
            "_model_module": "@jupyter-widgets/controls",
            "_model_module_version": "1.5.0",
            "_model_name": "DescriptionStyleModel",
            "_view_count": null,
            "_view_module": "@jupyter-widgets/base",
            "_view_module_version": "1.2.0",
            "_view_name": "StyleView",
            "description_width": ""
          }
        },
        "60cbed2fb8ba4764a4145926a131119a": {
          "model_module": "@jupyter-widgets/base",
          "model_name": "LayoutModel",
          "model_module_version": "1.2.0",
          "state": {
            "_model_module": "@jupyter-widgets/base",
            "_model_module_version": "1.2.0",
            "_model_name": "LayoutModel",
            "_view_count": null,
            "_view_module": "@jupyter-widgets/base",
            "_view_module_version": "1.2.0",
            "_view_name": "LayoutView",
            "align_content": null,
            "align_items": null,
            "align_self": null,
            "border": null,
            "bottom": null,
            "display": null,
            "flex": null,
            "flex_flow": null,
            "grid_area": null,
            "grid_auto_columns": null,
            "grid_auto_flow": null,
            "grid_auto_rows": null,
            "grid_column": null,
            "grid_gap": null,
            "grid_row": null,
            "grid_template_areas": null,
            "grid_template_columns": null,
            "grid_template_rows": null,
            "height": null,
            "justify_content": null,
            "justify_items": null,
            "left": null,
            "margin": null,
            "max_height": null,
            "max_width": null,
            "min_height": null,
            "min_width": null,
            "object_fit": null,
            "object_position": null,
            "order": null,
            "overflow": null,
            "overflow_x": null,
            "overflow_y": null,
            "padding": null,
            "right": null,
            "top": null,
            "visibility": null,
            "width": null
          }
        },
        "8cb492ef86414f3e9e567d670835b96d": {
          "model_module": "@jupyter-widgets/controls",
          "model_name": "ProgressStyleModel",
          "model_module_version": "1.5.0",
          "state": {
            "_model_module": "@jupyter-widgets/controls",
            "_model_module_version": "1.5.0",
            "_model_name": "ProgressStyleModel",
            "_view_count": null,
            "_view_module": "@jupyter-widgets/base",
            "_view_module_version": "1.2.0",
            "_view_name": "StyleView",
            "bar_color": null,
            "description_width": ""
          }
        },
        "3ef8f99473ae4b6187c6f9ae1b80b908": {
          "model_module": "@jupyter-widgets/base",
          "model_name": "LayoutModel",
          "model_module_version": "1.2.0",
          "state": {
            "_model_module": "@jupyter-widgets/base",
            "_model_module_version": "1.2.0",
            "_model_name": "LayoutModel",
            "_view_count": null,
            "_view_module": "@jupyter-widgets/base",
            "_view_module_version": "1.2.0",
            "_view_name": "LayoutView",
            "align_content": null,
            "align_items": null,
            "align_self": null,
            "border": null,
            "bottom": null,
            "display": null,
            "flex": null,
            "flex_flow": null,
            "grid_area": null,
            "grid_auto_columns": null,
            "grid_auto_flow": null,
            "grid_auto_rows": null,
            "grid_column": null,
            "grid_gap": null,
            "grid_row": null,
            "grid_template_areas": null,
            "grid_template_columns": null,
            "grid_template_rows": null,
            "height": null,
            "justify_content": null,
            "justify_items": null,
            "left": null,
            "margin": null,
            "max_height": null,
            "max_width": null,
            "min_height": null,
            "min_width": null,
            "object_fit": null,
            "object_position": null,
            "order": null,
            "overflow": null,
            "overflow_x": null,
            "overflow_y": null,
            "padding": null,
            "right": null,
            "top": null,
            "visibility": null,
            "width": null
          }
        },
        "4e9d02e5963e4195852f8514aeed3de5": {
          "model_module": "@jupyter-widgets/controls",
          "model_name": "DescriptionStyleModel",
          "model_module_version": "1.5.0",
          "state": {
            "_model_module": "@jupyter-widgets/controls",
            "_model_module_version": "1.5.0",
            "_model_name": "DescriptionStyleModel",
            "_view_count": null,
            "_view_module": "@jupyter-widgets/base",
            "_view_module_version": "1.2.0",
            "_view_name": "StyleView",
            "description_width": ""
          }
        }
      }
    }
  },
  "cells": [
    {
      "cell_type": "markdown",
      "source": [
        "##**8. Masked Multi-head Attention**\n",
        "1. Masked Multi-head Attention 구현.\n",
        "2. Encoder-Decoder Attention 구현."
      ],
      "metadata": {
        "id": "QE_Hit8If7j9"
      }
    },
    {
      "cell_type": "markdown",
      "source": [
        "### **필요 패키지 import**"
      ],
      "metadata": {
        "id": "455RRH4wf-nN"
      }
    },
    {
      "cell_type": "code",
      "execution_count": 1,
      "metadata": {
        "id": "WG6zEOshf6Ep"
      },
      "outputs": [],
      "source": [
        "from torch import nn\n",
        "from torch.nn import functional as F\n",
        "\n",
        "from tqdm.auto import tqdm\n",
        "\n",
        "import torch\n",
        "import math"
      ]
    },
    {
      "cell_type": "code",
      "source": [],
      "metadata": {
        "id": "YJwbUY7ZgE8-"
      },
      "execution_count": null,
      "outputs": []
    },
    {
      "cell_type": "markdown",
      "source": [
        "### **데이터 전처리**"
      ],
      "metadata": {
        "id": "Tq6OMeDng_8g"
      }
    },
    {
      "cell_type": "markdown",
      "source": [
        "데이터의 값과 형태를 좀 더 명확하게 보기 위해 sample을 줄이겠습니다."
      ],
      "metadata": {
        "id": "-nlUPulAhCSt"
      }
    },
    {
      "cell_type": "code",
      "source": [
        "pad_id = 0\n",
        "vocab_size = 100\n",
        "\n",
        "data = [\n",
        "  [62, 13, 47, 39, 78, 33, 56, 13],\n",
        "  [60, 96, 51, 32, 90],\n",
        "  [35, 45, 48, 65, 91, 99, 92, 10, 3, 21],\n",
        "  [66, 88, 98, 47],\n",
        "  [77, 65, 51, 77, 19, 15, 35, 19, 23]\n",
        "]"
      ],
      "metadata": {
        "id": "gAWGXNJphALQ"
      },
      "execution_count": 2,
      "outputs": []
    },
    {
      "cell_type": "code",
      "source": [
        "def padding(data):\n",
        "\n",
        "    max_len = len(max(data, key = len))\n",
        "    print(f\"Maximum sequence length: {max_len}\")\n",
        "\n",
        "    for i,seq in enumerate(tqdm(data)):\n",
        "\n",
        "        if len(seq) < max_len:\n",
        "\n",
        "            data[i] = seq + [pad_id] * (max_len - len(seq))\n",
        "\n",
        "    return data, max_len"
      ],
      "metadata": {
        "id": "F1EprhaNhFaZ"
      },
      "execution_count": 3,
      "outputs": []
    },
    {
      "cell_type": "code",
      "source": [
        "data, max_len = padding(data)"
      ],
      "metadata": {
        "colab": {
          "base_uri": "https://localhost:8080/",
          "height": 67,
          "referenced_widgets": [
            "5ae1399c18d548dda8acdbd5dcc312e8",
            "0cfd5f6114594c338553945214bfd646",
            "0a8e28dc4cf344af9897be5a0d36f66b",
            "e3c2782641a94697b823a10a90aa28ce",
            "08020b733da04c0aac260db0c8cfce0e",
            "0c236da89f814c4897c570d168ae5567",
            "fb78714dffa64df1a603e375d42969bf",
            "f238ce7a4aef4e9fa578e173c714364f",
            "9ee4a415e8e04847ab3c8a736e18b75d",
            "0f3e4167e39d424a851991eb583eb003",
            "71d87c83fb8b4f1d813a2070254e08a6"
          ]
        },
        "id": "55yJux3thTbQ",
        "outputId": "3565c029-b94c-4b2e-811a-a6ce519dfe3f"
      },
      "execution_count": 4,
      "outputs": [
        {
          "output_type": "stream",
          "name": "stdout",
          "text": [
            "Maximum sequence length: 10\n"
          ]
        },
        {
          "output_type": "display_data",
          "data": {
            "text/plain": [
              "  0%|          | 0/5 [00:00<?, ?it/s]"
            ],
            "application/vnd.jupyter.widget-view+json": {
              "version_major": 2,
              "version_minor": 0,
              "model_id": "5ae1399c18d548dda8acdbd5dcc312e8"
            }
          },
          "metadata": {}
        }
      ]
    },
    {
      "cell_type": "code",
      "source": [
        "data"
      ],
      "metadata": {
        "colab": {
          "base_uri": "https://localhost:8080/"
        },
        "id": "1Z3C8XdzhW-V",
        "outputId": "4ae398ec-931e-4d45-e279-96503d9205af"
      },
      "execution_count": 5,
      "outputs": [
        {
          "output_type": "execute_result",
          "data": {
            "text/plain": [
              "[[62, 13, 47, 39, 78, 33, 56, 13, 0, 0],\n",
              " [60, 96, 51, 32, 90, 0, 0, 0, 0, 0],\n",
              " [35, 45, 48, 65, 91, 99, 92, 10, 3, 21],\n",
              " [66, 88, 98, 47, 0, 0, 0, 0, 0, 0],\n",
              " [77, 65, 51, 77, 19, 15, 35, 19, 23, 0]]"
            ]
          },
          "metadata": {},
          "execution_count": 5
        }
      ]
    },
    {
      "cell_type": "code",
      "source": [],
      "metadata": {
        "id": "WQL2fS1uhX-z"
      },
      "execution_count": null,
      "outputs": []
    },
    {
      "cell_type": "markdown",
      "source": [
        "### **Hyperparameter 세팅 및 embedding**"
      ],
      "metadata": {
        "id": "jjgXNkJZh57i"
      }
    },
    {
      "cell_type": "code",
      "source": [
        "d_model = 8 # model의 hidden size\n",
        "num_heads = 2 # head의 개수\n",
        "inf = 1e12"
      ],
      "metadata": {
        "id": "8RcksDvih6Jt"
      },
      "execution_count": 6,
      "outputs": []
    },
    {
      "cell_type": "code",
      "source": [
        "embedding = nn.Embedding(vocab_size, d_model)\n",
        "\n",
        "#B: batch size, L: maximum sequence length\n",
        "\n",
        "batch = torch.LongTensor(data) #(B, L)\n",
        "batch_emb = embedding(batch) #(B,L,d_model)"
      ],
      "metadata": {
        "id": "mQnAiZ9AiAP_"
      },
      "execution_count": 7,
      "outputs": []
    },
    {
      "cell_type": "code",
      "source": [
        "print(batch_emb)\n",
        "print(batch_emb.shape)"
      ],
      "metadata": {
        "colab": {
          "base_uri": "https://localhost:8080/"
        },
        "id": "AVHHwUyHiMdA",
        "outputId": "81cf9b9d-f013-426a-d190-0bc31304ad76"
      },
      "execution_count": 9,
      "outputs": [
        {
          "output_type": "stream",
          "name": "stdout",
          "text": [
            "tensor([[[-0.2273, -0.0983,  0.5328, -1.1753, -0.4987,  0.4173,  0.2607,\n",
            "           0.0171],\n",
            "         [-0.8935, -0.5912, -0.7333, -0.1794,  1.1164,  0.6642,  0.5094,\n",
            "          -1.5917],\n",
            "         [ 0.9191, -0.5637, -1.2143,  0.4283,  0.5112, -0.4976, -1.5387,\n",
            "           0.8228],\n",
            "         [-0.2822,  0.9250,  0.2539,  0.8478, -0.0862,  2.2553, -1.1267,\n",
            "          -1.1796],\n",
            "         [ 2.8048,  0.6999, -0.2310, -0.0963, -0.8707,  1.3508, -0.3853,\n",
            "          -1.0851],\n",
            "         [-1.3985,  0.6530,  1.0392, -0.2071,  0.0160, -0.6280,  1.1516,\n",
            "           1.6433],\n",
            "         [-0.4956,  1.4092, -0.7539,  1.9166,  1.3538, -0.0419,  1.0191,\n",
            "          -0.5718],\n",
            "         [-0.8935, -0.5912, -0.7333, -0.1794,  1.1164,  0.6642,  0.5094,\n",
            "          -1.5917],\n",
            "         [ 0.0491, -1.1867,  1.3131, -1.4396, -0.3594, -1.6283, -0.2207,\n",
            "          -1.4034],\n",
            "         [ 0.0491, -1.1867,  1.3131, -1.4396, -0.3594, -1.6283, -0.2207,\n",
            "          -1.4034]],\n",
            "\n",
            "        [[ 0.6030, -0.7226,  1.7333, -0.3555,  2.1559,  0.0866, -0.2956,\n",
            "          -0.1223],\n",
            "         [ 0.2885, -0.9547, -1.9666,  0.8964,  0.1624,  2.1617, -1.7750,\n",
            "          -0.1780],\n",
            "         [-1.1669,  0.1825,  1.1441, -0.1376, -0.2902,  1.7630,  1.2673,\n",
            "          -0.7166],\n",
            "         [ 0.1387,  0.3617, -1.0416,  1.3255, -1.5730, -0.3883,  2.1811,\n",
            "          -1.7191],\n",
            "         [ 0.6242,  1.2057,  0.3774,  0.2141,  0.1838,  1.0709, -0.8196,\n",
            "          -0.3468],\n",
            "         [ 0.0491, -1.1867,  1.3131, -1.4396, -0.3594, -1.6283, -0.2207,\n",
            "          -1.4034],\n",
            "         [ 0.0491, -1.1867,  1.3131, -1.4396, -0.3594, -1.6283, -0.2207,\n",
            "          -1.4034],\n",
            "         [ 0.0491, -1.1867,  1.3131, -1.4396, -0.3594, -1.6283, -0.2207,\n",
            "          -1.4034],\n",
            "         [ 0.0491, -1.1867,  1.3131, -1.4396, -0.3594, -1.6283, -0.2207,\n",
            "          -1.4034],\n",
            "         [ 0.0491, -1.1867,  1.3131, -1.4396, -0.3594, -1.6283, -0.2207,\n",
            "          -1.4034]],\n",
            "\n",
            "        [[-0.7923,  0.3107,  0.8502, -1.9587, -1.1544,  0.0272, -0.3696,\n",
            "           0.9983],\n",
            "         [-0.1353,  0.3200,  1.4282,  1.0546, -0.6957,  0.2443, -0.1821,\n",
            "          -0.6070],\n",
            "         [-0.1917, -0.0215,  1.2580, -1.3936, -0.3799,  1.5559, -1.3017,\n",
            "          -0.8344],\n",
            "         [-2.0448,  1.2379,  0.0877,  1.2076,  0.8186, -0.5493,  1.8611,\n",
            "          -0.8559],\n",
            "         [-0.1440, -0.0141,  0.8205, -1.0780,  0.4603, -0.7503,  0.7354,\n",
            "           0.1155],\n",
            "         [-1.0634,  1.4134, -1.1319, -0.4897, -0.4820,  0.0580, -0.8953,\n",
            "          -0.7239],\n",
            "         [ 1.8144,  0.6949,  0.9888, -0.3495,  0.4342, -0.1060,  0.5104,\n",
            "           0.7728],\n",
            "         [-1.1509, -0.5845, -0.8819, -1.2113,  1.2165, -1.0235,  0.9122,\n",
            "           0.3158],\n",
            "         [ 0.2704, -1.2772,  0.6809,  0.2947,  2.3215,  0.4875,  1.6336,\n",
            "           1.9289],\n",
            "         [ 0.6175,  0.2034, -0.9197, -2.3808,  0.2841, -0.9423, -0.0392,\n",
            "           0.2779]],\n",
            "\n",
            "        [[-2.2847,  2.7035, -0.2313,  1.3060,  0.3882, -1.3063,  0.5831,\n",
            "          -0.8566],\n",
            "         [ 0.0294,  0.3668, -0.3069, -0.2854, -1.1778,  2.0181,  0.6982,\n",
            "          -0.5422],\n",
            "         [-0.4439, -1.2773,  0.3536, -0.2320, -0.4259,  0.5724,  2.0399,\n",
            "           1.4043],\n",
            "         [ 0.9191, -0.5637, -1.2143,  0.4283,  0.5112, -0.4976, -1.5387,\n",
            "           0.8228],\n",
            "         [ 0.0491, -1.1867,  1.3131, -1.4396, -0.3594, -1.6283, -0.2207,\n",
            "          -1.4034],\n",
            "         [ 0.0491, -1.1867,  1.3131, -1.4396, -0.3594, -1.6283, -0.2207,\n",
            "          -1.4034],\n",
            "         [ 0.0491, -1.1867,  1.3131, -1.4396, -0.3594, -1.6283, -0.2207,\n",
            "          -1.4034],\n",
            "         [ 0.0491, -1.1867,  1.3131, -1.4396, -0.3594, -1.6283, -0.2207,\n",
            "          -1.4034],\n",
            "         [ 0.0491, -1.1867,  1.3131, -1.4396, -0.3594, -1.6283, -0.2207,\n",
            "          -1.4034],\n",
            "         [ 0.0491, -1.1867,  1.3131, -1.4396, -0.3594, -1.6283, -0.2207,\n",
            "          -1.4034]],\n",
            "\n",
            "        [[ 0.6045,  0.1155,  0.4437,  0.2367,  0.3763, -1.5376, -0.8797,\n",
            "           0.7340],\n",
            "         [-2.0448,  1.2379,  0.0877,  1.2076,  0.8186, -0.5493,  1.8611,\n",
            "          -0.8559],\n",
            "         [-1.1669,  0.1825,  1.1441, -0.1376, -0.2902,  1.7630,  1.2673,\n",
            "          -0.7166],\n",
            "         [ 0.6045,  0.1155,  0.4437,  0.2367,  0.3763, -1.5376, -0.8797,\n",
            "           0.7340],\n",
            "         [ 1.1128, -0.0080, -1.0074, -0.8234,  1.2247,  0.2375,  0.2053,\n",
            "          -1.8097],\n",
            "         [ 0.0236,  0.9562, -0.2227,  1.0644,  0.1099, -1.0754, -0.3804,\n",
            "          -0.9613],\n",
            "         [-0.7923,  0.3107,  0.8502, -1.9587, -1.1544,  0.0272, -0.3696,\n",
            "           0.9983],\n",
            "         [ 1.1128, -0.0080, -1.0074, -0.8234,  1.2247,  0.2375,  0.2053,\n",
            "          -1.8097],\n",
            "         [-0.6163, -1.0213,  0.9746, -0.5051,  0.9391, -0.2883,  1.2081,\n",
            "           0.6549],\n",
            "         [ 0.0491, -1.1867,  1.3131, -1.4396, -0.3594, -1.6283, -0.2207,\n",
            "          -1.4034]]], grad_fn=<EmbeddingBackward0>)\n",
            "torch.Size([5, 10, 8])\n"
          ]
        }
      ]
    },
    {
      "cell_type": "code",
      "source": [],
      "metadata": {
        "id": "tqQb3nyMiNg6"
      },
      "execution_count": null,
      "outputs": []
    },
    {
      "cell_type": "markdown",
      "source": [
        "### **Mask 구축**"
      ],
      "metadata": {
        "id": "aPTgKgxhiz3C"
      }
    },
    {
      "cell_type": "markdown",
      "source": [
        "`True`는 attention이 적용될 부분, `False`는 masking될 자리입니다."
      ],
      "metadata": {
        "id": "RMiET7Xci2wi"
      }
    },
    {
      "cell_type": "code",
      "source": [
        "padding_mask = (batch != pad_id).unsqueeze(1) #(B,1,L)\n",
        "\n",
        "print(padding_mask)\n",
        "print(padding_mask.shape)"
      ],
      "metadata": {
        "colab": {
          "base_uri": "https://localhost:8080/"
        },
        "id": "2e2mTA24i0Md",
        "outputId": "23ae6839-034d-4b1e-f819-d8f3841092b8"
      },
      "execution_count": 10,
      "outputs": [
        {
          "output_type": "stream",
          "name": "stdout",
          "text": [
            "tensor([[[ True,  True,  True,  True,  True,  True,  True,  True, False, False]],\n",
            "\n",
            "        [[ True,  True,  True,  True,  True, False, False, False, False, False]],\n",
            "\n",
            "        [[ True,  True,  True,  True,  True,  True,  True,  True,  True,  True]],\n",
            "\n",
            "        [[ True,  True,  True,  True, False, False, False, False, False, False]],\n",
            "\n",
            "        [[ True,  True,  True,  True,  True,  True,  True,  True,  True, False]]])\n",
            "torch.Size([5, 1, 10])\n"
          ]
        }
      ]
    },
    {
      "cell_type": "code",
      "source": [
        "nopeak_mask = torch.ones([1, max_len, max_len], dtype = torch.bool) #(1, L, L)\n",
        "\n",
        "#torch.tril = lower triangular matrix\n",
        "\n",
        "nopeak_mask = torch.tril(nopeak_mask) #(1, L, L)\n",
        "\n",
        "print(nopeak_mask)\n",
        "print(nopeak_mask.shape)"
      ],
      "metadata": {
        "colab": {
          "base_uri": "https://localhost:8080/"
        },
        "id": "CfnTL3Fxi-cm",
        "outputId": "53bc22c0-ee97-43fa-8f94-77c1173ea301"
      },
      "execution_count": 12,
      "outputs": [
        {
          "output_type": "stream",
          "name": "stdout",
          "text": [
            "tensor([[[ True, False, False, False, False, False, False, False, False, False],\n",
            "         [ True,  True, False, False, False, False, False, False, False, False],\n",
            "         [ True,  True,  True, False, False, False, False, False, False, False],\n",
            "         [ True,  True,  True,  True, False, False, False, False, False, False],\n",
            "         [ True,  True,  True,  True,  True, False, False, False, False, False],\n",
            "         [ True,  True,  True,  True,  True,  True, False, False, False, False],\n",
            "         [ True,  True,  True,  True,  True,  True,  True, False, False, False],\n",
            "         [ True,  True,  True,  True,  True,  True,  True,  True, False, False],\n",
            "         [ True,  True,  True,  True,  True,  True,  True,  True,  True, False],\n",
            "         [ True,  True,  True,  True,  True,  True,  True,  True,  True,  True]]])\n",
            "torch.Size([1, 10, 10])\n"
          ]
        }
      ]
    },
    {
      "cell_type": "code",
      "source": [
        "mask = padding_mask & nopeak_mask #(B, L, L)\n",
        "\n",
        "print(mask)\n",
        "print(mask.shape)"
      ],
      "metadata": {
        "colab": {
          "base_uri": "https://localhost:8080/"
        },
        "id": "4vga7PpijTVn",
        "outputId": "aa46f574-ce9a-4956-9c00-babb2ce995de"
      },
      "execution_count": 13,
      "outputs": [
        {
          "output_type": "stream",
          "name": "stdout",
          "text": [
            "tensor([[[ True, False, False, False, False, False, False, False, False, False],\n",
            "         [ True,  True, False, False, False, False, False, False, False, False],\n",
            "         [ True,  True,  True, False, False, False, False, False, False, False],\n",
            "         [ True,  True,  True,  True, False, False, False, False, False, False],\n",
            "         [ True,  True,  True,  True,  True, False, False, False, False, False],\n",
            "         [ True,  True,  True,  True,  True,  True, False, False, False, False],\n",
            "         [ True,  True,  True,  True,  True,  True,  True, False, False, False],\n",
            "         [ True,  True,  True,  True,  True,  True,  True,  True, False, False],\n",
            "         [ True,  True,  True,  True,  True,  True,  True,  True, False, False],\n",
            "         [ True,  True,  True,  True,  True,  True,  True,  True, False, False]],\n",
            "\n",
            "        [[ True, False, False, False, False, False, False, False, False, False],\n",
            "         [ True,  True, False, False, False, False, False, False, False, False],\n",
            "         [ True,  True,  True, False, False, False, False, False, False, False],\n",
            "         [ True,  True,  True,  True, False, False, False, False, False, False],\n",
            "         [ True,  True,  True,  True,  True, False, False, False, False, False],\n",
            "         [ True,  True,  True,  True,  True, False, False, False, False, False],\n",
            "         [ True,  True,  True,  True,  True, False, False, False, False, False],\n",
            "         [ True,  True,  True,  True,  True, False, False, False, False, False],\n",
            "         [ True,  True,  True,  True,  True, False, False, False, False, False],\n",
            "         [ True,  True,  True,  True,  True, False, False, False, False, False]],\n",
            "\n",
            "        [[ True, False, False, False, False, False, False, False, False, False],\n",
            "         [ True,  True, False, False, False, False, False, False, False, False],\n",
            "         [ True,  True,  True, False, False, False, False, False, False, False],\n",
            "         [ True,  True,  True,  True, False, False, False, False, False, False],\n",
            "         [ True,  True,  True,  True,  True, False, False, False, False, False],\n",
            "         [ True,  True,  True,  True,  True,  True, False, False, False, False],\n",
            "         [ True,  True,  True,  True,  True,  True,  True, False, False, False],\n",
            "         [ True,  True,  True,  True,  True,  True,  True,  True, False, False],\n",
            "         [ True,  True,  True,  True,  True,  True,  True,  True,  True, False],\n",
            "         [ True,  True,  True,  True,  True,  True,  True,  True,  True,  True]],\n",
            "\n",
            "        [[ True, False, False, False, False, False, False, False, False, False],\n",
            "         [ True,  True, False, False, False, False, False, False, False, False],\n",
            "         [ True,  True,  True, False, False, False, False, False, False, False],\n",
            "         [ True,  True,  True,  True, False, False, False, False, False, False],\n",
            "         [ True,  True,  True,  True, False, False, False, False, False, False],\n",
            "         [ True,  True,  True,  True, False, False, False, False, False, False],\n",
            "         [ True,  True,  True,  True, False, False, False, False, False, False],\n",
            "         [ True,  True,  True,  True, False, False, False, False, False, False],\n",
            "         [ True,  True,  True,  True, False, False, False, False, False, False],\n",
            "         [ True,  True,  True,  True, False, False, False, False, False, False]],\n",
            "\n",
            "        [[ True, False, False, False, False, False, False, False, False, False],\n",
            "         [ True,  True, False, False, False, False, False, False, False, False],\n",
            "         [ True,  True,  True, False, False, False, False, False, False, False],\n",
            "         [ True,  True,  True,  True, False, False, False, False, False, False],\n",
            "         [ True,  True,  True,  True,  True, False, False, False, False, False],\n",
            "         [ True,  True,  True,  True,  True,  True, False, False, False, False],\n",
            "         [ True,  True,  True,  True,  True,  True,  True, False, False, False],\n",
            "         [ True,  True,  True,  True,  True,  True,  True,  True, False, False],\n",
            "         [ True,  True,  True,  True,  True,  True,  True,  True,  True, False],\n",
            "         [ True,  True,  True,  True,  True,  True,  True,  True,  True, False]]])\n",
            "torch.Size([5, 10, 10])\n"
          ]
        }
      ]
    },
    {
      "cell_type": "code",
      "source": [],
      "metadata": {
        "id": "JRtnIfgCjxG2"
      },
      "execution_count": null,
      "outputs": []
    },
    {
      "cell_type": "markdown",
      "source": [
        "### **Linear transformation & 여러 head로 나누기**"
      ],
      "metadata": {
        "id": "Pi8P4SbKj_uy"
      }
    },
    {
      "cell_type": "code",
      "source": [
        "w_q = nn.Linear(d_model, d_model)\n",
        "w_k = nn.Linear(d_model, d_model)\n",
        "w_v = nn.Linear(d_model, d_model)\n",
        "\n",
        "w_o = nn.Linear(d_model, d_model)"
      ],
      "metadata": {
        "id": "12PeVahkj_9N"
      },
      "execution_count": 14,
      "outputs": []
    },
    {
      "cell_type": "code",
      "source": [
        "q = w_q(batch_emb) # (B, L, d_model)\n",
        "k = w_k(batch_emb) # (B, L, d_model)\n",
        "v = w_v(batch_emb) # (B, L, d_model)\n",
        "\n",
        "batch_size = q.shape[0]\n",
        "d_k = d_model//num_heads\n",
        "\n",
        "q = q.view(batch_size, -1, num_heads, d_k)  # (B, L, num_heads, d_k)\n",
        "k = k.view(batch_size, -1, num_heads, d_k)   # (B, L, num_heads, d_k)\n",
        "v = v.view(batch_size, -1, num_heads, d_k)   # (B, L, num_heads, d_k)\n",
        "\n",
        "q = q.transpose(1, 2) # (B, num_heads, L, d_k)\n",
        "k = k.transpose(1, 2) # (B, num_heads, L, d_k)\n",
        "v = v.transpose(1, 2) # (B, num_heads, L, d_k)\n",
        "\n",
        "print(q.shape)\n",
        "print(k.shape)\n",
        "print(v.shape)"
      ],
      "metadata": {
        "colab": {
          "base_uri": "https://localhost:8080/"
        },
        "id": "uzc25Io8lXy1",
        "outputId": "95180cf5-fe2f-4576-c7f4-056afc161032"
      },
      "execution_count": 15,
      "outputs": [
        {
          "output_type": "stream",
          "name": "stdout",
          "text": [
            "torch.Size([5, 2, 10, 4])\n",
            "torch.Size([5, 2, 10, 4])\n",
            "torch.Size([5, 2, 10, 4])\n"
          ]
        }
      ]
    },
    {
      "cell_type": "code",
      "source": [],
      "metadata": {
        "id": "Ifwzb5zVlrGs"
      },
      "execution_count": null,
      "outputs": []
    },
    {
      "cell_type": "markdown",
      "source": [
        "### **Masking이 적용된 self-attention 구현**"
      ],
      "metadata": {
        "id": "hSW0EzZBl3LI"
      }
    },
    {
      "cell_type": "code",
      "source": [
        "attn_scores = torch.matmul(q, k.transpose(-2, -1)) / math.sqrt(d_k) # (B, num_heads, L, L)"
      ],
      "metadata": {
        "id": "aATEhmVCl3Xr"
      },
      "execution_count": 16,
      "outputs": []
    },
    {
      "cell_type": "code",
      "source": [
        "masks = mask.unsqueeze(1) #(B, 1, L, L)\n",
        "masked_attn_scores = attn_scores.masked_fill_(masks == False, -1 * inf) #(B, num_heads, L, L)\n",
        "\n",
        "print(masked_attn_scores)\n",
        "print(masked_attn_scores.shape)"
      ],
      "metadata": {
        "colab": {
          "base_uri": "https://localhost:8080/"
        },
        "id": "iXM8CXD5l_pO",
        "outputId": "05c935f4-937a-4e08-a9d9-cb98a31ff8df"
      },
      "execution_count": 17,
      "outputs": [
        {
          "output_type": "stream",
          "name": "stdout",
          "text": [
            "tensor([[[[ 3.2544e-01, -1.0000e+12, -1.0000e+12, -1.0000e+12, -1.0000e+12,\n",
            "           -1.0000e+12, -1.0000e+12, -1.0000e+12, -1.0000e+12, -1.0000e+12],\n",
            "          [-6.3768e-02, -2.0633e-01, -1.0000e+12, -1.0000e+12, -1.0000e+12,\n",
            "           -1.0000e+12, -1.0000e+12, -1.0000e+12, -1.0000e+12, -1.0000e+12],\n",
            "          [-2.7262e-01, -2.7068e-01,  3.1844e-01, -1.0000e+12, -1.0000e+12,\n",
            "           -1.0000e+12, -1.0000e+12, -1.0000e+12, -1.0000e+12, -1.0000e+12],\n",
            "          [-2.2799e-01, -2.8245e-01,  6.4515e-01, -4.7439e-02, -1.0000e+12,\n",
            "           -1.0000e+12, -1.0000e+12, -1.0000e+12, -1.0000e+12, -1.0000e+12],\n",
            "          [ 1.4887e-01,  8.8036e-02,  5.1274e-01, -2.9637e-01,  2.7026e-02,\n",
            "           -1.0000e+12, -1.0000e+12, -1.0000e+12, -1.0000e+12, -1.0000e+12],\n",
            "          [ 4.0239e-01,  5.6376e-01, -4.9722e-01,  1.2941e-01, -9.9683e-02,\n",
            "            1.2100e-01, -1.0000e+12, -1.0000e+12, -1.0000e+12, -1.0000e+12],\n",
            "          [-2.2040e-01, -7.4122e-02,  2.8399e-01,  5.4994e-02, -3.6106e-01,\n",
            "            4.7494e-01,  6.8058e-01, -1.0000e+12, -1.0000e+12, -1.0000e+12],\n",
            "          [-6.3768e-02, -2.0633e-01,  2.7135e-01,  1.6287e-01,  1.6441e-02,\n",
            "            2.2943e-02, -4.0155e-02, -2.0633e-01, -1.0000e+12, -1.0000e+12],\n",
            "          [ 3.8837e-01,  3.0548e-01, -7.7721e-01,  2.1328e-01,  3.3528e-01,\n",
            "           -4.3996e-01, -7.3011e-01,  3.0548e-01, -1.0000e+12, -1.0000e+12],\n",
            "          [ 3.8837e-01,  3.0548e-01, -7.7721e-01,  2.1328e-01,  3.3528e-01,\n",
            "           -4.3996e-01, -7.3011e-01,  3.0548e-01, -1.0000e+12, -1.0000e+12]],\n",
            "\n",
            "         [[-4.4280e-02, -1.0000e+12, -1.0000e+12, -1.0000e+12, -1.0000e+12,\n",
            "           -1.0000e+12, -1.0000e+12, -1.0000e+12, -1.0000e+12, -1.0000e+12],\n",
            "          [-5.8071e-03, -1.2136e-01, -1.0000e+12, -1.0000e+12, -1.0000e+12,\n",
            "           -1.0000e+12, -1.0000e+12, -1.0000e+12, -1.0000e+12, -1.0000e+12],\n",
            "          [ 1.6393e-01, -1.2014e+00,  8.9442e-02, -1.0000e+12, -1.0000e+12,\n",
            "           -1.0000e+12, -1.0000e+12, -1.0000e+12, -1.0000e+12, -1.0000e+12],\n",
            "          [-2.3620e-02,  2.3968e-02, -4.9635e-01,  1.3230e-01, -1.0000e+12,\n",
            "           -1.0000e+12, -1.0000e+12, -1.0000e+12, -1.0000e+12, -1.0000e+12],\n",
            "          [ 8.2589e-02, -7.2521e-01, -2.1421e-02,  2.8443e-01,  4.5627e-01,\n",
            "           -1.0000e+12, -1.0000e+12, -1.0000e+12, -1.0000e+12, -1.0000e+12],\n",
            "          [-6.7329e-02,  6.3016e-01,  4.2883e-01, -4.0291e-01, -6.0854e-01,\n",
            "            6.0331e-02, -1.0000e+12, -1.0000e+12, -1.0000e+12, -1.0000e+12],\n",
            "          [ 4.1792e-02, -3.0651e-01, -8.0465e-02,  2.2387e-01,  6.8756e-01,\n",
            "           -2.4625e-01, -1.8309e-01, -1.0000e+12, -1.0000e+12, -1.0000e+12],\n",
            "          [-5.8071e-03, -1.2136e-01, -6.2664e-01,  3.6358e-01, -5.7019e-02,\n",
            "           -1.4407e-05, -7.7973e-02, -1.2136e-01, -1.0000e+12, -1.0000e+12],\n",
            "          [ 2.6059e-02, -2.8312e-01, -2.6788e-01,  2.0228e-01,  1.5041e-01,\n",
            "            2.9479e-02, -1.1992e-01, -2.8312e-01, -1.0000e+12, -1.0000e+12],\n",
            "          [ 2.6059e-02, -2.8312e-01, -2.6788e-01,  2.0228e-01,  1.5041e-01,\n",
            "            2.9479e-02, -1.1992e-01, -2.8312e-01, -1.0000e+12, -1.0000e+12]]],\n",
            "\n",
            "\n",
            "        [[[-2.3549e-01, -1.0000e+12, -1.0000e+12, -1.0000e+12, -1.0000e+12,\n",
            "           -1.0000e+12, -1.0000e+12, -1.0000e+12, -1.0000e+12, -1.0000e+12],\n",
            "          [ 4.2190e-01,  7.5163e-02, -1.0000e+12, -1.0000e+12, -1.0000e+12,\n",
            "           -1.0000e+12, -1.0000e+12, -1.0000e+12, -1.0000e+12, -1.0000e+12],\n",
            "          [ 2.7501e-01,  3.6732e-01,  6.2559e-01, -1.0000e+12, -1.0000e+12,\n",
            "           -1.0000e+12, -1.0000e+12, -1.0000e+12, -1.0000e+12, -1.0000e+12],\n",
            "          [ 7.4090e-02,  5.7582e-01,  1.0081e+00,  1.3346e-01, -1.0000e+12,\n",
            "           -1.0000e+12, -1.0000e+12, -1.0000e+12, -1.0000e+12, -1.0000e+12],\n",
            "          [ 1.2871e-01,  1.5478e-01, -3.5524e-01, -1.1273e-01, -1.4618e-02,\n",
            "           -1.0000e+12, -1.0000e+12, -1.0000e+12, -1.0000e+12, -1.0000e+12],\n",
            "          [-3.0336e-01, -2.6407e-01,  5.6474e-01,  3.5770e-01, -8.8727e-02,\n",
            "           -1.0000e+12, -1.0000e+12, -1.0000e+12, -1.0000e+12, -1.0000e+12],\n",
            "          [-3.0336e-01, -2.6407e-01,  5.6474e-01,  3.5770e-01, -8.8727e-02,\n",
            "           -1.0000e+12, -1.0000e+12, -1.0000e+12, -1.0000e+12, -1.0000e+12],\n",
            "          [-3.0336e-01, -2.6407e-01,  5.6474e-01,  3.5770e-01, -8.8727e-02,\n",
            "           -1.0000e+12, -1.0000e+12, -1.0000e+12, -1.0000e+12, -1.0000e+12],\n",
            "          [-3.0336e-01, -2.6407e-01,  5.6474e-01,  3.5770e-01, -8.8727e-02,\n",
            "           -1.0000e+12, -1.0000e+12, -1.0000e+12, -1.0000e+12, -1.0000e+12],\n",
            "          [-3.0336e-01, -2.6407e-01,  5.6474e-01,  3.5770e-01, -8.8727e-02,\n",
            "           -1.0000e+12, -1.0000e+12, -1.0000e+12, -1.0000e+12, -1.0000e+12]],\n",
            "\n",
            "         [[-1.8471e-01, -1.0000e+12, -1.0000e+12, -1.0000e+12, -1.0000e+12,\n",
            "           -1.0000e+12, -1.0000e+12, -1.0000e+12, -1.0000e+12, -1.0000e+12],\n",
            "          [-1.3578e+00,  2.2306e-02, -1.0000e+12, -1.0000e+12, -1.0000e+12,\n",
            "           -1.0000e+12, -1.0000e+12, -1.0000e+12, -1.0000e+12, -1.0000e+12],\n",
            "          [ 8.0251e-01, -1.8220e-01,  3.2534e-01, -1.0000e+12, -1.0000e+12,\n",
            "           -1.0000e+12, -1.0000e+12, -1.0000e+12, -1.0000e+12, -1.0000e+12],\n",
            "          [-3.3498e-01,  2.3450e-01, -3.4203e-01, -1.4482e-01, -1.0000e+12,\n",
            "           -1.0000e+12, -1.0000e+12, -1.0000e+12, -1.0000e+12, -1.0000e+12],\n",
            "          [-5.3234e-01,  8.5569e-02,  1.8604e-01,  6.3933e-03, -2.2318e-02,\n",
            "           -1.0000e+12, -1.0000e+12, -1.0000e+12, -1.0000e+12, -1.0000e+12],\n",
            "          [-5.3238e-01, -7.9710e-03,  1.5021e-01,  8.2172e-02,  9.9837e-02,\n",
            "           -1.0000e+12, -1.0000e+12, -1.0000e+12, -1.0000e+12, -1.0000e+12],\n",
            "          [-5.3238e-01, -7.9710e-03,  1.5021e-01,  8.2172e-02,  9.9837e-02,\n",
            "           -1.0000e+12, -1.0000e+12, -1.0000e+12, -1.0000e+12, -1.0000e+12],\n",
            "          [-5.3238e-01, -7.9710e-03,  1.5021e-01,  8.2172e-02,  9.9837e-02,\n",
            "           -1.0000e+12, -1.0000e+12, -1.0000e+12, -1.0000e+12, -1.0000e+12],\n",
            "          [-5.3238e-01, -7.9710e-03,  1.5021e-01,  8.2172e-02,  9.9837e-02,\n",
            "           -1.0000e+12, -1.0000e+12, -1.0000e+12, -1.0000e+12, -1.0000e+12],\n",
            "          [-5.3238e-01, -7.9710e-03,  1.5021e-01,  8.2172e-02,  9.9837e-02,\n",
            "           -1.0000e+12, -1.0000e+12, -1.0000e+12, -1.0000e+12, -1.0000e+12]]],\n",
            "\n",
            "\n",
            "        [[[ 2.7112e-01, -1.0000e+12, -1.0000e+12, -1.0000e+12, -1.0000e+12,\n",
            "           -1.0000e+12, -1.0000e+12, -1.0000e+12, -1.0000e+12, -1.0000e+12],\n",
            "          [ 2.4219e-01, -5.5151e-02, -1.0000e+12, -1.0000e+12, -1.0000e+12,\n",
            "           -1.0000e+12, -1.0000e+12, -1.0000e+12, -1.0000e+12, -1.0000e+12],\n",
            "          [ 1.7805e-01,  1.7689e-01,  3.2502e-01, -1.0000e+12, -1.0000e+12,\n",
            "           -1.0000e+12, -1.0000e+12, -1.0000e+12, -1.0000e+12, -1.0000e+12],\n",
            "          [ 3.4083e-03,  5.1543e-02,  4.3257e-02,  5.6419e-01, -1.0000e+12,\n",
            "           -1.0000e+12, -1.0000e+12, -1.0000e+12, -1.0000e+12, -1.0000e+12],\n",
            "          [ 3.2492e-01, -6.8774e-03,  4.5178e-01, -1.3660e-01,  8.4019e-02,\n",
            "           -1.0000e+12, -1.0000e+12, -1.0000e+12, -1.0000e+12, -1.0000e+12],\n",
            "          [-4.6349e-01,  2.1504e-02, -7.1703e-01,  4.1595e-01, -9.4612e-02,\n",
            "           -2.2487e-01, -1.0000e+12, -1.0000e+12, -1.0000e+12, -1.0000e+12],\n",
            "          [ 3.4915e-01, -1.6163e-01,  2.4039e-01, -2.6261e-01,  1.1046e-01,\n",
            "            1.1993e-01, -3.6219e-01, -1.0000e+12, -1.0000e+12, -1.0000e+12],\n",
            "          [ 6.3673e-02,  6.4797e-02,  1.5482e-01, -5.2610e-02,  2.0147e-02,\n",
            "            1.1309e-02, -6.3345e-03, -5.8101e-02, -1.0000e+12, -1.0000e+12],\n",
            "          [ 5.9985e-01, -1.7576e-02,  7.5960e-01, -5.9705e-01,  1.7814e-01,\n",
            "            2.0689e-01, -4.7599e-01,  1.6142e-01, -1.0073e+00, -1.0000e+12],\n",
            "          [-8.2134e-03, -2.4876e-02, -1.1356e-01, -1.7834e-01,  2.1194e-02,\n",
            "           -2.1046e-02,  4.1084e-02,  6.3675e-02, -3.6283e-02,  1.4949e-01]],\n",
            "\n",
            "         [[-1.4720e-01, -1.0000e+12, -1.0000e+12, -1.0000e+12, -1.0000e+12,\n",
            "           -1.0000e+12, -1.0000e+12, -1.0000e+12, -1.0000e+12, -1.0000e+12],\n",
            "          [ 2.4136e-02, -1.2245e-01, -1.0000e+12, -1.0000e+12, -1.0000e+12,\n",
            "           -1.0000e+12, -1.0000e+12, -1.0000e+12, -1.0000e+12, -1.0000e+12],\n",
            "          [-6.8373e-02,  1.3564e-01, -1.3552e-01, -1.0000e+12, -1.0000e+12,\n",
            "           -1.0000e+12, -1.0000e+12, -1.0000e+12, -1.0000e+12, -1.0000e+12],\n",
            "          [-3.5851e-01,  3.3651e-01,  1.4361e-01,  3.3848e-01, -1.0000e+12,\n",
            "           -1.0000e+12, -1.0000e+12, -1.0000e+12, -1.0000e+12, -1.0000e+12],\n",
            "          [-4.5694e-02,  2.0903e-02,  2.4091e-02,  1.2442e-01,  1.3538e-03,\n",
            "           -1.0000e+12, -1.0000e+12, -1.0000e+12, -1.0000e+12, -1.0000e+12],\n",
            "          [ 1.4245e-01,  1.7969e-01,  2.7778e-01,  2.1272e-01, -3.8943e-01,\n",
            "            1.7412e-01, -1.0000e+12, -1.0000e+12, -1.0000e+12, -1.0000e+12],\n",
            "          [ 2.4171e-01, -3.2344e-01, -5.9781e-02, -4.0644e-01, -8.6873e-02,\n",
            "            2.9443e-01,  1.4831e-01, -1.0000e+12, -1.0000e+12, -1.0000e+12],\n",
            "          [-1.0412e-02,  1.7491e-01,  2.4205e-01, -3.5907e-02, -1.0499e-01,\n",
            "           -2.1200e-02, -9.6365e-02, -3.1442e-01, -1.0000e+12, -1.0000e+12],\n",
            "          [-1.1238e-01, -1.5926e-01, -2.0983e-01, -3.0737e-01,  3.5189e-01,\n",
            "           -1.5063e-01,  7.2945e-01,  3.2907e-01,  4.6105e-01, -1.0000e+12],\n",
            "          [ 3.3296e-01, -4.7579e-02,  3.0616e-01, -2.0493e-01, -4.6220e-01,\n",
            "            4.0086e-01, -4.8952e-01, -4.9594e-01, -7.5665e-01, -3.6339e-01]]],\n",
            "\n",
            "\n",
            "        [[[ 9.9118e-01, -1.0000e+12, -1.0000e+12, -1.0000e+12, -1.0000e+12,\n",
            "           -1.0000e+12, -1.0000e+12, -1.0000e+12, -1.0000e+12, -1.0000e+12],\n",
            "          [-4.4059e-01,  1.7617e-01, -1.0000e+12, -1.0000e+12, -1.0000e+12,\n",
            "           -1.0000e+12, -1.0000e+12, -1.0000e+12, -1.0000e+12, -1.0000e+12],\n",
            "          [-1.0116e+00,  1.0932e+00,  9.7746e-01, -1.0000e+12, -1.0000e+12,\n",
            "           -1.0000e+12, -1.0000e+12, -1.0000e+12, -1.0000e+12, -1.0000e+12],\n",
            "          [ 1.2790e-01, -3.4957e-01, -2.4176e-01,  3.1844e-01, -1.0000e+12,\n",
            "           -1.0000e+12, -1.0000e+12, -1.0000e+12, -1.0000e+12, -1.0000e+12],\n",
            "          [-3.8537e-01,  5.6227e-01, -1.1160e-01, -7.7721e-01, -1.0000e+12,\n",
            "           -1.0000e+12, -1.0000e+12, -1.0000e+12, -1.0000e+12, -1.0000e+12],\n",
            "          [-3.8537e-01,  5.6227e-01, -1.1160e-01, -7.7721e-01, -1.0000e+12,\n",
            "           -1.0000e+12, -1.0000e+12, -1.0000e+12, -1.0000e+12, -1.0000e+12],\n",
            "          [-3.8537e-01,  5.6227e-01, -1.1160e-01, -7.7721e-01, -1.0000e+12,\n",
            "           -1.0000e+12, -1.0000e+12, -1.0000e+12, -1.0000e+12, -1.0000e+12],\n",
            "          [-3.8537e-01,  5.6227e-01, -1.1160e-01, -7.7721e-01, -1.0000e+12,\n",
            "           -1.0000e+12, -1.0000e+12, -1.0000e+12, -1.0000e+12, -1.0000e+12],\n",
            "          [-3.8537e-01,  5.6227e-01, -1.1160e-01, -7.7721e-01, -1.0000e+12,\n",
            "           -1.0000e+12, -1.0000e+12, -1.0000e+12, -1.0000e+12, -1.0000e+12],\n",
            "          [-3.8537e-01,  5.6227e-01, -1.1160e-01, -7.7721e-01, -1.0000e+12,\n",
            "           -1.0000e+12, -1.0000e+12, -1.0000e+12, -1.0000e+12, -1.0000e+12]],\n",
            "\n",
            "         [[ 9.9388e-02, -1.0000e+12, -1.0000e+12, -1.0000e+12, -1.0000e+12,\n",
            "           -1.0000e+12, -1.0000e+12, -1.0000e+12, -1.0000e+12, -1.0000e+12],\n",
            "          [ 2.8082e-01, -1.2603e-01, -1.0000e+12, -1.0000e+12, -1.0000e+12,\n",
            "           -1.0000e+12, -1.0000e+12, -1.0000e+12, -1.0000e+12, -1.0000e+12],\n",
            "          [-1.5875e-01, -5.0162e-01,  1.9292e-01, -1.0000e+12, -1.0000e+12,\n",
            "           -1.0000e+12, -1.0000e+12, -1.0000e+12, -1.0000e+12, -1.0000e+12],\n",
            "          [-4.3508e-01,  9.4717e-01, -3.9587e-01,  8.9442e-02, -1.0000e+12,\n",
            "           -1.0000e+12, -1.0000e+12, -1.0000e+12, -1.0000e+12, -1.0000e+12],\n",
            "          [ 6.3953e-02,  3.3203e-01, -3.1162e-02, -2.6788e-01, -1.0000e+12,\n",
            "           -1.0000e+12, -1.0000e+12, -1.0000e+12, -1.0000e+12, -1.0000e+12],\n",
            "          [ 6.3953e-02,  3.3203e-01, -3.1162e-02, -2.6788e-01, -1.0000e+12,\n",
            "           -1.0000e+12, -1.0000e+12, -1.0000e+12, -1.0000e+12, -1.0000e+12],\n",
            "          [ 6.3953e-02,  3.3203e-01, -3.1162e-02, -2.6788e-01, -1.0000e+12,\n",
            "           -1.0000e+12, -1.0000e+12, -1.0000e+12, -1.0000e+12, -1.0000e+12],\n",
            "          [ 6.3953e-02,  3.3203e-01, -3.1162e-02, -2.6788e-01, -1.0000e+12,\n",
            "           -1.0000e+12, -1.0000e+12, -1.0000e+12, -1.0000e+12, -1.0000e+12],\n",
            "          [ 6.3953e-02,  3.3203e-01, -3.1162e-02, -2.6788e-01, -1.0000e+12,\n",
            "           -1.0000e+12, -1.0000e+12, -1.0000e+12, -1.0000e+12, -1.0000e+12],\n",
            "          [ 6.3953e-02,  3.3203e-01, -3.1162e-02, -2.6788e-01, -1.0000e+12,\n",
            "           -1.0000e+12, -1.0000e+12, -1.0000e+12, -1.0000e+12, -1.0000e+12]]],\n",
            "\n",
            "\n",
            "        [[[-3.7326e-01, -1.0000e+12, -1.0000e+12, -1.0000e+12, -1.0000e+12,\n",
            "           -1.0000e+12, -1.0000e+12, -1.0000e+12, -1.0000e+12, -1.0000e+12],\n",
            "          [-2.7579e-01,  5.6419e-01, -1.0000e+12, -1.0000e+12, -1.0000e+12,\n",
            "           -1.0000e+12, -1.0000e+12, -1.0000e+12, -1.0000e+12, -1.0000e+12],\n",
            "          [-1.9218e-01, -1.5058e-01,  6.2559e-01, -1.0000e+12, -1.0000e+12,\n",
            "           -1.0000e+12, -1.0000e+12, -1.0000e+12, -1.0000e+12, -1.0000e+12],\n",
            "          [-3.7326e-01,  8.8488e-02,  4.6464e-02, -3.7326e-01, -1.0000e+12,\n",
            "           -1.0000e+12, -1.0000e+12, -1.0000e+12, -1.0000e+12, -1.0000e+12],\n",
            "          [ 6.2413e-01, -3.3417e-01, -5.4230e-01,  6.2413e-01, -6.1748e-02,\n",
            "           -1.0000e+12, -1.0000e+12, -1.0000e+12, -1.0000e+12, -1.0000e+12],\n",
            "          [-5.2030e-02,  4.1637e-01,  1.9318e-02, -5.2030e-02, -1.6709e-01,\n",
            "            3.4610e-03, -1.0000e+12, -1.0000e+12, -1.0000e+12, -1.0000e+12],\n",
            "          [-2.8894e-01, -4.8912e-02,  3.6032e-01, -2.8894e-01,  1.2447e-01,\n",
            "           -2.4130e-01,  2.7112e-01, -1.0000e+12, -1.0000e+12, -1.0000e+12],\n",
            "          [ 6.2413e-01, -3.3417e-01, -5.4230e-01,  6.2413e-01, -6.1748e-02,\n",
            "            3.2128e-01, -4.6849e-02, -6.1748e-02, -1.0000e+12, -1.0000e+12],\n",
            "          [-6.0143e-01, -3.1027e-01,  6.1881e-01, -6.0143e-01,  3.2682e-01,\n",
            "           -3.7054e-01,  5.3886e-01,  3.2682e-01,  3.9108e-02, -1.0000e+12],\n",
            "          [-6.6232e-01, -2.3129e-01,  5.6474e-01, -6.6232e-01,  2.9755e-01,\n",
            "           -2.9809e-01,  3.8709e-01,  2.9755e-01, -1.8773e-01, -1.0000e+12]],\n",
            "\n",
            "         [[-1.8803e-02, -1.0000e+12, -1.0000e+12, -1.0000e+12, -1.0000e+12,\n",
            "           -1.0000e+12, -1.0000e+12, -1.0000e+12, -1.0000e+12, -1.0000e+12],\n",
            "          [ 1.3600e-01,  3.3848e-01, -1.0000e+12, -1.0000e+12, -1.0000e+12,\n",
            "           -1.0000e+12, -1.0000e+12, -1.0000e+12, -1.0000e+12, -1.0000e+12],\n",
            "          [ 9.5887e-02,  9.8744e-01,  3.2534e-01, -1.0000e+12, -1.0000e+12,\n",
            "           -1.0000e+12, -1.0000e+12, -1.0000e+12, -1.0000e+12, -1.0000e+12],\n",
            "          [-1.8803e-02, -8.2338e-01, -3.6972e-01, -1.8803e-02, -1.0000e+12,\n",
            "           -1.0000e+12, -1.0000e+12, -1.0000e+12, -1.0000e+12, -1.0000e+12],\n",
            "          [-7.1727e-01, -3.4002e-01,  3.9764e-01, -7.1727e-01, -7.2436e-01,\n",
            "           -1.0000e+12, -1.0000e+12, -1.0000e+12, -1.0000e+12, -1.0000e+12],\n",
            "          [-2.5325e-01, -6.1501e-01, -4.6643e-02, -2.5325e-01, -1.9539e-01,\n",
            "           -1.7644e-01, -1.0000e+12, -1.0000e+12, -1.0000e+12, -1.0000e+12],\n",
            "          [-9.1650e-02,  6.4449e-01,  2.1741e-01, -9.1650e-02, -2.4420e-01,\n",
            "           -5.1394e-02, -1.4720e-01, -1.0000e+12, -1.0000e+12, -1.0000e+12],\n",
            "          [-7.1727e-01, -3.4002e-01,  3.9764e-01, -7.1727e-01, -7.2436e-01,\n",
            "           -3.8091e-01,  4.0866e-01, -7.2436e-01, -1.0000e+12, -1.0000e+12],\n",
            "          [ 3.0429e-01,  1.1311e-01, -1.5148e-01,  3.0429e-01,  3.3226e-01,\n",
            "            1.7812e-01, -1.8625e-01,  3.3226e-01,  3.2994e-01, -1.0000e+12],\n",
            "          [-2.9592e-01, -9.6133e-02,  1.5021e-01, -2.9592e-01, -3.1828e-01,\n",
            "           -1.6059e-01,  1.8460e-01, -3.1828e-01, -3.3632e-01, -1.0000e+12]]]],\n",
            "       grad_fn=<MaskedFillBackward0>)\n",
            "torch.Size([5, 2, 10, 10])\n"
          ]
        }
      ]
    },
    {
      "cell_type": "code",
      "source": [],
      "metadata": {
        "id": "hpCNrDbhooIV"
      },
      "execution_count": null,
      "outputs": []
    },
    {
      "cell_type": "markdown",
      "source": [
        "`-1* inf`로 masking된 부분은 softmax 후 0이 됩니다."
      ],
      "metadata": {
        "id": "zUIf3Ja2osqk"
      }
    },
    {
      "cell_type": "code",
      "source": [
        "attn_dists = F.softmax(masked_attn_scores, dim = -1) #(B, num_heads, L, L)\n",
        "\n",
        "print(attn_dists)\n",
        "print(attn_dists.shape)"
      ],
      "metadata": {
        "colab": {
          "base_uri": "https://localhost:8080/"
        },
        "id": "X8JY3RYEos46",
        "outputId": "d433f166-cc32-4fde-f391-e16603bd41fc"
      },
      "execution_count": 18,
      "outputs": [
        {
          "output_type": "stream",
          "name": "stdout",
          "text": [
            "tensor([[[[1.0000, 0.0000, 0.0000, 0.0000, 0.0000, 0.0000, 0.0000, 0.0000,\n",
            "           0.0000, 0.0000],\n",
            "          [0.5356, 0.4644, 0.0000, 0.0000, 0.0000, 0.0000, 0.0000, 0.0000,\n",
            "           0.0000, 0.0000],\n",
            "          [0.2626, 0.2631, 0.4743, 0.0000, 0.0000, 0.0000, 0.0000, 0.0000,\n",
            "           0.0000, 0.0000],\n",
            "          [0.1805, 0.1710, 0.4323, 0.2163, 0.0000, 0.0000, 0.0000, 0.0000,\n",
            "           0.0000, 0.0000],\n",
            "          [0.2038, 0.1918, 0.2933, 0.1306, 0.1805, 0.0000, 0.0000, 0.0000,\n",
            "           0.0000, 0.0000],\n",
            "          [0.2126, 0.2499, 0.0865, 0.1618, 0.1287, 0.1605, 0.0000, 0.0000,\n",
            "           0.0000, 0.0000],\n",
            "          [0.0955, 0.1106, 0.1582, 0.1258, 0.0830, 0.1915, 0.2352, 0.0000,\n",
            "           0.0000, 0.0000],\n",
            "          [0.1165, 0.1010, 0.1629, 0.1461, 0.1262, 0.1270, 0.1193, 0.1010,\n",
            "           0.0000, 0.0000],\n",
            "          [0.1753, 0.1614, 0.0547, 0.1472, 0.1663, 0.0766, 0.0573, 0.1614,\n",
            "           0.0000, 0.0000],\n",
            "          [0.1753, 0.1614, 0.0547, 0.1472, 0.1663, 0.0766, 0.0573, 0.1614,\n",
            "           0.0000, 0.0000]],\n",
            "\n",
            "         [[1.0000, 0.0000, 0.0000, 0.0000, 0.0000, 0.0000, 0.0000, 0.0000,\n",
            "           0.0000, 0.0000],\n",
            "          [0.5289, 0.4711, 0.0000, 0.0000, 0.0000, 0.0000, 0.0000, 0.0000,\n",
            "           0.0000, 0.0000],\n",
            "          [0.4580, 0.1169, 0.4251, 0.0000, 0.0000, 0.0000, 0.0000, 0.0000,\n",
            "           0.0000, 0.0000],\n",
            "          [0.2604, 0.2731, 0.1623, 0.3043, 0.0000, 0.0000, 0.0000, 0.0000,\n",
            "           0.0000, 0.0000],\n",
            "          [0.1991, 0.0887, 0.1794, 0.2436, 0.2892, 0.0000, 0.0000, 0.0000,\n",
            "           0.0000, 0.0000],\n",
            "          [0.1412, 0.2835, 0.2318, 0.1009, 0.0822, 0.1604, 0.0000, 0.0000,\n",
            "           0.0000, 0.0000],\n",
            "          [0.1380, 0.0974, 0.1221, 0.1656, 0.2632, 0.1035, 0.1102, 0.0000,\n",
            "           0.0000, 0.0000],\n",
            "          [0.1307, 0.1164, 0.0702, 0.1891, 0.1242, 0.1314, 0.1216, 0.1164,\n",
            "           0.0000, 0.0000],\n",
            "          [0.1350, 0.0991, 0.1006, 0.1610, 0.1529, 0.1355, 0.1167, 0.0991,\n",
            "           0.0000, 0.0000],\n",
            "          [0.1350, 0.0991, 0.1006, 0.1610, 0.1529, 0.1355, 0.1167, 0.0991,\n",
            "           0.0000, 0.0000]]],\n",
            "\n",
            "\n",
            "        [[[1.0000, 0.0000, 0.0000, 0.0000, 0.0000, 0.0000, 0.0000, 0.0000,\n",
            "           0.0000, 0.0000],\n",
            "          [0.5858, 0.4142, 0.0000, 0.0000, 0.0000, 0.0000, 0.0000, 0.0000,\n",
            "           0.0000, 0.0000],\n",
            "          [0.2844, 0.3119, 0.4038, 0.0000, 0.0000, 0.0000, 0.0000, 0.0000,\n",
            "           0.0000, 0.0000],\n",
            "          [0.1598, 0.2639, 0.4067, 0.1696, 0.0000, 0.0000, 0.0000, 0.0000,\n",
            "           0.0000, 0.0000],\n",
            "          [0.2328, 0.2390, 0.1435, 0.1829, 0.2018, 0.0000, 0.0000, 0.0000,\n",
            "           0.0000, 0.0000],\n",
            "          [0.1316, 0.1369, 0.3135, 0.2549, 0.1631, 0.0000, 0.0000, 0.0000,\n",
            "           0.0000, 0.0000],\n",
            "          [0.1316, 0.1369, 0.3135, 0.2549, 0.1631, 0.0000, 0.0000, 0.0000,\n",
            "           0.0000, 0.0000],\n",
            "          [0.1316, 0.1369, 0.3135, 0.2549, 0.1631, 0.0000, 0.0000, 0.0000,\n",
            "           0.0000, 0.0000],\n",
            "          [0.1316, 0.1369, 0.3135, 0.2549, 0.1631, 0.0000, 0.0000, 0.0000,\n",
            "           0.0000, 0.0000],\n",
            "          [0.1316, 0.1369, 0.3135, 0.2549, 0.1631, 0.0000, 0.0000, 0.0000,\n",
            "           0.0000, 0.0000]],\n",
            "\n",
            "         [[1.0000, 0.0000, 0.0000, 0.0000, 0.0000, 0.0000, 0.0000, 0.0000,\n",
            "           0.0000, 0.0000],\n",
            "          [0.2010, 0.7990, 0.0000, 0.0000, 0.0000, 0.0000, 0.0000, 0.0000,\n",
            "           0.0000, 0.0000],\n",
            "          [0.5015, 0.1873, 0.3112, 0.0000, 0.0000, 0.0000, 0.0000, 0.0000,\n",
            "           0.0000, 0.0000],\n",
            "          [0.2012, 0.3556, 0.1998, 0.2434, 0.0000, 0.0000, 0.0000, 0.0000,\n",
            "           0.0000, 0.0000],\n",
            "          [0.1207, 0.2239, 0.2476, 0.2069, 0.2010, 0.0000, 0.0000, 0.0000,\n",
            "           0.0000, 0.0000],\n",
            "          [0.1191, 0.2011, 0.2356, 0.2201, 0.2240, 0.0000, 0.0000, 0.0000,\n",
            "           0.0000, 0.0000],\n",
            "          [0.1191, 0.2011, 0.2356, 0.2201, 0.2240, 0.0000, 0.0000, 0.0000,\n",
            "           0.0000, 0.0000],\n",
            "          [0.1191, 0.2011, 0.2356, 0.2201, 0.2240, 0.0000, 0.0000, 0.0000,\n",
            "           0.0000, 0.0000],\n",
            "          [0.1191, 0.2011, 0.2356, 0.2201, 0.2240, 0.0000, 0.0000, 0.0000,\n",
            "           0.0000, 0.0000],\n",
            "          [0.1191, 0.2011, 0.2356, 0.2201, 0.2240, 0.0000, 0.0000, 0.0000,\n",
            "           0.0000, 0.0000]]],\n",
            "\n",
            "\n",
            "        [[[1.0000, 0.0000, 0.0000, 0.0000, 0.0000, 0.0000, 0.0000, 0.0000,\n",
            "           0.0000, 0.0000],\n",
            "          [0.5738, 0.4262, 0.0000, 0.0000, 0.0000, 0.0000, 0.0000, 0.0000,\n",
            "           0.0000, 0.0000],\n",
            "          [0.3167, 0.3164, 0.3669, 0.0000, 0.0000, 0.0000, 0.0000, 0.0000,\n",
            "           0.0000, 0.0000],\n",
            "          [0.2065, 0.2167, 0.2149, 0.3618, 0.0000, 0.0000, 0.0000, 0.0000,\n",
            "           0.0000, 0.0000],\n",
            "          [0.2342, 0.1681, 0.2659, 0.1476, 0.1841, 0.0000, 0.0000, 0.0000,\n",
            "           0.0000, 0.0000],\n",
            "          [0.1173, 0.1905, 0.0910, 0.2826, 0.1696, 0.1489, 0.0000, 0.0000,\n",
            "           0.0000, 0.0000],\n",
            "          [0.1956, 0.1173, 0.1754, 0.1061, 0.1540, 0.1555, 0.0960, 0.0000,\n",
            "           0.0000, 0.0000],\n",
            "          [0.1297, 0.1298, 0.1421, 0.1154, 0.1242, 0.1231, 0.1209, 0.1148,\n",
            "           0.0000, 0.0000],\n",
            "          [0.1808, 0.0975, 0.2121, 0.0546, 0.1186, 0.1220, 0.0616, 0.1166,\n",
            "           0.0362, 0.0000],\n",
            "          [0.0999, 0.0982, 0.0899, 0.0843, 0.1029, 0.0986, 0.1049, 0.1073,\n",
            "           0.0971, 0.1169]],\n",
            "\n",
            "         [[1.0000, 0.0000, 0.0000, 0.0000, 0.0000, 0.0000, 0.0000, 0.0000,\n",
            "           0.0000, 0.0000],\n",
            "          [0.5366, 0.4634, 0.0000, 0.0000, 0.0000, 0.0000, 0.0000, 0.0000,\n",
            "           0.0000, 0.0000],\n",
            "          [0.3163, 0.3879, 0.2958, 0.0000, 0.0000, 0.0000, 0.0000, 0.0000,\n",
            "           0.0000, 0.0000],\n",
            "          [0.1501, 0.3007, 0.2479, 0.3013, 0.0000, 0.0000, 0.0000, 0.0000,\n",
            "           0.0000, 0.0000],\n",
            "          [0.1861, 0.1989, 0.1995, 0.2206, 0.1950, 0.0000, 0.0000, 0.0000,\n",
            "           0.0000, 0.0000],\n",
            "          [0.1702, 0.1767, 0.1949, 0.1826, 0.1000, 0.1757, 0.0000, 0.0000,\n",
            "           0.0000, 0.0000],\n",
            "          [0.1813, 0.1030, 0.1341, 0.0948, 0.1305, 0.1911, 0.1651, 0.0000,\n",
            "           0.0000, 0.0000],\n",
            "          [0.1247, 0.1501, 0.1605, 0.1215, 0.1134, 0.1233, 0.1144, 0.0920,\n",
            "           0.0000, 0.0000],\n",
            "          [0.0841, 0.0803, 0.0763, 0.0692, 0.1338, 0.0810, 0.1952, 0.1308,\n",
            "           0.1493, 0.0000],\n",
            "          [0.1545, 0.1056, 0.1504, 0.0902, 0.0697, 0.1653, 0.0679, 0.0674,\n",
            "           0.0520, 0.0770]]],\n",
            "\n",
            "\n",
            "        [[[1.0000, 0.0000, 0.0000, 0.0000, 0.0000, 0.0000, 0.0000, 0.0000,\n",
            "           0.0000, 0.0000],\n",
            "          [0.3505, 0.6495, 0.0000, 0.0000, 0.0000, 0.0000, 0.0000, 0.0000,\n",
            "           0.0000, 0.0000],\n",
            "          [0.0606, 0.4969, 0.4426, 0.0000, 0.0000, 0.0000, 0.0000, 0.0000,\n",
            "           0.0000, 0.0000],\n",
            "          [0.2840, 0.1762, 0.1962, 0.3436, 0.0000, 0.0000, 0.0000, 0.0000,\n",
            "           0.0000, 0.0000],\n",
            "          [0.1795, 0.4631, 0.2361, 0.1213, 0.0000, 0.0000, 0.0000, 0.0000,\n",
            "           0.0000, 0.0000],\n",
            "          [0.1795, 0.4631, 0.2361, 0.1213, 0.0000, 0.0000, 0.0000, 0.0000,\n",
            "           0.0000, 0.0000],\n",
            "          [0.1795, 0.4631, 0.2361, 0.1213, 0.0000, 0.0000, 0.0000, 0.0000,\n",
            "           0.0000, 0.0000],\n",
            "          [0.1795, 0.4631, 0.2361, 0.1213, 0.0000, 0.0000, 0.0000, 0.0000,\n",
            "           0.0000, 0.0000],\n",
            "          [0.1795, 0.4631, 0.2361, 0.1213, 0.0000, 0.0000, 0.0000, 0.0000,\n",
            "           0.0000, 0.0000],\n",
            "          [0.1795, 0.4631, 0.2361, 0.1213, 0.0000, 0.0000, 0.0000, 0.0000,\n",
            "           0.0000, 0.0000]],\n",
            "\n",
            "         [[1.0000, 0.0000, 0.0000, 0.0000, 0.0000, 0.0000, 0.0000, 0.0000,\n",
            "           0.0000, 0.0000],\n",
            "          [0.6003, 0.3997, 0.0000, 0.0000, 0.0000, 0.0000, 0.0000, 0.0000,\n",
            "           0.0000, 0.0000],\n",
            "          [0.3194, 0.2267, 0.4540, 0.0000, 0.0000, 0.0000, 0.0000, 0.0000,\n",
            "           0.0000, 0.0000],\n",
            "          [0.1296, 0.5165, 0.1348, 0.2191, 0.0000, 0.0000, 0.0000, 0.0000,\n",
            "           0.0000, 0.0000],\n",
            "          [0.2542, 0.3323, 0.2311, 0.1824, 0.0000, 0.0000, 0.0000, 0.0000,\n",
            "           0.0000, 0.0000],\n",
            "          [0.2542, 0.3323, 0.2311, 0.1824, 0.0000, 0.0000, 0.0000, 0.0000,\n",
            "           0.0000, 0.0000],\n",
            "          [0.2542, 0.3323, 0.2311, 0.1824, 0.0000, 0.0000, 0.0000, 0.0000,\n",
            "           0.0000, 0.0000],\n",
            "          [0.2542, 0.3323, 0.2311, 0.1824, 0.0000, 0.0000, 0.0000, 0.0000,\n",
            "           0.0000, 0.0000],\n",
            "          [0.2542, 0.3323, 0.2311, 0.1824, 0.0000, 0.0000, 0.0000, 0.0000,\n",
            "           0.0000, 0.0000],\n",
            "          [0.2542, 0.3323, 0.2311, 0.1824, 0.0000, 0.0000, 0.0000, 0.0000,\n",
            "           0.0000, 0.0000]]],\n",
            "\n",
            "\n",
            "        [[[1.0000, 0.0000, 0.0000, 0.0000, 0.0000, 0.0000, 0.0000, 0.0000,\n",
            "           0.0000, 0.0000],\n",
            "          [0.3015, 0.6985, 0.0000, 0.0000, 0.0000, 0.0000, 0.0000, 0.0000,\n",
            "           0.0000, 0.0000],\n",
            "          [0.2321, 0.2420, 0.5259, 0.0000, 0.0000, 0.0000, 0.0000, 0.0000,\n",
            "           0.0000, 0.0000],\n",
            "          [0.1958, 0.3106, 0.2979, 0.1958, 0.0000, 0.0000, 0.0000, 0.0000,\n",
            "           0.0000, 0.0000],\n",
            "          [0.3126, 0.1199, 0.0974, 0.3126, 0.1575, 0.0000, 0.0000, 0.0000,\n",
            "           0.0000, 0.0000],\n",
            "          [0.1511, 0.2413, 0.1622, 0.1511, 0.1346, 0.1597, 0.0000, 0.0000,\n",
            "           0.0000, 0.0000],\n",
            "          [0.1053, 0.1339, 0.2016, 0.1053, 0.1592, 0.1104, 0.1844, 0.0000,\n",
            "           0.0000, 0.0000],\n",
            "          [0.2019, 0.0774, 0.0629, 0.2019, 0.1017, 0.1492, 0.1032, 0.1017,\n",
            "           0.0000, 0.0000],\n",
            "          [0.0553, 0.0740, 0.1875, 0.0553, 0.1400, 0.0697, 0.1731, 0.1400,\n",
            "           0.1050, 0.0000],\n",
            "          [0.0553, 0.0851, 0.1887, 0.0553, 0.1445, 0.0796, 0.1580, 0.1445,\n",
            "           0.0889, 0.0000]],\n",
            "\n",
            "         [[1.0000, 0.0000, 0.0000, 0.0000, 0.0000, 0.0000, 0.0000, 0.0000,\n",
            "           0.0000, 0.0000],\n",
            "          [0.4496, 0.5504, 0.0000, 0.0000, 0.0000, 0.0000, 0.0000, 0.0000,\n",
            "           0.0000, 0.0000],\n",
            "          [0.2129, 0.5193, 0.2678, 0.0000, 0.0000, 0.0000, 0.0000, 0.0000,\n",
            "           0.0000, 0.0000],\n",
            "          [0.3173, 0.1419, 0.2234, 0.3173, 0.0000, 0.0000, 0.0000, 0.0000,\n",
            "           0.0000, 0.0000],\n",
            "          [0.1333, 0.1944, 0.4065, 0.1333, 0.1324, 0.0000, 0.0000, 0.0000,\n",
            "           0.0000, 0.0000],\n",
            "          [0.1649, 0.1148, 0.2027, 0.1649, 0.1747, 0.1780, 0.0000, 0.0000,\n",
            "           0.0000, 0.0000],\n",
            "          [0.1205, 0.2517, 0.1642, 0.1205, 0.1035, 0.1255, 0.1140, 0.0000,\n",
            "           0.0000, 0.0000],\n",
            "          [0.0771, 0.1124, 0.2350, 0.0771, 0.0765, 0.1079, 0.2376, 0.0765,\n",
            "           0.0000, 0.0000],\n",
            "          [0.1244, 0.1028, 0.0789, 0.1244, 0.1280, 0.1097, 0.0762, 0.1280,\n",
            "           0.1277, 0.0000],\n",
            "          [0.0956, 0.1167, 0.1493, 0.0956, 0.0935, 0.1094, 0.1546, 0.0935,\n",
            "           0.0918, 0.0000]]]], grad_fn=<SoftmaxBackward0>)\n",
            "torch.Size([5, 2, 10, 10])\n"
          ]
        }
      ]
    },
    {
      "cell_type": "code",
      "source": [
        "attn_values = torch.matmul(attn_dists, v) #(B, num_heads, L, d_k)\n",
        "\n",
        "print(attn_values.shape)"
      ],
      "metadata": {
        "colab": {
          "base_uri": "https://localhost:8080/"
        },
        "id": "XLucm-QLozhN",
        "outputId": "8c07604b-8a39-45f9-8e78-715e4533e255"
      },
      "execution_count": 19,
      "outputs": [
        {
          "output_type": "stream",
          "name": "stdout",
          "text": [
            "torch.Size([5, 2, 10, 4])\n"
          ]
        }
      ]
    },
    {
      "cell_type": "code",
      "source": [],
      "metadata": {
        "id": "S4fhlOFqo9LW"
      },
      "execution_count": null,
      "outputs": []
    },
    {
      "cell_type": "markdown",
      "source": [
        "### **전체 코드**"
      ],
      "metadata": {
        "id": "Er6zz3yQo_Ps"
      }
    },
    {
      "cell_type": "code",
      "source": [
        "class MultiheadAttention(nn.Module):\n",
        "\n",
        "    def __init__(self, d_model):\n",
        "        super(MultiheadAttention, self).__init__()\n",
        "\n",
        "        #Q, K, V learnable matrices\n",
        "        self.w_q = nn.Linear(d_model, d_model)\n",
        "        self.w_k = nn.Linear(d_model, d_model)\n",
        "        self.w_v = nn.Linear(d_model, d_model)\n",
        "\n",
        "        #Linear transformation for concatenated outputs\n",
        "        self.w_o = nn.Linear(d_model, d_model)\n",
        "\n",
        "    def self_attention(self, q, k, v, mask = None):\n",
        "\n",
        "        attn_scores = torch.matmul(q, k.transpose(-2, -1)) / math.sqrt(d_k) #(B, num_heads, L, L)\n",
        "\n",
        "        if mask is not None:\n",
        "\n",
        "            mask = mask.unsqueeze(1) #(B, 1, L, L) or (B, 1, L, L)\n",
        "            attn_scores = attn_scores.masked_fill_(mask == False, -1*inf)\n",
        "\n",
        "        attn_dists = F.softmax(attn_scores, dim = -1) #(B, num_heads, L, L)\n",
        "\n",
        "        attn_values = torch.matmul(attn_dists, v) #(B, num_heads, L, d_k)\n",
        "\n",
        "        return attn_values\n",
        "\n",
        "    def forward(self, q, k, v, mask = None):\n",
        "\n",
        "        batch_size = q.shape[0]\n",
        "\n",
        "        q = self.w_q(q) #(B, L, d_model)\n",
        "        k = self.w_k(k) #(B, L, d_model)\n",
        "        v = self.w_v(v) #(B, L, d_model)\n",
        "\n",
        "        q = q.view(batch_size, -1, num_heads, d_k) # (B, L, num_heads, d_k)\n",
        "        k = k.view(batch_size, -1, num_heads, d_k) # (B, L, num_heads, d_k)\n",
        "        v = v.view(batch_size, -1, num_heads, d_k) # (B, L, num_heads, d_k)\n",
        "\n",
        "        q = q.transpose(1, 2) # (B, num_heads, L, d_k)\n",
        "        k = k.transpose(1, 2) # (B, num_heads, L, d_k)\n",
        "        v = v.transpose(1, 2) # (B, num_heads, L, d_k)\n",
        "\n",
        "        attn_values = self.self_attention(q,k,v,mask = mask) # (B, num_heads, L, d_k)\n",
        "        attn_values = attn_values.transpose(1, 2).contiguous().view(batch_size, -1, d_model) # (B, num_heads, L, d_k) => (B, L, num_heads, d_k) => (B, L, d_model)\n",
        "\n",
        "        return self.w_o(attn_values)\n",
        ""
      ],
      "metadata": {
        "id": "sppzdDoFo_a3"
      },
      "execution_count": 22,
      "outputs": []
    },
    {
      "cell_type": "code",
      "source": [
        "multihead_attn = MultiheadAttention(d_model)\n",
        "\n",
        "outputs = multihead_attn(batch_emb, batch_emb, batch_emb, mask = mask) #(B, L, d_model)"
      ],
      "metadata": {
        "id": "jaM-a68jrGU-"
      },
      "execution_count": 23,
      "outputs": []
    },
    {
      "cell_type": "code",
      "source": [
        "print(outputs)\n",
        "print(outputs.shape)"
      ],
      "metadata": {
        "colab": {
          "base_uri": "https://localhost:8080/"
        },
        "id": "ZWLn1vasrNiP",
        "outputId": "f69cb3d4-5653-4875-acad-815b8f5b1a5b"
      },
      "execution_count": 24,
      "outputs": [
        {
          "output_type": "stream",
          "name": "stdout",
          "text": [
            "tensor([[[-2.3269e-02,  3.1206e-01,  3.1238e-01, -1.7241e-02, -1.6370e-01,\n",
            "          -4.7599e-02, -1.4976e-01, -2.0723e-01],\n",
            "         [-1.0507e-01,  3.9004e-01,  3.4458e-01,  1.7233e-01, -2.7297e-01,\n",
            "          -1.6310e-01, -2.3939e-01, -4.6597e-01],\n",
            "         [-2.3351e-01,  5.1881e-01,  2.6438e-01,  1.4968e-01, -4.4715e-01,\n",
            "          -3.4810e-02, -4.0974e-01, -5.1542e-01],\n",
            "         [-3.2912e-01,  5.6972e-01,  2.3370e-01,  2.8644e-01, -2.8120e-01,\n",
            "          -3.0914e-02, -2.9097e-01, -5.8074e-01],\n",
            "         [-3.5269e-01,  6.9648e-01,  2.0319e-01,  1.7705e-01, -3.5971e-01,\n",
            "           5.5281e-02, -3.5427e-01, -5.4995e-01],\n",
            "         [-3.1193e-01,  5.6163e-01,  2.3772e-01,  2.7372e-01, -1.5466e-01,\n",
            "          -3.2652e-03, -1.8894e-01, -4.9975e-01],\n",
            "         [-2.5167e-01,  4.1133e-01,  2.4469e-01,  2.9654e-01, -3.2916e-01,\n",
            "          -1.5856e-02, -3.2085e-01, -4.7524e-01],\n",
            "         [-2.8118e-01,  5.0221e-01,  2.3823e-01,  3.0857e-01, -2.2174e-01,\n",
            "          -1.9425e-02, -2.3244e-01, -5.0338e-01],\n",
            "         [-3.4757e-01,  7.0409e-01,  1.9657e-01,  3.4986e-01, -1.0256e-01,\n",
            "           3.2716e-02, -1.2274e-01, -5.4114e-01],\n",
            "         [-3.4757e-01,  7.0409e-01,  1.9657e-01,  3.4986e-01, -1.0256e-01,\n",
            "           3.2716e-02, -1.2274e-01, -5.4114e-01]],\n",
            "\n",
            "        [[-1.5464e-01,  4.0900e-01,  5.2401e-01, -5.0946e-01, -6.6280e-01,\n",
            "           3.1440e-02, -6.2860e-01, -2.1399e-01],\n",
            "         [-3.2645e-01,  3.3843e-01,  3.5344e-01, -1.0162e-01, -7.2968e-01,\n",
            "           7.6769e-02, -6.7897e-01, -4.4663e-01],\n",
            "         [-3.6497e-01,  4.6016e-01,  2.2476e-01,  7.7548e-02, -3.7058e-01,\n",
            "           7.1967e-02, -3.0285e-01, -5.2186e-01],\n",
            "         [-2.6483e-01,  6.5675e-01,  1.4424e-01,  6.5855e-01,  9.8027e-02,\n",
            "          -2.6779e-02,  1.6270e-01, -5.8569e-01],\n",
            "         [-1.8673e-01,  4.5218e-01,  2.1557e-01,  3.2337e-01, -2.1214e-01,\n",
            "          -4.5774e-03, -1.6031e-01, -4.2852e-01],\n",
            "         [-2.7306e-01,  5.8816e-01,  2.0401e-01,  4.2321e-01, -4.7732e-03,\n",
            "          -1.7644e-02,  2.6082e-02, -5.2030e-01],\n",
            "         [-2.7306e-01,  5.8816e-01,  2.0401e-01,  4.2321e-01, -4.7732e-03,\n",
            "          -1.7644e-02,  2.6082e-02, -5.2030e-01],\n",
            "         [-2.7306e-01,  5.8816e-01,  2.0401e-01,  4.2321e-01, -4.7732e-03,\n",
            "          -1.7644e-02,  2.6082e-02, -5.2030e-01],\n",
            "         [-2.7306e-01,  5.8816e-01,  2.0401e-01,  4.2321e-01, -4.7732e-03,\n",
            "          -1.7644e-02,  2.6082e-02, -5.2030e-01],\n",
            "         [-2.7306e-01,  5.8816e-01,  2.0401e-01,  4.2321e-01, -4.7732e-03,\n",
            "          -1.7644e-02,  2.6082e-02, -5.2030e-01]],\n",
            "\n",
            "        [[ 2.4769e-04,  2.3678e-01,  3.0930e-01, -2.0874e-01, -3.3897e-02,\n",
            "          -7.6952e-03, -1.3686e-01, -1.7595e-02],\n",
            "         [-6.9220e-02,  5.0083e-01,  2.3197e-01,  1.5894e-01,  1.3705e-01,\n",
            "           2.6137e-02,  5.5846e-02, -1.2089e-01],\n",
            "         [-8.2759e-02,  4.7279e-01,  3.2145e-01,  8.1185e-02,  1.1954e-01,\n",
            "          -8.1025e-02,  5.4613e-03, -2.0349e-01],\n",
            "         [-5.7006e-02,  3.6418e-01,  3.3400e-01,  2.9045e-01,  7.1588e-02,\n",
            "          -1.5183e-01, -1.3652e-02, -2.7872e-01],\n",
            "         [-3.8979e-02,  4.2127e-01,  3.1940e-01,  1.0985e-01,  5.2039e-02,\n",
            "          -7.0301e-02, -1.2088e-02, -1.8425e-01],\n",
            "         [-1.0502e-01,  4.9012e-01,  3.0795e-01,  2.0917e-01,  4.6831e-02,\n",
            "          -1.0897e-01, -5.0086e-02, -2.9942e-01],\n",
            "         [-7.6444e-02,  4.1983e-01,  3.2694e-01,  1.0384e-01, -6.4293e-02,\n",
            "          -6.5949e-02, -1.3356e-01, -2.2922e-01],\n",
            "         [-9.5851e-02,  4.4629e-01,  3.1290e-01,  7.5269e-02, -1.0285e-01,\n",
            "          -4.2287e-02, -1.6032e-01, -2.4238e-01],\n",
            "         [-9.7281e-02,  2.6237e-01,  3.5588e-01,  2.5806e-02, -2.7159e-01,\n",
            "          -6.7154e-02, -2.9043e-01, -2.7435e-01],\n",
            "         [-6.6570e-02,  3.7761e-01,  3.0732e-01, -8.5606e-02, -3.0944e-01,\n",
            "           2.5706e-02, -3.2042e-01, -1.7193e-01]],\n",
            "\n",
            "        [[-1.6319e-01,  6.3393e-01,  3.3018e-01,  8.5430e-01,  4.5435e-01,\n",
            "          -3.4166e-01,  1.2578e-01, -4.8037e-01],\n",
            "         [-7.8636e-02,  4.0379e-01,  3.0335e-01,  7.4968e-01,  3.5037e-01,\n",
            "          -3.1921e-01,  1.3713e-01, -4.2718e-01],\n",
            "         [ 3.6127e-02,  5.9058e-02,  2.4487e-01,  4.4076e-01, -2.4824e-03,\n",
            "          -1.2800e-01, -1.9207e-02, -2.1016e-01],\n",
            "         [-1.0802e-01,  1.5917e-01,  1.5065e-01,  3.1538e-01, -2.2146e-01,\n",
            "           7.4385e-02, -1.2939e-01, -2.6700e-01],\n",
            "         [-1.8367e-01,  3.1835e-01,  1.5361e-01,  4.4419e-01, -8.7587e-02,\n",
            "           4.1644e-03, -5.0213e-02, -4.0647e-01],\n",
            "         [-1.8367e-01,  3.1835e-01,  1.5361e-01,  4.4419e-01, -8.7587e-02,\n",
            "           4.1644e-03, -5.0213e-02, -4.0647e-01],\n",
            "         [-1.8367e-01,  3.1835e-01,  1.5361e-01,  4.4419e-01, -8.7587e-02,\n",
            "           4.1644e-03, -5.0213e-02, -4.0647e-01],\n",
            "         [-1.8367e-01,  3.1835e-01,  1.5361e-01,  4.4419e-01, -8.7587e-02,\n",
            "           4.1644e-03, -5.0213e-02, -4.0647e-01],\n",
            "         [-1.8367e-01,  3.1835e-01,  1.5361e-01,  4.4419e-01, -8.7587e-02,\n",
            "           4.1644e-03, -5.0213e-02, -4.0647e-01],\n",
            "         [-1.8367e-01,  3.1835e-01,  1.5361e-01,  4.4419e-01, -8.7587e-02,\n",
            "           4.1644e-03, -5.0213e-02, -4.0647e-01]],\n",
            "\n",
            "        [[-3.9524e-01,  1.0023e+00,  1.7768e-01, -1.7537e-01, -4.7594e-01,\n",
            "           2.8762e-01, -6.0846e-01, -2.6508e-01],\n",
            "         [-1.9176e-01,  5.3204e-01,  2.9186e-01,  2.9427e-01, -2.0226e-01,\n",
            "          -3.7785e-02, -2.9601e-01, -3.5231e-01],\n",
            "         [-9.5077e-03,  2.5035e-01,  3.1847e-01,  3.5050e-01, -2.7121e-02,\n",
            "          -1.3634e-01, -5.9177e-02, -2.5256e-01],\n",
            "         [-1.0531e-01,  4.1885e-01,  2.8034e-01,  2.0968e-01, -9.2005e-02,\n",
            "          -2.0769e-02, -1.3058e-01, -2.4845e-01],\n",
            "         [-1.6159e-01,  6.1937e-01,  2.6071e-01,  1.7261e-01, -2.1251e-01,\n",
            "           8.9252e-03, -2.4051e-01, -3.3066e-01],\n",
            "         [-2.2355e-01,  6.8834e-01,  2.6906e-01,  2.6074e-01, -2.2271e-01,\n",
            "          -2.3374e-02, -2.5896e-01, -4.4228e-01],\n",
            "         [-1.3720e-01,  5.8403e-01,  3.2332e-01,  1.4694e-01, -8.3194e-02,\n",
            "          -8.3877e-02, -1.9899e-01, -3.1509e-01],\n",
            "         [-1.9832e-01,  7.0086e-01,  2.5819e-01,  1.6923e-01, -1.9426e-01,\n",
            "           3.8390e-03, -2.4430e-01, -3.7288e-01],\n",
            "         [-1.2919e-01,  5.2384e-01,  3.2185e-01,  1.2314e-01, -2.0911e-01,\n",
            "          -6.4774e-02, -2.5951e-01, -3.3288e-01],\n",
            "         [-1.9390e-01,  6.5915e-01,  3.3687e-01,  1.1272e-01, -1.1463e-01,\n",
            "          -7.4520e-02, -2.2526e-01, -3.7722e-01]]], grad_fn=<ViewBackward0>)\n",
            "torch.Size([5, 10, 8])\n"
          ]
        }
      ]
    },
    {
      "cell_type": "code",
      "source": [],
      "metadata": {
        "id": "579AHpeCrTMv"
      },
      "execution_count": null,
      "outputs": []
    },
    {
      "cell_type": "markdown",
      "source": [
        "### **Encoder-Decoder attention**"
      ],
      "metadata": {
        "id": "RMZF4tMIrZDX"
      }
    },
    {
      "cell_type": "markdown",
      "source": [
        "Query, key, value만 달라질 뿐 구현은 동일합니다.  \n",
        "Decoder에 들어갈 batch만 별도 구현하겠습니다."
      ],
      "metadata": {
        "id": "VXs1xb61raxD"
      }
    },
    {
      "cell_type": "code",
      "source": [
        "trg_data = [\n",
        "  [33, 11, 49, 10],\n",
        "  [88, 34, 5, 29, 99, 45, 11, 25],\n",
        "  [67, 25, 15, 90, 54, 4, 92, 10, 46, 20, 88 ,19],\n",
        "  [16, 58, 91, 47, 12, 5, 8],\n",
        "  [71, 63, 62, 7, 9, 11, 55, 91, 32, 48]\n",
        "]\n"
      ],
      "metadata": {
        "id": "m0Zuwn1SrZPY"
      },
      "execution_count": 29,
      "outputs": []
    },
    {
      "cell_type": "code",
      "source": [
        "trg_data, trg_max_len = padding(trg_data)"
      ],
      "metadata": {
        "colab": {
          "base_uri": "https://localhost:8080/",
          "height": 67,
          "referenced_widgets": [
            "c349fdd547984a6eb940c54a0150674d",
            "d4da11f734b645a9af79e80a34e9a187",
            "05a6de0439614e818eba197bf8a55915",
            "49a3105086124124b45f255645b08388",
            "0d25a864ff3a457a858a79230789de24",
            "a956e3c375f2427e88b3bf7b1cc9d497",
            "eaa5848128d6482a8b50249cb359a2fb",
            "60cbed2fb8ba4764a4145926a131119a",
            "8cb492ef86414f3e9e567d670835b96d",
            "3ef8f99473ae4b6187c6f9ae1b80b908",
            "4e9d02e5963e4195852f8514aeed3de5"
          ]
        },
        "id": "h-I6E4qprdMU",
        "outputId": "1b24537c-cdf3-4d1c-e66a-3279c7c82faa"
      },
      "execution_count": 30,
      "outputs": [
        {
          "output_type": "stream",
          "name": "stdout",
          "text": [
            "Maximum sequence length: 12\n"
          ]
        },
        {
          "output_type": "display_data",
          "data": {
            "text/plain": [
              "  0%|          | 0/5 [00:00<?, ?it/s]"
            ],
            "application/vnd.jupyter.widget-view+json": {
              "version_major": 2,
              "version_minor": 0,
              "model_id": "c349fdd547984a6eb940c54a0150674d"
            }
          },
          "metadata": {}
        }
      ]
    },
    {
      "cell_type": "code",
      "source": [
        "# S_L: source maximum sequence length, T_L: target maximum sequence length\n",
        "\n",
        "src_batch = batch #(B, S_L)\n",
        "trg_batch = torch.LongTensor(trg_data) #(B, T_L)\n",
        "\n",
        "print(src_batch.shape)\n",
        "print(trg_batch.shape)"
      ],
      "metadata": {
        "colab": {
          "base_uri": "https://localhost:8080/"
        },
        "id": "RL_Cq4yqrfU6",
        "outputId": "1c03f2a1-67fa-4253-c6f9-a900394e5d81"
      },
      "execution_count": 31,
      "outputs": [
        {
          "output_type": "stream",
          "name": "stdout",
          "text": [
            "torch.Size([5, 10])\n",
            "torch.Size([5, 12])\n"
          ]
        }
      ]
    },
    {
      "cell_type": "code",
      "source": [
        "src_emb = embedding(src_batch) #(B, S_L, d_w)\n",
        "trg_emb = embedding(trg_batch) #(B, T_L, d_w)\n",
        "\n",
        "print(src_emb.shape)\n",
        "print(trg_emb.shape)"
      ],
      "metadata": {
        "colab": {
          "base_uri": "https://localhost:8080/"
        },
        "id": "WgcdAAW7rofY",
        "outputId": "1d140d48-a689-4c24-c048-0c39827be65f"
      },
      "execution_count": 32,
      "outputs": [
        {
          "output_type": "stream",
          "name": "stdout",
          "text": [
            "torch.Size([5, 10, 8])\n",
            "torch.Size([5, 12, 8])\n"
          ]
        }
      ]
    },
    {
      "cell_type": "code",
      "source": [],
      "metadata": {
        "id": "gjQDe0EPrwzb"
      },
      "execution_count": null,
      "outputs": []
    },
    {
      "cell_type": "markdown",
      "source": [
        "`src_emb`를 encoder에서 나온 결과, 그리고 `trg_emb`를 masked multi-head attention 후 결과로 가정합니다."
      ],
      "metadata": {
        "id": "P32OOaCwr6-9"
      }
    },
    {
      "cell_type": "code",
      "source": [
        "batch_size = q.shape[0]\n",
        "d_k = d_model // num_heads"
      ],
      "metadata": {
        "id": "LuTVjwnIsPS_"
      },
      "execution_count": 33,
      "outputs": []
    },
    {
      "cell_type": "code",
      "source": [
        "#decoder masked multihead attention\n",
        "q = w_q(trg_emb) #(B, T_L, d_model)\n",
        "\n",
        "#encoder\n",
        "k = w_k(src_emb) #(B, S_L, d_model)\n",
        "v = w_v(src_emb) #(B, S_L, d_model)"
      ],
      "metadata": {
        "id": "8G_6cPqXr7K9"
      },
      "execution_count": 34,
      "outputs": []
    },
    {
      "cell_type": "code",
      "source": [
        "q = q.view(batch_size, -1, num_heads, d_k) # (B, T_L, num_heads, d_k)\n",
        "k = k.view(batch_size, -1, num_heads, d_k) # (B, S_L, num_heads, d_k)\n",
        "v = v.view(batch_size, -1, num_heads, d_k) # (B, S_L, num_heads, d_k)"
      ],
      "metadata": {
        "id": "WjwlFRC9sTjw"
      },
      "execution_count": 35,
      "outputs": []
    },
    {
      "cell_type": "code",
      "source": [
        "q = q.transpose(1, 2) # (B, num_heads, T_L, d_k)\n",
        "k = k.transpose(1, 2) # (B, num_heads, S_L, d_k)\n",
        "v = v.transpose(1, 2) # (B, num_heads, S_L, d_k)"
      ],
      "metadata": {
        "id": "uIwaZw-TsfpS"
      },
      "execution_count": 36,
      "outputs": []
    },
    {
      "cell_type": "code",
      "source": [
        "print(q.shape)\n",
        "print(k.shape)\n",
        "print(v.shape)"
      ],
      "metadata": {
        "colab": {
          "base_uri": "https://localhost:8080/"
        },
        "id": "FH_1Rny0smFJ",
        "outputId": "4e8117b6-1389-44fd-acd6-f1b84eceee9e"
      },
      "execution_count": 37,
      "outputs": [
        {
          "output_type": "stream",
          "name": "stdout",
          "text": [
            "torch.Size([5, 2, 12, 4])\n",
            "torch.Size([5, 2, 10, 4])\n",
            "torch.Size([5, 2, 10, 4])\n"
          ]
        }
      ]
    },
    {
      "cell_type": "code",
      "source": [
        "attn_scores = torch.matmul(q, k.transpose(-2, -1)) / math.sqrt(d_k) #(B, num_heads, T_L, S_L)\n",
        "attn_dists = F.softmax(attn_scores, dim = -1) #(B, num_heads, T_L, S_L)\n",
        "\n",
        "print(attn_dists.shape)"
      ],
      "metadata": {
        "colab": {
          "base_uri": "https://localhost:8080/"
        },
        "id": "FhiOPczasogN",
        "outputId": "7cd5c342-eaf5-4223-caea-c972c8042144"
      },
      "execution_count": 38,
      "outputs": [
        {
          "output_type": "stream",
          "name": "stdout",
          "text": [
            "torch.Size([5, 2, 12, 10])\n"
          ]
        }
      ]
    },
    {
      "cell_type": "code",
      "source": [
        "attn_values = torch.matmul(attn_dists, v) #(B, num_heads, T_L, d_k)\n",
        "\n",
        "print(attn_values.shape)"
      ],
      "metadata": {
        "colab": {
          "base_uri": "https://localhost:8080/"
        },
        "id": "5hQRC_XBs8tV",
        "outputId": "09be975b-9b33-42a5-82c3-6983380fa83a"
      },
      "execution_count": 39,
      "outputs": [
        {
          "output_type": "stream",
          "name": "stdout",
          "text": [
            "torch.Size([5, 2, 12, 4])\n"
          ]
        }
      ]
    },
    {
      "cell_type": "code",
      "source": [],
      "metadata": {
        "id": "v_ta9D01tCut"
      },
      "execution_count": null,
      "outputs": []
    },
    {
      "cell_type": "markdown",
      "source": [
        "Masked multi-head attention 후 나온 결과와 동일한 shape를 가지며 이후 layer에서 전체 연산도 동일하게 진행됩니다."
      ],
      "metadata": {
        "id": "qE9YtCIZtEkX"
      }
    },
    {
      "cell_type": "code",
      "source": [],
      "metadata": {
        "id": "m2qdhx_jtE31"
      },
      "execution_count": null,
      "outputs": []
    }
  ]
}
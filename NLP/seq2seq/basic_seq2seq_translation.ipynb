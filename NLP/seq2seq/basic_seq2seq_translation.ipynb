{
  "nbformat": 4,
  "nbformat_minor": 0,
  "metadata": {
    "colab": {
      "provenance": []
    },
    "kernelspec": {
      "name": "python3",
      "display_name": "Python 3"
    },
    "language_info": {
      "name": "python"
    }
  },
  "cells": [
    {
      "cell_type": "markdown",
      "source": [
        "# library"
      ],
      "metadata": {
        "id": "sYBCSZSO_JZl"
      }
    },
    {
      "cell_type": "code",
      "execution_count": 1,
      "metadata": {
        "id": "l3xnZfve_EhZ"
      },
      "outputs": [],
      "source": [
        "import random\n",
        "\n",
        "import torch\n",
        "import torch.nn as nn\n",
        "from torch import optim"
      ]
    },
    {
      "cell_type": "markdown",
      "source": [
        "# hyperparameter"
      ],
      "metadata": {
        "id": "UrtZUJfs_NA7"
      }
    },
    {
      "cell_type": "code",
      "source": [
        "torch.manual_seed(0)\n",
        "\n",
        "device = torch.device('cuda' if torch.cuda.is_available() else 'cpu')"
      ],
      "metadata": {
        "id": "mex0CQPP_LJo"
      },
      "execution_count": 2,
      "outputs": []
    },
    {
      "cell_type": "code",
      "source": [
        "SOURCE_MAX_LENGTH = 10\n",
        "TARGET_MAX_LENGTH = 12"
      ],
      "metadata": {
        "id": "LaMmGROIKy-w"
      },
      "execution_count": 14,
      "outputs": []
    },
    {
      "cell_type": "code",
      "source": [
        "enc_hidden_size = 16\n",
        "dec_hidden_size = enc_hidden_size"
      ],
      "metadata": {
        "id": "_uQQRh5KLGak"
      },
      "execution_count": 16,
      "outputs": []
    },
    {
      "cell_type": "code",
      "source": [
        "SOS_token = 0\n",
        "EOS_token = 1"
      ],
      "metadata": {
        "id": "ShVo5HOz_U7Z"
      },
      "execution_count": 4,
      "outputs": []
    },
    {
      "cell_type": "markdown",
      "source": [
        "# dataset"
      ],
      "metadata": {
        "id": "FqccMPYm_cA_"
      }
    },
    {
      "cell_type": "code",
      "source": [
        "raw = [\"I feel hungry.\t나는 배가 고프다.\",\n",
        "       \"Pytorch is very easy.\t파이토치는 매우 쉽다.\",\n",
        "       \"Pytorch is a framework for deep learning.\t파이토치는 딥러닝을 위한 프레임워크이다.\",\n",
        "       \"Pytorch is very clear to use.\t파이토치는 사용하기 매우 직관적이다.\"]"
      ],
      "metadata": {
        "id": "uAtkiUGG_csL"
      },
      "execution_count": 3,
      "outputs": []
    },
    {
      "cell_type": "code",
      "source": [
        "class Vocab:\n",
        "\n",
        "    def __init__(self):\n",
        "\n",
        "        self.vocab2index = {\"<SOS>\":SOS_token, \"<EOS>\":EOS_token}\n",
        "        self.index2vocab = {SOS_token:\"<SOS>\", EOS_token:\"<EOS>\"}\n",
        "        self.vocab_count = {}\n",
        "        self.n_vocab = len(self.vocab2index)\n",
        "\n",
        "    def add_vocab(self, sentence):\n",
        "\n",
        "        for word in sentence.split(\" \"):\n",
        "\n",
        "            if word not in self.vocab2index:\n",
        "\n",
        "                self.vocab2index[word] = self.n_vocab\n",
        "                self.vocab_count[word] = 1\n",
        "                self.index2vocab[self.n_vocab] = word\n",
        "                self.n_vocab += 1\n",
        "\n",
        "            else:\n",
        "\n",
        "                self.vocab_count[word] += 1\n",
        ""
      ],
      "metadata": {
        "id": "p8noWokc_fjB"
      },
      "execution_count": 5,
      "outputs": []
    },
    {
      "cell_type": "code",
      "source": [
        "def filter_pair(pair, source_max_length, target_max_length):\n",
        "\n",
        "    return len(pair[0].split(\" \")) < source_max_length and len(pair[1].split(\" \")) < target_max_length"
      ],
      "metadata": {
        "id": "fe1fsOmcAMoc"
      },
      "execution_count": 6,
      "outputs": []
    },
    {
      "cell_type": "code",
      "source": [
        "def preprocess(corpus, source_max_length, target_max_length):\n",
        "\n",
        "    print(\"reading corpus...\")\n",
        "\n",
        "    pairs = []\n",
        "\n",
        "    for line in corpus:\n",
        "\n",
        "        pairs.append([s for s in line.strip().lower().split('\\t')])\n",
        "\n",
        "    print('read {} sentence pairs'.format(len(pairs)))\n",
        "\n",
        "    pairs = [pair for pair in pairs if filter_pair(pair, source_max_length, target_max_length)]\n",
        "\n",
        "    print('trimmed to {} sentence pairs'.format(len(pairs)))\n",
        "\n",
        "    source_vocab = Vocab()\n",
        "    target_vocab = Vocab()\n",
        "\n",
        "    print('counting words...')\n",
        "\n",
        "    for pair in pairs:\n",
        "\n",
        "        source_vocab.add_vocab(pair[0])\n",
        "        target_vocab.add_vocab(pair[1])\n",
        "\n",
        "    print('source vocab size = ', source_vocab.n_vocab)\n",
        "    print('target vocab size = ', target_vocab.n_vocab)\n",
        "\n",
        "    return pairs, source_vocab, target_vocab"
      ],
      "metadata": {
        "id": "Ua1noma2AZcK"
      },
      "execution_count": 8,
      "outputs": []
    },
    {
      "cell_type": "code",
      "source": [
        ""
      ],
      "metadata": {
        "id": "ztv4PtxWAkbU"
      },
      "execution_count": null,
      "outputs": []
    },
    {
      "cell_type": "markdown",
      "source": [
        "# model"
      ],
      "metadata": {
        "id": "tpTssg0TByd_"
      }
    },
    {
      "cell_type": "code",
      "source": [
        "class Encoder(nn.Module):\n",
        "\n",
        "    def __init__(self, input_size, hidden_size):\n",
        "\n",
        "        super(Encoder, self).__init__()\n",
        "\n",
        "        self.hidden_size = hidden_size\n",
        "        self.embedding = nn.Embedding(input_size, hidden_size)\n",
        "        self.gru = nn.GRU(hidden_size, hidden_size)\n",
        "\n",
        "    def forward(self, x,hidden):\n",
        "\n",
        "        x = self.embedding(x).view(1,1,-1)\n",
        "\n",
        "        x,hidden = self.gru(x,hidden)\n",
        "\n",
        "        return x,hidden"
      ],
      "metadata": {
        "id": "i-JoE3gaBzf6"
      },
      "execution_count": 19,
      "outputs": []
    },
    {
      "cell_type": "code",
      "source": [
        "class Decoder(nn.Module):\n",
        "\n",
        "    def __init__(self, hidden_size, output_size):\n",
        "\n",
        "        super(Decoder, self).__init__()\n",
        "\n",
        "        self.hidden_size = hidden_size\n",
        "        self.embedding = nn.Embedding(output_size, hidden_size)\n",
        "        self.gru = nn.GRU(hidden_size, hidden_size)\n",
        "        self.out = nn.Linear(hidden_size, output_size)\n",
        "        self.softmax = nn.LogSoftmax(dim = 1)\n",
        "\n",
        "    def forward(self, x, hidden):\n",
        "\n",
        "        x = self.embedding(x).view(1,1,-1)\n",
        "\n",
        "        x,hidden = self.gru(x,hidden)\n",
        "\n",
        "        x = self.softmax(self.out(x[0]))\n",
        "\n",
        "        return x, hidden"
      ],
      "metadata": {
        "id": "MOQCBZhHDJL4"
      },
      "execution_count": 10,
      "outputs": []
    },
    {
      "cell_type": "code",
      "source": [],
      "metadata": {
        "id": "qOzawTEVDpTO"
      },
      "execution_count": null,
      "outputs": []
    },
    {
      "cell_type": "markdown",
      "source": [
        "# train & evaluate"
      ],
      "metadata": {
        "id": "QLDLDGyBD04E"
      }
    },
    {
      "cell_type": "code",
      "source": [
        "def tensorize(vocab, sentence):\n",
        "\n",
        "    indexes = [vocab.vocab2index[word] for word in sentence.split(\" \")]\n",
        "\n",
        "    indexes.append(vocab.vocab2index['<EOS>'])\n",
        "\n",
        "    return torch.Tensor(indexes).long().to(device).view(-1,1)"
      ],
      "metadata": {
        "id": "EimZ0oBtD2M8"
      },
      "execution_count": 11,
      "outputs": []
    },
    {
      "cell_type": "code",
      "source": [
        "def train(pairs, source_vocab, target_vocab, encoder, decoder, n_iter, print_every = 1000, learning_rate = 0.01):\n",
        "\n",
        "    loss_total = 0\n",
        "\n",
        "    encoder_optimizer = optim.SGD(encoder.parameters(), lr = learning_rate)\n",
        "    decoder_optimizer = optim.SGD(decoder.parameters(), lr = learning_rate)\n",
        "\n",
        "    training_batch = [random.choice(pairs) for _ in range(n_iter)]\n",
        "\n",
        "    training_source = [tensorize(source_vocab, pair[0]) for pair in training_batch]\n",
        "    training_target = [tensorize(target_vocab, pair[1]) for pair in training_batch]\n",
        "\n",
        "    criterion = nn.NLLLoss()\n",
        "\n",
        "    for i in range(1, n_iter + 1):\n",
        "\n",
        "        source_tensor = training_source[i-1]\n",
        "        target_tensor = training_target[i-1]\n",
        "\n",
        "        encoder_hidden = torch.zeros([1,1,encoder.hidden_size]).to(device)\n",
        "\n",
        "        encoder_optimizer.zero_grad()\n",
        "        decoder_optimizer.zero_grad()\n",
        "\n",
        "        source_length = source_tensor.size(0)\n",
        "        target_length = target_tensor.size(0)\n",
        "\n",
        "        loss = 0\n",
        "\n",
        "        for enc_input in range(source_length):\n",
        "\n",
        "            _, encoder_hidden = encoder(source_tensor[enc_input], encoder_hidden)\n",
        "\n",
        "        decoder_input = torch.Tensor([[SOS_token]]).long().to(device)\n",
        "        decoder_hidden = encoder_hidden\n",
        "\n",
        "        for di in range(target_length):\n",
        "\n",
        "            decoder_output, decoder_hidden = decoder(decoder_input, decoder_hidden)\n",
        "\n",
        "            loss += criterion(decoder_output, target_tensor[di])\n",
        "\n",
        "            decoder_input = target_tensor[di] #teacher forcing\n",
        "            #decoder_input = decoder_output 이게 맞는것 같은데..?\n",
        "\n",
        "        loss.backward()\n",
        "\n",
        "        encoder_optimizer.step()\n",
        "        decoder_optimizer.step()\n",
        "\n",
        "        loss_iter = loss.item()/target_length\n",
        "        loss_total += loss_iter\n",
        "\n",
        "        if i % print_every == 0:\n",
        "\n",
        "            loss_avg = loss_total / print_every\n",
        "            loss_total = 0\n",
        "            print('[{} - {}%] loss = {:05.4f}'.format(i,i/n_iter*100, loss_avg))\n"
      ],
      "metadata": {
        "id": "H2j4u8WwEsGt"
      },
      "execution_count": 12,
      "outputs": []
    },
    {
      "cell_type": "code",
      "source": [
        "def evaluate(pairs, source_vocab, target_vocab, encoder, decoder, target_max_length):\n",
        "\n",
        "    for pair in pairs:\n",
        "\n",
        "        print(\">\", pair[0])\n",
        "        print(\"=\", pair[1])\n",
        "\n",
        "        source_tensor = tensorize(source_vocab, pair[0])\n",
        "        source_length = source_tensor.size()[0]\n",
        "        encoder_hidden = torch.zeros([1,1,encoder.hidden_size]).to(device)\n",
        "\n",
        "        for ei in range(source_length):\n",
        "\n",
        "            _, encoder_hidden = encoder(source_tensor[ei], encoder_hidden)\n",
        "\n",
        "        decoder_input = torch.Tensor([[SOS_token]], device = device).long()\n",
        "        decoder_hidden = encoder_hidden\n",
        "        decoded_words = []\n",
        "\n",
        "        for di in range(target_max_length):\n",
        "\n",
        "            decoder_output, decoder_hidden = decoder(decoder_input, decoder_hidden)\n",
        "\n",
        "            _, top_index = decoder_output.data.topk(1)\n",
        "\n",
        "            if top_index.item() == EOS_token:\n",
        "\n",
        "                decoded_words.append(\"<EOS>\")\n",
        "                break\n",
        "\n",
        "            else:\n",
        "\n",
        "                decoded_words.append(target_vocab.index2vocab[top_index.item()])\n",
        "\n",
        "            decoder_input = top_index.squeeze().detach()\n",
        "\n",
        "        predict_words = decoded_words\n",
        "        predict_sentence = \" \".join(predict_words)\n",
        "        print(\"<\",predict_sentence)\n",
        "        print(\"\")"
      ],
      "metadata": {
        "id": "TBP3R-VHGmLq"
      },
      "execution_count": 13,
      "outputs": []
    },
    {
      "cell_type": "code",
      "source": [
        "load_pairs, load_source_vocab, load_target_vocab = preprocess(raw, SOURCE_MAX_LENGTH, TARGET_MAX_LENGTH)\n",
        "\n",
        "print(random.choice(load_pairs))"
      ],
      "metadata": {
        "colab": {
          "base_uri": "https://localhost:8080/"
        },
        "id": "UCjKlt-oJUsk",
        "outputId": "aaf6b5f7-1dbd-4342-869b-2b34fca38636"
      },
      "execution_count": 15,
      "outputs": [
        {
          "output_type": "stream",
          "name": "stdout",
          "text": [
            "reading corpus...\n",
            "read 4 sentence pairs\n",
            "trimmed to 4 sentence pairs\n",
            "counting words...\n",
            "source vocab size =  17\n",
            "target vocab size =  13\n",
            "['pytorch is very easy.', '파이토치는 매우 쉽다.']\n"
          ]
        }
      ]
    },
    {
      "cell_type": "code",
      "source": [
        "enc = Encoder(load_source_vocab.n_vocab, enc_hidden_size).to(device)\n",
        "dec = Decoder(dec_hidden_size, load_target_vocab.n_vocab).to(device)"
      ],
      "metadata": {
        "id": "iYMI3F6HK_Cq"
      },
      "execution_count": 20,
      "outputs": []
    },
    {
      "cell_type": "code",
      "source": [
        "train(load_pairs, load_source_vocab, load_target_vocab, enc, dec, 5000, print_every = 1000)"
      ],
      "metadata": {
        "colab": {
          "base_uri": "https://localhost:8080/"
        },
        "id": "DG-HoLqwLWGZ",
        "outputId": "00e9d8af-2cca-4759-cbcf-1fb3ff7d5200"
      },
      "execution_count": 21,
      "outputs": [
        {
          "output_type": "stream",
          "name": "stdout",
          "text": [
            "[1000 - 20.0%] loss = 0.7193\n",
            "[2000 - 40.0%] loss = 0.0733\n",
            "[3000 - 60.0%] loss = 0.0246\n",
            "[4000 - 80.0%] loss = 0.0144\n",
            "[5000 - 100.0%] loss = 0.0100\n"
          ]
        }
      ]
    },
    {
      "cell_type": "code",
      "source": [
        "evaluate(load_pairs, load_source_vocab, load_target_vocab, enc, dec, TARGET_MAX_LENGTH)"
      ],
      "metadata": {
        "colab": {
          "base_uri": "https://localhost:8080/"
        },
        "id": "I1JvdfnMLetd",
        "outputId": "085bfa00-1293-4c80-bc2d-ca66f9b9b443"
      },
      "execution_count": 22,
      "outputs": [
        {
          "output_type": "stream",
          "name": "stdout",
          "text": [
            "> i feel hungry.\n",
            "= 나는 배가 고프다.\n",
            "< 나는 배가 고프다. <EOS>\n",
            "\n",
            "> pytorch is very easy.\n",
            "= 파이토치는 매우 쉽다.\n",
            "< 파이토치는 매우 쉽다. <EOS>\n",
            "\n",
            "> pytorch is a framework for deep learning.\n",
            "= 파이토치는 딥러닝을 위한 프레임워크이다.\n",
            "< 파이토치는 딥러닝을 위한 프레임워크이다. <EOS>\n",
            "\n",
            "> pytorch is very clear to use.\n",
            "= 파이토치는 사용하기 매우 직관적이다.\n",
            "< 파이토치는 사용하기 매우 직관적이다. <EOS>\n",
            "\n"
          ]
        }
      ]
    },
    {
      "cell_type": "code",
      "source": [],
      "metadata": {
        "id": "DL8Yt2SYLvTg"
      },
      "execution_count": null,
      "outputs": []
    }
  ]
}
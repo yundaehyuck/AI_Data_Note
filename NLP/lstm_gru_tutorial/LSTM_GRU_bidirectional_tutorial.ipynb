{
  "nbformat": 4,
  "nbformat_minor": 0,
  "metadata": {
    "colab": {
      "provenance": []
    },
    "kernelspec": {
      "name": "python3",
      "display_name": "Python 3"
    },
    "language_info": {
      "name": "python"
    },
    "widgets": {
      "application/vnd.jupyter.widget-state+json": {
        "eea60980b8c7424484d0de5fe47cffec": {
          "model_module": "@jupyter-widgets/controls",
          "model_name": "HBoxModel",
          "model_module_version": "1.5.0",
          "state": {
            "_dom_classes": [],
            "_model_module": "@jupyter-widgets/controls",
            "_model_module_version": "1.5.0",
            "_model_name": "HBoxModel",
            "_view_count": null,
            "_view_module": "@jupyter-widgets/controls",
            "_view_module_version": "1.5.0",
            "_view_name": "HBoxView",
            "box_style": "",
            "children": [
              "IPY_MODEL_f67baa8f3cf84ea2a886a4e4999bbced",
              "IPY_MODEL_59e40ad874cd42ba9a99ad935b8362ae",
              "IPY_MODEL_b92e8d32ec644fbf97ca041346ffc95b"
            ],
            "layout": "IPY_MODEL_1260551fe8cb4333b7be9d62ee6dc89d"
          }
        },
        "f67baa8f3cf84ea2a886a4e4999bbced": {
          "model_module": "@jupyter-widgets/controls",
          "model_name": "HTMLModel",
          "model_module_version": "1.5.0",
          "state": {
            "_dom_classes": [],
            "_model_module": "@jupyter-widgets/controls",
            "_model_module_version": "1.5.0",
            "_model_name": "HTMLModel",
            "_view_count": null,
            "_view_module": "@jupyter-widgets/controls",
            "_view_module_version": "1.5.0",
            "_view_name": "HTMLView",
            "description": "",
            "description_tooltip": null,
            "layout": "IPY_MODEL_b265bde6251a4619b36efc6d1abd0bd0",
            "placeholder": "​",
            "style": "IPY_MODEL_abd22e88973c4f9b9297e7468ec9a63b",
            "value": "100%"
          }
        },
        "59e40ad874cd42ba9a99ad935b8362ae": {
          "model_module": "@jupyter-widgets/controls",
          "model_name": "FloatProgressModel",
          "model_module_version": "1.5.0",
          "state": {
            "_dom_classes": [],
            "_model_module": "@jupyter-widgets/controls",
            "_model_module_version": "1.5.0",
            "_model_name": "FloatProgressModel",
            "_view_count": null,
            "_view_module": "@jupyter-widgets/controls",
            "_view_module_version": "1.5.0",
            "_view_name": "ProgressView",
            "bar_style": "success",
            "description": "",
            "description_tooltip": null,
            "layout": "IPY_MODEL_71311bfc1b464db581d7f4b021c05dd8",
            "max": 10,
            "min": 0,
            "orientation": "horizontal",
            "style": "IPY_MODEL_b3610b5b6c504564af3af0422505ca0e",
            "value": 10
          }
        },
        "b92e8d32ec644fbf97ca041346ffc95b": {
          "model_module": "@jupyter-widgets/controls",
          "model_name": "HTMLModel",
          "model_module_version": "1.5.0",
          "state": {
            "_dom_classes": [],
            "_model_module": "@jupyter-widgets/controls",
            "_model_module_version": "1.5.0",
            "_model_name": "HTMLModel",
            "_view_count": null,
            "_view_module": "@jupyter-widgets/controls",
            "_view_module_version": "1.5.0",
            "_view_name": "HTMLView",
            "description": "",
            "description_tooltip": null,
            "layout": "IPY_MODEL_d968c1abdb9d41aab3d5cacac52d0d56",
            "placeholder": "​",
            "style": "IPY_MODEL_76d99802ab87438ba83cf1d482381aa4",
            "value": " 10/10 [00:00&lt;00:00, 455.37it/s]"
          }
        },
        "1260551fe8cb4333b7be9d62ee6dc89d": {
          "model_module": "@jupyter-widgets/base",
          "model_name": "LayoutModel",
          "model_module_version": "1.2.0",
          "state": {
            "_model_module": "@jupyter-widgets/base",
            "_model_module_version": "1.2.0",
            "_model_name": "LayoutModel",
            "_view_count": null,
            "_view_module": "@jupyter-widgets/base",
            "_view_module_version": "1.2.0",
            "_view_name": "LayoutView",
            "align_content": null,
            "align_items": null,
            "align_self": null,
            "border": null,
            "bottom": null,
            "display": null,
            "flex": null,
            "flex_flow": null,
            "grid_area": null,
            "grid_auto_columns": null,
            "grid_auto_flow": null,
            "grid_auto_rows": null,
            "grid_column": null,
            "grid_gap": null,
            "grid_row": null,
            "grid_template_areas": null,
            "grid_template_columns": null,
            "grid_template_rows": null,
            "height": null,
            "justify_content": null,
            "justify_items": null,
            "left": null,
            "margin": null,
            "max_height": null,
            "max_width": null,
            "min_height": null,
            "min_width": null,
            "object_fit": null,
            "object_position": null,
            "order": null,
            "overflow": null,
            "overflow_x": null,
            "overflow_y": null,
            "padding": null,
            "right": null,
            "top": null,
            "visibility": null,
            "width": null
          }
        },
        "b265bde6251a4619b36efc6d1abd0bd0": {
          "model_module": "@jupyter-widgets/base",
          "model_name": "LayoutModel",
          "model_module_version": "1.2.0",
          "state": {
            "_model_module": "@jupyter-widgets/base",
            "_model_module_version": "1.2.0",
            "_model_name": "LayoutModel",
            "_view_count": null,
            "_view_module": "@jupyter-widgets/base",
            "_view_module_version": "1.2.0",
            "_view_name": "LayoutView",
            "align_content": null,
            "align_items": null,
            "align_self": null,
            "border": null,
            "bottom": null,
            "display": null,
            "flex": null,
            "flex_flow": null,
            "grid_area": null,
            "grid_auto_columns": null,
            "grid_auto_flow": null,
            "grid_auto_rows": null,
            "grid_column": null,
            "grid_gap": null,
            "grid_row": null,
            "grid_template_areas": null,
            "grid_template_columns": null,
            "grid_template_rows": null,
            "height": null,
            "justify_content": null,
            "justify_items": null,
            "left": null,
            "margin": null,
            "max_height": null,
            "max_width": null,
            "min_height": null,
            "min_width": null,
            "object_fit": null,
            "object_position": null,
            "order": null,
            "overflow": null,
            "overflow_x": null,
            "overflow_y": null,
            "padding": null,
            "right": null,
            "top": null,
            "visibility": null,
            "width": null
          }
        },
        "abd22e88973c4f9b9297e7468ec9a63b": {
          "model_module": "@jupyter-widgets/controls",
          "model_name": "DescriptionStyleModel",
          "model_module_version": "1.5.0",
          "state": {
            "_model_module": "@jupyter-widgets/controls",
            "_model_module_version": "1.5.0",
            "_model_name": "DescriptionStyleModel",
            "_view_count": null,
            "_view_module": "@jupyter-widgets/base",
            "_view_module_version": "1.2.0",
            "_view_name": "StyleView",
            "description_width": ""
          }
        },
        "71311bfc1b464db581d7f4b021c05dd8": {
          "model_module": "@jupyter-widgets/base",
          "model_name": "LayoutModel",
          "model_module_version": "1.2.0",
          "state": {
            "_model_module": "@jupyter-widgets/base",
            "_model_module_version": "1.2.0",
            "_model_name": "LayoutModel",
            "_view_count": null,
            "_view_module": "@jupyter-widgets/base",
            "_view_module_version": "1.2.0",
            "_view_name": "LayoutView",
            "align_content": null,
            "align_items": null,
            "align_self": null,
            "border": null,
            "bottom": null,
            "display": null,
            "flex": null,
            "flex_flow": null,
            "grid_area": null,
            "grid_auto_columns": null,
            "grid_auto_flow": null,
            "grid_auto_rows": null,
            "grid_column": null,
            "grid_gap": null,
            "grid_row": null,
            "grid_template_areas": null,
            "grid_template_columns": null,
            "grid_template_rows": null,
            "height": null,
            "justify_content": null,
            "justify_items": null,
            "left": null,
            "margin": null,
            "max_height": null,
            "max_width": null,
            "min_height": null,
            "min_width": null,
            "object_fit": null,
            "object_position": null,
            "order": null,
            "overflow": null,
            "overflow_x": null,
            "overflow_y": null,
            "padding": null,
            "right": null,
            "top": null,
            "visibility": null,
            "width": null
          }
        },
        "b3610b5b6c504564af3af0422505ca0e": {
          "model_module": "@jupyter-widgets/controls",
          "model_name": "ProgressStyleModel",
          "model_module_version": "1.5.0",
          "state": {
            "_model_module": "@jupyter-widgets/controls",
            "_model_module_version": "1.5.0",
            "_model_name": "ProgressStyleModel",
            "_view_count": null,
            "_view_module": "@jupyter-widgets/base",
            "_view_module_version": "1.2.0",
            "_view_name": "StyleView",
            "bar_color": null,
            "description_width": ""
          }
        },
        "d968c1abdb9d41aab3d5cacac52d0d56": {
          "model_module": "@jupyter-widgets/base",
          "model_name": "LayoutModel",
          "model_module_version": "1.2.0",
          "state": {
            "_model_module": "@jupyter-widgets/base",
            "_model_module_version": "1.2.0",
            "_model_name": "LayoutModel",
            "_view_count": null,
            "_view_module": "@jupyter-widgets/base",
            "_view_module_version": "1.2.0",
            "_view_name": "LayoutView",
            "align_content": null,
            "align_items": null,
            "align_self": null,
            "border": null,
            "bottom": null,
            "display": null,
            "flex": null,
            "flex_flow": null,
            "grid_area": null,
            "grid_auto_columns": null,
            "grid_auto_flow": null,
            "grid_auto_rows": null,
            "grid_column": null,
            "grid_gap": null,
            "grid_row": null,
            "grid_template_areas": null,
            "grid_template_columns": null,
            "grid_template_rows": null,
            "height": null,
            "justify_content": null,
            "justify_items": null,
            "left": null,
            "margin": null,
            "max_height": null,
            "max_width": null,
            "min_height": null,
            "min_width": null,
            "object_fit": null,
            "object_position": null,
            "order": null,
            "overflow": null,
            "overflow_x": null,
            "overflow_y": null,
            "padding": null,
            "right": null,
            "top": null,
            "visibility": null,
            "width": null
          }
        },
        "76d99802ab87438ba83cf1d482381aa4": {
          "model_module": "@jupyter-widgets/controls",
          "model_name": "DescriptionStyleModel",
          "model_module_version": "1.5.0",
          "state": {
            "_model_module": "@jupyter-widgets/controls",
            "_model_module_version": "1.5.0",
            "_model_name": "DescriptionStyleModel",
            "_view_count": null,
            "_view_module": "@jupyter-widgets/base",
            "_view_module_version": "1.2.0",
            "_view_name": "StyleView",
            "description_width": ""
          }
        }
      }
    }
  },
  "cells": [
    {
      "cell_type": "markdown",
      "source": [
        "##**4. LSTM, GRU**\n",
        "1. 기존 RNN과 다른 부분에 대해서 배웁니다.\n",
        "2. 이전 실습에 이어 다양한 적용법을 배웁니다."
      ],
      "metadata": {
        "id": "On8QZnTDc4zX"
      }
    },
    {
      "cell_type": "markdown",
      "source": [
        "### **필요 패키지 import**"
      ],
      "metadata": {
        "id": "zS10lVs8dBml"
      }
    },
    {
      "cell_type": "code",
      "execution_count": 1,
      "metadata": {
        "id": "hyw1QmrycxWb"
      },
      "outputs": [],
      "source": [
        "from tqdm.auto import tqdm\n",
        "from torch import nn\n",
        "from torch.nn.utils.rnn import pack_padded_sequence, pad_packed_sequence\n",
        "\n",
        "import torch"
      ]
    },
    {
      "cell_type": "code",
      "source": [],
      "metadata": {
        "id": "RZSRNGdOdRFV"
      },
      "execution_count": null,
      "outputs": []
    },
    {
      "cell_type": "markdown",
      "source": [
        "### **데이터 전처리**"
      ],
      "metadata": {
        "id": "QLuGGc6edTO9"
      }
    },
    {
      "cell_type": "markdown",
      "source": [
        "아래의 sample data를 확인해봅시다.  \n",
        "이전 실습과 동일합니다."
      ],
      "metadata": {
        "id": "szBKWCPqdU1A"
      }
    },
    {
      "cell_type": "code",
      "source": [
        "vocab_size = 100\n",
        "pad_id = 0\n",
        "\n",
        "data = [\n",
        "  [85,14,80,34,99,20,31,65,53,86,3,58,30,4,11,6,50,71,74,13],\n",
        "  [62,76,79,66,32],\n",
        "  [93,77,16,67,46,74,24,70],\n",
        "  [19,83,88,22,57,40,75,82,4,46],\n",
        "  [70,28,30,24,76,84,92,76,77,51,7,20,82,94,57],\n",
        "  [58,13,40,61,88,18,92,89,8,14,61,67,49,59,45,12,47,5],\n",
        "  [22,5,21,84,39,6,9,84,36,59,32,30,69,70,82,56,1],\n",
        "  [94,21,79,24,3,86],\n",
        "  [80,80,33,63,34,63],\n",
        "  [87,32,79,65,2,96,43,80,85,20,41,52,95,50,35,96,24,80]\n",
        "]"
      ],
      "metadata": {
        "id": "OzZD-OiYdThE"
      },
      "execution_count": 2,
      "outputs": []
    },
    {
      "cell_type": "code",
      "source": [
        "max_len = len(max(data, key = len)) #batch data내의 최대 시퀀스 길이\n",
        "print(f\"Maximum sequence length: {max_len}\")\n",
        "\n",
        "valid_lens = [] #padding 전 시퀀스 길이\n",
        "\n",
        "for i, seq in enumerate(tqdm(data)):\n",
        "\n",
        "    valid_lens.append(len(seq))\n",
        "\n",
        "    if len(seq) < max_len:\n",
        "\n",
        "        data[i] = seq + [pad_id] * (max_len - len(seq)) #최대 길이보다 작은 시퀀스 패딩"
      ],
      "metadata": {
        "colab": {
          "base_uri": "https://localhost:8080/",
          "height": 67,
          "referenced_widgets": [
            "eea60980b8c7424484d0de5fe47cffec",
            "f67baa8f3cf84ea2a886a4e4999bbced",
            "59e40ad874cd42ba9a99ad935b8362ae",
            "b92e8d32ec644fbf97ca041346ffc95b",
            "1260551fe8cb4333b7be9d62ee6dc89d",
            "b265bde6251a4619b36efc6d1abd0bd0",
            "abd22e88973c4f9b9297e7468ec9a63b",
            "71311bfc1b464db581d7f4b021c05dd8",
            "b3610b5b6c504564af3af0422505ca0e",
            "d968c1abdb9d41aab3d5cacac52d0d56",
            "76d99802ab87438ba83cf1d482381aa4"
          ]
        },
        "id": "2gwjUSzUdWnN",
        "outputId": "bd772602-b6a6-4804-a3f1-c7c96774cbcc"
      },
      "execution_count": 3,
      "outputs": [
        {
          "output_type": "stream",
          "name": "stdout",
          "text": [
            "Maximum sequence length: 20\n"
          ]
        },
        {
          "output_type": "display_data",
          "data": {
            "text/plain": [
              "  0%|          | 0/10 [00:00<?, ?it/s]"
            ],
            "application/vnd.jupyter.widget-view+json": {
              "version_major": 2,
              "version_minor": 0,
              "model_id": "eea60980b8c7424484d0de5fe47cffec"
            }
          },
          "metadata": {}
        }
      ]
    },
    {
      "cell_type": "code",
      "source": [
        "#B: batch size, L: maximum sequence length\n",
        "\n",
        "batch = torch.LongTensor(data) #(B, L)\n",
        "batch_lens = torch.LongTensor(valid_lens) #(B)\n",
        "\n",
        "batch_lens, sorted_idx = batch_lens.sort(descending=True)\n",
        "batch = batch[sorted_idx]\n",
        "\n",
        "print(batch)\n",
        "print(batch_lens)"
      ],
      "metadata": {
        "colab": {
          "base_uri": "https://localhost:8080/"
        },
        "id": "QSYyNKVXdugH",
        "outputId": "7e03687f-e82d-4ab3-9971-cd9a87dd30e5"
      },
      "execution_count": 4,
      "outputs": [
        {
          "output_type": "stream",
          "name": "stdout",
          "text": [
            "tensor([[85, 14, 80, 34, 99, 20, 31, 65, 53, 86,  3, 58, 30,  4, 11,  6, 50, 71,\n",
            "         74, 13],\n",
            "        [58, 13, 40, 61, 88, 18, 92, 89,  8, 14, 61, 67, 49, 59, 45, 12, 47,  5,\n",
            "          0,  0],\n",
            "        [87, 32, 79, 65,  2, 96, 43, 80, 85, 20, 41, 52, 95, 50, 35, 96, 24, 80,\n",
            "          0,  0],\n",
            "        [22,  5, 21, 84, 39,  6,  9, 84, 36, 59, 32, 30, 69, 70, 82, 56,  1,  0,\n",
            "          0,  0],\n",
            "        [70, 28, 30, 24, 76, 84, 92, 76, 77, 51,  7, 20, 82, 94, 57,  0,  0,  0,\n",
            "          0,  0],\n",
            "        [19, 83, 88, 22, 57, 40, 75, 82,  4, 46,  0,  0,  0,  0,  0,  0,  0,  0,\n",
            "          0,  0],\n",
            "        [93, 77, 16, 67, 46, 74, 24, 70,  0,  0,  0,  0,  0,  0,  0,  0,  0,  0,\n",
            "          0,  0],\n",
            "        [94, 21, 79, 24,  3, 86,  0,  0,  0,  0,  0,  0,  0,  0,  0,  0,  0,  0,\n",
            "          0,  0],\n",
            "        [80, 80, 33, 63, 34, 63,  0,  0,  0,  0,  0,  0,  0,  0,  0,  0,  0,  0,\n",
            "          0,  0],\n",
            "        [62, 76, 79, 66, 32,  0,  0,  0,  0,  0,  0,  0,  0,  0,  0,  0,  0,  0,\n",
            "          0,  0]])\n",
            "tensor([20, 18, 18, 17, 15, 10,  8,  6,  6,  5])\n"
          ]
        }
      ]
    },
    {
      "cell_type": "code",
      "source": [],
      "metadata": {
        "id": "j9-7sdxAeARF"
      },
      "execution_count": null,
      "outputs": []
    },
    {
      "cell_type": "markdown",
      "source": [
        "### **LSTM 사용**"
      ],
      "metadata": {
        "id": "ho6KRYzZeDlf"
      }
    },
    {
      "cell_type": "markdown",
      "source": [
        "LSTM에선 cell state가 추가됩니다.  \n",
        "Cell state의 shape는 hidden state의 그것과 동일합니다."
      ],
      "metadata": {
        "id": "oXnF_xmbeE5l"
      }
    },
    {
      "cell_type": "code",
      "source": [
        "embedding_size = 256\n",
        "hidden_size = 512\n",
        "num_layers = 1\n",
        "num_dirs = 1\n",
        "\n",
        "embedding = nn.Embedding(vocab_size, embedding_size)\n",
        "\n",
        "lstm = nn.LSTM(\n",
        "    input_size = embedding_size,\n",
        "    hidden_size = hidden_size,\n",
        "    num_layers = num_layers,\n",
        "    bidirectional = True if num_dirs > 1 else False\n",
        ")\n",
        "\n",
        "#hidden state의 초기값\n",
        "h_0 = torch.zeros((num_layers * num_dirs, batch.shape[0], hidden_size)) #(num_layers * num_dirs, B, d_h)\n",
        "\n",
        "#cell state의 초기값\n",
        "c_0 = torch.zeros((num_layers * num_dirs, batch.shape[0], hidden_size)) #(num_layers * num_dirs, B, d_h)"
      ],
      "metadata": {
        "id": "TAkkrlAqeDww"
      },
      "execution_count": 5,
      "outputs": []
    },
    {
      "cell_type": "code",
      "source": [
        "#d_w: word embedding size\n",
        "\n",
        "batch_emb = embedding(batch) #(B, L, d_w)\n",
        "\n",
        "packed_batch = pack_padded_sequence(batch_emb.transpose(0,1), batch_lens) #unpacking > packing\n",
        "\n",
        "packed_outputs, (h_n, c_n) = lstm(packed_batch, (h_0, c_0))\n",
        "print(packed_outputs)\n",
        "print(packed_outputs[0].shape)\n",
        "print(h_n.shape)\n",
        "print(c_n.shape)"
      ],
      "metadata": {
        "colab": {
          "base_uri": "https://localhost:8080/"
        },
        "id": "glqQIjTPfbR6",
        "outputId": "e2779d06-d942-4915-9039-a3a2de52708c"
      },
      "execution_count": 6,
      "outputs": [
        {
          "output_type": "stream",
          "name": "stdout",
          "text": [
            "PackedSequence(data=tensor([[-0.1781, -0.0983, -0.1026,  ..., -0.0290,  0.0718,  0.0746],\n",
            "        [-0.1070, -0.1882,  0.0805,  ..., -0.1675,  0.0276,  0.0482],\n",
            "        [ 0.0890,  0.0528, -0.1291,  ..., -0.1900, -0.1401, -0.1384],\n",
            "        ...,\n",
            "        [-0.1729,  0.0395,  0.0961,  ...,  0.1353,  0.0452,  0.1362],\n",
            "        [-0.1118, -0.0988, -0.0047,  ...,  0.0575,  0.0925, -0.1169],\n",
            "        [-0.0121, -0.3091,  0.0047,  ...,  0.0702,  0.1550, -0.0522]],\n",
            "       grad_fn=<CatBackward0>), batch_sizes=tensor([10, 10, 10, 10, 10,  9,  7,  7,  6,  6,  5,  5,  5,  5,  5,  4,  4,  3,\n",
            "         1,  1]), sorted_indices=None, unsorted_indices=None)\n",
            "torch.Size([123, 512])\n",
            "torch.Size([1, 10, 512])\n",
            "torch.Size([1, 10, 512])\n"
          ]
        }
      ]
    },
    {
      "cell_type": "code",
      "source": [
        "outputs, output_lens = pad_packed_sequence(packed_outputs) #packing > unpacking\n",
        "print(outputs.shape)\n",
        "print(output_lens)"
      ],
      "metadata": {
        "colab": {
          "base_uri": "https://localhost:8080/"
        },
        "id": "Pn5whNhEfuVY",
        "outputId": "e7c7be0c-7a41-467a-b6f2-fe9d1344f749"
      },
      "execution_count": 7,
      "outputs": [
        {
          "output_type": "stream",
          "name": "stdout",
          "text": [
            "torch.Size([20, 10, 512])\n",
            "tensor([20, 18, 18, 17, 15, 10,  8,  6,  6,  5])\n"
          ]
        }
      ]
    },
    {
      "cell_type": "code",
      "source": [],
      "metadata": {
        "id": "Ct3BNXC8f0ZQ"
      },
      "execution_count": null,
      "outputs": []
    },
    {
      "cell_type": "markdown",
      "source": [
        "### **GRU 사용**"
      ],
      "metadata": {
        "id": "jjbHznLjgCmC"
      }
    },
    {
      "cell_type": "markdown",
      "source": [
        "GRU는 cell state가 없어 RNN과 동일하게 사용 가능합니다.   \n",
        "GRU를 이용하여 LM task를 수행해봅시다."
      ],
      "metadata": {
        "id": "jXVo7i_lgESt"
      }
    },
    {
      "cell_type": "code",
      "source": [
        "gru = nn.GRU(\n",
        "    input_size = embedding_size,\n",
        "    hidden_size = hidden_size,\n",
        "    num_layers = num_layers,\n",
        "    bidirectional = True if num_dirs > 1 else False\n",
        ")\n",
        "\n",
        "output_layer = nn.Linear(hidden_size, vocab_size)"
      ],
      "metadata": {
        "id": "Qk7sRFzXgCx_"
      },
      "execution_count": 8,
      "outputs": []
    },
    {
      "cell_type": "code",
      "source": [
        "input_id = batch.transpose(0,1)[0,:] #(B)\n",
        "hidden = torch.zeros((num_layers * num_dirs, batch.shape[0], hidden_size)) #(1,B, d_h)\n",
        "print(input_id)"
      ],
      "metadata": {
        "colab": {
          "base_uri": "https://localhost:8080/"
        },
        "id": "b8gQSgQOgQma",
        "outputId": "7f380657-9673-4b19-b7b6-b9cc7971780c"
      },
      "execution_count": 11,
      "outputs": [
        {
          "output_type": "stream",
          "name": "stdout",
          "text": [
            "tensor([85, 58, 87, 22, 70, 19, 93, 94, 80, 62])\n"
          ]
        }
      ]
    },
    {
      "cell_type": "code",
      "source": [
        "print(batch)"
      ],
      "metadata": {
        "colab": {
          "base_uri": "https://localhost:8080/"
        },
        "id": "_fuh-C_NgWLD",
        "outputId": "d9f00330-cc12-44bf-c0f4-0fdc3f9a1b72"
      },
      "execution_count": 10,
      "outputs": [
        {
          "output_type": "stream",
          "name": "stdout",
          "text": [
            "tensor([[85, 14, 80, 34, 99, 20, 31, 65, 53, 86,  3, 58, 30,  4, 11,  6, 50, 71,\n",
            "         74, 13],\n",
            "        [58, 13, 40, 61, 88, 18, 92, 89,  8, 14, 61, 67, 49, 59, 45, 12, 47,  5,\n",
            "          0,  0],\n",
            "        [87, 32, 79, 65,  2, 96, 43, 80, 85, 20, 41, 52, 95, 50, 35, 96, 24, 80,\n",
            "          0,  0],\n",
            "        [22,  5, 21, 84, 39,  6,  9, 84, 36, 59, 32, 30, 69, 70, 82, 56,  1,  0,\n",
            "          0,  0],\n",
            "        [70, 28, 30, 24, 76, 84, 92, 76, 77, 51,  7, 20, 82, 94, 57,  0,  0,  0,\n",
            "          0,  0],\n",
            "        [19, 83, 88, 22, 57, 40, 75, 82,  4, 46,  0,  0,  0,  0,  0,  0,  0,  0,\n",
            "          0,  0],\n",
            "        [93, 77, 16, 67, 46, 74, 24, 70,  0,  0,  0,  0,  0,  0,  0,  0,  0,  0,\n",
            "          0,  0],\n",
            "        [94, 21, 79, 24,  3, 86,  0,  0,  0,  0,  0,  0,  0,  0,  0,  0,  0,  0,\n",
            "          0,  0],\n",
            "        [80, 80, 33, 63, 34, 63,  0,  0,  0,  0,  0,  0,  0,  0,  0,  0,  0,  0,\n",
            "          0,  0],\n",
            "        [62, 76, 79, 66, 32,  0,  0,  0,  0,  0,  0,  0,  0,  0,  0,  0,  0,  0,\n",
            "          0,  0]])\n"
          ]
        }
      ]
    },
    {
      "cell_type": "code",
      "source": [],
      "metadata": {
        "id": "Z3JC4Y41gdM_"
      },
      "execution_count": null,
      "outputs": []
    },
    {
      "cell_type": "markdown",
      "source": [
        "Teacher forcing 없이 이전에 얻은 결과를 다음 input으로 이용합니다."
      ],
      "metadata": {
        "id": "xJZD_l81gqYS"
      }
    },
    {
      "cell_type": "code",
      "source": [
        "#sequence의 맨 첫 토큰(input_id)를 gru에 넣어서, 다음 토큰(top_id)를 길이 20만큼 생성하는 모델\n",
        "\n",
        "for t in range(max_len):\n",
        "\n",
        "    input_emb = embedding(input_id).unsqueeze(0) #(1,B, d_w)\n",
        "    output, hidden = gru(input_emb, hidden) #output: (1,B, d_h), hidden: (1,B,d_h)\n",
        "\n",
        "    #V: vocab size\n",
        "    output = output_layer(output) #(1,B,V)\n",
        "    probs, top_id = torch.max(output, dim = -1) #probs: (1,B), top_id:(1,B)\n",
        "\n",
        "    print(\"*\"*50)\n",
        "    print(f\"Time step: {t}\")\n",
        "    print(output.shape)\n",
        "    print(probs.shape)\n",
        "    print(top_id.shape)\n",
        "\n",
        "    input_id = top_id.squeeze(0) #(B)\n",
        "    print(input_id)\n"
      ],
      "metadata": {
        "colab": {
          "base_uri": "https://localhost:8080/"
        },
        "id": "aWf-SUmcgqti",
        "outputId": "79b2dc1d-dcfa-487e-a5af-3188f9ccc56d"
      },
      "execution_count": 13,
      "outputs": [
        {
          "output_type": "stream",
          "name": "stdout",
          "text": [
            "**************************************************\n",
            "Time step: 0\n",
            "torch.Size([1, 10, 100])\n",
            "torch.Size([1, 10])\n",
            "torch.Size([1, 10])\n",
            "tensor([96, 37, 30, 41, 24, 53, 63, 96, 53, 25])\n",
            "**************************************************\n",
            "Time step: 1\n",
            "torch.Size([1, 10, 100])\n",
            "torch.Size([1, 10])\n",
            "torch.Size([1, 10])\n",
            "tensor([83, 25, 30, 41, 74, 53, 49, 83, 53, 71])\n",
            "**************************************************\n",
            "Time step: 2\n",
            "torch.Size([1, 10, 100])\n",
            "torch.Size([1, 10])\n",
            "torch.Size([1, 10])\n",
            "tensor([78, 71, 30,  6, 96, 53, 32, 78, 53, 66])\n",
            "**************************************************\n",
            "Time step: 3\n",
            "torch.Size([1, 10, 100])\n",
            "torch.Size([1, 10])\n",
            "torch.Size([1, 10])\n",
            "tensor([50, 66, 30,  6, 83, 53, 14, 50, 53, 97])\n",
            "**************************************************\n",
            "Time step: 4\n",
            "torch.Size([1, 10, 100])\n",
            "torch.Size([1, 10])\n",
            "torch.Size([1, 10])\n",
            "tensor([78, 97, 30, 14, 78, 53, 24, 78, 53, 59])\n",
            "**************************************************\n",
            "Time step: 5\n",
            "torch.Size([1, 10, 100])\n",
            "torch.Size([1, 10])\n",
            "torch.Size([1, 10])\n",
            "tensor([39, 59, 30,  6, 50, 53, 74, 39, 53, 92])\n",
            "**************************************************\n",
            "Time step: 6\n",
            "torch.Size([1, 10, 100])\n",
            "torch.Size([1, 10])\n",
            "torch.Size([1, 10])\n",
            "tensor([18, 92, 30, 14, 78, 53, 96, 18, 53, 86])\n",
            "**************************************************\n",
            "Time step: 7\n",
            "torch.Size([1, 10, 100])\n",
            "torch.Size([1, 10])\n",
            "torch.Size([1, 10])\n",
            "tensor([ 6, 86, 30, 38, 39, 53, 83,  6, 53, 78])\n",
            "**************************************************\n",
            "Time step: 8\n",
            "torch.Size([1, 10, 100])\n",
            "torch.Size([1, 10])\n",
            "torch.Size([1, 10])\n",
            "tensor([63, 78, 30, 24, 18, 53, 78, 63, 53, 50])\n",
            "**************************************************\n",
            "Time step: 9\n",
            "torch.Size([1, 10, 100])\n",
            "torch.Size([1, 10])\n",
            "torch.Size([1, 10])\n",
            "tensor([49, 50, 30, 74,  6, 53, 50, 49, 53, 78])\n",
            "**************************************************\n",
            "Time step: 10\n",
            "torch.Size([1, 10, 100])\n",
            "torch.Size([1, 10])\n",
            "torch.Size([1, 10])\n",
            "tensor([32, 78, 30, 96, 63, 53, 78, 32, 53, 50])\n",
            "**************************************************\n",
            "Time step: 11\n",
            "torch.Size([1, 10, 100])\n",
            "torch.Size([1, 10])\n",
            "torch.Size([1, 10])\n",
            "tensor([14, 50, 30, 83, 49, 53, 39, 14, 53, 39])\n",
            "**************************************************\n",
            "Time step: 12\n",
            "torch.Size([1, 10, 100])\n",
            "torch.Size([1, 10])\n",
            "torch.Size([1, 10])\n",
            "tensor([24, 39, 30, 38, 32, 53, 18, 24, 53, 18])\n",
            "**************************************************\n",
            "Time step: 13\n",
            "torch.Size([1, 10, 100])\n",
            "torch.Size([1, 10])\n",
            "torch.Size([1, 10])\n",
            "tensor([74, 18, 30, 24, 14, 53,  6, 74, 53,  6])\n",
            "**************************************************\n",
            "Time step: 14\n",
            "torch.Size([1, 10, 100])\n",
            "torch.Size([1, 10])\n",
            "torch.Size([1, 10])\n",
            "tensor([96,  6, 30, 83, 24, 53, 63, 96, 53,  6])\n",
            "**************************************************\n",
            "Time step: 15\n",
            "torch.Size([1, 10, 100])\n",
            "torch.Size([1, 10])\n",
            "torch.Size([1, 10])\n",
            "tensor([83,  6, 30, 78, 74, 53, 49, 83, 53, 63])\n",
            "**************************************************\n",
            "Time step: 16\n",
            "torch.Size([1, 10, 100])\n",
            "torch.Size([1, 10])\n",
            "torch.Size([1, 10])\n",
            "tensor([78, 63, 30, 39, 96, 53, 32, 78, 53, 49])\n",
            "**************************************************\n",
            "Time step: 17\n",
            "torch.Size([1, 10, 100])\n",
            "torch.Size([1, 10])\n",
            "torch.Size([1, 10])\n",
            "tensor([50, 49, 30, 81, 83, 53, 14, 50, 53, 32])\n",
            "**************************************************\n",
            "Time step: 18\n",
            "torch.Size([1, 10, 100])\n",
            "torch.Size([1, 10])\n",
            "torch.Size([1, 10])\n",
            "tensor([78, 32, 30, 81, 78, 53, 24, 78, 53, 14])\n",
            "**************************************************\n",
            "Time step: 19\n",
            "torch.Size([1, 10, 100])\n",
            "torch.Size([1, 10])\n",
            "torch.Size([1, 10])\n",
            "tensor([39, 14, 30, 81, 50, 53, 74, 39, 53, 24])\n"
          ]
        }
      ]
    },
    {
      "cell_type": "markdown",
      "source": [
        "`max_len`만큼의 for 문을 돌면서 모든 결과물의 모양을 확인했지만 만약 종료 조건(예를 들어 문장의 끝을 나타내는 end token 등)이 되면 중간에 생성을 그만둘 수도 있습니다."
      ],
      "metadata": {
        "id": "RuKHA1pEhjPU"
      }
    },
    {
      "cell_type": "code",
      "source": [],
      "metadata": {
        "id": "oLuyBYBxhgP8"
      },
      "execution_count": null,
      "outputs": []
    },
    {
      "cell_type": "markdown",
      "source": [
        "### **양방향 및 여러 layer 사용**"
      ],
      "metadata": {
        "id": "zS2Fp1WPhuXp"
      }
    },
    {
      "cell_type": "markdown",
      "source": [
        "이번엔 양방향 + 2개 이상의 layer를 쓸 때 얻을 수 있는 결과에 대해 알아봅니다."
      ],
      "metadata": {
        "id": "2nbfv7GdhyCA"
      }
    },
    {
      "cell_type": "code",
      "source": [
        "num_layers = 2\n",
        "num_dirs = 2\n",
        "dropout = 0.1\n",
        "\n",
        "gru = nn.GRU(\n",
        "    input_size = embedding_size,\n",
        "    hidden_size = hidden_size,\n",
        "    num_layers = num_layers,\n",
        "    dropout = dropout,\n",
        "    bidirectional = True if num_dirs > 1 else False\n",
        ")"
      ],
      "metadata": {
        "id": "kproNkN_hv7Q"
      },
      "execution_count": 14,
      "outputs": []
    },
    {
      "cell_type": "code",
      "source": [],
      "metadata": {
        "id": "dsEUEY1qh9Z1"
      },
      "execution_count": null,
      "outputs": []
    },
    {
      "cell_type": "markdown",
      "source": [
        "Bidirectional이 되었고 layer의 개수가 $2$로 늘었기 때문에 hidden state의 shape도 `(4, B, d_h)`가 됩니다."
      ],
      "metadata": {
        "id": "_Rh-EFGLh_U7"
      }
    },
    {
      "cell_type": "code",
      "source": [
        "# d_w: word embedding size, num_layers: layer의 개수, num_dirs: 방향의 개수\n",
        "batch_emb = embedding(batch) #(B,L, d_w)\n",
        "h_0 = torch.zeros((num_layers * num_dirs, batch.shape[0], hidden_size)) #(num_layers * num_dirs, B, d_h) =(4,B,d_h)\n",
        "\n",
        "packed_batch  = pack_padded_sequence(batch_emb.transpose(0,1), batch_lens) #unpacking > packing\n",
        "\n",
        "packed_outputs, h_n = gru(packed_batch, h_0)\n",
        "\n",
        "print(packed_outputs)\n",
        "print(packed_outputs[0].shape)\n",
        "print(h_n.shape)"
      ],
      "metadata": {
        "colab": {
          "base_uri": "https://localhost:8080/"
        },
        "id": "SksZ2IJLh_id",
        "outputId": "84658050-9ff2-41de-88cc-a1a583bf9169"
      },
      "execution_count": 15,
      "outputs": [
        {
          "output_type": "stream",
          "name": "stdout",
          "text": [
            "PackedSequence(data=tensor([[-0.1087,  0.0186,  0.0140,  ..., -0.0073, -0.0446, -0.1167],\n",
            "        [-0.1673,  0.1159,  0.0775,  ...,  0.0371,  0.0408, -0.1132],\n",
            "        [-0.0362,  0.0031,  0.0895,  ..., -0.1158,  0.0877,  0.0352],\n",
            "        ...,\n",
            "        [-0.2166, -0.1926, -0.0344,  ...,  0.0584, -0.0657, -0.1129],\n",
            "        [-0.0354, -0.0105, -0.0502,  ...,  0.0617, -0.1308, -0.0194],\n",
            "        [-0.0494, -0.0155, -0.0422,  ..., -0.0141, -0.0173,  0.0516]],\n",
            "       grad_fn=<CatBackward0>), batch_sizes=tensor([10, 10, 10, 10, 10,  9,  7,  7,  6,  6,  5,  5,  5,  5,  5,  4,  4,  3,\n",
            "         1,  1]), sorted_indices=None, unsorted_indices=None)\n",
            "torch.Size([123, 1024])\n",
            "torch.Size([4, 10, 512])\n"
          ]
        }
      ]
    },
    {
      "cell_type": "code",
      "source": [
        "#packing > unpacking\n",
        "\n",
        "outputs, output_lens = pad_packed_sequence(packed_outputs)\n",
        "\n",
        "print(outputs.shape) #(L,B,num_dirs*d_h)\n",
        "print(output_lens) #torch.Size([20, 10, 512]) > torch.Size([20, 10, 1024])"
      ],
      "metadata": {
        "colab": {
          "base_uri": "https://localhost:8080/"
        },
        "id": "3eN7WCEkiYhQ",
        "outputId": "4bf8d4e0-10c3-4aa0-de85-5e986b1faa9b"
      },
      "execution_count": 16,
      "outputs": [
        {
          "output_type": "stream",
          "name": "stdout",
          "text": [
            "torch.Size([20, 10, 1024])\n",
            "tensor([20, 18, 18, 17, 15, 10,  8,  6,  6,  5])\n"
          ]
        }
      ]
    },
    {
      "cell_type": "code",
      "source": [],
      "metadata": {
        "id": "ey8HFWbQimzH"
      },
      "execution_count": null,
      "outputs": []
    },
    {
      "cell_type": "markdown",
      "source": [
        "각각의 결과물의 shape는 다음과 같습니다.\n",
        "\n",
        "`outputs`: `(max_len, batch_size, num_dir * hidden_size)`  \n",
        "`h_n`: `(num_layers*num_dirs, batch_size, hidden_size)`"
      ],
      "metadata": {
        "id": "Rm7DWZpPipQy"
      }
    },
    {
      "cell_type": "code",
      "source": [
        "batch_size = h_n.shape[1]\n",
        "\n",
        "print(h_n.view(num_layers, num_dirs, batch_size, hidden_size))\n",
        "print(h_n.view(num_layers, num_dirs, batch_size, hidden_size).shape)"
      ],
      "metadata": {
        "colab": {
          "base_uri": "https://localhost:8080/"
        },
        "id": "XXgyX8weipeA",
        "outputId": "62076b88-3901-4e67-d84d-a6557522382b"
      },
      "execution_count": 17,
      "outputs": [
        {
          "output_type": "stream",
          "name": "stdout",
          "text": [
            "tensor([[[[-0.0344, -0.0999, -0.0332,  ...,  0.1596, -0.0114,  0.1092],\n",
            "          [ 0.0309,  0.0545, -0.3604,  ...,  0.0787, -0.2013, -0.0200],\n",
            "          [ 0.1993,  0.2800,  0.1776,  ..., -0.0023, -0.0332,  0.0918],\n",
            "          ...,\n",
            "          [-0.2209,  0.0403, -0.0859,  ..., -0.1432, -0.1502,  0.0081],\n",
            "          [ 0.0603,  0.0279,  0.2117,  ...,  0.3436,  0.4257, -0.1044],\n",
            "          [ 0.1715, -0.2391,  0.0117,  ...,  0.0733, -0.3136,  0.3930]],\n",
            "\n",
            "         [[ 0.1796,  0.1758,  0.2883,  ..., -0.0791,  0.0096, -0.1504],\n",
            "          [-0.1571, -0.0368,  0.2900,  ...,  0.1826, -0.2215,  0.3945],\n",
            "          [ 0.3618, -0.2935,  0.0416,  ..., -0.5553,  0.2999,  0.1469],\n",
            "          ...,\n",
            "          [-0.1177,  0.0489,  0.1471,  ...,  0.4341, -0.3699,  0.3331],\n",
            "          [-0.2041, -0.0821,  0.1842,  ..., -0.1407,  0.2886,  0.0604],\n",
            "          [ 0.1708,  0.0786,  0.0387,  ..., -0.1393,  0.1067,  0.0362]]],\n",
            "\n",
            "\n",
            "        [[[-0.0494, -0.0155, -0.0422,  ...,  0.2201,  0.0925, -0.0751],\n",
            "          [-0.3110,  0.0594,  0.3752,  ..., -0.1382, -0.0336, -0.1154],\n",
            "          [-0.2166, -0.1926, -0.0344,  ...,  0.0569,  0.0305, -0.1586],\n",
            "          ...,\n",
            "          [-0.1156, -0.0356, -0.1092,  ...,  0.2780, -0.0760, -0.0554],\n",
            "          [ 0.1800, -0.0748,  0.0018,  ...,  0.2052,  0.1160,  0.1818],\n",
            "          [-0.3155, -0.1447,  0.0160,  ..., -0.0556,  0.0874, -0.0328]],\n",
            "\n",
            "         [[-0.1039,  0.0232, -0.0907,  ..., -0.0073, -0.0446, -0.1167],\n",
            "          [-0.0199, -0.0600, -0.0589,  ...,  0.0371,  0.0408, -0.1132],\n",
            "          [ 0.1855,  0.0373, -0.0503,  ..., -0.1158,  0.0877,  0.0352],\n",
            "          ...,\n",
            "          [ 0.1379,  0.1874,  0.1599,  ...,  0.1935,  0.2051, -0.0764],\n",
            "          [ 0.1996,  0.2535,  0.1649,  ...,  0.0854, -0.0521, -0.0710],\n",
            "          [-0.1163, -0.1136, -0.0907,  ...,  0.0018,  0.1880,  0.3137]]]],\n",
            "       grad_fn=<ViewBackward0>)\n",
            "torch.Size([2, 2, 10, 512])\n"
          ]
        }
      ]
    },
    {
      "cell_type": "code",
      "source": [],
      "metadata": {
        "id": "FyYi3qlqiysk"
      },
      "execution_count": null,
      "outputs": []
    }
  ]
}
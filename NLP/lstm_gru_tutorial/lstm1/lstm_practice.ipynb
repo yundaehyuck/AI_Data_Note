{
  "nbformat": 4,
  "nbformat_minor": 0,
  "metadata": {
    "colab": {
      "provenance": []
    },
    "kernelspec": {
      "name": "python3",
      "display_name": "Python 3"
    },
    "language_info": {
      "name": "python"
    }
  },
  "cells": [
    {
      "cell_type": "markdown",
      "source": [
        "# library"
      ],
      "metadata": {
        "id": "nLqGpmkzzRp6"
      }
    },
    {
      "cell_type": "code",
      "execution_count": 1,
      "metadata": {
        "id": "9lRDG01ozKM1"
      },
      "outputs": [],
      "source": [
        "import torch\n",
        "import torch.optim as optim\n",
        "import numpy as np\n",
        "import matplotlib.pyplot as plt"
      ]
    },
    {
      "cell_type": "code",
      "source": [
        "torch.manual_seed(0)"
      ],
      "metadata": {
        "colab": {
          "base_uri": "https://localhost:8080/"
        },
        "id": "4NtO9lhAzXJa",
        "outputId": "086fe5fc-2b2b-4096-b0b1-7e5758244fab"
      },
      "execution_count": 2,
      "outputs": [
        {
          "output_type": "execute_result",
          "data": {
            "text/plain": [
              "<torch._C.Generator at 0x7fb7bc26cd30>"
            ]
          },
          "metadata": {},
          "execution_count": 2
        }
      ]
    },
    {
      "cell_type": "code",
      "source": [
        "seq_length = 7\n",
        "data_dim = 5\n",
        "hidden_dim = 10\n",
        "output_dim = 1\n",
        "learning_rate = 0.01\n",
        "iterations = 500"
      ],
      "metadata": {
        "id": "ywaImjgczb-l"
      },
      "execution_count": 3,
      "outputs": []
    },
    {
      "cell_type": "code",
      "source": [
        "def minmax_scaler(data):\n",
        "\n",
        "    numerator = data - np.min(data,0)\n",
        "    denominator = np.max(data, 0) - np.min(data, 0)\n",
        "\n",
        "    return numerator/(denominator + 1e-7)"
      ],
      "metadata": {
        "id": "1y5HeX6G1DaD"
      },
      "execution_count": 4,
      "outputs": []
    },
    {
      "cell_type": "code",
      "source": [
        "def build_dataset(time_series, seq_length):\n",
        "\n",
        "    dataX = []\n",
        "    dataY = []\n",
        "\n",
        "    for i in range(0, len(time_series) - seq_length):\n",
        "\n",
        "        _x = time_series[i:i+seq_length, :]\n",
        "        _y = time_series[i+seq_length, [-1]]\n",
        "\n",
        "        print(_x, '->', _y)\n",
        "\n",
        "        dataX.append(_x)\n",
        "        dataY.append(_y)\n",
        "\n",
        "    return np.array(dataX), np.array(dataY)"
      ],
      "metadata": {
        "id": "uIorMDYu30Z-"
      },
      "execution_count": 5,
      "outputs": []
    },
    {
      "cell_type": "code",
      "source": [],
      "metadata": {
        "id": "toQyhxxX4J_y"
      },
      "execution_count": null,
      "outputs": []
    },
    {
      "cell_type": "markdown",
      "source": [
        "# dataset(stock price)"
      ],
      "metadata": {
        "id": "GN9viQbz4_IY"
      }
    },
    {
      "cell_type": "code",
      "source": [
        "xy = np.loadtxt('/content/data-02-stock_daily.csv', delimiter = ',')\n",
        "xy = xy[::-1]\n",
        "\n",
        "train_size = int(len(xy) * 0.7)\n",
        "train_set = xy[0:train_size]\n",
        "test_set = xy[train_size - seq_length:]"
      ],
      "metadata": {
        "id": "5H7_sEOm4_3E"
      },
      "execution_count": 6,
      "outputs": []
    },
    {
      "cell_type": "code",
      "source": [
        "train_set = minmax_scaler(train_set)\n",
        "test_set = minmax_scaler(test_set)"
      ],
      "metadata": {
        "id": "bagKgKsG5OT2"
      },
      "execution_count": 7,
      "outputs": []
    },
    {
      "cell_type": "code",
      "source": [
        "trainX,trainY = build_dataset(train_set, seq_length)\n",
        "testX,testY = build_dataset(test_set, seq_length)"
      ],
      "metadata": {
        "id": "Y1cETV3l5SvY"
      },
      "execution_count": null,
      "outputs": []
    },
    {
      "cell_type": "code",
      "source": [
        "trainX_tensor = torch.FloatTensor(trainX)\n",
        "trainY_tensor = torch.FloatTensor(trainY)\n",
        "\n",
        "testX_tensor = torch.FloatTensor(testX)\n",
        "testY_tensor = torch.FloatTensor(testY)"
      ],
      "metadata": {
        "id": "UPPHR39c5nbM"
      },
      "execution_count": 9,
      "outputs": []
    },
    {
      "cell_type": "code",
      "source": [],
      "metadata": {
        "id": "syJ3KsO36kqW"
      },
      "execution_count": null,
      "outputs": []
    },
    {
      "cell_type": "markdown",
      "source": [
        "# model"
      ],
      "metadata": {
        "id": "SVq5sWXs6mc0"
      }
    },
    {
      "cell_type": "code",
      "source": [
        "class Net(torch.nn.Module):\n",
        "\n",
        "    def __init__(self, input_dim, hidden_dim, output_dim, layers):\n",
        "\n",
        "        super(Net, self).__init__()\n",
        "        self.rnn = torch.nn.LSTM(input_dim, hidden_dim, num_layers = layers, batch_first = True)\n",
        "        self.fc = torch.nn.Linear(hidden_dim, output_dim, bias = True)\n",
        "\n",
        "    def forward(self, x):\n",
        "\n",
        "        x, _status = self.rnn(x)\n",
        "\n",
        "        x = self.fc(x[:,-1])\n",
        "\n",
        "        return x"
      ],
      "metadata": {
        "id": "pOdScSnX6nJl"
      },
      "execution_count": 10,
      "outputs": []
    },
    {
      "cell_type": "code",
      "source": [
        "net = Net(data_dim, hidden_dim, output_dim, 1)"
      ],
      "metadata": {
        "id": "5Ugfzujx69pb"
      },
      "execution_count": 11,
      "outputs": []
    },
    {
      "cell_type": "code",
      "source": [],
      "metadata": {
        "id": "5tMrEcB97EWH"
      },
      "execution_count": null,
      "outputs": []
    },
    {
      "cell_type": "markdown",
      "source": [
        "# training"
      ],
      "metadata": {
        "id": "KQbR3PSg7QEl"
      }
    },
    {
      "cell_type": "code",
      "source": [
        "criterion = torch.nn.MSELoss()\n",
        "optimizer = optim.Adam(net.parameters(), lr = learning_rate)"
      ],
      "metadata": {
        "id": "7n2nRerM7R4m"
      },
      "execution_count": 12,
      "outputs": []
    },
    {
      "cell_type": "code",
      "source": [
        "net.train()\n",
        "\n",
        "for i in range(iterations):\n",
        "\n",
        "    optimizer.zero_grad()\n",
        "\n",
        "    outputs = net(trainX_tensor)\n",
        "\n",
        "    loss = criterion(outputs, trainY_tensor)\n",
        "\n",
        "    loss.backward()\n",
        "\n",
        "    optimizer.step()\n",
        "\n",
        "    print(i, loss.item())"
      ],
      "metadata": {
        "id": "k00a5VvI7Y-h",
        "colab": {
          "base_uri": "https://localhost:8080/"
        },
        "outputId": "bd7e2536-73b1-48e4-b755-6f81a52ce1dc"
      },
      "execution_count": 13,
      "outputs": [
        {
          "output_type": "stream",
          "name": "stdout",
          "text": [
            "0 0.2271038144826889\n",
            "1 0.18340934813022614\n",
            "2 0.15106436610221863\n",
            "3 0.1261231154203415\n",
            "4 0.10598734021186829\n",
            "5 0.08915016800165176\n",
            "6 0.07493706047534943\n",
            "7 0.06327900290489197\n",
            "8 0.05449602007865906\n",
            "9 0.04902385175228119\n",
            "10 0.04693441092967987\n",
            "11 0.04731706157326698\n",
            "12 0.04838263615965843\n",
            "13 0.04839476943016052\n",
            "14 0.04633765667676926\n",
            "15 0.04207770526409149\n",
            "16 0.03620168939232826\n",
            "17 0.029662001878023148\n",
            "18 0.023386556655168533\n",
            "19 0.01801123283803463\n",
            "20 0.01380065269768238\n",
            "21 0.01071464829146862\n",
            "22 0.008532215841114521\n",
            "23 0.006976505275815725\n",
            "24 0.005824481137096882\n",
            "25 0.004987422376871109\n",
            "26 0.0045247129164636135\n",
            "27 0.004554683342576027\n",
            "28 0.005089899525046349\n",
            "29 0.005920968484133482\n",
            "30 0.0066848923452198505\n",
            "31 0.00707267364487052\n",
            "32 0.006973988842219114\n",
            "33 0.006471903529018164\n",
            "34 0.005753519479185343\n",
            "35 0.005014692898839712\n",
            "36 0.0043952916748821735\n",
            "37 0.003953743726015091\n",
            "38 0.0036766387056559324\n",
            "39 0.0035109836608171463\n",
            "40 0.0034013083204627037\n",
            "41 0.003315107664093375\n",
            "42 0.0032488941214978695\n",
            "43 0.0032176589593291283\n",
            "44 0.003236821386963129\n",
            "45 0.003306496888399124\n",
            "46 0.0034053216222673655\n",
            "47 0.00349647575058043\n",
            "48 0.003542704973369837\n",
            "49 0.003522351384162903\n",
            "50 0.0034377751871943474\n",
            "51 0.0033120778389275074\n",
            "52 0.0031768425833433867\n",
            "53 0.003058065427467227\n",
            "54 0.0029673369135707617\n",
            "55 0.0029015352483838797\n",
            "56 0.0028495886363089085\n",
            "57 0.0028016099240630865\n",
            "58 0.002755215857177973\n",
            "59 0.0027159471064805984\n",
            "60 0.002692190930247307\n",
            "61 0.0026880998630076647\n",
            "62 0.002699241042137146\n",
            "63 0.00271393358707428\n",
            "64 0.0027194488793611526\n",
            "65 0.0027088343631476164\n",
            "66 0.0026837794575840235\n",
            "67 0.0026519810780882835\n",
            "68 0.0026213633827865124\n",
            "69 0.002595387864857912\n",
            "70 0.002572401659563184\n",
            "71 0.0025487523525953293\n",
            "72 0.002522775437682867\n",
            "73 0.002496538683772087\n",
            "74 0.0024743089452385902\n",
            "75 0.0024592578411102295\n",
            "76 0.002451096661388874\n",
            "77 0.002446331549435854\n",
            "78 0.0024407473392784595\n",
            "79 0.0024320504162460566\n",
            "80 0.00242073112167418\n",
            "81 0.0024087713100016117\n",
            "82 0.002397561213001609\n",
            "83 0.0023867872077971697\n",
            "84 0.0023750211112201214\n",
            "85 0.0023612724617123604\n",
            "86 0.0023460499942302704\n",
            "87 0.00233107409439981\n",
            "88 0.0023179801646620035\n",
            "89 0.0023071777541190386\n",
            "90 0.002297801896929741\n",
            "91 0.0022886660881340504\n",
            "92 0.002279277192428708\n",
            "93 0.002270008670166135\n",
            "94 0.0022614251356571913\n",
            "95 0.0022535244934260845\n",
            "96 0.0022456501610577106\n",
            "97 0.00223709549754858\n",
            "98 0.002227736869826913\n",
            "99 0.0022180911619216204\n",
            "100 0.0022087993565946817\n",
            "101 0.0022000966127961874\n",
            "102 0.0021917568519711494\n",
            "103 0.0021834815852344036\n",
            "104 0.002175265923142433\n",
            "105 0.002167372265830636\n",
            "106 0.0021599973551928997\n",
            "107 0.0021530301310122013\n",
            "108 0.0021461460273712873\n",
            "109 0.002139105461537838\n",
            "110 0.0021319305524230003\n",
            "111 0.0021248015109449625\n",
            "112 0.0021178298629820347\n",
            "113 0.002110959030687809\n",
            "114 0.002104078885167837\n",
            "115 0.002097188727930188\n",
            "116 0.002090411726385355\n",
            "117 0.0020838663913309574\n",
            "118 0.002077546902000904\n",
            "119 0.002071348950266838\n",
            "120 0.0020651917438954115\n",
            "121 0.0020590845961123705\n",
            "122 0.0020530810579657555\n",
            "123 0.0020471890456974506\n",
            "124 0.0020413543097674847\n",
            "125 0.0020355263259261847\n",
            "126 0.0020297158043831587\n",
            "127 0.002023977693170309\n",
            "128 0.0020183445885777473\n",
            "129 0.002012800658121705\n",
            "130 0.0020073154009878635\n",
            "131 0.0020018871873617172\n",
            "132 0.0019965393003076315\n",
            "133 0.00199128407984972\n",
            "134 0.001986101968213916\n",
            "135 0.0019809650257229805\n",
            "136 0.0019758634734898806\n",
            "137 0.0019708110485225916\n",
            "138 0.0019658184610307217\n",
            "139 0.0019608784932643175\n",
            "140 0.0019559806678444147\n",
            "141 0.0019511240534484386\n",
            "142 0.0019463211065158248\n",
            "143 0.0019415795104578137\n",
            "144 0.0019368936773389578\n",
            "145 0.0019322532461956143\n",
            "146 0.0019276554230600595\n",
            "147 0.00192310381680727\n",
            "148 0.0019185986602678895\n",
            "149 0.0019141352968290448\n",
            "150 0.0019097065087407827\n",
            "151 0.0019053128780797124\n",
            "152 0.0019009597599506378\n",
            "153 0.0018966482020914555\n",
            "154 0.0018923759926110506\n",
            "155 0.0018881402211263776\n",
            "156 0.00188394112046808\n",
            "157 0.0018797805532813072\n",
            "158 0.0018756574718281627\n",
            "159 0.0018715685000643134\n",
            "160 0.0018675117753446102\n",
            "161 0.0018634869484230876\n",
            "162 0.0018594949506223202\n",
            "163 0.0018555353162810206\n",
            "164 0.0018516061827540398\n",
            "165 0.001847707200795412\n",
            "166 0.0018438384868204594\n",
            "167 0.0018400010885670781\n",
            "168 0.0018361933762207627\n",
            "169 0.0018324144184589386\n",
            "170 0.0018286636332049966\n",
            "171 0.0018249412532895803\n",
            "172 0.0018212462309747934\n",
            "173 0.0018175776349380612\n",
            "174 0.0018139355815947056\n",
            "175 0.0018103193724527955\n",
            "176 0.0018067284254357219\n",
            "177 0.001803163206204772\n",
            "178 0.0017996231326833367\n",
            "179 0.0017961070407181978\n",
            "180 0.001792615745216608\n",
            "181 0.0017891484312713146\n",
            "182 0.0017857048660516739\n",
            "183 0.0017822841182351112\n",
            "184 0.0017788864206522703\n",
            "185 0.0017755114240571856\n",
            "186 0.001772157964296639\n",
            "187 0.0017688270891085267\n",
            "188 0.0017655175179243088\n",
            "189 0.001762229367159307\n",
            "190 0.0017589631024748087\n",
            "191 0.0017557169776409864\n",
            "192 0.0017524915747344494\n",
            "193 0.0017492863116785884\n",
            "194 0.0017461017705500126\n",
            "195 0.0017429370200261474\n",
            "196 0.0017397914780303836\n",
            "197 0.0017366656102240086\n",
            "198 0.001733558252453804\n",
            "199 0.0017304705688729882\n",
            "200 0.001727401395328343\n",
            "201 0.00172435084823519\n",
            "202 0.0017213181126862764\n",
            "203 0.0017183038871735334\n",
            "204 0.0017153078224509954\n",
            "205 0.0017123291036114097\n",
            "206 0.0017093679634854198\n",
            "207 0.0017064245184883475\n",
            "208 0.0017034979537129402\n",
            "209 0.0017005885019898415\n",
            "210 0.001697695697657764\n",
            "211 0.0016948196571320295\n",
            "212 0.0016919601475819945\n",
            "213 0.0016891168197616935\n",
            "214 0.0016862897900864482\n",
            "215 0.0016834790585562587\n",
            "216 0.001680683926679194\n",
            "217 0.0016779042780399323\n",
            "218 0.0016751406947150826\n",
            "219 0.0016723923617973924\n",
            "220 0.0016696590464562178\n",
            "221 0.0016669409815222025\n",
            "222 0.0016642380505800247\n",
            "223 0.0016615501372143626\n",
            "224 0.0016588765429332852\n",
            "225 0.001656218315474689\n",
            "226 0.001653574057854712\n",
            "227 0.0016509441193193197\n",
            "228 0.0016483283834531903\n",
            "229 0.0016457269666716456\n",
            "230 0.0016431392868980765\n",
            "231 0.0016405658097937703\n",
            "232 0.0016380059532821178\n",
            "233 0.001635459833778441\n",
            "234 0.0016329273348674178\n",
            "235 0.0016304079908877611\n",
            "236 0.0016279025003314018\n",
            "237 0.0016254099318757653\n",
            "238 0.0016229305183514953\n",
            "239 0.001620464026927948\n",
            "240 0.0016180106904357672\n",
            "241 0.0016155701596289873\n",
            "242 0.0016131425509229302\n",
            "243 0.001610727165825665\n",
            "244 0.0016083241207525134\n",
            "245 0.0016059342306107283\n",
            "246 0.0016035564476624131\n",
            "247 0.0016011910047382116\n",
            "248 0.0015988374361768365\n",
            "249 0.001596496207639575\n",
            "250 0.0015941672027111053\n",
            "251 0.0015918498393148184\n",
            "252 0.0015895441174507141\n",
            "253 0.0015872509684413671\n",
            "254 0.00158496864605695\n",
            "255 0.0015826980816200376\n",
            "256 0.0015804395079612732\n",
            "257 0.0015781923430040479\n",
            "258 0.0015759560046717525\n",
            "259 0.0015737314242869616\n",
            "260 0.0015715179033577442\n",
            "261 0.001569315674714744\n",
            "262 0.0015671242726966739\n",
            "263 0.0015649441629648209\n",
            "264 0.001562774763442576\n",
            "265 0.0015606164233759046\n",
            "266 0.0015584684442728758\n",
            "267 0.0015563317574560642\n",
            "268 0.001554205548018217\n",
            "269 0.0015520895831286907\n",
            "270 0.0015499844448640943\n",
            "271 0.0015478896675631404\n",
            "272 0.0015458049019798636\n",
            "273 0.0015437309630215168\n",
            "274 0.0015416668029502034\n",
            "275 0.0015396133530884981\n",
            "276 0.0015375695656985044\n",
            "277 0.001535535673610866\n",
            "278 0.0015335120260715485\n",
            "279 0.001531498390249908\n",
            "280 0.0015294944168999791\n",
            "281 0.0015275002224370837\n",
            "282 0.0015255159232765436\n",
            "283 0.0015235409373417497\n",
            "284 0.0015215756138786674\n",
            "285 0.0015196198364719748\n",
            "286 0.0015176739543676376\n",
            "287 0.0015157368034124374\n",
            "288 0.0015138094313442707\n",
            "289 0.0015118911396712065\n",
            "290 0.0015099822776392102\n",
            "291 0.0015080823795869946\n",
            "292 0.0015061915619298816\n",
            "293 0.0015043095918372273\n",
            "294 0.0015024365857243538\n",
            "295 0.0015005726600065827\n",
            "296 0.0014987175818532705\n",
            "297 0.0014968712348490953\n",
            "298 0.0014950333861634135\n",
            "299 0.0014932042686268687\n",
            "300 0.0014913837658241391\n",
            "301 0.0014895721105858684\n",
            "302 0.0014877687208354473\n",
            "303 0.0014859734801575541\n",
            "304 0.0014841867377981544\n",
            "305 0.0014824082609266043\n",
            "306 0.0014806378167122602\n",
            "307 0.0014788759872317314\n",
            "308 0.0014771218411624432\n",
            "309 0.0014753759605810046\n",
            "310 0.0014736376469954848\n",
            "311 0.0014719078317284584\n",
            "312 0.0014701851177960634\n",
            "313 0.00146847078576684\n",
            "314 0.0014667637879028916\n",
            "315 0.001465065055526793\n",
            "316 0.0014633731916546822\n",
            "317 0.0014616893604397774\n",
            "318 0.0014600129798054695\n",
            "319 0.0014583434676751494\n",
            "320 0.0014566817553713918\n",
            "321 0.0014550272608175874\n",
            "322 0.0014533803332597017\n",
            "323 0.001451740157790482\n",
            "324 0.0014501066179946065\n",
            "325 0.001448481110855937\n",
            "326 0.0014468624722212553\n",
            "327 0.001445250352844596\n",
            "328 0.0014436451019719243\n",
            "329 0.0014420471852645278\n",
            "330 0.0014404557878151536\n",
            "331 0.0014388707932084799\n",
            "332 0.0014372925506904721\n",
            "333 0.001435721293091774\n",
            "334 0.0014341563219204545\n",
            "335 0.001432598102837801\n",
            "336 0.0014310461701825261\n",
            "337 0.00142950052395463\n",
            "338 0.001427961396984756\n",
            "339 0.001426428440026939\n",
            "340 0.0014249020023271441\n",
            "341 0.0014233816182240844\n",
            "342 0.0014218674041330814\n",
            "343 0.001420359592884779\n",
            "344 0.0014188577188178897\n",
            "345 0.0014173620147630572\n",
            "346 0.0014158723643049598\n",
            "347 0.0014143887674435973\n",
            "348 0.0014129113405942917\n",
            "349 0.001411439385265112\n",
            "350 0.0014099737163633108\n",
            "351 0.0014085142174735665\n",
            "352 0.0014070601901039481\n",
            "353 0.0014056124491617084\n",
            "354 0.0014041701797395945\n",
            "355 0.0014027344295755029\n",
            "356 0.0014013039181008935\n",
            "357 0.0013998799258843064\n",
            "358 0.0013984612887725234\n",
            "359 0.0013970487052574754\n",
            "360 0.0013956421753391623\n",
            "361 0.0013942415826022625\n",
            "362 0.0013928471598774195\n",
            "363 0.0013914589071646333\n",
            "364 0.001390076125971973\n",
            "365 0.001388699747622013\n",
            "366 0.001387329655699432\n",
            "367 0.0013859651517122984\n",
            "368 0.0013846073998138309\n",
            "369 0.0013832555850967765\n",
            "370 0.0013819101732224226\n",
            "371 0.0013805716298520565\n",
            "372 0.0013792390236631036\n",
            "373 0.0013779130531474948\n",
            "374 0.0013765937183052301\n",
            "375 0.001375281484797597\n",
            "376 0.0013739755377173424\n",
            "377 0.0013726766919717193\n",
            "378 0.0013713850639760494\n",
            "379 0.0013700999552384019\n",
            "380 0.0013688221806660295\n",
            "381 0.0013675520895048976\n",
            "382 0.0013662895653396845\n",
            "383 0.0013650335604324937\n",
            "384 0.0013637860538437963\n",
            "385 0.0013625462306663394\n",
            "386 0.0013613137416541576\n",
            "387 0.0013600896345451474\n",
            "388 0.0013588734436780214\n",
            "389 0.0013576657511293888\n",
            "390 0.0013564659748226404\n",
            "391 0.0013552745804190636\n",
            "392 0.0013540922664105892\n",
            "393 0.0013529183343052864\n",
            "394 0.0013517533661797643\n",
            "395 0.0013505970127880573\n",
            "396 0.001349449623376131\n",
            "397 0.0013483116636052728\n",
            "398 0.0013471825513988733\n",
            "399 0.0013460628688335419\n",
            "400 0.001344952848739922\n",
            "401 0.0013438520254567266\n",
            "402 0.0013427608646452427\n",
            "403 0.001341679017059505\n",
            "404 0.001340607414022088\n",
            "405 0.0013395450077950954\n",
            "406 0.0013384924968704581\n",
            "407 0.001337449881248176\n",
            "408 0.0013364172773435712\n",
            "409 0.0013353948015719652\n",
            "410 0.0013343822211027145\n",
            "411 0.0013333793031051755\n",
            "412 0.0013323863968253136\n",
            "413 0.0013314037350937724\n",
            "414 0.0013304308522492647\n",
            "415 0.001329468097537756\n",
            "416 0.0013285158202052116\n",
            "417 0.0013275723904371262\n",
            "418 0.001326639438048005\n",
            "419 0.001325716613791883\n",
            "420 0.0013248033355921507\n",
            "421 0.0013238998362794518\n",
            "422 0.0013230062322691083\n",
            "423 0.0013221217086538672\n",
            "424 0.0013212475460022688\n",
            "425 0.0013203825801610947\n",
            "426 0.0013195271603763103\n",
            "427 0.0013186808209866285\n",
            "428 0.0013178435619920492\n",
            "429 0.0013170159654691815\n",
            "430 0.0013161974493414164\n",
            "431 0.0013153873151168227\n",
            "432 0.0013145864941179752\n",
            "433 0.0013137944042682648\n",
            "434 0.0013130104634910822\n",
            "435 0.0013122353702783585\n",
            "436 0.001311468775384128\n",
            "437 0.001310710096731782\n",
            "438 0.0013099597999826074\n",
            "439 0.001309217419475317\n",
            "440 0.0013084833044558764\n",
            "441 0.0013077566400170326\n",
            "442 0.0013070375425741076\n",
            "443 0.0013063261285424232\n",
            "444 0.0013056218158453703\n",
            "445 0.0013049248373135924\n",
            "446 0.001304234960116446\n",
            "447 0.0013035523006692529\n",
            "448 0.0013028763933107257\n",
            "449 0.0013022071216255426\n",
            "450 0.0013015446020290256\n",
            "451 0.0013008883688598871\n",
            "452 0.0013002387713640928\n",
            "453 0.0012995951110497117\n",
            "454 0.0012989576207473874\n",
            "455 0.0012983261840417981\n",
            "456 0.001297700684517622\n",
            "457 0.0012970808893442154\n",
            "458 0.0012964664492756128\n",
            "459 0.0012958574807271361\n",
            "460 0.001295254216529429\n",
            "461 0.0012946564238518476\n",
            "462 0.001294063520617783\n",
            "463 0.0012934753904119134\n",
            "464 0.001292892498895526\n",
            "465 0.001292314613237977\n",
            "466 0.0012917412677779794\n",
            "467 0.001291172462515533\n",
            "468 0.0012906083138659596\n",
            "469 0.0012900487054139376\n",
            "470 0.0012894932879135013\n",
            "471 0.0012889422941952944\n",
            "472 0.0012883951421827078\n",
            "473 0.0012878524139523506\n",
            "474 0.00128731329459697\n",
            "475 0.0012867783661931753\n",
            "476 0.0012862470466643572\n",
            "477 0.0012857193360105157\n",
            "478 0.0012851952342316508\n",
            "479 0.001284675090573728\n",
            "480 0.0012841583229601383\n",
            "481 0.0012836449313908815\n",
            "482 0.0012831344502046704\n",
            "483 0.0012826274614781141\n",
            "484 0.0012821238487958908\n",
            "485 0.0012816231464967132\n",
            "486 0.0012811258202418685\n",
            "487 0.0012806311715394258\n",
            "488 0.0012801394332200289\n",
            "489 0.001279650372453034\n",
            "490 0.0012791645713150501\n",
            "491 0.0012786810984835029\n",
            "492 0.0012782004196196795\n",
            "493 0.001277722418308258\n",
            "494 0.001277246861718595\n",
            "495 0.001276773982681334\n",
            "496 0.001276303199119866\n",
            "497 0.0012758348602801561\n",
            "498 0.0012753693154081702\n",
            "499 0.0012749055167660117\n"
          ]
        }
      ]
    },
    {
      "cell_type": "markdown",
      "source": [
        "# test"
      ],
      "metadata": {
        "id": "tIE8f-Sp8Brw"
      }
    },
    {
      "cell_type": "code",
      "source": [
        "plt.plot(testY)\n",
        "plt.plot(net(testX_tensor).data.numpy())\n",
        "plt.legend(['original','prediction'])\n",
        "plt.show()"
      ],
      "metadata": {
        "colab": {
          "base_uri": "https://localhost:8080/",
          "height": 430
        },
        "id": "epLuyLvf7lek",
        "outputId": "a6874c49-4465-43eb-f65b-47443aab0ada"
      },
      "execution_count": null,
      "outputs": [
        {
          "output_type": "display_data",
          "data": {
            "text/plain": [
              "<Figure size 640x480 with 1 Axes>"
            ],
            "image/png": "[encoded data removed]"
          },
          "metadata": {}
        }
      ]
    },
    {
      "cell_type": "code",
      "source": [
        "net.eval()\n",
        "\n",
        "plt.plot(testY)\n",
        "plt.plot(net(testX_tensor).data.numpy())\n",
        "plt.legend(['original','prediction'])\n",
        "plt.show()"
      ],
      "metadata": {
        "id": "UX9yLO638GTl",
        "colab": {
          "base_uri": "https://localhost:8080/",
          "height": 430
        },
        "outputId": "e0e9706c-5016-4c1e-ff47-920434ca1e91"
      },
      "execution_count": 14,
      "outputs": [
        {
          "output_type": "display_data",
          "data": {
            "text/plain": [
              "<Figure size 640x480 with 1 Axes>"
            ],
            "image/png": "[encoded data removed]"
          },
          "metadata": {}
        }
      ]
    },
    {
      "cell_type": "code",
      "source": [],
      "metadata": {
        "id": "F4LRQAceZ9x-"
      },
      "execution_count": null,
      "outputs": []
    }
  ]
}
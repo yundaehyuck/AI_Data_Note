{
  "nbformat": 4,
  "nbformat_minor": 0,
  "metadata": {
    "colab": {
      "provenance": [],
      "gpuType": "T4"
    },
    "kernelspec": {
      "name": "python3",
      "display_name": "Python 3"
    },
    "language_info": {
      "name": "python"
    },
    "accelerator": "GPU",
    "widgets": {
      "application/vnd.jupyter.widget-state+json": {
        "fe953b39e0a54c8db534bb829bc2b0cb": {
          "model_module": "@jupyter-widgets/controls",
          "model_name": "HBoxModel",
          "model_module_version": "1.5.0",
          "state": {
            "_dom_classes": [],
            "_model_module": "@jupyter-widgets/controls",
            "_model_module_version": "1.5.0",
            "_model_name": "HBoxModel",
            "_view_count": null,
            "_view_module": "@jupyter-widgets/controls",
            "_view_module_version": "1.5.0",
            "_view_name": "HBoxView",
            "box_style": "",
            "children": [
              "IPY_MODEL_77fe8dc1e06e45159266535d5341e771",
              "IPY_MODEL_3e76ef67aede4f0f82dedf522429be76",
              "IPY_MODEL_f8dff48e1c8d406a804f3ad93c97caf3"
            ],
            "layout": "IPY_MODEL_fc9b188bb023414a993d59714bcc6166"
          }
        },
        "77fe8dc1e06e45159266535d5341e771": {
          "model_module": "@jupyter-widgets/controls",
          "model_name": "HTMLModel",
          "model_module_version": "1.5.0",
          "state": {
            "_dom_classes": [],
            "_model_module": "@jupyter-widgets/controls",
            "_model_module_version": "1.5.0",
            "_model_name": "HTMLModel",
            "_view_count": null,
            "_view_module": "@jupyter-widgets/controls",
            "_view_module_version": "1.5.0",
            "_view_name": "HTMLView",
            "description": "",
            "description_tooltip": null,
            "layout": "IPY_MODEL_ed141e28cb01422c996f462a77d4cf81",
            "placeholder": "​",
            "style": "IPY_MODEL_61c40cdc4ed649be8dc966509b9b029d",
            "value": "100%"
          }
        },
        "3e76ef67aede4f0f82dedf522429be76": {
          "model_module": "@jupyter-widgets/controls",
          "model_name": "FloatProgressModel",
          "model_module_version": "1.5.0",
          "state": {
            "_dom_classes": [],
            "_model_module": "@jupyter-widgets/controls",
            "_model_module_version": "1.5.0",
            "_model_name": "FloatProgressModel",
            "_view_count": null,
            "_view_module": "@jupyter-widgets/controls",
            "_view_module_version": "1.5.0",
            "_view_name": "ProgressView",
            "bar_style": "success",
            "description": "",
            "description_tooltip": null,
            "layout": "IPY_MODEL_72a85492200a4f55b091336532949d69",
            "max": 20,
            "min": 0,
            "orientation": "horizontal",
            "style": "IPY_MODEL_c5696b874cbd476b8bba8e2617c6d5e4",
            "value": 20
          }
        },
        "f8dff48e1c8d406a804f3ad93c97caf3": {
          "model_module": "@jupyter-widgets/controls",
          "model_name": "HTMLModel",
          "model_module_version": "1.5.0",
          "state": {
            "_dom_classes": [],
            "_model_module": "@jupyter-widgets/controls",
            "_model_module_version": "1.5.0",
            "_model_name": "HTMLModel",
            "_view_count": null,
            "_view_module": "@jupyter-widgets/controls",
            "_view_module_version": "1.5.0",
            "_view_name": "HTMLView",
            "description": "",
            "description_tooltip": null,
            "layout": "IPY_MODEL_791881cf0fa8440aabc30d36f4c1017a",
            "placeholder": "​",
            "style": "IPY_MODEL_7ff7f24860814545b983f3f6df1f0b1d",
            "value": " 20/20 [00:05&lt;00:00,  4.89it/s]"
          }
        },
        "fc9b188bb023414a993d59714bcc6166": {
          "model_module": "@jupyter-widgets/base",
          "model_name": "LayoutModel",
          "model_module_version": "1.2.0",
          "state": {
            "_model_module": "@jupyter-widgets/base",
            "_model_module_version": "1.2.0",
            "_model_name": "LayoutModel",
            "_view_count": null,
            "_view_module": "@jupyter-widgets/base",
            "_view_module_version": "1.2.0",
            "_view_name": "LayoutView",
            "align_content": null,
            "align_items": null,
            "align_self": null,
            "border": null,
            "bottom": null,
            "display": null,
            "flex": null,
            "flex_flow": null,
            "grid_area": null,
            "grid_auto_columns": null,
            "grid_auto_flow": null,
            "grid_auto_rows": null,
            "grid_column": null,
            "grid_gap": null,
            "grid_row": null,
            "grid_template_areas": null,
            "grid_template_columns": null,
            "grid_template_rows": null,
            "height": null,
            "justify_content": null,
            "justify_items": null,
            "left": null,
            "margin": null,
            "max_height": null,
            "max_width": null,
            "min_height": null,
            "min_width": null,
            "object_fit": null,
            "object_position": null,
            "order": null,
            "overflow": null,
            "overflow_x": null,
            "overflow_y": null,
            "padding": null,
            "right": null,
            "top": null,
            "visibility": null,
            "width": null
          }
        },
        "ed141e28cb01422c996f462a77d4cf81": {
          "model_module": "@jupyter-widgets/base",
          "model_name": "LayoutModel",
          "model_module_version": "1.2.0",
          "state": {
            "_model_module": "@jupyter-widgets/base",
            "_model_module_version": "1.2.0",
            "_model_name": "LayoutModel",
            "_view_count": null,
            "_view_module": "@jupyter-widgets/base",
            "_view_module_version": "1.2.0",
            "_view_name": "LayoutView",
            "align_content": null,
            "align_items": null,
            "align_self": null,
            "border": null,
            "bottom": null,
            "display": null,
            "flex": null,
            "flex_flow": null,
            "grid_area": null,
            "grid_auto_columns": null,
            "grid_auto_flow": null,
            "grid_auto_rows": null,
            "grid_column": null,
            "grid_gap": null,
            "grid_row": null,
            "grid_template_areas": null,
            "grid_template_columns": null,
            "grid_template_rows": null,
            "height": null,
            "justify_content": null,
            "justify_items": null,
            "left": null,
            "margin": null,
            "max_height": null,
            "max_width": null,
            "min_height": null,
            "min_width": null,
            "object_fit": null,
            "object_position": null,
            "order": null,
            "overflow": null,
            "overflow_x": null,
            "overflow_y": null,
            "padding": null,
            "right": null,
            "top": null,
            "visibility": null,
            "width": null
          }
        },
        "61c40cdc4ed649be8dc966509b9b029d": {
          "model_module": "@jupyter-widgets/controls",
          "model_name": "DescriptionStyleModel",
          "model_module_version": "1.5.0",
          "state": {
            "_model_module": "@jupyter-widgets/controls",
            "_model_module_version": "1.5.0",
            "_model_name": "DescriptionStyleModel",
            "_view_count": null,
            "_view_module": "@jupyter-widgets/base",
            "_view_module_version": "1.2.0",
            "_view_name": "StyleView",
            "description_width": ""
          }
        },
        "72a85492200a4f55b091336532949d69": {
          "model_module": "@jupyter-widgets/base",
          "model_name": "LayoutModel",
          "model_module_version": "1.2.0",
          "state": {
            "_model_module": "@jupyter-widgets/base",
            "_model_module_version": "1.2.0",
            "_model_name": "LayoutModel",
            "_view_count": null,
            "_view_module": "@jupyter-widgets/base",
            "_view_module_version": "1.2.0",
            "_view_name": "LayoutView",
            "align_content": null,
            "align_items": null,
            "align_self": null,
            "border": null,
            "bottom": null,
            "display": null,
            "flex": null,
            "flex_flow": null,
            "grid_area": null,
            "grid_auto_columns": null,
            "grid_auto_flow": null,
            "grid_auto_rows": null,
            "grid_column": null,
            "grid_gap": null,
            "grid_row": null,
            "grid_template_areas": null,
            "grid_template_columns": null,
            "grid_template_rows": null,
            "height": null,
            "justify_content": null,
            "justify_items": null,
            "left": null,
            "margin": null,
            "max_height": null,
            "max_width": null,
            "min_height": null,
            "min_width": null,
            "object_fit": null,
            "object_position": null,
            "order": null,
            "overflow": null,
            "overflow_x": null,
            "overflow_y": null,
            "padding": null,
            "right": null,
            "top": null,
            "visibility": null,
            "width": null
          }
        },
        "c5696b874cbd476b8bba8e2617c6d5e4": {
          "model_module": "@jupyter-widgets/controls",
          "model_name": "ProgressStyleModel",
          "model_module_version": "1.5.0",
          "state": {
            "_model_module": "@jupyter-widgets/controls",
            "_model_module_version": "1.5.0",
            "_model_name": "ProgressStyleModel",
            "_view_count": null,
            "_view_module": "@jupyter-widgets/base",
            "_view_module_version": "1.2.0",
            "_view_name": "StyleView",
            "bar_color": null,
            "description_width": ""
          }
        },
        "791881cf0fa8440aabc30d36f4c1017a": {
          "model_module": "@jupyter-widgets/base",
          "model_name": "LayoutModel",
          "model_module_version": "1.2.0",
          "state": {
            "_model_module": "@jupyter-widgets/base",
            "_model_module_version": "1.2.0",
            "_model_name": "LayoutModel",
            "_view_count": null,
            "_view_module": "@jupyter-widgets/base",
            "_view_module_version": "1.2.0",
            "_view_name": "LayoutView",
            "align_content": null,
            "align_items": null,
            "align_self": null,
            "border": null,
            "bottom": null,
            "display": null,
            "flex": null,
            "flex_flow": null,
            "grid_area": null,
            "grid_auto_columns": null,
            "grid_auto_flow": null,
            "grid_auto_rows": null,
            "grid_column": null,
            "grid_gap": null,
            "grid_row": null,
            "grid_template_areas": null,
            "grid_template_columns": null,
            "grid_template_rows": null,
            "height": null,
            "justify_content": null,
            "justify_items": null,
            "left": null,
            "margin": null,
            "max_height": null,
            "max_width": null,
            "min_height": null,
            "min_width": null,
            "object_fit": null,
            "object_position": null,
            "order": null,
            "overflow": null,
            "overflow_x": null,
            "overflow_y": null,
            "padding": null,
            "right": null,
            "top": null,
            "visibility": null,
            "width": null
          }
        },
        "7ff7f24860814545b983f3f6df1f0b1d": {
          "model_module": "@jupyter-widgets/controls",
          "model_name": "DescriptionStyleModel",
          "model_module_version": "1.5.0",
          "state": {
            "_model_module": "@jupyter-widgets/controls",
            "_model_module_version": "1.5.0",
            "_model_name": "DescriptionStyleModel",
            "_view_count": null,
            "_view_module": "@jupyter-widgets/base",
            "_view_module_version": "1.2.0",
            "_view_name": "StyleView",
            "description_width": ""
          }
        }
      }
    }
  },
  "cells": [
    {
      "cell_type": "markdown",
      "source": [
        "# library"
      ],
      "metadata": {
        "id": "GUSFZYMoMRjy"
      }
    },
    {
      "cell_type": "code",
      "execution_count": 16,
      "metadata": {
        "id": "3Ojy-95hMKd1"
      },
      "outputs": [],
      "source": [
        "import torch\n",
        "import torch.nn as nn\n",
        "import torch.optim as optim\n",
        "import torchvision\n",
        "import torchvision.transforms as transforms\n",
        "\n",
        "from tqdm.auto import tqdm\n",
        "\n",
        "import torchvision.models.vgg as vgg"
      ]
    },
    {
      "cell_type": "markdown",
      "source": [
        "# hyperparameter"
      ],
      "metadata": {
        "id": "AaewXE7_MZP4"
      }
    },
    {
      "cell_type": "code",
      "source": [
        "device = 'cuda' if torch.cuda.is_available() else 'cpu'\n",
        "\n",
        "torch.manual_seed(777)\n",
        "if device == 'cuda':\n",
        "    torch.cuda.manual_seed_all(777)"
      ],
      "metadata": {
        "id": "zsTDGp0_MYRF"
      },
      "execution_count": 2,
      "outputs": []
    },
    {
      "cell_type": "code",
      "source": [],
      "metadata": {
        "id": "EEDSz3vbMizw"
      },
      "execution_count": null,
      "outputs": []
    },
    {
      "cell_type": "markdown",
      "source": [
        "# dataset"
      ],
      "metadata": {
        "id": "-l8_lFs7Mnoh"
      }
    },
    {
      "cell_type": "code",
      "source": [
        "transform = transforms.Compose([\n",
        "    transforms.ToTensor(),\n",
        "    transforms.Normalize((0.5, 0.5, 0.5), (0.5, 0.5, 0.5))\n",
        "])"
      ],
      "metadata": {
        "id": "gvsQerGLMoYQ"
      },
      "execution_count": 3,
      "outputs": []
    },
    {
      "cell_type": "code",
      "source": [
        "train_dataset = torchvision.datasets.CIFAR10(root = './cifar10', train= True,\n",
        "                                             download = True, transform = transform)\n",
        "\n",
        "test_dataset = torchvision.datasets.CIFAR10(root = './cifar10', train = False,\n",
        "                                            download = True, transform = transform)\n",
        "\n",
        "train_loader = torch.utils.data.DataLoader(train_dataset, batch_size = 512, shuffle = True, num_workers = 0)"
      ],
      "metadata": {
        "colab": {
          "base_uri": "https://localhost:8080/"
        },
        "id": "l2VA6wU0Mwdg",
        "outputId": "1f8e103c-705c-459f-b76c-8d8053af8bc5"
      },
      "execution_count": 4,
      "outputs": [
        {
          "output_type": "stream",
          "name": "stdout",
          "text": [
            "Downloading https://www.cs.toronto.edu/~kriz/cifar-10-python.tar.gz to ./cifar10/cifar-10-python.tar.gz\n"
          ]
        },
        {
          "output_type": "stream",
          "name": "stderr",
          "text": [
            "100%|██████████| 170498071/170498071 [00:13<00:00, 12984311.41it/s]\n"
          ]
        },
        {
          "output_type": "stream",
          "name": "stdout",
          "text": [
            "Extracting ./cifar10/cifar-10-python.tar.gz to ./cifar10\n",
            "Files already downloaded and verified\n"
          ]
        }
      ]
    },
    {
      "cell_type": "code",
      "source": [
        "classes = ('plane', 'car', 'bird', 'cat', 'deer', 'dog', 'frog', 'horse', 'ship', 'truck')"
      ],
      "metadata": {
        "id": "97l7X3-XNI_R"
      },
      "execution_count": 5,
      "outputs": []
    },
    {
      "cell_type": "code",
      "source": [],
      "metadata": {
        "id": "tzylsgkYNSaN"
      },
      "execution_count": null,
      "outputs": []
    },
    {
      "cell_type": "markdown",
      "source": [
        "# model"
      ],
      "metadata": {
        "id": "mTVaeSapNUIk"
      }
    },
    {
      "cell_type": "code",
      "source": [
        "cfg = [32, 32, 'M', 64, 64, 128, 128, 128, 'M', 256, 256, 256, 512, 512, 512, 'M']"
      ],
      "metadata": {
        "id": "uJmAZuxuNUs6"
      },
      "execution_count": 6,
      "outputs": []
    },
    {
      "cell_type": "code",
      "source": [
        "class VGG(nn.Module):\n",
        "\n",
        "    def __init__(self, features, num_classes = 1000, init_weights = True):\n",
        "\n",
        "        super(VGG, self).__init__()\n",
        "\n",
        "        self.features = features\n",
        "        #self.avgpool = nn.AdaptiveAvgPool2d((7,7))\n",
        "\n",
        "        self.classifier = nn.Sequential(\n",
        "            nn.Linear(512 * 4 * 4, 4096),\n",
        "            nn.ReLU(True),\n",
        "            nn.Dropout(),\n",
        "            nn.Linear(4096, 4096),\n",
        "            nn.ReLU(True),\n",
        "            nn.Dropout(),\n",
        "            nn.Linear(4096, num_classes),\n",
        "        )\n",
        "\n",
        "        if init_weights:\n",
        "\n",
        "            self._initialize_weights()\n",
        "\n",
        "    def forward(self, x):\n",
        "\n",
        "        x = self.features(x)\n",
        "        #x = self.avgpool(x)\n",
        "        x = x.view(x.size(0), -1)\n",
        "        x = self.classifier(x)\n",
        "\n",
        "        return x\n",
        "\n",
        "    def _initialize_weights(self):\n",
        "\n",
        "        for m in self.modules():\n",
        "\n",
        "            if isinstance(m, nn.Conv2d):\n",
        "\n",
        "                nn.init.kaiming_normal_(m.weight, mode='fan_out', nonlinearity = 'relu')\n",
        "\n",
        "                if m.bias is not None:\n",
        "\n",
        "                    nn.init.constant_(m.bias, 0)\n",
        "\n",
        "            elif isinstance(m, nn.BatchNorm2d):\n",
        "\n",
        "                nn.init.constant_(m.weight, 1)\n",
        "                nn.init.constant_(m.bias, 0)\n",
        "\n",
        "            elif isinstance(m, nn.Linear):\n",
        "\n",
        "                nn.init.normal_(m.weight, 0, 0.01)\n",
        "                nn.init.constant_(m.bias, 0)\n",
        ""
      ],
      "metadata": {
        "id": "h3KqCxpENadp"
      },
      "execution_count": 7,
      "outputs": []
    },
    {
      "cell_type": "code",
      "source": [
        "vgg16 = VGG(vgg.make_layers(cfg), 10, True).to(device)"
      ],
      "metadata": {
        "id": "h9kdnSdKOkjz"
      },
      "execution_count": 8,
      "outputs": []
    },
    {
      "cell_type": "code",
      "source": [
        "# test\n",
        "\n",
        "a = torch.Tensor(1,3,32,32).to(device)\n",
        "out = vgg16(a)\n",
        "print(out)"
      ],
      "metadata": {
        "colab": {
          "base_uri": "https://localhost:8080/"
        },
        "id": "_15u_5cWOsZi",
        "outputId": "f3e865f9-3cae-48d3-9ce4-ae301387f2e1"
      },
      "execution_count": 9,
      "outputs": [
        {
          "output_type": "stream",
          "name": "stdout",
          "text": [
            "tensor([[ 173835.7812, -217598.6406,    1402.0488,  -59023.4102,  112366.3125,\n",
            "         -388747.0625,  -36495.2891,   90450.8672,  310690.5938, -374813.8750]],\n",
            "       device='cuda:0', grad_fn=<AddmmBackward0>)\n"
          ]
        }
      ]
    },
    {
      "cell_type": "code",
      "source": [],
      "metadata": {
        "id": "xiCJy_jMO04a"
      },
      "execution_count": null,
      "outputs": []
    },
    {
      "cell_type": "markdown",
      "source": [
        "# training"
      ],
      "metadata": {
        "id": "T5sdXd05O22y"
      }
    },
    {
      "cell_type": "code",
      "source": [
        "criterion = nn.CrossEntropyLoss().to(device)\n",
        "optimizer = torch.optim.SGD(vgg16.parameters(), lr = 0.005, momentum = 0.9)\n",
        "\n",
        "#stepsize로 정한 것 마다 epoch 돌때 원래 learning rate에 gamma를 곱하여 새로운 learning rate로 한 뒤 epoch을 돌게함\n",
        "lr_sche = optim.lr_scheduler.StepLR(optimizer, step_size = 5, gamma = 0.9)"
      ],
      "metadata": {
        "id": "tLrbv_2_O3aj"
      },
      "execution_count": 10,
      "outputs": []
    },
    {
      "cell_type": "code",
      "source": [
        "vgg16.train()\n",
        "\n",
        "epochs = 50\n",
        "\n",
        "for epoch in range(epochs):\n",
        "\n",
        "    running_loss = 0.0\n",
        "    lr_sche.step()\n",
        "\n",
        "    for i,data in enumerate(train_loader, 0):\n",
        "\n",
        "        inputs, labels = data\n",
        "        inputs = inputs.to(device)\n",
        "        labels = labels.to(device)\n",
        "\n",
        "        optimizer.zero_grad()\n",
        "\n",
        "        outputs = vgg16(inputs)\n",
        "\n",
        "        loss = criterion(outputs, labels)\n",
        "\n",
        "        loss.backward()\n",
        "        optimizer.step()\n",
        "\n",
        "        running_loss += loss.item()\n",
        "\n",
        "        if i % 30 == 29:\n",
        "\n",
        "            print('[%d, %5d] loss: %.3f' % (epoch + 1, i + 1, running_loss / 30))\n",
        "\n",
        "            running_loss = 0.0\n",
        "\n",
        "print('finished training')"
      ],
      "metadata": {
        "colab": {
          "base_uri": "https://localhost:8080/"
        },
        "id": "jV_PRLHEPGkw",
        "outputId": "1ea2e83d-807e-46af-e095-851307db20de"
      },
      "execution_count": 11,
      "outputs": [
        {
          "output_type": "stream",
          "name": "stderr",
          "text": [
            "/usr/local/lib/python3.10/dist-packages/torch/optim/lr_scheduler.py:139: UserWarning: Detected call of `lr_scheduler.step()` before `optimizer.step()`. In PyTorch 1.1.0 and later, you should call them in the opposite order: `optimizer.step()` before `lr_scheduler.step()`.  Failure to do this will result in PyTorch skipping the first value of the learning rate schedule. See more details at https://pytorch.org/docs/stable/optim.html#how-to-adjust-learning-rate\n",
            "  warnings.warn(\"Detected call of `lr_scheduler.step()` before `optimizer.step()`. \"\n"
          ]
        },
        {
          "output_type": "stream",
          "name": "stdout",
          "text": [
            "[1,    30] loss: 2.302\n",
            "[1,    60] loss: 2.297\n",
            "[1,    90] loss: 2.276\n",
            "[2,    30] loss: 2.172\n",
            "[2,    60] loss: 2.090\n",
            "[2,    90] loss: 1.990\n",
            "[3,    30] loss: 1.879\n",
            "[3,    60] loss: 1.791\n",
            "[3,    90] loss: 1.739\n",
            "[4,    30] loss: 1.668\n",
            "[4,    60] loss: 1.600\n",
            "[4,    90] loss: 1.566\n",
            "[5,    30] loss: 1.498\n",
            "[5,    60] loss: 1.479\n",
            "[5,    90] loss: 1.420\n",
            "[6,    30] loss: 1.395\n",
            "[6,    60] loss: 1.381\n",
            "[6,    90] loss: 1.323\n",
            "[7,    30] loss: 1.289\n",
            "[7,    60] loss: 1.274\n",
            "[7,    90] loss: 1.236\n",
            "[8,    30] loss: 1.193\n",
            "[8,    60] loss: 1.183\n",
            "[8,    90] loss: 1.132\n",
            "[9,    30] loss: 1.105\n",
            "[9,    60] loss: 1.074\n",
            "[9,    90] loss: 1.062\n",
            "[10,    30] loss: 1.020\n",
            "[10,    60] loss: 1.014\n",
            "[10,    90] loss: 1.071\n",
            "[11,    30] loss: 0.970\n",
            "[11,    60] loss: 0.969\n",
            "[11,    90] loss: 0.957\n",
            "[12,    30] loss: 0.903\n",
            "[12,    60] loss: 0.918\n",
            "[12,    90] loss: 0.919\n",
            "[13,    30] loss: 0.875\n",
            "[13,    60] loss: 0.875\n",
            "[13,    90] loss: 0.849\n",
            "[14,    30] loss: 0.809\n",
            "[14,    60] loss: 0.823\n",
            "[14,    90] loss: 0.828\n",
            "[15,    30] loss: 0.771\n",
            "[15,    60] loss: 0.761\n",
            "[15,    90] loss: 0.768\n",
            "[16,    30] loss: 0.728\n",
            "[16,    60] loss: 0.738\n",
            "[16,    90] loss: 0.723\n",
            "[17,    30] loss: 0.691\n",
            "[17,    60] loss: 0.675\n",
            "[17,    90] loss: 0.696\n",
            "[18,    30] loss: 0.644\n",
            "[18,    60] loss: 0.645\n",
            "[18,    90] loss: 0.650\n",
            "[19,    30] loss: 0.596\n",
            "[19,    60] loss: 0.614\n",
            "[19,    90] loss: 0.612\n",
            "[20,    30] loss: 0.561\n",
            "[20,    60] loss: 0.571\n",
            "[20,    90] loss: 0.561\n",
            "[21,    30] loss: 0.523\n",
            "[21,    60] loss: 0.531\n",
            "[21,    90] loss: 0.539\n",
            "[22,    30] loss: 0.504\n",
            "[22,    60] loss: 0.484\n",
            "[22,    90] loss: 0.488\n",
            "[23,    30] loss: 0.473\n",
            "[23,    60] loss: 0.477\n",
            "[23,    90] loss: 0.464\n",
            "[24,    30] loss: 0.415\n",
            "[24,    60] loss: 0.419\n",
            "[24,    90] loss: 0.430\n",
            "[25,    30] loss: 0.371\n",
            "[25,    60] loss: 0.377\n",
            "[25,    90] loss: 0.382\n",
            "[26,    30] loss: 0.326\n",
            "[26,    60] loss: 0.358\n",
            "[26,    90] loss: 0.365\n",
            "[27,    30] loss: 0.295\n",
            "[27,    60] loss: 0.300\n",
            "[27,    90] loss: 0.316\n",
            "[28,    30] loss: 0.271\n",
            "[28,    60] loss: 0.280\n",
            "[28,    90] loss: 0.289\n",
            "[29,    30] loss: 0.230\n",
            "[29,    60] loss: 0.236\n",
            "[29,    90] loss: 0.262\n",
            "[30,    30] loss: 0.212\n",
            "[30,    60] loss: 0.194\n",
            "[30,    90] loss: 0.223\n",
            "[31,    30] loss: 0.165\n",
            "[31,    60] loss: 0.182\n",
            "[31,    90] loss: 0.197\n",
            "[32,    30] loss: 0.151\n",
            "[32,    60] loss: 0.146\n",
            "[32,    90] loss: 0.170\n",
            "[33,    30] loss: 0.143\n",
            "[33,    60] loss: 0.146\n",
            "[33,    90] loss: 0.148\n",
            "[34,    30] loss: 0.130\n",
            "[34,    60] loss: 0.125\n",
            "[34,    90] loss: 0.128\n",
            "[35,    30] loss: 0.108\n",
            "[35,    60] loss: 0.098\n",
            "[35,    90] loss: 0.107\n",
            "[36,    30] loss: 0.084\n",
            "[36,    60] loss: 0.089\n",
            "[36,    90] loss: 0.092\n",
            "[37,    30] loss: 0.076\n",
            "[37,    60] loss: 0.079\n",
            "[37,    90] loss: 0.090\n",
            "[38,    30] loss: 0.073\n",
            "[38,    60] loss: 0.075\n",
            "[38,    90] loss: 0.070\n",
            "[39,    30] loss: 0.072\n",
            "[39,    60] loss: 0.060\n",
            "[39,    90] loss: 0.092\n",
            "[40,    30] loss: 0.061\n",
            "[40,    60] loss: 0.057\n",
            "[40,    90] loss: 0.059\n",
            "[41,    30] loss: 0.047\n",
            "[41,    60] loss: 0.054\n",
            "[41,    90] loss: 0.051\n",
            "[42,    30] loss: 0.041\n",
            "[42,    60] loss: 0.047\n",
            "[42,    90] loss: 0.049\n",
            "[43,    30] loss: 0.044\n",
            "[43,    60] loss: 0.046\n",
            "[43,    90] loss: 0.054\n",
            "[44,    30] loss: 0.043\n",
            "[44,    60] loss: 0.042\n",
            "[44,    90] loss: 0.046\n",
            "[45,    30] loss: 0.034\n",
            "[45,    60] loss: 0.032\n",
            "[45,    90] loss: 0.028\n",
            "[46,    30] loss: 0.031\n",
            "[46,    60] loss: 0.030\n",
            "[46,    90] loss: 0.032\n",
            "[47,    30] loss: 0.028\n",
            "[47,    60] loss: 0.026\n",
            "[47,    90] loss: 0.028\n",
            "[48,    30] loss: 0.027\n",
            "[48,    60] loss: 0.018\n",
            "[48,    90] loss: 0.019\n",
            "[49,    30] loss: 0.022\n",
            "[49,    60] loss: 0.021\n",
            "[49,    90] loss: 0.025\n",
            "[50,    30] loss: 0.023\n",
            "[50,    60] loss: 0.020\n",
            "[50,    90] loss: 0.017\n",
            "finished training\n"
          ]
        }
      ]
    },
    {
      "cell_type": "code",
      "source": [],
      "metadata": {
        "id": "qkvZRQMEP8AI"
      },
      "execution_count": null,
      "outputs": []
    },
    {
      "cell_type": "markdown",
      "source": [
        "# test"
      ],
      "metadata": {
        "id": "Xb9_55gsXydG"
      }
    },
    {
      "cell_type": "code",
      "source": [
        "test_loader = torch.utils.data.DataLoader(test_dataset, batch_size = 512, shuffle = False, num_workers = 0)\n",
        "\n",
        "data_iter = iter(test_loader)\n",
        "\n",
        "#https://dacon.io/forum/407531\n",
        "images, labels = next(data_iter)\n",
        "\n",
        "print('groundTruth:', ' '.join('%5s'%classes[labels[j]] for j in range(4)))"
      ],
      "metadata": {
        "colab": {
          "base_uri": "https://localhost:8080/"
        },
        "id": "B64KOIUQXzAm",
        "outputId": "f13a7369-7f90-497f-d5c7-4d3f5a6bcb38"
      },
      "execution_count": 14,
      "outputs": [
        {
          "output_type": "stream",
          "name": "stdout",
          "text": [
            "groundTruth:   cat  ship  ship plane\n"
          ]
        }
      ]
    },
    {
      "cell_type": "code",
      "source": [
        "vgg16.eval()\n",
        "\n",
        "outputs = vgg16(images.to(device))\n",
        "\n",
        "_, predicted = torch.max(outputs, 1)\n",
        "\n",
        "print('predicted:', ' '.join('%5s' % classes[predicted[j]] for j in range(4)))"
      ],
      "metadata": {
        "colab": {
          "base_uri": "https://localhost:8080/"
        },
        "id": "3q6xRnY1YL9R",
        "outputId": "453a2dd7-b4dd-4bbb-cf29-f0627d3c0381"
      },
      "execution_count": 15,
      "outputs": [
        {
          "output_type": "stream",
          "name": "stdout",
          "text": [
            "predicted:   cat  ship  ship plane\n"
          ]
        }
      ]
    },
    {
      "cell_type": "code",
      "source": [
        "correct = 0\n",
        "total = 0\n",
        "\n",
        "vgg16.eval()\n",
        "\n",
        "with torch.no_grad():\n",
        "\n",
        "    for data in tqdm(test_loader):\n",
        "\n",
        "        images, labels = data\n",
        "\n",
        "        images = images.to(device)\n",
        "        labels = labels.to(device)\n",
        "        outputs = vgg16(images)\n",
        "\n",
        "        _, predicted = torch.max(outputs.data, 1)\n",
        "\n",
        "        total += labels.size(0)\n",
        "\n",
        "        correct += (predicted == labels).sum().item()\n",
        "\n",
        "print('accuracy of the network on the 10000 test images: %d %%' %(\n",
        "    100*correct/total\n",
        "))"
      ],
      "metadata": {
        "colab": {
          "base_uri": "https://localhost:8080/",
          "height": 67,
          "referenced_widgets": [
            "fe953b39e0a54c8db534bb829bc2b0cb",
            "77fe8dc1e06e45159266535d5341e771",
            "3e76ef67aede4f0f82dedf522429be76",
            "f8dff48e1c8d406a804f3ad93c97caf3",
            "fc9b188bb023414a993d59714bcc6166",
            "ed141e28cb01422c996f462a77d4cf81",
            "61c40cdc4ed649be8dc966509b9b029d",
            "72a85492200a4f55b091336532949d69",
            "c5696b874cbd476b8bba8e2617c6d5e4",
            "791881cf0fa8440aabc30d36f4c1017a",
            "7ff7f24860814545b983f3f6df1f0b1d"
          ]
        },
        "id": "10RvOEmpY5ux",
        "outputId": "7cf7209d-4a39-4181-e337-744d11e23533"
      },
      "execution_count": 17,
      "outputs": [
        {
          "output_type": "display_data",
          "data": {
            "text/plain": [
              "  0%|          | 0/20 [00:00<?, ?it/s]"
            ],
            "application/vnd.jupyter.widget-view+json": {
              "version_major": 2,
              "version_minor": 0,
              "model_id": "fe953b39e0a54c8db534bb829bc2b0cb"
            }
          },
          "metadata": {}
        },
        {
          "output_type": "stream",
          "name": "stdout",
          "text": [
            "accuracy of the network on the 10000 test images: 78 %\n"
          ]
        }
      ]
    },
    {
      "cell_type": "code",
      "source": [],
      "metadata": {
        "id": "_k2izPTPZaFp"
      },
      "execution_count": null,
      "outputs": []
    }
  ]
}
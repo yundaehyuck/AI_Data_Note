{
  "nbformat": 4,
  "nbformat_minor": 0,
  "metadata": {
    "colab": {
      "provenance": [],
      "gpuType": "T4"
    },
    "kernelspec": {
      "name": "python3",
      "display_name": "Python 3"
    },
    "language_info": {
      "name": "python"
    },
    "accelerator": "GPU"
  },
  "cells": [
    {
      "cell_type": "code",
      "execution_count": 1,
      "metadata": {
        "id": "bGJt3jrQesZi"
      },
      "outputs": [],
      "source": [
        "import torch\n",
        "import torch.nn as nn\n",
        "import torch.nn.init\n",
        "import torchvision.datasets as datasets\n",
        "import torchvision.transforms as transforms"
      ]
    },
    {
      "cell_type": "code",
      "source": [],
      "metadata": {
        "id": "8JJX6BS_fITa"
      },
      "execution_count": null,
      "outputs": []
    },
    {
      "cell_type": "markdown",
      "source": [
        "# convolutional layer"
      ],
      "metadata": {
        "id": "J4vXgyAPfKkP"
      }
    },
    {
      "cell_type": "code",
      "source": [
        "conv = nn.Conv2d(1,1,11,stride = 4, padding = 0)\n",
        "print(conv)"
      ],
      "metadata": {
        "colab": {
          "base_uri": "https://localhost:8080/"
        },
        "id": "aX8usEkrfLl1",
        "outputId": "421f44de-8faa-4986-d56c-c1a5289bd8ce"
      },
      "execution_count": 2,
      "outputs": [
        {
          "output_type": "stream",
          "name": "stdout",
          "text": [
            "Conv2d(1, 1, kernel_size=(11, 11), stride=(4, 4))\n"
          ]
        }
      ]
    },
    {
      "cell_type": "code",
      "source": [
        "#batch size * channel * width * height\n",
        "inputs = torch.Tensor(1,1,227,227)"
      ],
      "metadata": {
        "id": "DxpE_9dbfPNy"
      },
      "execution_count": 3,
      "outputs": []
    },
    {
      "cell_type": "code",
      "source": [
        "out = conv(inputs)\n",
        "print(out.shape)"
      ],
      "metadata": {
        "colab": {
          "base_uri": "https://localhost:8080/"
        },
        "id": "HNcbGX6SfUx-",
        "outputId": "dffb1c83-3888-484a-9e3b-94953be47996"
      },
      "execution_count": 4,
      "outputs": [
        {
          "output_type": "stream",
          "name": "stdout",
          "text": [
            "torch.Size([1, 1, 55, 55])\n"
          ]
        }
      ]
    },
    {
      "cell_type": "code",
      "source": [
        "conv = nn.Conv2d(1,1,7,stride = 2, padding = 0)\n",
        "\n",
        "inputs = torch.Tensor(1,1,64,64)\n",
        "\n",
        "out = conv(inputs)\n",
        "\n",
        "print(out.shape)"
      ],
      "metadata": {
        "colab": {
          "base_uri": "https://localhost:8080/"
        },
        "id": "UNJ3I7_ffYyc",
        "outputId": "8a027ddf-d170-4bcb-cc75-6d19124d7d30"
      },
      "execution_count": 5,
      "outputs": [
        {
          "output_type": "stream",
          "name": "stdout",
          "text": [
            "torch.Size([1, 1, 29, 29])\n"
          ]
        }
      ]
    },
    {
      "cell_type": "code",
      "source": [
        "conv = nn.Conv2d(1,1,5,stride = 1, padding = 2)\n",
        "\n",
        "inputs = torch.Tensor(1,1,32,32)\n",
        "\n",
        "out = conv(inputs)\n",
        "\n",
        "print(out.shape)"
      ],
      "metadata": {
        "colab": {
          "base_uri": "https://localhost:8080/"
        },
        "id": "mTL9CrCLfg8K",
        "outputId": "fb9aa52a-873d-4dbd-cef6-9bed98209bf3"
      },
      "execution_count": 6,
      "outputs": [
        {
          "output_type": "stream",
          "name": "stdout",
          "text": [
            "torch.Size([1, 1, 32, 32])\n"
          ]
        }
      ]
    },
    {
      "cell_type": "code",
      "source": [
        "inputs = torch.Tensor(1,1,32,64)\n",
        "\n",
        "conv = nn.Conv2d(1,1,5)\n",
        "\n",
        "out = conv(inputs)\n",
        "\n",
        "print(out.shape)"
      ],
      "metadata": {
        "colab": {
          "base_uri": "https://localhost:8080/"
        },
        "id": "UdvmAJWOfoMz",
        "outputId": "119b84ab-dce8-459b-b15f-f5071b91b98f"
      },
      "execution_count": 7,
      "outputs": [
        {
          "output_type": "stream",
          "name": "stdout",
          "text": [
            "torch.Size([1, 1, 28, 60])\n"
          ]
        }
      ]
    },
    {
      "cell_type": "code",
      "source": [
        "inputs = torch.Tensor(1,1,64,32)\n",
        "\n",
        "conv = nn.Conv2d(1,1,3,1,1)\n",
        "\n",
        "out = conv(inputs)\n",
        "\n",
        "print(out.shape)"
      ],
      "metadata": {
        "colab": {
          "base_uri": "https://localhost:8080/"
        },
        "id": "A_ko8Hyjfvyr",
        "outputId": "d27905de-0254-4fbf-b665-1c7cc4f07f96"
      },
      "execution_count": 8,
      "outputs": [
        {
          "output_type": "stream",
          "name": "stdout",
          "text": [
            "torch.Size([1, 1, 64, 32])\n"
          ]
        }
      ]
    },
    {
      "cell_type": "code",
      "source": [
        "#maxpooling\n",
        "\n",
        "inputs = torch.Tensor(1,1,28,28)\n",
        "\n",
        "conv1 = nn.Conv2d(1,5,5)\n",
        "\n",
        "pool = nn.MaxPool2d(2)\n",
        "\n",
        "out = conv1(inputs)\n",
        "\n",
        "print(out.shape)"
      ],
      "metadata": {
        "colab": {
          "base_uri": "https://localhost:8080/"
        },
        "id": "igG-aHk1f36n",
        "outputId": "f6e17f32-de90-4b82-d3bd-b1194b7565eb"
      },
      "execution_count": 9,
      "outputs": [
        {
          "output_type": "stream",
          "name": "stdout",
          "text": [
            "torch.Size([1, 5, 24, 24])\n"
          ]
        }
      ]
    },
    {
      "cell_type": "code",
      "source": [
        "out2 = pool(out)\n",
        "\n",
        "print(out2.size())"
      ],
      "metadata": {
        "colab": {
          "base_uri": "https://localhost:8080/"
        },
        "id": "21iIJVrGgBNh",
        "outputId": "513eeeab-0123-4066-dc90-399bebba0dea"
      },
      "execution_count": 10,
      "outputs": [
        {
          "output_type": "stream",
          "name": "stdout",
          "text": [
            "torch.Size([1, 5, 12, 12])\n"
          ]
        }
      ]
    },
    {
      "cell_type": "code",
      "source": [],
      "metadata": {
        "id": "_wBkArG6gD5S"
      },
      "execution_count": null,
      "outputs": []
    },
    {
      "cell_type": "markdown",
      "source": [
        "# convolutional neural network"
      ],
      "metadata": {
        "id": "0RkQxyg3iC7K"
      }
    },
    {
      "cell_type": "code",
      "source": [
        "#cuda를 사용가능하면 cuda쓰고 그렇지 않으면 cpu로 연산\n",
        "\n",
        "device = 'cuda' if torch.cuda.is_available() else 'cpu'\n",
        "\n",
        "torch.manual_seed(777)\n",
        "\n",
        "if device == 'cuda':\n",
        "\n",
        "    torch.cuda.manual_seed_all(777)"
      ],
      "metadata": {
        "id": "FMpM6kYniF6Z"
      },
      "execution_count": 11,
      "outputs": []
    },
    {
      "cell_type": "code",
      "source": [
        "learning_rate = 0.001\n",
        "\n",
        "training_epochs = 15\n",
        "\n",
        "batch_size = 100"
      ],
      "metadata": {
        "id": "vbfHLT_tjtt0"
      },
      "execution_count": 12,
      "outputs": []
    },
    {
      "cell_type": "code",
      "source": [
        "mnist_train = datasets.MNIST(root = 'MNIST_data/',\n",
        "                             train = True,\n",
        "                             transform = transforms.ToTensor(),\n",
        "                             download = True)\n",
        "\n",
        "mnist_test = datasets.MNIST(root = 'MNIST_data/',\n",
        "                            train = False,\n",
        "                            transform = transforms.ToTensor(),\n",
        "                            download = True)"
      ],
      "metadata": {
        "colab": {
          "base_uri": "https://localhost:8080/"
        },
        "id": "rRev8Tv6jx-J",
        "outputId": "6ffc1697-1c85-4c1e-ec68-af9b7fc74366"
      },
      "execution_count": 13,
      "outputs": [
        {
          "output_type": "stream",
          "name": "stdout",
          "text": [
            "Downloading http://yann.lecun.com/exdb/mnist/train-images-idx3-ubyte.gz\n",
            "Downloading http://yann.lecun.com/exdb/mnist/train-images-idx3-ubyte.gz to MNIST_data/MNIST/raw/train-images-idx3-ubyte.gz\n"
          ]
        },
        {
          "output_type": "stream",
          "name": "stderr",
          "text": [
            "100%|██████████| 9912422/9912422 [00:00<00:00, 352988667.57it/s]"
          ]
        },
        {
          "output_type": "stream",
          "name": "stdout",
          "text": [
            "Extracting MNIST_data/MNIST/raw/train-images-idx3-ubyte.gz to MNIST_data/MNIST/raw\n"
          ]
        },
        {
          "output_type": "stream",
          "name": "stderr",
          "text": [
            "\n"
          ]
        },
        {
          "output_type": "stream",
          "name": "stdout",
          "text": [
            "\n",
            "Downloading http://yann.lecun.com/exdb/mnist/train-labels-idx1-ubyte.gz\n",
            "Downloading http://yann.lecun.com/exdb/mnist/train-labels-idx1-ubyte.gz to MNIST_data/MNIST/raw/train-labels-idx1-ubyte.gz\n"
          ]
        },
        {
          "output_type": "stream",
          "name": "stderr",
          "text": [
            "100%|██████████| 28881/28881 [00:00<00:00, 40910399.81it/s]\n"
          ]
        },
        {
          "output_type": "stream",
          "name": "stdout",
          "text": [
            "Extracting MNIST_data/MNIST/raw/train-labels-idx1-ubyte.gz to MNIST_data/MNIST/raw\n",
            "\n",
            "Downloading http://yann.lecun.com/exdb/mnist/t10k-images-idx3-ubyte.gz\n",
            "Downloading http://yann.lecun.com/exdb/mnist/t10k-images-idx3-ubyte.gz to MNIST_data/MNIST/raw/t10k-images-idx3-ubyte.gz\n"
          ]
        },
        {
          "output_type": "stream",
          "name": "stderr",
          "text": [
            "100%|██████████| 1648877/1648877 [00:00<00:00, 145907960.01it/s]\n"
          ]
        },
        {
          "output_type": "stream",
          "name": "stdout",
          "text": [
            "Extracting MNIST_data/MNIST/raw/t10k-images-idx3-ubyte.gz to MNIST_data/MNIST/raw\n",
            "\n",
            "Downloading http://yann.lecun.com/exdb/mnist/t10k-labels-idx1-ubyte.gz\n",
            "Downloading http://yann.lecun.com/exdb/mnist/t10k-labels-idx1-ubyte.gz to MNIST_data/MNIST/raw/t10k-labels-idx1-ubyte.gz\n"
          ]
        },
        {
          "output_type": "stream",
          "name": "stderr",
          "text": [
            "100%|██████████| 4542/4542 [00:00<00:00, 21453298.16it/s]\n"
          ]
        },
        {
          "output_type": "stream",
          "name": "stdout",
          "text": [
            "Extracting MNIST_data/MNIST/raw/t10k-labels-idx1-ubyte.gz to MNIST_data/MNIST/raw\n",
            "\n"
          ]
        }
      ]
    },
    {
      "cell_type": "code",
      "source": [
        "data_loader = torch.utils.data.DataLoader(dataset = mnist_train,\n",
        "                                          batch_size = batch_size,\n",
        "                                          shuffle = True,\n",
        "                                          drop_last = True)"
      ],
      "metadata": {
        "id": "wZEGaxPjkCn9"
      },
      "execution_count": 14,
      "outputs": []
    },
    {
      "cell_type": "code",
      "source": [
        "class CNN(nn.Module):\n",
        "\n",
        "    def __init__(self):\n",
        "\n",
        "        super(CNN, self).__init__()\n",
        "        self.layer1 = nn.Sequential(\n",
        "            nn.Conv2d(1,32,3,1,1),\n",
        "            nn.ReLU(),\n",
        "            nn.MaxPool2d(kernel_size = 2, stride = 2)\n",
        "        )\n",
        "        self.layer2 = nn.Sequential(\n",
        "            nn.Conv2d(32,64,3,1,1),\n",
        "            nn.ReLU(),\n",
        "            nn.MaxPool2d(2,2)\n",
        "        )\n",
        "        self.fc = nn.Linear(7*7*64,10,bias=True)\n",
        "        nn.init.xavier_uniform_(self.fc.weight)\n",
        "\n",
        "    def forward(self, x):\n",
        "\n",
        "        out = self.layer1(x)\n",
        "        out = self.layer2(out)\n",
        "        out = out.view(out.size(0), -1)\n",
        "        out = self.fc(out)\n",
        "\n",
        "        return out"
      ],
      "metadata": {
        "id": "9PoCpF1ikZdr"
      },
      "execution_count": 15,
      "outputs": []
    },
    {
      "cell_type": "code",
      "source": [
        "model = CNN().to(device)\n",
        "\n",
        "criterion = nn.CrossEntropyLoss().to(device)\n",
        "optimizer = torch.optim.Adam(model.parameters(), lr = learning_rate)"
      ],
      "metadata": {
        "id": "NGqHNETdlXrb"
      },
      "execution_count": 16,
      "outputs": []
    },
    {
      "cell_type": "code",
      "source": [
        "#training\n",
        "\n",
        "total_batch = len(data_loader)\n",
        "\n",
        "print('learning started. it takes sometime.')\n",
        "\n",
        "for epoch in range(training_epochs):\n",
        "\n",
        "    avg_cost = 0\n",
        "\n",
        "    for x,y in data_loader:\n",
        "\n",
        "        x = x.to(device)\n",
        "        y = y.to(device)\n",
        "\n",
        "        optimizer.zero_grad()\n",
        "        hypothesis = model(x)\n",
        "        cost = criterion(hypothesis, y)\n",
        "        cost.backward()\n",
        "        optimizer.step()\n",
        "\n",
        "        avg_cost += cost/total_batch\n",
        "\n",
        "    print('[epoch: {:>4}] cost = {:>.9}'.format(epoch + 1, avg_cost))\n",
        "\n",
        "print('learning finished!')"
      ],
      "metadata": {
        "colab": {
          "base_uri": "https://localhost:8080/"
        },
        "id": "2L1wMkejlhJj",
        "outputId": "7623e32c-143c-4172-bda6-b4d6bca97d72"
      },
      "execution_count": 17,
      "outputs": [
        {
          "output_type": "stream",
          "name": "stdout",
          "text": [
            "learning started. it takes sometime.\n",
            "[epoch:    1] cost = 0.225768194\n",
            "[epoch:    2] cost = 0.0628905743\n",
            "[epoch:    3] cost = 0.0459176786\n",
            "[epoch:    4] cost = 0.0370514505\n",
            "[epoch:    5] cost = 0.030701058\n",
            "[epoch:    6] cost = 0.0256532989\n",
            "[epoch:    7] cost = 0.0215865672\n",
            "[epoch:    8] cost = 0.0178725924\n",
            "[epoch:    9] cost = 0.0158482194\n",
            "[epoch:   10] cost = 0.0131860338\n",
            "[epoch:   11] cost = 0.00994244777\n",
            "[epoch:   12] cost = 0.00945247989\n",
            "[epoch:   13] cost = 0.00831384677\n",
            "[epoch:   14] cost = 0.00686546415\n",
            "[epoch:   15] cost = 0.00635658158\n",
            "learning finished!\n"
          ]
        }
      ]
    },
    {
      "cell_type": "code",
      "source": [
        "#test\n",
        "\n",
        "with torch.no_grad():\n",
        "\n",
        "    x_test = mnist_test.test_data.view(len(mnist_test), 1,28,28).float().to(device)\n",
        "    y_test = mnist_test.test_labels.to(device)\n",
        "\n",
        "    prediction = model(x_test)\n",
        "    correct_prediction = torch.argmax(prediction, 1) == y_test\n",
        "    accuracy = correct_prediction.float().mean()\n",
        "\n",
        "    print('accuracy:', accuracy.item())"
      ],
      "metadata": {
        "colab": {
          "base_uri": "https://localhost:8080/"
        },
        "id": "fk86pg7al9uP",
        "outputId": "f05f622e-1683-477e-e6cc-59daebbfc121"
      },
      "execution_count": 18,
      "outputs": [
        {
          "output_type": "stream",
          "name": "stdout",
          "text": [
            "accuracy: 0.9874999523162842\n"
          ]
        },
        {
          "output_type": "stream",
          "name": "stderr",
          "text": [
            "/usr/local/lib/python3.10/dist-packages/torchvision/datasets/mnist.py:80: UserWarning: test_data has been renamed data\n",
            "  warnings.warn(\"test_data has been renamed data\")\n",
            "/usr/local/lib/python3.10/dist-packages/torchvision/datasets/mnist.py:70: UserWarning: test_labels has been renamed targets\n",
            "  warnings.warn(\"test_labels has been renamed targets\")\n"
          ]
        }
      ]
    },
    {
      "cell_type": "code",
      "source": [],
      "metadata": {
        "id": "DBE16BManAnp"
      },
      "execution_count": null,
      "outputs": []
    },
    {
      "cell_type": "markdown",
      "source": [
        "# 3-layer convolutional neural network"
      ],
      "metadata": {
        "id": "9tCti0yunfl0"
      }
    },
    {
      "cell_type": "code",
      "source": [
        "class CNN(nn.Module):\n",
        "\n",
        "    def __init__(self):\n",
        "\n",
        "        super(CNN, self).__init__()\n",
        "\n",
        "        self.keep_prob = 0.5\n",
        "\n",
        "        self.layer1 = nn.Sequential(\n",
        "            nn.Conv2d(1,32,3,1,1),\n",
        "            nn.ReLU(),\n",
        "            nn.MaxPool2d(2,2)\n",
        "        )\n",
        "\n",
        "        self.layer2 = nn.Sequential(\n",
        "            nn.Conv2d(32,64,3,1,1),\n",
        "            nn.ReLU(),\n",
        "            nn.MaxPool2d(2,2)\n",
        "        )\n",
        "\n",
        "        self.layer3 = nn.Sequential(\n",
        "            nn.Conv2d(64,128,3,1,1),\n",
        "            nn.ReLU(),\n",
        "            nn.MaxPool2d(2,2,1)\n",
        "        )\n",
        "\n",
        "        self.fc1 = nn.Linear(4*4*128,625,bias=True)\n",
        "        torch.nn.init.xavier_uniform_(self.fc1.weight)\n",
        "\n",
        "        self.layer4 = nn.Sequential(\n",
        "            self.fc1,\n",
        "            nn.ReLU(),\n",
        "            nn.Dropout(p = 1 - self.keep_prob)\n",
        "        )\n",
        "\n",
        "        self.fc2 = nn.Linear(625,10,bias=True)\n",
        "        torch.nn.init.xavier_uniform_(self.fc2.weight)\n",
        "\n",
        "    def forward(self, x):\n",
        "\n",
        "        out = self.layer1(x)\n",
        "\n",
        "        out = self.layer2(out)\n",
        "\n",
        "        out = self.layer3(out)\n",
        "\n",
        "        out = out.view(out.size(0), -1)\n",
        "\n",
        "        out = self.layer4(out)\n",
        "\n",
        "        out = self.fc2(out)\n",
        "\n",
        "        return out"
      ],
      "metadata": {
        "id": "SrR7nNafniO7"
      },
      "execution_count": 21,
      "outputs": []
    },
    {
      "cell_type": "code",
      "source": [
        "model = CNN().to(device)\n",
        "\n",
        "criterion = torch.nn.CrossEntropyLoss().to(device)\n",
        "\n",
        "optimizer = torch.optim.Adam(model.parameters(), lr = learning_rate)"
      ],
      "metadata": {
        "id": "--IJt3fCowd1"
      },
      "execution_count": 22,
      "outputs": []
    },
    {
      "cell_type": "code",
      "source": [
        "#training\n",
        "\n",
        "total_batch = len(data_loader)\n",
        "\n",
        "model.train()\n",
        "\n",
        "print('learning started. it takes sometimes.')\n",
        "\n",
        "for epoch in range(training_epochs):\n",
        "\n",
        "    avg_cost = 0\n",
        "\n",
        "    for x,y in data_loader:\n",
        "\n",
        "        x = x.to(device)\n",
        "        y = y.to(device)\n",
        "\n",
        "        optimizer.zero_grad()\n",
        "        hypothesis = model(x)\n",
        "        cost = criterion(hypothesis, y)\n",
        "        cost.backward()\n",
        "        optimizer.step()\n",
        "\n",
        "        avg_cost += cost/total_batch\n",
        "\n",
        "    print('[epoch: {:>4}] cost = {:>.9}'.format(epoch + 1, avg_cost))\n",
        "\n",
        "print('learning finished')"
      ],
      "metadata": {
        "colab": {
          "base_uri": "https://localhost:8080/"
        },
        "id": "DJ5EQ-QqpCb_",
        "outputId": "b0bf20af-ab63-4241-9347-0f4c28850ee7"
      },
      "execution_count": 23,
      "outputs": [
        {
          "output_type": "stream",
          "name": "stdout",
          "text": [
            "learning started. it takes sometimes.\n",
            "[epoch:    1] cost = 0.190349147\n",
            "[epoch:    2] cost = 0.0532114543\n",
            "[epoch:    3] cost = 0.0345323943\n",
            "[epoch:    4] cost = 0.0288517717\n",
            "[epoch:    5] cost = 0.0227231309\n",
            "[epoch:    6] cost = 0.018948324\n",
            "[epoch:    7] cost = 0.0155169722\n",
            "[epoch:    8] cost = 0.0133096781\n",
            "[epoch:    9] cost = 0.0121802473\n",
            "[epoch:   10] cost = 0.011527976\n",
            "[epoch:   11] cost = 0.00939154811\n",
            "[epoch:   12] cost = 0.00802323502\n",
            "[epoch:   13] cost = 0.00867515523\n",
            "[epoch:   14] cost = 0.0071749799\n",
            "[epoch:   15] cost = 0.00773326587\n",
            "learning finished\n"
          ]
        }
      ]
    },
    {
      "cell_type": "code",
      "source": [
        "#test\n",
        "\n",
        "with torch.no_grad():\n",
        "\n",
        "    model.eval()\n",
        "\n",
        "    x_test = mnist_test.test_data.view(len(mnist_test), 1, 28, 28).float().to(device)\n",
        "    y_test = mnist_test.test_labels.to(device)\n",
        "\n",
        "    prediction = model(x_test)\n",
        "    correct_prediction = torch.argmax(prediction, 1) == y_test\n",
        "    accuracy = correct_prediction.float().mean()\n",
        "\n",
        "    print('accuracy:', accuracy.item())"
      ],
      "metadata": {
        "colab": {
          "base_uri": "https://localhost:8080/"
        },
        "id": "Oabuvp_uql4j",
        "outputId": "1de74254-3763-45f9-85d8-f4d7b2be9474"
      },
      "execution_count": 24,
      "outputs": [
        {
          "output_type": "stream",
          "name": "stdout",
          "text": [
            "accuracy: 0.9752999544143677\n"
          ]
        },
        {
          "output_type": "stream",
          "name": "stderr",
          "text": [
            "/usr/local/lib/python3.10/dist-packages/torchvision/datasets/mnist.py:80: UserWarning: test_data has been renamed data\n",
            "  warnings.warn(\"test_data has been renamed data\")\n",
            "/usr/local/lib/python3.10/dist-packages/torchvision/datasets/mnist.py:70: UserWarning: test_labels has been renamed targets\n",
            "  warnings.warn(\"test_labels has been renamed targets\")\n"
          ]
        }
      ]
    },
    {
      "cell_type": "code",
      "source": [],
      "metadata": {
        "id": "4RQySs9orAes"
      },
      "execution_count": null,
      "outputs": []
    }
  ]
}